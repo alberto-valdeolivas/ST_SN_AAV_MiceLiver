{
 "cells": [
  {
   "cell_type": "code",
   "execution_count": null,
   "id": "7085d9be-9b2c-41fa-9a91-29999a4ce044",
   "metadata": {
    "tags": []
   },
   "outputs": [],
   "source": [
    "import sys\n",
    "import os\n",
    "import scanpy as sc\n",
    "import anndata as ad\n",
    "import pandas as pd\n",
    "import numpy as np\n",
    "import matplotlib.pyplot as plt\n",
    "import matplotlib as mpl\n",
    "\n",
    "# import cell2location\n",
    "# import scvi\n",
    "\n",
    "from matplotlib import rcParams\n",
    "rcParams['pdf.fonttype'] = 42 # enables correct plotting of text for PDFs"
   ]
  },
  {
   "cell_type": "code",
   "execution_count": null,
   "id": "87abd4cc-fcf3-45c1-85c6-98b433d8e783",
   "metadata": {
    "tags": []
   },
   "outputs": [],
   "source": [
    "root_path = os.getcwd()"
   ]
  },
  {
   "cell_type": "code",
   "execution_count": null,
   "id": "79dc406e-807e-4c58-8760-ad92c8ee5db7",
   "metadata": {
    "tags": []
   },
   "outputs": [],
   "source": [
    "results_folder = os.path.join(root_path, 'deconvolution')\n",
    "# ref_run_name =  os.path.join(results_folder, 'reference_signatures') \n",
    "run_name = os.path.join(results_folder, 'RCTD')  "
   ]
  },
  {
   "cell_type": "code",
   "execution_count": null,
   "id": "98c8ad21-0a58-4f6b-b605-e82d2608ac6e",
   "metadata": {
    "tags": []
   },
   "outputs": [],
   "source": [
    "run_name"
   ]
  },
  {
   "cell_type": "code",
   "execution_count": null,
   "id": "053588b2-351f-40a5-9bd2-b79c86773ffb",
   "metadata": {
    "tags": []
   },
   "outputs": [],
   "source": [
    "csv_files = [f for f in os.listdir(run_name) if f.endswith('.csv')]"
   ]
  },
  {
   "cell_type": "code",
   "execution_count": null,
   "id": "a875b662-d76b-4cdb-9a81-214fb199d6ae",
   "metadata": {
    "tags": []
   },
   "outputs": [],
   "source": [
    "csv_files"
   ]
  },
  {
   "cell_type": "code",
   "execution_count": null,
   "id": "fd3d7b5c-1e19-4fb6-b4f3-a1b710fbde94",
   "metadata": {
    "tags": []
   },
   "outputs": [],
   "source": [
    "dfs = []\n",
    "\n",
    "# Loop through the list of .csv files and read each file into a DataFrame\n",
    "for file in csv_files:\n",
    "    file_path = os.path.join(run_name, file)\n",
    "    df = pd.read_csv(file_path)\n",
    "    dfs.append(df)\n",
    "\n",
    "# Concatenate all the DataFrames\n",
    "concatenated_df = pd.concat(dfs, ignore_index=True)\n",
    "concatenated_df.set_index('spot_id_barcode', inplace = True)"
   ]
  },
  {
   "cell_type": "code",
   "execution_count": null,
   "id": "3e4c25a8-9ef7-4d13-98db-145c2aee06d9",
   "metadata": {
    "tags": []
   },
   "outputs": [],
   "source": [
    "concatenated_df"
   ]
  },
  {
   "cell_type": "code",
   "execution_count": null,
   "id": "6cc0eb9a-d739-4651-a34b-4128875a53cb",
   "metadata": {
    "tags": []
   },
   "outputs": [],
   "source": [
    "results_zonation_folder = os.path.join(root_path, 'analyzed', 'zonation')\n",
    "file_names = [f for f in os.listdir(results_zonation_folder) if os.path.isfile(os.path.join(results_zonation_folder, f))]\n",
    "\n",
    "adata_list = [ad.read(os.path.join(results_zonation_folder, file)) for file in file_names if file.endswith('.h5ad')]"
   ]
  },
  {
   "cell_type": "code",
   "execution_count": null,
   "id": "16fa9b64-5c57-4140-bd23-5a918533c559",
   "metadata": {
    "tags": []
   },
   "outputs": [],
   "source": [
    "adata_list[1].obs"
   ]
  },
  {
   "cell_type": "code",
   "execution_count": null,
   "id": "98e75e66-1ac8-4a82-9aa2-c111e0e55469",
   "metadata": {
    "tags": []
   },
   "outputs": [],
   "source": [
    "# Combine anndata objects together\n",
    "adata_concat = sc.concat(\n",
    "    adata_list,\n",
    "    label=\"library_id\",\n",
    "    uns_merge=\"unique\",\n",
    "    keys=[\n",
    "        k\n",
    "        for d in [adata.uns[\"spatial\"] for adata in adata_list]\n",
    "        for k, v in d.items()\n",
    "    ],\n",
    "    index_unique=\"-\",\n",
    "    join='outer',\n",
    ")"
   ]
  },
  {
   "cell_type": "code",
   "execution_count": null,
   "id": "55163b23-f626-4286-b3c6-9acd4ad1c6a8",
   "metadata": {
    "tags": []
   },
   "outputs": [],
   "source": [
    "adata_concat.obs"
   ]
  },
  {
   "cell_type": "code",
   "execution_count": null,
   "id": "e07a9d00-68f5-4c70-be05-1c10fab67e9d",
   "metadata": {
    "tags": []
   },
   "outputs": [],
   "source": [
    "df_merged_zonation = pd.merge(concatenated_df, pd.DataFrame(adata_concat.obs[['Condition', 'Gender','zonation']]),  left_index=True, right_index=True)"
   ]
  },
  {
   "cell_type": "code",
   "execution_count": null,
   "id": "33374f66-9796-408a-91ac-db3a9c322bb4",
   "metadata": {
    "tags": []
   },
   "outputs": [],
   "source": [
    "df_merged_zonation"
   ]
  },
  {
   "cell_type": "code",
   "execution_count": null,
   "id": "cd0b08e0-9323-4476-8e26-3bcc71c3ab0a",
   "metadata": {
    "tags": []
   },
   "outputs": [],
   "source": [
    "df_merged_zonation['all_conditions'] = df_merged_zonation['Gender'].astype(str) + '-' + df_merged_zonation['zonation'].astype(str) + '-' + df_merged_zonation['Condition'].astype(str)\n",
    "df_merged_zonation['sex_treatment'] = df_merged_zonation['Gender'].astype(str) + '-'  + df_merged_zonation['Condition'].astype(str)\n",
    "df_merged_zonation['sex_zonation'] = df_merged_zonation['Gender'].astype(str) + '-'  + df_merged_zonation['zonation'].astype(str)\n",
    "df_merged_zonation['zonation_treatment'] = df_merged_zonation['zonation'].astype(str) + '-'  + df_merged_zonation['Condition'].astype(str)"
   ]
  },
  {
   "cell_type": "code",
   "execution_count": null,
   "id": "50fd7d16-f2b3-4fad-a9ed-3e32a5c065d4",
   "metadata": {
    "tags": []
   },
   "outputs": [],
   "source": [
    "df_merged_zonation"
   ]
  },
  {
   "cell_type": "code",
   "execution_count": null,
   "id": "75dd8970-3dc9-4c0a-96c7-f4b58b0fac63",
   "metadata": {
    "tags": []
   },
   "outputs": [],
   "source": [
    "cell_types = df_merged_zonation.columns[3:32]"
   ]
  },
  {
   "cell_type": "code",
   "execution_count": null,
   "id": "e0171e8c-f552-4494-bc12-b8fbaa8382c4",
   "metadata": {
    "tags": []
   },
   "outputs": [],
   "source": [
    "# EDA: Plotting the distribution of a cell type across conditions\n",
    "import seaborn as sns\n",
    "\n",
    "for current_celltype in cell_types: \n",
    "    sns.boxplot(x='all_conditions', y=current_celltype, data=df_merged_zonation, showfliers=False)\n",
    "    plt.xticks(rotation=90)\n",
    "    plt.show()"
   ]
  },
  {
   "cell_type": "code",
   "execution_count": null,
   "id": "d8647cf9-69b8-40bc-a744-979027184540",
   "metadata": {},
   "outputs": [],
   "source": [
    "for current_celltype in cell_types: \n",
    "    sns.boxplot(x='Gender', y=current_celltype, data=df_merged_zonation, showfliers=False)\n",
    "    plt.xticks(rotation=90)\n",
    "    plt.show()"
   ]
  },
  {
   "cell_type": "code",
   "execution_count": null,
   "id": "00121928-29be-410e-b779-eb8181ad0d89",
   "metadata": {},
   "outputs": [],
   "source": [
    "for current_celltype in cell_types: \n",
    "    sns.boxplot(x='Condition', y=current_celltype, data=df_merged_zonation, showfliers=False)\n",
    "    plt.xticks(rotation=90)\n",
    "    plt.show()"
   ]
  },
  {
   "cell_type": "code",
   "execution_count": null,
   "id": "25d6c9dc-4c74-4f47-9bf7-7c6a5e159963",
   "metadata": {},
   "outputs": [],
   "source": [
    "for current_celltype in cell_types: \n",
    "    sns.boxplot(x='zonation', y=current_celltype, data=df_merged_zonation, showfliers=False)\n",
    "    plt.xticks(rotation=90)\n",
    "    plt.show()"
   ]
  },
  {
   "cell_type": "code",
   "execution_count": null,
   "id": "1968d776-3c23-4fc6-8095-5c3f3ab54d37",
   "metadata": {},
   "outputs": [],
   "source": [
    "for current_celltype in cell_types: \n",
    "    sns.boxplot(x='sex_treatment', y=current_celltype, data=df_merged_zonation, showfliers=False)\n",
    "    plt.xticks(rotation=90)\n",
    "    plt.show()"
   ]
  },
  {
   "cell_type": "code",
   "execution_count": null,
   "id": "05aca4bc-7553-4b99-9719-418be0d17079",
   "metadata": {},
   "outputs": [],
   "source": [
    "for current_celltype in cell_types: \n",
    "    sns.boxplot(x='sex_zonation', y=current_celltype, data=df_merged_zonation, showfliers=False)\n",
    "    plt.xticks(rotation=90)\n",
    "    plt.show()"
   ]
  },
  {
   "cell_type": "code",
   "execution_count": null,
   "id": "d8e75e8a-6185-4302-afc8-35660d31cd61",
   "metadata": {},
   "outputs": [],
   "source": [
    "for current_celltype in cell_types: \n",
    "    sns.boxplot(x='zonation_treatment', y=current_celltype, data=df_merged_zonation, showfliers=False)\n",
    "    plt.xticks(rotation=90)\n",
    "    plt.show()"
   ]
  },
  {
   "cell_type": "code",
   "execution_count": null,
   "id": "60495f6c-64e1-4200-b34a-eeac598b0173",
   "metadata": {
    "tags": []
   },
   "outputs": [],
   "source": [
    "! jupyter nbconvert --to html 22c_Deconvolution_RCTD_Downstream.ipynb"
   ]
  },
  {
   "cell_type": "code",
   "execution_count": null,
   "id": "de4bb951-572e-47b0-b71e-9a5aaa83266e",
   "metadata": {},
   "outputs": [],
   "source": []
  }
 ],
 "metadata": {
  "kernelspec": {
   "display_name": "BeSpace_basic_env",
   "language": "python",
   "name": "bespace_basic_env"
  },
  "language_info": {
   "codemirror_mode": {
    "name": "ipython",
    "version": 3
   },
   "file_extension": ".py",
   "mimetype": "text/x-python",
   "name": "python",
   "nbconvert_exporter": "python",
   "pygments_lexer": "ipython3",
   "version": "3.9.18"
  }
 },
 "nbformat": 4,
 "nbformat_minor": 5
}
