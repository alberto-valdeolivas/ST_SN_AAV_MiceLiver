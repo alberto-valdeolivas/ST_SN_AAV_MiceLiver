{
 "cells": [
  {
   "cell_type": "markdown",
   "id": "b3e8e5e2-51f4-407b-98de-097608d5d346",
   "metadata": {},
   "source": [
    "# Gene expression exploration of relevant receptors in male mice treated with AAV9"
   ]
  },
  {
   "cell_type": "markdown",
   "id": "82ffc67e-485f-4940-aa02-9b750d5d0f8c",
   "metadata": {},
   "source": [
    "In this script, we first explore the spatial gene expression maps of some receptros that, according to the literature, could be of potential interest for the internalization of the AAV. Then, we will use [LIANA+](https://www.biorxiv.org/content/10.1101/2023.08.19.553863v1) and their spatially-informed bivariate metrics to identify pairs of co-expressed receptors with the transgene. In particular, we will focus on males treated with AAV9 in this script. "
   ]
  },
  {
   "cell_type": "code",
   "execution_count": null,
   "id": "bf98cb2c-701b-46aa-886f-6f11294662a8",
   "metadata": {
    "tags": []
   },
   "outputs": [],
   "source": [
    "import pandas as pd\n",
    "import scanpy as sc\n",
    "import plotnine as p9\n",
    "import liana as li\n",
    "import os\n",
    "import anndata as ad\n",
    "import numpy as np\n",
    "from scipy.stats import combine_pvalues\n",
    "from matplotlib import pyplot as plt\n",
    "import seaborn as sns\n",
    "\n",
    "from mudata import MuData"
   ]
  },
  {
   "cell_type": "code",
   "execution_count": null,
   "id": "2f01a5ac-556b-472e-b5c4-30bc2ade41fe",
   "metadata": {
    "tags": []
   },
   "outputs": [],
   "source": [
    "def combine_row_pvalues(row):\n",
    "    # Filter out NaN values if necessary\n",
    "    p_values = row.dropna()\n",
    "    # Apply Fisher's method to combine p-values\n",
    "    _, combined_p = combine_pvalues(p_values, method='fisher')\n",
    "    return combined_p"
   ]
  },
  {
   "cell_type": "code",
   "execution_count": null,
   "id": "1aa91576-d0ff-4ba7-8d76-fe0b0fca0fe9",
   "metadata": {
    "tags": []
   },
   "outputs": [],
   "source": [
    "# Automatically re-load wrapper functions after an update\n",
    "# Find details here: https://ipython.readthedocs.io/en/stable/config/extensions/autoreload.html\n",
    "%load_ext autoreload\n",
    "%autoreload 2"
   ]
  },
  {
   "cell_type": "code",
   "execution_count": null,
   "id": "c5b0a62a-adac-49ae-88f6-6fa5e7980393",
   "metadata": {
    "tags": []
   },
   "outputs": [],
   "source": [
    "root_path = os.getcwd()\n",
    "inpath='your_inpath_folder' # Replace with the location of your samples\n",
    "results_folder = os.path.join(root_path, 'analyzed', 'zonation')"
   ]
  },
  {
   "cell_type": "markdown",
   "id": "a67ddefe-9d07-4c95-8e0b-820c5904de45",
   "metadata": {},
   "source": [
    "We read our pre-processed anndata objects and we select the males treated with AAV9 "
   ]
  },
  {
   "cell_type": "code",
   "execution_count": null,
   "id": "c0a59031-c0e6-4c61-8dd6-42e709f51d27",
   "metadata": {
    "tags": []
   },
   "outputs": [],
   "source": [
    "file_names = [f for f in os.listdir(results_folder) if os.path.isfile(os.path.join(results_folder, f))]\n",
    "\n",
    "adata_list = [ad.read(os.path.join(results_folder, file)) for file in file_names if file.endswith('.h5ad')]"
   ]
  },
  {
   "cell_type": "markdown",
   "id": "cc3b746a-8147-45d1-b235-82349b629115",
   "metadata": {},
   "source": [
    "## Exploration of the Spatial distrbution of the Expression of some relevant receptors"
   ]
  },
  {
   "cell_type": "markdown",
   "id": "51cb41e8-9cc9-478b-ae5a-32faaa091de5",
   "metadata": {},
   "source": [
    "We first, explore the expression of some receptors that according to the literature are relevant for the internalization of the AAV. "
   ]
  },
  {
   "cell_type": "code",
   "execution_count": null,
   "id": "f6b62d19-6d31-4109-97a3-4df52ce17048",
   "metadata": {
    "tags": []
   },
   "outputs": [],
   "source": [
    "receptors_set = [\n",
    "    'Met',\n",
    "    'AU040320',\n",
    "    'Fgfr1',\n",
    "    'Hspg2',\n",
    "    'Rpsa',\n",
    "    'Cd9',\n",
    "    'Itgb5',\n",
    "    'Itgav',\n",
    "    'Itgb1',\n",
    "] "
   ]
  },
  {
   "cell_type": "markdown",
   "id": "c816ab9b-ee13-403e-bc02-4df8361a129c",
   "metadata": {},
   "source": [
    "## Spatially-informed Bivariate Metrics"
   ]
  },
  {
   "cell_type": "markdown",
   "id": "d9e6252f-e18d-472c-84e0-3fff5089a91a",
   "metadata": {},
   "source": [
    "Here, we will use [LIANA+](https://www.biorxiv.org/content/10.1101/2023.08.19.553863v1) to compute spatially informed local scores that in order to help identifying receptors that are spatially co-expressed with the transgene. and therefore are more likely to be involved in the internalization of the AAV. In particular, we will use spatially informed cosine similarity. We extracted the list of receptors from [CellCommuNet](https://academic.oup.com/nar/advance-article/doi/10.1093/nar/gkad906/7321072?login=true). To get receptors that are relevant in mice liver, we filtered by mus musculus, normal condition, study type single, and tissue liver. Of note, the complexes have human nomenclature,so I will drop them. We also extracted mouse genes from uniprot that are annotated as SL-0039 as subcellular location term.  "
   ]
  },
  {
   "cell_type": "code",
   "execution_count": null,
   "id": "31dae755-881d-447b-8b37-86940ec5273f",
   "metadata": {},
   "outputs": [],
   "source": [
    "df_cell_interactions = pd.read_csv('CellCommResults.csv')\n",
    "df_cell_interactions"
   ]
  },
  {
   "cell_type": "code",
   "execution_count": null,
   "id": "2359e067-94fe-4e41-a08b-e32b7fb72305",
   "metadata": {
    "tags": []
   },
   "outputs": [],
   "source": [
    "Uniprot_receptors_df =  pd.read_csv(\"uniprotkb_cc_scl_term_SL_0039_AND_model_2024_04_22.tsv\", sep=\"\\t\")\n",
    "Uniprot_receptors = Uniprot_receptors_df['Gene Names'].unique().tolist()\n",
    "Uniprot_receptors = [record for record in Uniprot_receptors if isinstance(record, str)]\n",
    "## There are many records that contain more than one gene. I trey to split them: \n",
    "Uniprot_receptors_individual = [gene for record in Uniprot_receptors for gene in record.split()]"
   ]
  },
  {
   "cell_type": "code",
   "execution_count": null,
   "id": "f57d365d-7cfe-4436-872d-fef403267c0e",
   "metadata": {
    "tags": []
   },
   "outputs": [],
   "source": [
    "receptors = df_cell_interactions['Receptor'].unique().tolist() + receptors_set + Uniprot_receptors_individual"
   ]
  },
  {
   "cell_type": "code",
   "execution_count": null,
   "id": "b2d768a5-7f52-4b3b-b879-c224ab2bb4ed",
   "metadata": {
    "tags": []
   },
   "outputs": [],
   "source": [
    "receptors = list(set(receptors))\n",
    "len(receptors)"
   ]
  },
  {
   "cell_type": "markdown",
   "id": "bafb065c-e915-450b-ba6e-54a8fd2980c9",
   "metadata": {},
   "source": [
    "This is the list of spatially informed bivarite metrics. As described above, we will used the spatially weigthed cosine similarity. "
   ]
  },
  {
   "cell_type": "code",
   "execution_count": null,
   "id": "b345f820-014c-41a4-a022-e2244d0814de",
   "metadata": {},
   "outputs": [],
   "source": [
    "li.method.bivar.show_functions()"
   ]
  },
  {
   "cell_type": "code",
   "execution_count": null,
   "id": "f43a93bb-826f-4873-8afb-7f6e9e0552ad",
   "metadata": {
    "tags": []
   },
   "outputs": [],
   "source": [
    "plot, _ = li.ut.query_bandwidth(coordinates=adata_list[0].obsm['spatial'], start=0, end=500, interval_n=20)\n",
    "plot + p9.scale_y_continuous(breaks=range(0, 500, 5))"
   ]
  },
  {
   "cell_type": "markdown",
   "id": "1cc40ada-182f-44a0-9c4b-c201227f79b8",
   "metadata": {},
   "source": [
    "We generate our own data frame of ligand receptor interactions. The ligand is also the transgene and the receptors are the ones described above"
   ]
  },
  {
   "cell_type": "code",
   "execution_count": null,
   "id": "36068b44-ff44-486f-9516-3ced021f441f",
   "metadata": {
    "tags": []
   },
   "outputs": [],
   "source": [
    "df_ligand_receptor_int = pd.DataFrame({'ligand': 'cisAAV-CMV-GFP-WPRE', 'receptor' : receptors})"
   ]
  },
  {
   "cell_type": "code",
   "execution_count": null,
   "id": "a0ac23b8-f257-40c7-88c2-f74e95562cca",
   "metadata": {
    "tags": []
   },
   "outputs": [],
   "source": [
    "df_ligand_receptor_int"
   ]
  },
  {
   "cell_type": "markdown",
   "id": "885f98f9-2fa6-4cb4-bfc4-696c0ae8515c",
   "metadata": {},
   "source": [
    "## Males AAV9"
   ]
  },
  {
   "cell_type": "code",
   "execution_count": null,
   "id": "5897ef0c-f3f0-4581-a2ef-e3047bbcd08a",
   "metadata": {},
   "outputs": [],
   "source": [
    "adata_list_males_AVV9 = []\n",
    "\n",
    "for adata in adata_list:\n",
    "    \n",
    "    if adata.obs['Gender'].unique()[0] == 'Male' and adata.obs['Condition'].unique()[0] == 'AAV9-CMV-GFP': \n",
    "        adata_list_males_AVV9.append(adata)        "
   ]
  },
  {
   "cell_type": "code",
   "execution_count": null,
   "id": "36e7e6e5-a58f-4155-a504-095edd89b643",
   "metadata": {
    "tags": []
   },
   "outputs": [],
   "source": [
    "adata_list_males_AVV9[0].obs"
   ]
  },
  {
   "cell_type": "code",
   "execution_count": null,
   "id": "31544bdc-2462-439e-a877-d897811665c4",
   "metadata": {},
   "outputs": [],
   "source": [
    "from itertools import product\n",
    "result_list_adata = []\n",
    "\n",
    "for adata in adata_list_males_AVV9: \n",
    "    \n",
    "    \n",
    "    li.ut.spatial_neighbors(adata, bandwidth=150, cutoff=0.1, kernel='gaussian', set_diag=True)\n",
    "    \n",
    "    li.mt.lr_bivar(adata,\n",
    "               function_name='morans', # Name of the function\n",
    "               resource=df_ligand_receptor_int,\n",
    "               n_perms=1000, # Number of permutations to calculate a p-value\n",
    "               mask_negatives=False, # Whether to mask LowLow/NegativeNegative interactions\n",
    "               add_categories=True, # Whether to add local categories to the results\n",
    "               expr_prop=0.2, # Minimum expr. proportion for ligands/receptors and their subunits\n",
    "               use_raw=False,\n",
    "               verbose=True)\n",
    "    \n",
    "    result_list_adata.append(adata)"
   ]
  },
  {
   "cell_type": "code",
   "execution_count": null,
   "id": "5fbe1a72-cb06-4cdd-8bec-dc843d285d0c",
   "metadata": {
    "tags": []
   },
   "outputs": [],
   "source": [
    "## Compute corrected p-values \n",
    "result_list_adata[0].obsm['local_scores'].var.sort_values(by='morans_r', ascending=False).head(35)\n",
    "# result_list_adata[0].obsm['local_scores'].var.sort_values(by='mean', ascending=False).head(35)"
   ]
  },
  {
   "cell_type": "code",
   "execution_count": null,
   "id": "fbc6bb29-5738-4613-a343-00688d7789c3",
   "metadata": {
    "tags": []
   },
   "outputs": [],
   "source": [
    "result_df = result_list_adata[0].obsm['local_scores'].var\n",
    "for current_adata in result_list_adata[1:]: \n",
    "    current_df = current_adata.obsm['local_scores'].var\n",
    "    result_df = result_df.merge(current_df, on='interaction', how='inner')"
   ]
  },
  {
   "cell_type": "code",
   "execution_count": null,
   "id": "3f58102b-bb02-4e40-9442-58760a58465c",
   "metadata": {
    "tags": []
   },
   "outputs": [],
   "source": [
    "average_morans = result_df[['morans_r', 'morans_r_x', 'morans_r_x']].mean(axis=1)"
   ]
  },
  {
   "cell_type": "code",
   "execution_count": null,
   "id": "8f8e641e-9df3-4b85-bb36-c7bb5ee654f8",
   "metadata": {
    "tags": []
   },
   "outputs": [],
   "source": [
    "combined_pvalues = result_df[['morans_pvals', 'morans_pvals_x', 'morans_pvals_y']].apply(combine_row_pvalues, axis=1)"
   ]
  },
  {
   "cell_type": "code",
   "execution_count": null,
   "id": "6ed4db95-e6b8-43df-a199-a787879d27d1",
   "metadata": {
    "tags": []
   },
   "outputs": [],
   "source": [
    "final_df = pd.DataFrame({\n",
    "    'ligand': result_df['ligand'],\n",
    "    'receptor': result_df['receptor'],\n",
    "    'interaction': result_df.index, \n",
    "    'average_morans': average_morans, \n",
    "    'abs_average_morans': abs(average_morans),\n",
    "    'combined_pvalues': combined_pvalues\n",
    "   })"
   ]
  },
  {
   "cell_type": "code",
   "execution_count": null,
   "id": "2d361f59-3d51-455c-9249-05a3acdbe712",
   "metadata": {
    "tags": []
   },
   "outputs": [],
   "source": [
    "final_df.sort_values(by='abs_average_morans', ascending=False).head(35)"
   ]
  },
  {
   "cell_type": "code",
   "execution_count": null,
   "id": "b61283c8-8d1c-4546-82bc-1f05b2c0a7ee",
   "metadata": {
    "tags": []
   },
   "outputs": [],
   "source": [
    "## Filtering by thresholds. \n",
    "pvalue_cutoff = 0.01\n",
    "# Morans_cutoff = 0.1\n",
    "Morans_cutoff = 0.025\n",
    "\n",
    "filtered_final_df = final_df[(final_df['abs_average_morans'] > Morans_cutoff) & (final_df['combined_pvalues'] < pvalue_cutoff)]\n",
    "\n",
    "filtered_final_df.to_csv('LianaResults/Males_AAV9_cc_scl_SL0039.csv', index=False)\n",
    "\n",
    "filtered_final_sorted_df_top20 = filtered_final_df.sort_values(by='average_morans', ascending=False).head(10)\n",
    "filtered_final_sorted_df_top20 = filtered_final_sorted_df_top20.sort_values('average_morans', ascending=True)"
   ]
  },
  {
   "cell_type": "code",
   "execution_count": null,
   "id": "7eb6688f-cf56-4a5f-8174-7cc70a2b60f8",
   "metadata": {
    "tags": []
   },
   "outputs": [],
   "source": [
    "colors = ['blue' if x < 0 else 'red' for x in filtered_final_sorted_df_top20['average_morans']]\n",
    "\n",
    "# Create the bar plot\n",
    "plt.figure(figsize=(8, 8))\n",
    "plt.barh(filtered_final_sorted_df_top20['receptor'], filtered_final_sorted_df_top20['average_morans'], color = colors)\n",
    "\n",
    "# Add labels and title if desired\n",
    "plt.xlabel('Average Moran\\'s I')\n",
    "plt.ylabel('Receptor')\n",
    "plt.title('Bar Plot of Average Moran\\'s I by Receptor')\n",
    "\n",
    "# Display the plot\n",
    "plt.show()"
   ]
  },
  {
   "cell_type": "code",
   "execution_count": null,
   "id": "01bda27b-4408-44ac-b15e-79c1b7e2fc8f",
   "metadata": {
    "tags": []
   },
   "outputs": [],
   "source": [
    "top_interactions = filtered_final_df.sort_values('average_morans', ascending=False).head(2).index\n",
    "top_receptors = filtered_final_df.sort_values('average_morans', ascending=False).head(2)['receptor'].tolist()\n",
    "### Adding plots requested by Bettina\n",
    "interactions_to_check = ['cisAAV-CMV-GFP-WPRE^Rpsa', 'cisAAV-CMV-GFP-WPRE^Slco1b2', 'cisAAV-CMV-GFP-WPRE^Pigr', 'cisAAV-CMV-GFP-WPRE^Fbp1']\n",
    "receptors_to_check = ['Rpsa','Slco1b2','Pigr','Fbp1']\n",
    "\n",
    "for current_adata in result_list_adata:\n",
    "    \n",
    "    sc.pl.spatial(current_adata.obsm['local_scores'], color=top_interactions, size=1.25, vmax=1, vmin=-1, cmap='coolwarm')\n",
    "    sc.pl.spatial(current_adata.obsm['local_scores'], layer='pvals', color=top_interactions, size=1.25, cmap=\"magma_r\")\n",
    "    sc.pl.spatial(current_adata.obsm['local_scores'], layer='cats', color=top_interactions, size=1.25, cmap=\"coolwarm\")\n",
    "\n",
    "    ## Aditional plots\n",
    "    \n",
    "    sc.pl.spatial(current_adata.obsm['local_scores'], color=interactions_to_check, size=1.25, vmax=1, vmin=-1, cmap='coolwarm', ncols= 2)\n",
    "    sc.pl.spatial(current_adata.obsm['local_scores'], layer='pvals', color=interactions_to_check, size=1.25, cmap=\"magma_r\", ncols = 2)\n",
    "    sc.pl.spatial(current_adata.obsm['local_scores'], layer='cats', color=interactions_to_check, size=1.25, cmap=\"coolwarm\", ncols = 2)\n",
    "    \n",
    "    \n",
    "for current_adata in adata_list_males_AVV9: \n",
    "    \n",
    "    sc.pl.spatial(current_adata, color =top_receptors, size=1.25)\n",
    "\n",
    "    ## Aditional plots\n",
    "\n",
    "    sc.pl.spatial(current_adata, color =receptors_to_check, size=1.25, ncols =2 )\n"
   ]
  },
  {
   "cell_type": "markdown",
   "id": "866c54fd-ea79-4f7a-b63c-88571b0a4ed5",
   "metadata": {},
   "source": [
    "## Males AAV2"
   ]
  },
  {
   "cell_type": "code",
   "execution_count": null,
   "id": "55b35133-9a94-48d7-b465-9f23fb7c30ef",
   "metadata": {},
   "outputs": [],
   "source": [
    "adata_list_males_AVV2 = []\n",
    "\n",
    "for adata in adata_list:\n",
    "    \n",
    "    if adata.obs['Gender'].unique()[0] == 'Male' and adata.obs['Condition'].unique()[0] == 'AAV2-CMV-GFP': \n",
    "        adata_list_males_AVV2.append(adata)        "
   ]
  },
  {
   "cell_type": "code",
   "execution_count": null,
   "id": "52a3dea6-dd38-43d5-9fc5-8779f5eb3cc2",
   "metadata": {
    "tags": []
   },
   "outputs": [],
   "source": [
    "adata_list_males_AVV2[0].obs"
   ]
  },
  {
   "cell_type": "code",
   "execution_count": null,
   "id": "fabbd138-0305-4af5-8fbb-9b48598e4e02",
   "metadata": {},
   "outputs": [],
   "source": [
    "from itertools import product\n",
    "result_list_adata = []\n",
    "\n",
    "for adata in adata_list_males_AVV2: \n",
    "    \n",
    "    \n",
    "    li.ut.spatial_neighbors(adata, bandwidth=150, cutoff=0.1, kernel='gaussian', set_diag=True)\n",
    "    \n",
    "    li.mt.lr_bivar(adata,\n",
    "               function_name='morans', # Name of the function\n",
    "               resource=df_ligand_receptor_int,\n",
    "               n_perms=1000, # Number of permutations to calculate a p-value\n",
    "               mask_negatives=False, # Whether to mask LowLow/NegativeNegative interactions\n",
    "               add_categories=True, # Whether to add local categories to the results\n",
    "               expr_prop=0.2, # Minimum expr. proportion for ligands/receptors and their subunits\n",
    "               use_raw=False,\n",
    "               verbose=True)\n",
    "    \n",
    "    result_list_adata.append(adata)"
   ]
  },
  {
   "cell_type": "code",
   "execution_count": null,
   "id": "d24b933a-b5f5-4561-bc8a-0635f023ec88",
   "metadata": {
    "tags": []
   },
   "outputs": [],
   "source": [
    "## Compute corrected p-values \n",
    "result_list_adata[0].obsm['local_scores'].var.sort_values(by='morans_r', ascending=False).head(35)"
   ]
  },
  {
   "cell_type": "code",
   "execution_count": null,
   "id": "44e817f8-454f-4a1c-8721-6df3cda435aa",
   "metadata": {
    "tags": []
   },
   "outputs": [],
   "source": [
    "result_df = result_list_adata[0].obsm['local_scores'].var\n",
    "for current_adata in result_list_adata[1:]: \n",
    "    current_df = current_adata.obsm['local_scores'].var\n",
    "    result_df = result_df.merge(current_df, on='interaction', how='inner')"
   ]
  },
  {
   "cell_type": "code",
   "execution_count": null,
   "id": "7c520ae0-0041-4ba7-9914-81857c08e958",
   "metadata": {
    "tags": []
   },
   "outputs": [],
   "source": [
    "average_morans = result_df[['morans_r', 'morans_r_x', 'morans_r_x']].mean(axis=1)"
   ]
  },
  {
   "cell_type": "code",
   "execution_count": null,
   "id": "202b43a4-d807-46bf-93eb-9cc8ae0dc478",
   "metadata": {
    "tags": []
   },
   "outputs": [],
   "source": [
    "combined_pvalues = result_df[['morans_pvals', 'morans_pvals_x', 'morans_pvals_y']].apply(combine_row_pvalues, axis=1)"
   ]
  },
  {
   "cell_type": "code",
   "execution_count": null,
   "id": "0fb3191f-f823-41a3-93f6-5c9a546f6b04",
   "metadata": {
    "tags": []
   },
   "outputs": [],
   "source": [
    "final_df = pd.DataFrame({\n",
    "    'ligand': result_df['ligand'],\n",
    "    'receptor': result_df['receptor'],\n",
    "    'interaction': result_df.index, \n",
    "    'average_morans': average_morans, \n",
    "    'abs_average_morans': abs(average_morans),\n",
    "    'combined_pvalues': combined_pvalues\n",
    "   })"
   ]
  },
  {
   "cell_type": "code",
   "execution_count": null,
   "id": "1f1fd336-d8bc-4f2b-8232-24464397bfe7",
   "metadata": {
    "tags": []
   },
   "outputs": [],
   "source": [
    "final_df.sort_values(by='abs_average_morans', ascending=False).head(35)"
   ]
  },
  {
   "cell_type": "code",
   "execution_count": null,
   "id": "13a5ea90-5c3e-49be-a499-fc4ee5a72620",
   "metadata": {
    "tags": []
   },
   "outputs": [],
   "source": [
    "## Filtering by thresholds. \n",
    "pvalue_cutoff = 0.01\n",
    "Morans_cutoff = 0.025\n",
    "\n",
    "filtered_final_df = final_df[(final_df['abs_average_morans'] > Morans_cutoff) & (final_df['combined_pvalues'] < pvalue_cutoff)]\n",
    "\n",
    "filtered_final_df.to_csv('LianaResults/Males_AAV2_cc_scl_SL0039.csv', index=False)\n",
    "\n",
    "filtered_final_sorted_df_top20 = filtered_final_df.sort_values(by='average_morans', ascending=False).head(10)\n",
    "filtered_final_sorted_df_top20 = filtered_final_sorted_df_top20.sort_values('average_morans', ascending=True)"
   ]
  },
  {
   "cell_type": "code",
   "execution_count": null,
   "id": "add64984-dbf0-431e-9981-828ce0b6e471",
   "metadata": {
    "tags": []
   },
   "outputs": [],
   "source": [
    "colors = ['blue' if x < 0 else 'red' for x in filtered_final_sorted_df_top20['average_morans']]\n",
    "\n",
    "# Create the bar plot\n",
    "plt.figure(figsize=(8, 8))\n",
    "plt.barh(filtered_final_sorted_df_top20['receptor'], filtered_final_sorted_df_top20['average_morans'], color=colors)\n",
    "\n",
    "# Add labels and title if desired\n",
    "plt.xlabel('Average Moran\\'s I')\n",
    "plt.ylabel('Receptor')\n",
    "plt.title('Bar Plot of Average Moran\\'s I by Receptor')\n",
    "\n",
    "# Display the plot\n",
    "plt.show()"
   ]
  },
  {
   "cell_type": "code",
   "execution_count": null,
   "id": "db6fb1f4-a704-4231-b715-4eced00ce496",
   "metadata": {
    "tags": []
   },
   "outputs": [],
   "source": [
    "top_interactions = filtered_final_df.sort_values('average_morans', ascending=False).head(2).index\n",
    "top_receptors = filtered_final_df.sort_values('average_morans', ascending=False).head(2)['receptor'].tolist()\n",
    "\n",
    "for current_adata in result_list_adata:\n",
    "    \n",
    "    sc.pl.spatial(current_adata.obsm['local_scores'], color=top_interactions, size=1.25, vmax=1, vmin=-1, cmap='coolwarm')\n",
    "    sc.pl.spatial(current_adata.obsm['local_scores'], layer='pvals', color=top_interactions, size=1.25, cmap=\"magma_r\")\n",
    "    sc.pl.spatial(current_adata.obsm['local_scores'], layer='cats', color=top_interactions, size=1.25, cmap=\"coolwarm\")\n",
    "\n",
    "    ## Aditional plots\n",
    "    \n",
    "    sc.pl.spatial(current_adata.obsm['local_scores'], color=interactions_to_check, size=1.25, vmax=1, vmin=-1, cmap='coolwarm', ncols= 2)\n",
    "    sc.pl.spatial(current_adata.obsm['local_scores'], layer='pvals', color=interactions_to_check, size=1.25, cmap=\"magma_r\", ncols = 2)\n",
    "    sc.pl.spatial(current_adata.obsm['local_scores'], layer='cats', color=interactions_to_check, size=1.25, cmap=\"coolwarm\", ncols = 2)\n",
    "    \n",
    "for current_adata in adata_list_males_AVV2: \n",
    "    \n",
    "    sc.pl.spatial(current_adata, color =top_receptors, size=1.25)\n",
    "\n",
    "    ## Aditional plots\n",
    "\n",
    "    sc.pl.spatial(current_adata, color =receptors_to_check, size=1.25, ncols =2 )"
   ]
  },
  {
   "cell_type": "markdown",
   "id": "7acb4538-3c80-442e-a61f-f0a62c089c7f",
   "metadata": {},
   "source": [
    "## Females AAV9"
   ]
  },
  {
   "cell_type": "code",
   "execution_count": null,
   "id": "d64e2dfb-c3af-47b6-8abc-a017034a44c3",
   "metadata": {},
   "outputs": [],
   "source": [
    "adata_list_females_AVV9 = []\n",
    "\n",
    "for adata in adata_list:\n",
    "    \n",
    "    if adata.obs['Gender'].unique()[0] == 'Female' and adata.obs['Condition'].unique()[0] == 'AAV9-CMV-GFP': \n",
    "        adata_list_females_AVV9.append(adata)        "
   ]
  },
  {
   "cell_type": "code",
   "execution_count": null,
   "id": "f02e8706-7006-4641-b012-1c5cc6d405f1",
   "metadata": {
    "tags": []
   },
   "outputs": [],
   "source": [
    "adata_list_females_AVV9[0].obs"
   ]
  },
  {
   "cell_type": "code",
   "execution_count": null,
   "id": "930c361b-d13f-4f7b-a71b-c238e8d419ec",
   "metadata": {},
   "outputs": [],
   "source": [
    "from itertools import product\n",
    "result_list_adata = []\n",
    "\n",
    "for adata in adata_list_females_AVV9: \n",
    "    \n",
    "    \n",
    "    li.ut.spatial_neighbors(adata, bandwidth=150, cutoff=0.1, kernel='gaussian', set_diag=True)\n",
    "    \n",
    "    li.mt.lr_bivar(adata,\n",
    "               function_name='morans', # Name of the function\n",
    "               resource=df_ligand_receptor_int,\n",
    "               n_perms=1000, # Number of permutations to calculate a p-value\n",
    "               mask_negatives=False, # Whether to mask LowLow/NegativeNegative interactions\n",
    "               add_categories=True, # Whether to add local categories to the results\n",
    "               expr_prop=0.2, # Minimum expr. proportion for ligands/receptors and their subunits\n",
    "               use_raw=False,\n",
    "               verbose=True)\n",
    "    \n",
    "    result_list_adata.append(adata)"
   ]
  },
  {
   "cell_type": "code",
   "execution_count": null,
   "id": "66cc7072-bce0-4d6b-b49c-b97c7fdaca95",
   "metadata": {
    "tags": []
   },
   "outputs": [],
   "source": [
    "## Compute corrected p-values \n",
    "result_list_adata[0].obsm['local_scores'].var.sort_values(by='morans_r', ascending=False).head(35)"
   ]
  },
  {
   "cell_type": "code",
   "execution_count": null,
   "id": "05eaab37-4e4d-4cc6-b0ca-9de4c3d0be26",
   "metadata": {
    "tags": []
   },
   "outputs": [],
   "source": [
    "result_df = result_list_adata[0].obsm['local_scores'].var\n",
    "for current_adata in result_list_adata[1:]: \n",
    "    current_df = current_adata.obsm['local_scores'].var\n",
    "    result_df = result_df.merge(current_df, on='interaction', how='inner')"
   ]
  },
  {
   "cell_type": "code",
   "execution_count": null,
   "id": "83951103-7c59-4f70-8135-09d642fa7a68",
   "metadata": {
    "tags": []
   },
   "outputs": [],
   "source": [
    "average_morans = result_df[['morans_r', 'morans_r_x', 'morans_r_x']].mean(axis=1)"
   ]
  },
  {
   "cell_type": "code",
   "execution_count": null,
   "id": "d3650b3f-c12d-4311-8c9c-2c26125bd694",
   "metadata": {
    "tags": []
   },
   "outputs": [],
   "source": [
    "combined_pvalues = result_df[['morans_pvals', 'morans_pvals_x', 'morans_pvals_y']].apply(combine_row_pvalues, axis=1)"
   ]
  },
  {
   "cell_type": "code",
   "execution_count": null,
   "id": "efc595d2-7682-4f81-bc4d-ceff41e10ec3",
   "metadata": {
    "tags": []
   },
   "outputs": [],
   "source": [
    "final_df = pd.DataFrame({\n",
    "    'ligand': result_df['ligand'],\n",
    "    'receptor': result_df['receptor'],\n",
    "    'interaction': result_df.index, \n",
    "    'average_morans': average_morans, \n",
    "    'abs_average_morans': abs(average_morans),\n",
    "    'combined_pvalues': combined_pvalues\n",
    "   })"
   ]
  },
  {
   "cell_type": "code",
   "execution_count": null,
   "id": "b401f0fb-8412-4b0f-88ca-6dcea53e25ab",
   "metadata": {
    "tags": []
   },
   "outputs": [],
   "source": [
    "final_df.sort_values(by='abs_average_morans', ascending=False).head(35)"
   ]
  },
  {
   "cell_type": "code",
   "execution_count": null,
   "id": "e13387fe-81a7-43b1-b116-3c0ce6385c71",
   "metadata": {
    "tags": []
   },
   "outputs": [],
   "source": [
    "## Filtering by thresholds. \n",
    "pvalue_cutoff = 0.01\n",
    "# Morans_cutoff = 0.1\n",
    "Morans_cutoff = 0.025\n",
    "\n",
    "filtered_final_df = final_df[(final_df['abs_average_morans'] > Morans_cutoff) & (final_df['combined_pvalues'] < pvalue_cutoff)]\n",
    "\n",
    "filtered_final_df.to_csv('LianaResults/Females_AAV9_cc_scl_SL0039.csv', index=False)\n",
    "\n",
    "filtered_final_sorted_df_top20 = filtered_final_df.sort_values(by='average_morans', ascending=False).head(10)\n",
    "filtered_final_sorted_df_top20 = filtered_final_sorted_df_top20.sort_values('average_morans', ascending=True)"
   ]
  },
  {
   "cell_type": "code",
   "execution_count": null,
   "id": "ab532003-3184-48e4-9887-4cbd02330400",
   "metadata": {
    "tags": []
   },
   "outputs": [],
   "source": [
    "colors = ['blue' if x < 0 else 'red' for x in filtered_final_sorted_df_top20['average_morans']]\n",
    "\n",
    "# Create the bar plot\n",
    "plt.figure(figsize=(8, 8))\n",
    "plt.barh(filtered_final_sorted_df_top20['receptor'], filtered_final_sorted_df_top20['average_morans'], color=colors)\n",
    "\n",
    "# Add labels and title if desired\n",
    "plt.xlabel('Average Moran\\'s I')\n",
    "plt.ylabel('Receptor')\n",
    "plt.title('Bar Plot of Average Moran\\'s I by Receptor')\n",
    "\n",
    "# Display the plot\n",
    "plt.show()"
   ]
  },
  {
   "cell_type": "code",
   "execution_count": null,
   "id": "29837bc9-b8c9-4d9c-aa6f-3086de46f467",
   "metadata": {
    "tags": []
   },
   "outputs": [],
   "source": [
    "top_interactions = filtered_final_df.sort_values('average_morans', ascending=False).head(2).index\n",
    "top_receptors = filtered_final_df.sort_values('average_morans', ascending=False).head(2)['receptor'].tolist()\n",
    "\n",
    "for current_adata in result_list_adata:\n",
    "    \n",
    "    sc.pl.spatial(current_adata.obsm['local_scores'], color=top_interactions, size=1.25, vmax=1, vmin=-1, cmap='coolwarm')\n",
    "    sc.pl.spatial(current_adata.obsm['local_scores'], layer='pvals', color=top_interactions, size=1.25, cmap=\"magma_r\")\n",
    "    sc.pl.spatial(current_adata.obsm['local_scores'], layer='cats', color=top_interactions, size=1.25, cmap=\"coolwarm\")\n",
    "\n",
    "    ## Aditional plots\n",
    "    \n",
    "    sc.pl.spatial(current_adata.obsm['local_scores'], color=interactions_to_check, size=1.25, vmax=1, vmin=-1, cmap='coolwarm', ncols= 2)\n",
    "    sc.pl.spatial(current_adata.obsm['local_scores'], layer='pvals', color=interactions_to_check, size=1.25, cmap=\"magma_r\", ncols = 2)\n",
    "    sc.pl.spatial(current_adata.obsm['local_scores'], layer='cats', color=interactions_to_check, size=1.25, cmap=\"coolwarm\", ncols = 2)\n",
    "    \n",
    "for current_adata in adata_list_females_AVV9: \n",
    "    \n",
    "    sc.pl.spatial(current_adata, color =top_receptors, size=1.25)\n",
    "\n",
    "    ## Aditional plots\n",
    "\n",
    "    sc.pl.spatial(current_adata, color =receptors_to_check, size=1.25, ncols =2 )"
   ]
  },
  {
   "cell_type": "markdown",
   "id": "08c16bd0-39ee-4d09-8a56-243e99d711c0",
   "metadata": {},
   "source": [
    "## Females AAV2"
   ]
  },
  {
   "cell_type": "code",
   "execution_count": null,
   "id": "3f01d9bc-1be7-4164-acb7-4c700a11a071",
   "metadata": {},
   "outputs": [],
   "source": [
    "adata_list_females_AVV2 = []\n",
    "\n",
    "for adata in adata_list:\n",
    "    \n",
    "    if adata.obs['Gender'].unique()[0] == 'Female' and adata.obs['Condition'].unique()[0] == 'AAV2-CMV-GFP': \n",
    "        adata_list_females_AVV2.append(adata)        "
   ]
  },
  {
   "cell_type": "code",
   "execution_count": null,
   "id": "93e73c2e-b9e0-4a81-808f-7fa5e1b598a3",
   "metadata": {
    "tags": []
   },
   "outputs": [],
   "source": [
    "adata_list_females_AVV2[1].obs"
   ]
  },
  {
   "cell_type": "code",
   "execution_count": null,
   "id": "c4eb0771-a2b7-4ee9-8d94-65881490ea18",
   "metadata": {},
   "outputs": [],
   "source": [
    "from itertools import product\n",
    "result_list_adata = []\n",
    "\n",
    "for adata in adata_list_females_AVV2: \n",
    "    \n",
    "    \n",
    "    li.ut.spatial_neighbors(adata, bandwidth=150, cutoff=0.1, kernel='gaussian', set_diag=True)\n",
    "    \n",
    "    li.mt.lr_bivar(adata,\n",
    "               function_name='morans', # Name of the function\n",
    "               resource=df_ligand_receptor_int,\n",
    "               n_perms=1000, # Number of permutations to calculate a p-value\n",
    "               mask_negatives=False, # Whether to mask LowLow/NegativeNegative interactions\n",
    "               add_categories=True, # Whether to add local categories to the results\n",
    "               expr_prop=0.1, # Minimum expr. proportion for ligands/receptors and their subunits\n",
    "               use_raw=False,\n",
    "               verbose=True)\n",
    "    \n",
    "    result_list_adata.append(adata)"
   ]
  },
  {
   "cell_type": "code",
   "execution_count": null,
   "id": "0f75f08a-65c0-4901-a460-67a0a056ef10",
   "metadata": {
    "tags": []
   },
   "outputs": [],
   "source": [
    "## Compute corrected p-values \n",
    "result_list_adata[0].obsm['local_scores'].var.sort_values(by='morans_r', ascending=False).head(35)"
   ]
  },
  {
   "cell_type": "code",
   "execution_count": null,
   "id": "2e83bd48-af1e-4d36-868d-adbcfc8bb6ee",
   "metadata": {
    "tags": []
   },
   "outputs": [],
   "source": [
    "result_df = result_list_adata[0].obsm['local_scores'].var\n",
    "for current_adata in result_list_adata[1:]: \n",
    "    current_df = current_adata.obsm['local_scores'].var\n",
    "    result_df = result_df.merge(current_df, on='interaction', how='inner')"
   ]
  },
  {
   "cell_type": "code",
   "execution_count": null,
   "id": "7bded311-360c-45df-8cd7-9059f3c5c88f",
   "metadata": {
    "tags": []
   },
   "outputs": [],
   "source": [
    "average_morans = result_df[['morans_r', 'morans_r_x', 'morans_r_x']].mean(axis=1)"
   ]
  },
  {
   "cell_type": "code",
   "execution_count": null,
   "id": "304d7840-3c4f-4db0-9b3d-a28ef7c8f90f",
   "metadata": {
    "tags": []
   },
   "outputs": [],
   "source": [
    "combined_pvalues = result_df[['morans_pvals', 'morans_pvals_x', 'morans_pvals_y']].apply(combine_row_pvalues, axis=1)"
   ]
  },
  {
   "cell_type": "code",
   "execution_count": null,
   "id": "9cef7074-c98a-46e6-8193-c251ed1121db",
   "metadata": {
    "tags": []
   },
   "outputs": [],
   "source": [
    "final_df = pd.DataFrame({\n",
    "    'ligand': result_df['ligand'],\n",
    "    'receptor': result_df['receptor'],\n",
    "    'interaction': result_df.index, \n",
    "    'average_morans': average_morans, \n",
    "    'abs_average_morans': abs(average_morans),\n",
    "    'combined_pvalues': combined_pvalues\n",
    "   })"
   ]
  },
  {
   "cell_type": "code",
   "execution_count": null,
   "id": "ab442820-de7c-440c-8e5b-4b791cc757ab",
   "metadata": {
    "tags": []
   },
   "outputs": [],
   "source": [
    "final_df.sort_values(by='abs_average_morans', ascending=False).head(35)"
   ]
  },
  {
   "cell_type": "code",
   "execution_count": null,
   "id": "853f6d52-0f33-4b71-b68b-eb20edbf46de",
   "metadata": {
    "tags": []
   },
   "outputs": [],
   "source": [
    "## Filtering by thresholds. \n",
    "pvalue_cutoff = 0.01\n",
    "# Morans_cutoff = 0.1\n",
    "Morans_cutoff = 0.025\n",
    "\n",
    "filtered_final_df = final_df[(final_df['abs_average_morans'] > Morans_cutoff) & (final_df['combined_pvalues'] < pvalue_cutoff)]\n",
    "\n",
    "filtered_final_df.to_csv('LianaResults/Females_AAV2_cc_scl_SL0039.csv', index=False)\n",
    "\n",
    "filtered_final_sorted_df_top20 = filtered_final_df.sort_values(by='average_morans', ascending=False).head(10)\n",
    "filtered_final_sorted_df_top20 = filtered_final_sorted_df_top20.sort_values('average_morans', ascending=True)\n"
   ]
  },
  {
   "cell_type": "code",
   "execution_count": null,
   "id": "a144efec-9db0-4c1a-930c-1e9e8724892b",
   "metadata": {
    "tags": []
   },
   "outputs": [],
   "source": [
    "colors = ['blue' if x < 0 else 'red' for x in filtered_final_sorted_df_top20['average_morans']]\n",
    "\n",
    "# Create the bar plot\n",
    "plt.figure(figsize=(8, 8))\n",
    "plt.barh(filtered_final_sorted_df_top20['receptor'], filtered_final_sorted_df_top20['average_morans'], color=colors)\n",
    "\n",
    "# Add labels and title if desired\n",
    "plt.xlabel('Average Moran\\'s I')\n",
    "plt.ylabel('Receptor')\n",
    "plt.title('Bar Plot of Average Moran\\'s I by Receptor')\n",
    "\n",
    "# Display the plot\n",
    "plt.show()"
   ]
  },
  {
   "cell_type": "code",
   "execution_count": null,
   "id": "8486193b-ae2d-41a6-81e4-5474cb5647e2",
   "metadata": {
    "tags": []
   },
   "outputs": [],
   "source": [
    "top_interactions = filtered_final_df.sort_values('average_morans', ascending=False).head(2).index\n",
    "top_receptors = filtered_final_df.sort_values('average_morans', ascending=False).head(2)['receptor'].tolist()\n",
    "\n",
    "\n",
    "for current_adata in result_list_adata:\n",
    "    \n",
    "    sc.pl.spatial(current_adata.obsm['local_scores'], color=top_interactions, size=1.25, vmax=1, vmin=-1, cmap='coolwarm')\n",
    "    sc.pl.spatial(current_adata.obsm['local_scores'], layer='pvals', color=top_interactions, size=1.25, cmap=\"magma_r\")\n",
    "    sc.pl.spatial(current_adata.obsm['local_scores'], layer='cats', color=top_interactions, size=1.25, cmap=\"coolwarm\")\n",
    "\n",
    "    ## Aditional plots\n",
    "    \n",
    "    sc.pl.spatial(current_adata.obsm['local_scores'], color=interactions_to_check, size=1.25, vmax=1, vmin=-1, cmap='coolwarm', ncols= 2)\n",
    "    sc.pl.spatial(current_adata.obsm['local_scores'], layer='pvals', color=interactions_to_check, size=1.25, cmap=\"magma_r\", ncols = 2)\n",
    "    sc.pl.spatial(current_adata.obsm['local_scores'], layer='cats', color=interactions_to_check, size=1.25, cmap=\"coolwarm\", ncols = 2)\n",
    "    \n",
    "for current_adata in adata_list_females_AVV9: \n",
    "    \n",
    "    sc.pl.spatial(current_adata, color =top_receptors, size=1.25)\n",
    "\n",
    "    ## Aditional plots\n",
    "\n",
    "    sc.pl.spatial(current_adata, color =receptors_to_check, size=1.25, ncols =2 )"
   ]
  },
  {
   "cell_type": "code",
   "execution_count": null,
   "id": "cb715213-f5dd-478f-bad0-78ebc12cd035",
   "metadata": {},
   "outputs": [],
   "source": [
    "! jupyter nbconvert --to html 15_SpatialConnectivity_Receptors_LianaPvalues_cc_scl_SL0039.ipynb"
   ]
  },
  {
   "cell_type": "code",
   "execution_count": null,
   "id": "cc93c0f9-ca8a-46a9-8c18-a5658c01b55b",
   "metadata": {},
   "outputs": [],
   "source": []
  }
 ],
 "metadata": {
  "kernelspec": {
   "display_name": "LianaPlus",
   "language": "python",
   "name": "lianaplus"
  },
  "language_info": {
   "codemirror_mode": {
    "name": "ipython",
    "version": 3
   },
   "file_extension": ".py",
   "mimetype": "text/x-python",
   "name": "python",
   "nbconvert_exporter": "python",
   "pygments_lexer": "ipython3",
   "version": "3.9.18"
  }
 },
 "nbformat": 4,
 "nbformat_minor": 5
}
