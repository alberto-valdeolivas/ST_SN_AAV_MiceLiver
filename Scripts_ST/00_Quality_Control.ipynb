{
 "cells": [
  {
   "cell_type": "markdown",
   "id": "7f210da6-5d4a-4ce7-9ecc-e8ceb461d7f0",
   "metadata": {},
   "source": [
    "# Quality Control\n",
    "\n",
    "This notebook contains the code to reproduce the quality control of a set of ST rat liver samples transfected with AAV2 and AAV9."
   ]
  },
  {
   "cell_type": "code",
   "execution_count": null,
   "id": "48115475-8dae-4143-82b9-1e9e269bfce0",
   "metadata": {
    "scrolled": true
   },
   "outputs": [],
   "source": [
    "import scanpy as sc\n",
    "import pandas as pd\n",
    "import os\n",
    "import matplotlib.pyplot as plt\n",
    "import seaborn as sns\n",
    "import numpy as np\n",
    "import squidpy as sq\n",
    "import re\n",
    "from wrapper_functions import *\n",
    "sns.set()"
   ]
  },
  {
   "cell_type": "code",
   "execution_count": null,
   "id": "041643e8-f7f1-488f-8c43-a2ce32c7bb52",
   "metadata": {},
   "outputs": [],
   "source": [
    "# Automatically re-load wrapper functions after an update\n",
    "# Find details here: https://ipython.readthedocs.io/en/stable/config/extensions/autoreload.html\n",
    "%load_ext autoreload\n",
    "%autoreload 2"
   ]
  },
  {
   "cell_type": "code",
   "execution_count": null,
   "id": "4065fc89-82e3-47dd-a64d-84dc59758a57",
   "metadata": {},
   "outputs": [],
   "source": [
    "sc.logging.print_versions()\n",
    "sc.set_figure_params(facecolor=\"white\", figsize=(6, 6))\n",
    "sc.settings.verbosity = 3"
   ]
  },
  {
   "cell_type": "markdown",
   "id": "045de3b3-7dfd-48fa-a21b-d1fea63e13d1",
   "metadata": {},
   "source": [
    "## Parameters to be set\n",
    "\n",
    "We set up some parameters that are used by the wrapper functions. "
   ]
  },
  {
   "cell_type": "code",
   "execution_count": null,
   "id": "a499e7d5-ec09-4c7f-8a27-dd44efd454ae",
   "metadata": {},
   "outputs": [],
   "source": [
    "organism = Organism.mouse\n",
    "analyze_params = Analyze(protocol=Protocol.FF, organism=organism)"
   ]
  },
  {
   "cell_type": "markdown",
   "id": "f1497440-dceb-4473-95a0-90829df02bd4",
   "metadata": {},
   "source": [
    "## Define Input, sample names and metadata\n",
    "\n",
    "We here define the location of the raw data and the most relevant metadata associated to the samples under consideration. "
   ]
  },
  {
   "cell_type": "code",
   "execution_count": null,
   "id": "13729378-1f86-449d-9d7b-c64364295525",
   "metadata": {},
   "outputs": [],
   "source": [
    "root_path = os.getcwd()\n",
    "inpath='your_inpath_folder' # Replace with the location of your samples\n",
    "outpath='where_your_data_will_be_saved' # Replace with the output location\n",
    "results_folder = os.path.join(root_path, 'analyzed')"
   ]
  },
  {
   "cell_type": "code",
   "execution_count": null,
   "id": "4748f23c-6c11-4b23-adcf-db3156f40e68",
   "metadata": {},
   "outputs": [],
   "source": [
    "mysamples=[\"SN275_B1_202\", \n",
    "           \"SN275_C1_151\", \n",
    "           \"SN275b_D1_153\", \n",
    "           \"SN326_B1_352\", \n",
    "           \"SN326_C1_152\", \n",
    "           \"SN326_D1_203\", \n",
    "           \"SN327_A1_252\", \n",
    "           \"SN327_C1_305\", \n",
    "           \"SN327_D1_204\", \n",
    "           \"SN382_A1_355\", \n",
    "           \"SN382_B1_303\", \n",
    "           \"SN382_C1_251\", \n",
    "           \"SN387_B1_103\", \n",
    "           \"SN393_A1_102\", \n",
    "           \"SN393_B1_253\", \n",
    "           \"SN393_D1_351\", \n",
    "           \"SN394_B1_304\", \n",
    "           \"SN394_C1_101\"]"
   ]
  },
  {
   "cell_type": "code",
   "execution_count": null,
   "id": "3b38c04d-bc31-4fe2-8d09-f06c1cbca1fb",
   "metadata": {},
   "outputs": [],
   "source": [
    "myconditions=pd.Categorical([\"AAV2-CMV-GFP\",\n",
    "                            \"Untreated\",\n",
    "                            \"Untreated\",\n",
    "                            \"AAV9-CMV-GFP\",\n",
    "                            \"Untreated\",\n",
    "                            \"AAV2-CMV-GFP\",\n",
    "                            \"AAV2-CMV-GFP\",\n",
    "                            \"AAV9-CMV-GFP\",\n",
    "                            \"AAV2-CMV-GFP\",\n",
    "                            \"AAV9-CMV-GFP\",\n",
    "                            \"AAV9-CMV-GFP\",\n",
    "                            \"AAV2-CMV-GFP\",\n",
    "                            \"Untreated\",\n",
    "                            \"Untreated\",\n",
    "                            \"AAV2-CMV-GFP\",\n",
    "                            \"AAV9-CMV-GFP\",\n",
    "                            \"AAV9-CMV-GFP\",\n",
    "                            \"Untreated\"])\n",
    "myGender=pd.Categorical([\"Male\",\n",
    "                        \"Female\",\n",
    "                        \"Female\",\n",
    "                        \"Female\",\n",
    "                        \"Female\",\n",
    "                        \"Male\",\n",
    "                        \"Female\",\n",
    "                        \"Male\",\n",
    "                        \"Male\",\n",
    "                        \"Female\",\n",
    "                        \"Male\",\n",
    "                        \"Female\",\n",
    "                        \"Male\",\n",
    "                        \"Male\",\n",
    "                        \"Female\",\n",
    "                        \"Female\",\n",
    "                        \"Male\",\n",
    "                        \"Male\"])\n",
    "myslides=pd.Categorical([\"SN275\",\n",
    "                         \"SN275\",\n",
    "                         \"SN275b\",\n",
    "                         \"SN326\",\n",
    "                         \"SN326\",\n",
    "                         \"SN326\",\n",
    "                         \"SN327\",\n",
    "                         \"SN327\",\n",
    "                         \"SN327\",\n",
    "                         \"SN382\",\n",
    "                         \"SN382\",\n",
    "                         \"SN382\",\n",
    "                         \"SN387\",\n",
    "                         \"SN393\",\n",
    "                         \"SN393\",\n",
    "                         \"SN393\",\n",
    "                         \"SN394\",\n",
    "                         \"SN394\"])\n",
    "myanimalID=pd.Categorical([\"I202\",\n",
    "                           \"I151\",\n",
    "                           \"I153\",\n",
    "                           \"I352\",\n",
    "                           \"I152\",\n",
    "                           \"I203\",\n",
    "                           \"I252\",\n",
    "                           \"I305\",\n",
    "                           \"I204\",\n",
    "                           \"I355\",\n",
    "                           \"I303\",\n",
    "                           \"I251\",\n",
    "                           \"I103\",\n",
    "                           \"I102\",\n",
    "                           \"I253\",                           \n",
    "                           \"I351\",\n",
    "                           \"I304\",\n",
    "                           \"I101\"])\n",
    "mybatch=pd.Categorical([\"Batch1\",\n",
    "                        \"Batch1\",\n",
    "                        \"Batch5\",\n",
    "                        \"Batch4\",\n",
    "                        \"Batch4\",\n",
    "                        \"Batch4\",\n",
    "                        \"Batch5\",\n",
    "                        \"Batch5\",\n",
    "                        \"Batch5\",\n",
    "                        \"Batch2\",\n",
    "                        \"Batch2\",\n",
    "                        \"Batch2\",\n",
    "                        \"Batch2\",\n",
    "                        \"Batch3\",\n",
    "                        \"Batch3\",\n",
    "                        \"Batch3\",\n",
    "                        \"Batch3\",\n",
    "                        \"Batch3\",])"
   ]
  },
  {
   "cell_type": "code",
   "execution_count": null,
   "id": "49f3f5fd-f386-4ecb-928e-fe25dd785841",
   "metadata": {},
   "outputs": [],
   "source": [
    "metadata = {'Condition' : myconditions, \n",
    "            'Gender': myGender, \n",
    "            'Slide_ID': myslides,\n",
    "            'Individual_ID': myanimalID,\n",
    "            'Batch_ID': mybatch}\n",
    "metadata_df = pd.DataFrame(metadata, index = mysamples)"
   ]
  },
  {
   "cell_type": "code",
   "execution_count": null,
   "id": "64d0e855-ab19-49d4-a0b6-d022d7c4c08a",
   "metadata": {},
   "outputs": [],
   "source": [
    "metadata_df"
   ]
  },
  {
   "cell_type": "markdown",
   "id": "6b49d211-bca8-4ec1-a251-d9d36cdfd32a",
   "metadata": {},
   "source": [
    "## 1.1 Quality Control: Goblal Metrics\n",
    "\n",
    "We first take a look to the global metrics that come out from the SpaceRanger pipeline for each sample and we plot them together into barplots for comparison. We can color the barplots by the different values in our metadata in order to detect batch or condition related effects."
   ]
  },
  {
   "cell_type": "code",
   "execution_count": null,
   "id": "5e0f3bf9-1dd9-401c-a6f5-ecd7a6119768",
   "metadata": {},
   "outputs": [],
   "source": [
    "globalQC_df = get_global_QCmetrics(inpath, mysamples)"
   ]
  },
  {
   "cell_type": "code",
   "execution_count": null,
   "id": "013150d3-95c4-44fd-a786-eeb9ac20a6f1",
   "metadata": {},
   "outputs": [],
   "source": [
    "globalQC_df"
   ]
  },
  {
   "cell_type": "markdown",
   "id": "933e20fd-285d-4fa1-924f-c04cca9c5a0d",
   "metadata": {},
   "source": [
    "We first colored the barplot by VISIUM slides and the by batch number to see if there is any trend."
   ]
  },
  {
   "cell_type": "code",
   "execution_count": null,
   "id": "c8bcaf68-f44c-4d69-ba98-f1bdb1bb7a20",
   "metadata": {},
   "outputs": [],
   "source": [
    "get_barplot_qc(globalQC_df, myslides, globalQC_df.columns.values)"
   ]
  },
  {
   "cell_type": "code",
   "execution_count": null,
   "id": "f95f0e19-2f5a-4a38-b0f2-6f3871e8d91f",
   "metadata": {},
   "outputs": [],
   "source": [
    "get_barplot_qc(globalQC_df, mybatch, globalQC_df.columns.values)"
   ]
  },
  {
   "cell_type": "markdown",
   "id": "b46a4dfa-e881-45ef-8ceb-325fca723deb",
   "metadata": {},
   "source": [
    "## 1.2 Image-based Quality control\n",
    "\n",
    "We are now going to look more into the QC details of the individual samples. We will explore potential contamination issues in the spots non covered by tissue, the number of counts and genes per spot the percentage of mithocondrial genes in the different regions of the samples. This analysis and the associated plots will help us to set up some parameters to filter out low quality spots or genes expressed in a very limited number of spots. We will also check for the spatial location of large amounts of hemoglobin related genes that are indicative of spots localized in blood vessels and not overlaying cells"
   ]
  },
  {
   "cell_type": "code",
   "execution_count": null,
   "id": "a2399c95-b0b5-4f9f-9877-fe10e778f60a",
   "metadata": {},
   "outputs": [],
   "source": [
    "%%capture --no-display\n",
    "# %%capture --no-display: Removes warnings for this cell\n",
    "# Here we ant to hide this warning: 'UserWarning: Variable names are not unique. To make them unique, call `.var_names_make_unique`.'\n",
    "\n",
    "adatas_filter = generate_adata_objects(path = inpath, samples_names = mysamples, metadata = metadata_df, analyze_params=analyze_params)\n",
    "adatas_raw = generate_adata_objects(path = inpath, samples_names = mysamples, metadata = metadata_df, analyze_params=analyze_params, count_file='raw_feature_bc_matrix.h5')"
   ]
  },
  {
   "cell_type": "code",
   "execution_count": null,
   "id": "65f36b57-0b8b-4021-beb1-e8cfc7f6634a",
   "metadata": {},
   "outputs": [],
   "source": [
    "adatas_filter[0].obs"
   ]
  },
  {
   "cell_type": "code",
   "execution_count": null,
   "id": "6c5cfe70-a896-47f2-b65e-fe4c327f1c3d",
   "metadata": {},
   "outputs": [],
   "source": [
    "perform_qc_analysis(adatas_filter, adatas_raw, color_map=\"Reds\", sample_id=\"Sample_ID\",\n",
    "    condition_name=\"Condition\",\n",
    "    batch_name=\"Batch_ID\")"
   ]
  },
  {
   "cell_type": "markdown",
   "id": "5561462d-9e9b-49ce-96a5-aea8e3765b7c",
   "metadata": {},
   "source": [
    "We are going to implement some QC filtering of spots based inspired by the cutoffs proposed in the following publication: \n",
    "*\"The spatiotemporal program of zonal liver regeneration following acute injury\"*\n",
    "\n",
    "https://pubmed.ncbi.nlm.nih.gov/35659879/\n",
    "\n",
    "We will however rely on the mean absolute deviation (MAD, https://en.wikipedia.org/wiki/Median_absolute_deviation), which is supposed to be more robust to outliers than the standard deviation. "
   ]
  },
  {
   "cell_type": "code",
   "execution_count": null,
   "id": "e7d70463-2761-4645-bbd1-f8f0a3137e35",
   "metadata": {},
   "outputs": [],
   "source": [
    "for i, adata in enumerate(adatas_filter):\n",
    "    \n",
    "    print(adata.obs[\"Sample_ID\"].unique())\n",
    "    \n",
    "    ## Based on UMIs\n",
    "    \n",
    "    # Calculate mean and standard deviation of UMI counts for the current AnnData\n",
    "    mean_umi = adata.obs['total_counts'].mean()\n",
    "    std_umi = adata.obs['total_counts'].std()\n",
    "    mad_umi = adata.obs['total_counts'].mad()\n",
    "\n",
    "    # Calculate the UMIs threshold\n",
    "    threshold_umi_min = mean_umi - 2 * mad_umi\n",
    "    threshold_umi_max = mean_umi + 3 * mad_umi\n",
    "    \n",
    "    # Filter spots based on the threshold\n",
    "    \n",
    "    print(f\"# threshold_umi_min: {threshold_umi_min}\")\n",
    "    print(f\"# Spots before removing min_counts: {adata.n_obs}\")\n",
    "    sc.pp.filter_cells(adata, min_counts=threshold_umi_min, inplace=True)\n",
    "    print(f\"# Spots after removing min_counts: {adata.n_obs}\")\n",
    "    \n",
    "    \n",
    "    print(f\"# threshold_umi_max: {threshold_umi_max}\")\n",
    "    sc.pp.filter_cells(adata, max_counts=threshold_umi_max, inplace=True)\n",
    "    print(f\"# Spots after removing max_counts: {adata.n_obs}\")\n",
    "    \n",
    "    ## Based on Mitochondrial content \n",
    "    \n",
    "    # Calculate mean and standard deviation for the mitochondrial fraction\n",
    "    mean_mito_fraction = adata.obs['pct_counts_mt'].mean()\n",
    "    std_mito_fraction = adata.obs['pct_counts_mt'].std()\n",
    "    mad_mito_fraction = adata.obs['pct_counts_mt'].mad()\n",
    "\n",
    "    # Threshold to filter out cells with high mitochondrial gene fraction\n",
    "    threshold_mito = mean_mito_fraction + 4 * mad_mito_fraction\n",
    "    \n",
    "    print(f\"# threshold_mito: {threshold_mito}\")\n",
    "    adata = adata[adata.obs[\"pct_counts_mt\"] <= threshold_mito, :]\n",
    "    print(f\"# Spots after removing high mito content: {adata.n_obs}\")\n",
    "     \n",
    "    # In addition, we remove genes which are expressed in less than 10 of the reamaining spots. \n",
    "    \n",
    "    print(f\"# Genes before filter: {adata.n_vars}\")\n",
    "    sc.pp.filter_genes(adata, min_cells=10, inplace=True)\n",
    "    print(f\"# Genes after filter: {adata.n_vars}\")    \n",
    "    \n",
    "    # Store the filtered AnnData back to the list\n",
    "    adatas_filter[i] = adata"
   ]
  },
  {
   "cell_type": "code",
   "execution_count": null,
   "id": "281175c9-ab66-476c-9c7b-c24dff1c202e",
   "metadata": {},
   "outputs": [],
   "source": [
    "path_exclude_spots = f\"{outpath}/morphology_csv\"\n",
    "\n",
    "for a in range(len(adatas_filter)):\n",
    "    current_sample = np.asarray(adatas_filter[a].obs[\"Sample_ID\"].unique())\n",
    "    \n",
    "    print(current_sample)\n",
    "    \n",
    "    print(f\"# Spots before removing excluded spots: {adatas_filter[a].n_obs}\")\n",
    "    path_current_sample = \"Morpholgy_\" + current_sample[0] + \".csv\"\n",
    "    df = pd.read_csv(os.path.join(path_exclude_spots, path_current_sample))\n",
    "    adatas_filter[a] = adatas_filter[a][~adatas_filter[a].obs_names.isin(df[df['Morphology']=='Exclude']['Barcode'].tolist()), :]\n",
    "    print(f\"# Spots before removing excluded spots: {adatas_filter[a].n_obs}\")\n"
   ]
  },
  {
   "cell_type": "markdown",
   "id": "5fa567d5-5293-4fb6-991f-c4de0a96e94e",
   "metadata": {},
   "source": [
    "We finally save the data for future retrieval in other scripts"
   ]
  },
  {
   "cell_type": "code",
   "execution_count": null,
   "id": "b7b89f71-32e0-4eff-b96b-27dfaca25303",
   "metadata": {},
   "outputs": [],
   "source": [
    "for current_adata in adatas_filter:\n",
    "    current_sample = np.asarray(current_adata.obs[\"Sample_ID\"].unique())\n",
    "    filename = 'adata_filter_' + current_sample[0] + '.h5ad'\n",
    "    current_adata.write(os.path.join(results_folder, filename))"
   ]
  },
  {
   "cell_type": "code",
   "execution_count": null,
   "id": "80e04a34-9b4f-4316-85f3-07cce1223052",
   "metadata": {},
   "outputs": [],
   "source": [
    "! jupyter nbconvert --to html 00_Quality_Control.ipynb"
   ]
  },
  {
   "cell_type": "code",
   "execution_count": null,
   "id": "bad59616-2909-487e-8b42-d9b5ce172b4b",
   "metadata": {},
   "outputs": [],
   "source": []
  }
 ],
 "metadata": {
  "kernelspec": {
   "display_name": "BeSpace_basic_uv_311",
   "language": "python",
   "name": "bespace_basic_uv_311"
  },
  "language_info": {
   "codemirror_mode": {
    "name": "ipython",
    "version": 3
   },
   "file_extension": ".py",
   "mimetype": "text/x-python",
   "name": "python",
   "nbconvert_exporter": "python",
   "pygments_lexer": "ipython3",
   "version": "3.11.10"
  }
 },
 "nbformat": 4,
 "nbformat_minor": 5
}
