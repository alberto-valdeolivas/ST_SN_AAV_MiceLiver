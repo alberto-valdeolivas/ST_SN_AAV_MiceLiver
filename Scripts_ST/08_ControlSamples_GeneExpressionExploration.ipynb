{
 "cells": [
  {
   "cell_type": "code",
   "execution_count": null,
   "id": "10cd8ba2-eb36-465c-9076-03d88678ac7e",
   "metadata": {
    "tags": []
   },
   "outputs": [],
   "source": [
    "import scanpy as sc\n",
    "import pandas as pd\n",
    "import os\n",
    "import anndata as ad\n",
    "import matplotlib.pyplot as plt\n",
    "import seaborn as sns\n",
    "import numpy as np\n",
    "import squidpy as sq\n",
    "from wrapper_functions import *\n",
    "sns.set()"
   ]
  },
  {
   "cell_type": "code",
   "execution_count": null,
   "id": "1ea091c2-dc1e-462b-851c-71f9e01d954d",
   "metadata": {
    "tags": []
   },
   "outputs": [],
   "source": [
    "# Automatically re-load wrapper functions after an update\n",
    "# Find details here: https://ipython.readthedocs.io/en/stable/config/extensions/autoreload.html\n",
    "%load_ext autoreload\n",
    "%autoreload 2"
   ]
  },
  {
   "cell_type": "code",
   "execution_count": null,
   "id": "dbea312b-9d7f-4f50-a092-857a20d6f15a",
   "metadata": {
    "tags": []
   },
   "outputs": [],
   "source": [
    "sc.logging.print_versions()\n",
    "sc.set_figure_params(facecolor=\"white\", figsize=(6, 6))\n",
    "sc.settings.verbosity = 3"
   ]
  },
  {
   "cell_type": "code",
   "execution_count": null,
   "id": "9a07995a-8508-444f-8691-d834e47613cd",
   "metadata": {
    "tags": []
   },
   "outputs": [],
   "source": [
    "organism = Organism.mouse\n",
    "analyze_params = Analyze(protocol=Protocol.FF, organism=organism)"
   ]
  },
  {
   "cell_type": "code",
   "execution_count": null,
   "id": "91b521cf-125c-4877-b651-12b9fc8e5ec0",
   "metadata": {
    "tags": []
   },
   "outputs": [],
   "source": [
    "root_path = os.getcwd()\n",
    "inpath='your_inpath_folder' # Replace with the location of your samples\n",
    "results_folder = os.path.join(root_path, 'analyzed/zonation')"
   ]
  },
  {
   "cell_type": "code",
   "execution_count": null,
   "id": "a06d2443-2850-4bbe-9308-7ddc204a8389",
   "metadata": {
    "tags": []
   },
   "outputs": [],
   "source": [
    "file_names = [f for f in os.listdir(results_folder) if os.path.isfile(os.path.join(results_folder, f))]\n",
    "\n",
    "adata_list = [ad.read(os.path.join(results_folder, file)) for file in file_names if file.endswith('.h5ad')]"
   ]
  },
  {
   "cell_type": "code",
   "execution_count": null,
   "id": "63111356-8a77-4034-a6b9-952107d62e48",
   "metadata": {
    "tags": []
   },
   "outputs": [],
   "source": [
    "adata_list_control = []\n",
    "\n",
    "for current_adata in adata_list:\n",
    "    \n",
    "    if current_adata.obs['Condition'].unique()[0] == \"Untreated\":\n",
    "         adata_list_control.append(current_adata)"
   ]
  },
  {
   "cell_type": "markdown",
   "id": "1642d8f7-7646-4f12-9fa4-42c1f511e460",
   "metadata": {
    "tags": []
   },
   "source": [
    "We concatenate to normalize together and make everything comparable"
   ]
  },
  {
   "cell_type": "code",
   "execution_count": null,
   "id": "8b8acfc6-0dfe-4625-b26f-db4a0d5d5a09",
   "metadata": {
    "tags": []
   },
   "outputs": [],
   "source": [
    "adata_concat = sc.concat(\n",
    "    adata_list_control,\n",
    "    label=\"library_id\",\n",
    "    uns_merge=\"unique\",\n",
    "    keys=[\n",
    "        k\n",
    "        for d in [adata.uns[\"spatial\"] for adata in adata_list_control]\n",
    "        for k, v in d.items()\n",
    "    ],\n",
    "    index_unique=\"-\",\n",
    "    join='outer',\n",
    ")"
   ]
  },
  {
   "cell_type": "code",
   "execution_count": null,
   "id": "0a710944-3d12-4906-aab0-7a1c798b0220",
   "metadata": {
    "tags": []
   },
   "outputs": [],
   "source": [
    "adata_concat_norm = adata_concat.copy()\n",
    "adata_concat_norm.raw = adata_concat.copy()\n",
    "sc.pp.normalize_total(adata_concat_norm)\n",
    "sc.pp.log1p(adata_concat_norm)\n",
    "sc.pp.highly_variable_genes(adata_concat_norm,  flavor=\"seurat\")"
   ]
  },
  {
   "cell_type": "code",
   "execution_count": null,
   "id": "3ffd0f7b-ab4e-4037-9fcb-92059f3045e6",
   "metadata": {
    "tags": []
   },
   "outputs": [],
   "source": [
    "genes_positive = [\n",
    "    \"AU040320\", \"Ndst1\", \"Tm9sf2\", \"B3galt6\", \"Arf1\", \"Itgav\", \"Itga5\", \n",
    "    \"Itgb1\", \"Itgb5\", \"Rpsa\", \"Pdgfra\", \"Cd9\", \"Fgfr1\", \"B4galt1\", \n",
    "    \"Arhgap26\", \"Cdc42\", \"Dnm1\", \"Met\", \"Egfr\", \"B3gat3\", \"Slc35b2\", \n",
    "    \"Ext1\", \"Ext2\", \"Cog7\", \"Rab7a\", \"Stx5\", \"Rab11a\", \"Vps35l\", \n",
    "    \"Vps53\", \"Rab6a\", \"Rgp1\", \"Atp2c1\", \"Gpr108\", \"Atp6v0a2\", \n",
    "    \"Rnf121\", \"Kpnb1\"\n",
    "]\n",
    "common_genes_positive = [gene for gene in genes_positive if gene in adata_concat_norm.var.index]"
   ]
  },
  {
   "cell_type": "code",
   "execution_count": null,
   "id": "7b6e2e56-408a-4501-b3ff-9629e03a6562",
   "metadata": {
    "tags": []
   },
   "outputs": [],
   "source": [
    "genes_negative = [\n",
    "    \"Ube2i\", \"Uba2\", \"Sae1\",\n",
    "    \"Suv4-20h1\", \"Chaf1a\", \"Npat\", \"Casp8ap2\", \"Phc3\", \"Phf5a\", \n",
    "    \"Sf3b2\", \"U2af1\", \"Zfp638\", \"Fkbp4\", \"Mre11a\", \"Rad50\", \n",
    "    \"Nbn\", \"Ifnar2\", \"Wwc2\", \"Adgra2\", \"Rtbdn\", \"Troap\", \"Sox15\", \n",
    "    \"Slc5a2\", \"Clic2\", \"Grpr\"\n",
    "]\n",
    "common_genes_negative = [gene for gene in genes_negative if gene in adata_concat_norm.var.index]"
   ]
  },
  {
   "cell_type": "code",
   "execution_count": null,
   "id": "ee525280-7762-4f8b-9491-8f6179a165de",
   "metadata": {
    "tags": []
   },
   "outputs": [],
   "source": [
    "sc.pl.matrixplot(adata_concat_norm, common_genes_positive, groupby=['Sample_ID','zonation'], dendrogram=False, use_raw=False)"
   ]
  },
  {
   "cell_type": "code",
   "execution_count": null,
   "id": "5a3955dc-abe4-45c5-9a0b-991af66555ac",
   "metadata": {
    "tags": []
   },
   "outputs": [],
   "source": [
    "sc.pl.matrixplot(adata_concat_norm, common_genes_positive, groupby=['Gender','zonation'], dendrogram=False, use_raw=False)"
   ]
  },
  {
   "cell_type": "code",
   "execution_count": null,
   "id": "0632d23e-3268-4cb7-b874-06158ed647e7",
   "metadata": {
    "tags": []
   },
   "outputs": [],
   "source": [
    "sc.pl.matrixplot(adata_concat_norm, common_genes_negative, groupby=['Sample_ID','zonation'], dendrogram=False, use_raw=False)"
   ]
  },
  {
   "cell_type": "code",
   "execution_count": null,
   "id": "70aae5d3-530c-480c-8619-881c5eaf665b",
   "metadata": {
    "tags": []
   },
   "outputs": [],
   "source": [
    "sc.pl.matrixplot(adata_concat_norm, common_genes_negative, groupby=['Gender','zonation'], dendrogram=False, use_raw=False)"
   ]
  },
  {
   "cell_type": "code",
   "execution_count": null,
   "id": "5f3b41aa-b8a4-4147-9509-514b9a060a24",
   "metadata": {
    "tags": []
   },
   "outputs": [],
   "source": [
    "sc.pl.stacked_violin(adata_concat_norm, common_genes_negative, groupby=['zonation','Gender'], dendrogram=True)"
   ]
  },
  {
   "cell_type": "code",
   "execution_count": null,
   "id": "b64ddb54-1af1-4769-af1a-c9066e3cf480",
   "metadata": {
    "tags": []
   },
   "outputs": [],
   "source": [
    "! jupyter nbconvert --to html 25_ControlSamples_GeneExpressionExploration.ipynb"
   ]
  },
  {
   "cell_type": "code",
   "execution_count": null,
   "id": "f2ca1bb4-bf4e-4f4b-9377-5fa4733c12d5",
   "metadata": {},
   "outputs": [],
   "source": []
  }
 ],
 "metadata": {
  "kernelspec": {
   "display_name": "BeSpace_basic_env",
   "language": "python",
   "name": "bespace_basic_env"
  },
  "language_info": {
   "codemirror_mode": {
    "name": "ipython",
    "version": 3
   },
   "file_extension": ".py",
   "mimetype": "text/x-python",
   "name": "python",
   "nbconvert_exporter": "python",
   "pygments_lexer": "ipython3",
   "version": "3.9.18"
  }
 },
 "nbformat": 4,
 "nbformat_minor": 5
}
