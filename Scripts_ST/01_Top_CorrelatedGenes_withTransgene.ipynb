{
 "cells": [
  {
   "cell_type": "markdown",
   "id": "d608661d-9c34-4952-8c17-ad80fcda84eb",
   "metadata": {},
   "source": [
    "# Looking For Correlations with the transgene"
   ]
  },
  {
   "cell_type": "code",
   "execution_count": null,
   "id": "fa16a346-2861-4153-83bd-9b780651090c",
   "metadata": {},
   "outputs": [],
   "source": [
    "import os\n",
    "import anndata as ad\n",
    "import numpy as np\n",
    "import scanpy as sc\n",
    "import pandas as pd\n",
    "\n",
    "from wrapper_functions import *"
   ]
  },
  {
   "cell_type": "code",
   "execution_count": null,
   "id": "7c7f3459-4df4-4312-ada4-f02335a5aab4",
   "metadata": {},
   "outputs": [],
   "source": [
    "# Automatically re-load wrapper functions after an update\n",
    "# Find details here: https://ipython.readthedocs.io/en/stable/config/extensions/autoreload.html\n",
    "%load_ext autoreload\n",
    "%autoreload 2"
   ]
  },
  {
   "cell_type": "code",
   "execution_count": null,
   "id": "ad6d5cf4-8fe4-4246-822a-9c17183d3383",
   "metadata": {},
   "outputs": [],
   "source": [
    "organism = Organism.rat\n",
    "analyze_params = Analyze(protocol=Protocol.FF, organism=organism)"
   ]
  },
  {
   "cell_type": "code",
   "execution_count": null,
   "id": "b6a73b6b-de6f-4563-9715-8ee6dbe5595d",
   "metadata": {},
   "outputs": [],
   "source": [
    "root_path = os.getcwd()\n",
    "inpath='your_inpath_folder' # Replace with the location of your samples\n",
    "results_folder = os.path.join(root_path, 'analyzed')"
   ]
  },
  {
   "cell_type": "code",
   "execution_count": null,
   "id": "b27ac14b-8733-430c-8510-509031c93ae4",
   "metadata": {},
   "outputs": [],
   "source": [
    "file_names = [f for f in os.listdir(results_folder) if os.path.isfile(os.path.join(results_folder, f))]\n",
    "\n",
    "adata_list = [ad.read(os.path.join(results_folder, file)) for file in file_names if file.endswith('.h5ad')]"
   ]
  },
  {
   "cell_type": "code",
   "execution_count": null,
   "id": "ddfa1c94-527a-4693-a3fe-d4b0006e983c",
   "metadata": {},
   "outputs": [],
   "source": [
    "adatas = norm_hvg(adata_list)"
   ]
  },
  {
   "cell_type": "code",
   "execution_count": null,
   "id": "a54a8feb-c7bf-4e16-aa2e-eb5024a6ef37",
   "metadata": {},
   "outputs": [],
   "source": [
    "transgene_id = 'cisAAV-CMV-GFP-WPRE'\n",
    "num_top_genes = 10\n",
    "# Initialize lists to store results\n",
    "correlations = []\n",
    "genders = []\n",
    "treatments = []\n",
    "gene_names = []\n",
    "sample_names = []\n",
    "\n",
    "for adata in adatas:\n",
    "    \n",
    "    if transgene_id in adata.var.index:\n",
    "        \n",
    "        \n",
    "        gene_idx = list(adata.var_names).index(transgene_id)\n",
    "        \n",
    "        normalized_counts = adata.X.toarray() \n",
    "        \n",
    "        treatment = adata.obs['Condition'].values[0]\n",
    "        gender = adata.obs['Gender'].values[0]\n",
    "        sample = adata.obs['Sample_ID'].values[0]\n",
    "        \n",
    "        corr_matrix = np.corrcoef(normalized_counts, rowvar=False)\n",
    "        gene_correlations = corr_matrix[gene_idx]\n",
    "        \n",
    "        correlations.extend(gene_correlations)\n",
    "        gene_names.extend(adata.var_names) \n",
    "        treatments.extend([treatment] * len(gene_correlations))\n",
    "        genders.extend([gender] * len(gene_correlations))\n",
    "        sample_names.extend([sample] * len(gene_correlations)) \n",
    "        \n",
    "        \n",
    " # Create a DataFrame from the results\n",
    "df = pd.DataFrame({'Gene': gene_names, 'Gender': genders, 'Treatment': treatments, 'Correlation': correlations, 'Sample': sample_names})  \n",
    "df = df[df['Gene'] != transgene_id]\n"
   ]
  },
  {
   "cell_type": "code",
   "execution_count": null,
   "id": "6c8c284c-75d4-401a-bc3b-f6b2214ac1e6",
   "metadata": {},
   "outputs": [],
   "source": [
    "result = df.groupby(['Gene', 'Gender', 'Treatment'])['Correlation'].mean().reset_index()\n",
    "result['Absolute_Correlation'] = result['Correlation'].abs()\n",
    "result = result.sort_values(by=['Absolute_Correlation'], ascending=[False])\n",
    "top_correlations = result.groupby(['Gender', 'Treatment']).head(num_top_genes)"
   ]
  },
  {
   "cell_type": "code",
   "execution_count": null,
   "id": "cda73d7c-14b8-4e72-9db8-920e850cce05",
   "metadata": {},
   "outputs": [],
   "source": [
    "top_correlations"
   ]
  },
  {
   "cell_type": "code",
   "execution_count": null,
   "id": "d58cfb89-057b-487c-9431-bb4365e106e4",
   "metadata": {},
   "outputs": [],
   "source": [
    "TopGenes = top_correlations['Gene'].unique()\n",
    "result_filtered = result[result['Gene'].isin(TopGenes)]\n",
    "heatmap_data = result_filtered.pivot(index=['Gender', 'Treatment'], columns='Gene', values='Correlation')"
   ]
  },
  {
   "cell_type": "code",
   "execution_count": null,
   "id": "28dc9163-1e80-49a3-9f5a-ea30c6e84614",
   "metadata": {
    "tags": []
   },
   "outputs": [],
   "source": [
    "cg = sns.clustermap(heatmap_data, annot=False, cmap='coolwarm', cbar=True, cbar_pos=(0.85, 0.8, 0.025, 0.1))\n",
    "cg.ax_row_dendrogram.set_visible(False)\n",
    "cg.ax_col_dendrogram.set_visible(False)\n",
    "cg.ax_row_dendrogram.set_xlim([0,0])"
   ]
  },
  {
   "cell_type": "code",
   "execution_count": null,
   "id": "fce62909-77d5-484a-b54b-63de5db9a360",
   "metadata": {
    "tags": []
   },
   "outputs": [],
   "source": [
    "cg = sns.clustermap(heatmap_data.T, annot=False, cmap='vlag', cbar=True,\n",
    "                   linewidths=0.75, linecolor= 'black',\n",
    "                    dendrogram_ratio=(.175, .025), center=0, vmin=-0.5, vmax = 0.5,\n",
    "                    square=True, cbar_pos=(0.05, 0.75, 0.05, 0.18))\n",
    "cg.ax_row_dendrogram.set_visible(False)\n",
    "cg.ax_col_dendrogram.set_visible(False)\n",
    "cg.cax.set_title('Pearson \\n Correlation', pad=10)\n",
    "cg.ax_row_dendrogram.set_xlim([0,0])\n",
    "plt.savefig('/home/valdeola/Figs_Bettina/Correlation_Heatmap.jpg', dpi=300)"
   ]
  },
  {
   "cell_type": "markdown",
   "id": "4419167b-a6a1-4a6c-a26f-bdc9e343a49e",
   "metadata": {},
   "source": [
    "## Top correlated genes from Chromosome Y"
   ]
  },
  {
   "cell_type": "markdown",
   "id": "c563af73-7a11-45b6-b595-56c594585117",
   "metadata": {},
   "source": [
    "We extractred genes that are located in Chromosome Y from MGI and ENSEMBL"
   ]
  },
  {
   "cell_type": "code",
   "execution_count": null,
   "id": "99570bec-7a9f-48c0-9a7d-cd6aaa6df46d",
   "metadata": {
    "tags": []
   },
   "outputs": [],
   "source": [
    "MGI_Ygenes_df = pd.read_csv(\"MGImarkerQuery_20240305_Ygenes.txt\", sep=\"\\t\")"
   ]
  },
  {
   "cell_type": "code",
   "execution_count": null,
   "id": "bfb0dbe2-c567-439d-890a-363c82e3ec43",
   "metadata": {
    "tags": []
   },
   "outputs": [],
   "source": [
    "MGI_Ygenes_df"
   ]
  },
  {
   "cell_type": "code",
   "execution_count": null,
   "id": "c2b090f4-5651-47ac-aa60-a8a6eef20376",
   "metadata": {
    "tags": []
   },
   "outputs": [],
   "source": [
    "ENSEMBLE_Ygenes_df =  pd.read_csv(\"mart_export_Ygenes.txt\", sep=\"\\t\")"
   ]
  },
  {
   "cell_type": "code",
   "execution_count": null,
   "id": "236b801b-b628-400b-9352-6fa47ae31f8c",
   "metadata": {
    "tags": []
   },
   "outputs": [],
   "source": [
    "ENSEMBLE_Ygenes_df"
   ]
  },
  {
   "cell_type": "code",
   "execution_count": null,
   "id": "1251a8f0-c93f-4781-9d03-38ec638a0862",
   "metadata": {},
   "outputs": [],
   "source": [
    "final_list  = list(set(MGI_Ygenes_df['Symbol'].unique().tolist()) | set(ENSEMBLE_Ygenes_df['Gene name'].unique().tolist()))"
   ]
  },
  {
   "cell_type": "code",
   "execution_count": null,
   "id": "e0ad7a40-11fc-4752-b96c-0f7fb45037a1",
   "metadata": {
    "tags": []
   },
   "outputs": [],
   "source": [
    "result_ychromosome = result[result['Gene'].isin(final_list)]"
   ]
  },
  {
   "cell_type": "code",
   "execution_count": null,
   "id": "f6e87908-31c6-4200-92b5-0458575aa3a8",
   "metadata": {
    "tags": []
   },
   "outputs": [],
   "source": [
    "result_ychromosome.sort_values(by=['Absolute_Correlation'], ascending=[False])"
   ]
  },
  {
   "cell_type": "markdown",
   "id": "ad948e4c-8267-4046-ab6d-841b554d0b1b",
   "metadata": {
    "tags": []
   },
   "source": [
    "## Top correlated receptors"
   ]
  },
  {
   "cell_type": "markdown",
   "id": "0965af82-fb0e-4909-99d8-f36ef946f59d",
   "metadata": {
    "tags": []
   },
   "source": [
    "We extracted mouse genes from biomart that are associated with receptor activity according to their GO annotations (GO:0038023, GO:0019041 or GO:0004872)"
   ]
  },
  {
   "cell_type": "code",
   "execution_count": null,
   "id": "ff04e0d5-f948-42fe-963c-b8579163eede",
   "metadata": {
    "tags": []
   },
   "outputs": [],
   "source": [
    "ENSEMBLE_genes_receptors_df =  pd.read_csv(\"mart_export_Receptors.txt\", sep=\"\\t\")"
   ]
  },
  {
   "cell_type": "code",
   "execution_count": null,
   "id": "02478497-dd0c-44d9-beb6-c7d3a43be8a6",
   "metadata": {
    "tags": []
   },
   "outputs": [],
   "source": [
    "ENSEMBLE_genes_receptors_df"
   ]
  },
  {
   "cell_type": "code",
   "execution_count": null,
   "id": "a34528b3-fa4f-4163-9137-dcb1c5c9428b",
   "metadata": {
    "tags": []
   },
   "outputs": [],
   "source": [
    "result_receptors = result[result['Gene'].isin(ENSEMBLE_genes_receptors_df['Gene name'].unique().tolist())]"
   ]
  },
  {
   "cell_type": "markdown",
   "id": "d1663db1-018f-4e24-8379-c004220cdca7",
   "metadata": {},
   "source": [
    "Some of the genes seems to be ligands rather than receptors, but for instance these Mup have annotations as insulin receptor activity."
   ]
  },
  {
   "cell_type": "code",
   "execution_count": null,
   "id": "d7a41d2f-c18a-4ece-81bf-1ec78c9ab9d7",
   "metadata": {
    "tags": []
   },
   "outputs": [],
   "source": [
    "result_receptors.sort_values(by=['Absolute_Correlation'], ascending=[False]).head(50)"
   ]
  },
  {
   "cell_type": "code",
   "execution_count": null,
   "id": "a5444bfb-08ac-4ec7-8652-a58aa6c0096c",
   "metadata": {
    "tags": []
   },
   "outputs": [],
   "source": [
    "receptors_set = [\n",
    "    'Met',\n",
    "    'AU040320',\n",
    "    'Fgfr1',\n",
    "    'Hspg2',\n",
    "    'Rpsa',\n",
    "    'Cd9',\n",
    "    'Itgb5',\n",
    "    'Itgav',\n",
    "    'Itgb1',\n",
    "] "
   ]
  },
  {
   "cell_type": "code",
   "execution_count": null,
   "id": "5d3278b1-56ab-4ac8-ba02-ca53d18296d0",
   "metadata": {
    "tags": []
   },
   "outputs": [],
   "source": [
    "result_receptors_2 = result[result['Gene'].isin(receptors_set)]"
   ]
  },
  {
   "cell_type": "code",
   "execution_count": null,
   "id": "4eb7a1ad-a414-43da-8b4a-2a701dc6999a",
   "metadata": {
    "tags": []
   },
   "outputs": [],
   "source": [
    "result_receptors_2.sort_values(by=['Absolute_Correlation'], ascending=[False]).head(50)"
   ]
  },
  {
   "cell_type": "markdown",
   "id": "d63294f3-edc1-4947-b9da-0f964dff4403",
   "metadata": {},
   "source": [
    " We extracted the list of receptors from [CellCommuNet](https://academic.oup.com/nar/advance-article/doi/10.1093/nar/gkad906/7321072?login=true). To get receptors that are relevant in mice liver, we filtered by mus musculus, normal condition, study type single, and tissue liver. Of note, the complexes have human nomenclature,so I will drop them."
   ]
  },
  {
   "cell_type": "code",
   "execution_count": null,
   "id": "dd813c4d-7455-429a-b771-9b17df5561b8",
   "metadata": {
    "tags": []
   },
   "outputs": [],
   "source": [
    "df_cell_interactions = pd.read_csv('CellCommResults.csv')\n",
    "df_cell_interactions"
   ]
  },
  {
   "cell_type": "code",
   "execution_count": null,
   "id": "05d7e82c-6337-41b8-9c05-04c408d550c9",
   "metadata": {
    "tags": []
   },
   "outputs": [],
   "source": [
    "receptors_cellComm = df_cell_interactions['Receptor'].unique().tolist() + receptors_set\n",
    "receptors_cellComm"
   ]
  },
  {
   "cell_type": "code",
   "execution_count": null,
   "id": "5a921b07-7a54-4cb7-b710-fd67a23d707f",
   "metadata": {
    "tags": []
   },
   "outputs": [],
   "source": [
    "result_receptors_3 = result[result['Gene'].isin(receptors_cellComm)]\n",
    "result_receptors_3.sort_values(by=['Absolute_Correlation'], ascending=[False]).head(50)"
   ]
  },
  {
   "cell_type": "markdown",
   "id": "926a05b1-3b6b-46c5-be4d-10b40651c457",
   "metadata": {},
   "source": [
    "## And if group per sample as well to see differences between samples? "
   ]
  },
  {
   "cell_type": "code",
   "execution_count": null,
   "id": "a138814c-bff4-485f-af51-566e4b5b0088",
   "metadata": {
    "tags": []
   },
   "outputs": [],
   "source": [
    "df"
   ]
  },
  {
   "cell_type": "code",
   "execution_count": null,
   "id": "1a13b564-3b7c-4abd-8a83-f10ae7cca60f",
   "metadata": {
    "tags": []
   },
   "outputs": [],
   "source": [
    "result_perSample = df.groupby(['Gene', 'Sample'])['Correlation'].mean().reset_index()\n",
    "result_perSample['Absolute_Correlation'] = result_perSample['Correlation'].abs()\n",
    "result_perSample = result_perSample.sort_values(by=['Absolute_Correlation'], ascending=[False])"
   ]
  },
  {
   "cell_type": "code",
   "execution_count": null,
   "id": "c9420520-5ac7-47f9-8e3b-7262b980e42a",
   "metadata": {
    "tags": []
   },
   "outputs": [],
   "source": [
    "result_perSample"
   ]
  },
  {
   "cell_type": "code",
   "execution_count": null,
   "id": "1fe19c76-2c9d-469a-96ef-d17fd50632d4",
   "metadata": {
    "tags": []
   },
   "outputs": [],
   "source": [
    "result_perSample_receptorSet = result_perSample[result_perSample['Gene'].isin(receptors_set)]"
   ]
  },
  {
   "cell_type": "code",
   "execution_count": null,
   "id": "4834cde1-9acd-4de7-8241-f0962e3f461e",
   "metadata": {
    "tags": []
   },
   "outputs": [],
   "source": [
    "heatmap_data = result_perSample_receptorSet.pivot(index=['Sample'], columns='Gene', values='Correlation')"
   ]
  },
  {
   "cell_type": "code",
   "execution_count": null,
   "id": "ad326a43-c351-4407-a41c-bce977ab1ec0",
   "metadata": {
    "tags": []
   },
   "outputs": [],
   "source": [
    "cg = sns.clustermap(heatmap_data, annot=False, cmap='coolwarm', cbar=True, cbar_pos=(0.85, 0.8, 0.025, 0.1))\n",
    "cg.ax_row_dendrogram.set_visible(False)\n",
    "cg.ax_col_dendrogram.set_visible(False)\n",
    "cg.ax_row_dendrogram.set_xlim([0,0])"
   ]
  },
  {
   "cell_type": "code",
   "execution_count": null,
   "id": "b2236ab9-ec26-4441-a812-b04bb070509f",
   "metadata": {},
   "outputs": [],
   "source": [
    "! jupyter nbconvert --to html 11_Top_CorrelatedGenes_withTransgene.ipynb"
   ]
  },
  {
   "cell_type": "code",
   "execution_count": null,
   "id": "8a5a502d-b090-49fa-a182-67df170c48c3",
   "metadata": {},
   "outputs": [],
   "source": []
  }
 ],
 "metadata": {
  "kernelspec": {
   "display_name": "BeSpace_basic_env",
   "language": "python",
   "name": "bespace_basic_env"
  },
  "language_info": {
   "codemirror_mode": {
    "name": "ipython",
    "version": 3
   },
   "file_extension": ".py",
   "mimetype": "text/x-python",
   "name": "python",
   "nbconvert_exporter": "python",
   "pygments_lexer": "ipython3",
   "version": "3.9.18"
  }
 },
 "nbformat": 4,
 "nbformat_minor": 5
}
