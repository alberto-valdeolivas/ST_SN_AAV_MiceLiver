{
 "cells": [
  {
   "cell_type": "markdown",
   "id": "06880ed6-f432-4bf8-a081-da4661f7d502",
   "metadata": {},
   "source": [
    "# Pseudo-bulk joint functional analysis with decoupler"
   ]
  },
  {
   "cell_type": "code",
   "execution_count": null,
   "id": "8e56cd36-181a-4e4e-9238-82f7a0a2aeaf",
   "metadata": {},
   "outputs": [],
   "source": [
    "import scanpy as sc\n",
    "import decoupler as dc\n",
    "\n",
    "# Only needed for processing\n",
    "import numpy as np\n",
    "import pandas as pd\n",
    "\n",
    "# Needed for some plotting\n",
    "import matplotlib.pyplot as plt\n",
    "\n",
    "import os\n",
    "import anndata as ad\n",
    "import scanorama\n",
    "\n",
    "from wrapper_functions import *"
   ]
  },
  {
   "cell_type": "code",
   "execution_count": null,
   "id": "0098d130-5736-4835-9397-c00eb0166b74",
   "metadata": {},
   "outputs": [],
   "source": [
    "# Automatically re-load wrapper functions after an update\n",
    "# Find details here: https://ipython.readthedocs.io/en/stable/config/extensions/autoreload.html\n",
    "%load_ext autoreload\n",
    "%autoreload 2"
   ]
  },
  {
   "cell_type": "code",
   "execution_count": null,
   "id": "e7c8b573-175c-480a-a798-1ad6a610f039",
   "metadata": {},
   "outputs": [],
   "source": [
    "organism = Organism.mouse\n",
    "analyze_params = Analyze(protocol=Protocol.FF, organism=organism)"
   ]
  },
  {
   "cell_type": "code",
   "execution_count": null,
   "id": "b921e215-d833-4921-bd99-6c6911270c68",
   "metadata": {},
   "outputs": [],
   "source": [
    "root_path = os.getcwd()\n",
    "inpath='your_inpath_folder' # Replace with the location of your samples\n",
    "results_folder = os.path.join(root_path, 'analyzed', 'zonation')"
   ]
  },
  {
   "cell_type": "code",
   "execution_count": null,
   "id": "62b96016-7327-4a8a-ac9b-cdb0f9c54a3e",
   "metadata": {},
   "outputs": [
    {
     "name": "stderr",
     "output_type": "stream",
     "text": [
      "/home/valdeola/scratch/conda/envs/BeSpace_basic_env/lib/python3.9/site-packages/anndata/__init__.py:51: FutureWarning: `anndata.read` is deprecated, use `anndata.read_h5ad` instead. `ad.read` will be removed in mid 2024.\n",
      "  warnings.warn(\n",
      "/home/valdeola/scratch/conda/envs/BeSpace_basic_env/lib/python3.9/site-packages/anndata/__init__.py:51: FutureWarning: `anndata.read` is deprecated, use `anndata.read_h5ad` instead. `ad.read` will be removed in mid 2024.\n",
      "  warnings.warn(\n"
     ]
    },
    {
     "name": "stderr",
     "output_type": "stream",
     "text": [
      "/home/valdeola/scratch/conda/envs/BeSpace_basic_env/lib/python3.9/site-packages/anndata/__init__.py:51: FutureWarning: `anndata.read` is deprecated, use `anndata.read_h5ad` instead. `ad.read` will be removed in mid 2024.\n",
      "  warnings.warn(\n"
     ]
    },
    {
     "name": "stderr",
     "output_type": "stream",
     "text": [
      "/home/valdeola/scratch/conda/envs/BeSpace_basic_env/lib/python3.9/site-packages/anndata/__init__.py:51: FutureWarning: `anndata.read` is deprecated, use `anndata.read_h5ad` instead. `ad.read` will be removed in mid 2024.\n",
      "  warnings.warn(\n"
     ]
    },
    {
     "name": "stderr",
     "output_type": "stream",
     "text": [
      "/home/valdeola/scratch/conda/envs/BeSpace_basic_env/lib/python3.9/site-packages/anndata/__init__.py:51: FutureWarning: `anndata.read` is deprecated, use `anndata.read_h5ad` instead. `ad.read` will be removed in mid 2024.\n",
      "  warnings.warn(\n"
     ]
    },
    {
     "name": "stderr",
     "output_type": "stream",
     "text": [
      "/home/valdeola/scratch/conda/envs/BeSpace_basic_env/lib/python3.9/site-packages/anndata/__init__.py:51: FutureWarning: `anndata.read` is deprecated, use `anndata.read_h5ad` instead. `ad.read` will be removed in mid 2024.\n",
      "  warnings.warn(\n"
     ]
    },
    {
     "name": "stderr",
     "output_type": "stream",
     "text": [
      "/home/valdeola/scratch/conda/envs/BeSpace_basic_env/lib/python3.9/site-packages/anndata/__init__.py:51: FutureWarning: `anndata.read` is deprecated, use `anndata.read_h5ad` instead. `ad.read` will be removed in mid 2024.\n",
      "  warnings.warn(\n"
     ]
    },
    {
     "name": "stderr",
     "output_type": "stream",
     "text": [
      "/home/valdeola/scratch/conda/envs/BeSpace_basic_env/lib/python3.9/site-packages/anndata/__init__.py:51: FutureWarning: `anndata.read` is deprecated, use `anndata.read_h5ad` instead. `ad.read` will be removed in mid 2024.\n",
      "  warnings.warn(\n"
     ]
    },
    {
     "name": "stderr",
     "output_type": "stream",
     "text": [
      "/home/valdeola/scratch/conda/envs/BeSpace_basic_env/lib/python3.9/site-packages/anndata/__init__.py:51: FutureWarning: `anndata.read` is deprecated, use `anndata.read_h5ad` instead. `ad.read` will be removed in mid 2024.\n",
      "  warnings.warn(\n"
     ]
    },
    {
     "name": "stderr",
     "output_type": "stream",
     "text": [
      "/home/valdeola/scratch/conda/envs/BeSpace_basic_env/lib/python3.9/site-packages/anndata/__init__.py:51: FutureWarning: `anndata.read` is deprecated, use `anndata.read_h5ad` instead. `ad.read` will be removed in mid 2024.\n",
      "  warnings.warn(\n"
     ]
    },
    {
     "name": "stderr",
     "output_type": "stream",
     "text": [
      "/home/valdeola/scratch/conda/envs/BeSpace_basic_env/lib/python3.9/site-packages/anndata/__init__.py:51: FutureWarning: `anndata.read` is deprecated, use `anndata.read_h5ad` instead. `ad.read` will be removed in mid 2024.\n",
      "  warnings.warn(\n"
     ]
    },
    {
     "name": "stderr",
     "output_type": "stream",
     "text": [
      "/home/valdeola/scratch/conda/envs/BeSpace_basic_env/lib/python3.9/site-packages/anndata/__init__.py:51: FutureWarning: `anndata.read` is deprecated, use `anndata.read_h5ad` instead. `ad.read` will be removed in mid 2024.\n",
      "  warnings.warn(\n"
     ]
    },
    {
     "name": "stderr",
     "output_type": "stream",
     "text": [
      "/home/valdeola/scratch/conda/envs/BeSpace_basic_env/lib/python3.9/site-packages/anndata/__init__.py:51: FutureWarning: `anndata.read` is deprecated, use `anndata.read_h5ad` instead. `ad.read` will be removed in mid 2024.\n",
      "  warnings.warn(\n"
     ]
    },
    {
     "name": "stderr",
     "output_type": "stream",
     "text": [
      "/home/valdeola/scratch/conda/envs/BeSpace_basic_env/lib/python3.9/site-packages/anndata/__init__.py:51: FutureWarning: `anndata.read` is deprecated, use `anndata.read_h5ad` instead. `ad.read` will be removed in mid 2024.\n",
      "  warnings.warn(\n",
      "/home/valdeola/scratch/conda/envs/BeSpace_basic_env/lib/python3.9/site-packages/anndata/__init__.py:51: FutureWarning: `anndata.read` is deprecated, use `anndata.read_h5ad` instead. `ad.read` will be removed in mid 2024.\n",
      "  warnings.warn(\n"
     ]
    },
    {
     "name": "stderr",
     "output_type": "stream",
     "text": [
      "/home/valdeola/scratch/conda/envs/BeSpace_basic_env/lib/python3.9/site-packages/anndata/__init__.py:51: FutureWarning: `anndata.read` is deprecated, use `anndata.read_h5ad` instead. `ad.read` will be removed in mid 2024.\n",
      "  warnings.warn(\n",
      "/home/valdeola/scratch/conda/envs/BeSpace_basic_env/lib/python3.9/site-packages/anndata/__init__.py:51: FutureWarning: `anndata.read` is deprecated, use `anndata.read_h5ad` instead. `ad.read` will be removed in mid 2024.\n",
      "  warnings.warn(\n"
     ]
    }
   ],
   "source": [
    "file_names = [f for f in os.listdir(results_folder) if os.path.isfile(os.path.join(results_folder, f))]\n",
    "\n",
    "adata_list = [ad.read(os.path.join(results_folder, file)) for file in file_names if file.endswith('.h5ad')]"
   ]
  },
  {
   "cell_type": "code",
   "execution_count": null,
   "id": "71e695b9-aa02-4f71-8e67-5e6807c1f55b",
   "metadata": {},
   "outputs": [
    {
     "name": "stdout",
     "output_type": "stream",
     "text": [
      "[[0.00000000e+00 0.00000000e+00 1.27445500e-01 6.46829811e-01\n",
      "  7.38552437e-04 3.55871886e-03 0.00000000e+00 0.00000000e+00\n",
      "  0.00000000e+00 0.00000000e+00 1.23839009e-03 0.00000000e+00\n",
      "  7.61614623e-04 0.00000000e+00 0.00000000e+00 2.21565731e-03\n",
      "  0.00000000e+00 0.00000000e+00]\n",
      " [0.00000000e+00 0.00000000e+00 0.00000000e+00 0.00000000e+00\n",
      "  0.00000000e+00 0.00000000e+00 2.85394933e-01 7.45156483e-04\n",
      "  0.00000000e+00 8.56929955e-02 0.00000000e+00 2.83159463e-02\n",
      "  0.00000000e+00 2.98062593e-03 9.17431193e-03 0.00000000e+00\n",
      "  6.60953800e-01 1.19225037e-02]\n",
      " [0.00000000e+00 0.00000000e+00 0.00000000e+00 8.38457239e-02\n",
      "  1.82100684e-01 1.11794298e-02 0.00000000e+00 0.00000000e+00\n",
      "  5.21296885e-02 0.00000000e+00 2.25265511e-01 0.00000000e+00\n",
      "  7.61614623e-03 0.00000000e+00 0.00000000e+00 1.22510561e-01\n",
      "  0.00000000e+00 0.00000000e+00]\n",
      " [0.00000000e+00 0.00000000e+00 0.00000000e+00 0.00000000e+00\n",
      "  1.61290323e-02 2.76974416e-01 0.00000000e+00 0.00000000e+00\n",
      "  7.78642937e-03 0.00000000e+00 0.00000000e+00 0.00000000e+00\n",
      "  1.83537264e-02 0.00000000e+00 0.00000000e+00 5.43150272e-03\n",
      "  0.00000000e+00 0.00000000e+00]\n",
      " [0.00000000e+00 0.00000000e+00 0.00000000e+00 0.00000000e+00\n",
      "  0.00000000e+00 3.20996441e-01 6.99300699e-04 0.00000000e+00\n",
      "  2.36171535e-02 0.00000000e+00 4.65634675e-01 0.00000000e+00\n",
      "  6.85453161e-02 0.00000000e+00 0.00000000e+00 1.49160970e-02\n",
      "  0.00000000e+00 0.00000000e+00]\n",
      " [0.00000000e+00 0.00000000e+00 0.00000000e+00 0.00000000e+00\n",
      "  0.00000000e+00 0.00000000e+00 0.00000000e+00 0.00000000e+00\n",
      "  6.04982206e-02 0.00000000e+00 8.66873065e-03 0.00000000e+00\n",
      "  3.23131673e-01 0.00000000e+00 0.00000000e+00 2.13523132e-02\n",
      "  0.00000000e+00 0.00000000e+00]\n",
      " [0.00000000e+00 0.00000000e+00 0.00000000e+00 0.00000000e+00\n",
      "  0.00000000e+00 0.00000000e+00 0.00000000e+00 4.61538462e-02\n",
      "  0.00000000e+00 5.87412587e-02 0.00000000e+00 7.25901090e-01\n",
      "  0.00000000e+00 4.12587413e-02 2.58741259e-02 0.00000000e+00\n",
      "  1.27272727e-01 2.22377622e-01]\n",
      " [0.00000000e+00 0.00000000e+00 0.00000000e+00 0.00000000e+00\n",
      "  0.00000000e+00 0.00000000e+00 0.00000000e+00 0.00000000e+00\n",
      "  0.00000000e+00 5.61197917e-01 0.00000000e+00 4.19111484e-03\n",
      "  0.00000000e+00 1.80691455e-01 2.08507089e-02 0.00000000e+00\n",
      "  1.24711316e-01 5.97982709e-02]\n",
      " [0.00000000e+00 0.00000000e+00 0.00000000e+00 0.00000000e+00\n",
      "  0.00000000e+00 0.00000000e+00 0.00000000e+00 0.00000000e+00\n",
      "  0.00000000e+00 0.00000000e+00 6.29370629e-02 0.00000000e+00\n",
      "  3.17863954e-03 0.00000000e+00 0.00000000e+00 3.30578512e-01\n",
      "  0.00000000e+00 0.00000000e+00]\n",
      " [0.00000000e+00 0.00000000e+00 0.00000000e+00 0.00000000e+00\n",
      "  0.00000000e+00 0.00000000e+00 0.00000000e+00 0.00000000e+00\n",
      "  0.00000000e+00 0.00000000e+00 0.00000000e+00 2.43084661e-02\n",
      "  0.00000000e+00 1.17416830e-02 6.44531250e-02 0.00000000e+00\n",
      "  2.27213542e-01 8.64553314e-02]\n",
      " [0.00000000e+00 0.00000000e+00 0.00000000e+00 0.00000000e+00\n",
      "  0.00000000e+00 0.00000000e+00 0.00000000e+00 0.00000000e+00\n",
      "  0.00000000e+00 0.00000000e+00 0.00000000e+00 0.00000000e+00\n",
      "  9.90099010e-03 0.00000000e+00 0.00000000e+00 5.36842105e-01\n",
      "  0.00000000e+00 0.00000000e+00]\n",
      " [0.00000000e+00 0.00000000e+00 0.00000000e+00 0.00000000e+00\n",
      "  0.00000000e+00 0.00000000e+00 0.00000000e+00 0.00000000e+00\n",
      "  0.00000000e+00 0.00000000e+00 0.00000000e+00 0.00000000e+00\n",
      "  0.00000000e+00 7.96311819e-02 2.16847373e-02 0.00000000e+00\n",
      "  2.69438029e-02 3.78876781e-01]\n",
      " [0.00000000e+00 0.00000000e+00 0.00000000e+00 0.00000000e+00\n",
      "  0.00000000e+00 0.00000000e+00 0.00000000e+00 0.00000000e+00\n",
      "  0.00000000e+00 0.00000000e+00 0.00000000e+00 0.00000000e+00\n",
      "  0.00000000e+00 1.52322925e-03 2.50208507e-03 0.00000000e+00\n",
      "  0.00000000e+00 0.00000000e+00]\n",
      " [0.00000000e+00 0.00000000e+00 0.00000000e+00 0.00000000e+00\n",
      "  0.00000000e+00 0.00000000e+00 0.00000000e+00 0.00000000e+00\n",
      "  0.00000000e+00 0.00000000e+00 0.00000000e+00 0.00000000e+00\n",
      "  0.00000000e+00 0.00000000e+00 8.49874896e-01 0.00000000e+00\n",
      "  0.00000000e+00 3.44422701e-01]\n",
      " [0.00000000e+00 0.00000000e+00 0.00000000e+00 0.00000000e+00\n",
      "  0.00000000e+00 0.00000000e+00 0.00000000e+00 0.00000000e+00\n",
      "  0.00000000e+00 0.00000000e+00 0.00000000e+00 0.00000000e+00\n",
      "  0.00000000e+00 0.00000000e+00 0.00000000e+00 0.00000000e+00\n",
      "  8.34028357e-04 5.37948290e-01]\n",
      " [0.00000000e+00 0.00000000e+00 0.00000000e+00 0.00000000e+00\n",
      "  0.00000000e+00 0.00000000e+00 0.00000000e+00 0.00000000e+00\n",
      "  0.00000000e+00 0.00000000e+00 0.00000000e+00 0.00000000e+00\n",
      "  0.00000000e+00 0.00000000e+00 0.00000000e+00 0.00000000e+00\n",
      "  0.00000000e+00 0.00000000e+00]\n",
      " [0.00000000e+00 0.00000000e+00 0.00000000e+00 0.00000000e+00\n",
      "  0.00000000e+00 0.00000000e+00 0.00000000e+00 0.00000000e+00\n",
      "  0.00000000e+00 0.00000000e+00 0.00000000e+00 0.00000000e+00\n",
      "  0.00000000e+00 0.00000000e+00 0.00000000e+00 0.00000000e+00\n",
      "  0.00000000e+00 2.01729107e-02]\n",
      " [0.00000000e+00 0.00000000e+00 0.00000000e+00 0.00000000e+00\n",
      "  0.00000000e+00 0.00000000e+00 0.00000000e+00 0.00000000e+00\n",
      "  0.00000000e+00 0.00000000e+00 0.00000000e+00 0.00000000e+00\n",
      "  0.00000000e+00 0.00000000e+00 0.00000000e+00 0.00000000e+00\n",
      "  0.00000000e+00 0.00000000e+00]]\n",
      "Processing datasets (13, 14)\n"
     ]
    },
    {
     "name": "stdout",
     "output_type": "stream",
     "text": [
      "Processing datasets (6, 11)\n"
     ]
    },
    {
     "name": "stdout",
     "output_type": "stream",
     "text": [
      "Processing datasets (1, 16)\n"
     ]
    },
    {
     "name": "stdout",
     "output_type": "stream",
     "text": [
      "Processing datasets (0, 3)\n"
     ]
    },
    {
     "name": "stdout",
     "output_type": "stream",
     "text": [
      "Processing datasets (7, 9)\n"
     ]
    },
    {
     "name": "stdout",
     "output_type": "stream",
     "text": [
      "Processing datasets (14, 17)\n"
     ]
    },
    {
     "name": "stdout",
     "output_type": "stream",
     "text": [
      "Processing datasets (10, 15)\n"
     ]
    },
    {
     "name": "stdout",
     "output_type": "stream",
     "text": [
      "Processing datasets (4, 10)\n"
     ]
    },
    {
     "name": "stdout",
     "output_type": "stream",
     "text": [
      "Processing datasets (11, 17)\n"
     ]
    },
    {
     "name": "stdout",
     "output_type": "stream",
     "text": [
      "Processing datasets (13, 17)\n"
     ]
    },
    {
     "name": "stdout",
     "output_type": "stream",
     "text": [
      "Processing datasets (8, 15)\n"
     ]
    },
    {
     "name": "stdout",
     "output_type": "stream",
     "text": [
      "Processing datasets (5, 12)\n"
     ]
    },
    {
     "name": "stdout",
     "output_type": "stream",
     "text": [
      "Processing datasets (4, 5)\n"
     ]
    },
    {
     "name": "stdout",
     "output_type": "stream",
     "text": [
      "Processing datasets (1, 6)\n"
     ]
    },
    {
     "name": "stdout",
     "output_type": "stream",
     "text": [
      "Processing datasets (3, 5)\n"
     ]
    },
    {
     "name": "stdout",
     "output_type": "stream",
     "text": [
      "Processing datasets (9, 16)\n"
     ]
    },
    {
     "name": "stdout",
     "output_type": "stream",
     "text": [
      "Processing datasets (2, 10)\n"
     ]
    },
    {
     "name": "stdout",
     "output_type": "stream",
     "text": [
      "Processing datasets (6, 17)\n"
     ]
    },
    {
     "name": "stdout",
     "output_type": "stream",
     "text": [
      "Processing datasets (2, 4)\n"
     ]
    },
    {
     "name": "stdout",
     "output_type": "stream",
     "text": [
      "Processing datasets (7, 13)\n"
     ]
    },
    {
     "name": "stdout",
     "output_type": "stream",
     "text": [
      "Processing datasets (0, 2)\n"
     ]
    },
    {
     "name": "stdout",
     "output_type": "stream",
     "text": [
      "Processing datasets (6, 16)\n"
     ]
    },
    {
     "name": "stdout",
     "output_type": "stream",
     "text": [
      "Processing datasets (7, 16)\n"
     ]
    },
    {
     "name": "stdout",
     "output_type": "stream",
     "text": [
      "Processing datasets (2, 15)\n"
     ]
    }
   ],
   "source": [
    "adatas_cor = scanorama.correct_scanpy(adata_list, return_dimred=True)"
   ]
  },
  {
   "cell_type": "code",
   "execution_count": null,
   "id": "4ed63642-adc0-49a5-b9ca-1175080a861c",
   "metadata": {},
   "outputs": [],
   "source": [
    "adata_spatial = sc.concat(\n",
    "    adatas_cor,\n",
    "    label=\"library_id\",\n",
    "    uns_merge=\"unique\",\n",
    "    keys=[\n",
    "        k\n",
    "        for d in [adata.uns[\"spatial\"] for adata in adatas_cor]\n",
    "        for k, v in d.items()\n",
    "    ],\n",
    "    index_unique=\"-\",\n",
    ")"
   ]
  },
  {
   "cell_type": "code",
   "execution_count": null,
   "id": "8a9379fd-4571-4b49-9b85-e0c5c12fd052",
   "metadata": {},
   "outputs": [],
   "source": [
    "sc.pp.neighbors(adata_spatial, use_rep=\"X_scanorama\")\n",
    "sc.tl.umap(adata_spatial)\n",
    "sc.tl.leiden(adata_spatial, key_added=\"clusters\")"
   ]
  },
  {
   "cell_type": "code",
   "execution_count": null,
   "id": "a6c92387-8b4d-4195-a6e7-9a3fd650254e",
   "metadata": {},
   "outputs": [],
   "source": [
    "sc.pl.umap(\n",
    "    adata_spatial, color=[\"Sample_ID\"], palette=sc.pl.palettes.default_20)"
   ]
  },
  {
   "cell_type": "code",
   "execution_count": null,
   "id": "3279f10b-aa5d-44bd-b3b6-2274b8cbc0c9",
   "metadata": {},
   "outputs": [],
   "source": [
    "sc.pl.umap(\n",
    "    adata_spatial, color=[\"Batch_ID\"], palette=sc.pl.palettes.default_20)"
   ]
  },
  {
   "cell_type": "code",
   "execution_count": null,
   "id": "5ba3e1a3-60f8-423c-bfa5-25e702cf4022",
   "metadata": {},
   "outputs": [],
   "source": [
    "sc.pl.umap(\n",
    "    adata_spatial, color=[\"Slide_ID\"], palette=sc.pl.palettes.default_20)"
   ]
  },
  {
   "cell_type": "code",
   "execution_count": null,
   "id": "94af3da8-27c4-45e2-bb47-be7e0f23d9f5",
   "metadata": {},
   "outputs": [],
   "source": [
    "sc.pl.umap(\n",
    "    adata_spatial, color=[\"Gender\"], palette=sc.pl.palettes.default_20)"
   ]
  },
  {
   "cell_type": "code",
   "execution_count": null,
   "id": "a3fa2664-e5fb-447a-a4ea-ba2759eb2c1d",
   "metadata": {},
   "outputs": [],
   "source": [
    "sc.pl.umap(\n",
    "    adata_spatial, color=[\"Condition\"], palette=sc.pl.palettes.default_20)"
   ]
  },
  {
   "cell_type": "code",
   "execution_count": null,
   "id": "caef709d-7f00-446f-a953-576025194744",
   "metadata": {},
   "outputs": [],
   "source": [
    "sc.pl.umap(\n",
    "    adata_spatial, color=[\"zonation\"], palette=sc.pl.palettes.default_20)"
   ]
  },
  {
   "cell_type": "code",
   "execution_count": null,
   "id": "2ae470a6-8668-4995-8a0e-d1e86505a1e2",
   "metadata": {},
   "outputs": [],
   "source": [
    "adata_concat = sc.concat(\n",
    "    adata_list,\n",
    "    label=\"library_id\",\n",
    "    uns_merge=\"unique\",\n",
    "    keys=[\n",
    "        k\n",
    "        for d in [adata.uns[\"spatial\"] for adata in adata_list]\n",
    "        for k, v in d.items()\n",
    "    ],\n",
    "    index_unique=\"-\",\n",
    ")"
   ]
  },
  {
   "cell_type": "code",
   "execution_count": null,
   "id": "f5f84554-dca4-419b-a736-8c06d893fe3b",
   "metadata": {},
   "outputs": [],
   "source": [
    "# Get pseudo-bulk profile\n",
    "pdata = dc.get_pseudobulk(\n",
    "    adata_concat,\n",
    "    sample_col='Sample_ID',\n",
    "    groups_col='zonation',\n",
    "    layer='counts',\n",
    "    mode='sum',\n",
    "    min_cells=0,\n",
    "    min_counts=0\n",
    ")\n",
    "pdata"
   ]
  },
  {
   "cell_type": "code",
   "execution_count": null,
   "id": "1044d494-5599-44dd-80b9-a69203af210a",
   "metadata": {},
   "outputs": [],
   "source": [
    "dc.plot_psbulk_samples(pdata, groupby=['Sample_ID', 'zonation', 'Gender'], figsize=(12, 8))"
   ]
  },
  {
   "cell_type": "code",
   "execution_count": null,
   "id": "d464e35e-eed8-4342-8a48-df43176bb55f",
   "metadata": {},
   "outputs": [],
   "source": [
    "# Get filtered pseudo-bulk profile\n",
    "pdata = dc.get_pseudobulk(\n",
    "    adata_concat,\n",
    "    sample_col='Sample_ID',\n",
    "    groups_col='zonation',\n",
    "    layer='counts',\n",
    "    mode='sum',\n",
    "    min_cells=10,\n",
    "    min_counts=1000\n",
    ")\n",
    "pdata"
   ]
  },
  {
   "cell_type": "code",
   "execution_count": null,
   "id": "65611f6c-d4ef-416b-85c5-69ba58dbb01d",
   "metadata": {},
   "outputs": [],
   "source": [
    "pdata.layers['counts'] = pdata.X.copy()\n",
    "\n",
    "# Normalize, scale and compute pca\n",
    "sc.pp.normalize_total(pdata, target_sum=1e6)\n",
    "sc.pp.log1p(pdata)\n",
    "sc.pp.scale(pdata, max_value=10)\n",
    "sc.tl.pca(pdata)\n",
    "\n",
    "# Return raw counts to X\n",
    "dc.swap_layer(pdata, 'counts', X_layer_key=None, inplace=True)"
   ]
  },
  {
   "cell_type": "code",
   "execution_count": null,
   "id": "2486b8d0-9ae7-4813-aa61-ad27d2c3ef06",
   "metadata": {
    "tags": []
   },
   "outputs": [],
   "source": [
    "print(pdata.X)"
   ]
  },
  {
   "cell_type": "code",
   "execution_count": null,
   "id": "6a053375-23d5-4297-bca6-f9498f7ada79",
   "metadata": {},
   "outputs": [],
   "source": [
    "sc.pl.pca(pdata, color=['Gender', 'Condition', 'zonation'], ncols=1, show=True, size=300)\n",
    "sc.pl.pca_variance_ratio(pdata)"
   ]
  },
  {
   "cell_type": "code",
   "execution_count": null,
   "id": "a6238c8b-eb07-4841-a8f5-afb08e7c2a2b",
   "metadata": {},
   "outputs": [],
   "source": [
    "dc.get_metadata_associations(\n",
    "    pdata,\n",
    "    obs_keys = ['Gender', 'Condition', 'zonation', 'psbulk_n_cells', 'psbulk_counts'], #metadata columns to associate to PCs\n",
    "    obsm_key='X_pca',  # where the PCs are stored\n",
    "    uns_key='pca_anova',  # where the results are stored\n",
    "    inplace=True\n",
    ")"
   ]
  },
  {
   "cell_type": "code",
   "execution_count": null,
   "id": "d13caaff-47b2-4fff-99bc-415e97447da4",
   "metadata": {
    "tags": []
   },
   "outputs": [],
   "source": [
    "plt.figure(figsize=(10,20))\n",
    "dc.plot_associations(\n",
    "    pdata,\n",
    "    uns_key='pca_anova',  # summary statistics from the anova tests\n",
    "    obsm_key='X_pca',  # where the PCs are stored\n",
    "    stat_col='p_adj',  # which summary statistic to plot\n",
    "    obs_annotation_cols = ['Gender','Condition', 'zonation'], # which sample annotations to plot\n",
    "    titles=['Adjusted p-values from ANOVA', 'Principle component scores']\n",
    ")\n",
    "plt.show()"
   ]
  },
  {
   "cell_type": "code",
   "execution_count": null,
   "id": "87d9d6e0-6463-431e-8caf-a0a94a2f88c7",
   "metadata": {
    "tags": []
   },
   "outputs": [],
   "source": [
    "sc.pl.pca(pdata, color=['Gender'], ncols=1, show=True, size=300, components =['1,3'] )"
   ]
  },
  {
   "cell_type": "code",
   "execution_count": null,
   "id": "83185254-9aec-4968-917d-e3c3c2464174",
   "metadata": {},
   "outputs": [],
   "source": [
    "sc.pl.pca(pdata, color=['zonation'], ncols=1, show=True, size=300, components =['2,3'] )"
   ]
  },
  {
   "cell_type": "code",
   "execution_count": null,
   "id": "b50ab078-deef-4d3b-a5e9-0828b34d9da7",
   "metadata": {},
   "outputs": [],
   "source": [
    "sc.pl.pca(pdata, color=['Condition'], ncols=1, show=True, size=300, components =['4,10'] )"
   ]
  },
  {
   "cell_type": "markdown",
   "id": "2f34d9b3-9595-499a-a25d-54c74fc9a384",
   "metadata": {
    "tags": []
   },
   "source": [
    "# Males AAV9 Versus Control in Pericentral"
   ]
  },
  {
   "cell_type": "code",
   "execution_count": null,
   "id": "be7ff05a-854d-42df-832b-4c1aac9be381",
   "metadata": {
    "tags": []
   },
   "outputs": [],
   "source": [
    "adata_males_AAV9_pericentral =  pdata[(pdata.obs['Gender'] == 'Male') & (pdata.obs['Condition'] != 'AAV2-CMV-GFP') & (pdata.obs['zonation'] == 'Pericentral')].copy()"
   ]
  },
  {
   "cell_type": "code",
   "execution_count": null,
   "id": "25e87a97-790f-417e-9a1a-8414f5bf183b",
   "metadata": {
    "tags": []
   },
   "outputs": [],
   "source": [
    "dc.plot_filter_by_expr(adata_males_AAV9_pericentral, group = 'Condition', min_count=10, min_total_count=40)"
   ]
  },
  {
   "cell_type": "code",
   "execution_count": null,
   "id": "350a1d88-e037-4c2c-b3e3-0e99cf4b19e0",
   "metadata": {
    "tags": []
   },
   "outputs": [],
   "source": [
    "adata_males_AAV9_pericentral.obs"
   ]
  },
  {
   "cell_type": "code",
   "execution_count": null,
   "id": "3e782abc-1350-4c28-a581-951d9b6f25d3",
   "metadata": {
    "tags": []
   },
   "outputs": [],
   "source": [
    "genes = dc.filter_by_expr(adata_males_AAV9_pericentral, group='Condition', min_count=10, min_total_count=40)\n",
    "\n",
    "# Filter by these genes\n",
    "adata_males_AAV9_pericentral = adata_males_AAV9_pericentral[:, genes].copy()\n",
    "adata_males_AAV9_pericentral"
   ]
  },
  {
   "cell_type": "markdown",
   "id": "724191fd-7209-4bf2-b5a1-8d2704cdd3f8",
   "metadata": {
    "tags": []
   },
   "source": [
    "## Contrast between conditions"
   ]
  },
  {
   "cell_type": "code",
   "execution_count": null,
   "id": "c17b4be9-a5b9-4318-9c75-5f34aa5d8e5c",
   "metadata": {
    "tags": []
   },
   "outputs": [],
   "source": [
    "# Import DESeq2\n",
    "from pydeseq2.dds import DeseqDataSet\n",
    "from pydeseq2.ds import DeseqStats\n",
    "from pydeseq2.default_inference import DefaultInference"
   ]
  },
  {
   "cell_type": "code",
   "execution_count": null,
   "id": "5ae298b2-1c1c-439c-9737-92b792b676c9",
   "metadata": {},
   "outputs": [],
   "source": [
    "# Build DESeq2 object\n",
    "inference = DefaultInference(n_cpus=1)\n",
    "dds = DeseqDataSet(\n",
    "    adata= adata_males_AAV9_pericentral,\n",
    "    design_factors=['Condition'],\n",
    "    ref_level=['Condition', 'Untreated'],\n",
    "    refit_cooks=True,\n",
    "    inference=inference,\n",
    "    n_cpus = 1)"
   ]
  },
  {
   "cell_type": "code",
   "execution_count": null,
   "id": "b1732689-f93c-402d-944b-6181950336bc",
   "metadata": {
    "tags": []
   },
   "outputs": [],
   "source": [
    "dds.obsm['design_matrix']"
   ]
  },
  {
   "cell_type": "code",
   "execution_count": null,
   "id": "b78a1012-08ef-42e7-9718-bb8425406995",
   "metadata": {
    "tags": []
   },
   "outputs": [
    {
     "name": "stderr",
     "output_type": "stream",
     "text": [
      "Fitting dispersions...\n"
     ]
    },
    {
     "name": "stderr",
     "output_type": "stream",
     "text": [
      "... done in 68.66 seconds.\n",
      "\n",
      "Fitting dispersion trend curve...\n"
     ]
    },
    {
     "name": "stderr",
     "output_type": "stream",
     "text": [
      "... done in 0.29 seconds.\n",
      "\n",
      "Fitting MAP dispersions...\n"
     ]
    },
    {
     "name": "stderr",
     "output_type": "stream",
     "text": [
      "... done in 63.71 seconds.\n",
      "\n",
      "Fitting LFCs...\n"
     ]
    },
    {
     "name": "stderr",
     "output_type": "stream",
     "text": [
      "... done in 4.25 seconds.\n",
      "\n",
      "Replacing 0 outlier genes.\n",
      "\n"
     ]
    }
   ],
   "source": [
    "dds.deseq2()"
   ]
  },
  {
   "cell_type": "code",
   "execution_count": null,
   "id": "a28464ce-65e7-4f70-b25f-f9e38c123c91",
   "metadata": {},
   "outputs": [],
   "source": [
    "# Extract contrast between treated vs control\n",
    "stat_res = DeseqStats(dds, contrast=[\"Condition\", 'AAV9-CMV-GFP', \"Untreated\"], inference=inference)"
   ]
  },
  {
   "cell_type": "code",
   "execution_count": null,
   "id": "42e83e8c-1c3d-48f9-9b1f-914a5cf4fb30",
   "metadata": {},
   "outputs": [],
   "source": [
    "# Compute Wald test\n",
    "stat_res.summary(n_cpus = 1)"
   ]
  },
  {
   "cell_type": "code",
   "execution_count": null,
   "id": "17138c72-29a8-4b05-a545-b057f85bcd5a",
   "metadata": {},
   "outputs": [],
   "source": [
    "# Shrink LFCs\n",
    "stat_res.lfc_shrink(coeff='Condition_AAV9-CMV-GFP_vs_Untreated')"
   ]
  },
  {
   "cell_type": "code",
   "execution_count": null,
   "id": "089f4aaa-54cb-4aa2-bb6a-f852915e67fc",
   "metadata": {},
   "outputs": [],
   "source": [
    "# Extract results\n",
    "results_df = stat_res.results_df\n",
    "results_df.sort_values('stat')"
   ]
  },
  {
   "cell_type": "code",
   "execution_count": null,
   "id": "2537094c-a678-4ce9-bc1a-abd249697a9f",
   "metadata": {},
   "outputs": [],
   "source": [
    "dc.plot_volcano_df(results_df, x='log2FoldChange', y='padj', top=20)"
   ]
  },
  {
   "cell_type": "code",
   "execution_count": null,
   "id": "99c04ed4-a63d-44b3-a3f9-6b7b74519312",
   "metadata": {},
   "outputs": [],
   "source": [
    "mat = results_df[['stat']].T.rename(index={'stat': 'Pericentral_Males_AAV9'})\n",
    "mat"
   ]
  },
  {
   "cell_type": "code",
   "execution_count": null,
   "id": "56cf3015-b0b1-4f9e-965e-e52fccf32b9a",
   "metadata": {},
   "outputs": [],
   "source": [
    "sc.pl.violin(adata_males_AAV9_pericentral, keys=['Dbp', 'Ppard', 'Acss2'], groupby='Condition', rotation=90)"
   ]
  },
  {
   "cell_type": "markdown",
   "id": "081d4b74-a292-435c-8968-a581a103cfef",
   "metadata": {},
   "source": [
    "## Transcription factor activity inference"
   ]
  },
  {
   "cell_type": "code",
   "execution_count": null,
   "id": "1e6d1848-0c17-4c36-a8a0-2bc88e62f097",
   "metadata": {},
   "outputs": [],
   "source": [
    "# Retrieve CollecTRI gene regulatory network\n",
    "collectri = dc.get_collectri(organism='mouse', split_complexes=False)\n",
    "collectri"
   ]
  },
  {
   "cell_type": "code",
   "execution_count": null,
   "id": "ee35b4ad-03f6-478e-a042-32f0ceef9b7d",
   "metadata": {},
   "outputs": [],
   "source": [
    "# Infer pathway activities with ulm\n",
    "tf_acts, tf_pvals = dc.run_ulm(mat=mat, net=collectri)\n",
    "tf_acts"
   ]
  },
  {
   "cell_type": "code",
   "execution_count": null,
   "id": "f07bce7a-1590-468f-8047-a43ceb230d6e",
   "metadata": {},
   "outputs": [],
   "source": [
    "dc.plot_barplot(tf_acts, 'Pericentral_Males_AAV9', top=25, vertical=True)"
   ]
  },
  {
   "cell_type": "code",
   "execution_count": null,
   "id": "3f37b427-21af-4c3b-9e79-c0fb1eb00893",
   "metadata": {},
   "outputs": [],
   "source": [
    "# Extract logFCs and pvals\n",
    "logFCs = results_df[['log2FoldChange']].T.rename(index={'log2FoldChange': 'Pericentral_Males_AAV9'})\n",
    "pvals = results_df[['padj']].T.rename(index={'padj': 'Pericentral_Males_AAV9'})\n",
    "\n",
    "# Plot\n",
    "dc.plot_volcano(logFCs, pvals, 'Pericentral_Males_AAV9', name='Myc', net=collectri, top=10, sign_thr=0.05, lFCs_thr=0.5)"
   ]
  },
  {
   "cell_type": "code",
   "execution_count": null,
   "id": "11df12fc-09bf-4eb8-86c4-570fe60decdf",
   "metadata": {},
   "outputs": [],
   "source": [
    "dc.plot_volcano(logFCs, pvals, 'Pericentral_Males_AAV9', name='Ppara', net=collectri, top=10, sign_thr=0.05, lFCs_thr=0.5)"
   ]
  },
  {
   "cell_type": "markdown",
   "id": "5f79f22a-f70e-4fa5-876c-8a3f7e7a05ab",
   "metadata": {},
   "source": [
    "## Pathway activity inference"
   ]
  },
  {
   "cell_type": "code",
   "execution_count": null,
   "id": "d95a9c84-ab27-4607-a5e7-cebef38f549c",
   "metadata": {},
   "outputs": [],
   "source": [
    "progeny_mouse = pd.read_csv(\"model_progeny500_mouse_decoupleR.csv\")\n",
    "progeny_mouse"
   ]
  },
  {
   "cell_type": "code",
   "execution_count": null,
   "id": "362cca03-7533-4be2-aa19-fb42c40ae045",
   "metadata": {},
   "outputs": [],
   "source": [
    "pathway_acts, pathway_pvals = dc.run_mlm(mat=mat, net=progeny_mouse)"
   ]
  },
  {
   "cell_type": "code",
   "execution_count": null,
   "id": "e2ffd596-0597-483d-803e-4a43505711eb",
   "metadata": {},
   "outputs": [],
   "source": [
    "pathway_acts"
   ]
  },
  {
   "cell_type": "code",
   "execution_count": null,
   "id": "2d2d04ba-b194-4f1b-b893-cb7ab3278934",
   "metadata": {},
   "outputs": [],
   "source": [
    "dc.plot_barplot(pathway_acts, 'Pericentral_Males_AAV9', top=25, vertical=False)"
   ]
  },
  {
   "cell_type": "code",
   "execution_count": null,
   "id": "f4db5596-45cc-4e16-9e65-8ab01d5c57d3",
   "metadata": {},
   "outputs": [],
   "source": [
    "dc.plot_targets(results_df, stat='stat', source_name='PI3K', net=progeny_mouse, top=15)"
   ]
  },
  {
   "cell_type": "code",
   "execution_count": null,
   "id": "5184a79c-fc38-46f7-a421-82511542b0b0",
   "metadata": {},
   "outputs": [],
   "source": [
    "dc.plot_targets(results_df, stat='stat', source_name='Androgen', net=progeny_mouse, top=15)"
   ]
  },
  {
   "cell_type": "markdown",
   "id": "d00dda40-3288-42ba-87b0-c5f4f9cff1f3",
   "metadata": {},
   "source": [
    "## Functional enrichment of biological terms"
   ]
  },
  {
   "cell_type": "code",
   "execution_count": null,
   "id": "3035cdd8-9723-48ee-93a0-6efcba6782e5",
   "metadata": {
    "tags": []
   },
   "outputs": [],
   "source": [
    "msigdb_mouse = pd.read_csv(\"msigdb_complete.csv\")\n",
    "msigdb_mouse"
   ]
  },
  {
   "cell_type": "code",
   "execution_count": null,
   "id": "36724790-ac12-434d-8e7f-263564b2f50f",
   "metadata": {
    "tags": []
   },
   "outputs": [],
   "source": [
    "msigdb_mouse.collection.unique().tolist()"
   ]
  },
  {
   "cell_type": "code",
   "execution_count": null,
   "id": "f69758cd-e809-46ed-a2cf-101c5e4b874f",
   "metadata": {
    "tags": []
   },
   "outputs": [],
   "source": [
    "categories_1 = ['hallmark', 'positional']\n",
    "categories_2 = ['immunesigdb', 'chemical_and_genetic_perturbations']\n",
    "categories_3 = ['go_biological_process', 'go_cellular_component', 'go_molecular_function']\n",
    "categories_4 = ['kegg_pathways', 'reactome_pathways']\n",
    "                \n",
    "filtered_msigdb_1 = msigdb_mouse[msigdb_mouse['collection'].isin(categories_1)]\n",
    "filtered_msigdb_2 = msigdb_mouse[msigdb_mouse['collection'].isin(categories_2)]\n",
    "filtered_msigdb_3 = msigdb_mouse[msigdb_mouse['collection'].isin(categories_3)]\n",
    "filtered_msigdb_4 = msigdb_mouse[msigdb_mouse['collection'].isin(categories_4)]"
   ]
  },
  {
   "cell_type": "code",
   "execution_count": null,
   "id": "27892638-41dc-46d6-aff5-510cd0771d39",
   "metadata": {},
   "outputs": [],
   "source": [
    "filtered_msigdb_1 = filtered_msigdb_1[~filtered_msigdb_1.duplicated(['genesymbol', 'geneset'])]\n",
    "filtered_msigdb_2 = filtered_msigdb_2[~filtered_msigdb_2.duplicated(['genesymbol', 'geneset'])]\n",
    "filtered_msigdb_3 = filtered_msigdb_3[~filtered_msigdb_3.duplicated(['genesymbol', 'geneset'])]\n",
    "filtered_msigdb_4 = filtered_msigdb_4[~filtered_msigdb_4.duplicated(['genesymbol', 'geneset'])]"
   ]
  },
  {
   "cell_type": "markdown",
   "id": "21c63ad0-85be-4124-a88b-21efa064eefc",
   "metadata": {},
   "source": [
    "### Hallmarks and Chromosome location"
   ]
  },
  {
   "cell_type": "code",
   "execution_count": null,
   "id": "3c7c32e5-5ee3-4769-921d-d9ac5b42712d",
   "metadata": {
    "tags": []
   },
   "outputs": [],
   "source": [
    "# Run gsea\n",
    "enr_pvals_filtered_msigdb_1 = dc.get_gsea_df(\n",
    "    df=results_df,\n",
    "    stat = 'stat',\n",
    "    net=filtered_msigdb_1,\n",
    "    source='geneset',\n",
    "    target='genesymbol',\n",
    "    verbose= True\n",
    ")\n",
    "\n",
    "enr_pvals_filtered_msigdb_1.sort_values('NES', ascending=False)"
   ]
  },
  {
   "cell_type": "code",
   "execution_count": null,
   "id": "0fd37662-0d43-414c-b966-857062b20c51",
   "metadata": {
    "tags": []
   },
   "outputs": [],
   "source": [
    "enr_pvals_filtered  = enr_pvals_filtered_msigdb_1[enr_pvals_filtered_msigdb_1['FDR p-value'] < 0.05]"
   ]
  },
  {
   "cell_type": "code",
   "execution_count": null,
   "id": "83f9ef7b-3727-4bb8-abc0-3336c2e990e9",
   "metadata": {
    "tags": []
   },
   "outputs": [],
   "source": [
    "enr_pvals_filtered_color = enr_pvals_filtered.sort_values(by='NES', key=abs, ascending=False).head(35)"
   ]
  },
  {
   "cell_type": "code",
   "execution_count": null,
   "id": "b17a9f13-4559-4600-ac39-f5504b74e363",
   "metadata": {
    "tags": []
   },
   "outputs": [],
   "source": [
    "enr_pvals_filtered_color['color'] = np.where(enr_pvals_filtered_color['NES'] < 0, 'blue', 'red')"
   ]
  },
  {
   "cell_type": "code",
   "execution_count": null,
   "id": "4a3dfd1f-3802-4395-909b-77dce00a1361",
   "metadata": {
    "tags": []
   },
   "outputs": [],
   "source": [
    "enr_pvals_filtered_color=enr_pvals_filtered_color.sort_values(by='NES', ascending=True)"
   ]
  },
  {
   "cell_type": "code",
   "execution_count": null,
   "id": "1194ef51-2749-4e7d-8da5-7eed9445a636",
   "metadata": {
    "tags": []
   },
   "outputs": [],
   "source": [
    "enr_pvals_filtered_color"
   ]
  },
  {
   "cell_type": "code",
   "execution_count": null,
   "id": "a4c93941-e637-4fae-9d1d-83274b3cabc5",
   "metadata": {
    "tags": []
   },
   "outputs": [],
   "source": [
    "dc.plot_barplot_df(enr_pvals_filtered_color, x='NES', y= 'Term', figsize=(7, 10), color=enr_pvals_filtered_color.color.tolist())"
   ]
  },
  {
   "cell_type": "markdown",
   "id": "8c8371be-1cd3-4745-8d67-249e56132cec",
   "metadata": {},
   "source": [
    "### immunesigdb and chemical and genetic perturbations"
   ]
  },
  {
   "cell_type": "code",
   "execution_count": null,
   "id": "ad5571b5-0426-4c73-997e-7225199c94bf",
   "metadata": {
    "tags": []
   },
   "outputs": [],
   "source": [
    "# Run gsea\n",
    "enr_pvals_filtered_msigdb_2 = dc.get_gsea_df(\n",
    "    df=results_df,\n",
    "    stat = 'stat',\n",
    "    net=filtered_msigdb_2,\n",
    "    source='geneset',\n",
    "    target='genesymbol',\n",
    "    verbose= True\n",
    ")\n",
    "\n",
    "enr_pvals_filtered_msigdb_2.sort_values('NES', ascending=False)"
   ]
  },
  {
   "cell_type": "code",
   "execution_count": null,
   "id": "1ec5ef1a-474a-4377-a7dd-d32516af0620",
   "metadata": {
    "tags": []
   },
   "outputs": [],
   "source": [
    "enr_pvals_filtered  = enr_pvals_filtered_msigdb_2[enr_pvals_filtered_msigdb_2['FDR p-value'] < 0.05]"
   ]
  },
  {
   "cell_type": "code",
   "execution_count": null,
   "id": "445360d7-3210-414d-a5f3-1d1b92041d42",
   "metadata": {
    "tags": []
   },
   "outputs": [],
   "source": [
    "enr_pvals_filtered_color = enr_pvals_filtered.sort_values(by='NES', key=abs, ascending=False).head(35)"
   ]
  },
  {
   "cell_type": "code",
   "execution_count": null,
   "id": "8266eef7-27cc-410c-8cbf-6758f461d664",
   "metadata": {
    "tags": []
   },
   "outputs": [],
   "source": [
    "enr_pvals_filtered_color['color'] = np.where(enr_pvals_filtered_color['NES'] < 0, 'blue', 'red')"
   ]
  },
  {
   "cell_type": "code",
   "execution_count": null,
   "id": "3ed4ca00-684e-43a6-97d8-247a9b048fc6",
   "metadata": {
    "tags": []
   },
   "outputs": [],
   "source": [
    "enr_pvals_filtered_color=enr_pvals_filtered_color.sort_values(by='NES', ascending=True)"
   ]
  },
  {
   "cell_type": "code",
   "execution_count": null,
   "id": "7ee24c56-38e2-41e3-9ae1-ca2346f4c0f0",
   "metadata": {
    "tags": []
   },
   "outputs": [],
   "source": [
    "enr_pvals_filtered_color"
   ]
  },
  {
   "cell_type": "code",
   "execution_count": null,
   "id": "40efca51-100a-4dec-ae73-9741789843da",
   "metadata": {
    "tags": []
   },
   "outputs": [],
   "source": [
    "dc.plot_barplot_df(enr_pvals_filtered_color, x='NES', y= 'Term', figsize=(7, 10), color=enr_pvals_filtered_color.color.tolist())"
   ]
  },
  {
   "cell_type": "markdown",
   "id": "cfc6486e-915d-4b02-94d2-ac5b636c4f9e",
   "metadata": {},
   "source": [
    "### Gene Ontology Terms"
   ]
  },
  {
   "cell_type": "code",
   "execution_count": null,
   "id": "47a71b10-5145-406d-a947-841c7aa5a17d",
   "metadata": {
    "tags": []
   },
   "outputs": [],
   "source": [
    "# Run gsea\n",
    "enr_pvals_filtered_msigdb_3 = dc.get_gsea_df(\n",
    "    df=results_df,\n",
    "    stat = 'stat',\n",
    "    net=filtered_msigdb_3,\n",
    "    source='geneset',\n",
    "    target='genesymbol',\n",
    "    verbose= True\n",
    ")\n",
    "\n",
    "enr_pvals_filtered_msigdb_3.sort_values('NES', ascending=False)"
   ]
  },
  {
   "cell_type": "code",
   "execution_count": null,
   "id": "096f6c68-1c83-4d1b-a861-296ab2746e54",
   "metadata": {
    "tags": []
   },
   "outputs": [],
   "source": [
    "enr_pvals_filtered  = enr_pvals_filtered_msigdb_3[enr_pvals_filtered_msigdb_3['FDR p-value'] < 0.05]"
   ]
  },
  {
   "cell_type": "code",
   "execution_count": null,
   "id": "7c15e089-533f-4d7c-8a94-572f5603f23f",
   "metadata": {
    "tags": []
   },
   "outputs": [],
   "source": [
    "enr_pvals_filtered_color = enr_pvals_filtered.sort_values(by='NES', key=abs, ascending=False).head(35)"
   ]
  },
  {
   "cell_type": "code",
   "execution_count": null,
   "id": "3ed59adf-ca6f-4e99-8943-fe5094bf5874",
   "metadata": {
    "tags": []
   },
   "outputs": [],
   "source": [
    "enr_pvals_filtered_color['color'] = np.where(enr_pvals_filtered_color['NES'] < 0, 'blue', 'red')"
   ]
  },
  {
   "cell_type": "code",
   "execution_count": null,
   "id": "8cd14f10-5787-44ca-b250-3933054937b5",
   "metadata": {
    "tags": []
   },
   "outputs": [],
   "source": [
    "enr_pvals_filtered_color=enr_pvals_filtered_color.sort_values(by='NES', ascending=True)"
   ]
  },
  {
   "cell_type": "code",
   "execution_count": null,
   "id": "e65bc24b-e789-4082-8682-1409fb0f2107",
   "metadata": {
    "tags": []
   },
   "outputs": [],
   "source": [
    "enr_pvals_filtered_color"
   ]
  },
  {
   "cell_type": "code",
   "execution_count": null,
   "id": "a4ad7991-06ab-411d-a5a5-84cf3a7d111a",
   "metadata": {
    "tags": []
   },
   "outputs": [],
   "source": [
    "dc.plot_barplot_df(enr_pvals_filtered_color, x='NES', y= 'Term', figsize=(7, 10), color=enr_pvals_filtered_color.color.tolist())"
   ]
  },
  {
   "cell_type": "markdown",
   "id": "f88e891b-7853-46ad-881f-ea1f81915815",
   "metadata": {},
   "source": [
    "### Pathways"
   ]
  },
  {
   "cell_type": "code",
   "execution_count": null,
   "id": "4a149fa8-dcc4-4710-a79c-a97a43bbad1f",
   "metadata": {
    "tags": []
   },
   "outputs": [],
   "source": [
    "# Run gsea\n",
    "enr_pvals_filtered_msigdb_4 = dc.get_gsea_df(\n",
    "    df=results_df,\n",
    "    stat = 'stat',\n",
    "    net=filtered_msigdb_4,\n",
    "    source='geneset',\n",
    "    target='genesymbol',\n",
    "    verbose= True\n",
    ")\n",
    "\n",
    "enr_pvals_filtered_msigdb_4.sort_values('NES', ascending=False)"
   ]
  },
  {
   "cell_type": "code",
   "execution_count": null,
   "id": "8584b874-6713-463b-be73-fbad19b9fec2",
   "metadata": {
    "tags": []
   },
   "outputs": [],
   "source": [
    "enr_pvals_filtered  = enr_pvals_filtered_msigdb_4[enr_pvals_filtered_msigdb_4['FDR p-value'] < 0.05]"
   ]
  },
  {
   "cell_type": "code",
   "execution_count": null,
   "id": "a8471bc8-dc92-4741-a859-8c32a1829efb",
   "metadata": {
    "tags": []
   },
   "outputs": [],
   "source": [
    "enr_pvals_filtered_color = enr_pvals_filtered.sort_values(by='NES', key=abs, ascending=False).head(35)"
   ]
  },
  {
   "cell_type": "code",
   "execution_count": null,
   "id": "83b9e06f-3638-4eca-bad0-34fcda037e13",
   "metadata": {
    "tags": []
   },
   "outputs": [],
   "source": [
    "enr_pvals_filtered_color['color'] = np.where(enr_pvals_filtered_color['NES'] < 0, 'blue', 'red')"
   ]
  },
  {
   "cell_type": "code",
   "execution_count": null,
   "id": "60207788-0204-43a8-aa46-6421b6ba3d7c",
   "metadata": {
    "tags": []
   },
   "outputs": [],
   "source": [
    "enr_pvals_filtered_color=enr_pvals_filtered_color.sort_values(by='NES', ascending=True)"
   ]
  },
  {
   "cell_type": "code",
   "execution_count": null,
   "id": "fe7d2bfb-4f63-47c1-82cf-ba418b731b95",
   "metadata": {
    "tags": []
   },
   "outputs": [],
   "source": [
    "enr_pvals_filtered_color"
   ]
  },
  {
   "cell_type": "code",
   "execution_count": null,
   "id": "1cbdd9ec-c4dc-40fd-a4c1-ac56b5327413",
   "metadata": {
    "tags": []
   },
   "outputs": [],
   "source": [
    "dc.plot_barplot_df(enr_pvals_filtered_color, x='NES', y= 'Term', figsize=(7, 10), color=enr_pvals_filtered_color.color.tolist())"
   ]
  },
  {
   "cell_type": "markdown",
   "id": "4cfab06a-1b36-44ff-a6f4-c63fd22ee3e3",
   "metadata": {},
   "source": [
    "### Matching with Genes extracted from the literature"
   ]
  },
  {
   "cell_type": "markdown",
   "id": "d322c696-7a72-46c5-b616-8dd7a4eb9e05",
   "metadata": {},
   "source": [
    "We here read the list of genes that are relevant in the context of AAV treatments according to the literate and we match them with the results of our DGE analysis (p Adjusted < 0.05). "
   ]
  },
  {
   "cell_type": "code",
   "execution_count": null,
   "id": "32543bb0-6a91-44bf-9c93-9136c32ea256",
   "metadata": {},
   "outputs": [],
   "source": [
    "literature_list = pd.read_csv(\"Factors_AAV_processing_complete.csv\", header= None)"
   ]
  },
  {
   "cell_type": "code",
   "execution_count": null,
   "id": "f25b9c57-bc90-4af5-9248-288d654a838f",
   "metadata": {},
   "outputs": [],
   "source": [
    "literature_list = literature_list.set_index(0).drop_duplicates()"
   ]
  },
  {
   "cell_type": "code",
   "execution_count": null,
   "id": "37bc3b42-3aaf-433f-bdfc-8360b6e6d67d",
   "metadata": {},
   "outputs": [],
   "source": [
    "results_df[results_df['padj'] < 0.05].merge(literature_list, how='inner', left_index=True, right_index=True)"
   ]
  },
  {
   "cell_type": "markdown",
   "id": "d837f3b8-d8cd-4351-9bdc-d1a15db229e6",
   "metadata": {},
   "source": [
    "## Saving All results for joint plotting in other scripts"
   ]
  },
  {
   "cell_type": "code",
   "execution_count": null,
   "id": "b408ef61-0c21-454c-97c2-7568e4a19f51",
   "metadata": {
    "tags": []
   },
   "outputs": [],
   "source": [
    "## DEG results\n",
    "results_df.to_csv('analyzed/DE/DE_Results_14c/DEG/male_AVV9_vs_Control_pericentral_Results.csv', index=True, index_label='GeneName')"
   ]
  },
  {
   "cell_type": "code",
   "execution_count": null,
   "id": "624fb987-5ae9-44c2-baa3-36951a7e5daa",
   "metadata": {
    "tags": []
   },
   "outputs": [],
   "source": [
    "## Pathway Results\n",
    "pathways_all = pd.merge(pathway_acts.transpose(), pathway_pvals.transpose(), left_index=True, right_index=True, suffixes=('_ActivityScore', '_pvalue'))\n",
    "pathways_all.to_csv('analyzed/DE/DE_Results_14c/Pathway_results/male_AVV9_vs_Control_pericentral_Results.csv', index=True, index_label='GeneName')                  "
   ]
  },
  {
   "cell_type": "code",
   "execution_count": null,
   "id": "0aae176a-ce98-40a8-91b6-28311a75b9fc",
   "metadata": {
    "tags": []
   },
   "outputs": [],
   "source": [
    "## TF activity results\n",
    "tf_all = pd.merge(tf_acts.transpose(), tf_pvals.transpose(), left_index=True, right_index=True, suffixes=('_ActivityScore', '_pvalue'))\n",
    "tf_all.to_csv('analyzed/DE/DE_Results_14c/TF_results/male_AVV9_vs_Control_pericentral_Results.csv', index=True, index_label='GeneName')"
   ]
  },
  {
   "cell_type": "code",
   "execution_count": null,
   "id": "a95da674-31e9-4490-a155-1a79b840758a",
   "metadata": {
    "tags": []
   },
   "outputs": [],
   "source": [
    "## Enrichment Results\n",
    "enr_pvals_filtered_msigdb_1.to_csv('analyzed/DE/DE_Results_14c/GSEA_results/male_AVV9_vs_Control_pericentral_Results_msigdb_1.csv', index=True, index_label='Term')\n",
    "enr_pvals_filtered_msigdb_2.to_csv('analyzed/DE/DE_Results_14c/GSEA_results/male_AVV9_vs_Control_pericentral_Results_msigdb_2.csv', index=True, index_label='Term')\n",
    "enr_pvals_filtered_msigdb_3.to_csv('analyzed/DE/DE_Results_14c/GSEA_results/male_AVV9_vs_Control_pericentral_Results_msigdb_3.csv', index=True, index_label='Term')\n",
    "enr_pvals_filtered_msigdb_4.to_csv('analyzed/DE/DE_Results_14c/GSEA_results/male_AVV9_vs_Control_pericentral_Results_msigdb_4.csv', index=True, index_label='Term')"
   ]
  },
  {
   "cell_type": "markdown",
   "id": "11754e31-d571-432d-9c14-87c6058c982f",
   "metadata": {
    "tags": []
   },
   "source": [
    "# Males AAV9 Versus Control in Other"
   ]
  },
  {
   "cell_type": "code",
   "execution_count": null,
   "id": "7845f515-0a0d-44b3-a145-79ccd76d4044",
   "metadata": {
    "tags": []
   },
   "outputs": [],
   "source": [
    "adata_males_AAV9_other =  pdata[(pdata.obs['Gender'] == 'Male') & (pdata.obs['Condition'] != 'AAV2-CMV-GFP') & (pdata.obs['zonation'] == 'Other')].copy()"
   ]
  },
  {
   "cell_type": "code",
   "execution_count": null,
   "id": "cd5bc058-00fa-4994-8d5a-8439535b8e50",
   "metadata": {
    "tags": []
   },
   "outputs": [],
   "source": [
    "dc.plot_filter_by_expr(adata_males_AAV9_other, group = 'Condition', min_count=10, min_total_count=40)"
   ]
  },
  {
   "cell_type": "code",
   "execution_count": null,
   "id": "b1849499-581b-4755-a8b0-22b5ce5d78c4",
   "metadata": {
    "tags": []
   },
   "outputs": [],
   "source": [
    "adata_males_AAV9_other.obs"
   ]
  },
  {
   "cell_type": "code",
   "execution_count": null,
   "id": "b03f1cd4-ec4b-45bf-bb76-5fee98ac9085",
   "metadata": {
    "tags": []
   },
   "outputs": [],
   "source": [
    "genes = dc.filter_by_expr(adata_males_AAV9_other, group='Condition', min_count=10, min_total_count=40)\n",
    "\n",
    "# Filter by these genes\n",
    "adata_males_AAV9_other = adata_males_AAV9_other[:, genes].copy()\n",
    "adata_males_AAV9_other"
   ]
  },
  {
   "cell_type": "markdown",
   "id": "9f564216-7919-4f2a-91d4-8e34b5ffe970",
   "metadata": {
    "tags": []
   },
   "source": [
    "## Contrast between conditions"
   ]
  },
  {
   "cell_type": "code",
   "execution_count": null,
   "id": "f938a592-eb14-4083-b9cd-d0b678fc2e92",
   "metadata": {},
   "outputs": [],
   "source": [
    "# Build DESeq2 object\n",
    "inference = DefaultInference(n_cpus=1)\n",
    "dds = DeseqDataSet(\n",
    "    adata= adata_males_AAV9_other,\n",
    "    design_factors=['Condition'],\n",
    "    ref_level=['Condition', 'Untreated'],\n",
    "    refit_cooks=True,\n",
    "    inference=inference,\n",
    "    n_cpus = 1)"
   ]
  },
  {
   "cell_type": "code",
   "execution_count": null,
   "id": "013e5757-b24f-4ed7-a5e2-45a712167b47",
   "metadata": {
    "tags": []
   },
   "outputs": [],
   "source": [
    "dds.obsm['design_matrix']"
   ]
  },
  {
   "cell_type": "code",
   "execution_count": null,
   "id": "f240b666-8d21-4301-bfff-3bdddab6da48",
   "metadata": {
    "tags": []
   },
   "outputs": [
    {
     "name": "stderr",
     "output_type": "stream",
     "text": [
      "Fitting dispersions...\n"
     ]
    },
    {
     "name": "stderr",
     "output_type": "stream",
     "text": [
      "... done in 69.02 seconds.\n",
      "\n",
      "Fitting dispersion trend curve...\n"
     ]
    },
    {
     "name": "stderr",
     "output_type": "stream",
     "text": [
      "... done in 0.31 seconds.\n",
      "\n",
      "Fitting MAP dispersions...\n"
     ]
    },
    {
     "name": "stderr",
     "output_type": "stream",
     "text": [
      "... done in 68.32 seconds.\n",
      "\n",
      "Fitting LFCs...\n"
     ]
    },
    {
     "name": "stderr",
     "output_type": "stream",
     "text": [
      "... done in 4.31 seconds.\n",
      "\n",
      "Replacing 0 outlier genes.\n",
      "\n"
     ]
    }
   ],
   "source": [
    "dds.deseq2()"
   ]
  },
  {
   "cell_type": "code",
   "execution_count": null,
   "id": "e9beaa4c-9393-4086-a04d-a3e654626321",
   "metadata": {},
   "outputs": [],
   "source": [
    "# Extract contrast between treated vs control\n",
    "stat_res = DeseqStats(dds, contrast=[\"Condition\", 'AAV9-CMV-GFP', \"Untreated\"], inference=inference)"
   ]
  },
  {
   "cell_type": "code",
   "execution_count": null,
   "id": "bdaeed29-1bbe-4024-b946-019ac7a7b167",
   "metadata": {},
   "outputs": [],
   "source": [
    "# Compute Wald test\n",
    "stat_res.summary(n_cpus = 1)"
   ]
  },
  {
   "cell_type": "code",
   "execution_count": null,
   "id": "c0cc0aab-2c1c-4969-a4df-a6d162d42247",
   "metadata": {},
   "outputs": [],
   "source": [
    "# Shrink LFCs\n",
    "stat_res.lfc_shrink(coeff='Condition_AAV9-CMV-GFP_vs_Untreated')"
   ]
  },
  {
   "cell_type": "code",
   "execution_count": null,
   "id": "1db91953-dfa1-415c-b644-96ec1842f42b",
   "metadata": {},
   "outputs": [],
   "source": [
    "# Extract results\n",
    "results_df = stat_res.results_df\n",
    "results_df.sort_values('stat')"
   ]
  },
  {
   "cell_type": "code",
   "execution_count": null,
   "id": "6f29262d-027e-4ee0-bd2b-2074342a677b",
   "metadata": {},
   "outputs": [],
   "source": [
    "dc.plot_volcano_df(results_df, x='log2FoldChange', y='padj', top=20)"
   ]
  },
  {
   "cell_type": "code",
   "execution_count": null,
   "id": "46e6fb9e-bc50-4e8e-b5db-e2360dbb37d4",
   "metadata": {},
   "outputs": [],
   "source": [
    "mat = results_df[['stat']].T.rename(index={'stat': 'Other_Males_AAV9'})\n",
    "mat"
   ]
  },
  {
   "cell_type": "code",
   "execution_count": null,
   "id": "2b77c1b4-db50-4d82-8b75-ec574248d56b",
   "metadata": {},
   "outputs": [],
   "source": [
    "sc.pl.violin(adata_males_AAV9_other, keys=['Gng11', 'Klf10', 'Socs3'], groupby='Condition', rotation=90)"
   ]
  },
  {
   "cell_type": "markdown",
   "id": "c7971d7c-65c5-4fb1-b414-fe28b1abe6f5",
   "metadata": {},
   "source": [
    "## Transcription factor activity inference"
   ]
  },
  {
   "cell_type": "code",
   "execution_count": null,
   "id": "af4d025d-1cbc-4f76-85a2-648bab77d2e2",
   "metadata": {},
   "outputs": [],
   "source": [
    "# Retrieve CollecTRI gene regulatory network\n",
    "# collectri = dc.get_collectri(organism='mouse', split_complexes=False)\n",
    "# collectri"
   ]
  },
  {
   "cell_type": "code",
   "execution_count": null,
   "id": "7dd360ef-ceae-483d-8bac-7adcc41e8947",
   "metadata": {},
   "outputs": [],
   "source": [
    "# Infer pathway activities with ulm\n",
    "tf_acts, tf_pvals = dc.run_ulm(mat=mat, net=collectri)\n",
    "tf_acts"
   ]
  },
  {
   "cell_type": "code",
   "execution_count": null,
   "id": "0269793e-1cd6-4494-b98e-1d61a2735036",
   "metadata": {},
   "outputs": [],
   "source": [
    "dc.plot_barplot(tf_acts, 'Other_Males_AAV9', top=25, vertical=True)"
   ]
  },
  {
   "cell_type": "code",
   "execution_count": null,
   "id": "e6f3ccbe-070d-4130-8ac0-4db8b9169e65",
   "metadata": {},
   "outputs": [],
   "source": [
    "# Extract logFCs and pvals\n",
    "logFCs = results_df[['log2FoldChange']].T.rename(index={'log2FoldChange': 'Other_Males_AAV9'})\n",
    "pvals = results_df[['padj']].T.rename(index={'padj': 'Other_Males_AAV9'})\n",
    "\n",
    "# Plot\n",
    "dc.plot_volcano(logFCs, pvals, 'Other_Males_AAV9', name='Pin1', net=collectri, top=10, sign_thr=0.05, lFCs_thr=0.5)"
   ]
  },
  {
   "cell_type": "code",
   "execution_count": null,
   "id": "d6870fee-9161-4add-ab5e-5f13fd06983a",
   "metadata": {},
   "outputs": [],
   "source": [
    "dc.plot_volcano(logFCs, pvals, 'Other_Males_AAV9', name='Nr6a1', net=collectri, top=10, sign_thr=0.05, lFCs_thr=0.5)"
   ]
  },
  {
   "cell_type": "markdown",
   "id": "1d4a1e44-e948-4182-9424-e517e5800cf5",
   "metadata": {},
   "source": [
    "## Pathway activity inference"
   ]
  },
  {
   "cell_type": "code",
   "execution_count": null,
   "id": "44def563-9242-4972-82aa-d0ed3e6aefe1",
   "metadata": {},
   "outputs": [],
   "source": [
    "# progeny_mouse = pd.read_csv(\"model_progeny500_mouse_decoupleR.csv\")\n",
    "# progeny_mouse"
   ]
  },
  {
   "cell_type": "code",
   "execution_count": null,
   "id": "3146f788-44a9-4751-9c85-93b8823e33a0",
   "metadata": {},
   "outputs": [],
   "source": [
    "pathway_acts, pathway_pvals = dc.run_mlm(mat=mat, net=progeny_mouse)"
   ]
  },
  {
   "cell_type": "code",
   "execution_count": null,
   "id": "959b8d5e-7e9f-41ce-90f1-9416e5505daf",
   "metadata": {},
   "outputs": [],
   "source": [
    "pathway_acts"
   ]
  },
  {
   "cell_type": "code",
   "execution_count": null,
   "id": "b4e16514-ab03-4775-bfcc-1ecf8e4b0fce",
   "metadata": {},
   "outputs": [],
   "source": [
    "dc.plot_barplot(pathway_acts, 'Other_Males_AAV9', top=25, vertical=False)"
   ]
  },
  {
   "cell_type": "code",
   "execution_count": null,
   "id": "f534a687-3923-42ff-8276-f209f5f37afd",
   "metadata": {},
   "outputs": [],
   "source": [
    "dc.plot_targets(results_df, stat='stat', source_name='EGFR', net=progeny_mouse, top=15)"
   ]
  },
  {
   "cell_type": "code",
   "execution_count": null,
   "id": "4e0f5a89-42c0-43dc-9a7b-8c9005571850",
   "metadata": {},
   "outputs": [],
   "source": [
    "dc.plot_targets(results_df, stat='stat', source_name='WNT', net=progeny_mouse, top=15)"
   ]
  },
  {
   "cell_type": "markdown",
   "id": "b9f42e13-2e9f-419e-a618-989696773108",
   "metadata": {},
   "source": [
    "## Functional enrichment of biological terms"
   ]
  },
  {
   "cell_type": "code",
   "execution_count": null,
   "id": "37769113-5900-4684-a770-dfe78573b376",
   "metadata": {
    "tags": []
   },
   "outputs": [],
   "source": [
    "# msigdb_mouse = pd.read_csv(\"msigdb_complete.csv\")\n",
    "# msigdb_mouse"
   ]
  },
  {
   "cell_type": "code",
   "execution_count": null,
   "id": "2537ce0a-f037-40e0-bd2e-021abb14e5f4",
   "metadata": {
    "tags": []
   },
   "outputs": [],
   "source": [
    "# msigdb_mouse.collection.unique().tolist()"
   ]
  },
  {
   "cell_type": "code",
   "execution_count": null,
   "id": "7c5e909f-3979-4c1f-8504-99027d5d8aad",
   "metadata": {
    "tags": []
   },
   "outputs": [],
   "source": [
    "# categories_1 = ['hallmark', 'positional']\n",
    "# categories_2 = ['immunesigdb', 'chemical_and_genetic_perturbations']\n",
    "# categories_3 = ['go_biological_process', 'go_cellular_component', 'go_molecular_function']\n",
    "# categories_4 = ['kegg_pathways', 'reactome_pathways']\n",
    "                \n",
    "# filtered_msigdb_1 = msigdb_mouse[msigdb_mouse['collection'].isin(categories_1)]\n",
    "# filtered_msigdb_2 = msigdb_mouse[msigdb_mouse['collection'].isin(categories_2)]\n",
    "# filtered_msigdb_3 = msigdb_mouse[msigdb_mouse['collection'].isin(categories_3)]\n",
    "# filtered_msigdb_4 = msigdb_mouse[msigdb_mouse['collection'].isin(categories_4)]"
   ]
  },
  {
   "cell_type": "code",
   "execution_count": null,
   "id": "d1a2b45c-511c-43ec-b762-6e4d76b03739",
   "metadata": {},
   "outputs": [],
   "source": [
    "# filtered_msigdb_1 = filtered_msigdb_1[~filtered_msigdb_1.duplicated(['genesymbol', 'geneset'])]\n",
    "# filtered_msigdb_2 = filtered_msigdb_2[~filtered_msigdb_2.duplicated(['genesymbol', 'geneset'])]\n",
    "# filtered_msigdb_3 = filtered_msigdb_3[~filtered_msigdb_3.duplicated(['genesymbol', 'geneset'])]\n",
    "# filtered_msigdb_4 = filtered_msigdb_4[~filtered_msigdb_4.duplicated(['genesymbol', 'geneset'])]"
   ]
  },
  {
   "cell_type": "markdown",
   "id": "1cd96ed0-f579-43d5-bf30-2b900fce29c0",
   "metadata": {},
   "source": [
    "### Hallmarks and Chromosome location"
   ]
  },
  {
   "cell_type": "code",
   "execution_count": null,
   "id": "7025774a-b740-47c3-bca5-d7bf6b693661",
   "metadata": {
    "tags": []
   },
   "outputs": [],
   "source": [
    "# Run gsea\n",
    "enr_pvals_filtered_msigdb_1 = dc.get_gsea_df(\n",
    "    df=results_df,\n",
    "    stat = 'stat',\n",
    "    net=filtered_msigdb_1,\n",
    "    source='geneset',\n",
    "    target='genesymbol',\n",
    "    verbose= True\n",
    ")\n",
    "\n",
    "enr_pvals_filtered_msigdb_1.sort_values('NES', ascending=False)"
   ]
  },
  {
   "cell_type": "code",
   "execution_count": null,
   "id": "18019fdb-5a0a-4031-b57d-6d23f0fa9df7",
   "metadata": {
    "tags": []
   },
   "outputs": [],
   "source": [
    "enr_pvals_filtered  = enr_pvals_filtered_msigdb_1[enr_pvals_filtered_msigdb_1['FDR p-value'] < 0.05]"
   ]
  },
  {
   "cell_type": "code",
   "execution_count": null,
   "id": "ad96c9f8-88a8-4b1d-b4a1-d312fee1735e",
   "metadata": {
    "tags": []
   },
   "outputs": [],
   "source": [
    "enr_pvals_filtered_color = enr_pvals_filtered.sort_values(by='NES', key=abs, ascending=False).head(35)"
   ]
  },
  {
   "cell_type": "code",
   "execution_count": null,
   "id": "b4d65509-d4e2-419d-978a-c56992442056",
   "metadata": {
    "tags": []
   },
   "outputs": [],
   "source": [
    "enr_pvals_filtered_color['color'] = np.where(enr_pvals_filtered_color['NES'] < 0, 'blue', 'red')"
   ]
  },
  {
   "cell_type": "code",
   "execution_count": null,
   "id": "7fe07bb1-ed0a-46fc-87b9-15a1ea29d0c0",
   "metadata": {
    "tags": []
   },
   "outputs": [],
   "source": [
    "enr_pvals_filtered_color=enr_pvals_filtered_color.sort_values(by='NES', ascending=True)"
   ]
  },
  {
   "cell_type": "code",
   "execution_count": null,
   "id": "bd3051a0-f4a6-4b3c-8027-986d0f1d9818",
   "metadata": {
    "tags": []
   },
   "outputs": [],
   "source": [
    "enr_pvals_filtered_color"
   ]
  },
  {
   "cell_type": "code",
   "execution_count": null,
   "id": "38338344-eb85-466e-970f-7e3119d03336",
   "metadata": {
    "tags": []
   },
   "outputs": [],
   "source": [
    "dc.plot_barplot_df(enr_pvals_filtered_color, x='NES', y= 'Term', figsize=(7, 10), color=enr_pvals_filtered_color.color.tolist())"
   ]
  },
  {
   "cell_type": "markdown",
   "id": "04b8620f-c1af-4c68-9980-690f74a8a5ca",
   "metadata": {},
   "source": [
    "### immunesigdb and chemical and genetic perturbations"
   ]
  },
  {
   "cell_type": "code",
   "execution_count": null,
   "id": "bc5e1a00-2266-4e79-b348-e65fabddc8b0",
   "metadata": {
    "tags": []
   },
   "outputs": [],
   "source": [
    "# Run gsea\n",
    "enr_pvals_filtered_msigdb_2 = dc.get_gsea_df(\n",
    "    df=results_df,\n",
    "    stat = 'stat',\n",
    "    net=filtered_msigdb_2,\n",
    "    source='geneset',\n",
    "    target='genesymbol',\n",
    "    verbose= True\n",
    ")\n",
    "\n",
    "enr_pvals_filtered_msigdb_2.sort_values('NES', ascending=False)"
   ]
  },
  {
   "cell_type": "code",
   "execution_count": null,
   "id": "e75be512-abe6-4d51-8945-87072f4c0191",
   "metadata": {
    "tags": []
   },
   "outputs": [],
   "source": [
    "enr_pvals_filtered  = enr_pvals_filtered_msigdb_2[enr_pvals_filtered_msigdb_2['FDR p-value'] < 0.05]"
   ]
  },
  {
   "cell_type": "code",
   "execution_count": null,
   "id": "6e5e55fc-3501-4f24-959a-218dbc744a5c",
   "metadata": {
    "tags": []
   },
   "outputs": [],
   "source": [
    "enr_pvals_filtered_color = enr_pvals_filtered.sort_values(by='NES', key=abs, ascending=False).head(35)"
   ]
  },
  {
   "cell_type": "code",
   "execution_count": null,
   "id": "5ad21c0a-c87b-49b4-93d2-43569921efdd",
   "metadata": {
    "tags": []
   },
   "outputs": [],
   "source": [
    "enr_pvals_filtered_color['color'] = np.where(enr_pvals_filtered_color['NES'] < 0, 'blue', 'red')"
   ]
  },
  {
   "cell_type": "code",
   "execution_count": null,
   "id": "1daeedcf-62fd-4e84-a710-1d2d3ee5f3f7",
   "metadata": {
    "tags": []
   },
   "outputs": [],
   "source": [
    "enr_pvals_filtered_color=enr_pvals_filtered_color.sort_values(by='NES', ascending=True)"
   ]
  },
  {
   "cell_type": "code",
   "execution_count": null,
   "id": "cb704c06-abd5-499e-92bb-b48b435a542f",
   "metadata": {
    "tags": []
   },
   "outputs": [],
   "source": [
    "enr_pvals_filtered_color"
   ]
  },
  {
   "cell_type": "code",
   "execution_count": null,
   "id": "a21722c3-a559-4a12-88c2-4a2dfb20d19d",
   "metadata": {
    "tags": []
   },
   "outputs": [],
   "source": [
    "dc.plot_barplot_df(enr_pvals_filtered_color, x='NES', y= 'Term', figsize=(7, 10), color=enr_pvals_filtered_color.color.tolist())"
   ]
  },
  {
   "cell_type": "markdown",
   "id": "f9119f4a-a904-4f76-8c5b-118c73633947",
   "metadata": {},
   "source": [
    "### Gene Ontology Terms"
   ]
  },
  {
   "cell_type": "code",
   "execution_count": null,
   "id": "aacedec8-cc45-4a3e-a09c-a5a5f9002712",
   "metadata": {
    "tags": []
   },
   "outputs": [],
   "source": [
    "# Run gsea\n",
    "enr_pvals_filtered_msigdb_3 = dc.get_gsea_df(\n",
    "    df=results_df,\n",
    "    stat = 'stat',\n",
    "    net=filtered_msigdb_3,\n",
    "    source='geneset',\n",
    "    target='genesymbol',\n",
    "    verbose= True\n",
    ")\n",
    "\n",
    "enr_pvals_filtered_msigdb_3.sort_values('NES', ascending=False)"
   ]
  },
  {
   "cell_type": "code",
   "execution_count": null,
   "id": "4607325b-8ff8-4845-837e-2107fb4d86c9",
   "metadata": {
    "tags": []
   },
   "outputs": [],
   "source": [
    "enr_pvals_filtered  = enr_pvals_filtered_msigdb_3[enr_pvals_filtered_msigdb_3['FDR p-value'] < 0.05]"
   ]
  },
  {
   "cell_type": "code",
   "execution_count": null,
   "id": "f63c6210-1660-4f0a-afe7-c5d7137d428e",
   "metadata": {
    "tags": []
   },
   "outputs": [],
   "source": [
    "enr_pvals_filtered_color = enr_pvals_filtered.sort_values(by='NES', key=abs, ascending=False).head(35)"
   ]
  },
  {
   "cell_type": "code",
   "execution_count": null,
   "id": "0fdc5c89-f55a-4a1b-8cfb-3d1a4ec9a028",
   "metadata": {
    "tags": []
   },
   "outputs": [],
   "source": [
    "enr_pvals_filtered_color['color'] = np.where(enr_pvals_filtered_color['NES'] < 0, 'blue', 'red')"
   ]
  },
  {
   "cell_type": "code",
   "execution_count": null,
   "id": "657531e7-96aa-4d25-92cf-49912facf3fd",
   "metadata": {
    "tags": []
   },
   "outputs": [],
   "source": [
    "enr_pvals_filtered_color=enr_pvals_filtered_color.sort_values(by='NES', ascending=True)"
   ]
  },
  {
   "cell_type": "code",
   "execution_count": null,
   "id": "52d7c56d-a93e-47ca-b4ab-a0252ecf6fc8",
   "metadata": {
    "tags": []
   },
   "outputs": [],
   "source": [
    "enr_pvals_filtered_color"
   ]
  },
  {
   "cell_type": "code",
   "execution_count": null,
   "id": "ef926b76-5e09-4f92-9081-acde55fe9f88",
   "metadata": {
    "tags": []
   },
   "outputs": [],
   "source": [
    "dc.plot_barplot_df(enr_pvals_filtered_color, x='NES', y= 'Term', figsize=(7, 10), color=enr_pvals_filtered_color.color.tolist())"
   ]
  },
  {
   "cell_type": "markdown",
   "id": "c876e022-d74d-41a7-9057-3373ffbf3603",
   "metadata": {},
   "source": [
    "### Pathways"
   ]
  },
  {
   "cell_type": "code",
   "execution_count": null,
   "id": "f9df3ebc-1531-4f88-80a9-265507c2094c",
   "metadata": {
    "tags": []
   },
   "outputs": [],
   "source": [
    "# Run gsea\n",
    "enr_pvals_filtered_msigdb_4 = dc.get_gsea_df(\n",
    "    df=results_df,\n",
    "    stat = 'stat',\n",
    "    net=filtered_msigdb_4,\n",
    "    source='geneset',\n",
    "    target='genesymbol',\n",
    "    verbose= True\n",
    ")\n",
    "\n",
    "enr_pvals_filtered_msigdb_4.sort_values('NES', ascending=False)"
   ]
  },
  {
   "cell_type": "code",
   "execution_count": null,
   "id": "50a67069-7931-425e-b0e4-0e9a9a296687",
   "metadata": {
    "tags": []
   },
   "outputs": [],
   "source": [
    "enr_pvals_filtered  = enr_pvals_filtered_msigdb_4[enr_pvals_filtered_msigdb_4['FDR p-value'] < 0.05]"
   ]
  },
  {
   "cell_type": "code",
   "execution_count": null,
   "id": "f20468e7-289e-4f9b-b3d4-efa4b8b61a42",
   "metadata": {
    "tags": []
   },
   "outputs": [],
   "source": [
    "enr_pvals_filtered_color = enr_pvals_filtered.sort_values(by='NES', key=abs, ascending=False).head(35)"
   ]
  },
  {
   "cell_type": "code",
   "execution_count": null,
   "id": "284e2a66-6c6d-4b17-809d-02dc413bf95f",
   "metadata": {
    "tags": []
   },
   "outputs": [],
   "source": [
    "enr_pvals_filtered_color['color'] = np.where(enr_pvals_filtered_color['NES'] < 0, 'blue', 'red')"
   ]
  },
  {
   "cell_type": "code",
   "execution_count": null,
   "id": "584639bc-1eb9-4dee-bb37-c5f1de125428",
   "metadata": {
    "tags": []
   },
   "outputs": [],
   "source": [
    "enr_pvals_filtered_color=enr_pvals_filtered_color.sort_values(by='NES', ascending=True)"
   ]
  },
  {
   "cell_type": "code",
   "execution_count": null,
   "id": "b8eb5f17-a3fc-489c-ad45-8a1d96826d29",
   "metadata": {
    "tags": []
   },
   "outputs": [],
   "source": [
    "enr_pvals_filtered_color"
   ]
  },
  {
   "cell_type": "code",
   "execution_count": null,
   "id": "d7f97109-f084-48be-b1cb-89f531a1699a",
   "metadata": {
    "tags": []
   },
   "outputs": [],
   "source": [
    "dc.plot_barplot_df(enr_pvals_filtered_color, x='NES', y= 'Term', figsize=(7, 10), color=enr_pvals_filtered_color.color.tolist())"
   ]
  },
  {
   "cell_type": "markdown",
   "id": "7c20679a-be12-42b3-8119-f8dc991e146e",
   "metadata": {},
   "source": [
    "### Matching with Genes extracted from the literature"
   ]
  },
  {
   "cell_type": "markdown",
   "id": "ad0f0b2c-6d18-4565-8f11-9754b3e8fe7d",
   "metadata": {},
   "source": [
    "We here read the list of genes that are relevant in the context of AAV treatments according to the literate and we match them with the results of our DGE analysis (p Adjusted < 0.05). "
   ]
  },
  {
   "cell_type": "code",
   "execution_count": null,
   "id": "82cd0d1d-b0f0-4bd1-837a-b410723578e5",
   "metadata": {},
   "outputs": [],
   "source": [
    "# literature_list = pd.read_csv(\"Factors_AAV_processing_complete.csv\", header= None)"
   ]
  },
  {
   "cell_type": "code",
   "execution_count": null,
   "id": "fb50a8f8-6191-4ecc-b952-a680476cbaff",
   "metadata": {},
   "outputs": [],
   "source": [
    "# literature_list = literature_list.set_index(0).drop_duplicates()"
   ]
  },
  {
   "cell_type": "code",
   "execution_count": null,
   "id": "19908af2-1ecc-4a89-9ba8-b3b273846f60",
   "metadata": {},
   "outputs": [],
   "source": [
    "results_df[results_df['padj'] < 0.05].merge(literature_list, how='inner', left_index=True, right_index=True)"
   ]
  },
  {
   "cell_type": "markdown",
   "id": "126e3854-3c6e-4b7f-bf69-d5a316ae9f7b",
   "metadata": {},
   "source": [
    "## Saving All results for joint plotting in other scripts"
   ]
  },
  {
   "cell_type": "code",
   "execution_count": null,
   "id": "c67f9eec-0779-48c5-bf6f-ad490c980f9c",
   "metadata": {
    "tags": []
   },
   "outputs": [],
   "source": [
    "## DEG results\n",
    "results_df.to_csv('analyzed/DE/DE_Results_14c/DEG/male_AVV9_vs_Control_other_Results.csv', index=True, index_label='GeneName')"
   ]
  },
  {
   "cell_type": "code",
   "execution_count": null,
   "id": "ab4ccf65-4758-46d1-8104-adf7e6d3075a",
   "metadata": {
    "tags": []
   },
   "outputs": [],
   "source": [
    "## Pathway Results\n",
    "pathways_all = pd.merge(pathway_acts.transpose(), pathway_pvals.transpose(), left_index=True, right_index=True, suffixes=('_ActivityScore', '_pvalue'))\n",
    "pathways_all.to_csv('analyzed/DE/DE_Results_14c/Pathway_results/male_AVV9_vs_Control_other_Results.csv', index=True, index_label='GeneName')                  "
   ]
  },
  {
   "cell_type": "code",
   "execution_count": null,
   "id": "e2edc263-b7ae-4a13-88ea-4f4d0d9a3359",
   "metadata": {
    "tags": []
   },
   "outputs": [],
   "source": [
    "## TF activity results\n",
    "tf_all = pd.merge(tf_acts.transpose(), tf_pvals.transpose(), left_index=True, right_index=True, suffixes=('_ActivityScore', '_pvalue'))\n",
    "tf_all.to_csv('analyzed/DE/DE_Results_14c/TF_results/male_AVV9_vs_Control_other_Results.csv', index=True, index_label='GeneName')"
   ]
  },
  {
   "cell_type": "code",
   "execution_count": null,
   "id": "c66efa58-85c8-448f-bc04-98fdcbe8ac66",
   "metadata": {
    "tags": []
   },
   "outputs": [],
   "source": [
    "## Enrichment Results\n",
    "enr_pvals_filtered_msigdb_1.to_csv('analyzed/DE/DE_Results_14c/GSEA_results/male_AVV9_vs_Control_other_Results_msigdb_1.csv', index=True, index_label='Term')\n",
    "enr_pvals_filtered_msigdb_2.to_csv('analyzed/DE/DE_Results_14c/GSEA_results/male_AVV9_vs_Control_other_Results_msigdb_2.csv', index=True, index_label='Term')\n",
    "enr_pvals_filtered_msigdb_3.to_csv('analyzed/DE/DE_Results_14c/GSEA_results/male_AVV9_vs_Control_other_Results_msigdb_3.csv', index=True, index_label='Term')\n",
    "enr_pvals_filtered_msigdb_4.to_csv('analyzed/DE/DE_Results_14c/GSEA_results/male_AVV9_vs_Control_other_Results_msigdb_4.csv', index=True, index_label='Term')"
   ]
  },
  {
   "cell_type": "markdown",
   "id": "67ee498c-190c-4e32-a759-fb82c50553a4",
   "metadata": {
    "tags": []
   },
   "source": [
    "# Males AAV9 Versus Control in Periportal"
   ]
  },
  {
   "cell_type": "code",
   "execution_count": null,
   "id": "76fa01ec-4713-48e1-b6b4-3cf0cef6ab92",
   "metadata": {
    "tags": []
   },
   "outputs": [],
   "source": [
    "adata_males_AAV9_periportal =  pdata[(pdata.obs['Gender'] == 'Male') & (pdata.obs['Condition'] != 'AAV2-CMV-GFP') & (pdata.obs['zonation'] == 'Periportal')].copy()"
   ]
  },
  {
   "cell_type": "code",
   "execution_count": null,
   "id": "802e85a5-55fa-4874-b206-e9679b88b991",
   "metadata": {
    "tags": []
   },
   "outputs": [],
   "source": [
    "dc.plot_filter_by_expr(adata_males_AAV9_periportal, group = 'Condition', min_count=10, min_total_count=40)"
   ]
  },
  {
   "cell_type": "code",
   "execution_count": null,
   "id": "ad75b1c4-7240-4a66-879a-ce6cd734a63e",
   "metadata": {
    "tags": []
   },
   "outputs": [],
   "source": [
    "adata_males_AAV9_periportal.obs"
   ]
  },
  {
   "cell_type": "code",
   "execution_count": null,
   "id": "baf51214-4b79-4d98-b95f-58dc221f66c2",
   "metadata": {
    "tags": []
   },
   "outputs": [],
   "source": [
    "genes = dc.filter_by_expr(adata_males_AAV9_periportal, group='Condition', min_count=10, min_total_count=40)\n",
    "\n",
    "# Filter by these genes\n",
    "adata_males_AAV9_periportal = adata_males_AAV9_periportal[:, genes].copy()\n",
    "adata_males_AAV9_periportal"
   ]
  },
  {
   "cell_type": "markdown",
   "id": "a5389651-0962-4617-8ef2-cd48a6544e7f",
   "metadata": {
    "tags": []
   },
   "source": [
    "## Contrast between conditions"
   ]
  },
  {
   "cell_type": "code",
   "execution_count": null,
   "id": "ab55b0cc-0d46-494c-9967-61699d3671fc",
   "metadata": {},
   "outputs": [],
   "source": [
    "# Build DESeq2 object\n",
    "inference = DefaultInference(n_cpus=1)\n",
    "dds = DeseqDataSet(\n",
    "    adata= adata_males_AAV9_periportal,\n",
    "    design_factors=['Condition'],\n",
    "    ref_level=['Condition', 'Untreated'],\n",
    "    refit_cooks=True,\n",
    "    inference=inference,\n",
    "    n_cpus = 1)"
   ]
  },
  {
   "cell_type": "code",
   "execution_count": null,
   "id": "a96c7757-cae6-4ec9-9b73-2d29b002ca44",
   "metadata": {
    "tags": []
   },
   "outputs": [],
   "source": [
    "dds.obsm['design_matrix']"
   ]
  },
  {
   "cell_type": "code",
   "execution_count": null,
   "id": "04b49299-6212-4758-a734-a4294b3f195a",
   "metadata": {
    "tags": []
   },
   "outputs": [
    {
     "name": "stderr",
     "output_type": "stream",
     "text": [
      "Fitting dispersions...\n"
     ]
    },
    {
     "name": "stderr",
     "output_type": "stream",
     "text": [
      "... done in 64.72 seconds.\n",
      "\n",
      "Fitting dispersion trend curve...\n"
     ]
    },
    {
     "name": "stderr",
     "output_type": "stream",
     "text": [
      "... done in 0.31 seconds.\n",
      "\n",
      "Fitting MAP dispersions...\n"
     ]
    },
    {
     "name": "stderr",
     "output_type": "stream",
     "text": [
      "... done in 68.13 seconds.\n",
      "\n",
      "Fitting LFCs...\n"
     ]
    },
    {
     "name": "stderr",
     "output_type": "stream",
     "text": [
      "... done in 4.43 seconds.\n",
      "\n",
      "Replacing 0 outlier genes.\n",
      "\n"
     ]
    }
   ],
   "source": [
    "dds.deseq2()"
   ]
  },
  {
   "cell_type": "code",
   "execution_count": null,
   "id": "24c5f289-0ace-4d28-b498-de93ea6cb4cd",
   "metadata": {},
   "outputs": [],
   "source": [
    "# Extract contrast between treated vs control\n",
    "stat_res = DeseqStats(dds, contrast=[\"Condition\", 'AAV9-CMV-GFP', \"Untreated\"], inference=inference)"
   ]
  },
  {
   "cell_type": "code",
   "execution_count": null,
   "id": "50b52e8b-1254-4f4b-ba74-a7ee4026e2f8",
   "metadata": {},
   "outputs": [],
   "source": [
    "# Compute Wald test\n",
    "stat_res.summary(n_cpus = 1)"
   ]
  },
  {
   "cell_type": "code",
   "execution_count": null,
   "id": "780f0528-edb3-4443-81cd-8db0af6450a0",
   "metadata": {},
   "outputs": [],
   "source": [
    "# Shrink LFCs\n",
    "stat_res.lfc_shrink(coeff='Condition_AAV9-CMV-GFP_vs_Untreated')"
   ]
  },
  {
   "cell_type": "code",
   "execution_count": null,
   "id": "4b9d9538-c6d3-445e-875f-8964a9e0288f",
   "metadata": {},
   "outputs": [],
   "source": [
    "# Extract results\n",
    "results_df = stat_res.results_df\n",
    "results_df.sort_values('stat')"
   ]
  },
  {
   "cell_type": "code",
   "execution_count": null,
   "id": "ff300758-580d-4241-8421-278f0ba9fd5b",
   "metadata": {},
   "outputs": [],
   "source": [
    "dc.plot_volcano_df(results_df, x='log2FoldChange', y='padj', top=20)"
   ]
  },
  {
   "cell_type": "code",
   "execution_count": null,
   "id": "c7a143c3-2e6a-4e99-b2b4-eef035945bf2",
   "metadata": {},
   "outputs": [],
   "source": [
    "mat = results_df[['stat']].T.rename(index={'stat': 'Periportal_Males_AAV9'})\n",
    "mat"
   ]
  },
  {
   "cell_type": "code",
   "execution_count": null,
   "id": "31650788-d5aa-4c35-b0d6-5c5e0284eed0",
   "metadata": {},
   "outputs": [],
   "source": [
    "sc.pl.violin(adata_males_AAV9_periportal, keys=['Dbp', 'Ppard', 'Acss2'], groupby='Condition', rotation=90)"
   ]
  },
  {
   "cell_type": "markdown",
   "id": "ef1756b3-704b-45b4-b371-a112dbf5346c",
   "metadata": {},
   "source": [
    "## Transcription factor activity inference"
   ]
  },
  {
   "cell_type": "code",
   "execution_count": null,
   "id": "73952bbe-c8ed-4db9-af2d-6fc5b41ffbb6",
   "metadata": {},
   "outputs": [],
   "source": [
    "# Retrieve CollecTRI gene regulatory network\n",
    "# collectri = dc.get_collectri(organism='mouse', split_complexes=False)\n",
    "# collectri"
   ]
  },
  {
   "cell_type": "code",
   "execution_count": null,
   "id": "8a5a8f52-b850-4ddc-bb42-04d79540487f",
   "metadata": {},
   "outputs": [],
   "source": [
    "# Infer pathway activities with ulm\n",
    "tf_acts, tf_pvals = dc.run_ulm(mat=mat, net=collectri)\n",
    "tf_acts"
   ]
  },
  {
   "cell_type": "code",
   "execution_count": null,
   "id": "1d4e3613-eb5d-46ea-bf22-8feb070d43bf",
   "metadata": {},
   "outputs": [],
   "source": [
    "dc.plot_barplot(tf_acts, 'Periportal_Males_AAV9', top=25, vertical=True)"
   ]
  },
  {
   "cell_type": "code",
   "execution_count": null,
   "id": "56819027-ec84-442d-9948-b1453b9233d8",
   "metadata": {},
   "outputs": [],
   "source": [
    "# Extract logFCs and pvals\n",
    "logFCs = results_df[['log2FoldChange']].T.rename(index={'log2FoldChange': 'Periportal_Males_AAV9'})\n",
    "pvals = results_df[['padj']].T.rename(index={'padj': 'Periportal_Males_AAV9'})\n",
    "\n",
    "# Plot\n",
    "dc.plot_volcano(logFCs, pvals, 'Periportal_Males_AAV9', name='Myc', net=collectri, top=10, sign_thr=0.05, lFCs_thr=0.5)"
   ]
  },
  {
   "cell_type": "code",
   "execution_count": null,
   "id": "4b64f9ba-48c9-4f4f-b3c5-df1b5c49933d",
   "metadata": {},
   "outputs": [],
   "source": [
    "dc.plot_volcano(logFCs, pvals, 'Periportal_Males_AAV9', name='Ppara', net=collectri, top=10, sign_thr=0.05, lFCs_thr=0.5)"
   ]
  },
  {
   "cell_type": "markdown",
   "id": "046cf302-573f-4e70-8628-ace99e126dfe",
   "metadata": {},
   "source": [
    "## Pathway activity inference"
   ]
  },
  {
   "cell_type": "code",
   "execution_count": null,
   "id": "dd60cde5-05c2-4e53-96f8-410e7a15d283",
   "metadata": {},
   "outputs": [],
   "source": [
    "# progeny_mouse = pd.read_csv(\"model_progeny500_mouse_decoupleR.csv\")\n",
    "# progeny_mouse"
   ]
  },
  {
   "cell_type": "code",
   "execution_count": null,
   "id": "79bb72ba-4f1f-4028-888c-3a2fa8919a41",
   "metadata": {},
   "outputs": [],
   "source": [
    "pathway_acts, pathway_pvals = dc.run_mlm(mat=mat, net=progeny_mouse)"
   ]
  },
  {
   "cell_type": "code",
   "execution_count": null,
   "id": "0e67d843-92b6-4d66-b395-a20b72b37d01",
   "metadata": {},
   "outputs": [],
   "source": [
    "pathway_acts"
   ]
  },
  {
   "cell_type": "code",
   "execution_count": null,
   "id": "11b75ab8-d5bc-4ff9-a7ee-f3bb6e2e1267",
   "metadata": {},
   "outputs": [],
   "source": [
    "dc.plot_barplot(pathway_acts, 'Periportal_Males_AAV9', top=25, vertical=False)"
   ]
  },
  {
   "cell_type": "code",
   "execution_count": null,
   "id": "34aa132b-9826-4027-9b2c-214f837945ff",
   "metadata": {},
   "outputs": [],
   "source": [
    "dc.plot_targets(results_df, stat='stat', source_name='PI3K', net=progeny_mouse, top=15)"
   ]
  },
  {
   "cell_type": "code",
   "execution_count": null,
   "id": "861d9011-d650-47ec-8743-e88a61de9fe1",
   "metadata": {},
   "outputs": [],
   "source": [
    "dc.plot_targets(results_df, stat='stat', source_name='Androgen', net=progeny_mouse, top=15)"
   ]
  },
  {
   "cell_type": "markdown",
   "id": "05bbaf78-8e50-4834-a7e0-8c31c0d26f33",
   "metadata": {},
   "source": [
    "## Functional enrichment of biological terms"
   ]
  },
  {
   "cell_type": "code",
   "execution_count": null,
   "id": "6f028744-e91b-48ec-9ac1-f705fb854c2c",
   "metadata": {
    "tags": []
   },
   "outputs": [],
   "source": [
    "# msigdb_mouse = pd.read_csv(\"msigdb_complete.csv\")\n",
    "# msigdb_mouse"
   ]
  },
  {
   "cell_type": "code",
   "execution_count": null,
   "id": "46fc5763-6e34-42a4-96ef-178e3ca08115",
   "metadata": {
    "tags": []
   },
   "outputs": [],
   "source": [
    "# msigdb_mouse.collection.unique().tolist()"
   ]
  },
  {
   "cell_type": "code",
   "execution_count": null,
   "id": "151b7fee-7e4f-4cb9-8fc6-66016280de54",
   "metadata": {
    "tags": []
   },
   "outputs": [],
   "source": [
    "# categories_1 = ['hallmark', 'positional']\n",
    "# categories_2 = ['immunesigdb', 'chemical_and_genetic_perturbations']\n",
    "# categories_3 = ['go_biological_process', 'go_cellular_component', 'go_molecular_function']\n",
    "# categories_4 = ['kegg_pathways', 'reactome_pathways']\n",
    "                \n",
    "# filtered_msigdb_1 = msigdb_mouse[msigdb_mouse['collection'].isin(categories_1)]\n",
    "# filtered_msigdb_2 = msigdb_mouse[msigdb_mouse['collection'].isin(categories_2)]\n",
    "# filtered_msigdb_3 = msigdb_mouse[msigdb_mouse['collection'].isin(categories_3)]\n",
    "# filtered_msigdb_4 = msigdb_mouse[msigdb_mouse['collection'].isin(categories_4)]"
   ]
  },
  {
   "cell_type": "code",
   "execution_count": null,
   "id": "11e70ae2-c841-4f6b-ae81-d0c429f9fd5f",
   "metadata": {},
   "outputs": [],
   "source": [
    "# filtered_msigdb_1 = filtered_msigdb_1[~filtered_msigdb_1.duplicated(['genesymbol', 'geneset'])]\n",
    "# filtered_msigdb_2 = filtered_msigdb_2[~filtered_msigdb_2.duplicated(['genesymbol', 'geneset'])]\n",
    "# filtered_msigdb_3 = filtered_msigdb_3[~filtered_msigdb_3.duplicated(['genesymbol', 'geneset'])]\n",
    "# filtered_msigdb_4 = filtered_msigdb_4[~filtered_msigdb_4.duplicated(['genesymbol', 'geneset'])]"
   ]
  },
  {
   "cell_type": "markdown",
   "id": "061434f7-c29c-4202-a20d-ea58ca0a2872",
   "metadata": {},
   "source": [
    "### Hallmarks and Chromosome location"
   ]
  },
  {
   "cell_type": "code",
   "execution_count": null,
   "id": "30911258-3ffc-4520-b1e3-f3407640260d",
   "metadata": {
    "tags": []
   },
   "outputs": [],
   "source": [
    "# Run gsea\n",
    "enr_pvals_filtered_msigdb_1 = dc.get_gsea_df(\n",
    "    df=results_df,\n",
    "    stat = 'stat',\n",
    "    net=filtered_msigdb_1,\n",
    "    source='geneset',\n",
    "    target='genesymbol',\n",
    "    verbose= True\n",
    ")\n",
    "\n",
    "enr_pvals_filtered_msigdb_1.sort_values('NES', ascending=False)"
   ]
  },
  {
   "cell_type": "code",
   "execution_count": null,
   "id": "007ad536-b422-4ecf-8e8c-63d757e6baa5",
   "metadata": {
    "tags": []
   },
   "outputs": [],
   "source": [
    "enr_pvals_filtered  = enr_pvals_filtered_msigdb_1[enr_pvals_filtered_msigdb_1['FDR p-value'] < 0.05]"
   ]
  },
  {
   "cell_type": "code",
   "execution_count": null,
   "id": "0a2e66dc-b05c-4361-a355-9ac11c4475dd",
   "metadata": {
    "tags": []
   },
   "outputs": [],
   "source": [
    "enr_pvals_filtered_color = enr_pvals_filtered.sort_values(by='NES', key=abs, ascending=False).head(35)"
   ]
  },
  {
   "cell_type": "code",
   "execution_count": null,
   "id": "de6c67f1-3354-4653-b3c1-0c2bbfac54e3",
   "metadata": {
    "tags": []
   },
   "outputs": [],
   "source": [
    "enr_pvals_filtered_color['color'] = np.where(enr_pvals_filtered_color['NES'] < 0, 'blue', 'red')"
   ]
  },
  {
   "cell_type": "code",
   "execution_count": null,
   "id": "40e30198-7ca0-4f2a-a3b5-76241438309f",
   "metadata": {
    "tags": []
   },
   "outputs": [],
   "source": [
    "enr_pvals_filtered_color=enr_pvals_filtered_color.sort_values(by='NES', ascending=True)"
   ]
  },
  {
   "cell_type": "code",
   "execution_count": null,
   "id": "a5b26c6f-c364-4d3e-a9a4-7fa4cb15d354",
   "metadata": {
    "tags": []
   },
   "outputs": [],
   "source": [
    "enr_pvals_filtered_color"
   ]
  },
  {
   "cell_type": "code",
   "execution_count": null,
   "id": "adc8f621-7253-4243-9598-7e04bdea35be",
   "metadata": {
    "tags": []
   },
   "outputs": [],
   "source": [
    "dc.plot_barplot_df(enr_pvals_filtered_color, x='NES', y= 'Term', figsize=(7, 10), color=enr_pvals_filtered_color.color.tolist())"
   ]
  },
  {
   "cell_type": "markdown",
   "id": "16983993-1e89-424c-b574-dc67dedace2a",
   "metadata": {},
   "source": [
    "### immunesigdb and chemical and genetic perturbations"
   ]
  },
  {
   "cell_type": "code",
   "execution_count": null,
   "id": "3bc843cb-ae50-4e85-b7c6-6c42ac551be1",
   "metadata": {
    "tags": []
   },
   "outputs": [],
   "source": [
    "# Run gsea\n",
    "enr_pvals_filtered_msigdb_2 = dc.get_gsea_df(\n",
    "    df=results_df,\n",
    "    stat = 'stat',\n",
    "    net=filtered_msigdb_2,\n",
    "    source='geneset',\n",
    "    target='genesymbol',\n",
    "    verbose= True\n",
    ")\n",
    "\n",
    "enr_pvals_filtered_msigdb_2.sort_values('NES', ascending=False)"
   ]
  },
  {
   "cell_type": "code",
   "execution_count": null,
   "id": "17c7cb8c-eef5-4a53-aa00-e19f02c3e8af",
   "metadata": {
    "tags": []
   },
   "outputs": [],
   "source": [
    "enr_pvals_filtered  = enr_pvals_filtered_msigdb_2[enr_pvals_filtered_msigdb_2['FDR p-value'] < 0.05]"
   ]
  },
  {
   "cell_type": "code",
   "execution_count": null,
   "id": "5c1a7621-d2af-44d1-a57b-c231abff61c3",
   "metadata": {
    "tags": []
   },
   "outputs": [],
   "source": [
    "enr_pvals_filtered_color = enr_pvals_filtered.sort_values(by='NES', key=abs, ascending=False).head(35)"
   ]
  },
  {
   "cell_type": "code",
   "execution_count": null,
   "id": "2a4eb3ea-e778-4401-ae07-6d8cba3ef26a",
   "metadata": {
    "tags": []
   },
   "outputs": [],
   "source": [
    "enr_pvals_filtered_color['color'] = np.where(enr_pvals_filtered_color['NES'] < 0, 'blue', 'red')"
   ]
  },
  {
   "cell_type": "code",
   "execution_count": null,
   "id": "d8197cde-6d3c-4bf9-9e73-420788355016",
   "metadata": {
    "tags": []
   },
   "outputs": [],
   "source": [
    "enr_pvals_filtered_color=enr_pvals_filtered_color.sort_values(by='NES', ascending=True)"
   ]
  },
  {
   "cell_type": "code",
   "execution_count": null,
   "id": "0358f78d-b742-4b21-a9d5-11802b30126b",
   "metadata": {
    "tags": []
   },
   "outputs": [],
   "source": [
    "enr_pvals_filtered_color"
   ]
  },
  {
   "cell_type": "code",
   "execution_count": null,
   "id": "255555b3-4921-4f32-be88-d0f5211cf236",
   "metadata": {
    "tags": []
   },
   "outputs": [],
   "source": [
    "dc.plot_barplot_df(enr_pvals_filtered_color, x='NES', y= 'Term', figsize=(7, 10), color=enr_pvals_filtered_color.color.tolist())"
   ]
  },
  {
   "cell_type": "markdown",
   "id": "c8e690ab-9e3c-4674-bb18-ef0601538a9d",
   "metadata": {},
   "source": [
    "### Gene Ontology Terms"
   ]
  },
  {
   "cell_type": "code",
   "execution_count": null,
   "id": "aa022c2f-167e-4b35-87e6-c335990ad0b2",
   "metadata": {
    "tags": []
   },
   "outputs": [],
   "source": [
    "# Run gsea\n",
    "enr_pvals_filtered_msigdb_3 = dc.get_gsea_df(\n",
    "    df=results_df,\n",
    "    stat = 'stat',\n",
    "    net=filtered_msigdb_3,\n",
    "    source='geneset',\n",
    "    target='genesymbol',\n",
    "    verbose= True\n",
    ")\n",
    "\n",
    "enr_pvals_filtered_msigdb_3.sort_values('NES', ascending=False)"
   ]
  },
  {
   "cell_type": "code",
   "execution_count": null,
   "id": "9a92c021-100d-4aca-b7ab-1b4cbee326c3",
   "metadata": {
    "tags": []
   },
   "outputs": [],
   "source": [
    "enr_pvals_filtered  = enr_pvals_filtered_msigdb_3[enr_pvals_filtered_msigdb_3['FDR p-value'] < 0.05]"
   ]
  },
  {
   "cell_type": "code",
   "execution_count": null,
   "id": "5c288358-b741-4c91-b52e-c326c969ef68",
   "metadata": {
    "tags": []
   },
   "outputs": [],
   "source": [
    "enr_pvals_filtered_color = enr_pvals_filtered.sort_values(by='NES', key=abs, ascending=False).head(35)"
   ]
  },
  {
   "cell_type": "code",
   "execution_count": null,
   "id": "54e640f5-75c2-4a38-83b8-c303fc4ed3c8",
   "metadata": {
    "tags": []
   },
   "outputs": [],
   "source": [
    "enr_pvals_filtered_color['color'] = np.where(enr_pvals_filtered_color['NES'] < 0, 'blue', 'red')"
   ]
  },
  {
   "cell_type": "code",
   "execution_count": null,
   "id": "f0e35f6e-8d26-4102-995c-1a84dbb62cc3",
   "metadata": {
    "tags": []
   },
   "outputs": [],
   "source": [
    "enr_pvals_filtered_color=enr_pvals_filtered_color.sort_values(by='NES', ascending=True)"
   ]
  },
  {
   "cell_type": "code",
   "execution_count": null,
   "id": "6f051432-1276-411b-8753-e2cc2891fc4f",
   "metadata": {
    "tags": []
   },
   "outputs": [],
   "source": [
    "enr_pvals_filtered_color"
   ]
  },
  {
   "cell_type": "code",
   "execution_count": null,
   "id": "5224361b-8a7c-4514-bff4-17e7249b39b7",
   "metadata": {
    "tags": []
   },
   "outputs": [],
   "source": [
    "dc.plot_barplot_df(enr_pvals_filtered_color, x='NES', y= 'Term', figsize=(7, 10), color=enr_pvals_filtered_color.color.tolist())"
   ]
  },
  {
   "cell_type": "markdown",
   "id": "b6c5a637-487c-412e-90c1-3e94b54ef80e",
   "metadata": {},
   "source": [
    "### Pathways"
   ]
  },
  {
   "cell_type": "code",
   "execution_count": null,
   "id": "24c9beeb-0564-4aa3-b8f3-24359fb1e456",
   "metadata": {
    "tags": []
   },
   "outputs": [],
   "source": [
    "# Run gsea\n",
    "enr_pvals_filtered_msigdb_4 = dc.get_gsea_df(\n",
    "    df=results_df,\n",
    "    stat = 'stat',\n",
    "    net=filtered_msigdb_4,\n",
    "    source='geneset',\n",
    "    target='genesymbol',\n",
    "    verbose= True\n",
    ")\n",
    "\n",
    "enr_pvals_filtered_msigdb_4.sort_values('NES', ascending=False)"
   ]
  },
  {
   "cell_type": "code",
   "execution_count": null,
   "id": "1e1a1314-745a-4faa-b0c9-14c4aebbaf51",
   "metadata": {
    "tags": []
   },
   "outputs": [],
   "source": [
    "enr_pvals_filtered  = enr_pvals_filtered_msigdb_4[enr_pvals_filtered_msigdb_4['FDR p-value'] < 0.05]"
   ]
  },
  {
   "cell_type": "code",
   "execution_count": null,
   "id": "3bd2f2af-8696-4776-820a-a54ec1065ebc",
   "metadata": {
    "tags": []
   },
   "outputs": [],
   "source": [
    "enr_pvals_filtered_color = enr_pvals_filtered.sort_values(by='NES', key=abs, ascending=False).head(35)"
   ]
  },
  {
   "cell_type": "code",
   "execution_count": null,
   "id": "f0a5ca8a-5f21-45b0-a950-a66b44544661",
   "metadata": {
    "tags": []
   },
   "outputs": [],
   "source": [
    "enr_pvals_filtered_color['color'] = np.where(enr_pvals_filtered_color['NES'] < 0, 'blue', 'red')"
   ]
  },
  {
   "cell_type": "code",
   "execution_count": null,
   "id": "fe256666-0b84-45c8-b2f1-3b498ff44450",
   "metadata": {
    "tags": []
   },
   "outputs": [],
   "source": [
    "enr_pvals_filtered_color=enr_pvals_filtered_color.sort_values(by='NES', ascending=True)"
   ]
  },
  {
   "cell_type": "code",
   "execution_count": null,
   "id": "56aec4bb-471b-4b64-9839-4ecf3a86ae46",
   "metadata": {
    "tags": []
   },
   "outputs": [],
   "source": [
    "enr_pvals_filtered_color"
   ]
  },
  {
   "cell_type": "code",
   "execution_count": null,
   "id": "483fc772-6e95-4243-8bdc-275898b95e4d",
   "metadata": {
    "tags": []
   },
   "outputs": [],
   "source": [
    "dc.plot_barplot_df(enr_pvals_filtered_color, x='NES', y= 'Term', figsize=(7, 10), color=enr_pvals_filtered_color.color.tolist())"
   ]
  },
  {
   "cell_type": "markdown",
   "id": "f734971e-9465-4668-94ab-24d3f54f1631",
   "metadata": {},
   "source": [
    "### Matching with Genes extracted from the literature"
   ]
  },
  {
   "cell_type": "markdown",
   "id": "c0522e8f-2772-4a29-94d6-d26561b49358",
   "metadata": {},
   "source": [
    "We here read the list of genes that are relevant in the context of AAV treatments according to the literate and we match them with the results of our DGE analysis (p Adjusted < 0.05). "
   ]
  },
  {
   "cell_type": "code",
   "execution_count": null,
   "id": "52d430cd-67aa-4dc7-a4e3-8b243d17847e",
   "metadata": {},
   "outputs": [],
   "source": [
    "# literature_list = pd.read_csv(\"Factors_AAV_processing_complete.csv\", header= None)"
   ]
  },
  {
   "cell_type": "code",
   "execution_count": null,
   "id": "c9b866ea-cbb3-4910-89a3-5dcfa2cf47c0",
   "metadata": {},
   "outputs": [],
   "source": [
    "# literature_list = literature_list.set_index(0).drop_duplicates()"
   ]
  },
  {
   "cell_type": "code",
   "execution_count": null,
   "id": "6ef925ee-12e1-4e52-b0a0-931b56ec3004",
   "metadata": {},
   "outputs": [],
   "source": [
    "results_df[results_df['padj'] < 0.05].merge(literature_list, how='inner', left_index=True, right_index=True)"
   ]
  },
  {
   "cell_type": "markdown",
   "id": "f7986ff2-b590-421d-aed4-c2ba051834b6",
   "metadata": {},
   "source": [
    "## Saving All results for joint plotting in other scripts"
   ]
  },
  {
   "cell_type": "code",
   "execution_count": null,
   "id": "ac0ada40-516f-49be-9ecd-d138ee4dfaef",
   "metadata": {
    "tags": []
   },
   "outputs": [],
   "source": [
    "## DEG results\n",
    "results_df.to_csv('analyzed/DE/DE_Results_14c/DEG/male_AVV9_vs_Control_periportal_Results.csv', index=True, index_label='GeneName')"
   ]
  },
  {
   "cell_type": "code",
   "execution_count": null,
   "id": "7db88678-1cea-40e1-a5ca-3a354c0fac7d",
   "metadata": {
    "tags": []
   },
   "outputs": [],
   "source": [
    "## Pathway Results\n",
    "pathways_all = pd.merge(pathway_acts.transpose(), pathway_pvals.transpose(), left_index=True, right_index=True, suffixes=('_ActivityScore', '_pvalue'))\n",
    "pathways_all.to_csv('analyzed/DE/DE_Results_14c/Pathway_results/male_AVV9_vs_Control_periportal_Results.csv', index=True, index_label='GeneName')                  "
   ]
  },
  {
   "cell_type": "code",
   "execution_count": null,
   "id": "4bfd8fae-379d-44aa-b915-a4e180d150fe",
   "metadata": {
    "tags": []
   },
   "outputs": [],
   "source": [
    "## TF activity results\n",
    "tf_all = pd.merge(tf_acts.transpose(), tf_pvals.transpose(), left_index=True, right_index=True, suffixes=('_ActivityScore', '_pvalue'))\n",
    "tf_all.to_csv('analyzed/DE/DE_Results_14c/TF_results/male_AVV9_vs_Control_periportal_Results.csv', index=True, index_label='GeneName')"
   ]
  },
  {
   "cell_type": "code",
   "execution_count": null,
   "id": "caf6d567-5641-468b-a6c8-9cf849c061de",
   "metadata": {
    "tags": []
   },
   "outputs": [],
   "source": [
    "## Enrichment Results\n",
    "enr_pvals_filtered_msigdb_1.to_csv('analyzed/DE/DE_Results_14c/GSEA_results/male_AVV9_vs_Control_periportal_Results_msigdb_1.csv', index=True, index_label='Term')\n",
    "enr_pvals_filtered_msigdb_2.to_csv('analyzed/DE/DE_Results_14c/GSEA_results/male_AVV9_vs_Control_periportal_Results_msigdb_2.csv', index=True, index_label='Term')\n",
    "enr_pvals_filtered_msigdb_3.to_csv('analyzed/DE/DE_Results_14c/GSEA_results/male_AVV9_vs_Control_periportal_Results_msigdb_3.csv', index=True, index_label='Term')\n",
    "enr_pvals_filtered_msigdb_4.to_csv('analyzed/DE/DE_Results_14c/GSEA_results/male_AVV9_vs_Control_periportal_Results_msigdb_4.csv', index=True, index_label='Term')"
   ]
  },
  {
   "cell_type": "markdown",
   "id": "85924162-e904-41a3-998e-5ae927f43690",
   "metadata": {
    "tags": []
   },
   "source": [
    "# Males AAV2 Versus Control in Pericentral"
   ]
  },
  {
   "cell_type": "code",
   "execution_count": null,
   "id": "e4f3c658-4dcc-4f5f-ad98-22eb034620a7",
   "metadata": {
    "tags": []
   },
   "outputs": [],
   "source": [
    "adata_males_AAV2_pericentral =  pdata[(pdata.obs['Gender'] == 'Male') & (pdata.obs['Condition'] != 'AAV9-CMV-GFP') & (pdata.obs['zonation'] == 'Pericentral')].copy()"
   ]
  },
  {
   "cell_type": "code",
   "execution_count": null,
   "id": "7e92622e-e8eb-4978-b13b-827ece6f21eb",
   "metadata": {
    "tags": []
   },
   "outputs": [],
   "source": [
    "dc.plot_filter_by_expr(adata_males_AAV2_pericentral, group = 'Condition', min_count=10, min_total_count=40)"
   ]
  },
  {
   "cell_type": "code",
   "execution_count": null,
   "id": "593efb77-b12a-427c-a178-8f054a05e4fe",
   "metadata": {
    "tags": []
   },
   "outputs": [],
   "source": [
    "adata_males_AAV2_pericentral.obs"
   ]
  },
  {
   "cell_type": "code",
   "execution_count": null,
   "id": "86c08919-c37f-4d04-a3e0-fb19b6b51603",
   "metadata": {
    "tags": []
   },
   "outputs": [],
   "source": [
    "genes = dc.filter_by_expr(adata_males_AAV2_pericentral, group='Condition', min_count=10, min_total_count=40)\n",
    "\n",
    "# Filter by these genes\n",
    "adata_males_AAV2_pericentral = adata_males_AAV2_pericentral[:, genes].copy()\n",
    "adata_males_AAV2_pericentral"
   ]
  },
  {
   "cell_type": "markdown",
   "id": "fab96d00-d5ae-44e3-b1cf-bb158075763a",
   "metadata": {
    "tags": []
   },
   "source": [
    "## Contrast between conditions"
   ]
  },
  {
   "cell_type": "code",
   "execution_count": null,
   "id": "67dcaf95-b4c7-4d86-a418-f1b5dc72c260",
   "metadata": {},
   "outputs": [],
   "source": [
    "# Build DESeq2 object\n",
    "inference = DefaultInference(n_cpus=1)\n",
    "dds = DeseqDataSet(\n",
    "    adata= adata_males_AAV2_pericentral,\n",
    "    design_factors=['Condition'],\n",
    "    ref_level=['Condition', 'Untreated'],\n",
    "    refit_cooks=True,\n",
    "    inference=inference,\n",
    "    n_cpus = 1)"
   ]
  },
  {
   "cell_type": "code",
   "execution_count": null,
   "id": "a46e6df5-7105-42ee-ab95-2d566db5e770",
   "metadata": {
    "tags": []
   },
   "outputs": [],
   "source": [
    "dds.obsm['design_matrix']"
   ]
  },
  {
   "cell_type": "code",
   "execution_count": null,
   "id": "19fa6e71-522a-49fc-af1f-2df8a9da1643",
   "metadata": {
    "tags": []
   },
   "outputs": [
    {
     "name": "stderr",
     "output_type": "stream",
     "text": [
      "Fitting dispersions...\n"
     ]
    },
    {
     "name": "stderr",
     "output_type": "stream",
     "text": [
      "... done in 61.32 seconds.\n",
      "\n",
      "Fitting dispersion trend curve...\n"
     ]
    },
    {
     "name": "stderr",
     "output_type": "stream",
     "text": [
      "... done in 0.27 seconds.\n",
      "\n",
      "Fitting MAP dispersions...\n"
     ]
    },
    {
     "name": "stderr",
     "output_type": "stream",
     "text": [
      "... done in 57.33 seconds.\n",
      "\n",
      "Fitting LFCs...\n"
     ]
    },
    {
     "name": "stderr",
     "output_type": "stream",
     "text": [
      "... done in 3.96 seconds.\n",
      "\n",
      "Replacing 0 outlier genes.\n",
      "\n"
     ]
    }
   ],
   "source": [
    "dds.deseq2()"
   ]
  },
  {
   "cell_type": "code",
   "execution_count": null,
   "id": "90ae0f12-8e38-4079-909e-c1bfdd425b02",
   "metadata": {},
   "outputs": [],
   "source": [
    "# Extract contrast between treated vs control\n",
    "stat_res = DeseqStats(dds, contrast=[\"Condition\", 'AAV2-CMV-GFP', \"Untreated\"], inference=inference)"
   ]
  },
  {
   "cell_type": "code",
   "execution_count": null,
   "id": "95c61645-7b92-437a-ba3c-a94038203815",
   "metadata": {},
   "outputs": [],
   "source": [
    "# Compute Wald test\n",
    "stat_res.summary(n_cpus = 1)"
   ]
  },
  {
   "cell_type": "code",
   "execution_count": null,
   "id": "d510e98a-3ccc-40e0-a964-445785cf9606",
   "metadata": {},
   "outputs": [],
   "source": [
    "# Shrink LFCs\n",
    "stat_res.lfc_shrink(coeff='Condition_AAV2-CMV-GFP_vs_Untreated')"
   ]
  },
  {
   "cell_type": "code",
   "execution_count": null,
   "id": "14ac5654-d960-4898-ae21-a8eea19b3e67",
   "metadata": {},
   "outputs": [],
   "source": [
    "# Extract results\n",
    "results_df = stat_res.results_df\n",
    "results_df.sort_values('stat')"
   ]
  },
  {
   "cell_type": "code",
   "execution_count": null,
   "id": "e3ede797-3784-43cf-9579-ca2c9896e911",
   "metadata": {},
   "outputs": [],
   "source": [
    "dc.plot_volcano_df(results_df, x='log2FoldChange', y='padj', top=20)"
   ]
  },
  {
   "cell_type": "code",
   "execution_count": null,
   "id": "a703539d-aa7d-4f31-9da3-398b03d4391b",
   "metadata": {},
   "outputs": [],
   "source": [
    "mat = results_df[['stat']].T.rename(index={'stat': 'Pericentral_Males_AAV2'})\n",
    "mat"
   ]
  },
  {
   "cell_type": "code",
   "execution_count": null,
   "id": "d319b2f7-4b80-46fd-b436-fc657b63bc31",
   "metadata": {},
   "outputs": [],
   "source": [
    "sc.pl.violin(adata_males_AAV2_pericentral, keys=['Dbp', 'Ppard', 'Acss2'], groupby='Condition', rotation=90)"
   ]
  },
  {
   "cell_type": "markdown",
   "id": "8f8f5448-5290-45d9-ad7a-6d92decad03f",
   "metadata": {},
   "source": [
    "## Transcription factor activity inference"
   ]
  },
  {
   "cell_type": "code",
   "execution_count": null,
   "id": "fe93195e-9819-48ec-a582-95f54c931091",
   "metadata": {},
   "outputs": [],
   "source": [
    "# Retrieve CollecTRI gene regulatory network\n",
    "# collectri = dc.get_collectri(organism='mouse', split_complexes=False)\n",
    "# collectri"
   ]
  },
  {
   "cell_type": "code",
   "execution_count": null,
   "id": "fdba3884-c7b3-40bb-a147-925ba7986817",
   "metadata": {},
   "outputs": [],
   "source": [
    "# Infer pathway activities with ulm\n",
    "tf_acts, tf_pvals = dc.run_ulm(mat=mat, net=collectri)\n",
    "tf_acts"
   ]
  },
  {
   "cell_type": "code",
   "execution_count": null,
   "id": "fde8aa89-2e61-4bd5-9954-7e828711a611",
   "metadata": {},
   "outputs": [],
   "source": [
    "dc.plot_barplot(tf_acts, 'Pericentral_Males_AAV2', top=25, vertical=True)"
   ]
  },
  {
   "cell_type": "code",
   "execution_count": null,
   "id": "a47c614f-3594-46ac-a655-c04d397ec978",
   "metadata": {},
   "outputs": [],
   "source": [
    "# Extract logFCs and pvals\n",
    "logFCs = results_df[['log2FoldChange']].T.rename(index={'log2FoldChange': 'Pericentral_Males_AAV2'})\n",
    "pvals = results_df[['padj']].T.rename(index={'padj': 'Pericentral_Males_AAV2'})\n",
    "\n",
    "# Plot\n",
    "dc.plot_volcano(logFCs, pvals, 'Pericentral_Males_AAV2', name='Myc', net=collectri, top=10, sign_thr=0.05, lFCs_thr=0.5)"
   ]
  },
  {
   "cell_type": "code",
   "execution_count": null,
   "id": "4262f343-b7f9-4a78-98c5-81d881826d62",
   "metadata": {},
   "outputs": [],
   "source": [
    "dc.plot_volcano(logFCs, pvals, 'Pericentral_Males_AAV2', name='Ppara', net=collectri, top=10, sign_thr=0.05, lFCs_thr=0.5)"
   ]
  },
  {
   "cell_type": "markdown",
   "id": "62fe702b-9eb5-4398-b7f1-4de3b1f1d471",
   "metadata": {},
   "source": [
    "## Pathway activity inference"
   ]
  },
  {
   "cell_type": "code",
   "execution_count": null,
   "id": "a74710b2-5738-43f6-b5db-2b581f11c810",
   "metadata": {},
   "outputs": [],
   "source": [
    "# progeny_mouse = pd.read_csv(\"model_progeny500_mouse_decoupleR.csv\")\n",
    "# progeny_mouse"
   ]
  },
  {
   "cell_type": "code",
   "execution_count": null,
   "id": "0c9d30fe-2d21-4bc5-b642-24413cfd5603",
   "metadata": {},
   "outputs": [],
   "source": [
    "pathway_acts, pathway_pvals = dc.run_mlm(mat=mat, net=progeny_mouse)"
   ]
  },
  {
   "cell_type": "code",
   "execution_count": null,
   "id": "4467d650-3eae-43ec-9446-f874a12e56d7",
   "metadata": {},
   "outputs": [],
   "source": [
    "pathway_acts"
   ]
  },
  {
   "cell_type": "code",
   "execution_count": null,
   "id": "83dc06f7-afb3-43a5-b8b3-f1adf64580f9",
   "metadata": {},
   "outputs": [],
   "source": [
    "dc.plot_barplot(pathway_acts, 'Pericentral_Males_AAV2', top=25, vertical=False)"
   ]
  },
  {
   "cell_type": "code",
   "execution_count": null,
   "id": "06341e10-cd7a-4aac-8237-548cb3be317a",
   "metadata": {},
   "outputs": [],
   "source": [
    "dc.plot_targets(results_df, stat='stat', source_name='PI3K', net=progeny_mouse, top=15)"
   ]
  },
  {
   "cell_type": "code",
   "execution_count": null,
   "id": "b583bc8f-ba30-4a58-9fd1-2cef449a6692",
   "metadata": {},
   "outputs": [],
   "source": [
    "dc.plot_targets(results_df, stat='stat', source_name='Androgen', net=progeny_mouse, top=15)"
   ]
  },
  {
   "cell_type": "markdown",
   "id": "a6f20170-4753-43a7-b1de-fcbfb705c8b1",
   "metadata": {},
   "source": [
    "## Functional enrichment of biological terms"
   ]
  },
  {
   "cell_type": "markdown",
   "id": "82307896-933a-4cbc-b41c-85a7b6c07eb2",
   "metadata": {},
   "source": [
    "### Hallmarks and Chromosome location"
   ]
  },
  {
   "cell_type": "code",
   "execution_count": null,
   "id": "fd373a4c-fcec-426d-8d98-60c213f0b186",
   "metadata": {
    "tags": []
   },
   "outputs": [],
   "source": [
    "# Run gsea\n",
    "enr_pvals_filtered_msigdb_1 = dc.get_gsea_df(\n",
    "    df=results_df,\n",
    "    stat = 'stat',\n",
    "    net=filtered_msigdb_1,\n",
    "    source='geneset',\n",
    "    target='genesymbol',\n",
    "    verbose= True\n",
    ")\n",
    "\n",
    "enr_pvals_filtered_msigdb_1.sort_values('NES', ascending=False)"
   ]
  },
  {
   "cell_type": "code",
   "execution_count": null,
   "id": "36bda0e4-7bbf-4f7d-8b0f-55488e6fcca2",
   "metadata": {
    "tags": []
   },
   "outputs": [],
   "source": [
    "enr_pvals_filtered  = enr_pvals_filtered_msigdb_1[enr_pvals_filtered_msigdb_1['FDR p-value'] < 0.05]"
   ]
  },
  {
   "cell_type": "code",
   "execution_count": null,
   "id": "3915f242-63cf-463a-a1bf-9943227d0db7",
   "metadata": {
    "tags": []
   },
   "outputs": [],
   "source": [
    "enr_pvals_filtered_color = enr_pvals_filtered.sort_values(by='NES', key=abs, ascending=False).head(35)"
   ]
  },
  {
   "cell_type": "code",
   "execution_count": null,
   "id": "ca82d82d-ccf7-48bd-aabb-5a1ec87056d3",
   "metadata": {
    "tags": []
   },
   "outputs": [],
   "source": [
    "enr_pvals_filtered_color['color'] = np.where(enr_pvals_filtered_color['NES'] < 0, 'blue', 'red')"
   ]
  },
  {
   "cell_type": "code",
   "execution_count": null,
   "id": "360ddd2c-3de5-45ec-a21f-5a648437932a",
   "metadata": {
    "tags": []
   },
   "outputs": [],
   "source": [
    "enr_pvals_filtered_color=enr_pvals_filtered_color.sort_values(by='NES', ascending=True)"
   ]
  },
  {
   "cell_type": "code",
   "execution_count": null,
   "id": "db8f7bc6-3a96-408b-93c7-d9ec4bf46719",
   "metadata": {
    "tags": []
   },
   "outputs": [],
   "source": [
    "enr_pvals_filtered_color"
   ]
  },
  {
   "cell_type": "code",
   "execution_count": null,
   "id": "49bb096d-29da-48e3-ac80-21741b4d0a21",
   "metadata": {
    "tags": []
   },
   "outputs": [],
   "source": [
    "dc.plot_barplot_df(enr_pvals_filtered_color, x='NES', y= 'Term', figsize=(7, 10), color=enr_pvals_filtered_color.color.tolist())"
   ]
  },
  {
   "cell_type": "markdown",
   "id": "a3a269fd-ec34-413f-8af0-8e4d1a764f71",
   "metadata": {},
   "source": [
    "### immunesigdb and chemical and genetic perturbations"
   ]
  },
  {
   "cell_type": "code",
   "execution_count": null,
   "id": "a52c5bbb-c73e-4b7f-ac87-1b82b8b50763",
   "metadata": {
    "tags": []
   },
   "outputs": [],
   "source": [
    "# Run gsea\n",
    "enr_pvals_filtered_msigdb_2 = dc.get_gsea_df(\n",
    "    df=results_df,\n",
    "    stat = 'stat',\n",
    "    net=filtered_msigdb_2,\n",
    "    source='geneset',\n",
    "    target='genesymbol',\n",
    "    verbose= True\n",
    ")\n",
    "\n",
    "enr_pvals_filtered_msigdb_2.sort_values('NES', ascending=False)"
   ]
  },
  {
   "cell_type": "code",
   "execution_count": null,
   "id": "7fb444ce-4c47-45f5-8270-9ea58be92759",
   "metadata": {
    "tags": []
   },
   "outputs": [],
   "source": [
    "enr_pvals_filtered  = enr_pvals_filtered_msigdb_2[enr_pvals_filtered_msigdb_2['FDR p-value'] < 0.05]"
   ]
  },
  {
   "cell_type": "code",
   "execution_count": null,
   "id": "cbd07b1a-8183-4e55-956d-a7b8fdba72f9",
   "metadata": {
    "tags": []
   },
   "outputs": [],
   "source": [
    "enr_pvals_filtered_color = enr_pvals_filtered.sort_values(by='NES', key=abs, ascending=False).head(35)"
   ]
  },
  {
   "cell_type": "code",
   "execution_count": null,
   "id": "eb6b8305-f1d2-4173-af10-de5fc82e65c9",
   "metadata": {
    "tags": []
   },
   "outputs": [],
   "source": [
    "enr_pvals_filtered_color['color'] = np.where(enr_pvals_filtered_color['NES'] < 0, 'blue', 'red')"
   ]
  },
  {
   "cell_type": "code",
   "execution_count": null,
   "id": "84d499d6-ce57-4a35-af57-756f88ed7db6",
   "metadata": {
    "tags": []
   },
   "outputs": [],
   "source": [
    "enr_pvals_filtered_color=enr_pvals_filtered_color.sort_values(by='NES', ascending=True)"
   ]
  },
  {
   "cell_type": "code",
   "execution_count": null,
   "id": "eb9587ce-3685-4052-b556-dcead8c08191",
   "metadata": {
    "tags": []
   },
   "outputs": [],
   "source": [
    "enr_pvals_filtered_color"
   ]
  },
  {
   "cell_type": "code",
   "execution_count": null,
   "id": "10759fcf-a877-45d0-976e-a53ca056b433",
   "metadata": {
    "tags": []
   },
   "outputs": [],
   "source": [
    "dc.plot_barplot_df(enr_pvals_filtered_color, x='NES', y= 'Term', figsize=(7, 10), color=enr_pvals_filtered_color.color.tolist())"
   ]
  },
  {
   "cell_type": "markdown",
   "id": "aca9ffac-ee22-4f94-9f1e-728e0e39f114",
   "metadata": {},
   "source": [
    "### Gene Ontology Terms"
   ]
  },
  {
   "cell_type": "code",
   "execution_count": null,
   "id": "e7e3466c-0280-45bc-934d-b9ecb916bf89",
   "metadata": {
    "tags": []
   },
   "outputs": [],
   "source": [
    "# Run gsea\n",
    "enr_pvals_filtered_msigdb_3 = dc.get_gsea_df(\n",
    "    df=results_df,\n",
    "    stat = 'stat',\n",
    "    net=filtered_msigdb_3,\n",
    "    source='geneset',\n",
    "    target='genesymbol',\n",
    "    verbose= True\n",
    ")\n",
    "\n",
    "enr_pvals_filtered_msigdb_3.sort_values('NES', ascending=False)"
   ]
  },
  {
   "cell_type": "code",
   "execution_count": null,
   "id": "ffffe6cd-cfc9-45d7-9e92-366c64497238",
   "metadata": {
    "tags": []
   },
   "outputs": [],
   "source": [
    "enr_pvals_filtered  = enr_pvals_filtered_msigdb_3[enr_pvals_filtered_msigdb_3['FDR p-value'] < 0.05]"
   ]
  },
  {
   "cell_type": "code",
   "execution_count": null,
   "id": "9abd654c-cf18-48aa-a6a3-809dac4f7b7e",
   "metadata": {
    "tags": []
   },
   "outputs": [],
   "source": [
    "enr_pvals_filtered_color = enr_pvals_filtered.sort_values(by='NES', key=abs, ascending=False).head(35)"
   ]
  },
  {
   "cell_type": "code",
   "execution_count": null,
   "id": "99858257-56d7-4c1f-9ff4-2aa98250b6bd",
   "metadata": {
    "tags": []
   },
   "outputs": [],
   "source": [
    "enr_pvals_filtered_color['color'] = np.where(enr_pvals_filtered_color['NES'] < 0, 'blue', 'red')"
   ]
  },
  {
   "cell_type": "code",
   "execution_count": null,
   "id": "d6c8be55-c874-412e-9b82-98a618b11640",
   "metadata": {
    "tags": []
   },
   "outputs": [],
   "source": [
    "enr_pvals_filtered_color=enr_pvals_filtered_color.sort_values(by='NES', ascending=True)"
   ]
  },
  {
   "cell_type": "code",
   "execution_count": null,
   "id": "8b083b26-c97c-46fb-a3d5-faec217c945a",
   "metadata": {
    "tags": []
   },
   "outputs": [],
   "source": [
    "enr_pvals_filtered_color"
   ]
  },
  {
   "cell_type": "code",
   "execution_count": null,
   "id": "fe85857d-aa49-471b-8917-cc0e72535b39",
   "metadata": {
    "tags": []
   },
   "outputs": [],
   "source": [
    "dc.plot_barplot_df(enr_pvals_filtered_color, x='NES', y= 'Term', figsize=(7, 10), color=enr_pvals_filtered_color.color.tolist())"
   ]
  },
  {
   "cell_type": "markdown",
   "id": "17a610c6-d63a-488d-9ec1-a48a3e9ba6e2",
   "metadata": {},
   "source": [
    "### Pathways"
   ]
  },
  {
   "cell_type": "code",
   "execution_count": null,
   "id": "9d610a80-6d70-45b4-a757-f131f04dcda4",
   "metadata": {
    "tags": []
   },
   "outputs": [],
   "source": [
    "# Run gsea\n",
    "enr_pvals_filtered_msigdb_4 = dc.get_gsea_df(\n",
    "    df=results_df,\n",
    "    stat = 'stat',\n",
    "    net=filtered_msigdb_4,\n",
    "    source='geneset',\n",
    "    target='genesymbol',\n",
    "    verbose= True\n",
    ")\n",
    "\n",
    "enr_pvals_filtered_msigdb_4.sort_values('NES', ascending=False)"
   ]
  },
  {
   "cell_type": "code",
   "execution_count": null,
   "id": "33c70cbe-7c74-493b-a9c7-fd98794f2559",
   "metadata": {
    "tags": []
   },
   "outputs": [],
   "source": [
    "enr_pvals_filtered  = enr_pvals_filtered_msigdb_4[enr_pvals_filtered_msigdb_4['FDR p-value'] < 0.05]"
   ]
  },
  {
   "cell_type": "code",
   "execution_count": null,
   "id": "77b9630a-f0bc-4bca-8991-eefbc9feb81f",
   "metadata": {
    "tags": []
   },
   "outputs": [],
   "source": [
    "enr_pvals_filtered_color = enr_pvals_filtered.sort_values(by='NES', key=abs, ascending=False).head(35)"
   ]
  },
  {
   "cell_type": "code",
   "execution_count": null,
   "id": "196327a1-1db4-42a8-a61e-b0cf57db62ba",
   "metadata": {
    "tags": []
   },
   "outputs": [],
   "source": [
    "enr_pvals_filtered_color['color'] = np.where(enr_pvals_filtered_color['NES'] < 0, 'blue', 'red')"
   ]
  },
  {
   "cell_type": "code",
   "execution_count": null,
   "id": "402b2ebb-f31c-4078-8fa1-055188888957",
   "metadata": {
    "tags": []
   },
   "outputs": [],
   "source": [
    "enr_pvals_filtered_color=enr_pvals_filtered_color.sort_values(by='NES', ascending=True)"
   ]
  },
  {
   "cell_type": "code",
   "execution_count": null,
   "id": "50ba731a-f535-4809-9dc5-0b029a3f54f5",
   "metadata": {
    "tags": []
   },
   "outputs": [],
   "source": [
    "enr_pvals_filtered_color"
   ]
  },
  {
   "cell_type": "code",
   "execution_count": null,
   "id": "b6887d5a-37ff-4d5b-9711-ee9379e34949",
   "metadata": {
    "tags": []
   },
   "outputs": [],
   "source": [
    "dc.plot_barplot_df(enr_pvals_filtered_color, x='NES', y= 'Term', figsize=(7, 10), color=enr_pvals_filtered_color.color.tolist())"
   ]
  },
  {
   "cell_type": "markdown",
   "id": "6ef57331-b6f0-4f73-9d44-3a34b8ab7659",
   "metadata": {},
   "source": [
    "### Matching with Genes extracted from the literature"
   ]
  },
  {
   "cell_type": "markdown",
   "id": "31860536-d361-45ec-be96-167975fe6b75",
   "metadata": {},
   "source": [
    "We here read the list of genes that are relevant in the context of AAV treatments according to the literate and we match them with the results of our DGE analysis (p Adjusted < 0.05). "
   ]
  },
  {
   "cell_type": "code",
   "execution_count": null,
   "id": "f8568436-639f-40ca-9999-0b4509a985bd",
   "metadata": {},
   "outputs": [],
   "source": [
    "# literature_list = pd.read_csv(\"Factors_AAV_processing_complete.csv\", header= None)"
   ]
  },
  {
   "cell_type": "code",
   "execution_count": null,
   "id": "96afedaa-4454-47de-990b-9163721bca7b",
   "metadata": {},
   "outputs": [],
   "source": [
    "# literature_list = literature_list.set_index(0).drop_duplicates()"
   ]
  },
  {
   "cell_type": "code",
   "execution_count": null,
   "id": "84577bbe-186e-4491-bf8d-45c9ca92b8f5",
   "metadata": {},
   "outputs": [],
   "source": [
    "results_df[results_df['padj'] < 0.05].merge(literature_list, how='inner', left_index=True, right_index=True)"
   ]
  },
  {
   "cell_type": "markdown",
   "id": "b6be6fda-e6ba-47d7-8f99-72bc4800c754",
   "metadata": {},
   "source": [
    "## Saving All results for joint plotting in other scripts"
   ]
  },
  {
   "cell_type": "code",
   "execution_count": null,
   "id": "3033e95f-4330-486f-8577-2cb647d88efd",
   "metadata": {
    "tags": []
   },
   "outputs": [],
   "source": [
    "## DEG results\n",
    "results_df.to_csv('analyzed/DE/DE_Results_14c/DEG/male_AVV2_vs_Control_pericentral_Results.csv', index=True, index_label='GeneName')"
   ]
  },
  {
   "cell_type": "code",
   "execution_count": null,
   "id": "b5bdb2af-13dd-4f08-8cfb-454be9b1aab8",
   "metadata": {
    "tags": []
   },
   "outputs": [],
   "source": [
    "## Pathway Results\n",
    "pathways_all = pd.merge(pathway_acts.transpose(), pathway_pvals.transpose(), left_index=True, right_index=True, suffixes=('_ActivityScore', '_pvalue'))\n",
    "pathways_all.to_csv('analyzed/DE/DE_Results_14c/Pathway_results/male_AVV2_vs_Control_pericentral_Results.csv', index=True, index_label='GeneName')                  "
   ]
  },
  {
   "cell_type": "code",
   "execution_count": null,
   "id": "958e1ef7-3c86-4a09-821b-35329ac3e8ce",
   "metadata": {
    "tags": []
   },
   "outputs": [],
   "source": [
    "## TF activity results\n",
    "tf_all = pd.merge(tf_acts.transpose(), tf_pvals.transpose(), left_index=True, right_index=True, suffixes=('_ActivityScore', '_pvalue'))\n",
    "tf_all.to_csv('analyzed/DE/DE_Results_14c/TF_results/male_AVV2_vs_Control_pericentral_Results.csv', index=True, index_label='GeneName')"
   ]
  },
  {
   "cell_type": "code",
   "execution_count": null,
   "id": "aa196c71-a052-4936-bd41-8f30c62b3045",
   "metadata": {
    "tags": []
   },
   "outputs": [],
   "source": [
    "## Enrichment Results\n",
    "enr_pvals_filtered_msigdb_1.to_csv('analyzed/DE/DE_Results_14c/GSEA_results/male_AVV2_vs_Control_pericentral_Results_msigdb_1.csv', index=True, index_label='Term')\n",
    "enr_pvals_filtered_msigdb_2.to_csv('analyzed/DE/DE_Results_14c/GSEA_results/male_AVV2_vs_Control_pericentral_Results_msigdb_2.csv', index=True, index_label='Term')\n",
    "enr_pvals_filtered_msigdb_3.to_csv('analyzed/DE/DE_Results_14c/GSEA_results/male_AVV2_vs_Control_pericentral_Results_msigdb_3.csv', index=True, index_label='Term')\n",
    "enr_pvals_filtered_msigdb_4.to_csv('analyzed/DE/DE_Results_14c/GSEA_results/male_AVV2_vs_Control_pericentral_Results_msigdb_4.csv', index=True, index_label='Term')"
   ]
  },
  {
   "cell_type": "markdown",
   "id": "834db9c4-a2fb-4769-b6f1-28c8dd440a0b",
   "metadata": {
    "tags": []
   },
   "source": [
    "# Males AAV2 Versus Control in Other"
   ]
  },
  {
   "cell_type": "code",
   "execution_count": null,
   "id": "7933b322-54f2-4e32-bacd-9c5d7fcd2556",
   "metadata": {
    "tags": []
   },
   "outputs": [],
   "source": [
    "adata_males_AAV2_other =  pdata[(pdata.obs['Gender'] == 'Male') & (pdata.obs['Condition'] != 'AAV9-CMV-GFP') & (pdata.obs['zonation'] == 'Other')].copy()"
   ]
  },
  {
   "cell_type": "code",
   "execution_count": null,
   "id": "49051680-e8f9-49d1-8596-20ae2a05af12",
   "metadata": {
    "tags": []
   },
   "outputs": [],
   "source": [
    "dc.plot_filter_by_expr(adata_males_AAV2_other, group = 'Condition', min_count=10, min_total_count=40)"
   ]
  },
  {
   "cell_type": "code",
   "execution_count": null,
   "id": "b7c7b79c-26f1-4611-9a12-c72a622f1c41",
   "metadata": {
    "tags": []
   },
   "outputs": [],
   "source": [
    "adata_males_AAV2_other.obs"
   ]
  },
  {
   "cell_type": "code",
   "execution_count": null,
   "id": "65b66cbd-652a-4a20-b88f-503c01e8cf55",
   "metadata": {
    "tags": []
   },
   "outputs": [],
   "source": [
    "genes = dc.filter_by_expr(adata_males_AAV2_other, group='Condition', min_count=10, min_total_count=40)\n",
    "\n",
    "# Filter by these genes\n",
    "adata_males_AAV2_other = adata_males_AAV2_other[:, genes].copy()\n",
    "adata_males_AAV2_other"
   ]
  },
  {
   "cell_type": "markdown",
   "id": "e5fbfada-4f29-4375-b8ec-ef1b89a51a2f",
   "metadata": {
    "tags": []
   },
   "source": [
    "## Contrast between conditions"
   ]
  },
  {
   "cell_type": "code",
   "execution_count": null,
   "id": "28ece22b-0087-4fb0-957a-c6bc75f3f30b",
   "metadata": {},
   "outputs": [],
   "source": [
    "# Build DESeq2 object\n",
    "inference = DefaultInference(n_cpus=1)\n",
    "dds = DeseqDataSet(\n",
    "    adata= adata_males_AAV2_other,\n",
    "    design_factors=['Condition'],\n",
    "    ref_level=['Condition', 'Untreated'],\n",
    "    refit_cooks=True,\n",
    "    inference=inference,\n",
    "    n_cpus = 1)"
   ]
  },
  {
   "cell_type": "code",
   "execution_count": null,
   "id": "ee7f87d0-2051-41b0-aecd-17a4413e1da8",
   "metadata": {
    "tags": []
   },
   "outputs": [],
   "source": [
    "dds.obsm['design_matrix']"
   ]
  },
  {
   "cell_type": "code",
   "execution_count": null,
   "id": "fe0949cc-4676-40b6-b504-af94dd3a1a80",
   "metadata": {
    "tags": []
   },
   "outputs": [
    {
     "name": "stderr",
     "output_type": "stream",
     "text": [
      "Fitting dispersions...\n"
     ]
    },
    {
     "name": "stderr",
     "output_type": "stream",
     "text": [
      "... done in 77.10 seconds.\n",
      "\n",
      "Fitting dispersion trend curve...\n"
     ]
    },
    {
     "name": "stderr",
     "output_type": "stream",
     "text": [
      "... done in 0.35 seconds.\n",
      "\n",
      "Fitting MAP dispersions...\n"
     ]
    },
    {
     "name": "stderr",
     "output_type": "stream",
     "text": [
      "... done in 78.12 seconds.\n",
      "\n",
      "Fitting LFCs...\n"
     ]
    },
    {
     "name": "stderr",
     "output_type": "stream",
     "text": [
      "... done in 4.77 seconds.\n",
      "\n",
      "Replacing 0 outlier genes.\n",
      "\n"
     ]
    }
   ],
   "source": [
    "dds.deseq2()"
   ]
  },
  {
   "cell_type": "code",
   "execution_count": null,
   "id": "3ecd85d3-550a-4d24-94a7-766608b0a5f2",
   "metadata": {},
   "outputs": [],
   "source": [
    "# Extract contrast between treated vs control\n",
    "stat_res = DeseqStats(dds, contrast=[\"Condition\", 'AAV2-CMV-GFP', \"Untreated\"], inference=inference)"
   ]
  },
  {
   "cell_type": "code",
   "execution_count": null,
   "id": "076aedd6-9e30-4e9c-aea8-4e53e184d289",
   "metadata": {},
   "outputs": [],
   "source": [
    "# Compute Wald test\n",
    "stat_res.summary(n_cpus = 1)"
   ]
  },
  {
   "cell_type": "code",
   "execution_count": null,
   "id": "86eb80e6-e6ab-4e32-b027-168da25efffb",
   "metadata": {},
   "outputs": [],
   "source": [
    "# Shrink LFCs\n",
    "stat_res.lfc_shrink(coeff='Condition_AAV2-CMV-GFP_vs_Untreated')"
   ]
  },
  {
   "cell_type": "code",
   "execution_count": null,
   "id": "7b7ba4e9-c527-47b7-8cf4-e2a477f16ff2",
   "metadata": {},
   "outputs": [],
   "source": [
    "# Extract results\n",
    "results_df = stat_res.results_df\n",
    "results_df.sort_values('stat')"
   ]
  },
  {
   "cell_type": "code",
   "execution_count": null,
   "id": "691ba689-f04b-4b5f-be0e-2221439d2295",
   "metadata": {},
   "outputs": [],
   "source": [
    "dc.plot_volcano_df(results_df, x='log2FoldChange', y='padj', top=20)"
   ]
  },
  {
   "cell_type": "code",
   "execution_count": null,
   "id": "b3dc984c-958c-44b7-92ec-e6d1cc530984",
   "metadata": {},
   "outputs": [],
   "source": [
    "mat = results_df[['stat']].T.rename(index={'stat': 'Other_Males_AAV2'})\n",
    "mat"
   ]
  },
  {
   "cell_type": "code",
   "execution_count": null,
   "id": "23c3f9f2-6261-4637-88e7-031906a6cccd",
   "metadata": {},
   "outputs": [],
   "source": [
    "sc.pl.violin(adata_males_AAV2_other, keys=['Dbp', 'Ppard', 'Acss2'], groupby='Condition', rotation=90)"
   ]
  },
  {
   "cell_type": "markdown",
   "id": "64355576-b438-4f57-b606-63d333d9bf4d",
   "metadata": {},
   "source": [
    "## Transcription factor activity inference"
   ]
  },
  {
   "cell_type": "code",
   "execution_count": null,
   "id": "d9aca501-a7a4-4365-b6c7-c20c85bc9b05",
   "metadata": {},
   "outputs": [],
   "source": [
    "# Retrieve CollecTRI gene regulatory network\n",
    "# collectri = dc.get_collectri(organism='mouse', split_complexes=False)\n",
    "# collectri"
   ]
  },
  {
   "cell_type": "code",
   "execution_count": null,
   "id": "df1354f5-9cff-4648-922a-d672e76ca845",
   "metadata": {},
   "outputs": [],
   "source": [
    "# Infer pathway activities with ulm\n",
    "tf_acts, tf_pvals = dc.run_ulm(mat=mat, net=collectri)\n",
    "tf_acts"
   ]
  },
  {
   "cell_type": "code",
   "execution_count": null,
   "id": "b22027b5-0cae-415a-bc39-957829390e61",
   "metadata": {},
   "outputs": [],
   "source": [
    "dc.plot_barplot(tf_acts, 'Other_Males_AAV2', top=25, vertical=True)"
   ]
  },
  {
   "cell_type": "code",
   "execution_count": null,
   "id": "7658ce9c-e219-46c3-8c55-1e15e203d2ea",
   "metadata": {},
   "outputs": [],
   "source": [
    "# Extract logFCs and pvals\n",
    "logFCs = results_df[['log2FoldChange']].T.rename(index={'log2FoldChange': 'Other_Males_AAV2'})\n",
    "pvals = results_df[['padj']].T.rename(index={'padj': 'Other_Males_AAV2'})\n",
    "\n",
    "# Plot\n",
    "dc.plot_volcano(logFCs, pvals, 'Other_Males_AAV2', name='Myc', net=collectri, top=10, sign_thr=0.05, lFCs_thr=0.5)"
   ]
  },
  {
   "cell_type": "code",
   "execution_count": null,
   "id": "bec295e3-2248-4fe2-99fb-abe4c3b577c3",
   "metadata": {},
   "outputs": [],
   "source": [
    "dc.plot_volcano(logFCs, pvals, 'Other_Males_AAV2', name='Ppara', net=collectri, top=10, sign_thr=0.05, lFCs_thr=0.5)"
   ]
  },
  {
   "cell_type": "markdown",
   "id": "9560c8fe-d28a-4aba-a5fd-3aef9b549814",
   "metadata": {},
   "source": [
    "## Pathway activity inference"
   ]
  },
  {
   "cell_type": "code",
   "execution_count": null,
   "id": "1ebdd442-0c9d-422e-b0ae-3d212dd014a4",
   "metadata": {},
   "outputs": [],
   "source": [
    "# progeny_mouse = pd.read_csv(\"model_progeny500_mouse_decoupleR.csv\")\n",
    "# progeny_mouse"
   ]
  },
  {
   "cell_type": "code",
   "execution_count": null,
   "id": "b178a366-b76e-496e-8414-86571bab8df4",
   "metadata": {},
   "outputs": [],
   "source": [
    "pathway_acts, pathway_pvals = dc.run_mlm(mat=mat, net=progeny_mouse)"
   ]
  },
  {
   "cell_type": "code",
   "execution_count": null,
   "id": "93595e2c-1e29-481f-b911-6fd346d40fae",
   "metadata": {},
   "outputs": [],
   "source": [
    "pathway_acts"
   ]
  },
  {
   "cell_type": "code",
   "execution_count": null,
   "id": "4f925997-dee5-43cf-a61f-ccc928392174",
   "metadata": {},
   "outputs": [],
   "source": [
    "dc.plot_barplot(pathway_acts, 'Other_Males_AAV2', top=25, vertical=False)"
   ]
  },
  {
   "cell_type": "code",
   "execution_count": null,
   "id": "06c2e5dd-09a8-4129-af6b-1f98199b4051",
   "metadata": {},
   "outputs": [],
   "source": [
    "dc.plot_targets(results_df, stat='stat', source_name='PI3K', net=progeny_mouse, top=15)"
   ]
  },
  {
   "cell_type": "code",
   "execution_count": null,
   "id": "a0ebab03-4d4f-49c0-ab2d-ea8a512b5448",
   "metadata": {},
   "outputs": [],
   "source": [
    "dc.plot_targets(results_df, stat='stat', source_name='Androgen', net=progeny_mouse, top=15)"
   ]
  },
  {
   "cell_type": "markdown",
   "id": "7c04989c-dff2-4a32-b71e-b5e510cb4ac2",
   "metadata": {},
   "source": [
    "## Functional enrichment of biological terms"
   ]
  },
  {
   "cell_type": "markdown",
   "id": "84af8440-f9ba-45c6-b0c9-e0e9a53cc9d6",
   "metadata": {},
   "source": [
    "### Hallmarks and Chromosome location"
   ]
  },
  {
   "cell_type": "code",
   "execution_count": null,
   "id": "6d674e36-d249-47bd-ab88-ce1a678c36ae",
   "metadata": {
    "tags": []
   },
   "outputs": [],
   "source": [
    "# Run gsea\n",
    "enr_pvals_filtered_msigdb_1 = dc.get_gsea_df(\n",
    "    df=results_df,\n",
    "    stat = 'stat',\n",
    "    net=filtered_msigdb_1,\n",
    "    source='geneset',\n",
    "    target='genesymbol',\n",
    "    verbose= True\n",
    ")\n",
    "\n",
    "enr_pvals_filtered_msigdb_1.sort_values('NES', ascending=False)"
   ]
  },
  {
   "cell_type": "code",
   "execution_count": null,
   "id": "d452c452-b307-4db6-875b-0d3b310ca109",
   "metadata": {
    "tags": []
   },
   "outputs": [],
   "source": [
    "enr_pvals_filtered  = enr_pvals_filtered_msigdb_1[enr_pvals_filtered_msigdb_1['FDR p-value'] < 0.05]"
   ]
  },
  {
   "cell_type": "code",
   "execution_count": null,
   "id": "ca100253-408f-4fe0-8d56-4f7acb606260",
   "metadata": {
    "tags": []
   },
   "outputs": [],
   "source": [
    "enr_pvals_filtered_color = enr_pvals_filtered.sort_values(by='NES', key=abs, ascending=False).head(35)"
   ]
  },
  {
   "cell_type": "code",
   "execution_count": null,
   "id": "61c8945d-52ca-4fba-8a14-689375b112b2",
   "metadata": {
    "tags": []
   },
   "outputs": [],
   "source": [
    "enr_pvals_filtered_color['color'] = np.where(enr_pvals_filtered_color['NES'] < 0, 'blue', 'red')"
   ]
  },
  {
   "cell_type": "code",
   "execution_count": null,
   "id": "8e5cc113-b507-49ad-90fd-ff0be6aac73f",
   "metadata": {
    "tags": []
   },
   "outputs": [],
   "source": [
    "enr_pvals_filtered_color=enr_pvals_filtered_color.sort_values(by='NES', ascending=True)"
   ]
  },
  {
   "cell_type": "code",
   "execution_count": null,
   "id": "bda1445b-6f60-41c5-85a4-5d10bc9f84fc",
   "metadata": {
    "tags": []
   },
   "outputs": [],
   "source": [
    "enr_pvals_filtered_color"
   ]
  },
  {
   "cell_type": "code",
   "execution_count": null,
   "id": "101e5b8f-96e7-46ae-8dc1-c21be6dd2cf3",
   "metadata": {
    "tags": []
   },
   "outputs": [],
   "source": [
    "dc.plot_barplot_df(enr_pvals_filtered_color, x='NES', y= 'Term', figsize=(7, 10), color=enr_pvals_filtered_color.color.tolist())"
   ]
  },
  {
   "cell_type": "markdown",
   "id": "f77d7c65-1cca-48a9-aaf3-63ee07e7814a",
   "metadata": {},
   "source": [
    "### immunesigdb and chemical and genetic perturbations"
   ]
  },
  {
   "cell_type": "code",
   "execution_count": null,
   "id": "1bc95d52-2605-46ff-ba87-c57f30cee6c8",
   "metadata": {
    "tags": []
   },
   "outputs": [],
   "source": [
    "# Run gsea\n",
    "enr_pvals_filtered_msigdb_2 = dc.get_gsea_df(\n",
    "    df=results_df,\n",
    "    stat = 'stat',\n",
    "    net=filtered_msigdb_2,\n",
    "    source='geneset',\n",
    "    target='genesymbol',\n",
    "    verbose= True\n",
    ")\n",
    "\n",
    "enr_pvals_filtered_msigdb_2.sort_values('NES', ascending=False)"
   ]
  },
  {
   "cell_type": "code",
   "execution_count": null,
   "id": "5abb2497-c7bc-4688-aee8-4a2ddbcd595b",
   "metadata": {
    "tags": []
   },
   "outputs": [],
   "source": [
    "enr_pvals_filtered  = enr_pvals_filtered_msigdb_2[enr_pvals_filtered_msigdb_2['FDR p-value'] < 0.05]"
   ]
  },
  {
   "cell_type": "code",
   "execution_count": null,
   "id": "a0360a04-9eab-4798-8dbf-cdc9845a4185",
   "metadata": {
    "tags": []
   },
   "outputs": [],
   "source": [
    "enr_pvals_filtered_color = enr_pvals_filtered.sort_values(by='NES', key=abs, ascending=False).head(35)"
   ]
  },
  {
   "cell_type": "code",
   "execution_count": null,
   "id": "18b5c941-9189-4297-b7d5-6de429e2d09c",
   "metadata": {
    "tags": []
   },
   "outputs": [],
   "source": [
    "enr_pvals_filtered_color['color'] = np.where(enr_pvals_filtered_color['NES'] < 0, 'blue', 'red')"
   ]
  },
  {
   "cell_type": "code",
   "execution_count": null,
   "id": "f7fbda49-2574-4b45-b0f9-57a1819d870c",
   "metadata": {
    "tags": []
   },
   "outputs": [],
   "source": [
    "enr_pvals_filtered_color=enr_pvals_filtered_color.sort_values(by='NES', ascending=True)"
   ]
  },
  {
   "cell_type": "code",
   "execution_count": null,
   "id": "3d26937d-f8f9-4ea4-ae7e-d4ef37bbd814",
   "metadata": {
    "tags": []
   },
   "outputs": [],
   "source": [
    "enr_pvals_filtered_color"
   ]
  },
  {
   "cell_type": "code",
   "execution_count": null,
   "id": "8f8cab51-e55c-493d-9813-188553f74fba",
   "metadata": {
    "tags": []
   },
   "outputs": [],
   "source": [
    "dc.plot_barplot_df(enr_pvals_filtered_color, x='NES', y= 'Term', figsize=(7, 10), color=enr_pvals_filtered_color.color.tolist())"
   ]
  },
  {
   "cell_type": "markdown",
   "id": "d60d15a5-e5d8-4b22-83b2-cad01c1a4ffc",
   "metadata": {},
   "source": [
    "### Gene Ontology Terms"
   ]
  },
  {
   "cell_type": "code",
   "execution_count": null,
   "id": "bb6fd448-e748-4f1f-9975-5b76f20e91ac",
   "metadata": {
    "tags": []
   },
   "outputs": [],
   "source": [
    "# Run gsea\n",
    "enr_pvals_filtered_msigdb_3 = dc.get_gsea_df(\n",
    "    df=results_df,\n",
    "    stat = 'stat',\n",
    "    net=filtered_msigdb_3,\n",
    "    source='geneset',\n",
    "    target='genesymbol',\n",
    "    verbose= True\n",
    ")\n",
    "\n",
    "enr_pvals_filtered_msigdb_3.sort_values('NES', ascending=False)"
   ]
  },
  {
   "cell_type": "code",
   "execution_count": null,
   "id": "47d38fd1-c47d-445c-9b72-df2195fbd2f8",
   "metadata": {
    "tags": []
   },
   "outputs": [],
   "source": [
    "enr_pvals_filtered  = enr_pvals_filtered_msigdb_3[enr_pvals_filtered_msigdb_3['FDR p-value'] < 0.05]"
   ]
  },
  {
   "cell_type": "code",
   "execution_count": null,
   "id": "db498d9a-aa55-4c7b-b07f-0b719d5bec30",
   "metadata": {
    "tags": []
   },
   "outputs": [],
   "source": [
    "enr_pvals_filtered_color = enr_pvals_filtered.sort_values(by='NES', key=abs, ascending=False).head(35)"
   ]
  },
  {
   "cell_type": "code",
   "execution_count": null,
   "id": "0362507d-6816-4a7d-8754-2a4c51d92fea",
   "metadata": {
    "tags": []
   },
   "outputs": [],
   "source": [
    "enr_pvals_filtered_color['color'] = np.where(enr_pvals_filtered_color['NES'] < 0, 'blue', 'red')"
   ]
  },
  {
   "cell_type": "code",
   "execution_count": null,
   "id": "182bb5ba-640d-4fd5-b5b7-6073a96b57c7",
   "metadata": {
    "tags": []
   },
   "outputs": [],
   "source": [
    "enr_pvals_filtered_color=enr_pvals_filtered_color.sort_values(by='NES', ascending=True)"
   ]
  },
  {
   "cell_type": "code",
   "execution_count": null,
   "id": "70bbf3eb-aee3-48c2-a728-f18adc4f9fa5",
   "metadata": {
    "tags": []
   },
   "outputs": [],
   "source": [
    "enr_pvals_filtered_color"
   ]
  },
  {
   "cell_type": "code",
   "execution_count": null,
   "id": "cef13c3d-d4c3-417b-beb9-1e2cc7e1d736",
   "metadata": {
    "tags": []
   },
   "outputs": [],
   "source": [
    "dc.plot_barplot_df(enr_pvals_filtered_color, x='NES', y= 'Term', figsize=(7, 10), color=enr_pvals_filtered_color.color.tolist())"
   ]
  },
  {
   "cell_type": "markdown",
   "id": "652b27a9-679d-40b9-b7f3-4f05e51e28f7",
   "metadata": {},
   "source": [
    "### Pathways"
   ]
  },
  {
   "cell_type": "code",
   "execution_count": null,
   "id": "9ee2dcf6-4e28-4fb4-bb7e-da2e4a6d186d",
   "metadata": {
    "tags": []
   },
   "outputs": [],
   "source": [
    "# Run gsea\n",
    "enr_pvals_filtered_msigdb_4 = dc.get_gsea_df(\n",
    "    df=results_df,\n",
    "    stat = 'stat',\n",
    "    net=filtered_msigdb_4,\n",
    "    source='geneset',\n",
    "    target='genesymbol',\n",
    "    verbose= True\n",
    ")\n",
    "\n",
    "enr_pvals_filtered_msigdb_4.sort_values('NES', ascending=False)"
   ]
  },
  {
   "cell_type": "code",
   "execution_count": null,
   "id": "42ebd422-dc28-4359-9489-31432598be09",
   "metadata": {
    "tags": []
   },
   "outputs": [],
   "source": [
    "enr_pvals_filtered  = enr_pvals_filtered_msigdb_4[enr_pvals_filtered_msigdb_4['FDR p-value'] < 0.05]"
   ]
  },
  {
   "cell_type": "code",
   "execution_count": null,
   "id": "b6914e8a-2957-434d-8756-6384e2527596",
   "metadata": {
    "tags": []
   },
   "outputs": [],
   "source": [
    "enr_pvals_filtered_color = enr_pvals_filtered.sort_values(by='NES', key=abs, ascending=False).head(35)"
   ]
  },
  {
   "cell_type": "code",
   "execution_count": null,
   "id": "5033e791-bdfe-4780-93e3-783a1e5b5052",
   "metadata": {
    "tags": []
   },
   "outputs": [],
   "source": [
    "enr_pvals_filtered_color['color'] = np.where(enr_pvals_filtered_color['NES'] < 0, 'blue', 'red')"
   ]
  },
  {
   "cell_type": "code",
   "execution_count": null,
   "id": "0538c872-e605-43d2-801e-c3b25a05d3b2",
   "metadata": {
    "tags": []
   },
   "outputs": [],
   "source": [
    "enr_pvals_filtered_color=enr_pvals_filtered_color.sort_values(by='NES', ascending=True)"
   ]
  },
  {
   "cell_type": "code",
   "execution_count": null,
   "id": "60d8b208-5f49-468f-950d-94598c204153",
   "metadata": {
    "tags": []
   },
   "outputs": [],
   "source": [
    "enr_pvals_filtered_color"
   ]
  },
  {
   "cell_type": "code",
   "execution_count": null,
   "id": "d550cf34-1fbf-4ad1-afb8-75c518be819e",
   "metadata": {
    "tags": []
   },
   "outputs": [],
   "source": [
    "dc.plot_barplot_df(enr_pvals_filtered_color, x='NES', y= 'Term', figsize=(7, 10), color=enr_pvals_filtered_color.color.tolist())"
   ]
  },
  {
   "cell_type": "markdown",
   "id": "e57d6d42-6e41-4fd6-a535-417bbb33f257",
   "metadata": {},
   "source": [
    "### Matching with Genes extracted from the literature"
   ]
  },
  {
   "cell_type": "markdown",
   "id": "72f94c6b-473b-4095-8b25-53cb4cd8f3c8",
   "metadata": {},
   "source": [
    "We here read the list of genes that are relevant in the context of AAV treatments according to the literate and we match them with the results of our DGE analysis (p Adjusted < 0.05). "
   ]
  },
  {
   "cell_type": "code",
   "execution_count": null,
   "id": "d3a09700-5f28-449f-b8a6-3a70227a89a5",
   "metadata": {},
   "outputs": [],
   "source": [
    "# literature_list = pd.read_csv(\"Factors_AAV_processing_complete.csv\", header= None)"
   ]
  },
  {
   "cell_type": "code",
   "execution_count": null,
   "id": "aff71d47-6747-4639-88c0-c8640cde4f49",
   "metadata": {},
   "outputs": [],
   "source": [
    "# literature_list = literature_list.set_index(0).drop_duplicates()"
   ]
  },
  {
   "cell_type": "code",
   "execution_count": null,
   "id": "e8a302a0-aea2-4533-b47e-222749077e7f",
   "metadata": {},
   "outputs": [],
   "source": [
    "results_df[results_df['padj'] < 0.05].merge(literature_list, how='inner', left_index=True, right_index=True)"
   ]
  },
  {
   "cell_type": "markdown",
   "id": "3c64d7f1-1eb2-4335-87f4-1a688aab01c7",
   "metadata": {},
   "source": [
    "## Saving All results for joint plotting in other scripts"
   ]
  },
  {
   "cell_type": "code",
   "execution_count": null,
   "id": "bf080be6-33c7-4967-a00e-a81580c4e97f",
   "metadata": {
    "tags": []
   },
   "outputs": [],
   "source": [
    "## DEG results\n",
    "results_df.to_csv('analyzed/DE/DE_Results_14c/DEG/male_AVV2_vs_Control_other_Results.csv', index=True, index_label='GeneName')"
   ]
  },
  {
   "cell_type": "code",
   "execution_count": null,
   "id": "780366d3-e7cc-4bbf-a3fa-2d46abf81cfe",
   "metadata": {
    "tags": []
   },
   "outputs": [],
   "source": [
    "## Pathway Results\n",
    "pathways_all = pd.merge(pathway_acts.transpose(), pathway_pvals.transpose(), left_index=True, right_index=True, suffixes=('_ActivityScore', '_pvalue'))\n",
    "pathways_all.to_csv('analyzed/DE/DE_Results_14c/Pathway_results/male_AVV2_vs_Control_other_Results.csv', index=True, index_label='GeneName')                  "
   ]
  },
  {
   "cell_type": "code",
   "execution_count": null,
   "id": "a650c443-1c2e-4e26-9931-392e5d82dba3",
   "metadata": {
    "tags": []
   },
   "outputs": [],
   "source": [
    "## TF activity results\n",
    "tf_all = pd.merge(tf_acts.transpose(), tf_pvals.transpose(), left_index=True, right_index=True, suffixes=('_ActivityScore', '_pvalue'))\n",
    "tf_all.to_csv('analyzed/DE/DE_Results_14c/TF_results/male_AVV2_vs_Control_other_Results.csv', index=True, index_label='GeneName')"
   ]
  },
  {
   "cell_type": "code",
   "execution_count": null,
   "id": "21af67de-dee3-4c14-88ba-76915b389c58",
   "metadata": {
    "tags": []
   },
   "outputs": [],
   "source": [
    "## Enrichment Results\n",
    "enr_pvals_filtered_msigdb_1.to_csv('analyzed/DE/DE_Results_14c/GSEA_results/male_AVV2_vs_Control_other_Results_msigdb_1.csv', index=True, index_label='Term')\n",
    "enr_pvals_filtered_msigdb_2.to_csv('analyzed/DE/DE_Results_14c/GSEA_results/male_AVV2_vs_Control_other_Results_msigdb_2.csv', index=True, index_label='Term')\n",
    "enr_pvals_filtered_msigdb_3.to_csv('analyzed/DE/DE_Results_14c/GSEA_results/male_AVV2_vs_Control_other_Results_msigdb_3.csv', index=True, index_label='Term')\n",
    "enr_pvals_filtered_msigdb_4.to_csv('analyzed/DE/DE_Results_14c/GSEA_results/male_AVV2_vs_Control_other_Results_msigdb_4.csv', index=True, index_label='Term')"
   ]
  },
  {
   "cell_type": "markdown",
   "id": "2abebeba-46d9-45fd-8e2e-91a807909cef",
   "metadata": {
    "tags": []
   },
   "source": [
    "# Males AAV2 Versus Control in Periportal"
   ]
  },
  {
   "cell_type": "code",
   "execution_count": null,
   "id": "5fda0cb3-c69d-4496-95c3-dc2671807a3c",
   "metadata": {
    "tags": []
   },
   "outputs": [],
   "source": [
    "adata_males_AAV2_periportal =  pdata[(pdata.obs['Gender'] == 'Male') & (pdata.obs['Condition'] != 'AAV9-CMV-GFP') & (pdata.obs['zonation'] == 'Periportal')].copy()"
   ]
  },
  {
   "cell_type": "code",
   "execution_count": null,
   "id": "750a3dac-de4a-4ac7-af73-f22fa6015264",
   "metadata": {
    "tags": []
   },
   "outputs": [],
   "source": [
    "dc.plot_filter_by_expr(adata_males_AAV2_periportal, group = 'Condition', min_count=10, min_total_count=40)"
   ]
  },
  {
   "cell_type": "code",
   "execution_count": null,
   "id": "c1a720ec-514e-4288-a4d8-ae07476974d2",
   "metadata": {
    "tags": []
   },
   "outputs": [],
   "source": [
    "adata_males_AAV2_periportal.obs"
   ]
  },
  {
   "cell_type": "code",
   "execution_count": null,
   "id": "c8c56c0a-1af4-47a2-985d-64f88f7cba9f",
   "metadata": {
    "tags": []
   },
   "outputs": [],
   "source": [
    "genes = dc.filter_by_expr(adata_males_AAV2_periportal, group='Condition', min_count=10, min_total_count=40)\n",
    "\n",
    "# Filter by these genes\n",
    "adata_males_AAV2_periportal = adata_males_AAV2_periportal[:, genes].copy()\n",
    "adata_males_AAV2_periportal"
   ]
  },
  {
   "cell_type": "markdown",
   "id": "0119ca83-87f5-4b92-8f60-af1f9c3eec40",
   "metadata": {
    "tags": []
   },
   "source": [
    "## Contrast between conditions"
   ]
  },
  {
   "cell_type": "code",
   "execution_count": null,
   "id": "1218c63c-0afd-4fbb-abc9-cc0d0da31a50",
   "metadata": {},
   "outputs": [],
   "source": [
    "# Build DESeq2 object\n",
    "inference = DefaultInference(n_cpus=1)\n",
    "dds = DeseqDataSet(\n",
    "    adata= adata_males_AAV2_periportal,\n",
    "    design_factors=['Condition'],\n",
    "    ref_level=['Condition', 'Untreated'],\n",
    "    refit_cooks=True,\n",
    "    inference=inference,\n",
    "    n_cpus = 1)"
   ]
  },
  {
   "cell_type": "code",
   "execution_count": null,
   "id": "1bb5f5a0-8980-4c0c-bf07-55b441ac2145",
   "metadata": {
    "tags": []
   },
   "outputs": [],
   "source": [
    "dds.obsm['design_matrix']"
   ]
  },
  {
   "cell_type": "code",
   "execution_count": null,
   "id": "83dbcfd4-8783-40b3-bd74-1e297c8c0587",
   "metadata": {
    "tags": []
   },
   "outputs": [
    {
     "name": "stderr",
     "output_type": "stream",
     "text": [
      "Fitting dispersions...\n"
     ]
    },
    {
     "name": "stderr",
     "output_type": "stream",
     "text": [
      "... done in 64.60 seconds.\n",
      "\n",
      "Fitting dispersion trend curve...\n"
     ]
    },
    {
     "name": "stderr",
     "output_type": "stream",
     "text": [
      "... done in 0.33 seconds.\n",
      "\n",
      "Fitting MAP dispersions...\n"
     ]
    },
    {
     "name": "stderr",
     "output_type": "stream",
     "text": [
      "... done in 69.40 seconds.\n",
      "\n",
      "Fitting LFCs...\n"
     ]
    },
    {
     "name": "stderr",
     "output_type": "stream",
     "text": [
      "... done in 4.51 seconds.\n",
      "\n",
      "Replacing 0 outlier genes.\n",
      "\n"
     ]
    }
   ],
   "source": [
    "dds.deseq2()"
   ]
  },
  {
   "cell_type": "code",
   "execution_count": null,
   "id": "30981600-e09c-41a1-a660-2664b7a93707",
   "metadata": {},
   "outputs": [],
   "source": [
    "# Extract contrast between treated vs control\n",
    "stat_res = DeseqStats(dds, contrast=[\"Condition\", 'AAV2-CMV-GFP', \"Untreated\"], inference=inference)"
   ]
  },
  {
   "cell_type": "code",
   "execution_count": null,
   "id": "5836bd7f-a9f3-4906-9f78-f2c02de8cfa6",
   "metadata": {},
   "outputs": [],
   "source": [
    "# Compute Wald test\n",
    "stat_res.summary(n_cpus = 1)"
   ]
  },
  {
   "cell_type": "code",
   "execution_count": null,
   "id": "490f5f2f-63c3-40a3-b2ac-11b891bc7706",
   "metadata": {},
   "outputs": [],
   "source": [
    "# Shrink LFCs\n",
    "stat_res.lfc_shrink(coeff='Condition_AAV2-CMV-GFP_vs_Untreated')"
   ]
  },
  {
   "cell_type": "code",
   "execution_count": null,
   "id": "f48cfb1a-81d8-46d0-b9af-aef43d1fc8eb",
   "metadata": {},
   "outputs": [],
   "source": [
    "# Extract results\n",
    "results_df = stat_res.results_df\n",
    "results_df.sort_values('stat')"
   ]
  },
  {
   "cell_type": "code",
   "execution_count": null,
   "id": "747cfeea-9dc1-4613-89ac-11cade4d4c16",
   "metadata": {},
   "outputs": [],
   "source": [
    "dc.plot_volcano_df(results_df, x='log2FoldChange', y='padj', top=20)"
   ]
  },
  {
   "cell_type": "code",
   "execution_count": null,
   "id": "497f7fb6-da89-4df9-9873-eb0b98f8fd1f",
   "metadata": {},
   "outputs": [],
   "source": [
    "mat = results_df[['stat']].T.rename(index={'stat': 'Periportal_Males_AAV2'})\n",
    "mat"
   ]
  },
  {
   "cell_type": "code",
   "execution_count": null,
   "id": "6e38eec7-e7b7-47d8-9859-65f386a10023",
   "metadata": {},
   "outputs": [],
   "source": [
    "sc.pl.violin(adata_males_AAV2_periportal, keys=['Dbp', 'Ppard', 'Acss2'], groupby='Condition', rotation=90)"
   ]
  },
  {
   "cell_type": "markdown",
   "id": "fb668bf2-a615-4201-9caf-8728b863eeaf",
   "metadata": {},
   "source": [
    "## Transcription factor activity inference"
   ]
  },
  {
   "cell_type": "code",
   "execution_count": null,
   "id": "19b3e90f-5b76-4f80-aa6a-e8a830d3bd60",
   "metadata": {},
   "outputs": [],
   "source": [
    "# Retrieve CollecTRI gene regulatory network\n",
    "# collectri = dc.get_collectri(organism='mouse', split_complexes=False)\n",
    "# collectri"
   ]
  },
  {
   "cell_type": "code",
   "execution_count": null,
   "id": "d42fbeb1-e055-4c80-8fa2-927f58d391a1",
   "metadata": {},
   "outputs": [],
   "source": [
    "# Infer pathway activities with ulm\n",
    "tf_acts, tf_pvals = dc.run_ulm(mat=mat, net=collectri)\n",
    "tf_acts"
   ]
  },
  {
   "cell_type": "code",
   "execution_count": null,
   "id": "84ec7204-d7cb-405c-9cc7-a8196f38c0ad",
   "metadata": {},
   "outputs": [],
   "source": [
    "dc.plot_barplot(tf_acts, 'Periportal_Males_AAV2', top=25, vertical=True)"
   ]
  },
  {
   "cell_type": "code",
   "execution_count": null,
   "id": "b9ddec93-34e1-4581-85d5-0d46f57138c3",
   "metadata": {},
   "outputs": [],
   "source": [
    "# Extract logFCs and pvals\n",
    "logFCs = results_df[['log2FoldChange']].T.rename(index={'log2FoldChange': 'Periportal_Males_AAV2'})\n",
    "pvals = results_df[['padj']].T.rename(index={'padj': 'Periportal_Males_AAV2'})\n",
    "\n",
    "# Plot\n",
    "dc.plot_volcano(logFCs, pvals, 'Periportal_Males_AAV2', name='Myc', net=collectri, top=10, sign_thr=0.05, lFCs_thr=0.5)"
   ]
  },
  {
   "cell_type": "code",
   "execution_count": null,
   "id": "e30bb832-212b-4e8a-bc1b-0ce1b527ae66",
   "metadata": {},
   "outputs": [],
   "source": [
    "dc.plot_volcano(logFCs, pvals, 'Periportal_Males_AAV2', name='Ppara', net=collectri, top=10, sign_thr=0.05, lFCs_thr=0.5)"
   ]
  },
  {
   "cell_type": "markdown",
   "id": "5e8499bd-36a7-4073-b9bf-a025ea2d25c3",
   "metadata": {},
   "source": [
    "## Pathway activity inference"
   ]
  },
  {
   "cell_type": "code",
   "execution_count": null,
   "id": "2faf65c1-06ab-4671-9e30-697a791e0485",
   "metadata": {},
   "outputs": [],
   "source": [
    "# progeny_mouse = pd.read_csv(\"model_progeny500_mouse_decoupleR.csv\")\n",
    "# progeny_mouse"
   ]
  },
  {
   "cell_type": "code",
   "execution_count": null,
   "id": "38446010-4f37-4952-8259-c98bd5aca711",
   "metadata": {},
   "outputs": [],
   "source": [
    "pathway_acts, pathway_pvals = dc.run_mlm(mat=mat, net=progeny_mouse)"
   ]
  },
  {
   "cell_type": "code",
   "execution_count": null,
   "id": "b8c10b96-6a1f-47e7-8994-f5ae84f5dee5",
   "metadata": {},
   "outputs": [],
   "source": [
    "pathway_acts"
   ]
  },
  {
   "cell_type": "code",
   "execution_count": null,
   "id": "092e716d-c779-4c84-80f9-233671d3661c",
   "metadata": {},
   "outputs": [],
   "source": [
    "dc.plot_barplot(pathway_acts, 'Periportal_Males_AAV2', top=25, vertical=False)"
   ]
  },
  {
   "cell_type": "code",
   "execution_count": null,
   "id": "64aca123-687d-45df-95be-888a597b9343",
   "metadata": {},
   "outputs": [],
   "source": [
    "dc.plot_targets(results_df, stat='stat', source_name='PI3K', net=progeny_mouse, top=15)"
   ]
  },
  {
   "cell_type": "code",
   "execution_count": null,
   "id": "7d142de8-e12c-484b-9382-f1e22718cb51",
   "metadata": {},
   "outputs": [],
   "source": [
    "dc.plot_targets(results_df, stat='stat', source_name='Androgen', net=progeny_mouse, top=15)"
   ]
  },
  {
   "cell_type": "markdown",
   "id": "f3b3a636-4bc7-4cd9-846a-603c268a0c3d",
   "metadata": {},
   "source": [
    "## Functional enrichment of biological terms"
   ]
  },
  {
   "cell_type": "markdown",
   "id": "c93eab2b-05e2-47f8-96c2-27e8879203e2",
   "metadata": {},
   "source": [
    "### Hallmarks and Chromosome location"
   ]
  },
  {
   "cell_type": "code",
   "execution_count": null,
   "id": "c554bb99-3555-4349-a822-a8a66ccc6c72",
   "metadata": {
    "tags": []
   },
   "outputs": [],
   "source": [
    "# Run gsea\n",
    "enr_pvals_filtered_msigdb_1 = dc.get_gsea_df(\n",
    "    df=results_df,\n",
    "    stat = 'stat',\n",
    "    net=filtered_msigdb_1,\n",
    "    source='geneset',\n",
    "    target='genesymbol',\n",
    "    verbose= True\n",
    ")\n",
    "\n",
    "enr_pvals_filtered_msigdb_1.sort_values('NES', ascending=False)"
   ]
  },
  {
   "cell_type": "code",
   "execution_count": null,
   "id": "120ad9cd-2fe2-4bb9-8cc2-d8b36af141c7",
   "metadata": {
    "tags": []
   },
   "outputs": [],
   "source": [
    "enr_pvals_filtered  = enr_pvals_filtered_msigdb_1[enr_pvals_filtered_msigdb_1['FDR p-value'] < 0.05]"
   ]
  },
  {
   "cell_type": "code",
   "execution_count": null,
   "id": "accac4e0-ceab-4607-bdce-4e21b78022cb",
   "metadata": {
    "tags": []
   },
   "outputs": [],
   "source": [
    "enr_pvals_filtered_color = enr_pvals_filtered.sort_values(by='NES', key=abs, ascending=False).head(35)"
   ]
  },
  {
   "cell_type": "code",
   "execution_count": null,
   "id": "499c1668-a3a6-4c51-b7ee-665e74440bdf",
   "metadata": {
    "tags": []
   },
   "outputs": [],
   "source": [
    "enr_pvals_filtered_color['color'] = np.where(enr_pvals_filtered_color['NES'] < 0, 'blue', 'red')"
   ]
  },
  {
   "cell_type": "code",
   "execution_count": null,
   "id": "d65260ac-e435-4cb8-87ee-61f8c42aa553",
   "metadata": {
    "tags": []
   },
   "outputs": [],
   "source": [
    "enr_pvals_filtered_color=enr_pvals_filtered_color.sort_values(by='NES', ascending=True)"
   ]
  },
  {
   "cell_type": "code",
   "execution_count": null,
   "id": "66ab21b5-7a47-4255-8376-084bfd7e77a5",
   "metadata": {
    "tags": []
   },
   "outputs": [],
   "source": [
    "enr_pvals_filtered_color"
   ]
  },
  {
   "cell_type": "code",
   "execution_count": null,
   "id": "4df31f91-a97f-44ae-a03a-dd25729c91f1",
   "metadata": {
    "tags": []
   },
   "outputs": [],
   "source": [
    "dc.plot_barplot_df(enr_pvals_filtered_color, x='NES', y= 'Term', figsize=(7, 10), color=enr_pvals_filtered_color.color.tolist())"
   ]
  },
  {
   "cell_type": "markdown",
   "id": "9efc189b-90d9-44f5-9588-e06a349fd4a9",
   "metadata": {},
   "source": [
    "### immunesigdb and chemical and genetic perturbations"
   ]
  },
  {
   "cell_type": "code",
   "execution_count": null,
   "id": "452f7c31-c820-465d-93ee-73148e504448",
   "metadata": {
    "tags": []
   },
   "outputs": [],
   "source": [
    "# Run gsea\n",
    "enr_pvals_filtered_msigdb_2 = dc.get_gsea_df(\n",
    "    df=results_df,\n",
    "    stat = 'stat',\n",
    "    net=filtered_msigdb_2,\n",
    "    source='geneset',\n",
    "    target='genesymbol',\n",
    "    verbose= True\n",
    ")\n",
    "\n",
    "enr_pvals_filtered_msigdb_2.sort_values('NES', ascending=False)"
   ]
  },
  {
   "cell_type": "code",
   "execution_count": null,
   "id": "06b2641f-3289-42b1-999a-fbd673a934cf",
   "metadata": {
    "tags": []
   },
   "outputs": [],
   "source": [
    "enr_pvals_filtered  = enr_pvals_filtered_msigdb_2[enr_pvals_filtered_msigdb_2['FDR p-value'] < 0.05]"
   ]
  },
  {
   "cell_type": "code",
   "execution_count": null,
   "id": "cd89e3cc-43b2-40de-9dec-4fad94aa106c",
   "metadata": {
    "tags": []
   },
   "outputs": [],
   "source": [
    "enr_pvals_filtered_color = enr_pvals_filtered.sort_values(by='NES', key=abs, ascending=False).head(35)"
   ]
  },
  {
   "cell_type": "code",
   "execution_count": null,
   "id": "49952429-6c76-4bae-9ad3-2b0afd804917",
   "metadata": {
    "tags": []
   },
   "outputs": [],
   "source": [
    "enr_pvals_filtered_color['color'] = np.where(enr_pvals_filtered_color['NES'] < 0, 'blue', 'red')"
   ]
  },
  {
   "cell_type": "code",
   "execution_count": null,
   "id": "173e3efa-b9b6-48e5-b743-b6722fba9e2d",
   "metadata": {
    "tags": []
   },
   "outputs": [],
   "source": [
    "enr_pvals_filtered_color=enr_pvals_filtered_color.sort_values(by='NES', ascending=True)"
   ]
  },
  {
   "cell_type": "code",
   "execution_count": null,
   "id": "b7461a52-af7b-4374-bc2b-663976558018",
   "metadata": {
    "tags": []
   },
   "outputs": [],
   "source": [
    "enr_pvals_filtered_color"
   ]
  },
  {
   "cell_type": "code",
   "execution_count": null,
   "id": "2939f57e-3e1a-43d1-b744-05d5f9cdbf5e",
   "metadata": {
    "tags": []
   },
   "outputs": [],
   "source": [
    "dc.plot_barplot_df(enr_pvals_filtered_color, x='NES', y= 'Term', figsize=(7, 10), color=enr_pvals_filtered_color.color.tolist())"
   ]
  },
  {
   "cell_type": "markdown",
   "id": "29458979-10bf-441e-a4c7-a2b6b4f6d6f4",
   "metadata": {},
   "source": [
    "### Gene Ontology Terms"
   ]
  },
  {
   "cell_type": "code",
   "execution_count": null,
   "id": "022589e9-c169-4940-9bb0-7eb60ca0db69",
   "metadata": {
    "tags": []
   },
   "outputs": [],
   "source": [
    "# Run gsea\n",
    "enr_pvals_filtered_msigdb_3 = dc.get_gsea_df(\n",
    "    df=results_df,\n",
    "    stat = 'stat',\n",
    "    net=filtered_msigdb_3,\n",
    "    source='geneset',\n",
    "    target='genesymbol',\n",
    "    verbose= True\n",
    ")\n",
    "\n",
    "enr_pvals_filtered_msigdb_3.sort_values('NES', ascending=False)"
   ]
  },
  {
   "cell_type": "code",
   "execution_count": null,
   "id": "b72cebd1-c88a-4b03-a412-7a51cb083566",
   "metadata": {
    "tags": []
   },
   "outputs": [],
   "source": [
    "enr_pvals_filtered  = enr_pvals_filtered_msigdb_3[enr_pvals_filtered_msigdb_3['FDR p-value'] < 0.05]"
   ]
  },
  {
   "cell_type": "code",
   "execution_count": null,
   "id": "6fd90d17-6f88-443d-9aa5-3e4205a4c7d5",
   "metadata": {
    "tags": []
   },
   "outputs": [],
   "source": [
    "enr_pvals_filtered_color = enr_pvals_filtered.sort_values(by='NES', key=abs, ascending=False).head(35)"
   ]
  },
  {
   "cell_type": "code",
   "execution_count": null,
   "id": "9d44d3ee-cd25-4a04-abb6-659c36affc9c",
   "metadata": {
    "tags": []
   },
   "outputs": [],
   "source": [
    "enr_pvals_filtered_color['color'] = np.where(enr_pvals_filtered_color['NES'] < 0, 'blue', 'red')"
   ]
  },
  {
   "cell_type": "code",
   "execution_count": null,
   "id": "b9561a92-a0bd-4511-8483-08b991cd3b46",
   "metadata": {
    "tags": []
   },
   "outputs": [],
   "source": [
    "enr_pvals_filtered_color=enr_pvals_filtered_color.sort_values(by='NES', ascending=True)"
   ]
  },
  {
   "cell_type": "code",
   "execution_count": null,
   "id": "7df3305f-c7a4-40e7-9c0f-06af9f9f1aa7",
   "metadata": {
    "tags": []
   },
   "outputs": [],
   "source": [
    "enr_pvals_filtered_color"
   ]
  },
  {
   "cell_type": "code",
   "execution_count": null,
   "id": "cf4c74c7-332d-4962-99ed-00cfe6334ba8",
   "metadata": {
    "tags": []
   },
   "outputs": [],
   "source": [
    "dc.plot_barplot_df(enr_pvals_filtered_color, x='NES', y= 'Term', figsize=(7, 10), color=enr_pvals_filtered_color.color.tolist())"
   ]
  },
  {
   "cell_type": "markdown",
   "id": "fe4e0d50-92a3-4f55-a5da-5cab077b10f1",
   "metadata": {},
   "source": [
    "### Pathways"
   ]
  },
  {
   "cell_type": "code",
   "execution_count": null,
   "id": "b27164d6-388f-4ae3-99df-88259b65c1ca",
   "metadata": {
    "tags": []
   },
   "outputs": [],
   "source": [
    "# Run gsea\n",
    "enr_pvals_filtered_msigdb_4 = dc.get_gsea_df(\n",
    "    df=results_df,\n",
    "    stat = 'stat',\n",
    "    net=filtered_msigdb_4,\n",
    "    source='geneset',\n",
    "    target='genesymbol',\n",
    "    verbose= True\n",
    ")\n",
    "\n",
    "enr_pvals_filtered_msigdb_4.sort_values('NES', ascending=False)"
   ]
  },
  {
   "cell_type": "code",
   "execution_count": null,
   "id": "d7131c81-099a-4e05-a878-225229765b96",
   "metadata": {
    "tags": []
   },
   "outputs": [],
   "source": [
    "enr_pvals_filtered  = enr_pvals_filtered_msigdb_4[enr_pvals_filtered_msigdb_4['FDR p-value'] < 0.05]"
   ]
  },
  {
   "cell_type": "code",
   "execution_count": null,
   "id": "02330e92-124c-4795-a5a8-4c9b13a691f2",
   "metadata": {
    "tags": []
   },
   "outputs": [],
   "source": [
    "enr_pvals_filtered_color = enr_pvals_filtered.sort_values(by='NES', key=abs, ascending=False).head(35)"
   ]
  },
  {
   "cell_type": "code",
   "execution_count": null,
   "id": "70125733-f693-4ae1-b9bf-0b46f4746430",
   "metadata": {
    "tags": []
   },
   "outputs": [],
   "source": [
    "enr_pvals_filtered_color['color'] = np.where(enr_pvals_filtered_color['NES'] < 0, 'blue', 'red')"
   ]
  },
  {
   "cell_type": "code",
   "execution_count": null,
   "id": "c649fde0-aa3f-4092-b351-5e55ef5b7148",
   "metadata": {
    "tags": []
   },
   "outputs": [],
   "source": [
    "enr_pvals_filtered_color=enr_pvals_filtered_color.sort_values(by='NES', ascending=True)"
   ]
  },
  {
   "cell_type": "code",
   "execution_count": null,
   "id": "bad41ec0-3dd9-4a8e-b754-ae79109760ef",
   "metadata": {
    "tags": []
   },
   "outputs": [],
   "source": [
    "enr_pvals_filtered_color"
   ]
  },
  {
   "cell_type": "code",
   "execution_count": null,
   "id": "638af929-e3d0-416c-8ce8-8ebd31bcedc3",
   "metadata": {
    "tags": []
   },
   "outputs": [],
   "source": [
    "dc.plot_barplot_df(enr_pvals_filtered_color, x='NES', y= 'Term', figsize=(7, 10), color=enr_pvals_filtered_color.color.tolist())"
   ]
  },
  {
   "cell_type": "markdown",
   "id": "520c2882-81a3-4148-8c42-a74f9471b18d",
   "metadata": {},
   "source": [
    "### Matching with Genes extracted from the literature"
   ]
  },
  {
   "cell_type": "markdown",
   "id": "3c0da424-2125-418d-bdde-d7629de8dbeb",
   "metadata": {},
   "source": [
    "We here read the list of genes that are relevant in the context of AAV treatments according to the literate and we match them with the results of our DGE analysis (p Adjusted < 0.05). "
   ]
  },
  {
   "cell_type": "code",
   "execution_count": null,
   "id": "607d02b0-1413-4d2f-94ef-d7ea6ff54a1b",
   "metadata": {},
   "outputs": [],
   "source": [
    "results_df[results_df['padj'] < 0.05].merge(literature_list, how='inner', left_index=True, right_index=True)"
   ]
  },
  {
   "cell_type": "markdown",
   "id": "869dbe49-6f89-429c-bed8-bdad5010ff84",
   "metadata": {},
   "source": [
    "## Saving All results for joint plotting in other scripts"
   ]
  },
  {
   "cell_type": "code",
   "execution_count": null,
   "id": "f6283a40-57d6-4d75-92fa-d29d5b133fe8",
   "metadata": {
    "tags": []
   },
   "outputs": [],
   "source": [
    "## DEG results\n",
    "results_df.to_csv('analyzed/DE/DE_Results_14c/DEG/male_AVV2_vs_Control_periportal_Results.csv', index=True, index_label='GeneName')"
   ]
  },
  {
   "cell_type": "code",
   "execution_count": null,
   "id": "965001b4-44de-4b51-8536-c70353b137cb",
   "metadata": {
    "tags": []
   },
   "outputs": [],
   "source": [
    "## Pathway Results\n",
    "pathways_all = pd.merge(pathway_acts.transpose(), pathway_pvals.transpose(), left_index=True, right_index=True, suffixes=('_ActivityScore', '_pvalue'))\n",
    "pathways_all.to_csv('analyzed/DE/DE_Results_14c/Pathway_results/male_AVV2_vs_Control_periportal_Results.csv', index=True, index_label='GeneName')                  "
   ]
  },
  {
   "cell_type": "code",
   "execution_count": null,
   "id": "0ba7fed3-ffff-4b83-901d-dadf4df6661b",
   "metadata": {
    "tags": []
   },
   "outputs": [],
   "source": [
    "## TF activity results\n",
    "tf_all = pd.merge(tf_acts.transpose(), tf_pvals.transpose(), left_index=True, right_index=True, suffixes=('_ActivityScore', '_pvalue'))\n",
    "tf_all.to_csv('analyzed/DE/DE_Results_14c/TF_results/male_AVV2_vs_Control_periportal_Results.csv', index=True, index_label='GeneName')"
   ]
  },
  {
   "cell_type": "code",
   "execution_count": null,
   "id": "8b3a53e7-1bdb-439d-a1e7-d7b17b0700b1",
   "metadata": {
    "tags": []
   },
   "outputs": [],
   "source": [
    "## Enrichment Results\n",
    "enr_pvals_filtered_msigdb_1.to_csv('analyzed/DE/DE_Results_14c/GSEA_results/male_AVV2_vs_Control_periportal_Results_msigdb_1.csv', index=True, index_label='Term')\n",
    "enr_pvals_filtered_msigdb_2.to_csv('analyzed/DE/DE_Results_14c/GSEA_results/male_AVV2_vs_Control_periportal_Results_msigdb_2.csv', index=True, index_label='Term')\n",
    "enr_pvals_filtered_msigdb_3.to_csv('analyzed/DE/DE_Results_14c/GSEA_results/male_AVV2_vs_Control_periportal_Results_msigdb_3.csv', index=True, index_label='Term')\n",
    "enr_pvals_filtered_msigdb_4.to_csv('analyzed/DE/DE_Results_14c/GSEA_results/male_AVV2_vs_Control_periportal_Results_msigdb_4.csv', index=True, index_label='Term')"
   ]
  },
  {
   "cell_type": "markdown",
   "id": "f38aa06b-11a6-491f-9707-10ecb234753d",
   "metadata": {
    "tags": []
   },
   "source": [
    "# Females AAV9 Versus Control in Pericentral"
   ]
  },
  {
   "cell_type": "code",
   "execution_count": null,
   "id": "1f595c1f-2497-4243-9560-b7b4ac836b18",
   "metadata": {
    "tags": []
   },
   "outputs": [],
   "source": [
    "adata_females_AAV9_pericentral =  pdata[(pdata.obs['Gender'] == 'Female') & (pdata.obs['Condition'] != 'AAV2-CMV-GFP') & (pdata.obs['zonation'] == 'Pericentral')].copy()"
   ]
  },
  {
   "cell_type": "code",
   "execution_count": null,
   "id": "a7632ede-6f5d-4eb0-a59a-6f50083441c3",
   "metadata": {
    "tags": []
   },
   "outputs": [],
   "source": [
    "dc.plot_filter_by_expr(adata_females_AAV9_pericentral, group = 'Condition', min_count=10, min_total_count=40)"
   ]
  },
  {
   "cell_type": "code",
   "execution_count": null,
   "id": "03aac892-b728-4d06-a975-2616b7b8c044",
   "metadata": {
    "tags": []
   },
   "outputs": [],
   "source": [
    "adata_females_AAV9_pericentral.obs"
   ]
  },
  {
   "cell_type": "code",
   "execution_count": null,
   "id": "a033c0fb-8f21-4e35-93e1-4d332c0c0076",
   "metadata": {
    "tags": []
   },
   "outputs": [],
   "source": [
    "genes = dc.filter_by_expr(adata_females_AAV9_pericentral, group='Condition', min_count=10, min_total_count=40)\n",
    "\n",
    "# Filter by these genes\n",
    "adata_females_AAV9_pericentral = adata_females_AAV9_pericentral[:, genes].copy()\n",
    "adata_females_AAV9_pericentral"
   ]
  },
  {
   "cell_type": "markdown",
   "id": "bf03e69e-af51-4aeb-ae43-8716a06cfb95",
   "metadata": {
    "tags": []
   },
   "source": [
    "## Contrast between conditions"
   ]
  },
  {
   "cell_type": "code",
   "execution_count": null,
   "id": "494fa419-c459-43d0-830d-b4b1416c0db6",
   "metadata": {},
   "outputs": [],
   "source": [
    "# Build DESeq2 object\n",
    "inference = DefaultInference(n_cpus=1)\n",
    "dds = DeseqDataSet(\n",
    "    adata= adata_females_AAV9_pericentral,\n",
    "    design_factors=['Condition'],\n",
    "    ref_level=['Condition', 'Untreated'],\n",
    "    refit_cooks=True,\n",
    "    inference=inference,\n",
    "    n_cpus = 1)"
   ]
  },
  {
   "cell_type": "code",
   "execution_count": null,
   "id": "1f18a8e5-b72e-4e8b-b77d-52fa82a0159e",
   "metadata": {
    "tags": []
   },
   "outputs": [],
   "source": [
    "dds.obsm['design_matrix']"
   ]
  },
  {
   "cell_type": "code",
   "execution_count": null,
   "id": "63490bc2-765a-4979-b795-44174b141527",
   "metadata": {
    "tags": []
   },
   "outputs": [
    {
     "name": "stderr",
     "output_type": "stream",
     "text": [
      "Fitting dispersions...\n"
     ]
    },
    {
     "name": "stderr",
     "output_type": "stream",
     "text": [
      "... done in 61.10 seconds.\n",
      "\n",
      "Fitting dispersion trend curve...\n"
     ]
    },
    {
     "name": "stderr",
     "output_type": "stream",
     "text": [
      "... done in 0.24 seconds.\n",
      "\n",
      "Fitting MAP dispersions...\n"
     ]
    },
    {
     "name": "stderr",
     "output_type": "stream",
     "text": [
      "... done in 56.47 seconds.\n",
      "\n",
      "Fitting LFCs...\n"
     ]
    },
    {
     "name": "stderr",
     "output_type": "stream",
     "text": [
      "... done in 3.98 seconds.\n",
      "\n",
      "Replacing 0 outlier genes.\n",
      "\n"
     ]
    }
   ],
   "source": [
    "dds.deseq2()"
   ]
  },
  {
   "cell_type": "code",
   "execution_count": null,
   "id": "7a02f617-bc95-471a-99e5-c573b6da59ec",
   "metadata": {},
   "outputs": [],
   "source": [
    "# Extract contrast between treated vs control\n",
    "stat_res = DeseqStats(dds, contrast=[\"Condition\", 'AAV9-CMV-GFP', \"Untreated\"], inference=inference)"
   ]
  },
  {
   "cell_type": "code",
   "execution_count": null,
   "id": "bb0095fc-d16b-49b9-ab15-78d6b6960230",
   "metadata": {},
   "outputs": [],
   "source": [
    "# Compute Wald test\n",
    "stat_res.summary(n_cpus = 1)"
   ]
  },
  {
   "cell_type": "code",
   "execution_count": null,
   "id": "0dd4c0aa-700c-4cec-b905-41cdd06d7ee6",
   "metadata": {},
   "outputs": [],
   "source": [
    "# Shrink LFCs\n",
    "stat_res.lfc_shrink(coeff='Condition_AAV9-CMV-GFP_vs_Untreated')"
   ]
  },
  {
   "cell_type": "code",
   "execution_count": null,
   "id": "3365925c-fc3f-402b-a2dd-656a18595375",
   "metadata": {},
   "outputs": [],
   "source": [
    "# Extract results\n",
    "results_df = stat_res.results_df\n",
    "results_df.sort_values('stat')"
   ]
  },
  {
   "cell_type": "code",
   "execution_count": null,
   "id": "0c79e247-8897-4a03-88e5-dc0345cbdc75",
   "metadata": {},
   "outputs": [],
   "source": [
    "dc.plot_volcano_df(results_df, x='log2FoldChange', y='padj', top=20)"
   ]
  },
  {
   "cell_type": "code",
   "execution_count": null,
   "id": "5e69a84e-67a6-4b58-be1b-ed443ef472e5",
   "metadata": {},
   "outputs": [],
   "source": [
    "mat = results_df[['stat']].T.rename(index={'stat': 'Pericentral_Females_AAV9'})\n",
    "mat"
   ]
  },
  {
   "cell_type": "code",
   "execution_count": null,
   "id": "7482895b-26c2-4e94-b6e7-e934afe5ec7d",
   "metadata": {},
   "outputs": [],
   "source": [
    "sc.pl.violin(adata_females_AAV9_pericentral, keys=['Pck1', 'Hacl1', 'Eepd1'], groupby='Condition', rotation=90)"
   ]
  },
  {
   "cell_type": "markdown",
   "id": "f6ad85cc-b4d2-4939-a3ad-105c916c45a8",
   "metadata": {},
   "source": [
    "## Transcription factor activity inference"
   ]
  },
  {
   "cell_type": "code",
   "execution_count": null,
   "id": "b329b706-dd5f-4f27-be14-33530749f98d",
   "metadata": {},
   "outputs": [],
   "source": [
    "# Retrieve CollecTRI gene regulatory network\n",
    "# collectri = dc.get_collectri(organism='mouse', split_complexes=False)\n",
    "# collectri"
   ]
  },
  {
   "cell_type": "code",
   "execution_count": null,
   "id": "a6701069-db73-44f7-a00d-7ef739f8468e",
   "metadata": {},
   "outputs": [],
   "source": [
    "# Infer pathway activities with ulm\n",
    "tf_acts, tf_pvals = dc.run_ulm(mat=mat, net=collectri)\n",
    "tf_acts"
   ]
  },
  {
   "cell_type": "code",
   "execution_count": null,
   "id": "f77da546-8fa2-4816-9323-5556a9835a49",
   "metadata": {},
   "outputs": [],
   "source": [
    "dc.plot_barplot(tf_acts, 'Pericentral_Females_AAV9', top=25, vertical=True)"
   ]
  },
  {
   "cell_type": "code",
   "execution_count": null,
   "id": "6e775048-d603-4a35-962e-eb8629a49785",
   "metadata": {},
   "outputs": [],
   "source": [
    "# Extract logFCs and pvals\n",
    "logFCs = results_df[['log2FoldChange']].T.rename(index={'log2FoldChange': 'Pericentral_Females_AAV9'})\n",
    "pvals = results_df[['padj']].T.rename(index={'padj': 'Pericentral_Females_AAV9'})\n",
    "\n",
    "# Plot\n",
    "dc.plot_volcano(logFCs, pvals, 'Pericentral_Females_AAV9', name='Clock', net=collectri, top=10, sign_thr=0.05, lFCs_thr=0.5)"
   ]
  },
  {
   "cell_type": "code",
   "execution_count": null,
   "id": "e1ac22ac-8297-40f9-818f-20e60b4979e0",
   "metadata": {},
   "outputs": [],
   "source": [
    "dc.plot_volcano(logFCs, pvals, 'Pericentral_Females_AAV9', name='Ppara', net=collectri, top=10, sign_thr=0.05, lFCs_thr=0.5)"
   ]
  },
  {
   "cell_type": "markdown",
   "id": "560d4707-0144-4d50-a6a0-9389fe19d16c",
   "metadata": {},
   "source": [
    "## Pathway activity inference"
   ]
  },
  {
   "cell_type": "code",
   "execution_count": null,
   "id": "f820eea7-2957-41a5-9b9f-4b7f8b661c33",
   "metadata": {},
   "outputs": [],
   "source": [
    "# progeny_mouse = pd.read_csv(\"model_progeny500_mouse_decoupleR.csv\")\n",
    "# progeny_mouse"
   ]
  },
  {
   "cell_type": "code",
   "execution_count": null,
   "id": "7907ed93-bda2-4f2e-a879-6b64dcc96dc0",
   "metadata": {},
   "outputs": [],
   "source": [
    "pathway_acts, pathway_pvals = dc.run_mlm(mat=mat, net=progeny_mouse)"
   ]
  },
  {
   "cell_type": "code",
   "execution_count": null,
   "id": "5987cc5d-52fa-4775-87bc-6a0c433c7e3f",
   "metadata": {},
   "outputs": [],
   "source": [
    "pathway_acts"
   ]
  },
  {
   "cell_type": "code",
   "execution_count": null,
   "id": "13e313cb-4fad-43d7-b1cb-a6242a7683dc",
   "metadata": {},
   "outputs": [],
   "source": [
    "dc.plot_barplot(pathway_acts, 'Pericentral_Females_AAV9', top=25, vertical=False)"
   ]
  },
  {
   "cell_type": "code",
   "execution_count": null,
   "id": "b63d122e-c900-450d-b10d-3b01bbd148a6",
   "metadata": {},
   "outputs": [],
   "source": [
    "dc.plot_targets(results_df, stat='stat', source_name='TGFb', net=progeny_mouse, top=15)"
   ]
  },
  {
   "cell_type": "code",
   "execution_count": null,
   "id": "751c4525-5487-4e8a-80f8-c6db81d650e1",
   "metadata": {},
   "outputs": [],
   "source": [
    "dc.plot_targets(results_df, stat='stat', source_name='Hypoxia', net=progeny_mouse, top=15)"
   ]
  },
  {
   "cell_type": "markdown",
   "id": "e411ee1f-412e-4fe9-b565-ccf8ecfaace9",
   "metadata": {},
   "source": [
    "## Functional enrichment of biological terms"
   ]
  },
  {
   "cell_type": "markdown",
   "id": "bb58c784-213c-4655-af9f-f4267d093166",
   "metadata": {},
   "source": [
    "### Hallmarks and Chromosome location"
   ]
  },
  {
   "cell_type": "code",
   "execution_count": null,
   "id": "53210c91-76eb-434b-b609-e8bb82843c4e",
   "metadata": {
    "tags": []
   },
   "outputs": [],
   "source": [
    "# Run gsea\n",
    "enr_pvals_filtered_msigdb_1 = dc.get_gsea_df(\n",
    "    df=results_df,\n",
    "    stat = 'stat',\n",
    "    net=filtered_msigdb_1,\n",
    "    source='geneset',\n",
    "    target='genesymbol',\n",
    "    verbose= True\n",
    ")\n",
    "\n",
    "enr_pvals_filtered_msigdb_1.sort_values('NES', ascending=False)"
   ]
  },
  {
   "cell_type": "code",
   "execution_count": null,
   "id": "ff88ab77-6db6-4138-a0c5-af31053695f8",
   "metadata": {
    "tags": []
   },
   "outputs": [],
   "source": [
    "enr_pvals_filtered  = enr_pvals_filtered_msigdb_1[enr_pvals_filtered_msigdb_1['FDR p-value'] < 0.05]"
   ]
  },
  {
   "cell_type": "code",
   "execution_count": null,
   "id": "a5a83c2b-5ef7-4a0b-8f23-e818bc164d7f",
   "metadata": {
    "tags": []
   },
   "outputs": [],
   "source": [
    "enr_pvals_filtered_color = enr_pvals_filtered.sort_values(by='NES', key=abs, ascending=False).head(35)"
   ]
  },
  {
   "cell_type": "code",
   "execution_count": null,
   "id": "acf4e64c-b3db-42fb-a247-3d251a19c8c7",
   "metadata": {
    "tags": []
   },
   "outputs": [],
   "source": [
    "enr_pvals_filtered_color['color'] = np.where(enr_pvals_filtered_color['NES'] < 0, 'blue', 'red')"
   ]
  },
  {
   "cell_type": "code",
   "execution_count": null,
   "id": "5998962a-854b-4a91-96e5-4f10bac4a9ca",
   "metadata": {
    "tags": []
   },
   "outputs": [],
   "source": [
    "enr_pvals_filtered_color=enr_pvals_filtered_color.sort_values(by='NES', ascending=True)"
   ]
  },
  {
   "cell_type": "code",
   "execution_count": null,
   "id": "d84a1cc1-2395-4efa-861d-1de50c4045a7",
   "metadata": {
    "tags": []
   },
   "outputs": [],
   "source": [
    "enr_pvals_filtered_color"
   ]
  },
  {
   "cell_type": "code",
   "execution_count": null,
   "id": "d6be4c13-d295-4c29-acbe-0ab8d7caa045",
   "metadata": {
    "tags": []
   },
   "outputs": [],
   "source": [
    "dc.plot_barplot_df(enr_pvals_filtered_color, x='NES', y= 'Term', figsize=(7, 10), color=enr_pvals_filtered_color.color.tolist())"
   ]
  },
  {
   "cell_type": "markdown",
   "id": "87ba7c0b-ebe3-4742-af0c-922173dc1e5e",
   "metadata": {},
   "source": [
    "### immunesigdb and chemical and genetic perturbations"
   ]
  },
  {
   "cell_type": "code",
   "execution_count": null,
   "id": "5a7c011d-f5ff-43d9-9c40-0f7e3f06bc8e",
   "metadata": {
    "tags": []
   },
   "outputs": [],
   "source": [
    "# Run gsea\n",
    "enr_pvals_filtered_msigdb_2 = dc.get_gsea_df(\n",
    "    df=results_df,\n",
    "    stat = 'stat',\n",
    "    net=filtered_msigdb_2,\n",
    "    source='geneset',\n",
    "    target='genesymbol',\n",
    "    verbose= True\n",
    ")\n",
    "\n",
    "enr_pvals_filtered_msigdb_2.sort_values('NES', ascending=False)"
   ]
  },
  {
   "cell_type": "code",
   "execution_count": null,
   "id": "d0422aec-fe3c-4e6e-a563-43796c49744e",
   "metadata": {
    "tags": []
   },
   "outputs": [],
   "source": [
    "enr_pvals_filtered  = enr_pvals_filtered_msigdb_2[enr_pvals_filtered_msigdb_2['FDR p-value'] < 0.05]"
   ]
  },
  {
   "cell_type": "code",
   "execution_count": null,
   "id": "104bd73d-e40a-4ea5-a4b3-943412f142a7",
   "metadata": {
    "tags": []
   },
   "outputs": [],
   "source": [
    "enr_pvals_filtered_color = enr_pvals_filtered.sort_values(by='NES', key=abs, ascending=False).head(35)"
   ]
  },
  {
   "cell_type": "code",
   "execution_count": null,
   "id": "09e6fdff-d631-400e-b1ed-c5ae35a2bc5c",
   "metadata": {
    "tags": []
   },
   "outputs": [],
   "source": [
    "enr_pvals_filtered_color['color'] = np.where(enr_pvals_filtered_color['NES'] < 0, 'blue', 'red')"
   ]
  },
  {
   "cell_type": "code",
   "execution_count": null,
   "id": "aba7fe95-16eb-4b17-b5c0-bb7101cb7904",
   "metadata": {
    "tags": []
   },
   "outputs": [],
   "source": [
    "enr_pvals_filtered_color=enr_pvals_filtered_color.sort_values(by='NES', ascending=True)"
   ]
  },
  {
   "cell_type": "code",
   "execution_count": null,
   "id": "ff30c214-474c-4098-bd19-01c3b949dc4e",
   "metadata": {
    "tags": []
   },
   "outputs": [],
   "source": [
    "enr_pvals_filtered_color"
   ]
  },
  {
   "cell_type": "code",
   "execution_count": null,
   "id": "ab5fd865-d6e8-4f20-aa02-48d0a2249bd7",
   "metadata": {
    "tags": []
   },
   "outputs": [],
   "source": [
    "dc.plot_barplot_df(enr_pvals_filtered_color, x='NES', y= 'Term', figsize=(7, 10), color=enr_pvals_filtered_color.color.tolist())"
   ]
  },
  {
   "cell_type": "markdown",
   "id": "913994fd-8012-486b-a79c-3808f0db264d",
   "metadata": {},
   "source": [
    "### Gene Ontology Terms"
   ]
  },
  {
   "cell_type": "code",
   "execution_count": null,
   "id": "8ef23e6f-222d-4fd0-bf4c-a15c7b5dfce2",
   "metadata": {
    "tags": []
   },
   "outputs": [],
   "source": [
    "# Run gsea\n",
    "enr_pvals_filtered_msigdb_3 = dc.get_gsea_df(\n",
    "    df=results_df,\n",
    "    stat = 'stat',\n",
    "    net=filtered_msigdb_3,\n",
    "    source='geneset',\n",
    "    target='genesymbol',\n",
    "    verbose= True\n",
    ")\n",
    "\n",
    "enr_pvals_filtered_msigdb_3.sort_values('NES', ascending=False)"
   ]
  },
  {
   "cell_type": "code",
   "execution_count": null,
   "id": "ed4a50a2-beaa-4631-ad8a-fa2e8855fa23",
   "metadata": {
    "tags": []
   },
   "outputs": [],
   "source": [
    "enr_pvals_filtered  = enr_pvals_filtered_msigdb_3[enr_pvals_filtered_msigdb_3['FDR p-value'] < 0.05]"
   ]
  },
  {
   "cell_type": "code",
   "execution_count": null,
   "id": "49788213-d527-4d10-90da-094ec6668a45",
   "metadata": {
    "tags": []
   },
   "outputs": [],
   "source": [
    "enr_pvals_filtered_color = enr_pvals_filtered.sort_values(by='NES', key=abs, ascending=False).head(35)"
   ]
  },
  {
   "cell_type": "code",
   "execution_count": null,
   "id": "6c332579-73e2-44f3-979a-98e6abe4e694",
   "metadata": {
    "tags": []
   },
   "outputs": [],
   "source": [
    "enr_pvals_filtered_color['color'] = np.where(enr_pvals_filtered_color['NES'] < 0, 'blue', 'red')"
   ]
  },
  {
   "cell_type": "code",
   "execution_count": null,
   "id": "ff6eadb7-0b4b-4eb5-87be-fb7b6096a50a",
   "metadata": {
    "tags": []
   },
   "outputs": [],
   "source": [
    "enr_pvals_filtered_color=enr_pvals_filtered_color.sort_values(by='NES', ascending=True)"
   ]
  },
  {
   "cell_type": "code",
   "execution_count": null,
   "id": "e26d4701-37af-4868-a898-7f8f61aa0ca6",
   "metadata": {
    "tags": []
   },
   "outputs": [],
   "source": [
    "enr_pvals_filtered_color"
   ]
  },
  {
   "cell_type": "code",
   "execution_count": null,
   "id": "7b073937-2926-49ef-bb1f-61291efa4df5",
   "metadata": {
    "tags": []
   },
   "outputs": [],
   "source": [
    "dc.plot_barplot_df(enr_pvals_filtered_color, x='NES', y= 'Term', figsize=(7, 10), color=enr_pvals_filtered_color.color.tolist())"
   ]
  },
  {
   "cell_type": "markdown",
   "id": "0c5f4053-f3f0-4333-bebb-a9a10e04b990",
   "metadata": {},
   "source": [
    "### Pathways"
   ]
  },
  {
   "cell_type": "code",
   "execution_count": null,
   "id": "66902f56-ccf7-4f4b-af15-063a26d132a5",
   "metadata": {
    "tags": []
   },
   "outputs": [],
   "source": [
    "# Run gsea\n",
    "enr_pvals_filtered_msigdb_4 = dc.get_gsea_df(\n",
    "    df=results_df,\n",
    "    stat = 'stat',\n",
    "    net=filtered_msigdb_4,\n",
    "    source='geneset',\n",
    "    target='genesymbol',\n",
    "    verbose= True\n",
    ")\n",
    "\n",
    "enr_pvals_filtered_msigdb_4.sort_values('NES', ascending=False)"
   ]
  },
  {
   "cell_type": "code",
   "execution_count": null,
   "id": "6848ffb8-1453-483b-9977-12949cabed7f",
   "metadata": {
    "tags": []
   },
   "outputs": [],
   "source": [
    "enr_pvals_filtered  = enr_pvals_filtered_msigdb_4[enr_pvals_filtered_msigdb_4['FDR p-value'] < 0.05]"
   ]
  },
  {
   "cell_type": "code",
   "execution_count": null,
   "id": "5e7faef9-950a-40ae-bee1-de4f4213a74d",
   "metadata": {
    "tags": []
   },
   "outputs": [],
   "source": [
    "enr_pvals_filtered_color = enr_pvals_filtered.sort_values(by='NES', key=abs, ascending=False).head(35)"
   ]
  },
  {
   "cell_type": "code",
   "execution_count": null,
   "id": "ff013c8c-f2ec-41d5-9161-60d6c0919c9b",
   "metadata": {
    "tags": []
   },
   "outputs": [],
   "source": [
    "enr_pvals_filtered_color['color'] = np.where(enr_pvals_filtered_color['NES'] < 0, 'blue', 'red')"
   ]
  },
  {
   "cell_type": "code",
   "execution_count": null,
   "id": "ec92bddd-6aba-4942-b38b-ee222bf6365e",
   "metadata": {
    "tags": []
   },
   "outputs": [],
   "source": [
    "enr_pvals_filtered_color=enr_pvals_filtered_color.sort_values(by='NES', ascending=True)"
   ]
  },
  {
   "cell_type": "code",
   "execution_count": null,
   "id": "836c0b41-9b6e-4b6a-a871-090d7c60ce09",
   "metadata": {
    "tags": []
   },
   "outputs": [],
   "source": [
    "enr_pvals_filtered_color"
   ]
  },
  {
   "cell_type": "code",
   "execution_count": null,
   "id": "2814fe7e-c708-462c-bc72-facb89bd55e3",
   "metadata": {
    "tags": []
   },
   "outputs": [],
   "source": [
    "dc.plot_barplot_df(enr_pvals_filtered_color, x='NES', y= 'Term', figsize=(7, 10), color=enr_pvals_filtered_color.color.tolist())"
   ]
  },
  {
   "cell_type": "markdown",
   "id": "ffb67266-f8f8-46c3-bd31-9a1e81fb157f",
   "metadata": {},
   "source": [
    "### Matching with Genes extracted from the literature"
   ]
  },
  {
   "cell_type": "markdown",
   "id": "c4f54d2f-818a-4cc4-be10-1788587ee620",
   "metadata": {},
   "source": [
    "We here read the list of genes that are relevant in the context of AAV treatments according to the literate and we match them with the results of our DGE analysis (p Adjusted < 0.05). "
   ]
  },
  {
   "cell_type": "code",
   "execution_count": null,
   "id": "0109c8e1-e4e4-4c4b-8412-68febb702f17",
   "metadata": {},
   "outputs": [],
   "source": [
    "# literature_list = pd.read_csv(\"Factors_AAV_processing_complete.csv\", header= None)"
   ]
  },
  {
   "cell_type": "code",
   "execution_count": null,
   "id": "6d482126-de43-4dde-9ce7-b76012109e41",
   "metadata": {},
   "outputs": [],
   "source": [
    "# literature_list = literature_list.set_index(0).drop_duplicates()"
   ]
  },
  {
   "cell_type": "code",
   "execution_count": null,
   "id": "473b3d16-baf9-4b05-9347-dc21412b8be5",
   "metadata": {},
   "outputs": [],
   "source": [
    "results_df[results_df['padj'] < 0.05].merge(literature_list, how='inner', left_index=True, right_index=True)"
   ]
  },
  {
   "cell_type": "markdown",
   "id": "29deb34f-b196-4d7d-ba9f-2a9d0b26ceb9",
   "metadata": {},
   "source": [
    "## Saving All results for joint plotting in other scripts"
   ]
  },
  {
   "cell_type": "code",
   "execution_count": null,
   "id": "00322d2d-24d0-467e-89fa-76b60f3cdbc6",
   "metadata": {
    "tags": []
   },
   "outputs": [],
   "source": [
    "## DEG results\n",
    "results_df.to_csv('analyzed/DE/DE_Results_14c/DEG/female_AVV9_vs_Control_pericentral_Results.csv', index=True, index_label='GeneName')"
   ]
  },
  {
   "cell_type": "code",
   "execution_count": null,
   "id": "afdd29b1-69cd-4e05-a05d-008325859b4e",
   "metadata": {
    "tags": []
   },
   "outputs": [],
   "source": [
    "## Pathway Results\n",
    "pathways_all = pd.merge(pathway_acts.transpose(), pathway_pvals.transpose(), left_index=True, right_index=True, suffixes=('_ActivityScore', '_pvalue'))\n",
    "pathways_all.to_csv('analyzed/DE/DE_Results_14c/Pathway_results/female_AVV9_vs_Control_pericentral_Results.csv', index=True, index_label='GeneName')                  "
   ]
  },
  {
   "cell_type": "code",
   "execution_count": null,
   "id": "94f9884b-5f35-4b5f-97a0-f3acdfa27091",
   "metadata": {
    "tags": []
   },
   "outputs": [],
   "source": [
    "## TF activity results\n",
    "tf_all = pd.merge(tf_acts.transpose(), tf_pvals.transpose(), left_index=True, right_index=True, suffixes=('_ActivityScore', '_pvalue'))\n",
    "tf_all.to_csv('analyzed/DE/DE_Results_14c/TF_results/female_AVV9_vs_Control_pericentral_Results.csv', index=True, index_label='GeneName')"
   ]
  },
  {
   "cell_type": "code",
   "execution_count": null,
   "id": "c5fca40c-633e-4e2b-8fba-bb1a14d316b0",
   "metadata": {
    "tags": []
   },
   "outputs": [],
   "source": [
    "## Enrichment Results\n",
    "enr_pvals_filtered_msigdb_1.to_csv('analyzed/DE/DE_Results_14c/GSEA_results/female_AVV9_vs_Control_pericentral_Results_msigdb_1.csv', index=True, index_label='Term')\n",
    "enr_pvals_filtered_msigdb_2.to_csv('analyzed/DE/DE_Results_14c/GSEA_results/female_AVV9_vs_Control_pericentral_Results_msigdb_2.csv', index=True, index_label='Term')\n",
    "enr_pvals_filtered_msigdb_3.to_csv('analyzed/DE/DE_Results_14c/GSEA_results/female_AVV9_vs_Control_pericentral_Results_msigdb_3.csv', index=True, index_label='Term')\n",
    "enr_pvals_filtered_msigdb_4.to_csv('analyzed/DE/DE_Results_14c/GSEA_results/female_AVV9_vs_Control_pericentral_Results_msigdb_4.csv', index=True, index_label='Term')"
   ]
  },
  {
   "cell_type": "markdown",
   "id": "08539730-de10-4007-8deb-2245b06fc1e0",
   "metadata": {
    "tags": []
   },
   "source": [
    "# Females AAV9 Versus Control in Other"
   ]
  },
  {
   "cell_type": "code",
   "execution_count": null,
   "id": "09a59a42-f5b2-4c42-b55c-40a02b6b6d92",
   "metadata": {
    "tags": []
   },
   "outputs": [],
   "source": [
    "adata_females_AAV9_other =  pdata[(pdata.obs['Gender'] == 'Female') & (pdata.obs['Condition'] != 'AAV2-CMV-GFP') & (pdata.obs['zonation'] == 'Other')].copy()"
   ]
  },
  {
   "cell_type": "code",
   "execution_count": null,
   "id": "1bb6d8d9-7349-4bec-898d-78f7b7f3d97c",
   "metadata": {
    "tags": []
   },
   "outputs": [],
   "source": [
    "dc.plot_filter_by_expr(adata_females_AAV9_other, group = 'Condition', min_count=10, min_total_count=40)"
   ]
  },
  {
   "cell_type": "code",
   "execution_count": null,
   "id": "a08d89ad-f872-4308-bf79-7646a05abc4d",
   "metadata": {
    "tags": []
   },
   "outputs": [],
   "source": [
    "adata_females_AAV9_other.obs"
   ]
  },
  {
   "cell_type": "code",
   "execution_count": null,
   "id": "ab24c761-3225-4470-a3b7-d6dd9ab4d374",
   "metadata": {
    "tags": []
   },
   "outputs": [],
   "source": [
    "genes = dc.filter_by_expr(adata_females_AAV9_other, group='Condition', min_count=10, min_total_count=40)\n",
    "\n",
    "# Filter by these genes\n",
    "adata_females_AAV9_other = adata_females_AAV9_other[:, genes].copy()\n",
    "adata_females_AAV9_other"
   ]
  },
  {
   "cell_type": "markdown",
   "id": "6cdd97f5-2500-4179-a76b-362a0adcd660",
   "metadata": {
    "tags": []
   },
   "source": [
    "## Contrast between conditions"
   ]
  },
  {
   "cell_type": "code",
   "execution_count": null,
   "id": "38683a65-5d7b-49df-bd24-d5b45c3e5492",
   "metadata": {},
   "outputs": [],
   "source": [
    "# Build DESeq2 object\n",
    "inference = DefaultInference(n_cpus=1)\n",
    "dds = DeseqDataSet(\n",
    "    adata= adata_females_AAV9_other,\n",
    "    design_factors=['Condition'],\n",
    "    ref_level=['Condition', 'Untreated'],\n",
    "    refit_cooks=True,\n",
    "    inference=inference,\n",
    "    n_cpus = 1)"
   ]
  },
  {
   "cell_type": "code",
   "execution_count": null,
   "id": "0f32559a-2880-40f7-aad0-c0b429f59702",
   "metadata": {
    "tags": []
   },
   "outputs": [],
   "source": [
    "dds.obsm['design_matrix']"
   ]
  },
  {
   "cell_type": "code",
   "execution_count": null,
   "id": "61064959-c61c-446e-b1be-103530f81049",
   "metadata": {
    "tags": []
   },
   "outputs": [
    {
     "name": "stderr",
     "output_type": "stream",
     "text": [
      "Fitting dispersions...\n"
     ]
    },
    {
     "name": "stderr",
     "output_type": "stream",
     "text": [
      "... done in 79.90 seconds.\n",
      "\n",
      "Fitting dispersion trend curve...\n"
     ]
    },
    {
     "name": "stderr",
     "output_type": "stream",
     "text": [
      "... done in 0.33 seconds.\n",
      "\n",
      "Fitting MAP dispersions...\n"
     ]
    },
    {
     "name": "stderr",
     "output_type": "stream",
     "text": [
      "... done in 78.53 seconds.\n",
      "\n",
      "Fitting LFCs...\n"
     ]
    },
    {
     "name": "stderr",
     "output_type": "stream",
     "text": [
      "... done in 4.86 seconds.\n",
      "\n",
      "Replacing 0 outlier genes.\n",
      "\n"
     ]
    }
   ],
   "source": [
    "dds.deseq2()"
   ]
  },
  {
   "cell_type": "code",
   "execution_count": null,
   "id": "13f52aca-5e23-45d1-a91f-0a1bd84e11df",
   "metadata": {},
   "outputs": [],
   "source": [
    "# Extract contrast between treated vs control\n",
    "stat_res = DeseqStats(dds, contrast=[\"Condition\", 'AAV9-CMV-GFP', \"Untreated\"], inference=inference)"
   ]
  },
  {
   "cell_type": "code",
   "execution_count": null,
   "id": "654c9b09-bf4c-49fb-85e4-44aeaeff2582",
   "metadata": {},
   "outputs": [],
   "source": [
    "# Compute Wald test\n",
    "stat_res.summary(n_cpus = 1)"
   ]
  },
  {
   "cell_type": "code",
   "execution_count": null,
   "id": "2a906057-bc90-4584-b81e-dec45eafe4ff",
   "metadata": {},
   "outputs": [],
   "source": [
    "# Shrink LFCs\n",
    "stat_res.lfc_shrink(coeff='Condition_AAV9-CMV-GFP_vs_Untreated')"
   ]
  },
  {
   "cell_type": "code",
   "execution_count": null,
   "id": "1f3bf54f-28f1-4c86-89f3-bec1ff9204d0",
   "metadata": {},
   "outputs": [],
   "source": [
    "# Extract results\n",
    "results_df = stat_res.results_df\n",
    "results_df.sort_values('stat')"
   ]
  },
  {
   "cell_type": "code",
   "execution_count": null,
   "id": "1259b934-4f68-4342-8c3e-3918487dc237",
   "metadata": {},
   "outputs": [],
   "source": [
    "dc.plot_volcano_df(results_df, x='log2FoldChange', y='padj', top=20)"
   ]
  },
  {
   "cell_type": "code",
   "execution_count": null,
   "id": "00a18c21-328a-473b-add3-543b6dfaa28d",
   "metadata": {},
   "outputs": [],
   "source": [
    "mat = results_df[['stat']].T.rename(index={'stat': 'Other_Females_AAV9'})\n",
    "mat"
   ]
  },
  {
   "cell_type": "code",
   "execution_count": null,
   "id": "94c41454-8da2-46bb-a446-91aeb8508d34",
   "metadata": {},
   "outputs": [],
   "source": [
    "sc.pl.violin(adata_females_AAV9_other, keys=['Btg1', 'Tef', 'Nfil3'], groupby='Condition', rotation=90)"
   ]
  },
  {
   "cell_type": "markdown",
   "id": "fb100f39-73dc-4d9d-b40b-cca3d4fb575a",
   "metadata": {},
   "source": [
    "## Transcription factor activity inference"
   ]
  },
  {
   "cell_type": "code",
   "execution_count": null,
   "id": "7ba2bf58-82e3-419b-83ac-3c494889ddeb",
   "metadata": {},
   "outputs": [],
   "source": [
    "# Retrieve CollecTRI gene regulatory network\n",
    "# collectri = dc.get_collectri(organism='mouse', split_complexes=False)\n",
    "# collectri"
   ]
  },
  {
   "cell_type": "code",
   "execution_count": null,
   "id": "1710b489-3011-476a-a899-296887b306ca",
   "metadata": {},
   "outputs": [],
   "source": [
    "# Infer pathway activities with ulm\n",
    "tf_acts, tf_pvals = dc.run_ulm(mat=mat, net=collectri)\n",
    "tf_acts"
   ]
  },
  {
   "cell_type": "code",
   "execution_count": null,
   "id": "1068ff6b-9312-46d4-92cd-dd9c707d1dbd",
   "metadata": {},
   "outputs": [],
   "source": [
    "dc.plot_barplot(tf_acts, 'Other_Females_AAV9', top=25, vertical=True)"
   ]
  },
  {
   "cell_type": "code",
   "execution_count": null,
   "id": "780c4541-16b2-4a04-8d06-8baee0672041",
   "metadata": {},
   "outputs": [],
   "source": [
    "# Extract logFCs and pvals\n",
    "logFCs = results_df[['log2FoldChange']].T.rename(index={'log2FoldChange': 'Other_Females_AAV9'})\n",
    "pvals = results_df[['padj']].T.rename(index={'padj': 'Other_Females_AAV9'})\n",
    "\n",
    "# Plot\n",
    "dc.plot_volcano(logFCs, pvals, 'Other_Females_AAV9', name='Atf6', net=collectri, top=10, sign_thr=0.05, lFCs_thr=0.5)"
   ]
  },
  {
   "cell_type": "code",
   "execution_count": null,
   "id": "209fa8fe-bf73-497a-90b1-cc0226a6ebcc",
   "metadata": {},
   "outputs": [],
   "source": [
    "dc.plot_volcano(logFCs, pvals, 'Other_Females_AAV9', name='Nr1d1', net=collectri, top=10, sign_thr=0.05, lFCs_thr=0.5)"
   ]
  },
  {
   "cell_type": "markdown",
   "id": "1affb0ed-6c02-475a-b88d-cf77f8dadbd5",
   "metadata": {},
   "source": [
    "## Pathway activity inference"
   ]
  },
  {
   "cell_type": "code",
   "execution_count": null,
   "id": "07477a2c-8c87-458d-abdb-34be41a4db0d",
   "metadata": {},
   "outputs": [],
   "source": [
    "# progeny_mouse = pd.read_csv(\"model_progeny500_mouse_decoupleR.csv\")\n",
    "# progeny_mouse"
   ]
  },
  {
   "cell_type": "code",
   "execution_count": null,
   "id": "de4cbcec-4ddd-4bed-a1f9-b4f8b48dffec",
   "metadata": {},
   "outputs": [],
   "source": [
    "pathway_acts, pathway_pvals = dc.run_mlm(mat=mat, net=progeny_mouse)"
   ]
  },
  {
   "cell_type": "code",
   "execution_count": null,
   "id": "6fc0b2d5-3844-4176-ad92-54291c1b84ca",
   "metadata": {},
   "outputs": [],
   "source": [
    "pathway_acts"
   ]
  },
  {
   "cell_type": "code",
   "execution_count": null,
   "id": "ed1c6824-1bf0-49aa-b02a-a48b9830e943",
   "metadata": {},
   "outputs": [],
   "source": [
    "dc.plot_barplot(pathway_acts, 'Other_Females_AAV9', top=25, vertical=False)"
   ]
  },
  {
   "cell_type": "code",
   "execution_count": null,
   "id": "4ef52265-b553-4dd5-90e8-5be52dc5b70c",
   "metadata": {},
   "outputs": [],
   "source": [
    "dc.plot_targets(results_df, stat='stat', source_name='Hypoxia', net=progeny_mouse, top=15)"
   ]
  },
  {
   "cell_type": "code",
   "execution_count": null,
   "id": "4cea502e-fb60-4fed-92be-db1f6e94fc88",
   "metadata": {},
   "outputs": [],
   "source": [
    "dc.plot_targets(results_df, stat='stat', source_name='MAPK', net=progeny_mouse, top=15)"
   ]
  },
  {
   "cell_type": "markdown",
   "id": "5158a290-7112-4bd9-98c8-794d9dd1280b",
   "metadata": {},
   "source": [
    "## Functional enrichment of biological terms"
   ]
  },
  {
   "cell_type": "code",
   "execution_count": null,
   "id": "d07905c5-0cc0-4af8-b038-d5bc35435207",
   "metadata": {
    "tags": []
   },
   "outputs": [],
   "source": [
    "# msigdb_mouse = pd.read_csv(\"msigdb_complete.csv\")\n",
    "# msigdb_mouse"
   ]
  },
  {
   "cell_type": "code",
   "execution_count": null,
   "id": "f17e5d42-8916-4450-af76-e61337e559a4",
   "metadata": {
    "tags": []
   },
   "outputs": [],
   "source": [
    "# msigdb_mouse.collection.unique().tolist()"
   ]
  },
  {
   "cell_type": "code",
   "execution_count": null,
   "id": "3eab37d8-b812-45d3-8735-ef990475dade",
   "metadata": {
    "tags": []
   },
   "outputs": [],
   "source": [
    "# categories_1 = ['hallmark', 'positional']\n",
    "# categories_2 = ['immunesigdb', 'chemical_and_genetic_perturbations']\n",
    "# categories_3 = ['go_biological_process', 'go_cellular_component', 'go_molecular_function']\n",
    "# categories_4 = ['kegg_pathways', 'reactome_pathways']\n",
    "                \n",
    "# filtered_msigdb_1 = msigdb_mouse[msigdb_mouse['collection'].isin(categories_1)]\n",
    "# filtered_msigdb_2 = msigdb_mouse[msigdb_mouse['collection'].isin(categories_2)]\n",
    "# filtered_msigdb_3 = msigdb_mouse[msigdb_mouse['collection'].isin(categories_3)]\n",
    "# filtered_msigdb_4 = msigdb_mouse[msigdb_mouse['collection'].isin(categories_4)]"
   ]
  },
  {
   "cell_type": "code",
   "execution_count": null,
   "id": "7a2cba0a-c66a-48cd-ac4e-6cbdade8812e",
   "metadata": {},
   "outputs": [],
   "source": [
    "# filtered_msigdb_1 = filtered_msigdb_1[~filtered_msigdb_1.duplicated(['genesymbol', 'geneset'])]\n",
    "# filtered_msigdb_2 = filtered_msigdb_2[~filtered_msigdb_2.duplicated(['genesymbol', 'geneset'])]\n",
    "# filtered_msigdb_3 = filtered_msigdb_3[~filtered_msigdb_3.duplicated(['genesymbol', 'geneset'])]\n",
    "# filtered_msigdb_4 = filtered_msigdb_4[~filtered_msigdb_4.duplicated(['genesymbol', 'geneset'])]"
   ]
  },
  {
   "cell_type": "markdown",
   "id": "5d33335c-1b51-4df8-b66c-3268a552b23a",
   "metadata": {},
   "source": [
    "### Hallmarks and Chromosome location"
   ]
  },
  {
   "cell_type": "code",
   "execution_count": null,
   "id": "64dfd733-47fc-4a59-a543-e0b1b2223a7a",
   "metadata": {
    "tags": []
   },
   "outputs": [],
   "source": [
    "# Run gsea\n",
    "enr_pvals_filtered_msigdb_1 = dc.get_gsea_df(\n",
    "    df=results_df,\n",
    "    stat = 'stat',\n",
    "    net=filtered_msigdb_1,\n",
    "    source='geneset',\n",
    "    target='genesymbol',\n",
    "    verbose= True\n",
    ")\n",
    "\n",
    "enr_pvals_filtered_msigdb_1.sort_values('NES', ascending=False)"
   ]
  },
  {
   "cell_type": "code",
   "execution_count": null,
   "id": "35e084d2-24dc-49b8-ac52-2cb660e8377a",
   "metadata": {
    "tags": []
   },
   "outputs": [],
   "source": [
    "enr_pvals_filtered  = enr_pvals_filtered_msigdb_1[enr_pvals_filtered_msigdb_1['FDR p-value'] < 0.05]"
   ]
  },
  {
   "cell_type": "code",
   "execution_count": null,
   "id": "ece5b5d9-2bf4-4826-b860-44edd89cf343",
   "metadata": {
    "tags": []
   },
   "outputs": [],
   "source": [
    "enr_pvals_filtered_color = enr_pvals_filtered.sort_values(by='NES', key=abs, ascending=False).head(35)"
   ]
  },
  {
   "cell_type": "code",
   "execution_count": null,
   "id": "d7d9f509-e948-4cbf-bed4-1942fb502835",
   "metadata": {
    "tags": []
   },
   "outputs": [],
   "source": [
    "enr_pvals_filtered_color['color'] = np.where(enr_pvals_filtered_color['NES'] < 0, 'blue', 'red')"
   ]
  },
  {
   "cell_type": "code",
   "execution_count": null,
   "id": "671f1ce1-22d9-4916-b0ab-6c72dafd795d",
   "metadata": {
    "tags": []
   },
   "outputs": [],
   "source": [
    "enr_pvals_filtered_color=enr_pvals_filtered_color.sort_values(by='NES', ascending=True)"
   ]
  },
  {
   "cell_type": "code",
   "execution_count": null,
   "id": "759baae2-57c5-4fe6-8014-9607188085eb",
   "metadata": {
    "tags": []
   },
   "outputs": [],
   "source": [
    "enr_pvals_filtered_color"
   ]
  },
  {
   "cell_type": "code",
   "execution_count": null,
   "id": "2f744fe8-0667-4908-ba30-7782fcf47512",
   "metadata": {
    "tags": []
   },
   "outputs": [],
   "source": [
    "dc.plot_barplot_df(enr_pvals_filtered_color, x='NES', y= 'Term', figsize=(7, 10), color=enr_pvals_filtered_color.color.tolist())"
   ]
  },
  {
   "cell_type": "markdown",
   "id": "56ae0772-d2db-4f11-8b60-35a3bbd7069b",
   "metadata": {},
   "source": [
    "### immunesigdb and chemical and genetic perturbations"
   ]
  },
  {
   "cell_type": "code",
   "execution_count": null,
   "id": "c854458e-b2bf-4674-90a8-5a8a4dfeaf0f",
   "metadata": {
    "tags": []
   },
   "outputs": [],
   "source": [
    "# Run gsea\n",
    "enr_pvals_filtered_msigdb_2 = dc.get_gsea_df(\n",
    "    df=results_df,\n",
    "    stat = 'stat',\n",
    "    net=filtered_msigdb_2,\n",
    "    source='geneset',\n",
    "    target='genesymbol',\n",
    "    verbose= True\n",
    ")\n",
    "\n",
    "enr_pvals_filtered_msigdb_2.sort_values('NES', ascending=False)"
   ]
  },
  {
   "cell_type": "code",
   "execution_count": null,
   "id": "7b0e12b7-600e-4b86-b8ca-4d5eca66300e",
   "metadata": {
    "tags": []
   },
   "outputs": [],
   "source": [
    "enr_pvals_filtered  = enr_pvals_filtered_msigdb_2[enr_pvals_filtered_msigdb_2['FDR p-value'] < 0.05]"
   ]
  },
  {
   "cell_type": "code",
   "execution_count": null,
   "id": "9f82d61a-6aa9-466a-b5c8-09531ca3a06b",
   "metadata": {
    "tags": []
   },
   "outputs": [],
   "source": [
    "enr_pvals_filtered_color = enr_pvals_filtered.sort_values(by='NES', key=abs, ascending=False).head(35)"
   ]
  },
  {
   "cell_type": "code",
   "execution_count": null,
   "id": "1db7d0f1-0871-483c-b0dd-47e8fd83395b",
   "metadata": {
    "tags": []
   },
   "outputs": [],
   "source": [
    "enr_pvals_filtered_color['color'] = np.where(enr_pvals_filtered_color['NES'] < 0, 'blue', 'red')"
   ]
  },
  {
   "cell_type": "code",
   "execution_count": null,
   "id": "1e9d009b-70d1-4bbd-8a24-96c6f6403ea8",
   "metadata": {
    "tags": []
   },
   "outputs": [],
   "source": [
    "enr_pvals_filtered_color=enr_pvals_filtered_color.sort_values(by='NES', ascending=True)"
   ]
  },
  {
   "cell_type": "code",
   "execution_count": null,
   "id": "87a46e62-04d9-4866-86e7-f5887f951849",
   "metadata": {
    "tags": []
   },
   "outputs": [],
   "source": [
    "enr_pvals_filtered_color"
   ]
  },
  {
   "cell_type": "code",
   "execution_count": null,
   "id": "7ed183d8-9f0e-4df6-8573-6a8cdb4323c2",
   "metadata": {
    "tags": []
   },
   "outputs": [],
   "source": [
    "dc.plot_barplot_df(enr_pvals_filtered_color, x='NES', y= 'Term', figsize=(7, 10), color=enr_pvals_filtered_color.color.tolist())"
   ]
  },
  {
   "cell_type": "markdown",
   "id": "cc82aaa3-832f-4bf4-b041-f666bb2e4caf",
   "metadata": {},
   "source": [
    "### Gene Ontology Terms"
   ]
  },
  {
   "cell_type": "code",
   "execution_count": null,
   "id": "932012c6-da2b-41bb-950d-c952cc35eebc",
   "metadata": {
    "tags": []
   },
   "outputs": [],
   "source": [
    "# Run gsea\n",
    "enr_pvals_filtered_msigdb_3 = dc.get_gsea_df(\n",
    "    df=results_df,\n",
    "    stat = 'stat',\n",
    "    net=filtered_msigdb_3,\n",
    "    source='geneset',\n",
    "    target='genesymbol',\n",
    "    verbose= True\n",
    ")\n",
    "\n",
    "enr_pvals_filtered_msigdb_3.sort_values('NES', ascending=False)"
   ]
  },
  {
   "cell_type": "code",
   "execution_count": null,
   "id": "836a248a-fe87-4c9c-ac93-51c1745193e0",
   "metadata": {
    "tags": []
   },
   "outputs": [],
   "source": [
    "enr_pvals_filtered  = enr_pvals_filtered_msigdb_3[enr_pvals_filtered_msigdb_3['FDR p-value'] < 0.05]"
   ]
  },
  {
   "cell_type": "code",
   "execution_count": null,
   "id": "f15adf35-9389-4bc9-9c4f-46f975be51dd",
   "metadata": {
    "tags": []
   },
   "outputs": [],
   "source": [
    "enr_pvals_filtered_color = enr_pvals_filtered.sort_values(by='NES', key=abs, ascending=False).head(35)"
   ]
  },
  {
   "cell_type": "code",
   "execution_count": null,
   "id": "e3b08f6f-f18e-4f3c-91f4-f10e6e2c2fe9",
   "metadata": {
    "tags": []
   },
   "outputs": [],
   "source": [
    "enr_pvals_filtered_color['color'] = np.where(enr_pvals_filtered_color['NES'] < 0, 'blue', 'red')"
   ]
  },
  {
   "cell_type": "code",
   "execution_count": null,
   "id": "a4bba713-adf3-4962-8890-09fe7333f5bb",
   "metadata": {
    "tags": []
   },
   "outputs": [],
   "source": [
    "enr_pvals_filtered_color=enr_pvals_filtered_color.sort_values(by='NES', ascending=True)"
   ]
  },
  {
   "cell_type": "code",
   "execution_count": null,
   "id": "7a35b8ec-08f7-4cce-9e7e-55b2f5e4ea7b",
   "metadata": {
    "tags": []
   },
   "outputs": [],
   "source": [
    "enr_pvals_filtered_color"
   ]
  },
  {
   "cell_type": "code",
   "execution_count": null,
   "id": "24790d5b-2784-4d63-b66e-1a38c1c4fb36",
   "metadata": {
    "tags": []
   },
   "outputs": [],
   "source": [
    "dc.plot_barplot_df(enr_pvals_filtered_color, x='NES', y= 'Term', figsize=(7, 10), color=enr_pvals_filtered_color.color.tolist())"
   ]
  },
  {
   "cell_type": "markdown",
   "id": "f5608db8-fb76-40b4-960b-2c9b7989fabf",
   "metadata": {},
   "source": [
    "### Pathways"
   ]
  },
  {
   "cell_type": "code",
   "execution_count": null,
   "id": "a75243d8-4632-41a1-8ae7-23f2a051456e",
   "metadata": {
    "tags": []
   },
   "outputs": [],
   "source": [
    "# Run gsea\n",
    "enr_pvals_filtered_msigdb_4 = dc.get_gsea_df(\n",
    "    df=results_df,\n",
    "    stat = 'stat',\n",
    "    net=filtered_msigdb_4,\n",
    "    source='geneset',\n",
    "    target='genesymbol',\n",
    "    verbose= True\n",
    ")\n",
    "\n",
    "enr_pvals_filtered_msigdb_4.sort_values('NES', ascending=False)"
   ]
  },
  {
   "cell_type": "code",
   "execution_count": null,
   "id": "3cf49a3d-d1f9-4f13-a044-2c2a40cea530",
   "metadata": {
    "tags": []
   },
   "outputs": [],
   "source": [
    "enr_pvals_filtered  = enr_pvals_filtered_msigdb_4[enr_pvals_filtered_msigdb_4['FDR p-value'] < 0.05]"
   ]
  },
  {
   "cell_type": "code",
   "execution_count": null,
   "id": "5155e369-b8f5-45b4-a37c-791c5e6a9684",
   "metadata": {
    "tags": []
   },
   "outputs": [],
   "source": [
    "enr_pvals_filtered_color = enr_pvals_filtered.sort_values(by='NES', key=abs, ascending=False).head(35)"
   ]
  },
  {
   "cell_type": "code",
   "execution_count": null,
   "id": "fb3f5f85-292a-4643-bd37-25f4b4491653",
   "metadata": {
    "tags": []
   },
   "outputs": [],
   "source": [
    "enr_pvals_filtered_color['color'] = np.where(enr_pvals_filtered_color['NES'] < 0, 'blue', 'red')"
   ]
  },
  {
   "cell_type": "code",
   "execution_count": null,
   "id": "33fb439a-d4f8-487d-acac-ee548a6e5ee9",
   "metadata": {
    "tags": []
   },
   "outputs": [],
   "source": [
    "enr_pvals_filtered_color=enr_pvals_filtered_color.sort_values(by='NES', ascending=True)"
   ]
  },
  {
   "cell_type": "code",
   "execution_count": null,
   "id": "90e45172-c0d1-4bc7-bc30-17e058b1b9ac",
   "metadata": {
    "tags": []
   },
   "outputs": [],
   "source": [
    "enr_pvals_filtered_color"
   ]
  },
  {
   "cell_type": "code",
   "execution_count": null,
   "id": "55d61946-d568-4b38-8b1e-9e2714986706",
   "metadata": {
    "tags": []
   },
   "outputs": [],
   "source": [
    "dc.plot_barplot_df(enr_pvals_filtered_color, x='NES', y= 'Term', figsize=(7, 10), color=enr_pvals_filtered_color.color.tolist())"
   ]
  },
  {
   "cell_type": "markdown",
   "id": "563d7728-6c75-4ab4-aa5d-44c7e80de1ea",
   "metadata": {},
   "source": [
    "### Matching with Genes extracted from the literature"
   ]
  },
  {
   "cell_type": "markdown",
   "id": "ece1125e-9016-4136-8d8b-dbb9faf23c63",
   "metadata": {},
   "source": [
    "We here read the list of genes that are relevant in the context of AAV treatments according to the literate and we match them with the results of our DGE analysis (p Adjusted < 0.05). "
   ]
  },
  {
   "cell_type": "code",
   "execution_count": null,
   "id": "814b5b9b-a40d-4685-aa87-d2cc14537e61",
   "metadata": {},
   "outputs": [],
   "source": [
    "# literature_list = pd.read_csv(\"Factors_AAV_processing_complete.csv\", header= None)"
   ]
  },
  {
   "cell_type": "code",
   "execution_count": null,
   "id": "fa57ebd1-5216-4710-9a34-6132a7e8a752",
   "metadata": {},
   "outputs": [],
   "source": [
    "# literature_list = literature_list.set_index(0).drop_duplicates()"
   ]
  },
  {
   "cell_type": "code",
   "execution_count": null,
   "id": "0c9b1acc-935a-4459-a6b8-1f129318f196",
   "metadata": {},
   "outputs": [],
   "source": [
    "results_df[results_df['padj'] < 0.05].merge(literature_list, how='inner', left_index=True, right_index=True)"
   ]
  },
  {
   "cell_type": "markdown",
   "id": "2ba6299b-d328-4f63-be18-81ce7e2189c9",
   "metadata": {},
   "source": [
    "## Saving All results for joint plotting in other scripts"
   ]
  },
  {
   "cell_type": "code",
   "execution_count": null,
   "id": "7e07aedb-0fe9-47fb-a363-c57462307478",
   "metadata": {
    "tags": []
   },
   "outputs": [],
   "source": [
    "## DEG results\n",
    "results_df.to_csv('analyzed/DE/DE_Results_14c/DEG/female_AVV9_vs_Control_other_Results.csv', index=True, index_label='GeneName')"
   ]
  },
  {
   "cell_type": "code",
   "execution_count": null,
   "id": "7aa0f6c1-6a62-4096-b0c4-6948af9482e9",
   "metadata": {
    "tags": []
   },
   "outputs": [],
   "source": [
    "## Pathway Results\n",
    "pathways_all = pd.merge(pathway_acts.transpose(), pathway_pvals.transpose(), left_index=True, right_index=True, suffixes=('_ActivityScore', '_pvalue'))\n",
    "pathways_all.to_csv('analyzed/DE/DE_Results_14c/Pathway_results/female_AVV9_vs_Control_other_Results.csv', index=True, index_label='GeneName')                  "
   ]
  },
  {
   "cell_type": "code",
   "execution_count": null,
   "id": "4f6f2387-dd37-4858-a93c-2e4abef76d42",
   "metadata": {
    "tags": []
   },
   "outputs": [],
   "source": [
    "## TF activity results\n",
    "tf_all = pd.merge(tf_acts.transpose(), tf_pvals.transpose(), left_index=True, right_index=True, suffixes=('_ActivityScore', '_pvalue'))\n",
    "tf_all.to_csv('analyzed/DE/DE_Results_14c/TF_results/female_AVV9_vs_Control_other_Results.csv', index=True, index_label='GeneName')"
   ]
  },
  {
   "cell_type": "code",
   "execution_count": null,
   "id": "f7499519-789d-4aad-9104-5a5eaf2eaca4",
   "metadata": {
    "tags": []
   },
   "outputs": [],
   "source": [
    "## Enrichment Results\n",
    "enr_pvals_filtered_msigdb_1.to_csv('analyzed/DE/DE_Results_14c/GSEA_results/female_AVV9_vs_Control_other_Results_msigdb_1.csv', index=True, index_label='Term')\n",
    "enr_pvals_filtered_msigdb_2.to_csv('analyzed/DE/DE_Results_14c/GSEA_results/female_AVV9_vs_Control_other_Results_msigdb_2.csv', index=True, index_label='Term')\n",
    "enr_pvals_filtered_msigdb_3.to_csv('analyzed/DE/DE_Results_14c/GSEA_results/female_AVV9_vs_Control_other_Results_msigdb_3.csv', index=True, index_label='Term')\n",
    "enr_pvals_filtered_msigdb_4.to_csv('analyzed/DE/DE_Results_14c/GSEA_results/female_AVV9_vs_Control_other_Results_msigdb_4.csv', index=True, index_label='Term')"
   ]
  },
  {
   "cell_type": "markdown",
   "id": "6269d8ba-f35b-4ca3-8fe6-5c6516098a75",
   "metadata": {
    "tags": []
   },
   "source": [
    "# Females AAV9 Versus Control in Periportal"
   ]
  },
  {
   "cell_type": "code",
   "execution_count": null,
   "id": "f7a8cf33-0c74-4187-a672-2edd1a1f723c",
   "metadata": {
    "tags": []
   },
   "outputs": [],
   "source": [
    "adata_females_AAV9_periportal =  pdata[(pdata.obs['Gender'] == 'Female') & (pdata.obs['Condition'] != 'AAV2-CMV-GFP') & (pdata.obs['zonation'] == 'Periportal')].copy()"
   ]
  },
  {
   "cell_type": "code",
   "execution_count": null,
   "id": "2a3c9073-c9d8-4362-807c-f80f4c3d650a",
   "metadata": {
    "tags": []
   },
   "outputs": [],
   "source": [
    "dc.plot_filter_by_expr(adata_females_AAV9_periportal, group = 'Condition', min_count=10, min_total_count=40)"
   ]
  },
  {
   "cell_type": "code",
   "execution_count": null,
   "id": "f6aac054-d26f-44d5-bf38-fe57b50bc8cf",
   "metadata": {
    "tags": []
   },
   "outputs": [],
   "source": [
    "adata_females_AAV9_periportal.obs"
   ]
  },
  {
   "cell_type": "code",
   "execution_count": null,
   "id": "14ec80e3-2a37-4048-a20e-6965a00eac29",
   "metadata": {
    "tags": []
   },
   "outputs": [],
   "source": [
    "genes = dc.filter_by_expr(adata_females_AAV9_periportal, group='Condition', min_count=10, min_total_count=40)\n",
    "\n",
    "# Filter by these genes\n",
    "adata_females_AAV9_periportal = adata_females_AAV9_periportal[:, genes].copy()\n",
    "adata_females_AAV9_periportal"
   ]
  },
  {
   "cell_type": "markdown",
   "id": "63e0e501-c82c-430e-9572-85398b742c85",
   "metadata": {
    "tags": []
   },
   "source": [
    "## Contrast between conditions"
   ]
  },
  {
   "cell_type": "code",
   "execution_count": null,
   "id": "896eef4b-96e0-4876-93af-1f9de7a4f7cc",
   "metadata": {},
   "outputs": [],
   "source": [
    "# Build DESeq2 object\n",
    "inference = DefaultInference(n_cpus=1)\n",
    "dds = DeseqDataSet(\n",
    "    adata= adata_females_AAV9_periportal,\n",
    "    design_factors=['Condition'],\n",
    "    ref_level=['Condition', 'Untreated'],\n",
    "    refit_cooks=True,\n",
    "    inference=inference,\n",
    "    n_cpus = 1)"
   ]
  },
  {
   "cell_type": "code",
   "execution_count": null,
   "id": "01e479e4-1b36-42fc-be82-4db41b94d977",
   "metadata": {
    "tags": []
   },
   "outputs": [],
   "source": [
    "dds.obsm['design_matrix']"
   ]
  },
  {
   "cell_type": "code",
   "execution_count": null,
   "id": "c7e31fb0-f962-4ddb-aa4d-75563afadf23",
   "metadata": {
    "tags": []
   },
   "outputs": [
    {
     "name": "stderr",
     "output_type": "stream",
     "text": [
      "Fitting dispersions...\n"
     ]
    },
    {
     "name": "stderr",
     "output_type": "stream",
     "text": [
      "... done in 75.36 seconds.\n",
      "\n",
      "Fitting dispersion trend curve...\n"
     ]
    },
    {
     "name": "stderr",
     "output_type": "stream",
     "text": [
      "... done in 0.29 seconds.\n",
      "\n",
      "Fitting MAP dispersions...\n"
     ]
    },
    {
     "name": "stderr",
     "output_type": "stream",
     "text": [
      "... done in 69.61 seconds.\n",
      "\n",
      "Fitting LFCs...\n"
     ]
    },
    {
     "name": "stderr",
     "output_type": "stream",
     "text": [
      "... done in 4.62 seconds.\n",
      "\n",
      "Replacing 0 outlier genes.\n",
      "\n"
     ]
    }
   ],
   "source": [
    "dds.deseq2()"
   ]
  },
  {
   "cell_type": "code",
   "execution_count": null,
   "id": "829990a5-6fd3-4a5e-893d-d1d2e3facdf4",
   "metadata": {},
   "outputs": [],
   "source": [
    "# Extract contrast between treated vs control\n",
    "stat_res = DeseqStats(dds, contrast=[\"Condition\", 'AAV9-CMV-GFP', \"Untreated\"], inference=inference)"
   ]
  },
  {
   "cell_type": "code",
   "execution_count": null,
   "id": "bb2f4c47-a67f-4264-b710-e088ace5a837",
   "metadata": {},
   "outputs": [],
   "source": [
    "# Compute Wald test\n",
    "stat_res.summary(n_cpus = 1)"
   ]
  },
  {
   "cell_type": "code",
   "execution_count": null,
   "id": "cccb2d8a-95b1-4108-9c1b-ad19c5166060",
   "metadata": {},
   "outputs": [],
   "source": [
    "# Shrink LFCs\n",
    "stat_res.lfc_shrink(coeff='Condition_AAV9-CMV-GFP_vs_Untreated')"
   ]
  },
  {
   "cell_type": "code",
   "execution_count": null,
   "id": "20244426-8ee8-4a38-87b5-641e05a6f2c6",
   "metadata": {},
   "outputs": [],
   "source": [
    "# Extract results\n",
    "results_df = stat_res.results_df\n",
    "results_df.sort_values('stat')"
   ]
  },
  {
   "cell_type": "code",
   "execution_count": null,
   "id": "89b6314c-092e-4677-ae5c-c29fd57c502c",
   "metadata": {},
   "outputs": [],
   "source": [
    "dc.plot_volcano_df(results_df, x='log2FoldChange', y='padj', top=20)"
   ]
  },
  {
   "cell_type": "code",
   "execution_count": null,
   "id": "066eaab8-1df3-4468-9f88-7e19ee7261fc",
   "metadata": {},
   "outputs": [],
   "source": [
    "mat = results_df[['stat']].T.rename(index={'stat': 'Periportal_Females_AAV9'})\n",
    "mat"
   ]
  },
  {
   "cell_type": "code",
   "execution_count": null,
   "id": "cc820fc4-94ee-47df-ad89-4ef2436ac6ff",
   "metadata": {},
   "outputs": [],
   "source": [
    "sc.pl.violin(adata_females_AAV9_periportal, keys=['Dbp', 'Gpr146', 'Tubb2a'], groupby='Condition', rotation=90)"
   ]
  },
  {
   "cell_type": "markdown",
   "id": "e916d855-d548-40e2-8f48-357ee2ab7cc3",
   "metadata": {},
   "source": [
    "## Transcription factor activity inference"
   ]
  },
  {
   "cell_type": "code",
   "execution_count": null,
   "id": "c9d553f6-6edd-445d-9c64-19d366e460ff",
   "metadata": {},
   "outputs": [],
   "source": [
    "# Retrieve CollecTRI gene regulatory network\n",
    "# collectri = dc.get_collectri(organism='mouse', split_complexes=False)\n",
    "# collectri"
   ]
  },
  {
   "cell_type": "code",
   "execution_count": null,
   "id": "bb71ed56-f544-48a8-982b-71f99a644d8a",
   "metadata": {},
   "outputs": [],
   "source": [
    "# Infer pathway activities with ulm\n",
    "tf_acts, tf_pvals = dc.run_ulm(mat=mat, net=collectri)\n",
    "tf_acts"
   ]
  },
  {
   "cell_type": "code",
   "execution_count": null,
   "id": "a8478cae-5544-44b7-9099-7a666445bcb2",
   "metadata": {},
   "outputs": [],
   "source": [
    "dc.plot_barplot(tf_acts, 'Periportal_Females_AAV9', top=25, vertical=True)"
   ]
  },
  {
   "cell_type": "code",
   "execution_count": null,
   "id": "c9527f38-8e8b-4bf1-ac3b-39f27ea519d0",
   "metadata": {},
   "outputs": [],
   "source": [
    "# Extract logFCs and pvals\n",
    "logFCs = results_df[['log2FoldChange']].T.rename(index={'log2FoldChange': 'Periportal_Females_AAV9'})\n",
    "pvals = results_df[['padj']].T.rename(index={'padj': 'Periportal_Females_AAV9'})\n",
    "\n",
    "# Plot\n",
    "dc.plot_volcano(logFCs, pvals, 'Periportal_Females_AAV9', name='Atf', net=collectri, top=10, sign_thr=0.05, lFCs_thr=0.5)"
   ]
  },
  {
   "cell_type": "code",
   "execution_count": null,
   "id": "14cca8ec-f60b-4e20-836f-26f8eea5f697",
   "metadata": {},
   "outputs": [],
   "source": [
    "dc.plot_volcano(logFCs, pvals, 'Periportal_Females_AAV9', name='Hlf', net=collectri, top=10, sign_thr=0.05, lFCs_thr=0.5)"
   ]
  },
  {
   "cell_type": "markdown",
   "id": "9a0de46a-63b7-4704-8222-86c15557556a",
   "metadata": {},
   "source": [
    "## Pathway activity inference"
   ]
  },
  {
   "cell_type": "code",
   "execution_count": null,
   "id": "129af062-1a82-4f7a-b50e-e4ae9c9c3acb",
   "metadata": {},
   "outputs": [],
   "source": [
    "# progeny_mouse = pd.read_csv(\"model_progeny500_mouse_decoupleR.csv\")\n",
    "# progeny_mouse"
   ]
  },
  {
   "cell_type": "code",
   "execution_count": null,
   "id": "7412bedb-92ed-4414-9b01-d1dab8882e2f",
   "metadata": {},
   "outputs": [],
   "source": [
    "pathway_acts, pathway_pvals = dc.run_mlm(mat=mat, net=progeny_mouse)"
   ]
  },
  {
   "cell_type": "code",
   "execution_count": null,
   "id": "4715429a-f106-4920-b36c-a3e6eee2a5c5",
   "metadata": {},
   "outputs": [],
   "source": [
    "pathway_acts"
   ]
  },
  {
   "cell_type": "code",
   "execution_count": null,
   "id": "c398a677-c9a5-40e3-bb92-33f38377e21f",
   "metadata": {},
   "outputs": [],
   "source": [
    "dc.plot_barplot(pathway_acts, 'Periportal_Females_AAV9', top=25, vertical=False)"
   ]
  },
  {
   "cell_type": "code",
   "execution_count": null,
   "id": "2355aff3-7aed-4fd0-ae0d-62fb133c8b85",
   "metadata": {},
   "outputs": [],
   "source": [
    "dc.plot_targets(results_df, stat='stat', source_name='Androgen', net=progeny_mouse, top=15)"
   ]
  },
  {
   "cell_type": "code",
   "execution_count": null,
   "id": "d44b0854-2472-458d-aab3-84058fa648fd",
   "metadata": {},
   "outputs": [],
   "source": [
    "dc.plot_targets(results_df, stat='stat', source_name='WNT', net=progeny_mouse, top=15)"
   ]
  },
  {
   "cell_type": "markdown",
   "id": "98c41120-acc4-42c4-988a-4728ab502151",
   "metadata": {},
   "source": [
    "## Functional enrichment of biological terms"
   ]
  },
  {
   "cell_type": "code",
   "execution_count": null,
   "id": "6d87754a-6047-4c90-92dc-7345a53d05fb",
   "metadata": {
    "tags": []
   },
   "outputs": [],
   "source": [
    "# msigdb_mouse = pd.read_csv(\"msigdb_complete.csv\")\n",
    "# msigdb_mouse"
   ]
  },
  {
   "cell_type": "code",
   "execution_count": null,
   "id": "94197fc5-27ae-44ca-8acc-e2a6c22eda7d",
   "metadata": {
    "tags": []
   },
   "outputs": [],
   "source": [
    "# msigdb_mouse.collection.unique().tolist()"
   ]
  },
  {
   "cell_type": "code",
   "execution_count": null,
   "id": "598d6785-bc5a-44ca-97e5-e2fc169218b4",
   "metadata": {
    "tags": []
   },
   "outputs": [],
   "source": [
    "# categories_1 = ['hallmark', 'positional']\n",
    "# categories_2 = ['immunesigdb', 'chemical_and_genetic_perturbations']\n",
    "# categories_3 = ['go_biological_process', 'go_cellular_component', 'go_molecular_function']\n",
    "# categories_4 = ['kegg_pathways', 'reactome_pathways']\n",
    "                \n",
    "# filtered_msigdb_1 = msigdb_mouse[msigdb_mouse['collection'].isin(categories_1)]\n",
    "# filtered_msigdb_2 = msigdb_mouse[msigdb_mouse['collection'].isin(categories_2)]\n",
    "# filtered_msigdb_3 = msigdb_mouse[msigdb_mouse['collection'].isin(categories_3)]\n",
    "# filtered_msigdb_4 = msigdb_mouse[msigdb_mouse['collection'].isin(categories_4)]"
   ]
  },
  {
   "cell_type": "code",
   "execution_count": null,
   "id": "135156fa-2e52-487d-8d2c-435e4fed735a",
   "metadata": {},
   "outputs": [],
   "source": [
    "# filtered_msigdb_1 = filtered_msigdb_1[~filtered_msigdb_1.duplicated(['genesymbol', 'geneset'])]\n",
    "# filtered_msigdb_2 = filtered_msigdb_2[~filtered_msigdb_2.duplicated(['genesymbol', 'geneset'])]\n",
    "# filtered_msigdb_3 = filtered_msigdb_3[~filtered_msigdb_3.duplicated(['genesymbol', 'geneset'])]\n",
    "# filtered_msigdb_4 = filtered_msigdb_4[~filtered_msigdb_4.duplicated(['genesymbol', 'geneset'])]"
   ]
  },
  {
   "cell_type": "markdown",
   "id": "e241f258-8410-4dbe-955d-2d557a107a66",
   "metadata": {},
   "source": [
    "### Hallmarks and Chromosome location"
   ]
  },
  {
   "cell_type": "code",
   "execution_count": null,
   "id": "48fdf644-d1f4-41d0-8865-4cfd3beb9615",
   "metadata": {
    "tags": []
   },
   "outputs": [],
   "source": [
    "# Run gsea\n",
    "enr_pvals_filtered_msigdb_1 = dc.get_gsea_df(\n",
    "    df=results_df,\n",
    "    stat = 'stat',\n",
    "    net=filtered_msigdb_1,\n",
    "    source='geneset',\n",
    "    target='genesymbol',\n",
    "    verbose= True\n",
    ")\n",
    "\n",
    "enr_pvals_filtered_msigdb_1.sort_values('NES', ascending=False)"
   ]
  },
  {
   "cell_type": "code",
   "execution_count": null,
   "id": "a23494d8-0f59-43ad-981c-d2831a176a9c",
   "metadata": {
    "tags": []
   },
   "outputs": [],
   "source": [
    "enr_pvals_filtered  = enr_pvals_filtered_msigdb_1[enr_pvals_filtered_msigdb_1['FDR p-value'] < 0.05]"
   ]
  },
  {
   "cell_type": "code",
   "execution_count": null,
   "id": "f839148d-97dc-4129-8631-7be9dd49bfb6",
   "metadata": {
    "tags": []
   },
   "outputs": [],
   "source": [
    "enr_pvals_filtered_color = enr_pvals_filtered.sort_values(by='NES', key=abs, ascending=False).head(35)"
   ]
  },
  {
   "cell_type": "code",
   "execution_count": null,
   "id": "71dad1e9-b0df-49f4-ae14-8f7ed6df2c31",
   "metadata": {
    "tags": []
   },
   "outputs": [],
   "source": [
    "enr_pvals_filtered_color['color'] = np.where(enr_pvals_filtered_color['NES'] < 0, 'blue', 'red')"
   ]
  },
  {
   "cell_type": "code",
   "execution_count": null,
   "id": "46243dbe-0fe4-49ba-b187-d10088420583",
   "metadata": {
    "tags": []
   },
   "outputs": [],
   "source": [
    "enr_pvals_filtered_color=enr_pvals_filtered_color.sort_values(by='NES', ascending=True)"
   ]
  },
  {
   "cell_type": "code",
   "execution_count": null,
   "id": "dea30264-c0a0-4bba-b5bd-01ebaffbb9e9",
   "metadata": {
    "tags": []
   },
   "outputs": [],
   "source": [
    "enr_pvals_filtered_color"
   ]
  },
  {
   "cell_type": "code",
   "execution_count": null,
   "id": "5d796c98-e600-46ca-809b-273556a9c3c7",
   "metadata": {
    "tags": []
   },
   "outputs": [],
   "source": [
    "dc.plot_barplot_df(enr_pvals_filtered_color, x='NES', y= 'Term', figsize=(7, 10), color=enr_pvals_filtered_color.color.tolist())"
   ]
  },
  {
   "cell_type": "markdown",
   "id": "63f912a7-d07b-44f1-a2eb-fc01bf3b8eed",
   "metadata": {},
   "source": [
    "### immunesigdb and chemical and genetic perturbations"
   ]
  },
  {
   "cell_type": "code",
   "execution_count": null,
   "id": "cbcbe427-117d-49f2-9bdd-be74a354a563",
   "metadata": {
    "tags": []
   },
   "outputs": [],
   "source": [
    "# Run gsea\n",
    "enr_pvals_filtered_msigdb_2 = dc.get_gsea_df(\n",
    "    df=results_df,\n",
    "    stat = 'stat',\n",
    "    net=filtered_msigdb_2,\n",
    "    source='geneset',\n",
    "    target='genesymbol',\n",
    "    verbose= True\n",
    ")\n",
    "\n",
    "enr_pvals_filtered_msigdb_2.sort_values('NES', ascending=False)"
   ]
  },
  {
   "cell_type": "code",
   "execution_count": null,
   "id": "d6e8392e-7cd4-4a4d-8d9b-97d6e94d24b9",
   "metadata": {
    "tags": []
   },
   "outputs": [],
   "source": [
    "enr_pvals_filtered  = enr_pvals_filtered_msigdb_2[enr_pvals_filtered_msigdb_2['FDR p-value'] < 0.05]"
   ]
  },
  {
   "cell_type": "code",
   "execution_count": null,
   "id": "9615b70c-bdad-494f-8650-cc1c1eec02c1",
   "metadata": {
    "tags": []
   },
   "outputs": [],
   "source": [
    "enr_pvals_filtered_color = enr_pvals_filtered.sort_values(by='NES', key=abs, ascending=False).head(35)"
   ]
  },
  {
   "cell_type": "code",
   "execution_count": null,
   "id": "55f5c141-a51e-444f-aadf-b0b8e997bda0",
   "metadata": {
    "tags": []
   },
   "outputs": [],
   "source": [
    "enr_pvals_filtered_color['color'] = np.where(enr_pvals_filtered_color['NES'] < 0, 'blue', 'red')"
   ]
  },
  {
   "cell_type": "code",
   "execution_count": null,
   "id": "c942f59d-e21c-44d2-b7b5-fb15c521c36b",
   "metadata": {
    "tags": []
   },
   "outputs": [],
   "source": [
    "enr_pvals_filtered_color=enr_pvals_filtered_color.sort_values(by='NES', ascending=True)"
   ]
  },
  {
   "cell_type": "code",
   "execution_count": null,
   "id": "bdd52493-1ebd-4f9c-aac8-6baa9c27a864",
   "metadata": {
    "tags": []
   },
   "outputs": [],
   "source": [
    "enr_pvals_filtered_color"
   ]
  },
  {
   "cell_type": "code",
   "execution_count": null,
   "id": "2ac129fe-fa3b-4d6a-845e-b7ea51e7a6b4",
   "metadata": {
    "tags": []
   },
   "outputs": [],
   "source": [
    "dc.plot_barplot_df(enr_pvals_filtered_color, x='NES', y= 'Term', figsize=(7, 10), color=enr_pvals_filtered_color.color.tolist())"
   ]
  },
  {
   "cell_type": "markdown",
   "id": "4b665dbd-3f8a-4f6b-b5f9-f76f0b50b961",
   "metadata": {},
   "source": [
    "### Gene Ontology Terms"
   ]
  },
  {
   "cell_type": "code",
   "execution_count": null,
   "id": "6a900911-437c-4ec7-98ec-cc0e043b0037",
   "metadata": {
    "tags": []
   },
   "outputs": [],
   "source": [
    "# Run gsea\n",
    "enr_pvals_filtered_msigdb_3 = dc.get_gsea_df(\n",
    "    df=results_df,\n",
    "    stat = 'stat',\n",
    "    net=filtered_msigdb_3,\n",
    "    source='geneset',\n",
    "    target='genesymbol',\n",
    "    verbose= True\n",
    ")\n",
    "\n",
    "enr_pvals_filtered_msigdb_3.sort_values('NES', ascending=False)"
   ]
  },
  {
   "cell_type": "code",
   "execution_count": null,
   "id": "0b4a338b-8d13-4ffb-8b55-11270841f510",
   "metadata": {
    "tags": []
   },
   "outputs": [],
   "source": [
    "enr_pvals_filtered  = enr_pvals_filtered_msigdb_3[enr_pvals_filtered_msigdb_3['FDR p-value'] < 0.05]"
   ]
  },
  {
   "cell_type": "code",
   "execution_count": null,
   "id": "84b556d9-7b81-47b6-bbaa-9a0d3a5f9286",
   "metadata": {
    "tags": []
   },
   "outputs": [],
   "source": [
    "enr_pvals_filtered_color = enr_pvals_filtered.sort_values(by='NES', key=abs, ascending=False).head(35)"
   ]
  },
  {
   "cell_type": "code",
   "execution_count": null,
   "id": "792b368d-492b-4f25-a04e-c323e51e70f7",
   "metadata": {
    "tags": []
   },
   "outputs": [],
   "source": [
    "enr_pvals_filtered_color['color'] = np.where(enr_pvals_filtered_color['NES'] < 0, 'blue', 'red')"
   ]
  },
  {
   "cell_type": "code",
   "execution_count": null,
   "id": "dcce0fe5-41d9-47ab-9c38-5efcd2bb2d4b",
   "metadata": {
    "tags": []
   },
   "outputs": [],
   "source": [
    "enr_pvals_filtered_color=enr_pvals_filtered_color.sort_values(by='NES', ascending=True)"
   ]
  },
  {
   "cell_type": "code",
   "execution_count": null,
   "id": "0f37163f-6943-4fec-a2f1-3f9f0b2babe0",
   "metadata": {
    "tags": []
   },
   "outputs": [],
   "source": [
    "enr_pvals_filtered_color"
   ]
  },
  {
   "cell_type": "code",
   "execution_count": null,
   "id": "c5ca937d-9143-4391-a943-2f37bc4ee346",
   "metadata": {
    "tags": []
   },
   "outputs": [],
   "source": [
    "dc.plot_barplot_df(enr_pvals_filtered_color, x='NES', y= 'Term', figsize=(7, 10), color=enr_pvals_filtered_color.color.tolist())"
   ]
  },
  {
   "cell_type": "markdown",
   "id": "4e9ee54f-48dc-4d62-af06-69593b1c7bf3",
   "metadata": {},
   "source": [
    "### Pathways"
   ]
  },
  {
   "cell_type": "code",
   "execution_count": null,
   "id": "c2e7a82b-a61a-4459-a811-4d8cb70ee353",
   "metadata": {
    "tags": []
   },
   "outputs": [],
   "source": [
    "# Run gsea\n",
    "enr_pvals_filtered_msigdb_4 = dc.get_gsea_df(\n",
    "    df=results_df,\n",
    "    stat = 'stat',\n",
    "    net=filtered_msigdb_4,\n",
    "    source='geneset',\n",
    "    target='genesymbol',\n",
    "    verbose= True\n",
    ")\n",
    "\n",
    "enr_pvals_filtered_msigdb_4.sort_values('NES', ascending=False)"
   ]
  },
  {
   "cell_type": "code",
   "execution_count": null,
   "id": "b082a79d-4781-4288-8c0c-b33e51f3a47f",
   "metadata": {
    "tags": []
   },
   "outputs": [],
   "source": [
    "enr_pvals_filtered  = enr_pvals_filtered_msigdb_4[enr_pvals_filtered_msigdb_4['FDR p-value'] < 0.05]"
   ]
  },
  {
   "cell_type": "code",
   "execution_count": null,
   "id": "3f05df2a-27c5-40f4-81c4-29d7e60f3f59",
   "metadata": {
    "tags": []
   },
   "outputs": [],
   "source": [
    "enr_pvals_filtered_color = enr_pvals_filtered.sort_values(by='NES', key=abs, ascending=False).head(35)"
   ]
  },
  {
   "cell_type": "code",
   "execution_count": null,
   "id": "4d7390fb-f67a-4bee-a0d9-bcdf1b2103e9",
   "metadata": {
    "tags": []
   },
   "outputs": [],
   "source": [
    "enr_pvals_filtered_color['color'] = np.where(enr_pvals_filtered_color['NES'] < 0, 'blue', 'red')"
   ]
  },
  {
   "cell_type": "code",
   "execution_count": null,
   "id": "14c9af3c-a54d-4509-bba6-7b2f97cbdb82",
   "metadata": {
    "tags": []
   },
   "outputs": [],
   "source": [
    "enr_pvals_filtered_color=enr_pvals_filtered_color.sort_values(by='NES', ascending=True)"
   ]
  },
  {
   "cell_type": "code",
   "execution_count": null,
   "id": "3b14221b-ce92-4193-af71-df24113b286d",
   "metadata": {
    "tags": []
   },
   "outputs": [],
   "source": [
    "enr_pvals_filtered_color"
   ]
  },
  {
   "cell_type": "code",
   "execution_count": null,
   "id": "cea7c6f4-be3d-4edf-9f5e-ee653a76ef8d",
   "metadata": {
    "tags": []
   },
   "outputs": [],
   "source": [
    "dc.plot_barplot_df(enr_pvals_filtered_color, x='NES', y= 'Term', figsize=(7, 10), color=enr_pvals_filtered_color.color.tolist())"
   ]
  },
  {
   "cell_type": "markdown",
   "id": "265fab67-92ef-4794-b1ee-63a01e8becfd",
   "metadata": {},
   "source": [
    "### Matching with Genes extracted from the literature"
   ]
  },
  {
   "cell_type": "markdown",
   "id": "6605558f-3501-412c-8e24-c96ae4781a95",
   "metadata": {},
   "source": [
    "We here read the list of genes that are relevant in the context of AAV treatments according to the literate and we match them with the results of our DGE analysis (p Adjusted < 0.05). "
   ]
  },
  {
   "cell_type": "code",
   "execution_count": null,
   "id": "a5412d97-0c31-4e21-96a7-2a5bd3c91557",
   "metadata": {},
   "outputs": [],
   "source": [
    "# literature_list = pd.read_csv(\"Factors_AAV_processing_complete.csv\", header= None)"
   ]
  },
  {
   "cell_type": "code",
   "execution_count": null,
   "id": "d3b6f3fb-79e0-490e-9bef-1e5a051c2f90",
   "metadata": {},
   "outputs": [],
   "source": [
    "# literature_list = literature_list.set_index(0).drop_duplicates()"
   ]
  },
  {
   "cell_type": "code",
   "execution_count": null,
   "id": "8bc5df5a-391c-4d13-a6f7-1ef13ac862dd",
   "metadata": {},
   "outputs": [],
   "source": [
    "results_df[results_df['padj'] < 0.05].merge(literature_list, how='inner', left_index=True, right_index=True)"
   ]
  },
  {
   "cell_type": "markdown",
   "id": "84ab6138-18dc-49fe-9981-17790dae9731",
   "metadata": {},
   "source": [
    "## Saving All results for joint plotting in other scripts"
   ]
  },
  {
   "cell_type": "code",
   "execution_count": null,
   "id": "c9f93244-97c0-438b-9224-7e0ac21cb193",
   "metadata": {
    "tags": []
   },
   "outputs": [],
   "source": [
    "## DEG results\n",
    "results_df.to_csv('analyzed/DE/DE_Results_14c/DEG/female_AVV9_vs_Control_periportal_Results.csv', index=True, index_label='GeneName')"
   ]
  },
  {
   "cell_type": "code",
   "execution_count": null,
   "id": "626ae2a6-5170-49fc-a24e-ee7564c0f0f8",
   "metadata": {
    "tags": []
   },
   "outputs": [],
   "source": [
    "## Pathway Results\n",
    "pathways_all = pd.merge(pathway_acts.transpose(), pathway_pvals.transpose(), left_index=True, right_index=True, suffixes=('_ActivityScore', '_pvalue'))\n",
    "pathways_all.to_csv('analyzed/DE/DE_Results_14c/Pathway_results/female_AVV9_vs_Control_periportal_Results.csv', index=True, index_label='GeneName')                  "
   ]
  },
  {
   "cell_type": "code",
   "execution_count": null,
   "id": "71448ed9-06b6-4679-8980-9b32a669cf7f",
   "metadata": {
    "tags": []
   },
   "outputs": [],
   "source": [
    "## TF activity results\n",
    "tf_all = pd.merge(tf_acts.transpose(), tf_pvals.transpose(), left_index=True, right_index=True, suffixes=('_ActivityScore', '_pvalue'))\n",
    "tf_all.to_csv('analyzed/DE/DE_Results_14c/TF_results/female_AVV9_vs_Control_periportal_Results.csv', index=True, index_label='GeneName')"
   ]
  },
  {
   "cell_type": "code",
   "execution_count": null,
   "id": "ddd09d97-472f-4b77-bcbd-6637bbcf5331",
   "metadata": {
    "tags": []
   },
   "outputs": [],
   "source": [
    "## Enrichment Results\n",
    "enr_pvals_filtered_msigdb_1.to_csv('analyzed/DE/DE_Results_14c/GSEA_results/female_AVV9_vs_Control_periportal_Results_msigdb_1.csv', index=True, index_label='Term')\n",
    "enr_pvals_filtered_msigdb_2.to_csv('analyzed/DE/DE_Results_14c/GSEA_results/female_AVV9_vs_Control_periportal_Results_msigdb_2.csv', index=True, index_label='Term')\n",
    "enr_pvals_filtered_msigdb_3.to_csv('analyzed/DE/DE_Results_14c/GSEA_results/female_AVV9_vs_Control_periportal_Results_msigdb_3.csv', index=True, index_label='Term')\n",
    "enr_pvals_filtered_msigdb_4.to_csv('analyzed/DE/DE_Results_14c/GSEA_results/female_AVV9_vs_Control_periportal_Results_msigdb_4.csv', index=True, index_label='Term')"
   ]
  },
  {
   "cell_type": "markdown",
   "id": "4ecbd4ac-a673-4eaf-a8e2-31ee735aee66",
   "metadata": {
    "tags": []
   },
   "source": [
    "# Females AAV2 Versus Control in Pericentral"
   ]
  },
  {
   "cell_type": "code",
   "execution_count": null,
   "id": "296c21fa-2957-4222-ae6d-0e9ba34ba234",
   "metadata": {
    "tags": []
   },
   "outputs": [],
   "source": [
    "adata_females_AAV2_pericentral =  pdata[(pdata.obs['Gender'] == 'Female') & (pdata.obs['Condition'] != 'AAV9-CMV-GFP') & (pdata.obs['zonation'] == 'Pericentral')].copy()"
   ]
  },
  {
   "cell_type": "code",
   "execution_count": null,
   "id": "9918fe9d-3544-4e8c-bee6-666c25b70032",
   "metadata": {
    "tags": []
   },
   "outputs": [],
   "source": [
    "dc.plot_filter_by_expr(adata_females_AAV2_pericentral, group = 'Condition', min_count=10, min_total_count=40)"
   ]
  },
  {
   "cell_type": "code",
   "execution_count": null,
   "id": "8050458b-c231-4652-b63a-92e72418853c",
   "metadata": {
    "tags": []
   },
   "outputs": [],
   "source": [
    "adata_females_AAV2_pericentral.obs"
   ]
  },
  {
   "cell_type": "code",
   "execution_count": null,
   "id": "63f8bb25-f9a1-4a5c-a788-0b039d1e180c",
   "metadata": {
    "tags": []
   },
   "outputs": [],
   "source": [
    "genes = dc.filter_by_expr(adata_females_AAV2_pericentral, group='Condition', min_count=10, min_total_count=40)\n",
    "\n",
    "# Filter by these genes\n",
    "adata_females_AAV2_pericentral = adata_females_AAV2_pericentral[:, genes].copy()\n",
    "adata_females_AAV2_pericentral"
   ]
  },
  {
   "cell_type": "markdown",
   "id": "ef32eb28-3aff-4733-9d6b-68917f160db4",
   "metadata": {
    "tags": []
   },
   "source": [
    "## Contrast between conditions"
   ]
  },
  {
   "cell_type": "code",
   "execution_count": null,
   "id": "49fbe571-6b17-4934-917b-9ad069a0d687",
   "metadata": {},
   "outputs": [],
   "source": [
    "# Build DESeq2 object\n",
    "inference = DefaultInference(n_cpus=1)\n",
    "dds = DeseqDataSet(\n",
    "    adata= adata_females_AAV2_pericentral,\n",
    "    design_factors=['Condition'],\n",
    "    ref_level=['Condition', 'Untreated'],\n",
    "    refit_cooks=True,\n",
    "    inference=inference,\n",
    "    n_cpus = 1)"
   ]
  },
  {
   "cell_type": "code",
   "execution_count": null,
   "id": "0864c7a2-1d0e-4d49-9a31-ea3507d6c27d",
   "metadata": {
    "tags": []
   },
   "outputs": [],
   "source": [
    "dds.obsm['design_matrix']"
   ]
  },
  {
   "cell_type": "code",
   "execution_count": null,
   "id": "bd87e22b-5433-4e8b-ad5a-1671cfc3f277",
   "metadata": {
    "tags": []
   },
   "outputs": [
    {
     "name": "stderr",
     "output_type": "stream",
     "text": [
      "Fitting dispersions...\n"
     ]
    },
    {
     "name": "stderr",
     "output_type": "stream",
     "text": [
      "... done in 63.51 seconds.\n",
      "\n",
      "Fitting dispersion trend curve...\n"
     ]
    },
    {
     "name": "stderr",
     "output_type": "stream",
     "text": [
      "... done in 0.25 seconds.\n",
      "\n",
      "Fitting MAP dispersions...\n"
     ]
    },
    {
     "name": "stderr",
     "output_type": "stream",
     "text": [
      "... done in 54.01 seconds.\n",
      "\n",
      "Fitting LFCs...\n"
     ]
    },
    {
     "name": "stderr",
     "output_type": "stream",
     "text": [
      "... done in 3.96 seconds.\n",
      "\n",
      "Replacing 0 outlier genes.\n",
      "\n"
     ]
    }
   ],
   "source": [
    "dds.deseq2()"
   ]
  },
  {
   "cell_type": "code",
   "execution_count": null,
   "id": "5b01fb9d-2a21-4279-a959-eaee9bf24d1f",
   "metadata": {},
   "outputs": [],
   "source": [
    "# Extract contrast between treated vs control\n",
    "stat_res = DeseqStats(dds, contrast=[\"Condition\", 'AAV2-CMV-GFP', \"Untreated\"], inference=inference)"
   ]
  },
  {
   "cell_type": "code",
   "execution_count": null,
   "id": "070c0390-d50a-47c7-ada1-28a2fd1d5ae6",
   "metadata": {},
   "outputs": [],
   "source": [
    "# Compute Wald test\n",
    "stat_res.summary(n_cpus = 1)"
   ]
  },
  {
   "cell_type": "code",
   "execution_count": null,
   "id": "8653a613-1b7d-4536-9001-b711e9e87c48",
   "metadata": {},
   "outputs": [],
   "source": [
    "# Shrink LFCs\n",
    "stat_res.lfc_shrink(coeff='Condition_AAV2-CMV-GFP_vs_Untreated')"
   ]
  },
  {
   "cell_type": "code",
   "execution_count": null,
   "id": "e0e28e11-a16c-4c5a-b9ae-d128933349ac",
   "metadata": {},
   "outputs": [],
   "source": [
    "# Extract results\n",
    "results_df = stat_res.results_df\n",
    "results_df.sort_values('stat')"
   ]
  },
  {
   "cell_type": "code",
   "execution_count": null,
   "id": "d34bfc4c-7425-45ff-94dd-9e01bd45c55d",
   "metadata": {},
   "outputs": [],
   "source": [
    "dc.plot_volcano_df(results_df, x='log2FoldChange', y='padj', top=20)"
   ]
  },
  {
   "cell_type": "code",
   "execution_count": null,
   "id": "2fa4dacd-ffd4-43e6-903e-e7e2bc706007",
   "metadata": {},
   "outputs": [],
   "source": [
    "mat = results_df[['stat']].T.rename(index={'stat': 'Pericentral_Females_AAV2'})\n",
    "mat"
   ]
  },
  {
   "cell_type": "code",
   "execution_count": null,
   "id": "675411d4-4df6-4f6b-a1c0-6a1ccd46893f",
   "metadata": {},
   "outputs": [],
   "source": [
    "sc.pl.violin(adata_females_AAV2_pericentral, keys=['Ppp1r10', 'Gdf15', 'Junb'], groupby='Condition', rotation=90)"
   ]
  },
  {
   "cell_type": "markdown",
   "id": "14d7d2be-3c7d-4a0f-89ea-efef349fdd88",
   "metadata": {},
   "source": [
    "## Transcription factor activity inference"
   ]
  },
  {
   "cell_type": "code",
   "execution_count": null,
   "id": "c06a7186-aa02-4d7b-8518-0b94991bee26",
   "metadata": {},
   "outputs": [],
   "source": [
    "# Retrieve CollecTRI gene regulatory network\n",
    "# collectri = dc.get_collectri(organism='mouse', split_complexes=False)\n",
    "# collectri"
   ]
  },
  {
   "cell_type": "code",
   "execution_count": null,
   "id": "77e36f23-7538-4233-ba5e-43dd009dc503",
   "metadata": {},
   "outputs": [],
   "source": [
    "# Infer pathway activities with ulm\n",
    "tf_acts, tf_pvals = dc.run_ulm(mat=mat, net=collectri)\n",
    "tf_acts"
   ]
  },
  {
   "cell_type": "code",
   "execution_count": null,
   "id": "b8a25ed6-14d0-4273-8168-89736fb89727",
   "metadata": {},
   "outputs": [],
   "source": [
    "dc.plot_barplot(tf_acts, 'Pericentral_Females_AAV2', top=25, vertical=True)"
   ]
  },
  {
   "cell_type": "code",
   "execution_count": null,
   "id": "51474797-4e45-42d8-82f9-eebec2fbe2e0",
   "metadata": {},
   "outputs": [],
   "source": [
    "# Extract logFCs and pvals\n",
    "logFCs = results_df[['log2FoldChange']].T.rename(index={'log2FoldChange': 'Pericentral_Females_AAV2'})\n",
    "pvals = results_df[['padj']].T.rename(index={'padj': 'Pericentral_Females_AAV2'})\n",
    "\n",
    "# Plot\n",
    "dc.plot_volcano(logFCs, pvals, 'Pericentral_Females_AAV2', name='Nr3c1', net=collectri, top=10, sign_thr=0.05, lFCs_thr=0.5)"
   ]
  },
  {
   "cell_type": "code",
   "execution_count": null,
   "id": "7d09df76-842d-48de-8cda-9a317258197a",
   "metadata": {},
   "outputs": [],
   "source": [
    "dc.plot_volcano(logFCs, pvals, 'Pericentral_Females_AAV2', name='Tp63', net=collectri, top=10, sign_thr=0.05, lFCs_thr=0.5)"
   ]
  },
  {
   "cell_type": "markdown",
   "id": "db01ba21-8bf8-466d-afda-c4b1572c4932",
   "metadata": {},
   "source": [
    "## Pathway activity inference"
   ]
  },
  {
   "cell_type": "code",
   "execution_count": null,
   "id": "782cdebe-4305-420c-ac0d-96f1f3044fdd",
   "metadata": {},
   "outputs": [],
   "source": [
    "# progeny_mouse = pd.read_csv(\"model_progeny500_mouse_decoupleR.csv\")\n",
    "# progeny_mouse"
   ]
  },
  {
   "cell_type": "code",
   "execution_count": null,
   "id": "e1ad0ae3-4bc1-4603-9ccd-c550e838dd23",
   "metadata": {},
   "outputs": [],
   "source": [
    "pathway_acts, pathway_pvals = dc.run_mlm(mat=mat, net=progeny_mouse)"
   ]
  },
  {
   "cell_type": "code",
   "execution_count": null,
   "id": "3aeb1101-4559-4083-91de-a637d845dda4",
   "metadata": {},
   "outputs": [],
   "source": [
    "pathway_acts"
   ]
  },
  {
   "cell_type": "code",
   "execution_count": null,
   "id": "c1a0e5b6-aece-4b70-b380-a93c86d277d8",
   "metadata": {},
   "outputs": [],
   "source": [
    "dc.plot_barplot(pathway_acts, 'Pericentral_Females_AAV2', top=25, vertical=False)"
   ]
  },
  {
   "cell_type": "code",
   "execution_count": null,
   "id": "7eaa5be2-f7a6-4336-8344-7b14e2211617",
   "metadata": {},
   "outputs": [],
   "source": [
    "dc.plot_targets(results_df, stat='stat', source_name='EGFR', net=progeny_mouse, top=15)"
   ]
  },
  {
   "cell_type": "code",
   "execution_count": null,
   "id": "0f380102-3498-4f8b-bb65-b76c21b8e6ed",
   "metadata": {},
   "outputs": [],
   "source": [
    "dc.plot_targets(results_df, stat='stat', source_name='JAK-STAT', net=progeny_mouse, top=15)"
   ]
  },
  {
   "cell_type": "markdown",
   "id": "bc8a2f02-fd8e-4d48-80f8-1607a20420c4",
   "metadata": {},
   "source": [
    "## Functional enrichment of biological terms"
   ]
  },
  {
   "cell_type": "markdown",
   "id": "485b037b-6ba3-4fdd-8d01-57f9af2988cf",
   "metadata": {},
   "source": [
    "### Hallmarks and Chromosome location"
   ]
  },
  {
   "cell_type": "code",
   "execution_count": null,
   "id": "c67d8825-dd32-4457-913f-adbd133f2b09",
   "metadata": {
    "tags": []
   },
   "outputs": [],
   "source": [
    "# Run gsea\n",
    "enr_pvals_filtered_msigdb_1 = dc.get_gsea_df(\n",
    "    df=results_df,\n",
    "    stat = 'stat',\n",
    "    net=filtered_msigdb_1,\n",
    "    source='geneset',\n",
    "    target='genesymbol',\n",
    "    verbose= True\n",
    ")\n",
    "\n",
    "enr_pvals_filtered_msigdb_1.sort_values('NES', ascending=False)"
   ]
  },
  {
   "cell_type": "code",
   "execution_count": null,
   "id": "23ba2080-2303-4379-b9ac-228d5ccd1883",
   "metadata": {
    "tags": []
   },
   "outputs": [],
   "source": [
    "enr_pvals_filtered  = enr_pvals_filtered_msigdb_1[enr_pvals_filtered_msigdb_1['FDR p-value'] < 0.05]"
   ]
  },
  {
   "cell_type": "code",
   "execution_count": null,
   "id": "c928352f-4f5e-46e6-9ecf-0c80dac522f0",
   "metadata": {
    "tags": []
   },
   "outputs": [],
   "source": [
    "enr_pvals_filtered_color = enr_pvals_filtered.sort_values(by='NES', key=abs, ascending=False).head(35)"
   ]
  },
  {
   "cell_type": "code",
   "execution_count": null,
   "id": "0d3e91dd-fcec-4fbc-b5d3-a031dbb17fdc",
   "metadata": {
    "tags": []
   },
   "outputs": [],
   "source": [
    "enr_pvals_filtered_color['color'] = np.where(enr_pvals_filtered_color['NES'] < 0, 'blue', 'red')"
   ]
  },
  {
   "cell_type": "code",
   "execution_count": null,
   "id": "bb781c29-7a65-4a07-81e5-1194bf30e7c8",
   "metadata": {
    "tags": []
   },
   "outputs": [],
   "source": [
    "enr_pvals_filtered_color=enr_pvals_filtered_color.sort_values(by='NES', ascending=True)"
   ]
  },
  {
   "cell_type": "code",
   "execution_count": null,
   "id": "e698484d-0dc5-401a-8e9a-678468e496c7",
   "metadata": {
    "tags": []
   },
   "outputs": [],
   "source": [
    "enr_pvals_filtered_color"
   ]
  },
  {
   "cell_type": "code",
   "execution_count": null,
   "id": "76421ba1-32b4-4c3b-8d10-e233bb741b9c",
   "metadata": {
    "tags": []
   },
   "outputs": [],
   "source": [
    "dc.plot_barplot_df(enr_pvals_filtered_color, x='NES', y= 'Term', figsize=(7, 10), color=enr_pvals_filtered_color.color.tolist())"
   ]
  },
  {
   "cell_type": "markdown",
   "id": "e05dfeff-8716-40cc-918c-13f9c9ed5ad8",
   "metadata": {},
   "source": [
    "### immunesigdb and chemical and genetic perturbations"
   ]
  },
  {
   "cell_type": "code",
   "execution_count": null,
   "id": "deec1cd4-709d-4e70-92ce-c461305c3843",
   "metadata": {
    "tags": []
   },
   "outputs": [],
   "source": [
    "# Run gsea\n",
    "enr_pvals_filtered_msigdb_2 = dc.get_gsea_df(\n",
    "    df=results_df,\n",
    "    stat = 'stat',\n",
    "    net=filtered_msigdb_2,\n",
    "    source='geneset',\n",
    "    target='genesymbol',\n",
    "    verbose= True\n",
    ")\n",
    "\n",
    "enr_pvals_filtered_msigdb_2.sort_values('NES', ascending=False)"
   ]
  },
  {
   "cell_type": "code",
   "execution_count": null,
   "id": "dd797470-450a-46f9-9309-b48b469e2023",
   "metadata": {
    "tags": []
   },
   "outputs": [],
   "source": [
    "enr_pvals_filtered  = enr_pvals_filtered_msigdb_2[enr_pvals_filtered_msigdb_2['FDR p-value'] < 0.05]"
   ]
  },
  {
   "cell_type": "code",
   "execution_count": null,
   "id": "d96e17e8-a8a1-4032-b801-66236750a9fa",
   "metadata": {
    "tags": []
   },
   "outputs": [],
   "source": [
    "enr_pvals_filtered_color = enr_pvals_filtered.sort_values(by='NES', key=abs, ascending=False).head(35)"
   ]
  },
  {
   "cell_type": "code",
   "execution_count": null,
   "id": "87a03455-2f34-451e-904e-d62a9311b5bb",
   "metadata": {
    "tags": []
   },
   "outputs": [],
   "source": [
    "enr_pvals_filtered_color['color'] = np.where(enr_pvals_filtered_color['NES'] < 0, 'blue', 'red')"
   ]
  },
  {
   "cell_type": "code",
   "execution_count": null,
   "id": "b5920f51-f7c4-4ad1-9fa9-32a9103fff5e",
   "metadata": {
    "tags": []
   },
   "outputs": [],
   "source": [
    "enr_pvals_filtered_color=enr_pvals_filtered_color.sort_values(by='NES', ascending=True)"
   ]
  },
  {
   "cell_type": "code",
   "execution_count": null,
   "id": "d1fdb30e-5df2-4db1-bdb0-87e053f93dec",
   "metadata": {
    "tags": []
   },
   "outputs": [],
   "source": [
    "enr_pvals_filtered_color"
   ]
  },
  {
   "cell_type": "code",
   "execution_count": null,
   "id": "a4c9d810-dec7-4d59-af13-d1b90fd431a7",
   "metadata": {
    "tags": []
   },
   "outputs": [],
   "source": [
    "dc.plot_barplot_df(enr_pvals_filtered_color, x='NES', y= 'Term', figsize=(7, 10), color=enr_pvals_filtered_color.color.tolist())"
   ]
  },
  {
   "cell_type": "markdown",
   "id": "8691b873-e753-4afa-a46d-d9af6254fd95",
   "metadata": {},
   "source": [
    "### Gene Ontology Terms"
   ]
  },
  {
   "cell_type": "code",
   "execution_count": null,
   "id": "1ba53db5-caa0-4f7f-b3ba-bf29d0240680",
   "metadata": {
    "tags": []
   },
   "outputs": [],
   "source": [
    "# Run gsea\n",
    "enr_pvals_filtered_msigdb_3 = dc.get_gsea_df(\n",
    "    df=results_df,\n",
    "    stat = 'stat',\n",
    "    net=filtered_msigdb_3,\n",
    "    source='geneset',\n",
    "    target='genesymbol',\n",
    "    verbose= True\n",
    ")\n",
    "\n",
    "enr_pvals_filtered_msigdb_3.sort_values('NES', ascending=False)"
   ]
  },
  {
   "cell_type": "code",
   "execution_count": null,
   "id": "62c78bcc-e9da-49d2-b742-b155135f2707",
   "metadata": {
    "tags": []
   },
   "outputs": [],
   "source": [
    "enr_pvals_filtered  = enr_pvals_filtered_msigdb_3[enr_pvals_filtered_msigdb_3['FDR p-value'] < 0.05]"
   ]
  },
  {
   "cell_type": "code",
   "execution_count": null,
   "id": "203fc351-e042-4959-b8a2-0f549c29067d",
   "metadata": {
    "tags": []
   },
   "outputs": [],
   "source": [
    "enr_pvals_filtered_color = enr_pvals_filtered.sort_values(by='NES', key=abs, ascending=False).head(35)"
   ]
  },
  {
   "cell_type": "code",
   "execution_count": null,
   "id": "95571037-659e-40f1-8e4e-e3e2847551b5",
   "metadata": {
    "tags": []
   },
   "outputs": [],
   "source": [
    "enr_pvals_filtered_color['color'] = np.where(enr_pvals_filtered_color['NES'] < 0, 'blue', 'red')"
   ]
  },
  {
   "cell_type": "code",
   "execution_count": null,
   "id": "fe7dfa14-b9c3-48ee-854b-d66a206d7c5e",
   "metadata": {
    "tags": []
   },
   "outputs": [],
   "source": [
    "enr_pvals_filtered_color=enr_pvals_filtered_color.sort_values(by='NES', ascending=True)"
   ]
  },
  {
   "cell_type": "code",
   "execution_count": null,
   "id": "d1a43200-a009-4ef2-a123-68b25fc08c46",
   "metadata": {
    "tags": []
   },
   "outputs": [],
   "source": [
    "enr_pvals_filtered_color"
   ]
  },
  {
   "cell_type": "code",
   "execution_count": null,
   "id": "93389db4-12c4-4233-af98-f52c2ce3d64a",
   "metadata": {
    "tags": []
   },
   "outputs": [],
   "source": [
    "dc.plot_barplot_df(enr_pvals_filtered_color, x='NES', y= 'Term', figsize=(7, 10), color=enr_pvals_filtered_color.color.tolist())"
   ]
  },
  {
   "cell_type": "markdown",
   "id": "8c379b0c-d76b-4fa1-a566-4986634b99a7",
   "metadata": {},
   "source": [
    "### Pathways"
   ]
  },
  {
   "cell_type": "code",
   "execution_count": null,
   "id": "b9acf5f2-ac63-4e5a-b266-d68d0db93730",
   "metadata": {
    "tags": []
   },
   "outputs": [],
   "source": [
    "# Run gsea\n",
    "enr_pvals_filtered_msigdb_4 = dc.get_gsea_df(\n",
    "    df=results_df,\n",
    "    stat = 'stat',\n",
    "    net=filtered_msigdb_4,\n",
    "    source='geneset',\n",
    "    target='genesymbol',\n",
    "    verbose= True\n",
    ")\n",
    "\n",
    "enr_pvals_filtered_msigdb_4.sort_values('NES', ascending=False)"
   ]
  },
  {
   "cell_type": "code",
   "execution_count": null,
   "id": "388c1cf8-7a41-4025-a2a7-1c90ba717e25",
   "metadata": {
    "tags": []
   },
   "outputs": [],
   "source": [
    "enr_pvals_filtered  = enr_pvals_filtered_msigdb_4[enr_pvals_filtered_msigdb_4['FDR p-value'] < 0.05]"
   ]
  },
  {
   "cell_type": "code",
   "execution_count": null,
   "id": "e28456de-821e-4b1d-b251-4d510a4cd02f",
   "metadata": {
    "tags": []
   },
   "outputs": [],
   "source": [
    "enr_pvals_filtered_color = enr_pvals_filtered.sort_values(by='NES', key=abs, ascending=False).head(35)"
   ]
  },
  {
   "cell_type": "code",
   "execution_count": null,
   "id": "028a23d0-f6d0-468e-bf47-4a1b99bb429c",
   "metadata": {
    "tags": []
   },
   "outputs": [],
   "source": [
    "enr_pvals_filtered_color['color'] = np.where(enr_pvals_filtered_color['NES'] < 0, 'blue', 'red')"
   ]
  },
  {
   "cell_type": "code",
   "execution_count": null,
   "id": "aad17be3-b4d7-4470-b8fa-b40621f67cfd",
   "metadata": {
    "tags": []
   },
   "outputs": [],
   "source": [
    "enr_pvals_filtered_color=enr_pvals_filtered_color.sort_values(by='NES', ascending=True)"
   ]
  },
  {
   "cell_type": "code",
   "execution_count": null,
   "id": "4bb996ba-01c2-4762-80e9-bde28adf05c6",
   "metadata": {
    "tags": []
   },
   "outputs": [],
   "source": [
    "enr_pvals_filtered_color"
   ]
  },
  {
   "cell_type": "code",
   "execution_count": null,
   "id": "43193973-b0f9-4ec5-8fae-775fc2bba485",
   "metadata": {
    "tags": []
   },
   "outputs": [],
   "source": [
    "dc.plot_barplot_df(enr_pvals_filtered_color, x='NES', y= 'Term', figsize=(7, 10), color=enr_pvals_filtered_color.color.tolist())"
   ]
  },
  {
   "cell_type": "markdown",
   "id": "a493adc8-c565-41d2-9ff6-bd1ba572762e",
   "metadata": {},
   "source": [
    "### Matching with Genes extracted from the literature"
   ]
  },
  {
   "cell_type": "markdown",
   "id": "f7eb81a3-dd6f-48df-8d04-92bb32709479",
   "metadata": {},
   "source": [
    "We here read the list of genes that are relevant in the context of AAV treatments according to the literate and we match them with the results of our DGE analysis (p Adjusted < 0.05). "
   ]
  },
  {
   "cell_type": "code",
   "execution_count": null,
   "id": "f326e4ec-cab7-49e5-be95-219cb7de6522",
   "metadata": {},
   "outputs": [],
   "source": [
    "# literature_list = pd.read_csv(\"Factors_AAV_processing_complete.csv\", header= None)"
   ]
  },
  {
   "cell_type": "code",
   "execution_count": null,
   "id": "8fce5704-e786-42e2-8907-c80df6e99392",
   "metadata": {},
   "outputs": [],
   "source": [
    "# literature_list = literature_list.set_index(0).drop_duplicates()"
   ]
  },
  {
   "cell_type": "code",
   "execution_count": null,
   "id": "19a8bb13-d314-4ae2-9552-abbcdf0529b8",
   "metadata": {},
   "outputs": [],
   "source": [
    "results_df[results_df['padj'] < 0.05].merge(literature_list, how='inner', left_index=True, right_index=True)"
   ]
  },
  {
   "cell_type": "markdown",
   "id": "de49a256-8412-4622-b20f-e364f26b7bd5",
   "metadata": {},
   "source": [
    "## Saving All results for joint plotting in other scripts"
   ]
  },
  {
   "cell_type": "code",
   "execution_count": null,
   "id": "5f094838-893b-44fb-a11e-52d92a7c259c",
   "metadata": {
    "tags": []
   },
   "outputs": [],
   "source": [
    "## DEG results\n",
    "results_df.to_csv('analyzed/DE/DE_Results_14c/DEG/female_AVV2_vs_Control_pericentral_Results.csv', index=True, index_label='GeneName')"
   ]
  },
  {
   "cell_type": "code",
   "execution_count": null,
   "id": "939d31a1-6dc3-45f7-b4e7-39acf7b5c96c",
   "metadata": {
    "tags": []
   },
   "outputs": [],
   "source": [
    "## Pathway Results\n",
    "pathways_all = pd.merge(pathway_acts.transpose(), pathway_pvals.transpose(), left_index=True, right_index=True, suffixes=('_ActivityScore', '_pvalue'))\n",
    "pathways_all.to_csv('analyzed/DE/DE_Results_14c/Pathway_results/female_AVV2_vs_Control_pericentral_Results.csv', index=True, index_label='GeneName')                  "
   ]
  },
  {
   "cell_type": "code",
   "execution_count": null,
   "id": "39d0b776-1b61-456f-bd23-01480a2d20be",
   "metadata": {
    "tags": []
   },
   "outputs": [],
   "source": [
    "## TF activity results\n",
    "tf_all = pd.merge(tf_acts.transpose(), tf_pvals.transpose(), left_index=True, right_index=True, suffixes=('_ActivityScore', '_pvalue'))\n",
    "tf_all.to_csv('analyzed/DE/DE_Results_14c/TF_results/female_AVV2_vs_Control_pericentral_Results.csv', index=True, index_label='GeneName')"
   ]
  },
  {
   "cell_type": "code",
   "execution_count": null,
   "id": "61fc437a-d049-4681-bb7e-234e3ac5283e",
   "metadata": {
    "tags": []
   },
   "outputs": [],
   "source": [
    "## Enrichment Results\n",
    "enr_pvals_filtered_msigdb_1.to_csv('analyzed/DE/DE_Results_14c/GSEA_results/female_AVV2_vs_Control_pericentral_Results_msigdb_1.csv', index=True, index_label='Term')\n",
    "enr_pvals_filtered_msigdb_2.to_csv('analyzed/DE/DE_Results_14c/GSEA_results/female_AVV2_vs_Control_pericentral_Results_msigdb_2.csv', index=True, index_label='Term')\n",
    "enr_pvals_filtered_msigdb_3.to_csv('analyzed/DE/DE_Results_14c/GSEA_results/female_AVV2_vs_Control_pericentral_Results_msigdb_3.csv', index=True, index_label='Term')\n",
    "enr_pvals_filtered_msigdb_4.to_csv('analyzed/DE/DE_Results_14c/GSEA_results/female_AVV2_vs_Control_pericentral_Results_msigdb_4.csv', index=True, index_label='Term')"
   ]
  },
  {
   "cell_type": "markdown",
   "id": "b11044c8-9437-4670-88bb-4158a70c4ced",
   "metadata": {
    "tags": []
   },
   "source": [
    "# Females AAV2 Versus Control in Other"
   ]
  },
  {
   "cell_type": "code",
   "execution_count": null,
   "id": "05cc5be8-8d50-45ad-8c27-b0112a71ca1d",
   "metadata": {
    "tags": []
   },
   "outputs": [],
   "source": [
    "adata_females_AAV2_other =  pdata[(pdata.obs['Gender'] == 'Female') & (pdata.obs['Condition'] != 'AAV9-CMV-GFP') & (pdata.obs['zonation'] == 'Other')].copy()"
   ]
  },
  {
   "cell_type": "code",
   "execution_count": null,
   "id": "c67598a4-0c32-4d0c-b0af-37e2075ce782",
   "metadata": {
    "tags": []
   },
   "outputs": [],
   "source": [
    "dc.plot_filter_by_expr(adata_females_AAV2_other, group = 'Condition', min_count=10, min_total_count=40)"
   ]
  },
  {
   "cell_type": "code",
   "execution_count": null,
   "id": "308e5b58-dbfe-4251-ab9c-400afa9e9bef",
   "metadata": {
    "tags": []
   },
   "outputs": [],
   "source": [
    "adata_females_AAV2_other.obs"
   ]
  },
  {
   "cell_type": "code",
   "execution_count": null,
   "id": "d74a2634-63cd-4cb3-9685-3c6530e361ee",
   "metadata": {
    "tags": []
   },
   "outputs": [],
   "source": [
    "genes = dc.filter_by_expr(adata_females_AAV2_other, group='Condition', min_count=10, min_total_count=40)\n",
    "\n",
    "# Filter by these genes\n",
    "adata_females_AAV2_other = adata_females_AAV2_other[:, genes].copy()\n",
    "adata_females_AAV2_other"
   ]
  },
  {
   "cell_type": "markdown",
   "id": "c3b40676-73b6-4d58-b63b-54325f844cb3",
   "metadata": {
    "tags": []
   },
   "source": [
    "## Contrast between conditions"
   ]
  },
  {
   "cell_type": "code",
   "execution_count": null,
   "id": "d03aaa34-e1ee-483e-9b26-fb80ce6e029a",
   "metadata": {},
   "outputs": [],
   "source": [
    "# Build DESeq2 object\n",
    "inference = DefaultInference(n_cpus=1)\n",
    "dds = DeseqDataSet(\n",
    "    adata= adata_females_AAV2_other,\n",
    "    design_factors=['Condition'],\n",
    "    ref_level=['Condition', 'Untreated'],\n",
    "    refit_cooks=True,\n",
    "    inference=inference,\n",
    "    n_cpus = 1)"
   ]
  },
  {
   "cell_type": "code",
   "execution_count": null,
   "id": "a838d808-4218-46b6-bd18-0d7b6fc5fd05",
   "metadata": {
    "tags": []
   },
   "outputs": [],
   "source": [
    "dds.obsm['design_matrix']"
   ]
  },
  {
   "cell_type": "code",
   "execution_count": null,
   "id": "5eae3ef5-c70f-44cc-b3fb-749c357a13ff",
   "metadata": {
    "tags": []
   },
   "outputs": [
    {
     "name": "stderr",
     "output_type": "stream",
     "text": [
      "Fitting dispersions...\n"
     ]
    },
    {
     "name": "stderr",
     "output_type": "stream",
     "text": [
      "... done in 71.21 seconds.\n",
      "\n",
      "Fitting dispersion trend curve...\n"
     ]
    },
    {
     "name": "stderr",
     "output_type": "stream",
     "text": [
      "... done in 0.28 seconds.\n",
      "\n",
      "Fitting MAP dispersions...\n"
     ]
    },
    {
     "name": "stderr",
     "output_type": "stream",
     "text": [
      "... done in 69.64 seconds.\n",
      "\n",
      "Fitting LFCs...\n"
     ]
    },
    {
     "name": "stderr",
     "output_type": "stream",
     "text": [
      "... done in 4.36 seconds.\n",
      "\n",
      "Replacing 0 outlier genes.\n",
      "\n"
     ]
    }
   ],
   "source": [
    "dds.deseq2()"
   ]
  },
  {
   "cell_type": "code",
   "execution_count": null,
   "id": "303862e5-1818-4530-b73b-2c124ca54f47",
   "metadata": {},
   "outputs": [],
   "source": [
    "# Extract contrast between treated vs control\n",
    "stat_res = DeseqStats(dds, contrast=[\"Condition\", 'AAV2-CMV-GFP', \"Untreated\"], inference=inference)"
   ]
  },
  {
   "cell_type": "code",
   "execution_count": null,
   "id": "ab5e5d06-e521-469c-8fd7-efc03ec2e4b0",
   "metadata": {},
   "outputs": [],
   "source": [
    "# Compute Wald test\n",
    "stat_res.summary(n_cpus = 1)"
   ]
  },
  {
   "cell_type": "code",
   "execution_count": null,
   "id": "0479c771-4d83-4cad-be01-085ee09a231d",
   "metadata": {},
   "outputs": [],
   "source": [
    "# Shrink LFCs\n",
    "stat_res.lfc_shrink(coeff='Condition_AAV2-CMV-GFP_vs_Untreated')"
   ]
  },
  {
   "cell_type": "code",
   "execution_count": null,
   "id": "dab693de-792a-4dd5-8dc1-daadfcafa6a3",
   "metadata": {},
   "outputs": [],
   "source": [
    "# Extract results\n",
    "results_df = stat_res.results_df\n",
    "results_df.sort_values('stat')"
   ]
  },
  {
   "cell_type": "code",
   "execution_count": null,
   "id": "ee0892ae-3b3c-4ea3-b7b9-6484b2131a69",
   "metadata": {},
   "outputs": [],
   "source": [
    "dc.plot_volcano_df(results_df, x='log2FoldChange', y='padj', top=20)"
   ]
  },
  {
   "cell_type": "code",
   "execution_count": null,
   "id": "42a58365-a250-4149-8bbb-9beeb442ead2",
   "metadata": {},
   "outputs": [],
   "source": [
    "mat = results_df[['stat']].T.rename(index={'stat': 'Other_Females_AAV2'})\n",
    "mat"
   ]
  },
  {
   "cell_type": "code",
   "execution_count": null,
   "id": "6baadad8-8f42-4d92-8ad2-75c0062f96a0",
   "metadata": {},
   "outputs": [],
   "source": [
    "sc.pl.violin(adata_females_AAV2_other, keys=['Fkbp11', 'Gdf15', 'Junb'], groupby='Condition', rotation=90)"
   ]
  },
  {
   "cell_type": "markdown",
   "id": "95a95456-390d-4c92-88b7-2660a148e130",
   "metadata": {},
   "source": [
    "## Transcription factor activity inference"
   ]
  },
  {
   "cell_type": "code",
   "execution_count": null,
   "id": "7ae538b7-7eb7-481a-9b51-827d7d5b83ef",
   "metadata": {},
   "outputs": [],
   "source": [
    "# Retrieve CollecTRI gene regulatory network\n",
    "# collectri = dc.get_collectri(organism='mouse', split_complexes=False)\n",
    "# collectri"
   ]
  },
  {
   "cell_type": "code",
   "execution_count": null,
   "id": "8d24ff98-e7e7-4dea-901a-4a29cb1c1a5c",
   "metadata": {},
   "outputs": [],
   "source": [
    "# Infer pathway activities with ulm\n",
    "tf_acts, tf_pvals = dc.run_ulm(mat=mat, net=collectri)\n",
    "tf_acts"
   ]
  },
  {
   "cell_type": "code",
   "execution_count": null,
   "id": "7a7f4f54-2fa8-49e8-a90e-4ce7e77ee6ba",
   "metadata": {},
   "outputs": [],
   "source": [
    "dc.plot_barplot(tf_acts, 'Other_Females_AAV2', top=25, vertical=True)"
   ]
  },
  {
   "cell_type": "code",
   "execution_count": null,
   "id": "a9bed027-c649-4dc5-8b1b-43f00ac8cf6e",
   "metadata": {},
   "outputs": [],
   "source": [
    "# Extract logFCs and pvals\n",
    "logFCs = results_df[['log2FoldChange']].T.rename(index={'log2FoldChange': 'Other_Females_AAV2'})\n",
    "pvals = results_df[['padj']].T.rename(index={'padj': 'Other_Females_AAV2'})\n",
    "\n",
    "# Plot\n",
    "dc.plot_volcano(logFCs, pvals, 'Other_Females_AAV2', name='Atf6', net=collectri, top=10, sign_thr=0.05, lFCs_thr=0.5)"
   ]
  },
  {
   "cell_type": "code",
   "execution_count": null,
   "id": "38ae1533-de83-4e09-9abb-655adc3c9a70",
   "metadata": {},
   "outputs": [],
   "source": [
    "dc.plot_volcano(logFCs, pvals, 'Other_Females_AAV2', name='Brca1', net=collectri, top=10, sign_thr=0.05, lFCs_thr=0.5)"
   ]
  },
  {
   "cell_type": "markdown",
   "id": "48c7aaaa-535e-4646-8874-15960150e437",
   "metadata": {},
   "source": [
    "## Pathway activity inference"
   ]
  },
  {
   "cell_type": "code",
   "execution_count": null,
   "id": "a7a7048e-09a0-4e47-90ee-42d0f37ef2fc",
   "metadata": {},
   "outputs": [],
   "source": [
    "# progeny_mouse = pd.read_csv(\"model_progeny500_mouse_decoupleR.csv\")\n",
    "# progeny_mouse"
   ]
  },
  {
   "cell_type": "code",
   "execution_count": null,
   "id": "275b9567-420e-448f-ba93-a06af5a35dfa",
   "metadata": {},
   "outputs": [],
   "source": [
    "pathway_acts, pathway_pvals = dc.run_mlm(mat=mat, net=progeny_mouse)"
   ]
  },
  {
   "cell_type": "code",
   "execution_count": null,
   "id": "12cafebb-1720-49f7-861e-03d423b2651e",
   "metadata": {},
   "outputs": [],
   "source": [
    "pathway_acts"
   ]
  },
  {
   "cell_type": "code",
   "execution_count": null,
   "id": "7f839069-58db-41e1-b1e3-546a40e2066c",
   "metadata": {},
   "outputs": [],
   "source": [
    "dc.plot_barplot(pathway_acts, 'Other_Females_AAV2', top=25, vertical=False)"
   ]
  },
  {
   "cell_type": "code",
   "execution_count": null,
   "id": "24beb092-f8b3-415e-b2a8-380a8c86f9d4",
   "metadata": {},
   "outputs": [],
   "source": [
    "dc.plot_targets(results_df, stat='stat', source_name='EGFR', net=progeny_mouse, top=15)"
   ]
  },
  {
   "cell_type": "code",
   "execution_count": null,
   "id": "fb5810b8-44fe-4ea7-9b1c-12fae54e651f",
   "metadata": {},
   "outputs": [],
   "source": [
    "dc.plot_targets(results_df, stat='stat', source_name='Hypoxia', net=progeny_mouse, top=15)"
   ]
  },
  {
   "cell_type": "markdown",
   "id": "d8e3dd1e-e3a6-41c0-b8a3-16a197a5ec4f",
   "metadata": {},
   "source": [
    "## Functional enrichment of biological terms"
   ]
  },
  {
   "cell_type": "markdown",
   "id": "f95dee84-13b4-4183-8be0-915e64cd3d67",
   "metadata": {},
   "source": [
    "### Hallmarks and Chromosome location"
   ]
  },
  {
   "cell_type": "code",
   "execution_count": null,
   "id": "4f78f87e-8f5e-4594-9ee2-f8eb02fd8672",
   "metadata": {
    "tags": []
   },
   "outputs": [],
   "source": [
    "# Run gsea\n",
    "enr_pvals_filtered_msigdb_1 = dc.get_gsea_df(\n",
    "    df=results_df,\n",
    "    stat = 'stat',\n",
    "    net=filtered_msigdb_1,\n",
    "    source='geneset',\n",
    "    target='genesymbol',\n",
    "    verbose= True\n",
    ")\n",
    "\n",
    "enr_pvals_filtered_msigdb_1.sort_values('NES', ascending=False)"
   ]
  },
  {
   "cell_type": "code",
   "execution_count": null,
   "id": "58e3e3ec-f00a-4be8-8d3f-3d3cd2772a0b",
   "metadata": {
    "tags": []
   },
   "outputs": [],
   "source": [
    "enr_pvals_filtered  = enr_pvals_filtered_msigdb_1[enr_pvals_filtered_msigdb_1['FDR p-value'] < 0.05]"
   ]
  },
  {
   "cell_type": "code",
   "execution_count": null,
   "id": "6aa4c9ab-b68a-43cf-84e2-5c6d40c4035e",
   "metadata": {
    "tags": []
   },
   "outputs": [],
   "source": [
    "enr_pvals_filtered_color = enr_pvals_filtered.sort_values(by='NES', key=abs, ascending=False).head(35)"
   ]
  },
  {
   "cell_type": "code",
   "execution_count": null,
   "id": "28cd6930-44b4-44bd-92d9-e3091e81b6ba",
   "metadata": {
    "tags": []
   },
   "outputs": [],
   "source": [
    "enr_pvals_filtered_color['color'] = np.where(enr_pvals_filtered_color['NES'] < 0, 'blue', 'red')"
   ]
  },
  {
   "cell_type": "code",
   "execution_count": null,
   "id": "f233097d-b6fb-4e57-b5b3-3c077e742cc8",
   "metadata": {
    "tags": []
   },
   "outputs": [],
   "source": [
    "enr_pvals_filtered_color=enr_pvals_filtered_color.sort_values(by='NES', ascending=True)"
   ]
  },
  {
   "cell_type": "code",
   "execution_count": null,
   "id": "999b1a59-ef10-4b98-89b1-2157fdc8aa69",
   "metadata": {
    "tags": []
   },
   "outputs": [],
   "source": [
    "enr_pvals_filtered_color"
   ]
  },
  {
   "cell_type": "code",
   "execution_count": null,
   "id": "189efb7f-37be-463e-8c77-dc25cc87cf14",
   "metadata": {
    "tags": []
   },
   "outputs": [],
   "source": [
    "dc.plot_barplot_df(enr_pvals_filtered_color, x='NES', y= 'Term', figsize=(7, 10), color=enr_pvals_filtered_color.color.tolist())"
   ]
  },
  {
   "cell_type": "markdown",
   "id": "c2f595a5-5776-4d25-b8c9-139c8d42bbdf",
   "metadata": {},
   "source": [
    "### immunesigdb and chemical and genetic perturbations"
   ]
  },
  {
   "cell_type": "code",
   "execution_count": null,
   "id": "61018961-4b0a-43f3-8946-c4b977ae8d08",
   "metadata": {
    "tags": []
   },
   "outputs": [],
   "source": [
    "# Run gsea\n",
    "enr_pvals_filtered_msigdb_2 = dc.get_gsea_df(\n",
    "    df=results_df,\n",
    "    stat = 'stat',\n",
    "    net=filtered_msigdb_2,\n",
    "    source='geneset',\n",
    "    target='genesymbol',\n",
    "    verbose= True\n",
    ")\n",
    "\n",
    "enr_pvals_filtered_msigdb_2.sort_values('NES', ascending=False)"
   ]
  },
  {
   "cell_type": "code",
   "execution_count": null,
   "id": "d291397a-8795-4c17-b9f2-875a317a4ea2",
   "metadata": {
    "tags": []
   },
   "outputs": [],
   "source": [
    "enr_pvals_filtered  = enr_pvals_filtered_msigdb_2[enr_pvals_filtered_msigdb_2['FDR p-value'] < 0.05]"
   ]
  },
  {
   "cell_type": "code",
   "execution_count": null,
   "id": "b8024b97-ee85-4908-9ab9-9f4bfb187278",
   "metadata": {
    "tags": []
   },
   "outputs": [],
   "source": [
    "enr_pvals_filtered_color = enr_pvals_filtered.sort_values(by='NES', key=abs, ascending=False).head(35)"
   ]
  },
  {
   "cell_type": "code",
   "execution_count": null,
   "id": "8b6f325f-50d9-4bab-9ddb-1c39795b9cd6",
   "metadata": {
    "tags": []
   },
   "outputs": [],
   "source": [
    "enr_pvals_filtered_color['color'] = np.where(enr_pvals_filtered_color['NES'] < 0, 'blue', 'red')"
   ]
  },
  {
   "cell_type": "code",
   "execution_count": null,
   "id": "169d3ebd-3579-4be1-9594-3b7bab32c224",
   "metadata": {
    "tags": []
   },
   "outputs": [],
   "source": [
    "enr_pvals_filtered_color=enr_pvals_filtered_color.sort_values(by='NES', ascending=True)"
   ]
  },
  {
   "cell_type": "code",
   "execution_count": null,
   "id": "9998ed70-4aff-4ad8-be47-e00fe4378541",
   "metadata": {
    "tags": []
   },
   "outputs": [],
   "source": [
    "enr_pvals_filtered_color"
   ]
  },
  {
   "cell_type": "code",
   "execution_count": null,
   "id": "b3424e23-18d2-4131-89d3-81e1ceeab35c",
   "metadata": {
    "tags": []
   },
   "outputs": [],
   "source": [
    "dc.plot_barplot_df(enr_pvals_filtered_color, x='NES', y= 'Term', figsize=(7, 10), color=enr_pvals_filtered_color.color.tolist())"
   ]
  },
  {
   "cell_type": "markdown",
   "id": "71439d79-3e74-4bc3-87f9-8601b8fd5a36",
   "metadata": {},
   "source": [
    "### Gene Ontology Terms"
   ]
  },
  {
   "cell_type": "code",
   "execution_count": null,
   "id": "81dadb19-8c56-4b33-aecf-7b0672b01386",
   "metadata": {
    "tags": []
   },
   "outputs": [],
   "source": [
    "# Run gsea\n",
    "enr_pvals_filtered_msigdb_3 = dc.get_gsea_df(\n",
    "    df=results_df,\n",
    "    stat = 'stat',\n",
    "    net=filtered_msigdb_3,\n",
    "    source='geneset',\n",
    "    target='genesymbol',\n",
    "    verbose= True\n",
    ")\n",
    "\n",
    "enr_pvals_filtered_msigdb_3.sort_values('NES', ascending=False)"
   ]
  },
  {
   "cell_type": "code",
   "execution_count": null,
   "id": "3af5e408-e7de-4754-8fc9-625e928f80bc",
   "metadata": {
    "tags": []
   },
   "outputs": [],
   "source": [
    "enr_pvals_filtered  = enr_pvals_filtered_msigdb_3[enr_pvals_filtered_msigdb_3['FDR p-value'] < 0.05]"
   ]
  },
  {
   "cell_type": "code",
   "execution_count": null,
   "id": "12bc67cd-b257-4590-a1e4-2e11d4281c03",
   "metadata": {
    "tags": []
   },
   "outputs": [],
   "source": [
    "enr_pvals_filtered_color = enr_pvals_filtered.sort_values(by='NES', key=abs, ascending=False).head(35)"
   ]
  },
  {
   "cell_type": "code",
   "execution_count": null,
   "id": "65f9f9cd-4123-42e2-a57d-d920084de65a",
   "metadata": {
    "tags": []
   },
   "outputs": [],
   "source": [
    "enr_pvals_filtered_color['color'] = np.where(enr_pvals_filtered_color['NES'] < 0, 'blue', 'red')"
   ]
  },
  {
   "cell_type": "code",
   "execution_count": null,
   "id": "17117519-c5c4-4496-a973-8b92365baffb",
   "metadata": {
    "tags": []
   },
   "outputs": [],
   "source": [
    "enr_pvals_filtered_color=enr_pvals_filtered_color.sort_values(by='NES', ascending=True)"
   ]
  },
  {
   "cell_type": "code",
   "execution_count": null,
   "id": "099b4d14-3ce5-46f2-bf45-ec5655526d63",
   "metadata": {
    "tags": []
   },
   "outputs": [],
   "source": [
    "enr_pvals_filtered_color"
   ]
  },
  {
   "cell_type": "code",
   "execution_count": null,
   "id": "69396ca7-0b7b-47ee-ae50-cc1df5cd4c40",
   "metadata": {
    "tags": []
   },
   "outputs": [],
   "source": [
    "dc.plot_barplot_df(enr_pvals_filtered_color, x='NES', y= 'Term', figsize=(7, 10), color=enr_pvals_filtered_color.color.tolist())"
   ]
  },
  {
   "cell_type": "markdown",
   "id": "2dbe387b-16a6-4db2-85f3-4fc1ed84b866",
   "metadata": {},
   "source": [
    "### Pathways"
   ]
  },
  {
   "cell_type": "code",
   "execution_count": null,
   "id": "2f76304f-71a7-4640-9557-2517ec2fc686",
   "metadata": {
    "tags": []
   },
   "outputs": [],
   "source": [
    "# Run gsea\n",
    "enr_pvals_filtered_msigdb_4 = dc.get_gsea_df(\n",
    "    df=results_df,\n",
    "    stat = 'stat',\n",
    "    net=filtered_msigdb_4,\n",
    "    source='geneset',\n",
    "    target='genesymbol',\n",
    "    verbose= True\n",
    ")\n",
    "\n",
    "enr_pvals_filtered_msigdb_4.sort_values('NES', ascending=False)"
   ]
  },
  {
   "cell_type": "code",
   "execution_count": null,
   "id": "f37a243c-299e-4b12-9384-faab1ac7ee89",
   "metadata": {
    "tags": []
   },
   "outputs": [],
   "source": [
    "enr_pvals_filtered  = enr_pvals_filtered_msigdb_4[enr_pvals_filtered_msigdb_4['FDR p-value'] < 0.05]"
   ]
  },
  {
   "cell_type": "code",
   "execution_count": null,
   "id": "56838010-22bd-4e12-aef2-41f4de449b89",
   "metadata": {
    "tags": []
   },
   "outputs": [],
   "source": [
    "enr_pvals_filtered_color = enr_pvals_filtered.sort_values(by='NES', key=abs, ascending=False).head(35)"
   ]
  },
  {
   "cell_type": "code",
   "execution_count": null,
   "id": "a697207a-5948-44be-a800-b268d4bdc452",
   "metadata": {
    "tags": []
   },
   "outputs": [],
   "source": [
    "enr_pvals_filtered_color['color'] = np.where(enr_pvals_filtered_color['NES'] < 0, 'blue', 'red')"
   ]
  },
  {
   "cell_type": "code",
   "execution_count": null,
   "id": "4558aaba-7514-49c7-900f-87e98f77872d",
   "metadata": {
    "tags": []
   },
   "outputs": [],
   "source": [
    "enr_pvals_filtered_color=enr_pvals_filtered_color.sort_values(by='NES', ascending=True)"
   ]
  },
  {
   "cell_type": "code",
   "execution_count": null,
   "id": "3eeae302-c927-45ca-acd4-663dde9ec0a8",
   "metadata": {
    "tags": []
   },
   "outputs": [],
   "source": [
    "enr_pvals_filtered_color"
   ]
  },
  {
   "cell_type": "code",
   "execution_count": null,
   "id": "e947c917-942c-43b1-9232-f6009bd2dd37",
   "metadata": {
    "tags": []
   },
   "outputs": [],
   "source": [
    "dc.plot_barplot_df(enr_pvals_filtered_color, x='NES', y= 'Term', figsize=(7, 10), color=enr_pvals_filtered_color.color.tolist())"
   ]
  },
  {
   "cell_type": "markdown",
   "id": "ff87a029-77b4-4e0d-a581-4c3759e0c35e",
   "metadata": {},
   "source": [
    "### Matching with Genes extracted from the literature"
   ]
  },
  {
   "cell_type": "markdown",
   "id": "4a13eb86-e113-4073-8798-00d05ec78d13",
   "metadata": {},
   "source": [
    "We here read the list of genes that are relevant in the context of AAV treatments according to the literate and we match them with the results of our DGE analysis (p Adjusted < 0.05). "
   ]
  },
  {
   "cell_type": "code",
   "execution_count": null,
   "id": "90a267ab-1d71-4877-9e8d-e60cd8fb30f2",
   "metadata": {},
   "outputs": [],
   "source": [
    "# literature_list = pd.read_csv(\"Factors_AAV_processing_complete.csv\", header= None)"
   ]
  },
  {
   "cell_type": "code",
   "execution_count": null,
   "id": "3c1a677c-093a-478f-8819-6d5d6da4e070",
   "metadata": {},
   "outputs": [],
   "source": [
    "# literature_list = literature_list.set_index(0).drop_duplicates()"
   ]
  },
  {
   "cell_type": "code",
   "execution_count": null,
   "id": "4600dd3b-9108-452c-ae8a-efa9fd735b96",
   "metadata": {},
   "outputs": [],
   "source": [
    "results_df[results_df['padj'] < 0.05].merge(literature_list, how='inner', left_index=True, right_index=True)"
   ]
  },
  {
   "cell_type": "markdown",
   "id": "889932fa-f20c-48a9-b01b-6f1886d901ea",
   "metadata": {},
   "source": [
    "## Saving All results for joint plotting in other scripts"
   ]
  },
  {
   "cell_type": "code",
   "execution_count": null,
   "id": "2e920048-c4df-432d-b74e-73897f1bc8f4",
   "metadata": {
    "tags": []
   },
   "outputs": [],
   "source": [
    "## DEG results\n",
    "results_df.to_csv('analyzed/DE/DE_Results_14c/DEG/female_AVV2_vs_Control_other_Results.csv', index=True, index_label='GeneName')"
   ]
  },
  {
   "cell_type": "code",
   "execution_count": null,
   "id": "c534cd1a-c6c1-4cf9-829d-ccc1925eeec7",
   "metadata": {
    "tags": []
   },
   "outputs": [],
   "source": [
    "## Pathway Results\n",
    "pathways_all = pd.merge(pathway_acts.transpose(), pathway_pvals.transpose(), left_index=True, right_index=True, suffixes=('_ActivityScore', '_pvalue'))\n",
    "pathways_all.to_csv('analyzed/DE/DE_Results_14c/Pathway_results/female_AVV2_vs_Control_other_Results.csv', index=True, index_label='GeneName')                  "
   ]
  },
  {
   "cell_type": "code",
   "execution_count": null,
   "id": "41d2574e-09cd-4bba-8041-8e94d87a9786",
   "metadata": {
    "tags": []
   },
   "outputs": [],
   "source": [
    "## TF activity results\n",
    "tf_all = pd.merge(tf_acts.transpose(), tf_pvals.transpose(), left_index=True, right_index=True, suffixes=('_ActivityScore', '_pvalue'))\n",
    "tf_all.to_csv('analyzed/DE/DE_Results_14c/TF_results/female_AVV2_vs_Control_other_Results.csv', index=True, index_label='GeneName')"
   ]
  },
  {
   "cell_type": "code",
   "execution_count": null,
   "id": "d7de008e-81c6-4fca-bf19-48fc2038f2d8",
   "metadata": {
    "tags": []
   },
   "outputs": [],
   "source": [
    "## Enrichment Results\n",
    "enr_pvals_filtered_msigdb_1.to_csv('analyzed/DE/DE_Results_14c/GSEA_results/female_AVV2_vs_Control_other_Results_msigdb_1.csv', index=True, index_label='Term')\n",
    "enr_pvals_filtered_msigdb_2.to_csv('analyzed/DE/DE_Results_14c/GSEA_results/female_AVV2_vs_Control_other_Results_msigdb_2.csv', index=True, index_label='Term')\n",
    "enr_pvals_filtered_msigdb_3.to_csv('analyzed/DE/DE_Results_14c/GSEA_results/female_AVV2_vs_Control_other_Results_msigdb_3.csv', index=True, index_label='Term')\n",
    "enr_pvals_filtered_msigdb_4.to_csv('analyzed/DE/DE_Results_14c/GSEA_results/female_AVV2_vs_Control_other_Results_msigdb_4.csv', index=True, index_label='Term')"
   ]
  },
  {
   "cell_type": "markdown",
   "id": "8dd7cd60-48df-49ce-a25b-c5db565fa616",
   "metadata": {
    "tags": []
   },
   "source": [
    "# Females AAV2 Versus Control in Periportal"
   ]
  },
  {
   "cell_type": "code",
   "execution_count": null,
   "id": "5a7b199c-7055-4fd9-9a91-dad8a2671d0a",
   "metadata": {
    "tags": []
   },
   "outputs": [],
   "source": [
    "adata_females_AAV2_periportal =  pdata[(pdata.obs['Gender'] == 'Female') & (pdata.obs['Condition'] != 'AAV9-CMV-GFP') & (pdata.obs['zonation'] == 'Periportal')].copy()"
   ]
  },
  {
   "cell_type": "code",
   "execution_count": null,
   "id": "3ad97494-2c25-49f7-bde1-41fc095fe15b",
   "metadata": {
    "tags": []
   },
   "outputs": [],
   "source": [
    "dc.plot_filter_by_expr(adata_females_AAV2_periportal, group = 'Condition', min_count=10, min_total_count=40)"
   ]
  },
  {
   "cell_type": "code",
   "execution_count": null,
   "id": "42e3fe29-b958-45cb-927c-e0a64b243f18",
   "metadata": {
    "tags": []
   },
   "outputs": [],
   "source": [
    "adata_females_AAV2_periportal.obs"
   ]
  },
  {
   "cell_type": "code",
   "execution_count": null,
   "id": "00aefecc-a7ad-4bd3-8e0d-b646bb374dca",
   "metadata": {
    "tags": []
   },
   "outputs": [],
   "source": [
    "genes = dc.filter_by_expr(adata_females_AAV2_periportal, group='Condition', min_count=10, min_total_count=40)\n",
    "\n",
    "# Filter by these genes\n",
    "adata_females_AAV2_periportal = adata_females_AAV2_periportal[:, genes].copy()\n",
    "adata_females_AAV2_periportal"
   ]
  },
  {
   "cell_type": "markdown",
   "id": "f338dc29-87e0-4564-a4ff-9105e8225592",
   "metadata": {
    "tags": []
   },
   "source": [
    "## Contrast between conditions"
   ]
  },
  {
   "cell_type": "code",
   "execution_count": null,
   "id": "d309d53e-1ccd-46de-9eac-b851cec4a914",
   "metadata": {},
   "outputs": [],
   "source": [
    "# Build DESeq2 object\n",
    "inference = DefaultInference(n_cpus=1)\n",
    "dds = DeseqDataSet(\n",
    "    adata= adata_females_AAV2_periportal,\n",
    "    design_factors=['Condition'],\n",
    "    ref_level=['Condition', 'Untreated'],\n",
    "    refit_cooks=True,\n",
    "    inference=inference,\n",
    "    n_cpus = 1)"
   ]
  },
  {
   "cell_type": "code",
   "execution_count": null,
   "id": "ab7d8d9e-1d16-4f13-9534-374ee551c9e5",
   "metadata": {
    "tags": []
   },
   "outputs": [],
   "source": [
    "dds.obsm['design_matrix']"
   ]
  },
  {
   "cell_type": "code",
   "execution_count": null,
   "id": "1346048d-6731-41c1-85b8-0b5a0f9c8a41",
   "metadata": {
    "tags": []
   },
   "outputs": [
    {
     "name": "stderr",
     "output_type": "stream",
     "text": [
      "Fitting dispersions...\n"
     ]
    },
    {
     "name": "stderr",
     "output_type": "stream",
     "text": [
      "... done in 69.30 seconds.\n",
      "\n",
      "Fitting dispersion trend curve...\n"
     ]
    },
    {
     "name": "stderr",
     "output_type": "stream",
     "text": [
      "... done in 0.26 seconds.\n",
      "\n",
      "Fitting MAP dispersions...\n"
     ]
    },
    {
     "name": "stderr",
     "output_type": "stream",
     "text": [
      "... done in 63.10 seconds.\n",
      "\n",
      "Fitting LFCs...\n"
     ]
    },
    {
     "name": "stderr",
     "output_type": "stream",
     "text": [
      "... done in 4.20 seconds.\n",
      "\n",
      "Replacing 0 outlier genes.\n",
      "\n"
     ]
    }
   ],
   "source": [
    "dds.deseq2()"
   ]
  },
  {
   "cell_type": "code",
   "execution_count": null,
   "id": "6512d432-731c-486f-ac05-3298b188acfa",
   "metadata": {},
   "outputs": [],
   "source": [
    "# Extract contrast between treated vs control\n",
    "stat_res = DeseqStats(dds, contrast=[\"Condition\", 'AAV2-CMV-GFP', \"Untreated\"], inference=inference)"
   ]
  },
  {
   "cell_type": "code",
   "execution_count": null,
   "id": "42c07ccd-9f09-47e0-aa7c-163e8dbb8d22",
   "metadata": {},
   "outputs": [],
   "source": [
    "# Compute Wald test\n",
    "stat_res.summary(n_cpus = 1)"
   ]
  },
  {
   "cell_type": "code",
   "execution_count": null,
   "id": "88690445-cdfb-40d8-a1fa-a994295ca416",
   "metadata": {},
   "outputs": [],
   "source": [
    "# Shrink LFCs\n",
    "stat_res.lfc_shrink(coeff='Condition_AAV2-CMV-GFP_vs_Untreated')"
   ]
  },
  {
   "cell_type": "code",
   "execution_count": null,
   "id": "56497d4a-f7d2-4c98-be16-c89974a6fb1d",
   "metadata": {},
   "outputs": [],
   "source": [
    "# Extract results\n",
    "results_df = stat_res.results_df\n",
    "results_df.sort_values('stat')"
   ]
  },
  {
   "cell_type": "code",
   "execution_count": null,
   "id": "f00e8e21-0b0e-425d-abf2-53fcb27d0f80",
   "metadata": {},
   "outputs": [],
   "source": [
    "dc.plot_volcano_df(results_df, x='log2FoldChange', y='padj', top=20)"
   ]
  },
  {
   "cell_type": "code",
   "execution_count": null,
   "id": "fccef776-e287-4f75-82ac-20d03aa82914",
   "metadata": {},
   "outputs": [],
   "source": [
    "mat = results_df[['stat']].T.rename(index={'stat': 'Periportal_females_AAV2'})\n",
    "mat"
   ]
  },
  {
   "cell_type": "code",
   "execution_count": null,
   "id": "02234431-bf1d-4baa-939a-30f5527d0cfb",
   "metadata": {},
   "outputs": [],
   "source": [
    "sc.pl.violin(adata_females_AAV2_periportal, keys=['Hsd3b5', 'Gdf15', 'Fos'], groupby='Condition', rotation=90)"
   ]
  },
  {
   "cell_type": "markdown",
   "id": "64c9d7fd-0a10-45f9-a1aa-f1ce5235f437",
   "metadata": {},
   "source": [
    "## Transcription factor activity inference"
   ]
  },
  {
   "cell_type": "code",
   "execution_count": null,
   "id": "8e4cc69b-8c44-45ee-88cd-e091ebe3915a",
   "metadata": {},
   "outputs": [],
   "source": [
    "# Retrieve CollecTRI gene regulatory network\n",
    "# collectri = dc.get_collectri(organism='mouse', split_complexes=False)\n",
    "# collectri"
   ]
  },
  {
   "cell_type": "code",
   "execution_count": null,
   "id": "a9177ae4-6023-45e8-b00a-483ee0d0c903",
   "metadata": {},
   "outputs": [],
   "source": [
    "# Infer pathway activities with ulm\n",
    "tf_acts, tf_pvals = dc.run_ulm(mat=mat, net=collectri)\n",
    "tf_acts"
   ]
  },
  {
   "cell_type": "code",
   "execution_count": null,
   "id": "4c37cbeb-0ca8-4043-814f-dc0e4c2ae7cf",
   "metadata": {},
   "outputs": [],
   "source": [
    "dc.plot_barplot(tf_acts, 'Periportal_females_AAV2', top=25, vertical=True)"
   ]
  },
  {
   "cell_type": "code",
   "execution_count": null,
   "id": "794903e2-f345-4c64-af12-7a4a32bb57f3",
   "metadata": {},
   "outputs": [],
   "source": [
    "# Extract logFCs and pvals\n",
    "logFCs = results_df[['log2FoldChange']].T.rename(index={'log2FoldChange': 'Periportal_females_AAV2'})\n",
    "pvals = results_df[['padj']].T.rename(index={'padj': 'Periportal_females_AAV2'})\n",
    "\n",
    "# Plot\n",
    "dc.plot_volcano(logFCs, pvals, 'Periportal_females_AAV2', name='Nr3c1', net=collectri, top=10, sign_thr=0.05, lFCs_thr=0.5)"
   ]
  },
  {
   "cell_type": "code",
   "execution_count": null,
   "id": "f2162a3e-13be-47cb-90c1-58af8d61a84c",
   "metadata": {},
   "outputs": [],
   "source": [
    "dc.plot_volcano(logFCs, pvals, 'Periportal_females_AAV2', name='Smad4', net=collectri, top=10, sign_thr=0.05, lFCs_thr=0.5)"
   ]
  },
  {
   "cell_type": "markdown",
   "id": "e159b4ed-d9d8-4c02-8ed9-45b73782c6de",
   "metadata": {},
   "source": [
    "## Pathway activity inference"
   ]
  },
  {
   "cell_type": "code",
   "execution_count": null,
   "id": "3fe83435-fc04-48ff-b606-302ab7d24394",
   "metadata": {},
   "outputs": [],
   "source": [
    "# progeny_mouse = pd.read_csv(\"model_progeny500_mouse_decoupleR.csv\")\n",
    "# progeny_mouse"
   ]
  },
  {
   "cell_type": "code",
   "execution_count": null,
   "id": "791fc9a4-8fe9-4f13-be03-937a97c120d5",
   "metadata": {},
   "outputs": [],
   "source": [
    "pathway_acts, pathway_pvals = dc.run_mlm(mat=mat, net=progeny_mouse)"
   ]
  },
  {
   "cell_type": "code",
   "execution_count": null,
   "id": "0f9a99b3-b05e-4978-ad86-ade7add5bfbc",
   "metadata": {},
   "outputs": [],
   "source": [
    "pathway_acts"
   ]
  },
  {
   "cell_type": "code",
   "execution_count": null,
   "id": "a3659441-47dc-4ee1-a88e-2a7fc6daf23d",
   "metadata": {},
   "outputs": [],
   "source": [
    "dc.plot_barplot(pathway_acts, 'Periportal_females_AAV2', top=25, vertical=False)"
   ]
  },
  {
   "cell_type": "code",
   "execution_count": null,
   "id": "44ad8016-0bd1-459a-8b01-5c674759905a",
   "metadata": {},
   "outputs": [],
   "source": [
    "dc.plot_targets(results_df, stat='stat', source_name='Hypoxia', net=progeny_mouse, top=15)"
   ]
  },
  {
   "cell_type": "code",
   "execution_count": null,
   "id": "a1d32e8f-be9a-4a18-b221-14cb4a773ffe",
   "metadata": {},
   "outputs": [],
   "source": [
    "dc.plot_targets(results_df, stat='stat', source_name='TGFb', net=progeny_mouse, top=15)"
   ]
  },
  {
   "cell_type": "markdown",
   "id": "f1fa12cc-fd1b-4cb0-877c-ec1f74c6d729",
   "metadata": {},
   "source": [
    "## Functional enrichment of biological terms"
   ]
  },
  {
   "cell_type": "markdown",
   "id": "9f3bbc27-23c2-4f0b-9672-d3bebf8803ea",
   "metadata": {},
   "source": [
    "### Hallmarks and Chromosome location"
   ]
  },
  {
   "cell_type": "code",
   "execution_count": null,
   "id": "b0b14e39-3397-4f7f-bf9e-cc731c925a14",
   "metadata": {
    "tags": []
   },
   "outputs": [],
   "source": [
    "# Run gsea\n",
    "enr_pvals_filtered_msigdb_1 = dc.get_gsea_df(\n",
    "    df=results_df,\n",
    "    stat = 'stat',\n",
    "    net=filtered_msigdb_1,\n",
    "    source='geneset',\n",
    "    target='genesymbol',\n",
    "    verbose= True\n",
    ")\n",
    "\n",
    "enr_pvals_filtered_msigdb_1.sort_values('NES', ascending=False)"
   ]
  },
  {
   "cell_type": "code",
   "execution_count": null,
   "id": "f392424a-53f0-4321-a9c0-6b016ff31758",
   "metadata": {
    "tags": []
   },
   "outputs": [],
   "source": [
    "enr_pvals_filtered  = enr_pvals_filtered_msigdb_1[enr_pvals_filtered_msigdb_1['FDR p-value'] < 0.05]"
   ]
  },
  {
   "cell_type": "code",
   "execution_count": null,
   "id": "6b550ef8-1841-414e-bf14-52014d45d75a",
   "metadata": {
    "tags": []
   },
   "outputs": [],
   "source": [
    "enr_pvals_filtered_color = enr_pvals_filtered.sort_values(by='NES', key=abs, ascending=False).head(35)"
   ]
  },
  {
   "cell_type": "code",
   "execution_count": null,
   "id": "79bb6388-b700-4372-b7ab-870b312f0878",
   "metadata": {
    "tags": []
   },
   "outputs": [],
   "source": [
    "enr_pvals_filtered_color['color'] = np.where(enr_pvals_filtered_color['NES'] < 0, 'blue', 'red')"
   ]
  },
  {
   "cell_type": "code",
   "execution_count": null,
   "id": "c9e59af1-6493-424f-8876-3c079a3faa54",
   "metadata": {
    "tags": []
   },
   "outputs": [],
   "source": [
    "enr_pvals_filtered_color=enr_pvals_filtered_color.sort_values(by='NES', ascending=True)"
   ]
  },
  {
   "cell_type": "code",
   "execution_count": null,
   "id": "d3ea8fed-8720-4d7d-9165-22c16681c23b",
   "metadata": {
    "tags": []
   },
   "outputs": [],
   "source": [
    "enr_pvals_filtered_color"
   ]
  },
  {
   "cell_type": "code",
   "execution_count": null,
   "id": "da460a51-5bc3-4283-b60e-61ccb7e93443",
   "metadata": {
    "tags": []
   },
   "outputs": [],
   "source": [
    "dc.plot_barplot_df(enr_pvals_filtered_color, x='NES', y= 'Term', figsize=(7, 10), color=enr_pvals_filtered_color.color.tolist())"
   ]
  },
  {
   "cell_type": "markdown",
   "id": "fd4c17a7-1f06-496b-86b6-28b0c1086da8",
   "metadata": {},
   "source": [
    "### immunesigdb and chemical and genetic perturbations"
   ]
  },
  {
   "cell_type": "code",
   "execution_count": null,
   "id": "96883ab3-3075-4cca-98fa-1a130d06bff8",
   "metadata": {
    "tags": []
   },
   "outputs": [],
   "source": [
    "# Run gsea\n",
    "enr_pvals_filtered_msigdb_2 = dc.get_gsea_df(\n",
    "    df=results_df,\n",
    "    stat = 'stat',\n",
    "    net=filtered_msigdb_2,\n",
    "    source='geneset',\n",
    "    target='genesymbol',\n",
    "    verbose= True\n",
    ")\n",
    "\n",
    "enr_pvals_filtered_msigdb_2.sort_values('NES', ascending=False)"
   ]
  },
  {
   "cell_type": "code",
   "execution_count": null,
   "id": "aea543b3-0d7c-4096-8fe1-fa87ff771f2b",
   "metadata": {
    "tags": []
   },
   "outputs": [],
   "source": [
    "enr_pvals_filtered  = enr_pvals_filtered_msigdb_2[enr_pvals_filtered_msigdb_2['FDR p-value'] < 0.05]"
   ]
  },
  {
   "cell_type": "code",
   "execution_count": null,
   "id": "03511c74-10d1-4201-b5f5-b77bd09cc17c",
   "metadata": {
    "tags": []
   },
   "outputs": [],
   "source": [
    "enr_pvals_filtered_color = enr_pvals_filtered.sort_values(by='NES', key=abs, ascending=False).head(35)"
   ]
  },
  {
   "cell_type": "code",
   "execution_count": null,
   "id": "6e6713ff-b5bb-4722-b8d9-8fa389e6f8c5",
   "metadata": {
    "tags": []
   },
   "outputs": [],
   "source": [
    "enr_pvals_filtered_color['color'] = np.where(enr_pvals_filtered_color['NES'] < 0, 'blue', 'red')"
   ]
  },
  {
   "cell_type": "code",
   "execution_count": null,
   "id": "1910fdfe-b2da-4a65-af18-831cf5e12eed",
   "metadata": {
    "tags": []
   },
   "outputs": [],
   "source": [
    "enr_pvals_filtered_color=enr_pvals_filtered_color.sort_values(by='NES', ascending=True)"
   ]
  },
  {
   "cell_type": "code",
   "execution_count": null,
   "id": "9b86adc7-5a8c-4359-a8a5-6ed04f212d07",
   "metadata": {
    "tags": []
   },
   "outputs": [],
   "source": [
    "enr_pvals_filtered_color"
   ]
  },
  {
   "cell_type": "code",
   "execution_count": null,
   "id": "b1e0feab-0b66-40f0-ba1c-5c1905e92936",
   "metadata": {
    "tags": []
   },
   "outputs": [],
   "source": [
    "dc.plot_barplot_df(enr_pvals_filtered_color, x='NES', y= 'Term', figsize=(7, 10), color=enr_pvals_filtered_color.color.tolist())"
   ]
  },
  {
   "cell_type": "markdown",
   "id": "07cb4fa0-fe9e-4cf3-95a6-e9d61127f7ea",
   "metadata": {},
   "source": [
    "### Gene Ontology Terms"
   ]
  },
  {
   "cell_type": "code",
   "execution_count": null,
   "id": "d4dea392-d545-4abf-9258-4518d859a5d0",
   "metadata": {
    "tags": []
   },
   "outputs": [],
   "source": [
    "# Run gsea\n",
    "enr_pvals_filtered_msigdb_3 = dc.get_gsea_df(\n",
    "    df=results_df,\n",
    "    stat = 'stat',\n",
    "    net=filtered_msigdb_3,\n",
    "    source='geneset',\n",
    "    target='genesymbol',\n",
    "    verbose= True\n",
    ")\n",
    "\n",
    "enr_pvals_filtered_msigdb_3.sort_values('NES', ascending=False)"
   ]
  },
  {
   "cell_type": "code",
   "execution_count": null,
   "id": "7cde3029-f1bb-4466-88a4-4371d34a7e37",
   "metadata": {
    "tags": []
   },
   "outputs": [],
   "source": [
    "enr_pvals_filtered  = enr_pvals_filtered_msigdb_3[enr_pvals_filtered_msigdb_3['FDR p-value'] < 0.05]"
   ]
  },
  {
   "cell_type": "code",
   "execution_count": null,
   "id": "b481a388-713c-4edf-8c83-1ac12778e6e1",
   "metadata": {
    "tags": []
   },
   "outputs": [],
   "source": [
    "enr_pvals_filtered_color = enr_pvals_filtered.sort_values(by='NES', key=abs, ascending=False).head(35)"
   ]
  },
  {
   "cell_type": "code",
   "execution_count": null,
   "id": "804f04f6-e714-4c5a-82a1-826bccc3b81f",
   "metadata": {
    "tags": []
   },
   "outputs": [],
   "source": [
    "enr_pvals_filtered_color['color'] = np.where(enr_pvals_filtered_color['NES'] < 0, 'blue', 'red')"
   ]
  },
  {
   "cell_type": "code",
   "execution_count": null,
   "id": "9512cc85-f07d-441c-96f4-0f5cd15d1d66",
   "metadata": {
    "tags": []
   },
   "outputs": [],
   "source": [
    "enr_pvals_filtered_color=enr_pvals_filtered_color.sort_values(by='NES', ascending=True)"
   ]
  },
  {
   "cell_type": "code",
   "execution_count": null,
   "id": "c7843f16-e8ce-4b81-b11e-79a4229300ab",
   "metadata": {
    "tags": []
   },
   "outputs": [],
   "source": [
    "enr_pvals_filtered_color"
   ]
  },
  {
   "cell_type": "code",
   "execution_count": null,
   "id": "dece5517-738e-4eec-9bb8-821008a0ca3b",
   "metadata": {
    "tags": []
   },
   "outputs": [],
   "source": [
    "dc.plot_barplot_df(enr_pvals_filtered_color, x='NES', y= 'Term', figsize=(7, 10), color=enr_pvals_filtered_color.color.tolist())"
   ]
  },
  {
   "cell_type": "markdown",
   "id": "c28413d5-20c6-41df-a42a-74f5a3ddffe2",
   "metadata": {},
   "source": [
    "### Pathways"
   ]
  },
  {
   "cell_type": "code",
   "execution_count": null,
   "id": "a571d1b4-7848-4675-84ce-226386ae5a4b",
   "metadata": {
    "tags": []
   },
   "outputs": [],
   "source": [
    "# Run gsea\n",
    "enr_pvals_filtered_msigdb_4 = dc.get_gsea_df(\n",
    "    df=results_df,\n",
    "    stat = 'stat',\n",
    "    net=filtered_msigdb_4,\n",
    "    source='geneset',\n",
    "    target='genesymbol',\n",
    "    verbose= True\n",
    ")\n",
    "\n",
    "enr_pvals_filtered_msigdb_4.sort_values('NES', ascending=False)"
   ]
  },
  {
   "cell_type": "code",
   "execution_count": null,
   "id": "65bccf42-7a57-43e0-979b-6fb6cab54ea6",
   "metadata": {
    "tags": []
   },
   "outputs": [],
   "source": [
    "enr_pvals_filtered  = enr_pvals_filtered_msigdb_4[enr_pvals_filtered_msigdb_4['FDR p-value'] < 0.05]"
   ]
  },
  {
   "cell_type": "code",
   "execution_count": null,
   "id": "28ae5600-3747-49cb-ac99-57b8b0a5ba79",
   "metadata": {
    "tags": []
   },
   "outputs": [],
   "source": [
    "enr_pvals_filtered_color = enr_pvals_filtered.sort_values(by='NES', key=abs, ascending=False).head(35)"
   ]
  },
  {
   "cell_type": "code",
   "execution_count": null,
   "id": "5cbbce21-c200-4f70-bb9c-387963cc29d0",
   "metadata": {
    "tags": []
   },
   "outputs": [],
   "source": [
    "enr_pvals_filtered_color['color'] = np.where(enr_pvals_filtered_color['NES'] < 0, 'blue', 'red')"
   ]
  },
  {
   "cell_type": "code",
   "execution_count": null,
   "id": "6b588ea1-6cc4-4f9c-aaed-f57270e9e04d",
   "metadata": {
    "tags": []
   },
   "outputs": [],
   "source": [
    "enr_pvals_filtered_color=enr_pvals_filtered_color.sort_values(by='NES', ascending=True)"
   ]
  },
  {
   "cell_type": "code",
   "execution_count": null,
   "id": "cd77f539-b8ea-43d0-8002-33ba7f4bd93b",
   "metadata": {
    "tags": []
   },
   "outputs": [],
   "source": [
    "enr_pvals_filtered_color"
   ]
  },
  {
   "cell_type": "code",
   "execution_count": null,
   "id": "79fe4280-abd5-4330-b543-2143cd1b3724",
   "metadata": {
    "tags": []
   },
   "outputs": [],
   "source": [
    "dc.plot_barplot_df(enr_pvals_filtered_color, x='NES', y= 'Term', figsize=(7, 10), color=enr_pvals_filtered_color.color.tolist())"
   ]
  },
  {
   "cell_type": "markdown",
   "id": "e904f828-0e86-44eb-b7d3-94fa122f0c6d",
   "metadata": {},
   "source": [
    "### Matching with Genes extracted from the literature"
   ]
  },
  {
   "cell_type": "markdown",
   "id": "b2486f7a-407d-41c7-bf2a-07fa969e5fea",
   "metadata": {},
   "source": [
    "We here read the list of genes that are relevant in the context of AAV treatments according to the literate and we match them with the results of our DGE analysis (p Adjusted < 0.05). "
   ]
  },
  {
   "cell_type": "code",
   "execution_count": null,
   "id": "2e2792ce-e4f7-4080-aca6-271d29ef4444",
   "metadata": {},
   "outputs": [],
   "source": [
    "results_df[results_df['padj'] < 0.05].merge(literature_list, how='inner', left_index=True, right_index=True)"
   ]
  },
  {
   "cell_type": "markdown",
   "id": "da72c53b-f35e-4f42-82ea-4611ec06ba86",
   "metadata": {},
   "source": [
    "## Saving All results for joint plotting in other scripts"
   ]
  },
  {
   "cell_type": "code",
   "execution_count": null,
   "id": "cdff5090-b101-476c-97ce-b85162ae475a",
   "metadata": {
    "tags": []
   },
   "outputs": [],
   "source": [
    "## DEG results\n",
    "results_df.to_csv('analyzed/DE/DE_Results_14c/DEG/female_AVV2_vs_Control_periportal_Results.csv', index=True, index_label='GeneName')"
   ]
  },
  {
   "cell_type": "code",
   "execution_count": null,
   "id": "51e2f83e-e98d-4cde-ad96-6b3c22fa42ea",
   "metadata": {
    "tags": []
   },
   "outputs": [],
   "source": [
    "## Pathway Results\n",
    "pathways_all = pd.merge(pathway_acts.transpose(), pathway_pvals.transpose(), left_index=True, right_index=True, suffixes=('_ActivityScore', '_pvalue'))\n",
    "pathways_all.to_csv('analyzed/DE/DE_Results_14c/Pathway_results/female_AVV2_vs_Control_periportal_Results.csv', index=True, index_label='GeneName')                  "
   ]
  },
  {
   "cell_type": "code",
   "execution_count": null,
   "id": "00c5c1dc-75a3-41a9-a181-36dbd5b6c208",
   "metadata": {
    "tags": []
   },
   "outputs": [],
   "source": [
    "## TF activity results\n",
    "tf_all = pd.merge(tf_acts.transpose(), tf_pvals.transpose(), left_index=True, right_index=True, suffixes=('_ActivityScore', '_pvalue'))\n",
    "tf_all.to_csv('analyzed/DE/DE_Results_14c/TF_results/female_AVV2_vs_Control_periportal_Results.csv', index=True, index_label='GeneName')"
   ]
  },
  {
   "cell_type": "code",
   "execution_count": null,
   "id": "af4bbd71-0329-4bed-a35f-1f25617c5e8c",
   "metadata": {
    "tags": []
   },
   "outputs": [],
   "source": [
    "## Enrichment Results\n",
    "enr_pvals_filtered_msigdb_1.to_csv('analyzed/DE/DE_Results_14c/GSEA_results/female_AVV2_vs_Control_periportal_Results_msigdb_1.csv', index=True, index_label='Term')\n",
    "enr_pvals_filtered_msigdb_2.to_csv('analyzed/DE/DE_Results_14c/GSEA_results/female_AVV2_vs_Control_periportal_Results_msigdb_2.csv', index=True, index_label='Term')\n",
    "enr_pvals_filtered_msigdb_3.to_csv('analyzed/DE/DE_Results_14c/GSEA_results/female_AVV2_vs_Control_periportal_Results_msigdb_3.csv', index=True, index_label='Term')\n",
    "enr_pvals_filtered_msigdb_4.to_csv('analyzed/DE/DE_Results_14c/GSEA_results/female_AVV2_vs_Control_periportal_Results_msigdb_4.csv', index=True, index_label='Term')"
   ]
  },
  {
   "cell_type": "code",
   "execution_count": null,
   "id": "ce80c367-1d25-4f0a-bf70-e149932c06a6",
   "metadata": {
    "tags": []
   },
   "outputs": [
    {
     "name": "stdout",
     "output_type": "stream",
     "text": [
      "[NbConvertApp] Writing 1265607 bytes to 14c_PseudoBulk_Joint_FunctionalAnalysis.html\r\n"
     ]
    }
   ],
   "source": [
    "! jupyter nbconvert --to html 14c_PseudoBulk_Joint_FunctionalAnalysis.ipynb"
   ]
  },
  {
   "cell_type": "code",
   "execution_count": null,
   "id": "df0dfd2b-01b5-4b64-bf8a-d45c56fe7cac",
   "metadata": {},
   "outputs": [],
   "source": []
  }
 ],
 "metadata": {
  "kernelspec": {
   "display_name": "BeSpace_basic_env",
   "language": "python",
   "name": "bespace_basic_env"
  },
  "language_info": {
   "codemirror_mode": {
    "name": "ipython",
    "version": 3
   },
   "file_extension": ".py",
   "mimetype": "text/x-python",
   "name": "python",
   "nbconvert_exporter": "python",
   "pygments_lexer": "ipython3",
   "version": "3.9.18"
  }
 },
 "nbformat": 4,
 "nbformat_minor": 5
}
