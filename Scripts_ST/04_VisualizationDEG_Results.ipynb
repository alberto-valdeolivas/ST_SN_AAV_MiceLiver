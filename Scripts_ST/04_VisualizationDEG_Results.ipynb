{
 "cells": [
  {
   "cell_type": "markdown",
   "id": "9296f6e4-d899-4fa9-9e83-003a55ba77a0",
   "metadata": {},
   "source": [
    "# Merging Results from Pseudobulk DEG analysis"
   ]
  },
  {
   "cell_type": "code",
   "execution_count": null,
   "id": "5e75202f-976c-4dbf-acdf-f5c0771b961c",
   "metadata": {
    "tags": []
   },
   "outputs": [],
   "source": [
    "import scanpy as sc\n",
    "import decoupler as dc\n",
    "\n",
    "# Only needed for processing\n",
    "import numpy as np\n",
    "import pandas as pd\n",
    "\n",
    "# Needed for some plotting\n",
    "import matplotlib.pyplot as plt\n",
    "\n",
    "import os\n",
    "import anndata as ad\n",
    "import scanorama\n",
    "\n",
    "from wrapper_functions import *"
   ]
  },
  {
   "cell_type": "code",
   "execution_count": null,
   "id": "4a66f627-c19a-4802-bb65-33e1c5c28441",
   "metadata": {
    "tags": []
   },
   "outputs": [],
   "source": [
    "# Automatically re-load wrapper functions after an update\n",
    "# Find details here: https://ipython.readthedocs.io/en/stable/config/extensions/autoreload.html\n",
    "%load_ext autoreload\n",
    "%autoreload 2"
   ]
  },
  {
   "cell_type": "code",
   "execution_count": null,
   "id": "7b2f5311-c3e9-48de-88db-1eacd9b49552",
   "metadata": {
    "tags": []
   },
   "outputs": [],
   "source": [
    "organism = Organism.mouse\n",
    "analyze_params = Analyze(protocol=Protocol.FF, organism=organism)"
   ]
  },
  {
   "cell_type": "code",
   "execution_count": null,
   "id": "30760d2b-f35c-420d-acbf-1cabceb4aeab",
   "metadata": {
    "tags": []
   },
   "outputs": [],
   "source": [
    "root_path = os.getcwd()\n",
    "inpath='your_inpath_folder' # Replace with the location of your samples\n",
    "results_folder = os.path.join(root_path, 'analyzed', 'DE', 'DE_Results_14c')"
   ]
  },
  {
   "cell_type": "markdown",
   "id": "8b651055-88b4-43cc-8f84-f61d20fa338b",
   "metadata": {
    "tags": []
   },
   "source": [
    "## Differentially Expressed Genes"
   ]
  },
  {
   "cell_type": "markdown",
   "id": "b3e50e13-bb0b-4a02-9a78-0b57d63f106f",
   "metadata": {
    "tags": []
   },
   "source": [
    "### List of relevant genes based on prior knowledge (literaute)"
   ]
  },
  {
   "cell_type": "code",
   "execution_count": null,
   "id": "3215aed8-6cc2-4de5-83a7-e346e009a990",
   "metadata": {
    "tags": []
   },
   "outputs": [],
   "source": [
    "literature_list = pd.read_csv(\"Factors_AAV_processing_complete.csv\", header= None)"
   ]
  },
  {
   "cell_type": "code",
   "execution_count": null,
   "id": "5d4a9678-78da-4cd8-81b5-6aa22d482086",
   "metadata": {
    "tags": []
   },
   "outputs": [],
   "source": [
    "literature_list = literature_list.set_index(0).drop_duplicates()"
   ]
  },
  {
   "cell_type": "code",
   "execution_count": null,
   "id": "a20ce9ca-2a6f-435c-9d7c-32f8a80f4e14",
   "metadata": {
    "tags": []
   },
   "outputs": [],
   "source": [
    "literature_list['GeneName'] = literature_list.index"
   ]
  },
  {
   "cell_type": "code",
   "execution_count": null,
   "id": "05924030-6220-47ac-895c-1c645fecaee8",
   "metadata": {
    "tags": []
   },
   "outputs": [],
   "source": [
    "literature_list"
   ]
  },
  {
   "cell_type": "code",
   "execution_count": null,
   "id": "3f5c7c75-c254-4bd6-9d55-4c3cd42b63f2",
   "metadata": {
    "tags": []
   },
   "outputs": [],
   "source": [
    "folder_path = os.path.join(inpath, results_folder, 'DEG')  \n",
    "all_dfs = []  # To store all your dataframes\n",
    "\n",
    "for filename in os.listdir(folder_path):\n",
    "    if filename.endswith('.csv'):\n",
    "        file_path = os.path.join(folder_path, filename)\n",
    "        df = pd.read_csv(file_path)\n",
    "        df['Condition'] = filename  \n",
    "        df['Condition'] = df['Condition'].str.replace('.csv', '', regex=False)  \n",
    "        all_dfs.append(df)"
   ]
  },
  {
   "cell_type": "code",
   "execution_count": null,
   "id": "af0f7d38-f4dd-4620-8697-c52f35aed2f6",
   "metadata": {
    "tags": []
   },
   "outputs": [],
   "source": [
    "combined_df = pd.concat(all_dfs, ignore_index=True)"
   ]
  },
  {
   "cell_type": "code",
   "execution_count": null,
   "id": "c8b19cf4-b649-49a9-aaa0-304d7c88bcea",
   "metadata": {
    "tags": []
   },
   "outputs": [],
   "source": [
    "combined_df"
   ]
  },
  {
   "cell_type": "code",
   "execution_count": null,
   "id": "9b458217-aa50-4675-aec2-7a14e11e4aa5",
   "metadata": {
    "tags": []
   },
   "outputs": [],
   "source": [
    "combined_df.fillna(1, inplace=True)"
   ]
  },
  {
   "cell_type": "code",
   "execution_count": null,
   "id": "f12f707a-be40-47af-bcac-846207f951c7",
   "metadata": {
    "tags": []
   },
   "outputs": [],
   "source": [
    "filtered_df = combined_df[combined_df['GeneName'].isin(literature_list['GeneName'])]"
   ]
  },
  {
   "cell_type": "markdown",
   "id": "a7125697-9fbc-4b08-ad73-638657fb0022",
   "metadata": {},
   "source": [
    "I check for the deregulated genes in any condition"
   ]
  },
  {
   "cell_type": "code",
   "execution_count": null,
   "id": "6e9ac3fa-5664-4052-acd6-d40034d2ec10",
   "metadata": {
    "tags": []
   },
   "outputs": [],
   "source": [
    "pvalue_tresh = 0.05\n",
    "Genes_literature_DEG = filtered_df[filtered_df['padj'] < pvalue_tresh]['GeneName'].unique().tolist()"
   ]
  },
  {
   "cell_type": "code",
   "execution_count": null,
   "id": "b13807aa-1486-45ec-8995-e40990627834",
   "metadata": {
    "tags": []
   },
   "outputs": [],
   "source": [
    "Genes_literature_DEG"
   ]
  },
  {
   "cell_type": "code",
   "execution_count": null,
   "id": "0c61ab33-0d10-4650-836d-50fec407af9b",
   "metadata": {
    "tags": []
   },
   "outputs": [],
   "source": [
    "Genes_literature_DEG_df = filtered_df[filtered_df['GeneName'].isin(Genes_literature_DEG)]"
   ]
  },
  {
   "cell_type": "code",
   "execution_count": null,
   "id": "54863332-a681-47e6-88c7-eac06a1bb8b1",
   "metadata": {
    "tags": []
   },
   "outputs": [],
   "source": [
    "Genes_literature_DEG_df"
   ]
  },
  {
   "cell_type": "code",
   "execution_count": null,
   "id": "a1a0f211-bda4-49ed-b4bd-44d5bf84ddd1",
   "metadata": {
    "tags": []
   },
   "outputs": [],
   "source": [
    "predefined_order = ['female_AVV2_vs_Control_periportal_Results', \n",
    "                    'female_AVV2_vs_Control_other_Results', \n",
    "                    'female_AVV2_vs_Control_pericentral_Results', \n",
    "                    'female_AVV9_vs_Control_periportal_Results', \n",
    "                    'female_AVV9_vs_Control_other_Results', \n",
    "                    'female_AVV9_vs_Control_pericentral_Results',\n",
    "                    'male_AVV2_vs_Control_periportal_Results', \n",
    "                    'male_AVV2_vs_Control_other_Results', \n",
    "                    'male_AVV2_vs_Control_pericentral_Results', \n",
    "                    'male_AVV9_vs_Control_periportal_Results', \n",
    "                    'male_AVV9_vs_Control_other_Results', \n",
    "                    'male_AVV9_vs_Control_pericentral_Results',] "
   ]
  },
  {
   "cell_type": "code",
   "execution_count": null,
   "id": "5afdce8f-1724-4bd5-8554-d6565a0c576d",
   "metadata": {
    "tags": []
   },
   "outputs": [],
   "source": [
    "import seaborn as sns\n",
    "from matplotlib.patches import Patch\n",
    "\n",
    "Genes_literature_DEG_df['Sex'] = Genes_literature_DEG_df['Condition'].str.split('_', expand=True)[[0]]\n",
    "Genes_literature_DEG_df['Treatment'] = Genes_literature_DEG_df['Condition'].str.split('_', expand=True)[1]\n",
    "Genes_literature_DEG_df['Region'] = Genes_literature_DEG_df['Condition'].str.split('_', expand=True)[4]\n",
    "\n",
    "pivot_df_logFC = Genes_literature_DEG_df.pivot(columns = 'Condition', index = \"GeneName\", values=\"log2FoldChange\")\n",
    "\n",
    "pivot_df_pvalues = Genes_literature_DEG_df.pivot(columns = 'Condition', index = \"GeneName\", values=\"padj\")\n",
    "pivot_df_pvalues = pivot_df_pvalues.applymap(lambda x: '*' if x < 0.05 else ' ')\n",
    "\n",
    "pivot_df_logFC.fillna(0, inplace=True)\n",
    "\n",
    "# Map the conditions to colors\n",
    "Genes_literature_DEG_df_unique = Genes_literature_DEG_df[['Condition', 'Sex', 'Treatment','Region']].drop_duplicates()\n",
    "Genes_literature_DEG_df_unique.set_index(\"Condition\", inplace=True)\n",
    "\n",
    "sex_colors = ['#c66874','#67c1ca']\n",
    "treatment_colors = ['#687ac8','#c8b866']\n",
    "region_colors = ['#c98367',  '#6ac989','#9c69c8']\n",
    "\n",
    "sex_lut = dict(zip(Genes_literature_DEG_df_unique['Sex'].unique(), sex_colors))\n",
    "treatment_lut = dict(zip(Genes_literature_DEG_df_unique['Treatment'].unique(), treatment_colors))\n",
    "region_lut = dict(zip(Genes_literature_DEG_df_unique['Region'].unique(), region_colors))\n",
    "\n",
    "# Convert the conditions to a DataFrame of colors\n",
    "col_colors  = pd.DataFrame(index=pivot_df_logFC.columns)\n",
    "col_colors['Sex'] = Genes_literature_DEG_df_unique['Sex'].map(sex_lut)\n",
    "col_colors['Treatment'] = Genes_literature_DEG_df_unique['Treatment'].map(treatment_lut)\n",
    "col_colors['Region'] = Genes_literature_DEG_df_unique['Region'].map(region_lut)\n",
    "\n",
    "legend_elements = []\n",
    "for cond, cmap in zip(['Sex', 'Treatment', 'Region'], [sex_colors, treatment_colors, region_colors]):\n",
    "    legend_elements.append(Patch(facecolor='none', edgecolor='none', label=cond + ':'))\n",
    "    for label, color in zip(Genes_literature_DEG_df_unique[cond].unique(), cmap):\n",
    "        legend_elements.append(Patch(facecolor=color, label=label))\n",
    "\n",
    "\n",
    "# Create the clustermap\n",
    "\n",
    "\n",
    "cg = sns.clustermap(pivot_df_logFC[predefined_order], cmap=\"vlag\", figsize=(10, 12), linewidths=0.75, linecolor= 'black',\n",
    "                    dendrogram_ratio=(.175, .025), center=0, vmax=1, vmin=-1, annot=pivot_df_pvalues[predefined_order], fmt='',\n",
    "                    col_colors =col_colors, xticklabels=False, square=True, cbar_pos=(0.05, 0.55, 0.05, 0.18), col_cluster=False)\n",
    "cg.ax_row_dendrogram.set_visible(False) #suppress row dendrogram\n",
    "cg.ax_col_dendrogram.set_visible(False) #suppress row dendrogram\n",
    "cg.cax.set_title('Log2 FC', pad=10)\n",
    "cond_legend = cg.ax_heatmap.legend(labels=[f'p-value < 0.05'], frameon=False, handles=[plt.Line2D([], [], marker='*', color='black', linestyle='None', lw=2)], bbox_to_anchor=(0.01, 0.575))\n",
    "cg.ax_heatmap.add_artist(cond_legend)\n",
    "cg.ax_heatmap.legend(handles=legend_elements, bbox_to_anchor=(0, 1.15), ncol=1, frameon=False)\n",
    "\n",
    "# Manually set the x-axis title at the top\n",
    "cg.ax_heatmap.set_title('Condition', y=1.125)\n",
    "\n",
    "# Optionally, if you want to remove the default x-axis label\n",
    "cg.ax_heatmap.set_xlabel('')\n",
    "cg.ax_heatmap.set_ylabel('')\n",
    "\n",
    "cg.ax_heatmap.set_position([cg.ax_heatmap.get_position().x0, cg.ax_heatmap.get_position().y0,\n",
    "                           cg.ax_heatmap.get_position().width, cg.ax_heatmap.get_position().height])\n",
    "cg.ax_col_colors.set_position([cg.ax_col_colors.get_position().x0, cg.ax_col_colors.get_position().y0 + 0.010,\n",
    "                              cg.ax_col_colors.get_position().width, cg.ax_col_colors.get_position().height])\n"
   ]
  },
  {
   "cell_type": "markdown",
   "id": "ed9f0ecd-b1d2-41b7-bf7b-c792c98312c7",
   "metadata": {},
   "source": [
    "### List of relevant genes in the context of lipid metabolism, then circadian clock and immune related processes"
   ]
  },
  {
   "cell_type": "code",
   "execution_count": null,
   "id": "f99d9ef4-91fd-4585-ac8c-ccdedc9c1236",
   "metadata": {
    "tags": []
   },
   "outputs": [],
   "source": [
    "genes_positive = [\"Elovl3\", \"Chka\", \"Irs2\", \"Srebf1\", \"Ppard\", \"Acot1\", \"Cpt2\", \"Dbp\", \"Nfil3\", \"Nr1d1\", \"Nr1d2\", \"Tef\", \"Arntl\", \"Gadd45a\", \"Gadd45g\", \"Irf2bp2\", \"Ifitm2\", \"Caprin1\", \"Rnf125\", \"Ripk2\", \"Id2\"]"
   ]
  },
  {
   "cell_type": "code",
   "execution_count": null,
   "id": "5f184dce-aa92-4eae-9b50-2be827ef789a",
   "metadata": {
    "tags": []
   },
   "outputs": [],
   "source": [
    "combined_df"
   ]
  },
  {
   "cell_type": "code",
   "execution_count": null,
   "id": "8107b5f4-4885-4aa8-9e61-9384b284ac60",
   "metadata": {
    "tags": []
   },
   "outputs": [],
   "source": [
    "combined_df.fillna(1, inplace=True)"
   ]
  },
  {
   "cell_type": "code",
   "execution_count": null,
   "id": "f42edd56-c4e1-41fa-9a00-5ba09622b363",
   "metadata": {
    "tags": []
   },
   "outputs": [],
   "source": [
    "filtered_df = combined_df[combined_df['GeneName'].isin(genes_positive)]"
   ]
  },
  {
   "cell_type": "code",
   "execution_count": null,
   "id": "a8563680-e41f-43bc-b42f-9c30274069fb",
   "metadata": {
    "tags": []
   },
   "outputs": [],
   "source": [
    "filtered_df"
   ]
  },
  {
   "cell_type": "code",
   "execution_count": null,
   "id": "6617099a-cd68-4bb1-a404-37de7907e256",
   "metadata": {
    "tags": []
   },
   "outputs": [],
   "source": [
    "filtered_df['Sex'] = filtered_df['Condition'].str.split('_', expand=True)[[0]]\n",
    "filtered_df['Treatment'] = filtered_df['Condition'].str.split('_', expand=True)[1]\n",
    "filtered_df['Region'] = filtered_df['Condition'].str.split('_', expand=True)[4]\n",
    "\n",
    "pivot_df_logFC = filtered_df.pivot(columns = 'Condition', index = \"GeneName\", values=\"log2FoldChange\")\n",
    "pivot_df_pvalues = filtered_df.pivot(columns = 'Condition', index = \"GeneName\", values=\"padj\")\n",
    "pivot_df_pvalues = pivot_df_pvalues.applymap(lambda x: '*' if x < 0.05 else ' ')\n",
    "\n",
    "pivot_df_logFC.fillna(0, inplace=True)\n",
    "\n",
    "# Map the conditions to colors\n",
    "filtered_df_unique = filtered_df[['Condition', 'Sex', 'Treatment','Region']].drop_duplicates()\n",
    "filtered_df_unique.set_index(\"Condition\", inplace=True)\n",
    "\n",
    "sex_colors = ['#c66874','#67c1ca']\n",
    "treatment_colors = ['#687ac8','#c8b866']\n",
    "region_colors = ['#c98367',  '#6ac989','#9c69c8']\n",
    "\n",
    "sex_lut = dict(zip(filtered_df_unique['Sex'].unique(), sex_colors))\n",
    "treatment_lut = dict(zip(filtered_df_unique['Treatment'].unique(), treatment_colors))\n",
    "region_lut = dict(zip(filtered_df_unique['Region'].unique(), region_colors))\n",
    "\n",
    "# Convert the conditions to a DataFrame of colors\n",
    "col_colors  = pd.DataFrame(index=pivot_df_logFC.columns)\n",
    "col_colors['Sex'] = filtered_df_unique['Sex'].map(sex_lut)\n",
    "col_colors['Treatment'] = filtered_df_unique['Treatment'].map(treatment_lut)\n",
    "col_colors['Region'] = filtered_df_unique['Region'].map(region_lut)\n",
    "\n",
    "legend_elements = []\n",
    "for cond, cmap in zip(['Sex', 'Treatment', 'Region'], [sex_colors, treatment_colors, region_colors]):\n",
    "    legend_elements.append(Patch(facecolor='none', edgecolor='none', label=cond + ':'))\n",
    "    for label, color in zip(filtered_df_unique[cond].unique(), cmap):\n",
    "        legend_elements.append(Patch(facecolor=color, label=label))\n",
    "\n",
    "\n",
    "# Create the clustermap\n",
    "cg = sns.clustermap(pivot_df_logFC[predefined_order].reindex(genes_positive), cmap=\"vlag\", figsize=(10, 12), linewidths=0.75, linecolor= 'black',\n",
    "                    dendrogram_ratio=(.175, .025), center=0, vmax=1, vmin=-1, annot=pivot_df_pvalues[predefined_order].reindex(genes_positive), fmt='',\n",
    "                    col_colors =col_colors, xticklabels=False, square=True, cbar_pos=(0.05, 0.55, 0.05, 0.18), col_cluster=False, row_cluster=False)\n",
    "cg.ax_row_dendrogram.set_visible(False) #suppress row dendrogram\n",
    "cg.ax_col_dendrogram.set_visible(False) #suppress row dendrogram\n",
    "cg.cax.set_title('Log2 FC', pad=10)\n",
    "cond_legend = cg.ax_heatmap.legend(labels=[f'p-value < 0.05'], frameon=False, handles=[plt.Line2D([], [], marker='*', color='black', linestyle='None', lw=2)], bbox_to_anchor=(0.01, 0.575))\n",
    "cg.ax_heatmap.add_artist(cond_legend)\n",
    "cg.ax_heatmap.legend(handles=legend_elements, bbox_to_anchor=(0, 1.15), ncol=1, frameon=False)\n",
    "\n",
    "# Manually set the x-axis title at the top\n",
    "cg.ax_heatmap.set_title('Condition', y=1.125)\n",
    "\n",
    "# Optionally, if you want to remove the default x-axis label\n",
    "cg.ax_heatmap.set_xlabel('')\n",
    "cg.ax_heatmap.set_ylabel('')\n",
    "\n",
    "cg.ax_heatmap.set_position([cg.ax_heatmap.get_position().x0, cg.ax_heatmap.get_position().y0,\n",
    "                           cg.ax_heatmap.get_position().width, cg.ax_heatmap.get_position().height])\n",
    "cg.ax_col_colors.set_position([cg.ax_col_colors.get_position().x0, cg.ax_col_colors.get_position().y0 + 0.010,\n",
    "                              cg.ax_col_colors.get_position().width, cg.ax_col_colors.get_position().height])\n"
   ]
  },
  {
   "cell_type": "code",
   "execution_count": null,
   "id": "78a22a30-d8dc-4f12-ad8d-749a7cc6ed04",
   "metadata": {
    "tags": []
   },
   "outputs": [],
   "source": [
    "pivot_df_logFC[predefined_order].index"
   ]
  },
  {
   "cell_type": "markdown",
   "id": "a278f286-2807-4f18-895b-e1ed14e5e233",
   "metadata": {
    "tags": []
   },
   "source": [
    "### List of relevant genes from the publication: Predicted deleterious variants in the human genome relevant to gene therapy with adeno-associated virus vectors\n",
    "https://www.cell.com/molecular-therapy-family/methods/fulltext/S2329-0501%2823%2900175-4#tbl1"
   ]
  },
  {
   "cell_type": "code",
   "execution_count": null,
   "id": "740a5abf-d008-4a3b-af93-6e7ab749c0c9",
   "metadata": {
    "tags": []
   },
   "outputs": [],
   "source": [
    "genes_positive = [\n",
    "    \"AU040320\", \"Ndst1\", \"Tm9sf2\", \"B3galt6\", \"Arf1\", \"Itgav\", \"Itga5\", \n",
    "    \"Itgb1\", \"Itgb5\", \"Rpsa\", \"Pdgfra\", \"Cd9\", \"Fgfr1\", \"B4galt1\", \n",
    "    \"Arhgap26\", \"Cdc42\", \"Dnm1\", \"Met\", \"Egfr\", \"B3gat3\", \"Slc35b2\", \n",
    "    \"Ext1\", \"Ext2\", \"Cog7\", \"Rab7a\", \"Stx5\", \"Rab11a\", \"Vps35l\", \n",
    "    \"Vps53\", \"Rab6a\", \"Rgp1\", \"Atp2c1\", \"Gpr108\", \"Atp6v0a2\", \n",
    "    \"Rnf121\", \"Kpnb1\"\n",
    "]"
   ]
  },
  {
   "cell_type": "code",
   "execution_count": null,
   "id": "dd240830-bb17-4aa3-be7c-5f098a9d1fc5",
   "metadata": {
    "tags": []
   },
   "outputs": [],
   "source": [
    "combined_df"
   ]
  },
  {
   "cell_type": "code",
   "execution_count": null,
   "id": "5d020924-82d3-4a96-a91a-117efa736339",
   "metadata": {
    "tags": []
   },
   "outputs": [],
   "source": [
    "combined_df.fillna(1, inplace=True)"
   ]
  },
  {
   "cell_type": "code",
   "execution_count": null,
   "id": "b09163e2-b404-4324-927e-b534b65e9fcb",
   "metadata": {
    "tags": []
   },
   "outputs": [],
   "source": [
    "filtered_df = combined_df[combined_df['GeneName'].isin(genes_positive)]"
   ]
  },
  {
   "cell_type": "code",
   "execution_count": null,
   "id": "abdaa163-d625-44f7-be97-daccb108bcc7",
   "metadata": {
    "tags": []
   },
   "outputs": [],
   "source": [
    "filtered_df"
   ]
  },
  {
   "cell_type": "code",
   "execution_count": null,
   "id": "04881ef1-cbdc-4222-bc3c-e10b184b5dd9",
   "metadata": {
    "tags": []
   },
   "outputs": [],
   "source": [
    "filtered_df['Sex'] = filtered_df['Condition'].str.split('_', expand=True)[[0]]\n",
    "filtered_df['Treatment'] = filtered_df['Condition'].str.split('_', expand=True)[1]\n",
    "filtered_df['Region'] = filtered_df['Condition'].str.split('_', expand=True)[4]\n",
    "\n",
    "pivot_df_logFC = filtered_df.pivot(columns = 'Condition', index = \"GeneName\", values=\"log2FoldChange\")\n",
    "pivot_df_pvalues = filtered_df.pivot(columns = 'Condition', index = \"GeneName\", values=\"padj\")\n",
    "pivot_df_pvalues = pivot_df_pvalues.applymap(lambda x: '*' if x < 0.05 else ' ')\n",
    "\n",
    "pivot_df_logFC.fillna(0, inplace=True)\n",
    "\n",
    "# Map the conditions to colors\n",
    "filtered_df_unique = filtered_df[['Condition', 'Sex', 'Treatment','Region']].drop_duplicates()\n",
    "filtered_df_unique.set_index(\"Condition\", inplace=True)\n",
    "\n",
    "sex_colors = ['#c66874','#67c1ca']\n",
    "treatment_colors = ['#687ac8','#c8b866']\n",
    "region_colors = ['#c98367',  '#6ac989','#9c69c8']\n",
    "\n",
    "sex_lut = dict(zip(filtered_df_unique['Sex'].unique(), sex_colors))\n",
    "treatment_lut = dict(zip(filtered_df_unique['Treatment'].unique(), treatment_colors))\n",
    "region_lut = dict(zip(filtered_df_unique['Region'].unique(), region_colors))\n",
    "\n",
    "# Convert the conditions to a DataFrame of colors\n",
    "col_colors  = pd.DataFrame(index=pivot_df_logFC.columns)\n",
    "col_colors['Sex'] = filtered_df_unique['Sex'].map(sex_lut)\n",
    "col_colors['Treatment'] = filtered_df_unique['Treatment'].map(treatment_lut)\n",
    "col_colors['Region'] = filtered_df_unique['Region'].map(region_lut)\n",
    "\n",
    "legend_elements = []\n",
    "for cond, cmap in zip(['Sex', 'Treatment', 'Region'], [sex_colors, treatment_colors, region_colors]):\n",
    "    legend_elements.append(Patch(facecolor='none', edgecolor='none', label=cond + ':'))\n",
    "    for label, color in zip(filtered_df_unique[cond].unique(), cmap):\n",
    "        legend_elements.append(Patch(facecolor=color, label=label))\n",
    "\n",
    "\n",
    "# Create the clustermap\n",
    "cg = sns.clustermap(pivot_df_logFC[predefined_order], cmap=\"vlag\", figsize=(10, 12), linewidths=0.75, linecolor= 'black',\n",
    "                    dendrogram_ratio=(.175, .025), center=0, vmax=1, vmin=-1, annot=pivot_df_pvalues[predefined_order], fmt='',\n",
    "                    col_colors =col_colors, xticklabels=False, square=True, cbar_pos=(0.05, 0.55, 0.05, 0.18), col_cluster=False)\n",
    "cg.ax_row_dendrogram.set_visible(False) #suppress row dendrogram\n",
    "cg.ax_col_dendrogram.set_visible(False) #suppress row dendrogram\n",
    "cg.cax.set_title('Log2 FC', pad=10)\n",
    "cond_legend = cg.ax_heatmap.legend(labels=[f'p-value < 0.05'], frameon=False, handles=[plt.Line2D([], [], marker='*', color='black', linestyle='None', lw=2)], bbox_to_anchor=(0.01, 0.575))\n",
    "cg.ax_heatmap.add_artist(cond_legend)\n",
    "cg.ax_heatmap.legend(handles=legend_elements, bbox_to_anchor=(0, 1.15), ncol=1, frameon=False)\n",
    "\n",
    "# Manually set the x-axis title at the top\n",
    "cg.ax_heatmap.set_title('Condition', y=1.125)\n",
    "\n",
    "# Optionally, if you want to remove the default x-axis label\n",
    "cg.ax_heatmap.set_xlabel('')\n",
    "cg.ax_heatmap.set_ylabel('')\n",
    "\n",
    "cg.ax_heatmap.set_position([cg.ax_heatmap.get_position().x0, cg.ax_heatmap.get_position().y0,\n",
    "                           cg.ax_heatmap.get_position().width, cg.ax_heatmap.get_position().height])\n",
    "cg.ax_col_colors.set_position([cg.ax_col_colors.get_position().x0, cg.ax_col_colors.get_position().y0 + 0.010,\n",
    "                              cg.ax_col_colors.get_position().width, cg.ax_col_colors.get_position().height])\n"
   ]
  },
  {
   "cell_type": "code",
   "execution_count": null,
   "id": "e2561555-c76d-4bd3-8c4d-663b4e2b9a85",
   "metadata": {
    "tags": []
   },
   "outputs": [],
   "source": [
    "genes_negative = [\n",
    "    \"Ube2i\", \"Uba2\", \"Sae1\",\n",
    "    \"Suv4-20h1\", \"Chaf1a\", \"Npat\", \"Casp8ap2\", \"Phc3\", \"Phf5a\", \n",
    "    \"Sf3b2\", \"U2af1\", \"Zfp638\", \"Fkbp4\", \"Mre11a\", \"Rad50\", \n",
    "    \"Nbn\", \"Ifnar2\", \"Wwc2\", \"Adgra2\", \"Rtbdn\", \"Troap\", \"Sox15\", \n",
    "    \"Slc5a2\", \"Clic2\", \"Grpr\"\n",
    "]"
   ]
  },
  {
   "cell_type": "code",
   "execution_count": null,
   "id": "8021b0e2-1e33-479b-994b-b1a02d3d1480",
   "metadata": {
    "tags": []
   },
   "outputs": [],
   "source": [
    "filtered_df = combined_df[combined_df['GeneName'].isin(genes_negative)]"
   ]
  },
  {
   "cell_type": "code",
   "execution_count": null,
   "id": "f98c095d-6baf-4448-9d2c-e95a3b78e0fe",
   "metadata": {
    "tags": []
   },
   "outputs": [],
   "source": [
    "filtered_df"
   ]
  },
  {
   "cell_type": "code",
   "execution_count": null,
   "id": "41e3ca8f-46cf-4233-945e-b5a277d927cc",
   "metadata": {
    "tags": []
   },
   "outputs": [],
   "source": [
    "filtered_df['Sex'] = filtered_df['Condition'].str.split('_', expand=True)[[0]]\n",
    "filtered_df['Treatment'] = filtered_df['Condition'].str.split('_', expand=True)[1]\n",
    "filtered_df['Region'] = filtered_df['Condition'].str.split('_', expand=True)[4]\n",
    "\n",
    "pivot_df_logFC = filtered_df.pivot(columns = 'Condition', index = \"GeneName\", values=\"log2FoldChange\")\n",
    "pivot_df_pvalues = filtered_df.pivot(columns = 'Condition', index = \"GeneName\", values=\"padj\")\n",
    "pivot_df_pvalues = pivot_df_pvalues.applymap(lambda x: '*' if x < 0.05 else ' ')\n",
    "\n",
    "pivot_df_logFC.fillna(0, inplace=True)\n",
    "\n",
    "# Map the conditions to colors\n",
    "filtered_df_unique = filtered_df[['Condition', 'Sex', 'Treatment','Region']].drop_duplicates()\n",
    "filtered_df_unique.set_index(\"Condition\", inplace=True)\n",
    "\n",
    "sex_colors = ['#c66874','#67c1ca']\n",
    "treatment_colors = ['#687ac8','#c8b866']\n",
    "region_colors = ['#c98367',  '#6ac989','#9c69c8']\n",
    "\n",
    "sex_lut = dict(zip(filtered_df_unique['Sex'].unique(), sex_colors))\n",
    "treatment_lut = dict(zip(filtered_df_unique['Treatment'].unique(), treatment_colors))\n",
    "region_lut = dict(zip(filtered_df_unique['Region'].unique(), region_colors))\n",
    "\n",
    "# Convert the conditions to a DataFrame of colors\n",
    "col_colors  = pd.DataFrame(index=pivot_df_logFC.columns)\n",
    "col_colors['Sex'] = filtered_df_unique['Sex'].map(sex_lut)\n",
    "col_colors['Treatment'] = filtered_df_unique['Treatment'].map(treatment_lut)\n",
    "col_colors['Region'] = filtered_df_unique['Region'].map(region_lut)\n",
    "\n",
    "legend_elements = []\n",
    "for cond, cmap in zip(['Sex', 'Treatment', 'Region'], [sex_colors, treatment_colors, region_colors]):\n",
    "    legend_elements.append(Patch(facecolor='none', edgecolor='none', label=cond + ':'))\n",
    "    for label, color in zip(filtered_df_unique[cond].unique(), cmap):\n",
    "        legend_elements.append(Patch(facecolor=color, label=label))\n",
    "\n",
    "\n",
    "# Create the clustermap\n",
    "cg = sns.clustermap(pivot_df_logFC, cmap=\"vlag\", figsize=(10, 12), linewidths=0.75, linecolor= 'black',\n",
    "                    dendrogram_ratio=(.175, .025), center=0, vmax=1, vmin=-1, annot=pivot_df_pvalues, fmt='',\n",
    "                    col_colors =col_colors, xticklabels=False, square=True, cbar_pos=(0.05, 0.55, 0.05, 0.18))\n",
    "cg.ax_row_dendrogram.set_visible(False) #suppress row dendrogram\n",
    "cg.ax_col_dendrogram.set_visible(False) #suppress row dendrogram\n",
    "cg.cax.set_title('Log2 FC', pad=10)\n",
    "cond_legend = cg.ax_heatmap.legend(labels=[f'p-value < 0.05'], frameon=False, handles=[plt.Line2D([], [], marker='*', color='black', linestyle='None', lw=2)], bbox_to_anchor=(0.01, 0.575))\n",
    "cg.ax_heatmap.add_artist(cond_legend)\n",
    "cg.ax_heatmap.legend(handles=legend_elements, bbox_to_anchor=(0, 1.15), ncol=1, frameon=False)\n",
    "\n",
    "# Manually set the x-axis title at the top\n",
    "cg.ax_heatmap.set_title('Condition', y=1.125)\n",
    "\n",
    "# Optionally, if you want to remove the default x-axis label\n",
    "cg.ax_heatmap.set_xlabel('')\n",
    "cg.ax_heatmap.set_ylabel('')\n",
    "\n",
    "cg.ax_heatmap.set_position([cg.ax_heatmap.get_position().x0, cg.ax_heatmap.get_position().y0,\n",
    "                           cg.ax_heatmap.get_position().width, cg.ax_heatmap.get_position().height])\n",
    "cg.ax_col_colors.set_position([cg.ax_col_colors.get_position().x0, cg.ax_col_colors.get_position().y0 + 0.010,\n",
    "                              cg.ax_col_colors.get_position().width, cg.ax_col_colors.get_position().height])\n"
   ]
  },
  {
   "cell_type": "markdown",
   "id": "0cae6b5d-b254-4da9-8e39-10ed63b9d739",
   "metadata": {
    "tags": []
   },
   "source": [
    "## Genes responding different in the pericentral and periportal region in particular conditions"
   ]
  },
  {
   "cell_type": "markdown",
   "id": "d138d85f-2e3c-4038-bc9c-82fdc7457981",
   "metadata": {},
   "source": [
    "### Male AAV9 "
   ]
  },
  {
   "cell_type": "code",
   "execution_count": null,
   "id": "c7bbf239-e605-4653-8de0-50ef503deecb",
   "metadata": {
    "tags": []
   },
   "outputs": [],
   "source": [
    "conditions_to_check=['male_AVV9_vs_Control_pericentral_Results','male_AVV9_vs_Control_periportal_Results']\n",
    "combined_df.fillna(1, inplace=True)"
   ]
  },
  {
   "cell_type": "code",
   "execution_count": null,
   "id": "7bca5ddb-b6d6-40c5-8337-56a3641361e0",
   "metadata": {
    "tags": []
   },
   "outputs": [],
   "source": [
    "filtered_df = combined_df[combined_df['Condition'].isin(conditions_to_check)]"
   ]
  },
  {
   "cell_type": "code",
   "execution_count": null,
   "id": "c2b811f2-efc2-441a-b0b3-ef39489b6df9",
   "metadata": {
    "tags": []
   },
   "outputs": [],
   "source": [
    "filtered_df"
   ]
  },
  {
   "cell_type": "code",
   "execution_count": null,
   "id": "df2f8f67-3451-4a82-bf80-25672a3799b6",
   "metadata": {
    "tags": []
   },
   "outputs": [],
   "source": [
    "all_genes = filtered_df['GeneName'].unique().tolist()"
   ]
  },
  {
   "cell_type": "code",
   "execution_count": null,
   "id": "67e65ea1-dca3-415a-905d-70d8956e12c7",
   "metadata": {
    "tags": []
   },
   "outputs": [],
   "source": [
    "different_genes = []\n",
    "\n",
    "for current_gene in all_genes:\n",
    "    \n",
    "    filtered_df_gene = filtered_df[filtered_df['GeneName'] == current_gene]\n",
    "    \n",
    "    conditions = filtered_df_gene['Condition'].unique()\n",
    "\n",
    "    if len(conditions) < 2: \n",
    "        continue\n",
    "        # if (filtered_df_gene['padj'] < 0.05).tolist()[0]:\n",
    "        #    different_genes.append(current_gene)\n",
    "    else:\n",
    "        # Define your specific criteria here (for demonstration, using arbitrary conditions)\n",
    "        \n",
    "        criteria_met = (any(filtered_df_gene['padj'] < 0.05) ) and \\\n",
    "                    (filtered_df_gene['log2FoldChange'].tolist()[0] * filtered_df_gene['log2FoldChange'].tolist()[1] < 0)\n",
    "        \n",
    "        if criteria_met:\n",
    "            different_genes.append(current_gene)"
   ]
  },
  {
   "cell_type": "code",
   "execution_count": null,
   "id": "162a642f-4a3d-401d-894c-119c0e19d9ed",
   "metadata": {
    "tags": []
   },
   "outputs": [],
   "source": [
    "filtered_df_genes = filtered_df[filtered_df['GeneName'].isin(different_genes)]"
   ]
  },
  {
   "cell_type": "code",
   "execution_count": null,
   "id": "3cbc21a6-e90c-4124-9223-aa1e90caad2d",
   "metadata": {
    "tags": []
   },
   "outputs": [],
   "source": [
    "filtered_df_genes.to_csv('analyzed/some_results/male_AVV9_different_CentralPortal.csv')\n",
    "# filtered_df_genes[filtered_df_genes['GeneName'] == 'Klf11']"
   ]
  },
  {
   "cell_type": "markdown",
   "id": "f12d1b21-3c4d-4c5a-93e1-347d2536ea84",
   "metadata": {},
   "source": [
    "### Male AAV2 "
   ]
  },
  {
   "cell_type": "code",
   "execution_count": null,
   "id": "bc8f64a0-441e-4332-a248-76a90d8bc2d1",
   "metadata": {
    "tags": []
   },
   "outputs": [],
   "source": [
    "conditions_to_check=['male_AVV2_vs_Control_pericentral_Results','male_AVV2_vs_Control_periportal_Results']\n",
    "combined_df.fillna(1, inplace=True)"
   ]
  },
  {
   "cell_type": "code",
   "execution_count": null,
   "id": "ea0c390c-9616-432d-bf67-423e8b4e86cf",
   "metadata": {
    "tags": []
   },
   "outputs": [],
   "source": [
    "filtered_df = combined_df[combined_df['Condition'].isin(conditions_to_check)]"
   ]
  },
  {
   "cell_type": "code",
   "execution_count": null,
   "id": "69b1efb4-d3da-42db-b90e-94b2bc77c17f",
   "metadata": {
    "tags": []
   },
   "outputs": [],
   "source": [
    "filtered_df"
   ]
  },
  {
   "cell_type": "code",
   "execution_count": null,
   "id": "d9c0324c-a451-4def-9553-b59a8527be81",
   "metadata": {
    "tags": []
   },
   "outputs": [],
   "source": [
    "all_genes = filtered_df['GeneName'].unique().tolist()"
   ]
  },
  {
   "cell_type": "code",
   "execution_count": null,
   "id": "11d9c531-5d85-40fe-99e5-6690cce8a105",
   "metadata": {
    "tags": []
   },
   "outputs": [],
   "source": [
    "different_genes = []\n",
    "\n",
    "for current_gene in all_genes:\n",
    "    \n",
    "    filtered_df_gene = filtered_df[filtered_df['GeneName'] == current_gene]\n",
    "    \n",
    "    conditions = filtered_df_gene['Condition'].unique()\n",
    "\n",
    "    if len(conditions) < 2: \n",
    "        continue\n",
    "        # if (filtered_df_gene['padj'] < 0.05).tolist()[0]:\n",
    "        #    different_genes.append(current_gene)\n",
    "    else:\n",
    "        # Define your specific criteria here (for demonstration, using arbitrary conditions)\n",
    "        \n",
    "        criteria_met = (any(filtered_df_gene['padj'] < 0.05) ) and \\\n",
    "                    (filtered_df_gene['log2FoldChange'].tolist()[0] * filtered_df_gene['log2FoldChange'].tolist()[1] < 0)\n",
    "        \n",
    "        if criteria_met:\n",
    "            different_genes.append(current_gene)"
   ]
  },
  {
   "cell_type": "code",
   "execution_count": null,
   "id": "b341304f-ce26-4b7b-a6f8-670a83f47e94",
   "metadata": {
    "tags": []
   },
   "outputs": [],
   "source": [
    "filtered_df_genes = filtered_df[filtered_df['GeneName'].isin(different_genes)]"
   ]
  },
  {
   "cell_type": "code",
   "execution_count": null,
   "id": "1d756b19-f385-4853-8c21-f4d09e7d041b",
   "metadata": {
    "tags": []
   },
   "outputs": [],
   "source": [
    "filtered_df_genes.to_csv('analyzed/some_results/male_AVV2_different_CentralPortal.csv')\n",
    "# filtered_df_genes[filtered_df_genes['GeneName'] == 'Klf11']"
   ]
  },
  {
   "cell_type": "markdown",
   "id": "6c9ae3fe-e322-42e7-ac2e-1dc2ca52250e",
   "metadata": {},
   "source": [
    "### Female AAV9 "
   ]
  },
  {
   "cell_type": "code",
   "execution_count": null,
   "id": "03c6d06c-72cc-4dfe-a4e8-e24ca7430e0f",
   "metadata": {
    "tags": []
   },
   "outputs": [],
   "source": [
    "conditions_to_check=['female_AVV9_vs_Control_pericentral_Results','female_AVV9_vs_Control_periportal_Results']\n",
    "combined_df.fillna(1, inplace=True)"
   ]
  },
  {
   "cell_type": "code",
   "execution_count": null,
   "id": "0131d7cd-a01e-48f6-b62e-9331a25242ff",
   "metadata": {
    "tags": []
   },
   "outputs": [],
   "source": [
    "filtered_df = combined_df[combined_df['Condition'].isin(conditions_to_check)]"
   ]
  },
  {
   "cell_type": "code",
   "execution_count": null,
   "id": "bf631630-c4cc-4fe9-b77e-d0c8ee801723",
   "metadata": {
    "tags": []
   },
   "outputs": [],
   "source": [
    "filtered_df"
   ]
  },
  {
   "cell_type": "code",
   "execution_count": null,
   "id": "0af8269c-5f43-490f-a507-33d9c1581595",
   "metadata": {
    "tags": []
   },
   "outputs": [],
   "source": [
    "all_genes = filtered_df['GeneName'].unique().tolist()"
   ]
  },
  {
   "cell_type": "code",
   "execution_count": null,
   "id": "89825f28-42c4-4c2c-8d4d-fb8fe2e3e18f",
   "metadata": {
    "tags": []
   },
   "outputs": [],
   "source": [
    "different_genes = []\n",
    "\n",
    "for current_gene in all_genes:\n",
    "    \n",
    "    filtered_df_gene = filtered_df[filtered_df['GeneName'] == current_gene]\n",
    "    \n",
    "    conditions = filtered_df_gene['Condition'].unique()\n",
    "\n",
    "    if len(conditions) < 2: \n",
    "        continue\n",
    "        # if (filtered_df_gene['padj'] < 0.05).tolist()[0]:\n",
    "        #    different_genes.append(current_gene)\n",
    "    else:\n",
    "        # Define your specific criteria here (for demonstration, using arbitrary conditions)\n",
    "        \n",
    "        criteria_met = (any(filtered_df_gene['padj'] < 0.05) ) and \\\n",
    "                    (filtered_df_gene['log2FoldChange'].tolist()[0] * filtered_df_gene['log2FoldChange'].tolist()[1] < 0)\n",
    "        \n",
    "        if criteria_met:\n",
    "            different_genes.append(current_gene)"
   ]
  },
  {
   "cell_type": "code",
   "execution_count": null,
   "id": "3cb8cfcf-3dcf-4f44-be23-02d6b8fc7649",
   "metadata": {
    "tags": []
   },
   "outputs": [],
   "source": [
    "filtered_df_genes = filtered_df[filtered_df['GeneName'].isin(different_genes)]"
   ]
  },
  {
   "cell_type": "code",
   "execution_count": null,
   "id": "2ee9ec0e-129c-4de4-bb0b-bb3a0c551a10",
   "metadata": {
    "tags": []
   },
   "outputs": [],
   "source": [
    "filtered_df_genes.to_csv('analyzed/some_results/female_AVV9_different_CentralPortal.csv')\n",
    "# filtered_df_genes[filtered_df_genes['GeneName'] == 'Klf11']"
   ]
  },
  {
   "cell_type": "markdown",
   "id": "d1cf3f5e-9e30-4b2c-add6-ddd795521289",
   "metadata": {},
   "source": [
    "### Female AAV2 "
   ]
  },
  {
   "cell_type": "code",
   "execution_count": null,
   "id": "ac6989a4-d40e-4f89-a94b-80acbac0426e",
   "metadata": {
    "tags": []
   },
   "outputs": [],
   "source": [
    "conditions_to_check=['female_AVV2_vs_Control_pericentral_Results','female_AVV2_vs_Control_periportal_Results']\n",
    "combined_df.fillna(1, inplace=True)"
   ]
  },
  {
   "cell_type": "code",
   "execution_count": null,
   "id": "584afc36-1083-4433-8963-2ceea1a55bea",
   "metadata": {
    "tags": []
   },
   "outputs": [],
   "source": [
    "filtered_df = combined_df[combined_df['Condition'].isin(conditions_to_check)]"
   ]
  },
  {
   "cell_type": "code",
   "execution_count": null,
   "id": "b329ab47-821c-4023-908a-6199cfc2688d",
   "metadata": {
    "tags": []
   },
   "outputs": [],
   "source": [
    "filtered_df"
   ]
  },
  {
   "cell_type": "code",
   "execution_count": null,
   "id": "8b85f9ed-d7c6-4fe6-b916-f1a9fdb59b0a",
   "metadata": {
    "tags": []
   },
   "outputs": [],
   "source": [
    "all_genes = filtered_df['GeneName'].unique().tolist()"
   ]
  },
  {
   "cell_type": "code",
   "execution_count": null,
   "id": "16dd4631-89b2-461f-8912-e7b54c2ce353",
   "metadata": {
    "tags": []
   },
   "outputs": [],
   "source": [
    "different_genes = []\n",
    "\n",
    "for current_gene in all_genes:\n",
    "    \n",
    "    filtered_df_gene = filtered_df[filtered_df['GeneName'] == current_gene]\n",
    "    \n",
    "    conditions = filtered_df_gene['Condition'].unique()\n",
    "\n",
    "    if len(conditions) < 2: \n",
    "        continue\n",
    "        # if (filtered_df_gene['padj'] < 0.05).tolist()[0]:\n",
    "        #    different_genes.append(current_gene)\n",
    "    else:\n",
    "        # Define your specific criteria here (for demonstration, using arbitrary conditions)\n",
    "        \n",
    "        criteria_met = (any(filtered_df_gene['padj'] < 0.05) ) and \\\n",
    "                    (filtered_df_gene['log2FoldChange'].tolist()[0] * filtered_df_gene['log2FoldChange'].tolist()[1] < 0)\n",
    "        \n",
    "        if criteria_met:\n",
    "            different_genes.append(current_gene)"
   ]
  },
  {
   "cell_type": "code",
   "execution_count": null,
   "id": "5b2407a8-724e-494b-87b1-30e416d5efbd",
   "metadata": {
    "tags": []
   },
   "outputs": [],
   "source": [
    "filtered_df_genes = filtered_df[filtered_df['GeneName'].isin(different_genes)]"
   ]
  },
  {
   "cell_type": "code",
   "execution_count": null,
   "id": "9b58ca06-d748-496d-9d61-2bc22c774e68",
   "metadata": {
    "tags": []
   },
   "outputs": [],
   "source": [
    "filtered_df_genes.to_csv('analyzed/some_results/female_AVV2_different_CentralPortal.csv')\n",
    "# filtered_df_genes[filtered_df_genes['GeneName'] == 'Klf11']"
   ]
  },
  {
   "cell_type": "code",
   "execution_count": null,
   "id": "e50c27f1-6c17-46cf-825f-19ec5a8dc6c5",
   "metadata": {
    "tags": []
   },
   "outputs": [],
   "source": [
    "# Genes_list_df = combined_df[combined_df['GeneName'].isin(different_genes)]\n",
    "\n",
    "# Genes_list_df['Sex'] = Genes_list_df['Condition'].str.split('_', expand=True)[[0]]\n",
    "# Genes_list_df['Treatment'] = Genes_list_df['Condition'].str.split('_', expand=True)[1]\n",
    "# Genes_list_df['Region'] = Genes_list_df['Condition'].str.split('_', expand=True)[4]\n",
    "\n",
    "# pivot_df_logFC = Genes_list_df.pivot(columns = 'Condition', index = \"GeneName\", values=\"log2FoldChange\")\n",
    "\n",
    "# pivot_df_pvalues = Genes_list_df.pivot(columns = 'Condition', index = \"GeneName\", values=\"padj\")\n",
    "# pivot_df_pvalues = pivot_df_pvalues.applymap(lambda x: '*' if x < 0.05 else ' ')\n",
    "\n",
    "# pivot_df_logFC.fillna(0, inplace=True)\n",
    "\n",
    "# Map the conditions to colors\n",
    "# Genes_list_df_unique = Genes_list_df[['Condition', 'Sex', 'Treatment','Region']].drop_duplicates()\n",
    "# Genes_list_df_unique.set_index(\"Condition\", inplace=True)\n",
    "\n",
    "# sex_colors = ['#c66874','#67c1ca']\n",
    "# treatment_colors = ['#687ac8','#c8b866']\n",
    "# region_colors = ['#c98367',  '#6ac989','#9c69c8']\n",
    "\n",
    "# sex_lut = dict(zip(Genes_list_df_unique['Sex'].unique(), sex_colors))\n",
    "# treatment_lut = dict(zip(Genes_list_df_unique['Treatment'].unique(), treatment_colors))\n",
    "# region_lut = dict(zip(Genes_list_df_unique['Region'].unique(), region_colors))\n",
    "\n",
    "# Convert the conditions to a DataFrame of colors\n",
    "# col_colors  = pd.DataFrame(index=pivot_df_logFC.columns)\n",
    "# col_colors['Sex'] = Genes_list_df_unique['Sex'].map(sex_lut)\n",
    "# col_colors['Treatment'] = Genes_list_df_unique['Treatment'].map(treatment_lut)\n",
    "# col_colors['Region'] = Genes_list_df_unique['Region'].map(region_lut)\n",
    "\n",
    "# legend_elements = []\n",
    "# for cond, cmap in zip(['Sex', 'Treatment', 'Region'], [sex_colors, treatment_colors, region_colors]):\n",
    "#    legend_elements.append(Patch(facecolor='none', edgecolor='none', label=cond + ':'))\n",
    "#     for label, color in zip(Genes_list_df_unique[cond].unique(), cmap):\n",
    "#        legend_elements.append(Patch(facecolor=color, label=label))\n",
    "\n",
    "\n",
    "# Create the clustermap\n",
    "#cg = sns.clustermap(pivot_df_logFC[predefined_order], cmap=\"vlag\", figsize=(10, 22), linewidths=0.75, linecolor= 'black',\n",
    "#                    dendrogram_ratio=(.175, .025), center=0, vmax=1, vmin=-1, annot=pivot_df_pvalues[predefined_order], fmt='',\n",
    "#                    col_colors =col_colors, xticklabels=False, cbar_pos=(0.05, 0.65, 0.05, 0.12), col_cluster=False)\n",
    "#cg.ax_row_dendrogram.set_visible(False) #suppress row dendrogram\n",
    "#cg.ax_col_dendrogram.set_visible(False) #suppress row dendrogram\n",
    "#cg.cax.set_title('Log2 FC', pad=10)\n",
    "#cond_legend = cg.ax_heatmap.legend(labels=[f'p-value < 0.05'], frameon=False, handles=[plt.Line2D([], [], marker='*', color='black', linestyle='None', lw=2)], bbox_to_anchor=(0.01, 0.7))\n",
    "#cg.ax_heatmap.add_artist(cond_legend)\n",
    "#cg.ax_heatmap.legend(handles=legend_elements, bbox_to_anchor=(0, 1.15), ncol=1, frameon=False)\n",
    "\n",
    "# Manually set the x-axis title at the top\n",
    "#cg.ax_heatmap.set_title('Condition', y=1.125)\n",
    "\n",
    "# Optionally, if you want to remove the default x-axis label\n",
    "#cg.ax_heatmap.set_xlabel('')\n",
    "# cg.ax_heatmap.set_ylabel('')\n",
    "\n",
    "# cg.ax_heatmap.set_position([cg.ax_heatmap.get_position().x0, cg.ax_heatmap.get_position().y0,\n",
    "#                           cg.ax_heatmap.get_position().width, cg.ax_heatmap.get_position().height])\n",
    "# cg.ax_col_colors.set_position([cg.ax_col_colors.get_position().x0, cg.ax_col_colors.get_position().y0 + 0.010,\n",
    "#                               cg.ax_col_colors.get_position().width, cg.ax_col_colors.get_position().height])\n",
    "\n",
    "# plt.setp(cg.ax_heatmap.get_yticklabels(), fontsize=8)\n",
    "# plt.savefig('/home/valdeola/Figs_Bettina/DEGs.jpg', dpi=300)"
   ]
  },
  {
   "cell_type": "markdown",
   "id": "498d6462-3a5c-4ee3-a514-a4cf36cd32b1",
   "metadata": {
    "tags": []
   },
   "source": [
    "### DEG significant across conditions"
   ]
  },
  {
   "cell_type": "markdown",
   "id": "3855c484-90cf-4159-ba92-0ade3f122ab1",
   "metadata": {
    "tags": []
   },
   "source": [
    "#### Males and Females AAV9 treatment versus control significant in pericentral"
   ]
  },
  {
   "cell_type": "code",
   "execution_count": null,
   "id": "8fc283b3-6dfc-4fa5-a20a-394c730cb9ab",
   "metadata": {
    "tags": []
   },
   "outputs": [],
   "source": [
    "conditions_to_check=['female_AVV9_vs_Control_pericentral_Results', 'male_AVV9_vs_Control_pericentral_Results']\n",
    "combined_df.fillna(1, inplace=True)"
   ]
  },
  {
   "cell_type": "code",
   "execution_count": null,
   "id": "c528e274-2773-452a-85ea-9430cbb73a23",
   "metadata": {
    "tags": []
   },
   "outputs": [],
   "source": [
    "Gene_list = []\n",
    "for current_condition in conditions_to_check:\n",
    "    current_genes = combined_df[(combined_df['Condition'] == current_condition) & (combined_df['padj']< 0.05)]['GeneName'].unique()\n",
    "    Gene_list.append(current_genes)  "
   ]
  },
  {
   "cell_type": "code",
   "execution_count": null,
   "id": "a47362ed-8a0e-4d34-8d99-aaef26bec566",
   "metadata": {
    "tags": []
   },
   "outputs": [],
   "source": [
    "# Convert the first array to a set\n",
    "common_elements = set(Gene_list[0])\n",
    "\n",
    "# Perform intersection with the rest of the arrays\n",
    "for arr in Gene_list[1:]:\n",
    "    common_elements.intersection_update(arr)\n",
    "    \n",
    "common_elements_list = list(common_elements)\n",
    "common_elements_list"
   ]
  },
  {
   "cell_type": "code",
   "execution_count": null,
   "id": "9dc0e5e7-c837-468c-b12a-5ad344880962",
   "metadata": {
    "tags": []
   },
   "outputs": [],
   "source": [
    "Genes_list_df = combined_df[combined_df['GeneName'].isin(common_elements_list)]\n",
    "\n",
    "Genes_list_df['Sex'] = Genes_list_df['Condition'].str.split('_', expand=True)[[0]]\n",
    "Genes_list_df['Treatment'] = Genes_list_df['Condition'].str.split('_', expand=True)[1]\n",
    "Genes_list_df['Region'] = Genes_list_df['Condition'].str.split('_', expand=True)[4]\n",
    "\n",
    "pivot_df_logFC = Genes_list_df.pivot(columns = 'Condition', index = \"GeneName\", values=\"log2FoldChange\")\n",
    "\n",
    "pivot_df_pvalues = Genes_list_df.pivot(columns = 'Condition', index = \"GeneName\", values=\"padj\")\n",
    "pivot_df_pvalues = pivot_df_pvalues.applymap(lambda x: '*' if x < 0.05 else ' ')\n",
    "\n",
    "pivot_df_logFC.fillna(0, inplace=True)\n",
    "\n",
    "# Map the conditions to colors\n",
    "Genes_list_df_unique = Genes_list_df[['Condition', 'Sex', 'Treatment','Region']].drop_duplicates()\n",
    "Genes_list_df_unique.set_index(\"Condition\", inplace=True)\n",
    "\n",
    "sex_colors = ['#c66874','#67c1ca']\n",
    "treatment_colors = ['#687ac8','#c8b866']\n",
    "region_colors = ['#c98367',  '#6ac989','#9c69c8']\n",
    "\n",
    "sex_lut = dict(zip(Genes_list_df_unique['Sex'].unique(), sex_colors))\n",
    "treatment_lut = dict(zip(Genes_list_df_unique['Treatment'].unique(), treatment_colors))\n",
    "region_lut = dict(zip(Genes_list_df_unique['Region'].unique(), region_colors))\n",
    "\n",
    "# Convert the conditions to a DataFrame of colors\n",
    "col_colors  = pd.DataFrame(index=pivot_df_logFC.columns)\n",
    "col_colors['Sex'] = Genes_list_df_unique['Sex'].map(sex_lut)\n",
    "col_colors['Treatment'] = Genes_list_df_unique['Treatment'].map(treatment_lut)\n",
    "col_colors['Region'] = Genes_list_df_unique['Region'].map(region_lut)\n",
    "\n",
    "legend_elements = []\n",
    "for cond, cmap in zip(['Sex', 'Treatment', 'Region'], [sex_colors, treatment_colors, region_colors]):\n",
    "    legend_elements.append(Patch(facecolor='none', edgecolor='none', label=cond + ':'))\n",
    "    for label, color in zip(Genes_list_df_unique[cond].unique(), cmap):\n",
    "        legend_elements.append(Patch(facecolor=color, label=label))\n",
    "\n",
    "\n",
    "# Create the clustermap\n",
    "cg = sns.clustermap(pivot_df_logFC[predefined_order], cmap=\"vlag\", figsize=(10, 22), linewidths=0.75, linecolor= 'black',\n",
    "                    dendrogram_ratio=(.175, .025), center=0, vmax=1, vmin=-1, annot=pivot_df_pvalues[predefined_order], fmt='',\n",
    "                    col_colors =col_colors, xticklabels=False, cbar_pos=(0.05, 0.65, 0.05, 0.12), col_cluster=False)\n",
    "cg.ax_row_dendrogram.set_visible(False) #suppress row dendrogram\n",
    "cg.ax_col_dendrogram.set_visible(False) #suppress row dendrogram\n",
    "cg.cax.set_title('Log2 FC', pad=10)\n",
    "cond_legend = cg.ax_heatmap.legend(labels=[f'p-value < 0.05'], frameon=False, handles=[plt.Line2D([], [], marker='*', color='black', linestyle='None', lw=2)], bbox_to_anchor=(0.01, 0.7))\n",
    "cg.ax_heatmap.add_artist(cond_legend)\n",
    "cg.ax_heatmap.legend(handles=legend_elements, bbox_to_anchor=(0, 1.15), ncol=1, frameon=False)\n",
    "\n",
    "# Manually set the x-axis title at the top\n",
    "cg.ax_heatmap.set_title('Condition', y=1.125)\n",
    "\n",
    "# Optionally, if you want to remove the default x-axis label\n",
    "cg.ax_heatmap.set_xlabel('')\n",
    "cg.ax_heatmap.set_ylabel('')\n",
    "\n",
    "cg.ax_heatmap.set_position([cg.ax_heatmap.get_position().x0, cg.ax_heatmap.get_position().y0,\n",
    "                           cg.ax_heatmap.get_position().width, cg.ax_heatmap.get_position().height])\n",
    "cg.ax_col_colors.set_position([cg.ax_col_colors.get_position().x0, cg.ax_col_colors.get_position().y0 + 0.010,\n",
    "                              cg.ax_col_colors.get_position().width, cg.ax_col_colors.get_position().height])\n",
    "\n",
    "# plt.setp(cg.ax_heatmap.get_yticklabels(), fontsize=8)\n",
    "plt.savefig('/home/valdeola/Figs_Bettina/DEGs.jpg', dpi=300)"
   ]
  },
  {
   "cell_type": "markdown",
   "id": "d210767c-1390-48f5-ab5e-88feb2cb170e",
   "metadata": {},
   "source": [
    "#### Males AAV9 versus control and AAV2 versus control significantly deregulated in opposite directions in pericentral"
   ]
  },
  {
   "cell_type": "code",
   "execution_count": null,
   "id": "85066d20-0974-4086-893c-386d454e399a",
   "metadata": {
    "tags": []
   },
   "outputs": [],
   "source": [
    "conditions_to_check=['male_AVV9_vs_Control_pericentral_Results', 'male_AVV2_vs_Control_pericentral_Results']\n",
    "combined_df.fillna(1, inplace=True)"
   ]
  },
  {
   "cell_type": "code",
   "execution_count": null,
   "id": "83136299-e1d5-40da-904a-2d94a81c95b3",
   "metadata": {
    "tags": []
   },
   "outputs": [],
   "source": [
    "Gene_list = []\n",
    "for current_condition in conditions_to_check:\n",
    "    current_genes = combined_df[(combined_df['Condition'] == current_condition) & (combined_df['padj']< pvalue_tresh)]['GeneName'].unique()\n",
    "    Gene_list.append(current_genes)  "
   ]
  },
  {
   "cell_type": "code",
   "execution_count": null,
   "id": "53b7b0ad-96e1-42eb-a94f-df5e5d52f942",
   "metadata": {
    "tags": []
   },
   "outputs": [],
   "source": [
    "# Convert the first array to a set\n",
    "common_elements = set(Gene_list[0])\n",
    "\n",
    "# Perform intersection with the rest of the arrays\n",
    "for arr in Gene_list[1:]:\n",
    "    common_elements.intersection_update(arr)\n",
    "    \n",
    "common_elements_list = list(common_elements)\n",
    "common_elements_list"
   ]
  },
  {
   "cell_type": "code",
   "execution_count": null,
   "id": "4cb46fd6-876e-4b47-8d0b-fe9ff44cc022",
   "metadata": {
    "tags": []
   },
   "outputs": [],
   "source": [
    "genes_different_behaviour = []\n",
    "for current_gene in common_elements_list: \n",
    "    log2FoldChange_list = []\n",
    "    for current_condition in conditions_to_check:\n",
    "        current_Log2FC = combined_df[(combined_df['Condition'] == current_condition) & (combined_df['GeneName'] == current_gene)]['log2FoldChange'].unique()\n",
    "        log2FoldChange_list.append(current_Log2FC)\n",
    "    sign = log2FoldChange_list[0] * log2FoldChange_list[1]\n",
    "    \n",
    "    if sign < 0: \n",
    "        genes_different_behaviour.append(current_gene)"
   ]
  },
  {
   "cell_type": "code",
   "execution_count": null,
   "id": "92aed600-3cd3-4acc-ad7f-4a77024c7f39",
   "metadata": {
    "tags": []
   },
   "outputs": [],
   "source": [
    "genes_different_behaviour"
   ]
  },
  {
   "cell_type": "code",
   "execution_count": null,
   "id": "75cb4743-e85a-4706-9f73-6f0925b9e327",
   "metadata": {
    "tags": []
   },
   "outputs": [],
   "source": [
    "Genes_list_df = combined_df[combined_df['GeneName'].isin(genes_different_behaviour)]\n",
    "\n",
    "Genes_list_df['Sex'] = Genes_list_df['Condition'].str.split('_', expand=True)[[0]]\n",
    "Genes_list_df['Treatment'] = Genes_list_df['Condition'].str.split('_', expand=True)[1]\n",
    "Genes_list_df['Region'] = Genes_list_df['Condition'].str.split('_', expand=True)[4]\n",
    "\n",
    "pivot_df_logFC = Genes_list_df.pivot(columns = 'Condition', index = \"GeneName\", values=\"log2FoldChange\")\n",
    "\n",
    "pivot_df_pvalues = Genes_list_df.pivot(columns = 'Condition', index = \"GeneName\", values=\"padj\")\n",
    "pivot_df_pvalues = pivot_df_pvalues.applymap(lambda x: '*' if x < 0.05 else ' ')\n",
    "\n",
    "pivot_df_logFC.fillna(0, inplace=True)\n",
    "\n",
    "# Map the conditions to colors\n",
    "Genes_list_df_unique = Genes_list_df[['Condition', 'Sex', 'Treatment','Region']].drop_duplicates()\n",
    "Genes_list_df_unique.set_index(\"Condition\", inplace=True)\n",
    "\n",
    "sex_colors = ['#c66874','#67c1ca']\n",
    "treatment_colors = ['#687ac8','#c8b866']\n",
    "region_colors = ['#c98367',  '#6ac989','#9c69c8']\n",
    "\n",
    "sex_lut = dict(zip(Genes_list_df_unique['Sex'].unique(), sex_colors))\n",
    "treatment_lut = dict(zip(Genes_list_df_unique['Treatment'].unique(), treatment_colors))\n",
    "region_lut = dict(zip(Genes_list_df_unique['Region'].unique(), region_colors))\n",
    "\n",
    "# Convert the conditions to a DataFrame of colors\n",
    "col_colors  = pd.DataFrame(index=pivot_df_logFC.columns)\n",
    "col_colors['Sex'] = Genes_list_df_unique['Sex'].map(sex_lut)\n",
    "col_colors['Treatment'] = Genes_list_df_unique['Treatment'].map(treatment_lut)\n",
    "col_colors['Region'] = Genes_list_df_unique['Region'].map(region_lut)\n",
    "\n",
    "legend_elements = []\n",
    "for cond, cmap in zip(['Sex', 'Treatment', 'Region'], [sex_colors, treatment_colors, region_colors]):\n",
    "    legend_elements.append(Patch(facecolor='none', edgecolor='none', label=cond + ':'))\n",
    "    for label, color in zip(Genes_list_df_unique[cond].unique(), cmap):\n",
    "        legend_elements.append(Patch(facecolor=color, label=label))\n",
    "\n",
    "\n",
    "# Create the clustermap\n",
    "cg = sns.clustermap(pivot_df_logFC[predefined_order], cmap=\"vlag\", figsize=(10, 10), linewidths=0.75, linecolor= 'black',\n",
    "                    dendrogram_ratio=(.175, .025), center=0, vmax=1, vmin=-1, annot=pivot_df_pvalues[predefined_order], fmt='',\n",
    "                    col_colors =col_colors, xticklabels=False, square=True, cbar_pos=(0.05, 0.55, 0.05, 0.18), col_cluster=False)\n",
    "cg.ax_row_dendrogram.set_visible(False) #suppress row dendrogram\n",
    "cg.ax_col_dendrogram.set_visible(False) #suppress row dendrogram\n",
    "cg.cax.set_title('Log2 FC', pad=10)\n",
    "cond_legend = cg.ax_heatmap.legend(labels=[f'p-value < 0.05'], frameon=False, handles=[plt.Line2D([], [], marker='*', color='black', linestyle='None', lw=2)], bbox_to_anchor=(0.01, 0.575))\n",
    "cg.ax_heatmap.add_artist(cond_legend)\n",
    "cg.ax_heatmap.legend(handles=legend_elements, bbox_to_anchor=(0, 1.15), ncol=1, frameon=False)\n",
    "\n",
    "# Manually set the x-axis title at the top\n",
    "cg.ax_heatmap.set_title('Condition', y=1.125)\n",
    "\n",
    "# Optionally, if you want to remove the default x-axis label\n",
    "cg.ax_heatmap.set_xlabel('')\n",
    "cg.ax_heatmap.set_ylabel('')\n",
    "\n",
    "cg.ax_heatmap.set_position([cg.ax_heatmap.get_position().x0, cg.ax_heatmap.get_position().y0,\n",
    "                           cg.ax_heatmap.get_position().width, cg.ax_heatmap.get_position().height])\n",
    "cg.ax_col_colors.set_position([cg.ax_col_colors.get_position().x0, cg.ax_col_colors.get_position().y0 + 0.010,\n",
    "                              cg.ax_col_colors.get_position().width, cg.ax_col_colors.get_position().height])\n"
   ]
  },
  {
   "cell_type": "markdown",
   "id": "d01580e9-9ec4-498a-92d6-f8337c168278",
   "metadata": {},
   "source": [
    "#### Males AAV2 versus control and Females AAV2 versus control significantly deregulated in periportal"
   ]
  },
  {
   "cell_type": "code",
   "execution_count": null,
   "id": "d3cc6832-11c9-4143-88d2-c135078a39e2",
   "metadata": {
    "tags": []
   },
   "outputs": [],
   "source": [
    "conditions_to_check=['male_AVV2_vs_Control_periportal_Results', 'female_AVV2_vs_Control_periportal_Results']\n",
    "combined_df.fillna(1, inplace=True)"
   ]
  },
  {
   "cell_type": "code",
   "execution_count": null,
   "id": "28418eb5-04c5-4a00-82b0-a13f29241f7c",
   "metadata": {
    "tags": []
   },
   "outputs": [],
   "source": [
    "Gene_list = []\n",
    "for current_condition in conditions_to_check:\n",
    "    current_genes = combined_df[(combined_df['Condition'] == current_condition) & (combined_df['padj']< pvalue_tresh)]['GeneName'].unique()\n",
    "    Gene_list.append(current_genes)  "
   ]
  },
  {
   "cell_type": "code",
   "execution_count": null,
   "id": "94ff1fe1-c158-4fc9-8e54-9536b9170e3f",
   "metadata": {
    "tags": []
   },
   "outputs": [],
   "source": [
    "# Convert the first array to a set\n",
    "common_elements = set(Gene_list[0])\n",
    "\n",
    "# Perform intersection with the rest of the arrays\n",
    "for arr in Gene_list[1:]:\n",
    "    common_elements.intersection_update(arr)\n",
    "    \n",
    "common_elements_list = list(common_elements)\n",
    "common_elements_list"
   ]
  },
  {
   "cell_type": "code",
   "execution_count": null,
   "id": "40685371-f958-4bcb-a922-e19f5d991dd4",
   "metadata": {
    "tags": []
   },
   "outputs": [],
   "source": [
    "Genes_list_df = combined_df[combined_df['GeneName'].isin(common_elements_list)]\n",
    "\n",
    "Genes_list_df['Sex'] = Genes_list_df['Condition'].str.split('_', expand=True)[[0]]\n",
    "Genes_list_df['Treatment'] = Genes_list_df['Condition'].str.split('_', expand=True)[1]\n",
    "Genes_list_df['Region'] = Genes_list_df['Condition'].str.split('_', expand=True)[4]\n",
    "\n",
    "pivot_df_logFC = Genes_list_df.pivot(columns = 'Condition', index = \"GeneName\", values=\"log2FoldChange\")\n",
    "\n",
    "pivot_df_pvalues = Genes_list_df.pivot(columns = 'Condition', index = \"GeneName\", values=\"padj\")\n",
    "pivot_df_pvalues = pivot_df_pvalues.applymap(lambda x: '*' if x < 0.05 else ' ')\n",
    "\n",
    "pivot_df_logFC.fillna(0, inplace=True)\n",
    "\n",
    "# Map the conditions to colors\n",
    "Genes_list_df_unique = Genes_list_df[['Condition', 'Sex', 'Treatment','Region']].drop_duplicates()\n",
    "Genes_list_df_unique.set_index(\"Condition\", inplace=True)\n",
    "\n",
    "sex_colors = ['#c66874','#67c1ca']\n",
    "treatment_colors = ['#687ac8','#c8b866']\n",
    "region_colors = ['#c98367',  '#6ac989','#9c69c8']\n",
    "\n",
    "sex_lut = dict(zip(Genes_list_df_unique['Sex'].unique(), sex_colors))\n",
    "treatment_lut = dict(zip(Genes_list_df_unique['Treatment'].unique(), treatment_colors))\n",
    "region_lut = dict(zip(Genes_list_df_unique['Region'].unique(), region_colors))\n",
    "\n",
    "# Convert the conditions to a DataFrame of colors\n",
    "col_colors  = pd.DataFrame(index=pivot_df_logFC.columns)\n",
    "col_colors['Sex'] = Genes_list_df_unique['Sex'].map(sex_lut)\n",
    "col_colors['Treatment'] = Genes_list_df_unique['Treatment'].map(treatment_lut)\n",
    "col_colors['Region'] = Genes_list_df_unique['Region'].map(region_lut)\n",
    "\n",
    "legend_elements = []\n",
    "for cond, cmap in zip(['Sex', 'Treatment', 'Region'], [sex_colors, treatment_colors, region_colors]):\n",
    "    legend_elements.append(Patch(facecolor='none', edgecolor='none', label=cond + ':'))\n",
    "    for label, color in zip(Genes_list_df_unique[cond].unique(), cmap):\n",
    "        legend_elements.append(Patch(facecolor=color, label=label))\n",
    "\n",
    "\n",
    "# Create the clustermap\n",
    "cg = sns.clustermap(pivot_df_logFC[predefined_order], cmap=\"vlag\", figsize=(10, 10), linewidths=0.75, linecolor= 'black',\n",
    "                    dendrogram_ratio=(.175, .025), center=0, vmax=1, vmin=-1, annot=pivot_df_pvalues[predefined_order], fmt='',\n",
    "                    col_colors =col_colors, xticklabels=False, square=True, cbar_pos=(0.05, 0.55, 0.05, 0.18), col_cluster=False)\n",
    "cg.ax_row_dendrogram.set_visible(False) #suppress row dendrogram\n",
    "cg.ax_col_dendrogram.set_visible(False) #suppress row dendrogram\n",
    "cg.cax.set_title('Log2 FC', pad=10)\n",
    "cond_legend = cg.ax_heatmap.legend(labels=[f'p-value < 0.05'], frameon=False, handles=[plt.Line2D([], [], marker='*', color='black', linestyle='None', lw=2)], bbox_to_anchor=(0.01, 0.575))\n",
    "cg.ax_heatmap.add_artist(cond_legend)\n",
    "cg.ax_heatmap.legend(handles=legend_elements, bbox_to_anchor=(0, 1.15), ncol=1, frameon=False)\n",
    "\n",
    "# Manually set the x-axis title at the top\n",
    "cg.ax_heatmap.set_title('Condition', y=1.125)\n",
    "\n",
    "# Optionally, if you want to remove the default x-axis label\n",
    "cg.ax_heatmap.set_xlabel('')\n",
    "cg.ax_heatmap.set_ylabel('')\n",
    "\n",
    "cg.ax_heatmap.set_position([cg.ax_heatmap.get_position().x0, cg.ax_heatmap.get_position().y0,\n",
    "                           cg.ax_heatmap.get_position().width, cg.ax_heatmap.get_position().height])\n",
    "cg.ax_col_colors.set_position([cg.ax_col_colors.get_position().x0, cg.ax_col_colors.get_position().y0 + 0.010,\n",
    "                              cg.ax_col_colors.get_position().width, cg.ax_col_colors.get_position().height])\n"
   ]
  },
  {
   "cell_type": "markdown",
   "id": "3d70af42-e7ff-4262-9f69-9f1cfbfa8e8d",
   "metadata": {},
   "source": [
    "#### Males AAV2 versus control and Females AAV2 versus control significantly deregulated in pericentral"
   ]
  },
  {
   "cell_type": "code",
   "execution_count": null,
   "id": "4bdfacae-b636-4dd4-98d6-b677a17bb61c",
   "metadata": {
    "tags": []
   },
   "outputs": [],
   "source": [
    "conditions_to_check=['male_AVV2_vs_Control_pericentral_Results', 'female_AVV2_vs_Control_pericentral_Results']\n",
    "combined_df.fillna(1, inplace=True)"
   ]
  },
  {
   "cell_type": "code",
   "execution_count": null,
   "id": "48d89830-b515-466b-bf06-0ab3a2567919",
   "metadata": {
    "tags": []
   },
   "outputs": [],
   "source": [
    "Gene_list = []\n",
    "for current_condition in conditions_to_check:\n",
    "    current_genes = combined_df[(combined_df['Condition'] == current_condition) & (combined_df['padj']< pvalue_tresh)]['GeneName'].unique()\n",
    "    Gene_list.append(current_genes)  "
   ]
  },
  {
   "cell_type": "code",
   "execution_count": null,
   "id": "885fbf00-f030-4f0d-b893-202374282d5d",
   "metadata": {
    "tags": []
   },
   "outputs": [],
   "source": [
    "# Convert the first array to a set\n",
    "common_elements = set(Gene_list[0])\n",
    "\n",
    "# Perform intersection with the rest of the arrays\n",
    "for arr in Gene_list[1:]:\n",
    "    common_elements.intersection_update(arr)\n",
    "    \n",
    "common_elements_list = list(common_elements)\n",
    "common_elements_list"
   ]
  },
  {
   "cell_type": "code",
   "execution_count": null,
   "id": "acaaa8aa-1b09-46e8-b3a3-302420715460",
   "metadata": {
    "tags": []
   },
   "outputs": [],
   "source": [
    "Genes_list_df = combined_df[combined_df['GeneName'].isin(common_elements_list)]\n",
    "\n",
    "Genes_list_df['Sex'] = Genes_list_df['Condition'].str.split('_', expand=True)[[0]]\n",
    "Genes_list_df['Treatment'] = Genes_list_df['Condition'].str.split('_', expand=True)[1]\n",
    "Genes_list_df['Region'] = Genes_list_df['Condition'].str.split('_', expand=True)[4]\n",
    "\n",
    "pivot_df_logFC = Genes_list_df.pivot(columns = 'Condition', index = \"GeneName\", values=\"log2FoldChange\")\n",
    "\n",
    "pivot_df_pvalues = Genes_list_df.pivot(columns = 'Condition', index = \"GeneName\", values=\"padj\")\n",
    "pivot_df_pvalues = pivot_df_pvalues.applymap(lambda x: '*' if x < 0.05 else ' ')\n",
    "\n",
    "pivot_df_logFC.fillna(0, inplace=True)\n",
    "\n",
    "# Map the conditions to colors\n",
    "Genes_list_df_unique = Genes_list_df[['Condition', 'Sex', 'Treatment','Region']].drop_duplicates()\n",
    "Genes_list_df_unique.set_index(\"Condition\", inplace=True)\n",
    "\n",
    "sex_colors = ['#c66874','#67c1ca']\n",
    "treatment_colors = ['#687ac8','#c8b866']\n",
    "region_colors = ['#c98367',  '#6ac989','#9c69c8']\n",
    "\n",
    "sex_lut = dict(zip(Genes_list_df_unique['Sex'].unique(), sex_colors))\n",
    "treatment_lut = dict(zip(Genes_list_df_unique['Treatment'].unique(), treatment_colors))\n",
    "region_lut = dict(zip(Genes_list_df_unique['Region'].unique(), region_colors))\n",
    "\n",
    "# Convert the conditions to a DataFrame of colors\n",
    "col_colors  = pd.DataFrame(index=pivot_df_logFC.columns)\n",
    "col_colors['Sex'] = Genes_list_df_unique['Sex'].map(sex_lut)\n",
    "col_colors['Treatment'] = Genes_list_df_unique['Treatment'].map(treatment_lut)\n",
    "col_colors['Region'] = Genes_list_df_unique['Region'].map(region_lut)\n",
    "\n",
    "legend_elements = []\n",
    "for cond, cmap in zip(['Sex', 'Treatment', 'Region'], [sex_colors, treatment_colors, region_colors]):\n",
    "    legend_elements.append(Patch(facecolor='none', edgecolor='none', label=cond + ':'))\n",
    "    for label, color in zip(Genes_list_df_unique[cond].unique(), cmap):\n",
    "        legend_elements.append(Patch(facecolor=color, label=label))\n",
    "\n",
    "\n",
    "# Create the clustermap\n",
    "cg = sns.clustermap(pivot_df_logFC[predefined_order], cmap=\"vlag\", figsize=(10, 10), linewidths=0.75, linecolor= 'black',\n",
    "                    dendrogram_ratio=(.175, .025), center=0, vmax=1, vmin=-1, annot=pivot_df_pvalues[predefined_order], fmt='',\n",
    "                    col_colors =col_colors, xticklabels=False, square=True, cbar_pos=(0.05, 0.55, 0.05, 0.18), col_cluster=False)\n",
    "cg.ax_row_dendrogram.set_visible(False) #suppress row dendrogram\n",
    "cg.ax_col_dendrogram.set_visible(False) #suppress row dendrogram\n",
    "cg.cax.set_title('Log2 FC', pad=10)\n",
    "cond_legend = cg.ax_heatmap.legend(labels=[f'p-value < 0.05'], frameon=False, handles=[plt.Line2D([], [], marker='*', color='black', linestyle='None', lw=2)], bbox_to_anchor=(0.01, 0.575))\n",
    "cg.ax_heatmap.add_artist(cond_legend)\n",
    "cg.ax_heatmap.legend(handles=legend_elements, bbox_to_anchor=(0, 1.15), ncol=1, frameon=False)\n",
    "\n",
    "# Manually set the x-axis title at the top\n",
    "cg.ax_heatmap.set_title('Condition', y=1.125)\n",
    "\n",
    "# Optionally, if you want to remove the default x-axis label\n",
    "cg.ax_heatmap.set_xlabel('')\n",
    "cg.ax_heatmap.set_ylabel('')\n",
    "\n",
    "cg.ax_heatmap.set_position([cg.ax_heatmap.get_position().x0, cg.ax_heatmap.get_position().y0,\n",
    "                           cg.ax_heatmap.get_position().width, cg.ax_heatmap.get_position().height])\n",
    "cg.ax_col_colors.set_position([cg.ax_col_colors.get_position().x0, cg.ax_col_colors.get_position().y0 + 0.010,\n",
    "                              cg.ax_col_colors.get_position().width, cg.ax_col_colors.get_position().height])\n"
   ]
  },
  {
   "cell_type": "markdown",
   "id": "485a18e8-2488-4182-b892-b3d6751c3fb5",
   "metadata": {},
   "source": [
    "#### Males AAV9 versus control and AAV2 versus control significantly deregulated in periportal in different directions"
   ]
  },
  {
   "cell_type": "code",
   "execution_count": null,
   "id": "aa1654a4-b941-4b85-bb2b-3c7681c35d9c",
   "metadata": {
    "tags": []
   },
   "outputs": [],
   "source": [
    "conditions_to_check=['male_AVV9_vs_Control_periportal_Results', 'male_AVV2_vs_Control_periportal_Results']\n",
    "combined_df.fillna(1, inplace=True)"
   ]
  },
  {
   "cell_type": "code",
   "execution_count": null,
   "id": "99feef2e-d5c9-417a-8b45-ea5683df4835",
   "metadata": {
    "tags": []
   },
   "outputs": [],
   "source": [
    "Gene_list = []\n",
    "for current_condition in conditions_to_check:\n",
    "    current_genes = combined_df[(combined_df['Condition'] == current_condition) & (combined_df['padj']< pvalue_tresh)]['GeneName'].unique()\n",
    "    Gene_list.append(current_genes)  "
   ]
  },
  {
   "cell_type": "code",
   "execution_count": null,
   "id": "a0b36e95-d297-4570-80ea-297e67d21357",
   "metadata": {
    "tags": []
   },
   "outputs": [],
   "source": [
    "# Convert the first array to a set\n",
    "common_elements = set(Gene_list[0])\n",
    "\n",
    "# Perform intersection with the rest of the arrays\n",
    "for arr in Gene_list[1:]:\n",
    "    common_elements.intersection_update(arr)\n",
    "    \n",
    "common_elements_list = list(common_elements)\n",
    "common_elements_list"
   ]
  },
  {
   "cell_type": "code",
   "execution_count": null,
   "id": "bbf010c0-9bfc-4f75-a0f6-901efbe481f3",
   "metadata": {
    "tags": []
   },
   "outputs": [],
   "source": [
    "genes_different_behaviour = []\n",
    "for current_gene in common_elements_list: \n",
    "    log2FoldChange_list = []\n",
    "    for current_condition in conditions_to_check:\n",
    "        current_Log2FC = combined_df[(combined_df['Condition'] == current_condition) & (combined_df['GeneName'] == current_gene)]['log2FoldChange'].unique()\n",
    "        log2FoldChange_list.append(current_Log2FC)\n",
    "    sign = log2FoldChange_list[0] * log2FoldChange_list[1]\n",
    "    \n",
    "    if sign < 0: \n",
    "        genes_different_behaviour.append(current_gene)"
   ]
  },
  {
   "cell_type": "code",
   "execution_count": null,
   "id": "15b5b5ad-40d9-4ba5-aba6-980a5e2cc15d",
   "metadata": {
    "tags": []
   },
   "outputs": [],
   "source": [
    "genes_different_behaviour"
   ]
  },
  {
   "cell_type": "code",
   "execution_count": null,
   "id": "e1eb2cb0-66d7-42d4-9df7-12d05be7c632",
   "metadata": {
    "tags": []
   },
   "outputs": [],
   "source": [
    "Genes_list_df = combined_df[combined_df['GeneName'].isin(genes_different_behaviour)]\n",
    "\n",
    "Genes_list_df['Sex'] = Genes_list_df['Condition'].str.split('_', expand=True)[[0]]\n",
    "Genes_list_df['Treatment'] = Genes_list_df['Condition'].str.split('_', expand=True)[1]\n",
    "Genes_list_df['Region'] = Genes_list_df['Condition'].str.split('_', expand=True)[4]\n",
    "\n",
    "pivot_df_logFC = Genes_list_df.pivot(columns = 'Condition', index = \"GeneName\", values=\"log2FoldChange\")\n",
    "\n",
    "pivot_df_pvalues = Genes_list_df.pivot(columns = 'Condition', index = \"GeneName\", values=\"padj\")\n",
    "pivot_df_pvalues = pivot_df_pvalues.applymap(lambda x: '*' if x < 0.05 else ' ')\n",
    "\n",
    "pivot_df_logFC.fillna(0, inplace=True)\n",
    "\n",
    "# Map the conditions to colors\n",
    "Genes_list_df_unique = Genes_list_df[['Condition', 'Sex', 'Treatment','Region']].drop_duplicates()\n",
    "Genes_list_df_unique.set_index(\"Condition\", inplace=True)\n",
    "\n",
    "sex_colors = ['#c66874','#67c1ca']\n",
    "treatment_colors = ['#687ac8','#c8b866']\n",
    "region_colors = ['#c98367',  '#6ac989','#9c69c8']\n",
    "\n",
    "sex_lut = dict(zip(Genes_list_df_unique['Sex'].unique(), sex_colors))\n",
    "treatment_lut = dict(zip(Genes_list_df_unique['Treatment'].unique(), treatment_colors))\n",
    "region_lut = dict(zip(Genes_list_df_unique['Region'].unique(), region_colors))\n",
    "\n",
    "# Convert the conditions to a DataFrame of colors\n",
    "col_colors  = pd.DataFrame(index=pivot_df_logFC.columns)\n",
    "col_colors['Sex'] = Genes_list_df_unique['Sex'].map(sex_lut)\n",
    "col_colors['Treatment'] = Genes_list_df_unique['Treatment'].map(treatment_lut)\n",
    "col_colors['Region'] = Genes_list_df_unique['Region'].map(region_lut)\n",
    "\n",
    "legend_elements = []\n",
    "for cond, cmap in zip(['Sex', 'Treatment', 'Region'], [sex_colors, treatment_colors, region_colors]):\n",
    "    legend_elements.append(Patch(facecolor='none', edgecolor='none', label=cond + ':'))\n",
    "    for label, color in zip(Genes_list_df_unique[cond].unique(), cmap):\n",
    "        legend_elements.append(Patch(facecolor=color, label=label))\n",
    "\n",
    "\n",
    "# Create the clustermap\n",
    "cg = sns.clustermap(pivot_df_logFC[predefined_order], cmap=\"vlag\", figsize=(10, 10), linewidths=0.75, linecolor= 'black',\n",
    "                    dendrogram_ratio=(.175, .025), center=0, vmax=1, vmin=-1, annot=pivot_df_pvalues[predefined_order], fmt='',\n",
    "                    col_colors =col_colors, xticklabels=False, square=True, cbar_pos=(0.05, 0.55, 0.05, 0.18), col_cluster=False)\n",
    "cg.ax_row_dendrogram.set_visible(False) #suppress row dendrogram\n",
    "cg.ax_col_dendrogram.set_visible(False) #suppress row dendrogram\n",
    "cg.cax.set_title('Log2 FC', pad=10)\n",
    "cond_legend = cg.ax_heatmap.legend(labels=[f'p-value < 0.05'], frameon=False, handles=[plt.Line2D([], [], marker='*', color='black', linestyle='None', lw=2)], bbox_to_anchor=(0.01, 0.575))\n",
    "cg.ax_heatmap.add_artist(cond_legend)\n",
    "cg.ax_heatmap.legend(handles=legend_elements, bbox_to_anchor=(0, 1.15), ncol=1, frameon=False)\n",
    "\n",
    "# Manually set the x-axis title at the top\n",
    "cg.ax_heatmap.set_title('Condition', y=1.125)\n",
    "\n",
    "# Optionally, if you want to remove the default x-axis label\n",
    "cg.ax_heatmap.set_xlabel('')\n",
    "cg.ax_heatmap.set_ylabel('')\n",
    "\n",
    "cg.ax_heatmap.set_position([cg.ax_heatmap.get_position().x0, cg.ax_heatmap.get_position().y0,\n",
    "                           cg.ax_heatmap.get_position().width, cg.ax_heatmap.get_position().height])\n",
    "cg.ax_col_colors.set_position([cg.ax_col_colors.get_position().x0, cg.ax_col_colors.get_position().y0 + 0.010,\n",
    "                              cg.ax_col_colors.get_position().width, cg.ax_col_colors.get_position().height])\n"
   ]
  },
  {
   "cell_type": "markdown",
   "id": "07a02a06-650b-4a0a-ace1-a2a4ee6ced6f",
   "metadata": {
    "tags": []
   },
   "source": [
    "## Pathways"
   ]
  },
  {
   "cell_type": "code",
   "execution_count": null,
   "id": "6b6f39e0-7406-4454-8d37-2d2fe2aae69d",
   "metadata": {
    "tags": []
   },
   "outputs": [],
   "source": [
    "folder_path_pathways = os.path.join(inpath, results_folder, 'Pathway_results')  \n",
    "all_pathways_dfs = []  # To store all your dataframes\n",
    "\n",
    "for filename in os.listdir(folder_path_pathways):\n",
    "    if filename.endswith('.csv'):\n",
    "        file_path = os.path.join(folder_path_pathways, filename)\n",
    "        df = pd.read_csv(file_path)\n",
    "        df.columns = ['Pathway', 'ActivityScore', 'Pvalue']\n",
    "        df['Condition'] = filename  \n",
    "        df['Condition'] = df['Condition'].str.replace('.csv', '', regex=False) \n",
    "        df.set_index('Pathway', inplace=True)\n",
    "        all_pathways_dfs.append(df)"
   ]
  },
  {
   "cell_type": "code",
   "execution_count": null,
   "id": "61595104-c601-4efd-9eb5-829efcda21b9",
   "metadata": {
    "tags": []
   },
   "outputs": [],
   "source": [
    "all_pathways_df = pd.concat(all_pathways_dfs, ignore_index=False)"
   ]
  },
  {
   "cell_type": "code",
   "execution_count": null,
   "id": "e6c2b510-0e8e-4212-bbb3-4f4060e38671",
   "metadata": {
    "tags": []
   },
   "outputs": [],
   "source": [
    "all_pathways_df"
   ]
  },
  {
   "cell_type": "code",
   "execution_count": null,
   "id": "51ae96f7-d85e-4f64-a9ac-73c64bca0ed3",
   "metadata": {
    "tags": []
   },
   "outputs": [],
   "source": [
    "all_pathways_df['Sex'] = all_pathways_df['Condition'].str.split('_', expand=True)[[0]]\n",
    "all_pathways_df['Treatment'] = all_pathways_df['Condition'].str.split('_', expand=True)[1]\n",
    "all_pathways_df['Region'] = all_pathways_df['Condition'].str.split('_', expand=True)[4]\n",
    "\n",
    "pivot_df_logFC = all_pathways_df.pivot(columns = 'Condition', values=\"ActivityScore\")\n",
    "pivot_df_pvalues = all_pathways_df.pivot(columns = 'Condition', values=\"Pvalue\")\n",
    "pivot_df_pvalues = pivot_df_pvalues.applymap(lambda x: '*' if x < 0.05 else ' ')\n",
    "\n",
    "pivot_df_logFC.fillna(0, inplace=True)\n",
    "\n",
    "# Map the conditions to colors\n",
    "all_pathways_df_unique = all_pathways_df[['Condition', 'Sex', 'Treatment','Region']].drop_duplicates()\n",
    "all_pathways_df_unique.set_index(\"Condition\", inplace=True)\n",
    "\n",
    "sex_colors = ['#c66874','#67c1ca']\n",
    "treatment_colors = ['#687ac8','#c8b866']\n",
    "region_colors = ['#c98367',  '#6ac989','#9c69c8']\n",
    "\n",
    "sex_lut = dict(zip(all_pathways_df_unique['Sex'].unique(), sex_colors))\n",
    "treatment_lut = dict(zip(all_pathways_df_unique['Treatment'].unique(), treatment_colors))\n",
    "region_lut = dict(zip(all_pathways_df_unique['Region'].unique(), region_colors))\n",
    "\n",
    "# Convert the conditions to a DataFrame of colors\n",
    "col_colors  = pd.DataFrame(index=pivot_df_logFC.columns)\n",
    "col_colors['Sex'] = all_pathways_df_unique['Sex'].map(sex_lut)\n",
    "col_colors['Treatment'] = all_pathways_df_unique['Treatment'].map(treatment_lut)\n",
    "col_colors['Region'] = all_pathways_df_unique['Region'].map(region_lut)\n",
    "\n",
    "legend_elements = []\n",
    "for cond, cmap in zip(['Sex', 'Treatment', 'Region'], [sex_colors, treatment_colors, region_colors]):\n",
    "    legend_elements.append(Patch(facecolor='none', edgecolor='none', label=cond + ':'))\n",
    "    for label, color in zip(all_pathways_df_unique[cond].unique(), cmap):\n",
    "        legend_elements.append(Patch(facecolor=color, label=label))\n",
    "\n",
    "\n",
    "# Create the clustermap\n",
    "cg = sns.clustermap(pivot_df_logFC[predefined_order], cmap=\"vlag\", figsize=(10, 10), linewidths=0.75, linecolor= 'black',\n",
    "                    dendrogram_ratio=(.175, .025), center=0, annot=pivot_df_pvalues[predefined_order], fmt='',\n",
    "                    col_colors =col_colors, xticklabels=False, square=True, cbar_pos=(0.05, 0.55, 0.05, 0.18), col_cluster=False)\n",
    "cg.ax_row_dendrogram.set_visible(False) #suppress row dendrogram\n",
    "cg.ax_col_dendrogram.set_visible(False) #suppress row dendrogram\n",
    "cg.cax.set_title('Activity Score', pad=10)\n",
    "cond_legend = cg.ax_heatmap.legend(labels=[f'p-value < 0.05'], frameon=False, handles=[plt.Line2D([], [], marker='*', color='black', linestyle='None', lw=2)], bbox_to_anchor=(0.01, 0.575))\n",
    "cg.ax_heatmap.add_artist(cond_legend)\n",
    "cg.ax_heatmap.legend(handles=legend_elements, bbox_to_anchor=(0, 1.15), ncol=1, frameon=False)\n",
    "\n",
    "# Manually set the x-axis title at the top\n",
    "cg.ax_heatmap.set_title('Condition', y=1.125)\n",
    "\n",
    "# Optionally, if you want to remove the default x-axis label\n",
    "cg.ax_heatmap.set_xlabel('')\n",
    "cg.ax_heatmap.set_ylabel('')\n",
    "\n",
    "cg.ax_heatmap.set_position([cg.ax_heatmap.get_position().x0, cg.ax_heatmap.get_position().y0,\n",
    "                           cg.ax_heatmap.get_position().width, cg.ax_heatmap.get_position().height])\n",
    "cg.ax_col_colors.set_position([cg.ax_col_colors.get_position().x0, cg.ax_col_colors.get_position().y0 + 0.010,\n",
    "                              cg.ax_col_colors.get_position().width, cg.ax_col_colors.get_position().height])\n",
    "plt.savefig('/home/valdeola/Figs_Bettina/Pathways.jpg', dpi=300)"
   ]
  },
  {
   "cell_type": "markdown",
   "id": "d5f3e197-e2bb-4aa3-9b42-134e9949c5cd",
   "metadata": {
    "tags": []
   },
   "source": [
    "## Transcription Factors"
   ]
  },
  {
   "cell_type": "code",
   "execution_count": null,
   "id": "6a9700a2-1f14-4f20-abad-586f83e90976",
   "metadata": {
    "tags": []
   },
   "outputs": [],
   "source": [
    "folder_path_tfs = os.path.join(inpath, results_folder, 'TF_results')  \n",
    "all_tfs_dfs = []  # To store all your dataframes\n",
    "\n",
    "for filename in os.listdir(folder_path_tfs):\n",
    "    if filename.endswith('.csv'):\n",
    "        file_path = os.path.join(folder_path_tfs, filename)\n",
    "        df = pd.read_csv(file_path)\n",
    "        df.columns = ['TF', 'ActivityScore', 'Pvalue']\n",
    "        df['Condition'] = filename  \n",
    "        df['Condition'] = df['Condition'].str.replace('.csv', '', regex=False) \n",
    "        df.set_index('TF', inplace=True)\n",
    "        all_tfs_dfs.append(df)"
   ]
  },
  {
   "cell_type": "code",
   "execution_count": null,
   "id": "423257f5-488a-4737-99da-43472181eee4",
   "metadata": {
    "tags": []
   },
   "outputs": [],
   "source": [
    "all_tfs_df = pd.concat(all_tfs_dfs, ignore_index=False)"
   ]
  },
  {
   "cell_type": "code",
   "execution_count": null,
   "id": "d022a7ce-d446-4b27-a0eb-22c6971c3bdb",
   "metadata": {
    "tags": []
   },
   "outputs": [],
   "source": [
    "all_tfs_df"
   ]
  },
  {
   "cell_type": "code",
   "execution_count": null,
   "id": "d6bddd5f-96a3-4dad-ae4b-d333a15338d0",
   "metadata": {
    "tags": []
   },
   "outputs": [],
   "source": [
    "all_tfs_df['abs_ActivityScore'] = abs(all_tfs_df['ActivityScore'])"
   ]
  },
  {
   "cell_type": "code",
   "execution_count": null,
   "id": "309d96cd-5a07-4c68-a0e4-a5e93e6006c1",
   "metadata": {
    "tags": []
   },
   "outputs": [],
   "source": [
    "all_tfs_df['TF'] = all_tfs_df.index"
   ]
  },
  {
   "cell_type": "code",
   "execution_count": null,
   "id": "58ceef57-250e-4aad-9499-5f25f398177e",
   "metadata": {
    "tags": []
   },
   "outputs": [],
   "source": [
    "top_tfs = all_tfs_df.sort_values(by = 'abs_ActivityScore', ascending=False).drop_duplicates('TF')['TF'].head(35).tolist()"
   ]
  },
  {
   "cell_type": "code",
   "execution_count": null,
   "id": "7f6a50a3-0cc5-420c-a146-479c40dfbdac",
   "metadata": {
    "tags": []
   },
   "outputs": [],
   "source": [
    "all_tfs_df_filtered = all_tfs_df[all_tfs_df['TF'].isin(top_tfs)]"
   ]
  },
  {
   "cell_type": "code",
   "execution_count": null,
   "id": "ac2a96a0-84d7-4929-b2c8-d90a31c91f6f",
   "metadata": {
    "tags": []
   },
   "outputs": [],
   "source": [
    "all_tfs_df_filtered"
   ]
  },
  {
   "cell_type": "code",
   "execution_count": null,
   "id": "0cae2236-8303-463e-a7b6-bacc8358c22c",
   "metadata": {
    "tags": []
   },
   "outputs": [],
   "source": [
    "all_tfs_df_filtered['Sex'] = all_tfs_df_filtered['Condition'].str.split('_', expand=True)[[0]]\n",
    "all_tfs_df_filtered['Treatment'] = all_tfs_df_filtered['Condition'].str.split('_', expand=True)[1]\n",
    "all_tfs_df_filtered['Region'] = all_tfs_df_filtered['Condition'].str.split('_', expand=True)[4]\n",
    "\n",
    "pivot_df_logFC = all_tfs_df_filtered.pivot(columns = 'Condition', values=\"ActivityScore\")\n",
    "pivot_df_pvalues = all_tfs_df_filtered.pivot(columns = 'Condition', values=\"Pvalue\")\n",
    "pivot_df_pvalues = pivot_df_pvalues.applymap(lambda x: '*' if x < 0.05 else ' ')\n",
    "\n",
    "pivot_df_logFC.fillna(0, inplace=True)\n",
    "\n",
    "\n",
    "# Map the conditions to colors\n",
    "all_tfs_df_filtered_unique = all_tfs_df_filtered[['Condition', 'Sex', 'Treatment','Region']].drop_duplicates()\n",
    "all_tfs_df_filtered_unique.set_index(\"Condition\", inplace=True)\n",
    "\n",
    "sex_colors = ['#c66874','#67c1ca']\n",
    "treatment_colors = ['#687ac8','#c8b866']\n",
    "region_colors = ['#c98367',  '#6ac989','#9c69c8']\n",
    "\n",
    "sex_lut = dict(zip(all_tfs_df_filtered_unique['Sex'].unique(), sex_colors))\n",
    "treatment_lut = dict(zip(all_tfs_df_filtered_unique['Treatment'].unique(), treatment_colors))\n",
    "region_lut = dict(zip(all_tfs_df_filtered_unique['Region'].unique(), region_colors))\n",
    "\n",
    "# Convert the conditions to a DataFrame of colors\n",
    "col_colors  = pd.DataFrame(index=pivot_df_logFC.columns)\n",
    "col_colors['Sex'] = all_tfs_df_filtered_unique['Sex'].map(sex_lut)\n",
    "col_colors['Treatment'] = all_tfs_df_filtered_unique['Treatment'].map(treatment_lut)\n",
    "col_colors['Region'] = all_tfs_df_filtered_unique['Region'].map(region_lut)\n",
    "\n",
    "legend_elements = []\n",
    "for cond, cmap in zip(['Sex', 'Treatment', 'Region'], [sex_colors, treatment_colors, region_colors]):\n",
    "    legend_elements.append(Patch(facecolor='none', edgecolor='none', label=cond + ':'))\n",
    "    for label, color in zip(all_tfs_df_filtered_unique[cond].unique(), cmap):\n",
    "        legend_elements.append(Patch(facecolor=color, label=label))\n",
    "\n",
    "\n",
    "# Create the clustermap\n",
    "cg = sns.clustermap(pivot_df_logFC[predefined_order], cmap=\"vlag\", figsize=(10, 10), linewidths=0.75, linecolor= 'black',\n",
    "                    dendrogram_ratio=(.175, .025), center=0, annot=pivot_df_pvalues[predefined_order], fmt='',\n",
    "                    col_colors =col_colors, xticklabels=False, square=True, cbar_pos=(0.05, 0.55, 0.05, 0.18), col_cluster=False)\n",
    "cg.ax_row_dendrogram.set_visible(False) #suppress row dendrogram\n",
    "cg.ax_col_dendrogram.set_visible(False) #suppress row dendrogram\n",
    "cg.cax.set_title('Activity Score', pad=10)\n",
    "cond_legend = cg.ax_heatmap.legend(labels=[f'p-value < 0.05'], frameon=False, handles=[plt.Line2D([], [], marker='*', color='black', linestyle='None', lw=2)], bbox_to_anchor=(0.01, 0.575))\n",
    "cg.ax_heatmap.add_artist(cond_legend)\n",
    "cg.ax_heatmap.legend(handles=legend_elements, bbox_to_anchor=(0, 1.15), ncol=1, frameon=False)\n",
    "\n",
    "# Manually set the x-axis title at the top\n",
    "cg.ax_heatmap.set_title('Condition', y=1.125)\n",
    "\n",
    "# Optionally, if you want to remove the default x-axis label\n",
    "cg.ax_heatmap.set_xlabel('')\n",
    "cg.ax_heatmap.set_ylabel('')\n",
    "\n",
    "cg.ax_heatmap.set_position([cg.ax_heatmap.get_position().x0, cg.ax_heatmap.get_position().y0,\n",
    "                           cg.ax_heatmap.get_position().width, cg.ax_heatmap.get_position().height])\n",
    "cg.ax_col_colors.set_position([cg.ax_col_colors.get_position().x0, cg.ax_col_colors.get_position().y0 + 0.010,\n",
    "                              cg.ax_col_colors.get_position().width, cg.ax_col_colors.get_position().height])\n",
    "\n",
    "\n",
    "# pivot_df = all_tfs_df_filtered.pivot(columns = 'Condition', values=\"ActivityScore\")\n",
    "\n",
    "# pivot_df.fillna(0, inplace=True)\n"
   ]
  },
  {
   "cell_type": "markdown",
   "id": "3663fd36-1bfa-433e-b13b-ce61784384c2",
   "metadata": {
    "tags": []
   },
   "source": [
    "## GSEA results"
   ]
  },
  {
   "cell_type": "code",
   "execution_count": null,
   "id": "b4306995-66f5-43f6-bec7-c2cea9dfde03",
   "metadata": {
    "tags": []
   },
   "outputs": [],
   "source": [
    "folder_path_gsea = os.path.join(inpath, results_folder, 'GSEA_results')  \n",
    "all_gsea_dfs = []  # To store all your dataframes\n",
    "\n",
    "for filename in os.listdir(folder_path_gsea):\n",
    "    if filename.endswith('.csv'):\n",
    "        file_path = os.path.join(folder_path_gsea, filename)\n",
    "        df = pd.read_csv(file_path)\n",
    "        # df.columns = ['TF', 'ActivityScore', 'Pvalue']\n",
    "        df['Condition'] = filename  \n",
    "        df['Condition'] = df['Condition'].str.replace('.csv', '', regex=False) \n",
    "        # df.set_index('TF', inplace=True)\n",
    "        all_gsea_dfs.append(df)"
   ]
  },
  {
   "cell_type": "code",
   "execution_count": null,
   "id": "520a8348-cbfb-4f9e-9af1-2fab30920621",
   "metadata": {
    "tags": []
   },
   "outputs": [],
   "source": [
    "combined_gsea_df = pd.concat(all_gsea_dfs, ignore_index=True)"
   ]
  },
  {
   "cell_type": "code",
   "execution_count": null,
   "id": "d3611151-bcca-4f2a-82f8-23a051445d6b",
   "metadata": {
    "tags": []
   },
   "outputs": [],
   "source": [
    "combined_gsea_df"
   ]
  },
  {
   "cell_type": "markdown",
   "id": "3b47301a-b0e2-45a9-9cd5-04c750dcfc54",
   "metadata": {
    "tags": []
   },
   "source": [
    "### Hallmarks"
   ]
  },
  {
   "cell_type": "code",
   "execution_count": null,
   "id": "dd293ef6-aa32-4c37-8e99-c7deef2d0325",
   "metadata": {
    "tags": []
   },
   "outputs": [],
   "source": [
    "hallmarks_df = combined_gsea_df[combined_gsea_df['Term.1'].str.startswith('HALLMARK_')]"
   ]
  },
  {
   "cell_type": "code",
   "execution_count": null,
   "id": "922352c4-5d45-454b-b411-b17fab65f5d6",
   "metadata": {
    "tags": []
   },
   "outputs": [],
   "source": [
    "hallmarks_df"
   ]
  },
  {
   "cell_type": "code",
   "execution_count": null,
   "id": "07c597df-fe1b-4796-996e-91814f7eb4ce",
   "metadata": {
    "tags": []
   },
   "outputs": [],
   "source": [
    "hallmarks_df['Condition'] = hallmarks_df['Condition'].str.replace('_Results_msigdb_1', '', regex=False) "
   ]
  },
  {
   "cell_type": "code",
   "execution_count": null,
   "id": "82a6285d-2273-49ff-a143-cb60bddf5d47",
   "metadata": {
    "tags": []
   },
   "outputs": [],
   "source": [
    "hallmarks_df"
   ]
  },
  {
   "cell_type": "code",
   "execution_count": null,
   "id": "fdb34ca5-9e68-4519-b2bb-561dfd54365c",
   "metadata": {
    "tags": []
   },
   "outputs": [],
   "source": [
    "predefined_order = ['female_AVV2_vs_Control_periportal', \n",
    "                    'female_AVV2_vs_Control_other', \n",
    "                    'female_AVV2_vs_Control_pericentral', \n",
    "                    'female_AVV9_vs_Control_periportal', \n",
    "                    'female_AVV9_vs_Control_other', \n",
    "                    'female_AVV9_vs_Control_pericentral', \n",
    "                    'male_AVV2_vs_Control_periportal', \n",
    "                    'male_AVV2_vs_Control_other', \n",
    "                    'male_AVV2_vs_Control_pericentral', \n",
    "                    'male_AVV9_vs_Control_periportal', \n",
    "                    'male_AVV9_vs_Control_other', \n",
    "                    'male_AVV9_vs_Control_pericentral'\n",
    "                    ] "
   ]
  },
  {
   "cell_type": "code",
   "execution_count": null,
   "id": "7504adf5-79fd-4491-97c0-6bae2f051072",
   "metadata": {
    "tags": []
   },
   "outputs": [],
   "source": [
    "hallmarks_df.set_index('Term.1', inplace=True)\n",
    "\n",
    "hallmarks_df['Sex'] = hallmarks_df['Condition'].str.split('_', expand=True)[[0]]\n",
    "hallmarks_df['Treatment'] = hallmarks_df['Condition'].str.split('_', expand=True)[1]\n",
    "hallmarks_df['Region'] = hallmarks_df['Condition'].str.split('_', expand=True)[4]\n",
    "\n",
    "pivot_df_logFC = hallmarks_df.pivot(columns = 'Condition', values=\"NES\")\n",
    "pivot_df_pvalues = hallmarks_df.pivot(columns = 'Condition', values=\"FDR p-value\")\n",
    "pivot_df_pvalues = pivot_df_pvalues.applymap(lambda x: '*' if x < 0.05 else ' ')\n",
    "\n",
    "pivot_df_logFC.fillna(0, inplace=True)\n",
    "\n",
    "\n",
    "# Map the conditions to colors\n",
    "hallmarks_df_unique = hallmarks_df[['Condition', 'Sex', 'Treatment','Region']].drop_duplicates()\n",
    "hallmarks_df_unique.set_index(\"Condition\", inplace=True)\n",
    "\n",
    "sex_colors = ['#c66874','#67c1ca']\n",
    "treatment_colors = ['#687ac8','#c8b866']\n",
    "region_colors = ['#c98367',  '#6ac989','#9c69c8']\n",
    "\n",
    "sex_lut = dict(zip(hallmarks_df_unique['Sex'].unique(), sex_colors))\n",
    "treatment_lut = dict(zip(hallmarks_df_unique['Treatment'].unique(), treatment_colors))\n",
    "region_lut = dict(zip(hallmarks_df_unique['Region'].unique(), region_colors))\n",
    "\n",
    "# Convert the conditions to a DataFrame of colors\n",
    "col_colors  = pd.DataFrame(index=pivot_df_logFC.columns)\n",
    "col_colors['Sex'] = hallmarks_df_unique['Sex'].map(sex_lut)\n",
    "col_colors['Treatment'] = hallmarks_df_unique['Treatment'].map(treatment_lut)\n",
    "col_colors['Region'] = hallmarks_df_unique['Region'].map(region_lut)\n",
    "\n",
    "legend_elements = []\n",
    "for cond, cmap in zip(['Sex', 'Treatment', 'Region'], [sex_colors, treatment_colors, region_colors]):\n",
    "    legend_elements.append(Patch(facecolor='none', edgecolor='none', label=cond + ':'))\n",
    "    for label, color in zip(hallmarks_df_unique[cond].unique(), cmap):\n",
    "        legend_elements.append(Patch(facecolor=color, label=label))\n",
    "\n",
    "\n",
    "# Create the clustermap\n",
    "cg = sns.clustermap(pivot_df_logFC[predefined_order], cmap=\"vlag\", figsize=(10, 12), linewidths=0.75, linecolor= 'black',\n",
    "                    dendrogram_ratio=(.175, .025), center=0, annot=pivot_df_pvalues[predefined_order], fmt='',\n",
    "                    col_colors =col_colors, xticklabels=False, square=True, cbar_pos=(0.02, 0.55, 0.05, 0.18), col_cluster=False)\n",
    "cg.ax_row_dendrogram.set_visible(False) #suppress row dendrogram\n",
    "cg.ax_col_dendrogram.set_visible(False) #suppress row dendrogram\n",
    "cg.cax.set_title('NES', pad=10)\n",
    "cond_legend = cg.ax_heatmap.legend(labels=[f'p-value < 0.05'], frameon=False, handles=[plt.Line2D([], [], marker='*', color='black', linestyle='None', lw=2)], bbox_to_anchor=(0.01, 0.575))\n",
    "cg.ax_heatmap.add_artist(cond_legend)\n",
    "cg.ax_heatmap.legend(handles=legend_elements, bbox_to_anchor=(0, 1.15), ncol=1, frameon=False)\n",
    "\n",
    "# Manually set the x-axis title at the top\n",
    "cg.ax_heatmap.set_title('Condition', y=1.125)\n",
    "\n",
    "# Optionally, if you want to remove the default x-axis label\n",
    "cg.ax_heatmap.set_xlabel('')\n",
    "cg.ax_heatmap.set_ylabel('')\n",
    "\n",
    "cg.ax_heatmap.set_position([cg.ax_heatmap.get_position().x0, cg.ax_heatmap.get_position().y0,\n",
    "                           cg.ax_heatmap.get_position().width, cg.ax_heatmap.get_position().height])\n",
    "cg.ax_col_colors.set_position([cg.ax_col_colors.get_position().x0, cg.ax_col_colors.get_position().y0 + 0.010,\n",
    "                              cg.ax_col_colors.get_position().width, cg.ax_col_colors.get_position().height])\n",
    "\n",
    "# pivot_df = hallmarks_df.pivot(columns = 'Condition', values=\"NES\", index = \"Term.1\")\n",
    "\n",
    "# pivot_df.fillna(0, inplace=True)"
   ]
  },
  {
   "cell_type": "markdown",
   "id": "d7b1a8ea-c53c-4093-a550-58726cdf3669",
   "metadata": {},
   "source": [
    "### Genetic Locus"
   ]
  },
  {
   "cell_type": "code",
   "execution_count": null,
   "id": "51ad9e30-7084-4496-8c26-b5a5515af7ed",
   "metadata": {
    "tags": []
   },
   "outputs": [],
   "source": [
    "GeneticLocus_df = combined_gsea_df[combined_gsea_df['Term.1'].str.startswith('chr')]"
   ]
  },
  {
   "cell_type": "code",
   "execution_count": null,
   "id": "2f4ab0c1-dcce-4c16-a025-c6083c82111b",
   "metadata": {
    "tags": []
   },
   "outputs": [],
   "source": [
    "GeneticLocus_df"
   ]
  },
  {
   "cell_type": "code",
   "execution_count": null,
   "id": "3bf6ec01-8c78-4d62-bf9e-684eccb5e79e",
   "metadata": {
    "tags": []
   },
   "outputs": [],
   "source": [
    "GeneticLocus_significant_list = GeneticLocus_df[GeneticLocus_df['FDR p-value'] < 0.05]['Term.1'].unique().tolist()\n",
    "GeneticLocus_significant_list"
   ]
  },
  {
   "cell_type": "code",
   "execution_count": null,
   "id": "dad39ac0-9883-4ea6-9b18-fb35bce01c6d",
   "metadata": {
    "tags": []
   },
   "outputs": [],
   "source": [
    "GeneticLocus_significant_df = GeneticLocus_df[GeneticLocus_df['Term.1'].isin(GeneticLocus_significant_list)]"
   ]
  },
  {
   "cell_type": "code",
   "execution_count": null,
   "id": "957ccf72-3c5d-4c6b-a5bf-6997fa402d90",
   "metadata": {
    "tags": []
   },
   "outputs": [],
   "source": [
    "GeneticLocus_significant_df['Condition'] =  GeneticLocus_significant_df['Condition'].str.replace('_Results_msigdb_1', '', regex=False) "
   ]
  },
  {
   "cell_type": "code",
   "execution_count": null,
   "id": "a7ca151f-5405-4feb-8657-651c46ca286a",
   "metadata": {
    "tags": []
   },
   "outputs": [],
   "source": [
    "GeneticLocus_significant_df"
   ]
  },
  {
   "cell_type": "code",
   "execution_count": null,
   "id": "b5915999-b80c-48da-bb5c-0a5f874b216d",
   "metadata": {
    "tags": []
   },
   "outputs": [],
   "source": [
    "GeneticLocus_significant_df.set_index('Term.1', inplace=True)\n",
    "\n",
    "GeneticLocus_significant_df['Sex'] = GeneticLocus_significant_df['Condition'].str.split('_', expand=True)[[0]]\n",
    "GeneticLocus_significant_df['Treatment'] = GeneticLocus_significant_df['Condition'].str.split('_', expand=True)[1]\n",
    "GeneticLocus_significant_df['Region'] = GeneticLocus_significant_df['Condition'].str.split('_', expand=True)[4]\n",
    "\n",
    "pivot_df_logFC = GeneticLocus_significant_df.pivot(columns = 'Condition', values=\"NES\")\n",
    "pivot_df_pvalues = GeneticLocus_significant_df.pivot(columns = 'Condition', values=\"FDR p-value\")\n",
    "pivot_df_pvalues = pivot_df_pvalues.applymap(lambda x: '*' if x < 0.05 else ' ')\n",
    "\n",
    "pivot_df_logFC.fillna(0, inplace=True)\n",
    "\n",
    "\n",
    "# Map the conditions to colors\n",
    "GeneticLocus_significant_df_unique = GeneticLocus_significant_df[['Condition', 'Sex', 'Treatment','Region']].drop_duplicates()\n",
    "GeneticLocus_significant_df_unique.set_index(\"Condition\", inplace=True)\n",
    "\n",
    "sex_colors = ['#c66874','#67c1ca']\n",
    "treatment_colors = ['#687ac8','#c8b866']\n",
    "region_colors = ['#c98367',  '#6ac989','#9c69c8']\n",
    "\n",
    "sex_lut = dict(zip(GeneticLocus_significant_df_unique['Sex'].unique(), sex_colors))\n",
    "treatment_lut = dict(zip(GeneticLocus_significant_df_unique['Treatment'].unique(), treatment_colors))\n",
    "region_lut = dict(zip(GeneticLocus_significant_df_unique['Region'].unique(), region_colors))\n",
    "\n",
    "# Convert the conditions to a DataFrame of colors\n",
    "col_colors  = pd.DataFrame(index=pivot_df_logFC.columns)\n",
    "col_colors['Sex'] = GeneticLocus_significant_df_unique['Sex'].map(sex_lut)\n",
    "col_colors['Treatment'] = GeneticLocus_significant_df_unique['Treatment'].map(treatment_lut)\n",
    "col_colors['Region'] = GeneticLocus_significant_df_unique['Region'].map(region_lut)\n",
    "\n",
    "legend_elements = []\n",
    "for cond, cmap in zip(['Sex', 'Treatment', 'Region'], [sex_colors, treatment_colors, region_colors]):\n",
    "    legend_elements.append(Patch(facecolor='none', edgecolor='none', label=cond + ':'))\n",
    "    for label, color in zip(GeneticLocus_significant_df_unique[cond].unique(), cmap):\n",
    "        legend_elements.append(Patch(facecolor=color, label=label))\n",
    "\n",
    "\n",
    "# Create the clustermap\n",
    "cg = sns.clustermap(pivot_df_logFC[predefined_order], cmap=\"vlag\", figsize=(10, 10), linewidths=0.75, linecolor= 'black',\n",
    "                    dendrogram_ratio=(.175, .025), center=0, annot=pivot_df_pvalues[predefined_order], fmt='',\n",
    "                    col_colors =col_colors, xticklabels=False, square=True, cbar_pos=(0.02, 0.55, 0.05, 0.18), col_cluster=False)\n",
    "cg.ax_row_dendrogram.set_visible(False) #suppress row dendrogram\n",
    "cg.ax_col_dendrogram.set_visible(False) #suppress row dendrogram\n",
    "cg.cax.set_title('NES', pad=10)\n",
    "cond_legend = cg.ax_heatmap.legend(labels=[f'p-value < 0.05'], frameon=False, handles=[plt.Line2D([], [], marker='*', color='black', linestyle='None', lw=2)], bbox_to_anchor=(0.01, 0.575))\n",
    "cg.ax_heatmap.add_artist(cond_legend)\n",
    "cg.ax_heatmap.legend(handles=legend_elements, bbox_to_anchor=(0, 1.15), ncol=1, frameon=False)\n",
    "\n",
    "# Manually set the x-axis title at the top\n",
    "cg.ax_heatmap.set_title('Condition', y=1.125)\n",
    "\n",
    "# Optionally, if you want to remove the default x-axis label\n",
    "cg.ax_heatmap.set_xlabel('')\n",
    "cg.ax_heatmap.set_ylabel('')\n",
    "\n",
    "cg.ax_heatmap.set_position([cg.ax_heatmap.get_position().x0, cg.ax_heatmap.get_position().y0,\n",
    "                           cg.ax_heatmap.get_position().width, cg.ax_heatmap.get_position().height])\n",
    "cg.ax_col_colors.set_position([cg.ax_col_colors.get_position().x0, cg.ax_col_colors.get_position().y0 + 0.010,\n",
    "                              cg.ax_col_colors.get_position().width, cg.ax_col_colors.get_position().height])\n",
    "\n",
    "# pivot_df = hallmarks_df.pivot(columns = 'Condition', values=\"NES\", index = \"Term.1\")\n",
    "\n",
    "# pivot_df.fillna(0, inplace=True)"
   ]
  },
  {
   "cell_type": "markdown",
   "id": "d01a67cf-b8a3-403f-b700-ab18d7461aa2",
   "metadata": {},
   "source": [
    "### GO:BP TERMS"
   ]
  },
  {
   "cell_type": "code",
   "execution_count": null,
   "id": "5307d872-ddf0-41b9-afa0-83c368f70a94",
   "metadata": {
    "tags": []
   },
   "outputs": [],
   "source": [
    "GOBP_terms = combined_gsea_df[combined_gsea_df['Term.1'].str.startswith('GOBP_')]"
   ]
  },
  {
   "cell_type": "code",
   "execution_count": null,
   "id": "3530feda-3dc6-436e-a663-40210d2b544e",
   "metadata": {
    "tags": []
   },
   "outputs": [],
   "source": [
    "GOBP_terms"
   ]
  },
  {
   "cell_type": "code",
   "execution_count": null,
   "id": "79ef3600-6ad7-4711-81e1-46ce11cf5d6e",
   "metadata": {
    "tags": []
   },
   "outputs": [],
   "source": [
    "GOBP_terms['abs_NES'] = abs(GOBP_terms['NES'])"
   ]
  },
  {
   "cell_type": "code",
   "execution_count": null,
   "id": "242729f7-79bc-4bf9-84c9-0dd0bf435d16",
   "metadata": {
    "tags": []
   },
   "outputs": [],
   "source": [
    "top_GOBPs = GOBP_terms.sort_values(by = 'abs_NES', ascending=False).drop_duplicates('Term.1')['Term.1'].head(35).tolist()"
   ]
  },
  {
   "cell_type": "code",
   "execution_count": null,
   "id": "9b6bdd3d-735b-47b3-948d-3f6f1166e873",
   "metadata": {
    "tags": []
   },
   "outputs": [],
   "source": [
    "top_GOBPs"
   ]
  },
  {
   "cell_type": "code",
   "execution_count": null,
   "id": "295d1e5a-976b-432e-8925-2edc40c0a73a",
   "metadata": {
    "tags": []
   },
   "outputs": [],
   "source": [
    "GOBP_terms_df = GOBP_terms[GOBP_terms['Term.1'].isin(top_GOBPs)]"
   ]
  },
  {
   "cell_type": "code",
   "execution_count": null,
   "id": "57dee641-5e76-4eec-b95d-ae7501aa07d2",
   "metadata": {
    "tags": []
   },
   "outputs": [],
   "source": [
    "GOBP_terms_df['Condition'] =  GOBP_terms_df['Condition'].str.replace('_Results_msigdb_3', '', regex=False) "
   ]
  },
  {
   "cell_type": "code",
   "execution_count": null,
   "id": "02805ca6-1c02-400c-b45f-b1583f3e6a42",
   "metadata": {
    "tags": []
   },
   "outputs": [],
   "source": [
    "GOBP_terms_df['Term.1'] =  GOBP_terms_df['Term.1'].str.replace('GOBP_', '', regex=False) "
   ]
  },
  {
   "cell_type": "code",
   "execution_count": null,
   "id": "a9031dd6-14f6-4ab1-a05d-f35c5fdf03fe",
   "metadata": {
    "tags": []
   },
   "outputs": [],
   "source": [
    "def truncate_string(input_string, max_length):\n",
    "    if len(input_string) > max_length:\n",
    "        return input_string[:max_length] + \"...\"\n",
    "    else:\n",
    "        return input_string"
   ]
  },
  {
   "cell_type": "code",
   "execution_count": null,
   "id": "ad57a914-012e-4460-b807-02050e181619",
   "metadata": {
    "tags": []
   },
   "outputs": [],
   "source": [
    "GOBP_terms_df['Term.1_truncated'] = GOBP_terms_df['Term.1'].apply(lambda x: truncate_string(x, 45))"
   ]
  },
  {
   "cell_type": "code",
   "execution_count": null,
   "id": "1c20bcb6-e494-4883-85d4-855f3a511557",
   "metadata": {
    "tags": []
   },
   "outputs": [],
   "source": [
    "GOBP_terms_df.set_index('Term.1_truncated', inplace=True)\n",
    "\n",
    "GOBP_terms_df['Sex'] = GOBP_terms_df['Condition'].str.split('_', expand=True)[[0]]\n",
    "GOBP_terms_df['Treatment'] = GOBP_terms_df['Condition'].str.split('_', expand=True)[1]\n",
    "GOBP_terms_df['Region'] = GOBP_terms_df['Condition'].str.split('_', expand=True)[4]\n",
    "\n",
    "pivot_df_logFC = GOBP_terms_df.pivot(columns = 'Condition', values=\"NES\")\n",
    "pivot_df_pvalues = GOBP_terms_df.pivot(columns = 'Condition', values=\"FDR p-value\")\n",
    "pivot_df_pvalues = pivot_df_pvalues.applymap(lambda x: '*' if x < 0.05 else ' ')\n",
    "\n",
    "pivot_df_logFC.fillna(0, inplace=True)\n",
    "\n",
    "\n",
    "# Map the conditions to colors\n",
    "GOBP_terms_df_unique = GOBP_terms_df[['Condition', 'Sex', 'Treatment','Region']].drop_duplicates()\n",
    "GOBP_terms_df_unique.set_index(\"Condition\", inplace=True)\n",
    "\n",
    "sex_colors = ['#c66874','#67c1ca']\n",
    "treatment_colors = ['#687ac8','#c8b866']\n",
    "region_colors = ['#c98367',  '#6ac989','#9c69c8']\n",
    "\n",
    "sex_lut = dict(zip(GOBP_terms_df_unique['Sex'].unique(), sex_colors))\n",
    "treatment_lut = dict(zip(GOBP_terms_df_unique['Treatment'].unique(), treatment_colors))\n",
    "region_lut = dict(zip(GOBP_terms_df_unique['Region'].unique(), region_colors))\n",
    "\n",
    "# Convert the conditions to a DataFrame of colors\n",
    "col_colors  = pd.DataFrame(index=pivot_df_logFC.columns)\n",
    "col_colors['Sex'] = GOBP_terms_df_unique['Sex'].map(sex_lut)\n",
    "col_colors['Treatment'] = GOBP_terms_df_unique['Treatment'].map(treatment_lut)\n",
    "col_colors['Region'] = GOBP_terms_df_unique['Region'].map(region_lut)\n",
    "\n",
    "legend_elements = []\n",
    "for cond, cmap in zip(['Sex', 'Treatment', 'Region'], [sex_colors, treatment_colors, region_colors]):\n",
    "    legend_elements.append(Patch(facecolor='none', edgecolor='none', label=cond + ':'))\n",
    "    for label, color in zip(GOBP_terms_df_unique[cond].unique(), cmap):\n",
    "        legend_elements.append(Patch(facecolor=color, label=label))\n",
    "\n",
    "\n",
    "# Create the clustermap\n",
    "cg = sns.clustermap(pivot_df_logFC[predefined_order], cmap=\"vlag\", figsize=(10, 10), linewidths=0.75, linecolor= 'black',\n",
    "                    dendrogram_ratio=(.175, .025), center=0, annot=pivot_df_pvalues[predefined_order], fmt='',\n",
    "                    col_colors =col_colors, xticklabels=False, square=True, cbar_pos=(0.02, 0.55, 0.05, 0.18), col_cluster=False)\n",
    "cg.ax_row_dendrogram.set_visible(False) #suppress row dendrogram\n",
    "cg.ax_col_dendrogram.set_visible(False) #suppress row dendrogram\n",
    "cg.cax.set_title('NES', pad=10)\n",
    "cond_legend = cg.ax_heatmap.legend(labels=[f'p-value < 0.05'], frameon=False, handles=[plt.Line2D([], [], marker='*', color='black', linestyle='None', lw=2)], bbox_to_anchor=(0.01, 0.575))\n",
    "cg.ax_heatmap.add_artist(cond_legend)\n",
    "cg.ax_heatmap.legend(handles=legend_elements, bbox_to_anchor=(0, 1.15), ncol=1, frameon=False)\n",
    "\n",
    "# Manually set the x-axis title at the top\n",
    "cg.ax_heatmap.set_title('Condition', y=1.125)\n",
    "\n",
    "# Optionally, if you want to remove the default x-axis label\n",
    "cg.ax_heatmap.set_xlabel('')\n",
    "cg.ax_heatmap.set_ylabel('')\n",
    "\n",
    "cg.ax_heatmap.set_position([cg.ax_heatmap.get_position().x0, cg.ax_heatmap.get_position().y0,\n",
    "                           cg.ax_heatmap.get_position().width, cg.ax_heatmap.get_position().height])\n",
    "cg.ax_col_colors.set_position([cg.ax_col_colors.get_position().x0, cg.ax_col_colors.get_position().y0 + 0.010,\n",
    "                              cg.ax_col_colors.get_position().width, cg.ax_col_colors.get_position().height])"
   ]
  },
  {
   "cell_type": "markdown",
   "id": "3b700d9a-1999-4f61-b1f2-c4f62d46a106",
   "metadata": {},
   "source": [
    "Can we also check that they are responding differently between pericentral and periportal in the different conditions? "
   ]
  },
  {
   "cell_type": "code",
   "execution_count": null,
   "id": "89d531b6-8626-4a01-9132-6856dd1dc0e4",
   "metadata": {},
   "outputs": [],
   "source": [
    "GOBP_terms"
   ]
  },
  {
   "cell_type": "markdown",
   "id": "76f3c234-12b7-419b-90a9-114028ed9221",
   "metadata": {},
   "source": [
    "### Male AAV9 "
   ]
  },
  {
   "cell_type": "code",
   "execution_count": null,
   "id": "210bde1b-120b-40f1-9acf-0a77a65ce3e5",
   "metadata": {
    "tags": []
   },
   "outputs": [],
   "source": [
    "conditions_to_check=['male_AVV9_vs_Control_pericentral_Results_msigdb_3','male_AVV9_vs_Control_periportal_Results_msigdb_3']\n",
    "combined_df.fillna(1, inplace=True)"
   ]
  },
  {
   "cell_type": "code",
   "execution_count": null,
   "id": "39282aa8-0e54-4efc-a022-51839bbee210",
   "metadata": {
    "tags": []
   },
   "outputs": [],
   "source": [
    "filtered_df = GOBP_terms[GOBP_terms['Condition'].isin(conditions_to_check)]"
   ]
  },
  {
   "cell_type": "code",
   "execution_count": null,
   "id": "63ec8fda-7682-4172-a1a7-7306ce6cc462",
   "metadata": {
    "tags": []
   },
   "outputs": [],
   "source": [
    "filtered_df"
   ]
  },
  {
   "cell_type": "code",
   "execution_count": null,
   "id": "40b8baa3-28df-4ab2-a9f5-0d58f4c272a6",
   "metadata": {
    "tags": []
   },
   "outputs": [],
   "source": [
    "all_terms = filtered_df['Term.1'].unique().tolist()"
   ]
  },
  {
   "cell_type": "code",
   "execution_count": null,
   "id": "444f5125-1d3f-48a4-8b82-fef7d62f6e09",
   "metadata": {
    "tags": []
   },
   "outputs": [],
   "source": [
    "different_terms = []\n",
    "\n",
    "for current_term in all_terms:\n",
    "    \n",
    "    filtered_df_term = filtered_df[filtered_df['Term.1'] == current_term]\n",
    "    \n",
    "    conditions = filtered_df_term['Condition'].unique()\n",
    "\n",
    "    if len(conditions) < 2: \n",
    "        continue\n",
    "        # if (filtered_df_gene['padj'] < 0.05).tolist()[0]:\n",
    "        #    different_genes.append(current_gene)\n",
    "    else:\n",
    "        # Define your specific criteria here (for demonstration, using arbitrary conditions)\n",
    "        \n",
    "        criteria_met = (any(filtered_df_term['NOM p-value'] < 0.05) ) and \\\n",
    "                    (filtered_df_term['NES'].tolist()[0] * filtered_df_term['NES'].tolist()[1] < 0)\n",
    "        \n",
    "        if criteria_met:\n",
    "            different_terms.append(current_term)"
   ]
  },
  {
   "cell_type": "code",
   "execution_count": null,
   "id": "557d46c6-df00-4e14-8bf5-a8378b2e6d0e",
   "metadata": {},
   "outputs": [],
   "source": [
    "different_terms"
   ]
  },
  {
   "cell_type": "code",
   "execution_count": null,
   "id": "316bbe6a-f7fd-4de8-8ca8-330b1a795165",
   "metadata": {
    "tags": []
   },
   "outputs": [],
   "source": [
    "GOBP_terms_df = GOBP_terms[GOBP_terms['Term.1'].isin(different_terms) & GOBP_terms['Condition'].isin(conditions_to_check)]"
   ]
  },
  {
   "cell_type": "code",
   "execution_count": null,
   "id": "93b32718-9c0b-4cb2-bbc8-70a97107c213",
   "metadata": {
    "tags": []
   },
   "outputs": [],
   "source": [
    "GOBP_terms_df['Condition'] =  GOBP_terms_df['Condition'].str.replace('_Results_msigdb_3', '', regex=False) "
   ]
  },
  {
   "cell_type": "code",
   "execution_count": null,
   "id": "ef93c3e7-8e4e-4012-8f46-8898fa91c4ac",
   "metadata": {
    "tags": []
   },
   "outputs": [],
   "source": [
    "GOBP_terms_df['Term.1'] =  GOBP_terms_df['Term.1'].str.replace('GOBP_', '', regex=False) "
   ]
  },
  {
   "cell_type": "code",
   "execution_count": null,
   "id": "97599875-d1e5-4323-94f3-f97600a31e10",
   "metadata": {
    "tags": []
   },
   "outputs": [],
   "source": [
    "def truncate_string(input_string, max_length):\n",
    "    if len(input_string) > max_length:\n",
    "        return input_string[:max_length] + \"...\"\n",
    "    else:\n",
    "        return input_string"
   ]
  },
  {
   "cell_type": "code",
   "execution_count": null,
   "id": "4af98f5d-1798-4550-968b-1b9479d86e15",
   "metadata": {
    "tags": []
   },
   "outputs": [],
   "source": [
    "GOBP_terms_df['Term.1_truncated'] = GOBP_terms_df['Term.1'].apply(lambda x: truncate_string(x, 45))"
   ]
  },
  {
   "cell_type": "code",
   "execution_count": null,
   "id": "634bef7c-d24a-4a89-afc1-079dfa1b0a2c",
   "metadata": {
    "tags": []
   },
   "outputs": [],
   "source": [
    "GOBP_terms_df.set_index('Term.1_truncated', inplace=True)\n",
    "\n",
    "GOBP_terms_df['Sex'] = GOBP_terms_df['Condition'].str.split('_', expand=True)[[0]]\n",
    "GOBP_terms_df['Treatment'] = GOBP_terms_df['Condition'].str.split('_', expand=True)[1]\n",
    "GOBP_terms_df['Region'] = GOBP_terms_df['Condition'].str.split('_', expand=True)[4]\n",
    "\n",
    "pivot_df_logFC = GOBP_terms_df.pivot(columns = 'Condition', values=\"NES\")\n",
    "pivot_df_pvalues = GOBP_terms_df.pivot(columns = 'Condition', values=\"FDR p-value\")\n",
    "pivot_df_pvalues = pivot_df_pvalues.applymap(lambda x: '*' if x < 0.05 else ' ')\n",
    "\n",
    "pivot_df_logFC.fillna(0, inplace=True)\n",
    "\n",
    "\n",
    "# Map the conditions to colors\n",
    "GOBP_terms_df_unique = GOBP_terms_df[['Condition', 'Sex', 'Treatment','Region']].drop_duplicates()\n",
    "GOBP_terms_df_unique.set_index(\"Condition\", inplace=True)\n",
    "\n",
    "sex_colors = ['#c66874','#67c1ca']\n",
    "treatment_colors = ['#687ac8','#c8b866']\n",
    "region_colors = ['#c98367',  '#6ac989','#9c69c8']\n",
    "\n",
    "sex_lut = dict(zip(GOBP_terms_df_unique['Sex'].unique(), sex_colors))\n",
    "treatment_lut = dict(zip(GOBP_terms_df_unique['Treatment'].unique(), treatment_colors))\n",
    "region_lut = dict(zip(GOBP_terms_df_unique['Region'].unique(), region_colors))\n",
    "\n",
    "# Convert the conditions to a DataFrame of colors\n",
    "col_colors  = pd.DataFrame(index=pivot_df_logFC.columns)\n",
    "col_colors['Sex'] = GOBP_terms_df_unique['Sex'].map(sex_lut)\n",
    "col_colors['Treatment'] = GOBP_terms_df_unique['Treatment'].map(treatment_lut)\n",
    "col_colors['Region'] = GOBP_terms_df_unique['Region'].map(region_lut)\n",
    "\n",
    "legend_elements = []\n",
    "for cond, cmap in zip(['Sex', 'Treatment', 'Region'], [sex_colors, treatment_colors, region_colors]):\n",
    "    legend_elements.append(Patch(facecolor='none', edgecolor='none', label=cond + ':'))\n",
    "    for label, color in zip(GOBP_terms_df_unique[cond].unique(), cmap):\n",
    "        legend_elements.append(Patch(facecolor=color, label=label))\n",
    "\n",
    "\n",
    "# Create the clustermap\n",
    "cg = sns.clustermap(pivot_df_logFC, cmap=\"vlag\", figsize=(10, 10), linewidths=0.75, linecolor= 'black',\n",
    "                    dendrogram_ratio=(.175, .025), center=0, annot=pivot_df_pvalues, fmt='',\n",
    "                    col_colors =col_colors, xticklabels=False, square=True, cbar_pos=(0.02, 0.55, 0.05, 0.18), col_cluster=False)\n",
    "cg.ax_row_dendrogram.set_visible(False) #suppress row dendrogram\n",
    "cg.ax_col_dendrogram.set_visible(False) #suppress row dendrogram\n",
    "cg.cax.set_title('NES', pad=10)\n",
    "cond_legend = cg.ax_heatmap.legend(labels=[f'p-value < 0.05'], frameon=False, handles=[plt.Line2D([], [], marker='*', color='black', linestyle='None', lw=2)], bbox_to_anchor=(0.01, 0.575))\n",
    "cg.ax_heatmap.add_artist(cond_legend)\n",
    "cg.ax_heatmap.legend(handles=legend_elements, bbox_to_anchor=(0, 1.15), ncol=1, frameon=False)\n",
    "\n",
    "# Manually set the x-axis title at the top\n",
    "cg.ax_heatmap.set_title('Condition', y=1.125)\n",
    "\n",
    "# Optionally, if you want to remove the default x-axis label\n",
    "cg.ax_heatmap.set_xlabel('')\n",
    "cg.ax_heatmap.set_ylabel('')\n",
    "\n",
    "cg.ax_heatmap.set_position([cg.ax_heatmap.get_position().x0, cg.ax_heatmap.get_position().y0,\n",
    "                           cg.ax_heatmap.get_position().width, cg.ax_heatmap.get_position().height])\n",
    "cg.ax_col_colors.set_position([cg.ax_col_colors.get_position().x0, cg.ax_col_colors.get_position().y0 + 0.010,\n",
    "                              cg.ax_col_colors.get_position().width, cg.ax_col_colors.get_position().height])"
   ]
  },
  {
   "cell_type": "markdown",
   "id": "090ee075-dec8-4e5f-97f9-fd19cf2e855e",
   "metadata": {},
   "source": [
    "### Male AAV2 "
   ]
  },
  {
   "cell_type": "code",
   "execution_count": null,
   "id": "28a2b5a7-28b2-4c9a-b9b7-3f1f987dedba",
   "metadata": {
    "tags": []
   },
   "outputs": [],
   "source": [
    "conditions_to_check=['male_AVV2_vs_Control_pericentral_Results_msigdb_3','male_AVV2_vs_Control_periportal_Results_msigdb_3']\n",
    "combined_df.fillna(1, inplace=True)"
   ]
  },
  {
   "cell_type": "code",
   "execution_count": null,
   "id": "0b516e99-e85e-4a71-b9d1-1392233e9395",
   "metadata": {
    "tags": []
   },
   "outputs": [],
   "source": [
    "filtered_df = GOBP_terms[GOBP_terms['Condition'].isin(conditions_to_check)]"
   ]
  },
  {
   "cell_type": "code",
   "execution_count": null,
   "id": "fd8ff379-c3fb-47e6-99f1-2e783a8548c8",
   "metadata": {
    "tags": []
   },
   "outputs": [],
   "source": [
    "filtered_df"
   ]
  },
  {
   "cell_type": "code",
   "execution_count": null,
   "id": "025cc17a-7f7a-464c-907c-9fa7e541c310",
   "metadata": {
    "tags": []
   },
   "outputs": [],
   "source": [
    "all_terms = filtered_df['Term.1'].unique().tolist()"
   ]
  },
  {
   "cell_type": "code",
   "execution_count": null,
   "id": "613ebdbf-f426-41f5-8324-4b28a3502fce",
   "metadata": {
    "tags": []
   },
   "outputs": [],
   "source": [
    "different_terms = []\n",
    "\n",
    "for current_term in all_terms:\n",
    "    \n",
    "    filtered_df_term = filtered_df[filtered_df['Term.1'] == current_term]\n",
    "    \n",
    "    conditions = filtered_df_term['Condition'].unique()\n",
    "\n",
    "    if len(conditions) < 2: \n",
    "        continue\n",
    "        # if (filtered_df_gene['padj'] < 0.05).tolist()[0]:\n",
    "        #    different_genes.append(current_gene)\n",
    "    else:\n",
    "        # Define your specific criteria here (for demonstration, using arbitrary conditions)\n",
    "        \n",
    "        criteria_met = (any(filtered_df_term['NOM p-value'] < 0.05) ) and \\\n",
    "                    (filtered_df_term['NES'].tolist()[0] * filtered_df_term['NES'].tolist()[1] < 0)\n",
    "        \n",
    "        if criteria_met:\n",
    "            different_terms.append(current_term)"
   ]
  },
  {
   "cell_type": "code",
   "execution_count": null,
   "id": "289591e0-9070-47d2-8be6-04291c3b3b68",
   "metadata": {},
   "outputs": [],
   "source": [
    "different_terms"
   ]
  },
  {
   "cell_type": "code",
   "execution_count": null,
   "id": "81bb0ef0-f57b-44dc-a945-dabaaff769a7",
   "metadata": {
    "tags": []
   },
   "outputs": [],
   "source": [
    "GOBP_terms_df = GOBP_terms[GOBP_terms['Term.1'].isin(different_terms) & GOBP_terms['Condition'].isin(conditions_to_check)]"
   ]
  },
  {
   "cell_type": "code",
   "execution_count": null,
   "id": "8400b65d-1b18-44fd-a940-28d954af8361",
   "metadata": {
    "tags": []
   },
   "outputs": [],
   "source": [
    "GOBP_terms_df['Condition'] =  GOBP_terms_df['Condition'].str.replace('_Results_msigdb_3', '', regex=False) "
   ]
  },
  {
   "cell_type": "code",
   "execution_count": null,
   "id": "4b0f7670-ab6b-4dd7-9227-185bb85b7c90",
   "metadata": {
    "tags": []
   },
   "outputs": [],
   "source": [
    "GOBP_terms_df['Term.1'] =  GOBP_terms_df['Term.1'].str.replace('GOBP_', '', regex=False) "
   ]
  },
  {
   "cell_type": "code",
   "execution_count": null,
   "id": "21df57af-ef3f-4a2f-87ee-7e1e817e5f80",
   "metadata": {
    "tags": []
   },
   "outputs": [],
   "source": [
    "def truncate_string(input_string, max_length):\n",
    "    if len(input_string) > max_length:\n",
    "        return input_string[:max_length] + \"...\"\n",
    "    else:\n",
    "        return input_string"
   ]
  },
  {
   "cell_type": "code",
   "execution_count": null,
   "id": "ab7b20fd-1935-4d2b-b93a-f611beb50657",
   "metadata": {
    "tags": []
   },
   "outputs": [],
   "source": [
    "GOBP_terms_df['Term.1_truncated'] = GOBP_terms_df['Term.1'].apply(lambda x: truncate_string(x, 45))"
   ]
  },
  {
   "cell_type": "code",
   "execution_count": null,
   "id": "43933255-29a3-4bd8-a674-0dc84fc8bbe7",
   "metadata": {
    "tags": []
   },
   "outputs": [],
   "source": [
    "GOBP_terms_df.set_index('Term.1_truncated', inplace=True)\n",
    "\n",
    "GOBP_terms_df['Sex'] = GOBP_terms_df['Condition'].str.split('_', expand=True)[[0]]\n",
    "GOBP_terms_df['Treatment'] = GOBP_terms_df['Condition'].str.split('_', expand=True)[1]\n",
    "GOBP_terms_df['Region'] = GOBP_terms_df['Condition'].str.split('_', expand=True)[4]\n",
    "\n",
    "pivot_df_logFC = GOBP_terms_df.pivot(columns = 'Condition', values=\"NES\")\n",
    "pivot_df_pvalues = GOBP_terms_df.pivot(columns = 'Condition', values=\"FDR p-value\")\n",
    "pivot_df_pvalues = pivot_df_pvalues.applymap(lambda x: '*' if x < 0.05 else ' ')\n",
    "\n",
    "pivot_df_logFC.fillna(0, inplace=True)\n",
    "\n",
    "\n",
    "# Map the conditions to colors\n",
    "GOBP_terms_df_unique = GOBP_terms_df[['Condition', 'Sex', 'Treatment','Region']].drop_duplicates()\n",
    "GOBP_terms_df_unique.set_index(\"Condition\", inplace=True)\n",
    "\n",
    "sex_colors = ['#c66874','#67c1ca']\n",
    "treatment_colors = ['#687ac8','#c8b866']\n",
    "region_colors = ['#c98367',  '#6ac989','#9c69c8']\n",
    "\n",
    "sex_lut = dict(zip(GOBP_terms_df_unique['Sex'].unique(), sex_colors))\n",
    "treatment_lut = dict(zip(GOBP_terms_df_unique['Treatment'].unique(), treatment_colors))\n",
    "region_lut = dict(zip(GOBP_terms_df_unique['Region'].unique(), region_colors))\n",
    "\n",
    "# Convert the conditions to a DataFrame of colors\n",
    "col_colors  = pd.DataFrame(index=pivot_df_logFC.columns)\n",
    "col_colors['Sex'] = GOBP_terms_df_unique['Sex'].map(sex_lut)\n",
    "col_colors['Treatment'] = GOBP_terms_df_unique['Treatment'].map(treatment_lut)\n",
    "col_colors['Region'] = GOBP_terms_df_unique['Region'].map(region_lut)\n",
    "\n",
    "legend_elements = []\n",
    "for cond, cmap in zip(['Sex', 'Treatment', 'Region'], [sex_colors, treatment_colors, region_colors]):\n",
    "    legend_elements.append(Patch(facecolor='none', edgecolor='none', label=cond + ':'))\n",
    "    for label, color in zip(GOBP_terms_df_unique[cond].unique(), cmap):\n",
    "        legend_elements.append(Patch(facecolor=color, label=label))\n",
    "\n",
    "\n",
    "# Create the clustermap\n",
    "cg = sns.clustermap(pivot_df_logFC, cmap=\"vlag\", figsize=(10, 14), linewidths=0.75, linecolor= 'black',\n",
    "                    dendrogram_ratio=(.175, .025), center=0, annot=pivot_df_pvalues, fmt='',\n",
    "                    col_colors =col_colors, xticklabels=False, square=True, cbar_pos=(0.02, 0.55, 0.05, 0.18), col_cluster=False)\n",
    "cg.ax_row_dendrogram.set_visible(False) #suppress row dendrogram\n",
    "cg.ax_col_dendrogram.set_visible(False) #suppress row dendrogram\n",
    "cg.cax.set_title('NES', pad=10)\n",
    "cond_legend = cg.ax_heatmap.legend(labels=[f'p-value < 0.05'], frameon=False, handles=[plt.Line2D([], [], marker='*', color='black', linestyle='None', lw=2)], bbox_to_anchor=(0.01, 0.575))\n",
    "cg.ax_heatmap.add_artist(cond_legend)\n",
    "cg.ax_heatmap.legend(handles=legend_elements, bbox_to_anchor=(0, 1.15), ncol=1, frameon=False)\n",
    "\n",
    "# Manually set the x-axis title at the top\n",
    "cg.ax_heatmap.set_title('Condition', y=1.125)\n",
    "\n",
    "# Optionally, if you want to remove the default x-axis label\n",
    "cg.ax_heatmap.set_xlabel('')\n",
    "cg.ax_heatmap.set_ylabel('')\n",
    "\n",
    "cg.ax_heatmap.set_position([cg.ax_heatmap.get_position().x0, cg.ax_heatmap.get_position().y0,\n",
    "                           cg.ax_heatmap.get_position().width, cg.ax_heatmap.get_position().height])\n",
    "cg.ax_col_colors.set_position([cg.ax_col_colors.get_position().x0, cg.ax_col_colors.get_position().y0 + 0.010,\n",
    "                              cg.ax_col_colors.get_position().width, cg.ax_col_colors.get_position().height])"
   ]
  },
  {
   "cell_type": "markdown",
   "id": "2b61b13e-cb36-4762-8d40-962236330431",
   "metadata": {},
   "source": [
    "### Female AAV9 "
   ]
  },
  {
   "cell_type": "code",
   "execution_count": null,
   "id": "d4ef2940-2f58-41ab-a38d-471057864207",
   "metadata": {
    "tags": []
   },
   "outputs": [],
   "source": [
    "conditions_to_check=['female_AVV9_vs_Control_pericentral_Results_msigdb_3','female_AVV9_vs_Control_periportal_Results_msigdb_3']\n",
    "combined_df.fillna(1, inplace=True)"
   ]
  },
  {
   "cell_type": "code",
   "execution_count": null,
   "id": "ec24838f-a853-4df5-b03b-24e1ef2ce25e",
   "metadata": {
    "tags": []
   },
   "outputs": [],
   "source": [
    "filtered_df = GOBP_terms[GOBP_terms['Condition'].isin(conditions_to_check)]"
   ]
  },
  {
   "cell_type": "code",
   "execution_count": null,
   "id": "9a7d59af-db43-46dc-b03d-c4047fe53675",
   "metadata": {
    "tags": []
   },
   "outputs": [],
   "source": [
    "filtered_df"
   ]
  },
  {
   "cell_type": "code",
   "execution_count": null,
   "id": "a8f0cde9-a6a5-4b91-9a85-4efd8bd26fa0",
   "metadata": {
    "tags": []
   },
   "outputs": [],
   "source": [
    "all_terms = filtered_df['Term.1'].unique().tolist()"
   ]
  },
  {
   "cell_type": "code",
   "execution_count": null,
   "id": "e8e43f9c-2531-470a-94a2-84f8f790b2f9",
   "metadata": {
    "tags": []
   },
   "outputs": [],
   "source": [
    "different_terms = []\n",
    "\n",
    "for current_term in all_terms:\n",
    "    \n",
    "    filtered_df_term = filtered_df[filtered_df['Term.1'] == current_term]\n",
    "    \n",
    "    conditions = filtered_df_term['Condition'].unique()\n",
    "\n",
    "    if len(conditions) < 2: \n",
    "        continue\n",
    "        # if (filtered_df_gene['padj'] < 0.05).tolist()[0]:\n",
    "        #    different_genes.append(current_gene)\n",
    "    else:\n",
    "        # Define your specific criteria here (for demonstration, using arbitrary conditions)\n",
    "        \n",
    "        criteria_met = (any(filtered_df_term['NOM p-value'] < 0.05) ) and \\\n",
    "                    (filtered_df_term['NES'].tolist()[0] * filtered_df_term['NES'].tolist()[1] < 0)\n",
    "        \n",
    "        if criteria_met:\n",
    "            different_terms.append(current_term)"
   ]
  },
  {
   "cell_type": "code",
   "execution_count": null,
   "id": "32f83f0d-9ea4-464d-9d10-661cbcc830fd",
   "metadata": {},
   "outputs": [],
   "source": [
    "different_terms"
   ]
  },
  {
   "cell_type": "code",
   "execution_count": null,
   "id": "e74776aa-d879-4226-8ae9-7174692c6c47",
   "metadata": {
    "tags": []
   },
   "outputs": [],
   "source": [
    "GOBP_terms_df = GOBP_terms[GOBP_terms['Term.1'].isin(different_terms) & GOBP_terms['Condition'].isin(conditions_to_check)]"
   ]
  },
  {
   "cell_type": "code",
   "execution_count": null,
   "id": "f2ee8a2d-5d1e-4a24-be5f-f2571e83d34a",
   "metadata": {
    "tags": []
   },
   "outputs": [],
   "source": [
    "GOBP_terms_df['Condition'] =  GOBP_terms_df['Condition'].str.replace('_Results_msigdb_3', '', regex=False) "
   ]
  },
  {
   "cell_type": "code",
   "execution_count": null,
   "id": "a3fbf189-40ed-43d3-b7da-17e7383e6c9a",
   "metadata": {
    "tags": []
   },
   "outputs": [],
   "source": [
    "GOBP_terms_df['Term.1'] =  GOBP_terms_df['Term.1'].str.replace('GOBP_', '', regex=False) "
   ]
  },
  {
   "cell_type": "code",
   "execution_count": null,
   "id": "033e4df4-a779-4a54-ac65-e2d2bff1669d",
   "metadata": {
    "tags": []
   },
   "outputs": [],
   "source": [
    "def truncate_string(input_string, max_length):\n",
    "    if len(input_string) > max_length:\n",
    "        return input_string[:max_length] + \"...\"\n",
    "    else:\n",
    "        return input_string"
   ]
  },
  {
   "cell_type": "code",
   "execution_count": null,
   "id": "98bfbef4-c0bc-4eaa-b645-44b3f2de5a73",
   "metadata": {
    "tags": []
   },
   "outputs": [],
   "source": [
    "GOBP_terms_df['Term.1_truncated'] = GOBP_terms_df['Term.1'].apply(lambda x: truncate_string(x, 45))"
   ]
  },
  {
   "cell_type": "code",
   "execution_count": null,
   "id": "07e1b7c6-a77f-4c08-8879-19df489a7a0b",
   "metadata": {
    "tags": []
   },
   "outputs": [],
   "source": [
    "GOBP_terms_df.set_index('Term.1_truncated', inplace=True)\n",
    "\n",
    "GOBP_terms_df['Sex'] = GOBP_terms_df['Condition'].str.split('_', expand=True)[[0]]\n",
    "GOBP_terms_df['Treatment'] = GOBP_terms_df['Condition'].str.split('_', expand=True)[1]\n",
    "GOBP_terms_df['Region'] = GOBP_terms_df['Condition'].str.split('_', expand=True)[4]\n",
    "\n",
    "pivot_df_logFC = GOBP_terms_df.pivot(columns = 'Condition', values=\"NES\")\n",
    "pivot_df_pvalues = GOBP_terms_df.pivot(columns = 'Condition', values=\"FDR p-value\")\n",
    "pivot_df_pvalues = pivot_df_pvalues.applymap(lambda x: '*' if x < 0.05 else ' ')\n",
    "\n",
    "pivot_df_logFC.fillna(0, inplace=True)\n",
    "\n",
    "\n",
    "# Map the conditions to colors\n",
    "GOBP_terms_df_unique = GOBP_terms_df[['Condition', 'Sex', 'Treatment','Region']].drop_duplicates()\n",
    "GOBP_terms_df_unique.set_index(\"Condition\", inplace=True)\n",
    "\n",
    "sex_colors = ['#c66874','#67c1ca']\n",
    "treatment_colors = ['#687ac8','#c8b866']\n",
    "region_colors = ['#c98367',  '#6ac989','#9c69c8']\n",
    "\n",
    "sex_lut = dict(zip(GOBP_terms_df_unique['Sex'].unique(), sex_colors))\n",
    "treatment_lut = dict(zip(GOBP_terms_df_unique['Treatment'].unique(), treatment_colors))\n",
    "region_lut = dict(zip(GOBP_terms_df_unique['Region'].unique(), region_colors))\n",
    "\n",
    "# Convert the conditions to a DataFrame of colors\n",
    "col_colors  = pd.DataFrame(index=pivot_df_logFC.columns)\n",
    "col_colors['Sex'] = GOBP_terms_df_unique['Sex'].map(sex_lut)\n",
    "col_colors['Treatment'] = GOBP_terms_df_unique['Treatment'].map(treatment_lut)\n",
    "col_colors['Region'] = GOBP_terms_df_unique['Region'].map(region_lut)\n",
    "\n",
    "legend_elements = []\n",
    "for cond, cmap in zip(['Sex', 'Treatment', 'Region'], [sex_colors, treatment_colors, region_colors]):\n",
    "    legend_elements.append(Patch(facecolor='none', edgecolor='none', label=cond + ':'))\n",
    "    for label, color in zip(GOBP_terms_df_unique[cond].unique(), cmap):\n",
    "        legend_elements.append(Patch(facecolor=color, label=label))\n",
    "\n",
    "\n",
    "# Create the clustermap\n",
    "cg = sns.clustermap(pivot_df_logFC, cmap=\"vlag\", figsize=(10, 10), linewidths=0.75, linecolor= 'black',\n",
    "                    dendrogram_ratio=(.175, .025), center=0, annot=pivot_df_pvalues, fmt='',\n",
    "                    col_colors =col_colors, xticklabels=False, square=True, cbar_pos=(0.02, 0.55, 0.05, 0.18), col_cluster=False)\n",
    "cg.ax_row_dendrogram.set_visible(False) #suppress row dendrogram\n",
    "cg.ax_col_dendrogram.set_visible(False) #suppress row dendrogram\n",
    "cg.cax.set_title('NES', pad=10)\n",
    "cond_legend = cg.ax_heatmap.legend(labels=[f'p-value < 0.05'], frameon=False, handles=[plt.Line2D([], [], marker='*', color='black', linestyle='None', lw=2)], bbox_to_anchor=(0.01, 0.575))\n",
    "cg.ax_heatmap.add_artist(cond_legend)\n",
    "cg.ax_heatmap.legend(handles=legend_elements, bbox_to_anchor=(0, 1.15), ncol=1, frameon=False)\n",
    "\n",
    "# Manually set the x-axis title at the top\n",
    "cg.ax_heatmap.set_title('Condition', y=1.125)\n",
    "\n",
    "# Optionally, if you want to remove the default x-axis label\n",
    "cg.ax_heatmap.set_xlabel('')\n",
    "cg.ax_heatmap.set_ylabel('')\n",
    "\n",
    "cg.ax_heatmap.set_position([cg.ax_heatmap.get_position().x0, cg.ax_heatmap.get_position().y0,\n",
    "                           cg.ax_heatmap.get_position().width, cg.ax_heatmap.get_position().height])\n",
    "cg.ax_col_colors.set_position([cg.ax_col_colors.get_position().x0, cg.ax_col_colors.get_position().y0 + 0.010,\n",
    "                              cg.ax_col_colors.get_position().width, cg.ax_col_colors.get_position().height])"
   ]
  },
  {
   "cell_type": "markdown",
   "id": "8781e8c1-c037-4727-bdf5-0bfeac2676c0",
   "metadata": {},
   "source": [
    "### Female AAV2 "
   ]
  },
  {
   "cell_type": "code",
   "execution_count": null,
   "id": "93849fa0-f325-47eb-8b46-00a506c0b819",
   "metadata": {
    "tags": []
   },
   "outputs": [],
   "source": [
    "conditions_to_check=['female_AVV2_vs_Control_pericentral_Results_msigdb_3','female_AVV2_vs_Control_periportal_Results_msigdb_3']\n",
    "combined_df.fillna(1, inplace=True)"
   ]
  },
  {
   "cell_type": "code",
   "execution_count": null,
   "id": "e82819a1-d123-4341-a0d3-05031282e24d",
   "metadata": {
    "tags": []
   },
   "outputs": [],
   "source": [
    "filtered_df = GOBP_terms[GOBP_terms['Condition'].isin(conditions_to_check)]"
   ]
  },
  {
   "cell_type": "code",
   "execution_count": null,
   "id": "7b06117d-0de4-4e15-bfb5-f7da3f1e926f",
   "metadata": {
    "tags": []
   },
   "outputs": [],
   "source": [
    "filtered_df"
   ]
  },
  {
   "cell_type": "code",
   "execution_count": null,
   "id": "fe12774f-0209-4693-a9e4-a8179689c9c2",
   "metadata": {
    "tags": []
   },
   "outputs": [],
   "source": [
    "all_terms = filtered_df['Term.1'].unique().tolist()"
   ]
  },
  {
   "cell_type": "code",
   "execution_count": null,
   "id": "1cf8edaf-5db8-4621-80e0-1d14813b0a74",
   "metadata": {
    "tags": []
   },
   "outputs": [],
   "source": [
    "different_terms = []\n",
    "\n",
    "for current_term in all_terms:\n",
    "    \n",
    "    filtered_df_term = filtered_df[filtered_df['Term.1'] == current_term]\n",
    "    \n",
    "    conditions = filtered_df_term['Condition'].unique()\n",
    "\n",
    "    if len(conditions) < 2: \n",
    "        continue\n",
    "        # if (filtered_df_gene['padj'] < 0.05).tolist()[0]:\n",
    "        #    different_genes.append(current_gene)\n",
    "    else:\n",
    "        # Define your specific criteria here (for demonstration, using arbitrary conditions)\n",
    "        \n",
    "        criteria_met = (any(filtered_df_term['NOM p-value'] < 0.05) ) and \\\n",
    "                    (filtered_df_term['NES'].tolist()[0] * filtered_df_term['NES'].tolist()[1] < 0)\n",
    "        \n",
    "        if criteria_met:\n",
    "            different_terms.append(current_term)"
   ]
  },
  {
   "cell_type": "code",
   "execution_count": null,
   "id": "59fa5925-5cc3-463f-8561-2c7a9f5aabc1",
   "metadata": {},
   "outputs": [],
   "source": [
    "different_terms"
   ]
  },
  {
   "cell_type": "code",
   "execution_count": null,
   "id": "baac8351-6d9e-4aec-a8f4-8d1aed7b8a19",
   "metadata": {
    "tags": []
   },
   "outputs": [],
   "source": [
    "GOBP_terms_df = GOBP_terms[GOBP_terms['Term.1'].isin(different_terms) & GOBP_terms['Condition'].isin(conditions_to_check)]"
   ]
  },
  {
   "cell_type": "code",
   "execution_count": null,
   "id": "3bb658cc-5eef-49f1-b992-518e7aedf909",
   "metadata": {
    "tags": []
   },
   "outputs": [],
   "source": [
    "GOBP_terms_df['Condition'] =  GOBP_terms_df['Condition'].str.replace('_Results_msigdb_3', '', regex=False) "
   ]
  },
  {
   "cell_type": "code",
   "execution_count": null,
   "id": "2078646a-d783-4d7f-b1ff-26a44cdb8e94",
   "metadata": {
    "tags": []
   },
   "outputs": [],
   "source": [
    "GOBP_terms_df['Term.1'] =  GOBP_terms_df['Term.1'].str.replace('GOBP_', '', regex=False) "
   ]
  },
  {
   "cell_type": "code",
   "execution_count": null,
   "id": "b1d8c989-8dd9-4545-8e96-b876544a4325",
   "metadata": {
    "tags": []
   },
   "outputs": [],
   "source": [
    "def truncate_string(input_string, max_length):\n",
    "    if len(input_string) > max_length:\n",
    "        return input_string[:max_length] + \"...\"\n",
    "    else:\n",
    "        return input_string"
   ]
  },
  {
   "cell_type": "code",
   "execution_count": null,
   "id": "a45c1f5b-38c9-42dd-8b9b-773cd19239f6",
   "metadata": {
    "tags": []
   },
   "outputs": [],
   "source": [
    "GOBP_terms_df['Term.1_truncated'] = GOBP_terms_df['Term.1'].apply(lambda x: truncate_string(x, 45))"
   ]
  },
  {
   "cell_type": "code",
   "execution_count": null,
   "id": "a3b7d2db-56ed-4739-8389-141520688f87",
   "metadata": {
    "tags": []
   },
   "outputs": [],
   "source": [
    "GOBP_terms_df.set_index('Term.1_truncated', inplace=True)\n",
    "\n",
    "GOBP_terms_df['Sex'] = GOBP_terms_df['Condition'].str.split('_', expand=True)[[0]]\n",
    "GOBP_terms_df['Treatment'] = GOBP_terms_df['Condition'].str.split('_', expand=True)[1]\n",
    "GOBP_terms_df['Region'] = GOBP_terms_df['Condition'].str.split('_', expand=True)[4]\n",
    "\n",
    "pivot_df_logFC = GOBP_terms_df.pivot(columns = 'Condition', values=\"NES\")\n",
    "pivot_df_pvalues = GOBP_terms_df.pivot(columns = 'Condition', values=\"FDR p-value\")\n",
    "pivot_df_pvalues = pivot_df_pvalues.applymap(lambda x: '*' if x < 0.05 else ' ')\n",
    "\n",
    "pivot_df_logFC.fillna(0, inplace=True)\n",
    "\n",
    "\n",
    "# Map the conditions to colors\n",
    "GOBP_terms_df_unique = GOBP_terms_df[['Condition', 'Sex', 'Treatment','Region']].drop_duplicates()\n",
    "GOBP_terms_df_unique.set_index(\"Condition\", inplace=True)\n",
    "\n",
    "sex_colors = ['#c66874','#67c1ca']\n",
    "treatment_colors = ['#687ac8','#c8b866']\n",
    "region_colors = ['#c98367',  '#6ac989','#9c69c8']\n",
    "\n",
    "sex_lut = dict(zip(GOBP_terms_df_unique['Sex'].unique(), sex_colors))\n",
    "treatment_lut = dict(zip(GOBP_terms_df_unique['Treatment'].unique(), treatment_colors))\n",
    "region_lut = dict(zip(GOBP_terms_df_unique['Region'].unique(), region_colors))\n",
    "\n",
    "# Convert the conditions to a DataFrame of colors\n",
    "col_colors  = pd.DataFrame(index=pivot_df_logFC.columns)\n",
    "col_colors['Sex'] = GOBP_terms_df_unique['Sex'].map(sex_lut)\n",
    "col_colors['Treatment'] = GOBP_terms_df_unique['Treatment'].map(treatment_lut)\n",
    "col_colors['Region'] = GOBP_terms_df_unique['Region'].map(region_lut)\n",
    "\n",
    "legend_elements = []\n",
    "for cond, cmap in zip(['Sex', 'Treatment', 'Region'], [sex_colors, treatment_colors, region_colors]):\n",
    "    legend_elements.append(Patch(facecolor='none', edgecolor='none', label=cond + ':'))\n",
    "    for label, color in zip(GOBP_terms_df_unique[cond].unique(), cmap):\n",
    "        legend_elements.append(Patch(facecolor=color, label=label))\n",
    "\n",
    "\n",
    "# Create the clustermap\n",
    "cg = sns.clustermap(pivot_df_logFC, cmap=\"vlag\", figsize=(10, 16), linewidths=0.75, linecolor= 'black',\n",
    "                    dendrogram_ratio=(.175, .025), center=0, annot=pivot_df_pvalues, fmt='',\n",
    "                    col_colors =col_colors, xticklabels=False, square=True, cbar_pos=(0.02, 0.55, 0.05, 0.18), col_cluster=False)\n",
    "cg.ax_row_dendrogram.set_visible(False) #suppress row dendrogram\n",
    "cg.ax_col_dendrogram.set_visible(False) #suppress row dendrogram\n",
    "cg.cax.set_title('NES', pad=10)\n",
    "cond_legend = cg.ax_heatmap.legend(labels=[f'p-value < 0.05'], frameon=False, handles=[plt.Line2D([], [], marker='*', color='black', linestyle='None', lw=2)], bbox_to_anchor=(0.01, 0.575))\n",
    "cg.ax_heatmap.add_artist(cond_legend)\n",
    "cg.ax_heatmap.legend(handles=legend_elements, bbox_to_anchor=(0, 1.15), ncol=1, frameon=False)\n",
    "\n",
    "# Manually set the x-axis title at the top\n",
    "cg.ax_heatmap.set_title('Condition', y=1.125)\n",
    "\n",
    "# Optionally, if you want to remove the default x-axis label\n",
    "cg.ax_heatmap.set_xlabel('')\n",
    "cg.ax_heatmap.set_ylabel('')\n",
    "\n",
    "cg.ax_heatmap.set_position([cg.ax_heatmap.get_position().x0, cg.ax_heatmap.get_position().y0,\n",
    "                           cg.ax_heatmap.get_position().width, cg.ax_heatmap.get_position().height])\n",
    "cg.ax_col_colors.set_position([cg.ax_col_colors.get_position().x0, cg.ax_col_colors.get_position().y0 + 0.010,\n",
    "                              cg.ax_col_colors.get_position().width, cg.ax_col_colors.get_position().height])"
   ]
  },
  {
   "cell_type": "markdown",
   "id": "e8942a71-cafe-4b57-9b51-2c6fbdf95df5",
   "metadata": {},
   "source": [
    "### GO:CC TERMS"
   ]
  },
  {
   "cell_type": "code",
   "execution_count": null,
   "id": "53b88e68-77cc-425b-8785-c42ab03a857c",
   "metadata": {
    "tags": []
   },
   "outputs": [],
   "source": [
    "GOCC_terms = combined_gsea_df[combined_gsea_df['Term.1'].str.startswith('GOCC_')]"
   ]
  },
  {
   "cell_type": "code",
   "execution_count": null,
   "id": "a033e100-1bb9-4e8a-846c-506419e9e43c",
   "metadata": {
    "tags": []
   },
   "outputs": [],
   "source": [
    "GOCC_terms"
   ]
  },
  {
   "cell_type": "code",
   "execution_count": null,
   "id": "5c91e8e4-161f-46d7-9b3f-d94d6069476c",
   "metadata": {
    "tags": []
   },
   "outputs": [],
   "source": [
    "GOCC_terms['abs_NES'] = abs(GOCC_terms['NES'])"
   ]
  },
  {
   "cell_type": "code",
   "execution_count": null,
   "id": "bc0fc94f-8131-499d-804a-d6a625688054",
   "metadata": {
    "tags": []
   },
   "outputs": [],
   "source": [
    "top_GOCCs = GOCC_terms.sort_values(by = 'abs_NES', ascending=False).drop_duplicates('Term.1')['Term.1'].head(35).tolist()"
   ]
  },
  {
   "cell_type": "code",
   "execution_count": null,
   "id": "2cc62c2c-b402-47be-90eb-e3f7b10eaced",
   "metadata": {
    "tags": []
   },
   "outputs": [],
   "source": [
    "top_GOCCs"
   ]
  },
  {
   "cell_type": "code",
   "execution_count": null,
   "id": "2a25eb3d-b90f-41c3-b6df-cdd9255433e2",
   "metadata": {
    "tags": []
   },
   "outputs": [],
   "source": [
    "GOCC_terms_df = GOCC_terms[GOCC_terms['Term.1'].isin(top_GOCCs)]"
   ]
  },
  {
   "cell_type": "code",
   "execution_count": null,
   "id": "3b983f8a-4d7f-475a-9764-025d1c3bc481",
   "metadata": {
    "tags": []
   },
   "outputs": [],
   "source": [
    "GOCC_terms_df['Condition'] =  GOCC_terms_df['Condition'].str.replace('_Results_msigdb_3', '', regex=False) "
   ]
  },
  {
   "cell_type": "code",
   "execution_count": null,
   "id": "2cdd3c69-163f-4b13-b1f1-76c6884f3490",
   "metadata": {
    "tags": []
   },
   "outputs": [],
   "source": [
    "GOCC_terms_df['Term.1'] =  GOCC_terms_df['Term.1'].str.replace('GOCC_', '', regex=False) "
   ]
  },
  {
   "cell_type": "code",
   "execution_count": null,
   "id": "546650b6-51c0-4525-8b65-80684b865883",
   "metadata": {
    "tags": []
   },
   "outputs": [],
   "source": [
    "GOCC_terms_df['Term.1_truncated'] = GOCC_terms_df['Term.1'].apply(lambda x: truncate_string(x, 55))"
   ]
  },
  {
   "cell_type": "code",
   "execution_count": null,
   "id": "8c07b6a2-ccbf-44dc-ba87-7d35820ff2f7",
   "metadata": {
    "tags": []
   },
   "outputs": [],
   "source": [
    "GOCC_terms_df.set_index('Term.1_truncated', inplace=True)\n",
    "\n",
    "GOCC_terms_df['Sex'] = GOCC_terms_df['Condition'].str.split('_', expand=True)[[0]]\n",
    "GOCC_terms_df['Treatment'] = GOCC_terms_df['Condition'].str.split('_', expand=True)[1]\n",
    "GOCC_terms_df['Region'] = GOCC_terms_df['Condition'].str.split('_', expand=True)[4]\n",
    "\n",
    "pivot_df_logFC = GOCC_terms_df.pivot(columns = 'Condition', values=\"NES\")\n",
    "pivot_df_pvalues = GOCC_terms_df.pivot(columns = 'Condition', values=\"FDR p-value\")\n",
    "pivot_df_pvalues = pivot_df_pvalues.applymap(lambda x: '*' if x < 0.05 else ' ')\n",
    "\n",
    "pivot_df_logFC.fillna(0, inplace=True)\n",
    "\n",
    "\n",
    "# Map the conditions to colors\n",
    "GOCC_terms_df_unique = GOCC_terms_df[['Condition', 'Sex', 'Treatment','Region']].drop_duplicates()\n",
    "GOCC_terms_df_unique.set_index(\"Condition\", inplace=True)\n",
    "\n",
    "sex_colors = ['#c66874','#67c1ca']\n",
    "treatment_colors = ['#687ac8','#c8b866']\n",
    "region_colors = ['#c98367',  '#6ac989','#9c69c8']\n",
    "\n",
    "sex_lut = dict(zip(GOCC_terms_df_unique['Sex'].unique(), sex_colors))\n",
    "treatment_lut = dict(zip(GOCC_terms_df_unique['Treatment'].unique(), treatment_colors))\n",
    "region_lut = dict(zip(GOCC_terms_df_unique['Region'].unique(), region_colors))\n",
    "\n",
    "# Convert the conditions to a DataFrame of colors\n",
    "col_colors  = pd.DataFrame(index=pivot_df_logFC.columns)\n",
    "col_colors['Sex'] = GOCC_terms_df_unique['Sex'].map(sex_lut)\n",
    "col_colors['Treatment'] = GOCC_terms_df_unique['Treatment'].map(treatment_lut)\n",
    "col_colors['Region'] = GOCC_terms_df_unique['Region'].map(region_lut)\n",
    "\n",
    "legend_elements = []\n",
    "for cond, cmap in zip(['Sex', 'Treatment', 'Region'], [sex_colors, treatment_colors, region_colors]):\n",
    "    legend_elements.append(Patch(facecolor='none', edgecolor='none', label=cond + ':'))\n",
    "    for label, color in zip(GOCC_terms_df_unique[cond].unique(), cmap):\n",
    "        legend_elements.append(Patch(facecolor=color, label=label))\n",
    "\n",
    "\n",
    "# Create the clustermap\n",
    "cg = sns.clustermap(pivot_df_logFC[predefined_order], cmap=\"vlag\", figsize=(10, 10), linewidths=0.75, linecolor= 'black',\n",
    "                    dendrogram_ratio=(.175, .025), center=0, annot=pivot_df_pvalues[predefined_order], fmt='',\n",
    "                    col_colors =col_colors, xticklabels=False, square=True, cbar_pos=(0.02, 0.55, 0.05, 0.18), col_cluster=False)\n",
    "cg.ax_row_dendrogram.set_visible(False) #suppress row dendrogram\n",
    "cg.ax_col_dendrogram.set_visible(False) #suppress row dendrogram\n",
    "cg.cax.set_title('NES', pad=10)\n",
    "cond_legend = cg.ax_heatmap.legend(labels=[f'p-value < 0.05'], frameon=False, handles=[plt.Line2D([], [], marker='*', color='black', linestyle='None', lw=2)], bbox_to_anchor=(0.01, 0.575))\n",
    "cg.ax_heatmap.add_artist(cond_legend)\n",
    "cg.ax_heatmap.legend(handles=legend_elements, bbox_to_anchor=(0, 1.15), ncol=1, frameon=False)\n",
    "\n",
    "# Manually set the x-axis title at the top\n",
    "cg.ax_heatmap.set_title('Condition', y=1.125)\n",
    "\n",
    "# Optionally, if you want to remove the default x-axis label\n",
    "cg.ax_heatmap.set_xlabel('')\n",
    "cg.ax_heatmap.set_ylabel('')\n",
    "\n",
    "cg.ax_heatmap.set_position([cg.ax_heatmap.get_position().x0, cg.ax_heatmap.get_position().y0,\n",
    "                           cg.ax_heatmap.get_position().width, cg.ax_heatmap.get_position().height])\n",
    "cg.ax_col_colors.set_position([cg.ax_col_colors.get_position().x0, cg.ax_col_colors.get_position().y0 + 0.010,\n",
    "                              cg.ax_col_colors.get_position().width, cg.ax_col_colors.get_position().height])"
   ]
  },
  {
   "cell_type": "markdown",
   "id": "dbd7e0e7-3bea-4246-b52f-d403883e6971",
   "metadata": {},
   "source": [
    "Can we also check that they are responding differently between pericentral and periportal in the different conditions? "
   ]
  },
  {
   "cell_type": "code",
   "execution_count": null,
   "id": "8f5eacab-7daf-4655-8b4e-0335640013c3",
   "metadata": {},
   "outputs": [],
   "source": [
    "GOCC_terms"
   ]
  },
  {
   "cell_type": "markdown",
   "id": "3b76f498-aeb9-4555-bb41-f2753a8eb9b0",
   "metadata": {},
   "source": [
    "### Male AAV9 "
   ]
  },
  {
   "cell_type": "code",
   "execution_count": null,
   "id": "84898fa0-83e8-48a7-a5f5-081779b89be8",
   "metadata": {
    "tags": []
   },
   "outputs": [],
   "source": [
    "conditions_to_check=['male_AVV9_vs_Control_pericentral_Results_msigdb_3','male_AVV9_vs_Control_periportal_Results_msigdb_3']\n",
    "combined_df.fillna(1, inplace=True)"
   ]
  },
  {
   "cell_type": "code",
   "execution_count": null,
   "id": "bb4d84f7-701f-4f16-9f4a-de847145b7f5",
   "metadata": {
    "tags": []
   },
   "outputs": [],
   "source": [
    "filtered_df = GOCC_terms[GOCC_terms['Condition'].isin(conditions_to_check)]"
   ]
  },
  {
   "cell_type": "code",
   "execution_count": null,
   "id": "07655332-8560-4c44-b5c5-3cde845d9840",
   "metadata": {
    "tags": []
   },
   "outputs": [],
   "source": [
    "filtered_df"
   ]
  },
  {
   "cell_type": "code",
   "execution_count": null,
   "id": "a3eaf595-e43a-41d9-8673-2f20bb840890",
   "metadata": {
    "tags": []
   },
   "outputs": [],
   "source": [
    "all_terms = filtered_df['Term.1'].unique().tolist()"
   ]
  },
  {
   "cell_type": "code",
   "execution_count": null,
   "id": "813f3060-716d-45aa-b192-33372d36f1c1",
   "metadata": {
    "tags": []
   },
   "outputs": [],
   "source": [
    "different_terms = []\n",
    "\n",
    "for current_term in all_terms:\n",
    "    \n",
    "    filtered_df_term = filtered_df[filtered_df['Term.1'] == current_term]\n",
    "    \n",
    "    conditions = filtered_df_term['Condition'].unique()\n",
    "\n",
    "    if len(conditions) < 2: \n",
    "        continue\n",
    "        # if (filtered_df_gene['padj'] < 0.05).tolist()[0]:\n",
    "        #    different_genes.append(current_gene)\n",
    "    else:\n",
    "        # Define your specific criteria here (for demonstration, using arbitrary conditions)\n",
    "        \n",
    "        criteria_met = (any(filtered_df_term['NOM p-value'] < 0.05) ) and \\\n",
    "                    (filtered_df_term['NES'].tolist()[0] * filtered_df_term['NES'].tolist()[1] < 0)\n",
    "        \n",
    "        if criteria_met:\n",
    "            different_terms.append(current_term)"
   ]
  },
  {
   "cell_type": "code",
   "execution_count": null,
   "id": "565330e0-09ef-485f-8a44-13d3b3bdf1d8",
   "metadata": {},
   "outputs": [],
   "source": [
    "different_terms"
   ]
  },
  {
   "cell_type": "code",
   "execution_count": null,
   "id": "84c828b8-c2a5-447c-8d43-2b86dac8cf13",
   "metadata": {
    "tags": []
   },
   "outputs": [],
   "source": [
    "GOCC_terms_df = GOCC_terms[GOCC_terms['Term.1'].isin(different_terms) & GOCC_terms['Condition'].isin(conditions_to_check)]"
   ]
  },
  {
   "cell_type": "code",
   "execution_count": null,
   "id": "660b655f-5857-4b73-b195-1f96b641d10d",
   "metadata": {
    "tags": []
   },
   "outputs": [],
   "source": [
    "GOCC_terms_df['Condition'] =  GOCC_terms_df['Condition'].str.replace('_Results_msigdb_3', '', regex=False) "
   ]
  },
  {
   "cell_type": "code",
   "execution_count": null,
   "id": "00e6b4cf-43e8-4d1b-8961-a35da93e500b",
   "metadata": {
    "tags": []
   },
   "outputs": [],
   "source": [
    "GOCC_terms_df['Term.1'] =  GOCC_terms_df['Term.1'].str.replace('GOCC_', '', regex=False) "
   ]
  },
  {
   "cell_type": "code",
   "execution_count": null,
   "id": "cf61685b-7657-434a-b631-cbfa48dd0d00",
   "metadata": {
    "tags": []
   },
   "outputs": [],
   "source": [
    "def truncate_string(input_string, max_length):\n",
    "    if len(input_string) > max_length:\n",
    "        return input_string[:max_length] + \"...\"\n",
    "    else:\n",
    "        return input_string"
   ]
  },
  {
   "cell_type": "code",
   "execution_count": null,
   "id": "8e9bc24d-9331-4885-b63a-3bd32045c815",
   "metadata": {
    "tags": []
   },
   "outputs": [],
   "source": [
    "GOCC_terms_df['Term.1_truncated'] = GOCC_terms_df['Term.1'].apply(lambda x: truncate_string(x, 45))"
   ]
  },
  {
   "cell_type": "code",
   "execution_count": null,
   "id": "9d55b1e8-d788-4705-aef9-92d32626a7c6",
   "metadata": {},
   "outputs": [],
   "source": [
    "GOCC_terms_df"
   ]
  },
  {
   "cell_type": "code",
   "execution_count": null,
   "id": "a32f58d5-90b4-4e0a-84de-0ce22a538a06",
   "metadata": {
    "tags": []
   },
   "outputs": [],
   "source": [
    "GOCC_terms_df.set_index('Term.1_truncated', inplace=True)\n",
    "\n",
    "GOCC_terms_df['Sex'] = GOCC_terms_df['Condition'].str.split('_', expand=True)[[0]]\n",
    "GOCC_terms_df['Treatment'] = GOCC_terms_df['Condition'].str.split('_', expand=True)[1]\n",
    "GOCC_terms_df['Region'] = GOCC_terms_df['Condition'].str.split('_', expand=True)[4]\n",
    "\n",
    "pivot_df_logFC = GOCC_terms_df.pivot(columns = 'Condition', values=\"NES\")\n",
    "pivot_df_pvalues = GOCC_terms_df.pivot(columns = 'Condition', values=\"FDR p-value\")\n",
    "pivot_df_pvalues = pivot_df_pvalues.applymap(lambda x: '*' if x < 0.05 else ' ')\n",
    "\n",
    "pivot_df_logFC.fillna(0, inplace=True)\n",
    "\n",
    "\n",
    "# Map the conditions to colors\n",
    "GOCC_terms_df_unique = GOCC_terms_df[['Condition', 'Sex', 'Treatment','Region']].drop_duplicates()\n",
    "GOCC_terms_df_unique.set_index(\"Condition\", inplace=True)\n",
    "\n",
    "sex_colors = ['#c66874','#67c1ca']\n",
    "treatment_colors = ['#687ac8','#c8b866']\n",
    "region_colors = ['#c98367',  '#6ac989','#9c69c8']\n",
    "\n",
    "sex_lut = dict(zip(GOCC_terms_df_unique['Sex'].unique(), sex_colors))\n",
    "treatment_lut = dict(zip(GOCC_terms_df_unique['Treatment'].unique(), treatment_colors))\n",
    "region_lut = dict(zip(GOCC_terms_df_unique['Region'].unique(), region_colors))\n",
    "\n",
    "# Convert the conditions to a DataFrame of colors\n",
    "col_colors  = pd.DataFrame(index=pivot_df_logFC.columns)\n",
    "col_colors['Sex'] = GOCC_terms_df_unique['Sex'].map(sex_lut)\n",
    "col_colors['Treatment'] = GOCC_terms_df_unique['Treatment'].map(treatment_lut)\n",
    "col_colors['Region'] = GOCC_terms_df_unique['Region'].map(region_lut)\n",
    "\n",
    "legend_elements = []\n",
    "for cond, cmap in zip(['Sex', 'Treatment', 'Region'], [sex_colors, treatment_colors, region_colors]):\n",
    "    legend_elements.append(Patch(facecolor='none', edgecolor='none', label=cond + ':'))\n",
    "    for label, color in zip(GOCC_terms_df_unique[cond].unique(), cmap):\n",
    "        legend_elements.append(Patch(facecolor=color, label=label))\n",
    "\n",
    "\n",
    "# Create the clustermap\n",
    "cg = sns.clustermap(pivot_df_logFC, cmap=\"vlag\", figsize=(10, 10), linewidths=0.75, linecolor= 'black',\n",
    "                    dendrogram_ratio=(.175, .025), center=0, annot=pivot_df_pvalues, fmt='',\n",
    "                    col_colors =col_colors, xticklabels=False, square=True, cbar_pos=(0.02, 0.55, 0.05, 0.18), col_cluster=False)\n",
    "cg.ax_row_dendrogram.set_visible(False) #suppress row dendrogram\n",
    "cg.ax_col_dendrogram.set_visible(False) #suppress row dendrogram\n",
    "cg.cax.set_title('NES', pad=10)\n",
    "cond_legend = cg.ax_heatmap.legend(labels=[f'p-value < 0.05'], frameon=False, handles=[plt.Line2D([], [], marker='*', color='black', linestyle='None', lw=2)], bbox_to_anchor=(0.01, 0.575))\n",
    "cg.ax_heatmap.add_artist(cond_legend)\n",
    "cg.ax_heatmap.legend(handles=legend_elements, bbox_to_anchor=(0, 1.15), ncol=1, frameon=False)\n",
    "\n",
    "# Manually set the x-axis title at the top\n",
    "cg.ax_heatmap.set_title('Condition', y=1.125)\n",
    "\n",
    "# Optionally, if you want to remove the default x-axis label\n",
    "cg.ax_heatmap.set_xlabel('')\n",
    "cg.ax_heatmap.set_ylabel('')\n",
    "\n",
    "cg.ax_heatmap.set_position([cg.ax_heatmap.get_position().x0, cg.ax_heatmap.get_position().y0,\n",
    "                           cg.ax_heatmap.get_position().width, cg.ax_heatmap.get_position().height])\n",
    "cg.ax_col_colors.set_position([cg.ax_col_colors.get_position().x0, cg.ax_col_colors.get_position().y0 + 0.010,\n",
    "                              cg.ax_col_colors.get_position().width, cg.ax_col_colors.get_position().height])"
   ]
  },
  {
   "cell_type": "markdown",
   "id": "16ff4035-2998-4620-9bf7-aeb5a9b3d7cf",
   "metadata": {},
   "source": [
    "### Male AAV2 "
   ]
  },
  {
   "cell_type": "code",
   "execution_count": null,
   "id": "24165b86-bc79-4c70-997c-52399bd2d03b",
   "metadata": {
    "tags": []
   },
   "outputs": [],
   "source": [
    "conditions_to_check=['male_AVV2_vs_Control_pericentral_Results_msigdb_3','male_AVV2_vs_Control_periportal_Results_msigdb_3']\n",
    "combined_df.fillna(1, inplace=True)"
   ]
  },
  {
   "cell_type": "code",
   "execution_count": null,
   "id": "3aae0b68-eed1-4809-bb56-8be55fe50de7",
   "metadata": {
    "tags": []
   },
   "outputs": [],
   "source": [
    "filtered_df = GOCC_terms[GOCC_terms['Condition'].isin(conditions_to_check)]"
   ]
  },
  {
   "cell_type": "code",
   "execution_count": null,
   "id": "97485f12-21d4-4015-bfa4-f4bc5c6caf9d",
   "metadata": {
    "tags": []
   },
   "outputs": [],
   "source": [
    "filtered_df"
   ]
  },
  {
   "cell_type": "code",
   "execution_count": null,
   "id": "45a392c4-65cc-46de-8aae-f4090776b262",
   "metadata": {
    "tags": []
   },
   "outputs": [],
   "source": [
    "all_terms = filtered_df['Term.1'].unique().tolist()"
   ]
  },
  {
   "cell_type": "code",
   "execution_count": null,
   "id": "2badc658-aa0e-45e4-90e0-14c28d98b01f",
   "metadata": {
    "tags": []
   },
   "outputs": [],
   "source": [
    "different_terms = []\n",
    "\n",
    "for current_term in all_terms:\n",
    "    \n",
    "    filtered_df_term = filtered_df[filtered_df['Term.1'] == current_term]\n",
    "    \n",
    "    conditions = filtered_df_term['Condition'].unique()\n",
    "\n",
    "    if len(conditions) < 2: \n",
    "        continue\n",
    "        # if (filtered_df_gene['padj'] < 0.05).tolist()[0]:\n",
    "        #    different_genes.append(current_gene)\n",
    "    else:\n",
    "        # Define your specific criteria here (for demonstration, using arbitrary conditions)\n",
    "        \n",
    "        criteria_met = (any(filtered_df_term['NOM p-value'] < 0.05) ) and \\\n",
    "                    (filtered_df_term['NES'].tolist()[0] * filtered_df_term['NES'].tolist()[1] < 0)\n",
    "        \n",
    "        if criteria_met:\n",
    "            different_terms.append(current_term)"
   ]
  },
  {
   "cell_type": "code",
   "execution_count": null,
   "id": "49e798fa-9937-49ae-8f4a-58b941618df9",
   "metadata": {},
   "outputs": [],
   "source": [
    "different_terms"
   ]
  },
  {
   "cell_type": "code",
   "execution_count": null,
   "id": "ccaeca59-4a53-4d93-80c4-960cf5cb0adf",
   "metadata": {
    "tags": []
   },
   "outputs": [],
   "source": [
    "GOCC_terms_df = GOCC_terms[GOCC_terms['Term.1'].isin(different_terms) & GOCC_terms['Condition'].isin(conditions_to_check)]"
   ]
  },
  {
   "cell_type": "code",
   "execution_count": null,
   "id": "91a4a6e2-8091-4123-8994-1dad8e8adea4",
   "metadata": {
    "tags": []
   },
   "outputs": [],
   "source": [
    "GOCC_terms_df['Condition'] =  GOCC_terms_df['Condition'].str.replace('_Results_msigdb_3', '', regex=False) "
   ]
  },
  {
   "cell_type": "code",
   "execution_count": null,
   "id": "587b6198-ecb6-4f40-af9c-31eb9706ee63",
   "metadata": {
    "tags": []
   },
   "outputs": [],
   "source": [
    "GOCC_terms_df['Term.1'] =  GOCC_terms_df['Term.1'].str.replace('GOCC_', '', regex=False) "
   ]
  },
  {
   "cell_type": "code",
   "execution_count": null,
   "id": "6a05bd9f-74ab-416b-bf43-38e40c9aa536",
   "metadata": {
    "tags": []
   },
   "outputs": [],
   "source": [
    "def truncate_string(input_string, max_length):\n",
    "    if len(input_string) > max_length:\n",
    "        return input_string[:max_length] + \"...\"\n",
    "    else:\n",
    "        return input_string"
   ]
  },
  {
   "cell_type": "code",
   "execution_count": null,
   "id": "58abe92c-03a8-4740-b92f-bd1a697037eb",
   "metadata": {
    "tags": []
   },
   "outputs": [],
   "source": [
    "GOCC_terms_df['Term.1_truncated'] = GOCC_terms_df['Term.1'].apply(lambda x: truncate_string(x, 45))"
   ]
  },
  {
   "cell_type": "code",
   "execution_count": null,
   "id": "86b484cd-de9d-41af-99f7-4887a6d0c28e",
   "metadata": {
    "tags": []
   },
   "outputs": [],
   "source": [
    "GOCC_terms_df.set_index('Term.1_truncated', inplace=True)\n",
    "\n",
    "GOCC_terms_df['Sex'] = GOCC_terms_df['Condition'].str.split('_', expand=True)[[0]]\n",
    "GOCC_terms_df['Treatment'] = GOCC_terms_df['Condition'].str.split('_', expand=True)[1]\n",
    "GOCC_terms_df['Region'] = GOCC_terms_df['Condition'].str.split('_', expand=True)[4]\n",
    "\n",
    "pivot_df_logFC = GOCC_terms_df.pivot(columns = 'Condition', values=\"NES\")\n",
    "pivot_df_pvalues = GOCC_terms_df.pivot(columns = 'Condition', values=\"FDR p-value\")\n",
    "pivot_df_pvalues = pivot_df_pvalues.applymap(lambda x: '*' if x < 0.05 else ' ')\n",
    "\n",
    "pivot_df_logFC.fillna(0, inplace=True)\n",
    "\n",
    "\n",
    "# Map the conditions to colors\n",
    "GOCC_terms_df_unique = GOCC_terms_df[['Condition', 'Sex', 'Treatment','Region']].drop_duplicates()\n",
    "GOCC_terms_df_unique.set_index(\"Condition\", inplace=True)\n",
    "\n",
    "sex_colors = ['#c66874','#67c1ca']\n",
    "treatment_colors = ['#687ac8','#c8b866']\n",
    "region_colors = ['#c98367',  '#6ac989','#9c69c8']\n",
    "\n",
    "sex_lut = dict(zip(GOCC_terms_df_unique['Sex'].unique(), sex_colors))\n",
    "treatment_lut = dict(zip(GOCC_terms_df_unique['Treatment'].unique(), treatment_colors))\n",
    "region_lut = dict(zip(GOCC_terms_df_unique['Region'].unique(), region_colors))\n",
    "\n",
    "# Convert the conditions to a DataFrame of colors\n",
    "col_colors  = pd.DataFrame(index=pivot_df_logFC.columns)\n",
    "col_colors['Sex'] = GOCC_terms_df_unique['Sex'].map(sex_lut)\n",
    "col_colors['Treatment'] = GOCC_terms_df_unique['Treatment'].map(treatment_lut)\n",
    "col_colors['Region'] = GOCC_terms_df_unique['Region'].map(region_lut)\n",
    "\n",
    "legend_elements = []\n",
    "for cond, cmap in zip(['Sex', 'Treatment', 'Region'], [sex_colors, treatment_colors, region_colors]):\n",
    "    legend_elements.append(Patch(facecolor='none', edgecolor='none', label=cond + ':'))\n",
    "    for label, color in zip(GOCC_terms_df_unique[cond].unique(), cmap):\n",
    "        legend_elements.append(Patch(facecolor=color, label=label))\n",
    "\n",
    "\n",
    "# Create the clustermap\n",
    "cg = sns.clustermap(pivot_df_logFC, cmap=\"vlag\", figsize=(10, 10), linewidths=0.75, linecolor= 'black',\n",
    "                    dendrogram_ratio=(.175, .025), center=0, annot=pivot_df_pvalues, fmt='',\n",
    "                    col_colors =col_colors, xticklabels=False, square=True, cbar_pos=(0.02, 0.55, 0.05, 0.18), col_cluster=False)\n",
    "cg.ax_row_dendrogram.set_visible(False) #suppress row dendrogram\n",
    "cg.ax_col_dendrogram.set_visible(False) #suppress row dendrogram\n",
    "cg.cax.set_title('NES', pad=10)\n",
    "cond_legend = cg.ax_heatmap.legend(labels=[f'p-value < 0.05'], frameon=False, handles=[plt.Line2D([], [], marker='*', color='black', linestyle='None', lw=2)], bbox_to_anchor=(0.01, 0.575))\n",
    "cg.ax_heatmap.add_artist(cond_legend)\n",
    "cg.ax_heatmap.legend(handles=legend_elements, bbox_to_anchor=(0, 1.15), ncol=1, frameon=False)\n",
    "\n",
    "# Manually set the x-axis title at the top\n",
    "cg.ax_heatmap.set_title('Condition', y=1.125)\n",
    "\n",
    "# Optionally, if you want to remove the default x-axis label\n",
    "cg.ax_heatmap.set_xlabel('')\n",
    "cg.ax_heatmap.set_ylabel('')\n",
    "\n",
    "cg.ax_heatmap.set_position([cg.ax_heatmap.get_position().x0, cg.ax_heatmap.get_position().y0,\n",
    "                           cg.ax_heatmap.get_position().width, cg.ax_heatmap.get_position().height])\n",
    "cg.ax_col_colors.set_position([cg.ax_col_colors.get_position().x0, cg.ax_col_colors.get_position().y0 + 0.010,\n",
    "                              cg.ax_col_colors.get_position().width, cg.ax_col_colors.get_position().height])"
   ]
  },
  {
   "cell_type": "markdown",
   "id": "73f642a1-4d4a-4876-bfc1-6f5c4d4bdb0c",
   "metadata": {},
   "source": [
    "### Female AAV9 "
   ]
  },
  {
   "cell_type": "code",
   "execution_count": null,
   "id": "18c4667a-e4e2-4ddb-8a17-4346f093bfcc",
   "metadata": {
    "tags": []
   },
   "outputs": [],
   "source": [
    "conditions_to_check=['female_AVV9_vs_Control_pericentral_Results_msigdb_3','female_AVV9_vs_Control_periportal_Results_msigdb_3']\n",
    "combined_df.fillna(1, inplace=True)"
   ]
  },
  {
   "cell_type": "code",
   "execution_count": null,
   "id": "792ba406-669c-4f23-ae26-3b4f5948f7ed",
   "metadata": {
    "tags": []
   },
   "outputs": [],
   "source": [
    "filtered_df = GOCC_terms[GOCC_terms['Condition'].isin(conditions_to_check)]"
   ]
  },
  {
   "cell_type": "code",
   "execution_count": null,
   "id": "f876d42a-b814-4d0b-b944-076ae7d1a437",
   "metadata": {
    "tags": []
   },
   "outputs": [],
   "source": [
    "filtered_df"
   ]
  },
  {
   "cell_type": "code",
   "execution_count": null,
   "id": "7bc29e51-c48f-47d4-ae16-aa956ae94e1d",
   "metadata": {
    "tags": []
   },
   "outputs": [],
   "source": [
    "all_terms = filtered_df['Term.1'].unique().tolist()"
   ]
  },
  {
   "cell_type": "code",
   "execution_count": null,
   "id": "85ca4ca4-07a6-4401-9b80-a848b564c949",
   "metadata": {
    "tags": []
   },
   "outputs": [],
   "source": [
    "different_terms = []\n",
    "\n",
    "for current_term in all_terms:\n",
    "    \n",
    "    filtered_df_term = filtered_df[filtered_df['Term.1'] == current_term]\n",
    "    \n",
    "    conditions = filtered_df_term['Condition'].unique()\n",
    "\n",
    "    if len(conditions) < 2: \n",
    "        continue\n",
    "        # if (filtered_df_gene['padj'] < 0.05).tolist()[0]:\n",
    "        #    different_genes.append(current_gene)\n",
    "    else:\n",
    "        # Define your specific criteria here (for demonstration, using arbitrary conditions)\n",
    "        \n",
    "        criteria_met = (any(filtered_df_term['NOM p-value'] < 0.05) ) and \\\n",
    "                    (filtered_df_term['NES'].tolist()[0] * filtered_df_term['NES'].tolist()[1] < 0)\n",
    "        \n",
    "        if criteria_met:\n",
    "            different_terms.append(current_term)"
   ]
  },
  {
   "cell_type": "code",
   "execution_count": null,
   "id": "0b7a8206-c8d0-4aec-8bf7-467a78e88152",
   "metadata": {},
   "outputs": [],
   "source": [
    "different_terms"
   ]
  },
  {
   "cell_type": "code",
   "execution_count": null,
   "id": "c3e5e949-676d-46d6-95a9-8c5644fadf50",
   "metadata": {
    "tags": []
   },
   "outputs": [],
   "source": [
    "GOCC_terms_df = GOCC_terms[GOCC_terms['Term.1'].isin(different_terms) & GOCC_terms['Condition'].isin(conditions_to_check)]"
   ]
  },
  {
   "cell_type": "code",
   "execution_count": null,
   "id": "fd1c4965-a2d7-45c8-a2e5-c03689760675",
   "metadata": {
    "tags": []
   },
   "outputs": [],
   "source": [
    "GOCC_terms_df['Condition'] =  GOCC_terms_df['Condition'].str.replace('_Results_msigdb_3', '', regex=False) "
   ]
  },
  {
   "cell_type": "code",
   "execution_count": null,
   "id": "49fe4c0e-4ac5-4911-b49b-419935475ba3",
   "metadata": {
    "tags": []
   },
   "outputs": [],
   "source": [
    "GOCC_terms_df['Term.1'] =  GOCC_terms_df['Term.1'].str.replace('GOCC_', '', regex=False) "
   ]
  },
  {
   "cell_type": "code",
   "execution_count": null,
   "id": "f70f5976-e306-419f-acb2-dd34252c818d",
   "metadata": {
    "tags": []
   },
   "outputs": [],
   "source": [
    "def truncate_string(input_string, max_length):\n",
    "    if len(input_string) > max_length:\n",
    "        return input_string[:max_length] + \"...\"\n",
    "    else:\n",
    "        return input_string"
   ]
  },
  {
   "cell_type": "code",
   "execution_count": null,
   "id": "0e85a4ef-4139-4e09-b93a-9423a746da59",
   "metadata": {
    "tags": []
   },
   "outputs": [],
   "source": [
    "GOCC_terms_df['Term.1_truncated'] = GOCC_terms_df['Term.1'].apply(lambda x: truncate_string(x, 45))"
   ]
  },
  {
   "cell_type": "code",
   "execution_count": null,
   "id": "182f0fc3-a202-4576-8f9d-6e8bc88e2ed9",
   "metadata": {
    "tags": []
   },
   "outputs": [],
   "source": [
    "GOCC_terms_df.set_index('Term.1_truncated', inplace=True)\n",
    "\n",
    "GOCC_terms_df['Sex'] = GOCC_terms_df['Condition'].str.split('_', expand=True)[[0]]\n",
    "GOCC_terms_df['Treatment'] = GOCC_terms_df['Condition'].str.split('_', expand=True)[1]\n",
    "GOCC_terms_df['Region'] = GOCC_terms_df['Condition'].str.split('_', expand=True)[4]\n",
    "\n",
    "pivot_df_logFC = GOCC_terms_df.pivot(columns = 'Condition', values=\"NES\")\n",
    "pivot_df_pvalues = GOCC_terms_df.pivot(columns = 'Condition', values=\"FDR p-value\")\n",
    "pivot_df_pvalues = pivot_df_pvalues.applymap(lambda x: '*' if x < 0.05 else ' ')\n",
    "\n",
    "pivot_df_logFC.fillna(0, inplace=True)\n",
    "\n",
    "\n",
    "# Map the conditions to colors\n",
    "GOCC_terms_df_unique = GOCC_terms_df[['Condition', 'Sex', 'Treatment','Region']].drop_duplicates()\n",
    "GOCC_terms_df_unique.set_index(\"Condition\", inplace=True)\n",
    "\n",
    "sex_colors = ['#c66874','#67c1ca']\n",
    "treatment_colors = ['#687ac8','#c8b866']\n",
    "region_colors = ['#c98367',  '#6ac989','#9c69c8']\n",
    "\n",
    "sex_lut = dict(zip(GOCC_terms_df_unique['Sex'].unique(), sex_colors))\n",
    "treatment_lut = dict(zip(GOCC_terms_df_unique['Treatment'].unique(), treatment_colors))\n",
    "region_lut = dict(zip(GOCC_terms_df_unique['Region'].unique(), region_colors))\n",
    "\n",
    "# Convert the conditions to a DataFrame of colors\n",
    "col_colors  = pd.DataFrame(index=pivot_df_logFC.columns)\n",
    "col_colors['Sex'] = GOCC_terms_df_unique['Sex'].map(sex_lut)\n",
    "col_colors['Treatment'] = GOCC_terms_df_unique['Treatment'].map(treatment_lut)\n",
    "col_colors['Region'] = GOCC_terms_df_unique['Region'].map(region_lut)\n",
    "\n",
    "legend_elements = []\n",
    "for cond, cmap in zip(['Sex', 'Treatment', 'Region'], [sex_colors, treatment_colors, region_colors]):\n",
    "    legend_elements.append(Patch(facecolor='none', edgecolor='none', label=cond + ':'))\n",
    "    for label, color in zip(GOCC_terms_df_unique[cond].unique(), cmap):\n",
    "        legend_elements.append(Patch(facecolor=color, label=label))\n",
    "\n",
    "\n",
    "# Create the clustermap\n",
    "cg = sns.clustermap(pivot_df_logFC, cmap=\"vlag\", figsize=(10, 10), linewidths=0.75, linecolor= 'black',\n",
    "                    dendrogram_ratio=(.175, .025), center=0, annot=pivot_df_pvalues, fmt='',\n",
    "                    col_colors =col_colors, xticklabels=False, square=True, cbar_pos=(0.02, 0.55, 0.05, 0.18), col_cluster=False)\n",
    "cg.ax_row_dendrogram.set_visible(False) #suppress row dendrogram\n",
    "cg.ax_col_dendrogram.set_visible(False) #suppress row dendrogram\n",
    "cg.cax.set_title('NES', pad=10)\n",
    "cond_legend = cg.ax_heatmap.legend(labels=[f'p-value < 0.05'], frameon=False, handles=[plt.Line2D([], [], marker='*', color='black', linestyle='None', lw=2)], bbox_to_anchor=(0.01, 0.575))\n",
    "cg.ax_heatmap.add_artist(cond_legend)\n",
    "cg.ax_heatmap.legend(handles=legend_elements, bbox_to_anchor=(0, 1.15), ncol=1, frameon=False)\n",
    "\n",
    "# Manually set the x-axis title at the top\n",
    "cg.ax_heatmap.set_title('Condition', y=1.125)\n",
    "\n",
    "# Optionally, if you want to remove the default x-axis label\n",
    "cg.ax_heatmap.set_xlabel('')\n",
    "cg.ax_heatmap.set_ylabel('')\n",
    "\n",
    "cg.ax_heatmap.set_position([cg.ax_heatmap.get_position().x0, cg.ax_heatmap.get_position().y0,\n",
    "                           cg.ax_heatmap.get_position().width, cg.ax_heatmap.get_position().height])\n",
    "cg.ax_col_colors.set_position([cg.ax_col_colors.get_position().x0, cg.ax_col_colors.get_position().y0 + 0.010,\n",
    "                              cg.ax_col_colors.get_position().width, cg.ax_col_colors.get_position().height])"
   ]
  },
  {
   "cell_type": "markdown",
   "id": "73fc5008-f9f6-4eb4-93dc-58f115d0fad9",
   "metadata": {},
   "source": [
    "### Female AAV2 "
   ]
  },
  {
   "cell_type": "code",
   "execution_count": null,
   "id": "b8a1c9c0-777d-409c-83d2-b9ba08b86c66",
   "metadata": {
    "tags": []
   },
   "outputs": [],
   "source": [
    "conditions_to_check=['female_AVV2_vs_Control_pericentral_Results_msigdb_3','female_AVV2_vs_Control_periportal_Results_msigdb_3']\n",
    "combined_df.fillna(1, inplace=True)"
   ]
  },
  {
   "cell_type": "code",
   "execution_count": null,
   "id": "7f44e062-d9f5-4fa4-b8ff-2b0485956626",
   "metadata": {
    "tags": []
   },
   "outputs": [],
   "source": [
    "filtered_df = GOCC_terms[GOCC_terms['Condition'].isin(conditions_to_check)]"
   ]
  },
  {
   "cell_type": "code",
   "execution_count": null,
   "id": "38f5b4b3-5efe-48e1-80ec-d260bb3df8bd",
   "metadata": {
    "tags": []
   },
   "outputs": [],
   "source": [
    "filtered_df"
   ]
  },
  {
   "cell_type": "code",
   "execution_count": null,
   "id": "3fd22d93-6489-4a74-ad96-d14c79540153",
   "metadata": {
    "tags": []
   },
   "outputs": [],
   "source": [
    "all_terms = filtered_df['Term.1'].unique().tolist()"
   ]
  },
  {
   "cell_type": "code",
   "execution_count": null,
   "id": "64e7b929-e42f-4bf7-82c2-dbb4052df4d4",
   "metadata": {
    "tags": []
   },
   "outputs": [],
   "source": [
    "different_terms = []\n",
    "\n",
    "for current_term in all_terms:\n",
    "    \n",
    "    filtered_df_term = filtered_df[filtered_df['Term.1'] == current_term]\n",
    "    \n",
    "    conditions = filtered_df_term['Condition'].unique()\n",
    "\n",
    "    if len(conditions) < 2: \n",
    "        continue\n",
    "        # if (filtered_df_gene['padj'] < 0.05).tolist()[0]:\n",
    "        #    different_genes.append(current_gene)\n",
    "    else:\n",
    "        # Define your specific criteria here (for demonstration, using arbitrary conditions)\n",
    "        \n",
    "        criteria_met = (any(filtered_df_term['NOM p-value'] < 0.05) ) and \\\n",
    "                    (filtered_df_term['NES'].tolist()[0] * filtered_df_term['NES'].tolist()[1] < 0)\n",
    "        \n",
    "        if criteria_met:\n",
    "            different_terms.append(current_term)"
   ]
  },
  {
   "cell_type": "code",
   "execution_count": null,
   "id": "72195428-69b0-4ed8-9184-d7f0c653b66a",
   "metadata": {},
   "outputs": [],
   "source": [
    "different_terms"
   ]
  },
  {
   "cell_type": "code",
   "execution_count": null,
   "id": "a99e230e-19b2-4f05-9283-5716218278d9",
   "metadata": {
    "tags": []
   },
   "outputs": [],
   "source": [
    "GOCC_terms_df = GOCC_terms[GOCC_terms['Term.1'].isin(different_terms) & GOCC_terms['Condition'].isin(conditions_to_check)]"
   ]
  },
  {
   "cell_type": "code",
   "execution_count": null,
   "id": "4e1dda81-91fc-4e5b-be06-4818eb0a03ca",
   "metadata": {
    "tags": []
   },
   "outputs": [],
   "source": [
    "GOCC_terms_df['Condition'] =  GOCC_terms_df['Condition'].str.replace('_Results_msigdb_3', '', regex=False) "
   ]
  },
  {
   "cell_type": "code",
   "execution_count": null,
   "id": "d084c84f-3305-40ce-989d-dcdf5154183f",
   "metadata": {
    "tags": []
   },
   "outputs": [],
   "source": [
    "GOCC_terms_df['Term.1'] =  GOCC_terms_df['Term.1'].str.replace('GOCC_', '', regex=False) "
   ]
  },
  {
   "cell_type": "code",
   "execution_count": null,
   "id": "92e71815-ac19-4aca-8b3b-2e11dbe0da7d",
   "metadata": {
    "tags": []
   },
   "outputs": [],
   "source": [
    "def truncate_string(input_string, max_length):\n",
    "    if len(input_string) > max_length:\n",
    "        return input_string[:max_length] + \"...\"\n",
    "    else:\n",
    "        return input_string"
   ]
  },
  {
   "cell_type": "code",
   "execution_count": null,
   "id": "fb1edaf9-8441-404c-b7bb-75ba14d3b1a8",
   "metadata": {
    "tags": []
   },
   "outputs": [],
   "source": [
    "GOCC_terms_df['Term.1_truncated'] = GOCC_terms_df['Term.1'].apply(lambda x: truncate_string(x, 45))"
   ]
  },
  {
   "cell_type": "code",
   "execution_count": null,
   "id": "6b2f7bed-aa0a-427f-8300-a3771395ccde",
   "metadata": {
    "tags": []
   },
   "outputs": [],
   "source": [
    "GOCC_terms_df.set_index('Term.1_truncated', inplace=True)\n",
    "\n",
    "GOCC_terms_df['Sex'] = GOCC_terms_df['Condition'].str.split('_', expand=True)[[0]]\n",
    "GOCC_terms_df['Treatment'] = GOCC_terms_df['Condition'].str.split('_', expand=True)[1]\n",
    "GOCC_terms_df['Region'] = GOCC_terms_df['Condition'].str.split('_', expand=True)[4]\n",
    "\n",
    "pivot_df_logFC = GOCC_terms_df.pivot(columns = 'Condition', values=\"NES\")\n",
    "pivot_df_pvalues = GOCC_terms_df.pivot(columns = 'Condition', values=\"FDR p-value\")\n",
    "pivot_df_pvalues = pivot_df_pvalues.applymap(lambda x: '*' if x < 0.05 else ' ')\n",
    "\n",
    "pivot_df_logFC.fillna(0, inplace=True)\n",
    "\n",
    "\n",
    "# Map the conditions to colors\n",
    "GOCC_terms_df_unique = GOCC_terms_df[['Condition', 'Sex', 'Treatment','Region']].drop_duplicates()\n",
    "GOCC_terms_df_unique.set_index(\"Condition\", inplace=True)\n",
    "\n",
    "sex_colors = ['#c66874','#67c1ca']\n",
    "treatment_colors = ['#687ac8','#c8b866']\n",
    "region_colors = ['#c98367',  '#6ac989','#9c69c8']\n",
    "\n",
    "sex_lut = dict(zip(GOCC_terms_df_unique['Sex'].unique(), sex_colors))\n",
    "treatment_lut = dict(zip(GOCC_terms_df_unique['Treatment'].unique(), treatment_colors))\n",
    "region_lut = dict(zip(GOCC_terms_df_unique['Region'].unique(), region_colors))\n",
    "\n",
    "# Convert the conditions to a DataFrame of colors\n",
    "col_colors  = pd.DataFrame(index=pivot_df_logFC.columns)\n",
    "col_colors['Sex'] = GOCC_terms_df_unique['Sex'].map(sex_lut)\n",
    "col_colors['Treatment'] = GOCC_terms_df_unique['Treatment'].map(treatment_lut)\n",
    "col_colors['Region'] = GOCC_terms_df_unique['Region'].map(region_lut)\n",
    "\n",
    "legend_elements = []\n",
    "for cond, cmap in zip(['Sex', 'Treatment', 'Region'], [sex_colors, treatment_colors, region_colors]):\n",
    "    legend_elements.append(Patch(facecolor='none', edgecolor='none', label=cond + ':'))\n",
    "    for label, color in zip(GOCC_terms_df_unique[cond].unique(), cmap):\n",
    "        legend_elements.append(Patch(facecolor=color, label=label))\n",
    "\n",
    "\n",
    "# Create the clustermap\n",
    "cg = sns.clustermap(pivot_df_logFC, cmap=\"vlag\", figsize=(10, 10), linewidths=0.75, linecolor= 'black',\n",
    "                    dendrogram_ratio=(.175, .025), center=0, annot=pivot_df_pvalues, fmt='',\n",
    "                    col_colors =col_colors, xticklabels=False, square=True, cbar_pos=(0.02, 0.55, 0.05, 0.18), col_cluster=False)\n",
    "cg.ax_row_dendrogram.set_visible(False) #suppress row dendrogram\n",
    "cg.ax_col_dendrogram.set_visible(False) #suppress row dendrogram\n",
    "cg.cax.set_title('NES', pad=10)\n",
    "cond_legend = cg.ax_heatmap.legend(labels=[f'p-value < 0.05'], frameon=False, handles=[plt.Line2D([], [], marker='*', color='black', linestyle='None', lw=2)], bbox_to_anchor=(0.01, 0.575))\n",
    "cg.ax_heatmap.add_artist(cond_legend)\n",
    "cg.ax_heatmap.legend(handles=legend_elements, bbox_to_anchor=(0, 1.15), ncol=1, frameon=False)\n",
    "\n",
    "# Manually set the x-axis title at the top\n",
    "cg.ax_heatmap.set_title('Condition', y=1.125)\n",
    "\n",
    "# Optionally, if you want to remove the default x-axis label\n",
    "cg.ax_heatmap.set_xlabel('')\n",
    "cg.ax_heatmap.set_ylabel('')\n",
    "\n",
    "cg.ax_heatmap.set_position([cg.ax_heatmap.get_position().x0, cg.ax_heatmap.get_position().y0,\n",
    "                           cg.ax_heatmap.get_position().width, cg.ax_heatmap.get_position().height])\n",
    "cg.ax_col_colors.set_position([cg.ax_col_colors.get_position().x0, cg.ax_col_colors.get_position().y0 + 0.010,\n",
    "                              cg.ax_col_colors.get_position().width, cg.ax_col_colors.get_position().height])"
   ]
  },
  {
   "cell_type": "markdown",
   "id": "b4a1799a-658e-403f-84c0-b98204a61b53",
   "metadata": {},
   "source": [
    "### GO:MF TERMS"
   ]
  },
  {
   "cell_type": "code",
   "execution_count": null,
   "id": "34a8545d-e4fb-468f-85e1-d6f446061503",
   "metadata": {
    "tags": []
   },
   "outputs": [],
   "source": [
    "GOMF_terms = combined_gsea_df[combined_gsea_df['Term.1'].str.startswith('GOMF_')]"
   ]
  },
  {
   "cell_type": "code",
   "execution_count": null,
   "id": "94d4db5e-e430-413e-8bdc-5191d08719dc",
   "metadata": {
    "tags": []
   },
   "outputs": [],
   "source": [
    "GOMF_terms"
   ]
  },
  {
   "cell_type": "code",
   "execution_count": null,
   "id": "b4884c7e-916f-4886-a1a0-aeb1ed3510be",
   "metadata": {
    "tags": []
   },
   "outputs": [],
   "source": [
    "GOMF_terms['abs_NES'] = abs(GOMF_terms['NES'])"
   ]
  },
  {
   "cell_type": "code",
   "execution_count": null,
   "id": "4f2b5d83-718d-46c3-ac25-537995967e10",
   "metadata": {
    "tags": []
   },
   "outputs": [],
   "source": [
    "top_GOMFs = GOMF_terms.sort_values(by = 'abs_NES', ascending=False).drop_duplicates('Term.1')['Term.1'].head(35).tolist()"
   ]
  },
  {
   "cell_type": "code",
   "execution_count": null,
   "id": "3aa06bad-023b-40b1-ba9c-2882636a365a",
   "metadata": {
    "tags": []
   },
   "outputs": [],
   "source": [
    "top_GOMFs"
   ]
  },
  {
   "cell_type": "code",
   "execution_count": null,
   "id": "230fb5b1-d0c7-47b5-9ed3-3a77f84170f6",
   "metadata": {
    "tags": []
   },
   "outputs": [],
   "source": [
    "GOMF_terms_df = GOMF_terms[GOMF_terms['Term.1'].isin(top_GOMFs)]"
   ]
  },
  {
   "cell_type": "code",
   "execution_count": null,
   "id": "d7b431a6-8a3a-4f4e-a490-6fb7c3962c06",
   "metadata": {
    "tags": []
   },
   "outputs": [],
   "source": [
    "GOMF_terms_df['Condition'] =  GOMF_terms_df['Condition'].str.replace('_Results_msigdb_3', '', regex=False) "
   ]
  },
  {
   "cell_type": "code",
   "execution_count": null,
   "id": "f5a01de1-a596-4f87-beae-f84b0b30a6e7",
   "metadata": {
    "tags": []
   },
   "outputs": [],
   "source": [
    "GOMF_terms_df['Term.1'] =  GOMF_terms_df['Term.1'].str.replace('GOMF_', '', regex=False) "
   ]
  },
  {
   "cell_type": "code",
   "execution_count": null,
   "id": "b2dc0b24-6508-4531-b33f-50baa4613372",
   "metadata": {
    "tags": []
   },
   "outputs": [],
   "source": [
    "GOMF_terms_df['Term.1_truncated'] = GOMF_terms_df['Term.1'].apply(lambda x: truncate_string(x, 45))"
   ]
  },
  {
   "cell_type": "code",
   "execution_count": null,
   "id": "a092781a-273b-413b-9c5d-7ddcf92c4019",
   "metadata": {
    "tags": []
   },
   "outputs": [],
   "source": [
    "GOMF_terms_df.set_index('Term.1_truncated', inplace=True)\n",
    "\n",
    "GOMF_terms_df['Sex'] = GOMF_terms_df['Condition'].str.split('_', expand=True)[[0]]\n",
    "GOMF_terms_df['Treatment'] = GOMF_terms_df['Condition'].str.split('_', expand=True)[1]\n",
    "GOMF_terms_df['Region'] = GOMF_terms_df['Condition'].str.split('_', expand=True)[4]\n",
    "\n",
    "pivot_df_logFC = GOMF_terms_df.pivot(columns = 'Condition', values=\"NES\")\n",
    "pivot_df_pvalues = GOMF_terms_df.pivot(columns = 'Condition', values=\"FDR p-value\")\n",
    "pivot_df_pvalues = pivot_df_pvalues.applymap(lambda x: '*' if x < 0.05 else ' ')\n",
    "\n",
    "pivot_df_logFC.fillna(0, inplace=True)\n",
    "\n",
    "\n",
    "# Map the conditions to colors\n",
    "GOMF_terms_df_unique = GOMF_terms_df[['Condition', 'Sex', 'Treatment','Region']].drop_duplicates()\n",
    "GOMF_terms_df_unique.set_index(\"Condition\", inplace=True)\n",
    "\n",
    "sex_colors = ['#c66874','#67c1ca']\n",
    "treatment_colors = ['#687ac8','#c8b866']\n",
    "region_colors = ['#c98367',  '#6ac989','#9c69c8']\n",
    "\n",
    "sex_lut = dict(zip(GOMF_terms_df_unique['Sex'].unique(), sex_colors))\n",
    "treatment_lut = dict(zip(GOMF_terms_df_unique['Treatment'].unique(), treatment_colors))\n",
    "region_lut = dict(zip(GOMF_terms_df_unique['Region'].unique(), region_colors))\n",
    "\n",
    "# Convert the conditions to a DataFrame of colors\n",
    "col_colors  = pd.DataFrame(index=pivot_df_logFC.columns)\n",
    "col_colors['Sex'] = GOMF_terms_df_unique['Sex'].map(sex_lut)\n",
    "col_colors['Treatment'] = GOMF_terms_df_unique['Treatment'].map(treatment_lut)\n",
    "col_colors['Region'] = GOMF_terms_df_unique['Region'].map(region_lut)\n",
    "\n",
    "legend_elements = []\n",
    "for cond, cmap in zip(['Sex', 'Treatment', 'Region'], [sex_colors, treatment_colors, region_colors]):\n",
    "    legend_elements.append(Patch(facecolor='none', edgecolor='none', label=cond + ':'))\n",
    "    for label, color in zip(GOMF_terms_df_unique[cond].unique(), cmap):\n",
    "        legend_elements.append(Patch(facecolor=color, label=label))\n",
    "\n",
    "\n",
    "# Create the clustermap\n",
    "cg = sns.clustermap(pivot_df_logFC[predefined_order], cmap=\"vlag\", figsize=(10, 10), linewidths=0.75, linecolor= 'black',\n",
    "                    dendrogram_ratio=(.175, .025), center=0, annot=pivot_df_pvalues[predefined_order], fmt='',\n",
    "                    col_colors =col_colors, xticklabels=False, square=True, cbar_pos=(0.02, 0.55, 0.05, 0.18), col_cluster=False)\n",
    "cg.ax_row_dendrogram.set_visible(False) #suppress row dendrogram\n",
    "cg.ax_col_dendrogram.set_visible(False) #suppress row dendrogram\n",
    "cg.cax.set_title('NES', pad=10)\n",
    "cond_legend = cg.ax_heatmap.legend(labels=[f'p-value < 0.05'], frameon=False, handles=[plt.Line2D([], [], marker='*', color='black', linestyle='None', lw=2)], bbox_to_anchor=(0.01, 0.575))\n",
    "cg.ax_heatmap.add_artist(cond_legend)\n",
    "cg.ax_heatmap.legend(handles=legend_elements, bbox_to_anchor=(0, 1.15), ncol=1, frameon=False)\n",
    "\n",
    "# Manually set the x-axis title at the top\n",
    "cg.ax_heatmap.set_title('Condition', y=1.125)\n",
    "\n",
    "# Optionally, if you want to remove the default x-axis label\n",
    "cg.ax_heatmap.set_xlabel('')\n",
    "cg.ax_heatmap.set_ylabel('')\n",
    "\n",
    "cg.ax_heatmap.set_position([cg.ax_heatmap.get_position().x0, cg.ax_heatmap.get_position().y0,\n",
    "                           cg.ax_heatmap.get_position().width, cg.ax_heatmap.get_position().height])\n",
    "cg.ax_col_colors.set_position([cg.ax_col_colors.get_position().x0, cg.ax_col_colors.get_position().y0 + 0.010,\n",
    "                              cg.ax_col_colors.get_position().width, cg.ax_col_colors.get_position().height])"
   ]
  },
  {
   "cell_type": "markdown",
   "id": "3ed61ceb-569e-4a61-8b1c-5d809f7a9fa8",
   "metadata": {},
   "source": [
    "Can we also check that they are responding differently between pericentral and periportal in the different conditions? "
   ]
  },
  {
   "cell_type": "code",
   "execution_count": null,
   "id": "caf5b4eb-13d6-4920-a1c4-5122cb5c4ca9",
   "metadata": {},
   "outputs": [],
   "source": [
    "GOMF_terms"
   ]
  },
  {
   "cell_type": "markdown",
   "id": "fe583ae9-e9f0-453d-a3aa-fa3c628a1301",
   "metadata": {},
   "source": [
    "### Male AAV9 "
   ]
  },
  {
   "cell_type": "code",
   "execution_count": null,
   "id": "f32c71c1-36d0-4756-88c0-73dba58342d1",
   "metadata": {
    "tags": []
   },
   "outputs": [],
   "source": [
    "conditions_to_check=['male_AVV9_vs_Control_pericentral_Results_msigdb_3','male_AVV9_vs_Control_periportal_Results_msigdb_3']\n",
    "combined_df.fillna(1, inplace=True)"
   ]
  },
  {
   "cell_type": "code",
   "execution_count": null,
   "id": "0caf3532-f289-41d6-b6b5-49083cf903bf",
   "metadata": {
    "tags": []
   },
   "outputs": [],
   "source": [
    "filtered_df = GOMF_terms[GOMF_terms['Condition'].isin(conditions_to_check)]"
   ]
  },
  {
   "cell_type": "code",
   "execution_count": null,
   "id": "351d556b-46a5-43de-b330-ceffd5904d77",
   "metadata": {
    "tags": []
   },
   "outputs": [],
   "source": [
    "filtered_df"
   ]
  },
  {
   "cell_type": "code",
   "execution_count": null,
   "id": "43c867f8-81cd-475b-aecd-8b23816d7ab5",
   "metadata": {
    "tags": []
   },
   "outputs": [],
   "source": [
    "all_terms = filtered_df['Term.1'].unique().tolist()"
   ]
  },
  {
   "cell_type": "code",
   "execution_count": null,
   "id": "6e1c04c6-3926-4f73-a46d-5b5786442765",
   "metadata": {
    "tags": []
   },
   "outputs": [],
   "source": [
    "different_terms = []\n",
    "\n",
    "for current_term in all_terms:\n",
    "    \n",
    "    filtered_df_term = filtered_df[filtered_df['Term.1'] == current_term]\n",
    "    \n",
    "    conditions = filtered_df_term['Condition'].unique()\n",
    "\n",
    "    if len(conditions) < 2: \n",
    "        continue\n",
    "        # if (filtered_df_gene['padj'] < 0.05).tolist()[0]:\n",
    "        #    different_genes.append(current_gene)\n",
    "    else:\n",
    "        # Define your specific criteria here (for demonstration, using arbitrary conditions)\n",
    "        \n",
    "        criteria_met = (any(filtered_df_term['NOM p-value'] < 0.05) ) and \\\n",
    "                    (filtered_df_term['NES'].tolist()[0] * filtered_df_term['NES'].tolist()[1] < 0)\n",
    "        \n",
    "        if criteria_met:\n",
    "            different_terms.append(current_term)"
   ]
  },
  {
   "cell_type": "code",
   "execution_count": null,
   "id": "4d10082c-5285-4d72-bb62-9f222cf64448",
   "metadata": {},
   "outputs": [],
   "source": [
    "different_terms"
   ]
  },
  {
   "cell_type": "code",
   "execution_count": null,
   "id": "9816136b-8029-4482-a6dc-fc5cc6e9db73",
   "metadata": {
    "tags": []
   },
   "outputs": [],
   "source": [
    "GOMF_terms_df = GOMF_terms[GOMF_terms['Term.1'].isin(different_terms) & GOMF_terms['Condition'].isin(conditions_to_check)]"
   ]
  },
  {
   "cell_type": "code",
   "execution_count": null,
   "id": "5a4dbc09-0efa-4c12-a9eb-a210ddfbe07e",
   "metadata": {
    "tags": []
   },
   "outputs": [],
   "source": [
    "GOMF_terms_df['Condition'] =  GOMF_terms_df['Condition'].str.replace('_Results_msigdb_3', '', regex=False) "
   ]
  },
  {
   "cell_type": "code",
   "execution_count": null,
   "id": "d6e6025e-2512-4fda-b0b6-b70ad3372a93",
   "metadata": {
    "tags": []
   },
   "outputs": [],
   "source": [
    "GOMF_terms_df['Term.1'] =  GOMF_terms_df['Term.1'].str.replace('GOMF_', '', regex=False) "
   ]
  },
  {
   "cell_type": "code",
   "execution_count": null,
   "id": "d865597e-f8e7-4ec0-8f51-34316d54b92a",
   "metadata": {
    "tags": []
   },
   "outputs": [],
   "source": [
    "def truncate_string(input_string, max_length):\n",
    "    if len(input_string) > max_length:\n",
    "        return input_string[:max_length] + \"...\"\n",
    "    else:\n",
    "        return input_string"
   ]
  },
  {
   "cell_type": "code",
   "execution_count": null,
   "id": "dcb64a5d-71e5-4e6b-acba-9540bdbf300b",
   "metadata": {
    "tags": []
   },
   "outputs": [],
   "source": [
    "GOMF_terms_df['Term.1_truncated'] = GOMF_terms_df['Term.1'].apply(lambda x: truncate_string(x, 45))"
   ]
  },
  {
   "cell_type": "code",
   "execution_count": null,
   "id": "0c178648-ca12-46bb-ad5b-ac57665238b7",
   "metadata": {},
   "outputs": [],
   "source": [
    "GOMF_terms_df"
   ]
  },
  {
   "cell_type": "code",
   "execution_count": null,
   "id": "bf592e2b-9990-4bee-af1f-d441b3bab1ff",
   "metadata": {
    "tags": []
   },
   "outputs": [],
   "source": [
    "GOMF_terms_df.set_index('Term.1_truncated', inplace=True)\n",
    "\n",
    "GOMF_terms_df['Sex'] = GOMF_terms_df['Condition'].str.split('_', expand=True)[[0]]\n",
    "GOMF_terms_df['Treatment'] = GOMF_terms_df['Condition'].str.split('_', expand=True)[1]\n",
    "GOMF_terms_df['Region'] = GOMF_terms_df['Condition'].str.split('_', expand=True)[4]\n",
    "\n",
    "pivot_df_logFC = GOMF_terms_df.pivot(columns = 'Condition', values=\"NES\")\n",
    "pivot_df_pvalues = GOMF_terms_df.pivot(columns = 'Condition', values=\"FDR p-value\")\n",
    "pivot_df_pvalues = pivot_df_pvalues.applymap(lambda x: '*' if x < 0.05 else ' ')\n",
    "\n",
    "pivot_df_logFC.fillna(0, inplace=True)\n",
    "\n",
    "\n",
    "# Map the conditions to colors\n",
    "GOMF_terms_df_unique = GOMF_terms_df[['Condition', 'Sex', 'Treatment','Region']].drop_duplicates()\n",
    "GOMF_terms_df_unique.set_index(\"Condition\", inplace=True)\n",
    "\n",
    "sex_colors = ['#c66874','#67c1ca']\n",
    "treatment_colors = ['#687ac8','#c8b866']\n",
    "region_colors = ['#c98367',  '#6ac989','#9c69c8']\n",
    "\n",
    "sex_lut = dict(zip(GOMF_terms_df_unique['Sex'].unique(), sex_colors))\n",
    "treatment_lut = dict(zip(GOMF_terms_df_unique['Treatment'].unique(), treatment_colors))\n",
    "region_lut = dict(zip(GOMF_terms_df_unique['Region'].unique(), region_colors))\n",
    "\n",
    "# Convert the conditions to a DataFrame of colors\n",
    "col_colors  = pd.DataFrame(index=pivot_df_logFC.columns)\n",
    "col_colors['Sex'] = GOMF_terms_df_unique['Sex'].map(sex_lut)\n",
    "col_colors['Treatment'] = GOMF_terms_df_unique['Treatment'].map(treatment_lut)\n",
    "col_colors['Region'] = GOMF_terms_df_unique['Region'].map(region_lut)\n",
    "\n",
    "legend_elements = []\n",
    "for cond, cmap in zip(['Sex', 'Treatment', 'Region'], [sex_colors, treatment_colors, region_colors]):\n",
    "    legend_elements.append(Patch(facecolor='none', edgecolor='none', label=cond + ':'))\n",
    "    for label, color in zip(GOMF_terms_df_unique[cond].unique(), cmap):\n",
    "        legend_elements.append(Patch(facecolor=color, label=label))\n",
    "\n",
    "\n",
    "# Create the clustermap\n",
    "cg = sns.clustermap(pivot_df_logFC, cmap=\"vlag\", figsize=(10, 10), linewidths=0.75, linecolor= 'black',\n",
    "                    dendrogram_ratio=(.175, .025), center=0, annot=pivot_df_pvalues, fmt='',\n",
    "                    col_colors =col_colors, xticklabels=False, square=True, cbar_pos=(0.02, 0.55, 0.05, 0.18), col_cluster=False)\n",
    "cg.ax_row_dendrogram.set_visible(False) #suppress row dendrogram\n",
    "cg.ax_col_dendrogram.set_visible(False) #suppress row dendrogram\n",
    "cg.cax.set_title('NES', pad=10)\n",
    "cond_legend = cg.ax_heatmap.legend(labels=[f'p-value < 0.05'], frameon=False, handles=[plt.Line2D([], [], marker='*', color='black', linestyle='None', lw=2)], bbox_to_anchor=(0.01, 0.575))\n",
    "cg.ax_heatmap.add_artist(cond_legend)\n",
    "cg.ax_heatmap.legend(handles=legend_elements, bbox_to_anchor=(0, 1.15), ncol=1, frameon=False)\n",
    "\n",
    "# Manually set the x-axis title at the top\n",
    "cg.ax_heatmap.set_title('Condition', y=1.125)\n",
    "\n",
    "# Optionally, if you want to remove the default x-axis label\n",
    "cg.ax_heatmap.set_xlabel('')\n",
    "cg.ax_heatmap.set_ylabel('')\n",
    "\n",
    "cg.ax_heatmap.set_position([cg.ax_heatmap.get_position().x0, cg.ax_heatmap.get_position().y0,\n",
    "                           cg.ax_heatmap.get_position().width, cg.ax_heatmap.get_position().height])\n",
    "cg.ax_col_colors.set_position([cg.ax_col_colors.get_position().x0, cg.ax_col_colors.get_position().y0 + 0.010,\n",
    "                              cg.ax_col_colors.get_position().width, cg.ax_col_colors.get_position().height])"
   ]
  },
  {
   "cell_type": "markdown",
   "id": "dd77aaf7-2536-465e-ade4-6dd760b8ce49",
   "metadata": {},
   "source": [
    "### Male AAV2 "
   ]
  },
  {
   "cell_type": "code",
   "execution_count": null,
   "id": "3cc136ce-6ff3-4a21-a478-578ffa4ab437",
   "metadata": {
    "tags": []
   },
   "outputs": [],
   "source": [
    "conditions_to_check=['male_AVV2_vs_Control_pericentral_Results_msigdb_3','male_AVV2_vs_Control_periportal_Results_msigdb_3']\n",
    "combined_df.fillna(1, inplace=True)"
   ]
  },
  {
   "cell_type": "code",
   "execution_count": null,
   "id": "248ed272-1444-470a-b903-e9044e799af2",
   "metadata": {
    "tags": []
   },
   "outputs": [],
   "source": [
    "filtered_df = GOMF_terms[GOMF_terms['Condition'].isin(conditions_to_check)]"
   ]
  },
  {
   "cell_type": "code",
   "execution_count": null,
   "id": "de22269f-b6f1-420f-be07-b4966a946e21",
   "metadata": {
    "tags": []
   },
   "outputs": [],
   "source": [
    "filtered_df"
   ]
  },
  {
   "cell_type": "code",
   "execution_count": null,
   "id": "33cdb9b3-70cf-4f71-9c56-300b4c12bf6e",
   "metadata": {
    "tags": []
   },
   "outputs": [],
   "source": [
    "all_terms = filtered_df['Term.1'].unique().tolist()"
   ]
  },
  {
   "cell_type": "code",
   "execution_count": null,
   "id": "a0052f67-ed22-4f5e-9300-4303e9831a6d",
   "metadata": {
    "tags": []
   },
   "outputs": [],
   "source": [
    "different_terms = []\n",
    "\n",
    "for current_term in all_terms:\n",
    "    \n",
    "    filtered_df_term = filtered_df[filtered_df['Term.1'] == current_term]\n",
    "    \n",
    "    conditions = filtered_df_term['Condition'].unique()\n",
    "\n",
    "    if len(conditions) < 2: \n",
    "        continue\n",
    "        # if (filtered_df_gene['padj'] < 0.05).tolist()[0]:\n",
    "        #    different_genes.append(current_gene)\n",
    "    else:\n",
    "        # Define your specific criteria here (for demonstration, using arbitrary conditions)\n",
    "        \n",
    "        criteria_met = (any(filtered_df_term['NOM p-value'] < 0.05) ) and \\\n",
    "                    (filtered_df_term['NES'].tolist()[0] * filtered_df_term['NES'].tolist()[1] < 0)\n",
    "        \n",
    "        if criteria_met:\n",
    "            different_terms.append(current_term)"
   ]
  },
  {
   "cell_type": "code",
   "execution_count": null,
   "id": "90cb3f88-b37f-4d78-9441-2ef1f7b123cd",
   "metadata": {},
   "outputs": [],
   "source": [
    "different_terms"
   ]
  },
  {
   "cell_type": "code",
   "execution_count": null,
   "id": "d12ec0cb-a117-4ea1-bab1-cfb50acf2e1b",
   "metadata": {
    "tags": []
   },
   "outputs": [],
   "source": [
    "GOMF_terms_df = GOMF_terms[GOMF_terms['Term.1'].isin(different_terms) & GOMF_terms['Condition'].isin(conditions_to_check)]"
   ]
  },
  {
   "cell_type": "code",
   "execution_count": null,
   "id": "6362e5a6-76a4-4b07-b01a-2fd62fdc2360",
   "metadata": {
    "tags": []
   },
   "outputs": [],
   "source": [
    "GOMF_terms_df['Condition'] =  GOMF_terms_df['Condition'].str.replace('_Results_msigdb_3', '', regex=False) "
   ]
  },
  {
   "cell_type": "code",
   "execution_count": null,
   "id": "8406f980-2831-4cec-81a7-0d418e6d188d",
   "metadata": {
    "tags": []
   },
   "outputs": [],
   "source": [
    "GOMF_terms_df['Term.1'] =  GOMF_terms_df['Term.1'].str.replace('GOMF_', '', regex=False) "
   ]
  },
  {
   "cell_type": "code",
   "execution_count": null,
   "id": "f7d370d8-c41c-4192-a645-42f80dad0fb7",
   "metadata": {
    "tags": []
   },
   "outputs": [],
   "source": [
    "def truncate_string(input_string, max_length):\n",
    "    if len(input_string) > max_length:\n",
    "        return input_string[:max_length] + \"...\"\n",
    "    else:\n",
    "        return input_string"
   ]
  },
  {
   "cell_type": "code",
   "execution_count": null,
   "id": "24495d5b-962a-4551-89e1-25cddca5a50b",
   "metadata": {
    "tags": []
   },
   "outputs": [],
   "source": [
    "GOMF_terms_df['Term.1_truncated'] = GOMF_terms_df['Term.1'].apply(lambda x: truncate_string(x, 45))"
   ]
  },
  {
   "cell_type": "code",
   "execution_count": null,
   "id": "042f5d2f-505d-4aed-91f4-9f8df9c98f5f",
   "metadata": {
    "tags": []
   },
   "outputs": [],
   "source": [
    "GOMF_terms_df.set_index('Term.1_truncated', inplace=True)\n",
    "\n",
    "GOMF_terms_df['Sex'] = GOMF_terms_df['Condition'].str.split('_', expand=True)[[0]]\n",
    "GOMF_terms_df['Treatment'] = GOMF_terms_df['Condition'].str.split('_', expand=True)[1]\n",
    "GOMF_terms_df['Region'] = GOMF_terms_df['Condition'].str.split('_', expand=True)[4]\n",
    "\n",
    "pivot_df_logFC = GOMF_terms_df.pivot(columns = 'Condition', values=\"NES\")\n",
    "pivot_df_pvalues = GOMF_terms_df.pivot(columns = 'Condition', values=\"FDR p-value\")\n",
    "pivot_df_pvalues = pivot_df_pvalues.applymap(lambda x: '*' if x < 0.05 else ' ')\n",
    "\n",
    "pivot_df_logFC.fillna(0, inplace=True)\n",
    "\n",
    "\n",
    "# Map the conditions to colors\n",
    "GOMF_terms_df_unique = GOMF_terms_df[['Condition', 'Sex', 'Treatment','Region']].drop_duplicates()\n",
    "GOMF_terms_df_unique.set_index(\"Condition\", inplace=True)\n",
    "\n",
    "sex_colors = ['#c66874','#67c1ca']\n",
    "treatment_colors = ['#687ac8','#c8b866']\n",
    "region_colors = ['#c98367',  '#6ac989','#9c69c8']\n",
    "\n",
    "sex_lut = dict(zip(GOMF_terms_df_unique['Sex'].unique(), sex_colors))\n",
    "treatment_lut = dict(zip(GOMF_terms_df_unique['Treatment'].unique(), treatment_colors))\n",
    "region_lut = dict(zip(GOMF_terms_df_unique['Region'].unique(), region_colors))\n",
    "\n",
    "# Convert the conditions to a DataFrame of colors\n",
    "col_colors  = pd.DataFrame(index=pivot_df_logFC.columns)\n",
    "col_colors['Sex'] = GOMF_terms_df_unique['Sex'].map(sex_lut)\n",
    "col_colors['Treatment'] = GOMF_terms_df_unique['Treatment'].map(treatment_lut)\n",
    "col_colors['Region'] = GOMF_terms_df_unique['Region'].map(region_lut)\n",
    "\n",
    "legend_elements = []\n",
    "for cond, cmap in zip(['Sex', 'Treatment', 'Region'], [sex_colors, treatment_colors, region_colors]):\n",
    "    legend_elements.append(Patch(facecolor='none', edgecolor='none', label=cond + ':'))\n",
    "    for label, color in zip(GOMF_terms_df_unique[cond].unique(), cmap):\n",
    "        legend_elements.append(Patch(facecolor=color, label=label))\n",
    "\n",
    "\n",
    "# Create the clustermap\n",
    "cg = sns.clustermap(pivot_df_logFC, cmap=\"vlag\", figsize=(10, 10), linewidths=0.75, linecolor= 'black',\n",
    "                    dendrogram_ratio=(.175, .025), center=0, annot=pivot_df_pvalues, fmt='',\n",
    "                    col_colors =col_colors, xticklabels=False, square=True, cbar_pos=(0.02, 0.55, 0.05, 0.18), col_cluster=False)\n",
    "cg.ax_row_dendrogram.set_visible(False) #suppress row dendrogram\n",
    "cg.ax_col_dendrogram.set_visible(False) #suppress row dendrogram\n",
    "cg.cax.set_title('NES', pad=10)\n",
    "cond_legend = cg.ax_heatmap.legend(labels=[f'p-value < 0.05'], frameon=False, handles=[plt.Line2D([], [], marker='*', color='black', linestyle='None', lw=2)], bbox_to_anchor=(0.01, 0.575))\n",
    "cg.ax_heatmap.add_artist(cond_legend)\n",
    "cg.ax_heatmap.legend(handles=legend_elements, bbox_to_anchor=(0, 1.15), ncol=1, frameon=False)\n",
    "\n",
    "# Manually set the x-axis title at the top\n",
    "cg.ax_heatmap.set_title('Condition', y=1.125)\n",
    "\n",
    "# Optionally, if you want to remove the default x-axis label\n",
    "cg.ax_heatmap.set_xlabel('')\n",
    "cg.ax_heatmap.set_ylabel('')\n",
    "\n",
    "cg.ax_heatmap.set_position([cg.ax_heatmap.get_position().x0, cg.ax_heatmap.get_position().y0,\n",
    "                           cg.ax_heatmap.get_position().width, cg.ax_heatmap.get_position().height])\n",
    "cg.ax_col_colors.set_position([cg.ax_col_colors.get_position().x0, cg.ax_col_colors.get_position().y0 + 0.010,\n",
    "                              cg.ax_col_colors.get_position().width, cg.ax_col_colors.get_position().height])"
   ]
  },
  {
   "cell_type": "markdown",
   "id": "1aea21eb-042f-4a48-b512-ce464dc71d9c",
   "metadata": {},
   "source": [
    "### Female AAV9 "
   ]
  },
  {
   "cell_type": "code",
   "execution_count": null,
   "id": "9dee0b3c-e426-4330-8d51-a961bf51dd0c",
   "metadata": {
    "tags": []
   },
   "outputs": [],
   "source": [
    "conditions_to_check=['female_AVV9_vs_Control_pericentral_Results_msigdb_3','female_AVV9_vs_Control_periportal_Results_msigdb_3']\n",
    "combined_df.fillna(1, inplace=True)"
   ]
  },
  {
   "cell_type": "code",
   "execution_count": null,
   "id": "199c3760-d701-4b96-8a66-e486210f31a3",
   "metadata": {
    "tags": []
   },
   "outputs": [],
   "source": [
    "filtered_df = GOMF_terms[GOMF_terms['Condition'].isin(conditions_to_check)]"
   ]
  },
  {
   "cell_type": "code",
   "execution_count": null,
   "id": "9ecdb57d-df6b-4875-8f4b-c2b01de84627",
   "metadata": {
    "tags": []
   },
   "outputs": [],
   "source": [
    "filtered_df"
   ]
  },
  {
   "cell_type": "code",
   "execution_count": null,
   "id": "dba177e3-f98a-40b5-8dbb-b34874ceb30a",
   "metadata": {
    "tags": []
   },
   "outputs": [],
   "source": [
    "all_terms = filtered_df['Term.1'].unique().tolist()"
   ]
  },
  {
   "cell_type": "code",
   "execution_count": null,
   "id": "26027050-6ce0-4b4e-a759-d089a6128c93",
   "metadata": {
    "tags": []
   },
   "outputs": [],
   "source": [
    "different_terms = []\n",
    "\n",
    "for current_term in all_terms:\n",
    "    \n",
    "    filtered_df_term = filtered_df[filtered_df['Term.1'] == current_term]\n",
    "    \n",
    "    conditions = filtered_df_term['Condition'].unique()\n",
    "\n",
    "    if len(conditions) < 2: \n",
    "        continue\n",
    "        # if (filtered_df_gene['padj'] < 0.05).tolist()[0]:\n",
    "        #    different_genes.append(current_gene)\n",
    "    else:\n",
    "        # Define your specific criteria here (for demonstration, using arbitrary conditions)\n",
    "        \n",
    "        criteria_met = (any(filtered_df_term['NOM p-value'] < 0.05) ) and \\\n",
    "                    (filtered_df_term['NES'].tolist()[0] * filtered_df_term['NES'].tolist()[1] < 0)\n",
    "        \n",
    "        if criteria_met:\n",
    "            different_terms.append(current_term)"
   ]
  },
  {
   "cell_type": "code",
   "execution_count": null,
   "id": "efb850c4-0a53-437e-97f4-d2c268af4765",
   "metadata": {},
   "outputs": [],
   "source": [
    "different_terms"
   ]
  },
  {
   "cell_type": "code",
   "execution_count": null,
   "id": "8235fcfe-e9f9-407f-8708-81390b8a0f4e",
   "metadata": {
    "tags": []
   },
   "outputs": [],
   "source": [
    "GOMF_terms_df = GOMF_terms[GOMF_terms['Term.1'].isin(different_terms) & GOMF_terms['Condition'].isin(conditions_to_check)]"
   ]
  },
  {
   "cell_type": "code",
   "execution_count": null,
   "id": "f79b4d39-a4a4-4828-9294-7d0586b0e9ef",
   "metadata": {
    "tags": []
   },
   "outputs": [],
   "source": [
    "GOMF_terms_df['Condition'] =  GOMF_terms_df['Condition'].str.replace('_Results_msigdb_3', '', regex=False) "
   ]
  },
  {
   "cell_type": "code",
   "execution_count": null,
   "id": "7d52d5ce-c267-4b88-a48e-accb0c5bbbbd",
   "metadata": {
    "tags": []
   },
   "outputs": [],
   "source": [
    "GOMF_terms_df['Term.1'] =  GOMF_terms_df['Term.1'].str.replace('GOMF_', '', regex=False) "
   ]
  },
  {
   "cell_type": "code",
   "execution_count": null,
   "id": "9076903f-7022-48b4-98d3-06b5a07453ae",
   "metadata": {
    "tags": []
   },
   "outputs": [],
   "source": [
    "def truncate_string(input_string, max_length):\n",
    "    if len(input_string) > max_length:\n",
    "        return input_string[:max_length] + \"...\"\n",
    "    else:\n",
    "        return input_string"
   ]
  },
  {
   "cell_type": "code",
   "execution_count": null,
   "id": "2425ae1c-e23c-496d-aaf4-af232ccd1809",
   "metadata": {
    "tags": []
   },
   "outputs": [],
   "source": [
    "GOMF_terms_df['Term.1_truncated'] = GOMF_terms_df['Term.1'].apply(lambda x: truncate_string(x, 45))"
   ]
  },
  {
   "cell_type": "code",
   "execution_count": null,
   "id": "ccd74a63-3071-4743-a130-184a7effbd49",
   "metadata": {
    "tags": []
   },
   "outputs": [],
   "source": [
    "GOMF_terms_df.set_index('Term.1_truncated', inplace=True)\n",
    "\n",
    "GOMF_terms_df['Sex'] = GOMF_terms_df['Condition'].str.split('_', expand=True)[[0]]\n",
    "GOMF_terms_df['Treatment'] = GOMF_terms_df['Condition'].str.split('_', expand=True)[1]\n",
    "GOMF_terms_df['Region'] = GOMF_terms_df['Condition'].str.split('_', expand=True)[4]\n",
    "\n",
    "pivot_df_logFC = GOMF_terms_df.pivot(columns = 'Condition', values=\"NES\")\n",
    "pivot_df_pvalues = GOMF_terms_df.pivot(columns = 'Condition', values=\"FDR p-value\")\n",
    "pivot_df_pvalues = pivot_df_pvalues.applymap(lambda x: '*' if x < 0.05 else ' ')\n",
    "\n",
    "pivot_df_logFC.fillna(0, inplace=True)\n",
    "\n",
    "\n",
    "# Map the conditions to colors\n",
    "GOMF_terms_df_unique = GOMF_terms_df[['Condition', 'Sex', 'Treatment','Region']].drop_duplicates()\n",
    "GOMF_terms_df_unique.set_index(\"Condition\", inplace=True)\n",
    "\n",
    "sex_colors = ['#c66874','#67c1ca']\n",
    "treatment_colors = ['#687ac8','#c8b866']\n",
    "region_colors = ['#c98367',  '#6ac989','#9c69c8']\n",
    "\n",
    "sex_lut = dict(zip(GOMF_terms_df_unique['Sex'].unique(), sex_colors))\n",
    "treatment_lut = dict(zip(GOMF_terms_df_unique['Treatment'].unique(), treatment_colors))\n",
    "region_lut = dict(zip(GOMF_terms_df_unique['Region'].unique(), region_colors))\n",
    "\n",
    "# Convert the conditions to a DataFrame of colors\n",
    "col_colors  = pd.DataFrame(index=pivot_df_logFC.columns)\n",
    "col_colors['Sex'] = GOMF_terms_df_unique['Sex'].map(sex_lut)\n",
    "col_colors['Treatment'] = GOMF_terms_df_unique['Treatment'].map(treatment_lut)\n",
    "col_colors['Region'] = GOMF_terms_df_unique['Region'].map(region_lut)\n",
    "\n",
    "legend_elements = []\n",
    "for cond, cmap in zip(['Sex', 'Treatment', 'Region'], [sex_colors, treatment_colors, region_colors]):\n",
    "    legend_elements.append(Patch(facecolor='none', edgecolor='none', label=cond + ':'))\n",
    "    for label, color in zip(GOMF_terms_df_unique[cond].unique(), cmap):\n",
    "        legend_elements.append(Patch(facecolor=color, label=label))\n",
    "\n",
    "\n",
    "# Create the clustermap\n",
    "cg = sns.clustermap(pivot_df_logFC, cmap=\"vlag\", figsize=(10, 10), linewidths=0.75, linecolor= 'black',\n",
    "                    dendrogram_ratio=(.175, .025), center=0, annot=pivot_df_pvalues, fmt='',\n",
    "                    col_colors =col_colors, xticklabels=False, square=True, cbar_pos=(0.02, 0.55, 0.05, 0.18), col_cluster=False)\n",
    "cg.ax_row_dendrogram.set_visible(False) #suppress row dendrogram\n",
    "cg.ax_col_dendrogram.set_visible(False) #suppress row dendrogram\n",
    "cg.cax.set_title('NES', pad=10)\n",
    "cond_legend = cg.ax_heatmap.legend(labels=[f'p-value < 0.05'], frameon=False, handles=[plt.Line2D([], [], marker='*', color='black', linestyle='None', lw=2)], bbox_to_anchor=(0.01, 0.575))\n",
    "cg.ax_heatmap.add_artist(cond_legend)\n",
    "cg.ax_heatmap.legend(handles=legend_elements, bbox_to_anchor=(0, 1.15), ncol=1, frameon=False)\n",
    "\n",
    "# Manually set the x-axis title at the top\n",
    "cg.ax_heatmap.set_title('Condition', y=1.125)\n",
    "\n",
    "# Optionally, if you want to remove the default x-axis label\n",
    "cg.ax_heatmap.set_xlabel('')\n",
    "cg.ax_heatmap.set_ylabel('')\n",
    "\n",
    "cg.ax_heatmap.set_position([cg.ax_heatmap.get_position().x0, cg.ax_heatmap.get_position().y0,\n",
    "                           cg.ax_heatmap.get_position().width, cg.ax_heatmap.get_position().height])\n",
    "cg.ax_col_colors.set_position([cg.ax_col_colors.get_position().x0, cg.ax_col_colors.get_position().y0 + 0.010,\n",
    "                              cg.ax_col_colors.get_position().width, cg.ax_col_colors.get_position().height])"
   ]
  },
  {
   "cell_type": "markdown",
   "id": "5a2bb543-86e2-4ac2-b528-3a5dd6c17a50",
   "metadata": {},
   "source": [
    "### Female AAV2 "
   ]
  },
  {
   "cell_type": "code",
   "execution_count": null,
   "id": "e77fd34e-d57f-43e4-9d54-4eddb105a792",
   "metadata": {
    "tags": []
   },
   "outputs": [],
   "source": [
    "conditions_to_check=['female_AVV2_vs_Control_pericentral_Results_msigdb_3','female_AVV2_vs_Control_periportal_Results_msigdb_3']\n",
    "combined_df.fillna(1, inplace=True)"
   ]
  },
  {
   "cell_type": "code",
   "execution_count": null,
   "id": "b916ef0a-5b90-4083-b56c-27711c461133",
   "metadata": {
    "tags": []
   },
   "outputs": [],
   "source": [
    "filtered_df = GOMF_terms[GOMF_terms['Condition'].isin(conditions_to_check)]"
   ]
  },
  {
   "cell_type": "code",
   "execution_count": null,
   "id": "fc9850cf-06cd-4176-af85-653331f65de4",
   "metadata": {
    "tags": []
   },
   "outputs": [],
   "source": [
    "filtered_df"
   ]
  },
  {
   "cell_type": "code",
   "execution_count": null,
   "id": "22acbe4f-daad-4297-a341-4833dd1d2794",
   "metadata": {
    "tags": []
   },
   "outputs": [],
   "source": [
    "all_terms = filtered_df['Term.1'].unique().tolist()"
   ]
  },
  {
   "cell_type": "code",
   "execution_count": null,
   "id": "255dfdaf-3d8d-4d52-a0ff-b3a54d694bcd",
   "metadata": {
    "tags": []
   },
   "outputs": [],
   "source": [
    "different_terms = []\n",
    "\n",
    "for current_term in all_terms:\n",
    "    \n",
    "    filtered_df_term = filtered_df[filtered_df['Term.1'] == current_term]\n",
    "    \n",
    "    conditions = filtered_df_term['Condition'].unique()\n",
    "\n",
    "    if len(conditions) < 2: \n",
    "        continue\n",
    "        # if (filtered_df_gene['padj'] < 0.05).tolist()[0]:\n",
    "        #    different_genes.append(current_gene)\n",
    "    else:\n",
    "        # Define your specific criteria here (for demonstration, using arbitrary conditions)\n",
    "        \n",
    "        criteria_met = (any(filtered_df_term['NOM p-value'] < 0.05) ) and \\\n",
    "                    (filtered_df_term['NES'].tolist()[0] * filtered_df_term['NES'].tolist()[1] < 0)\n",
    "        \n",
    "        if criteria_met:\n",
    "            different_terms.append(current_term)"
   ]
  },
  {
   "cell_type": "code",
   "execution_count": null,
   "id": "7e6a0660-43de-45bf-9f36-ff6dff8eb8ed",
   "metadata": {},
   "outputs": [],
   "source": [
    "different_terms"
   ]
  },
  {
   "cell_type": "code",
   "execution_count": null,
   "id": "1f1dcee0-2745-481f-b1ad-ebf0b0c9627e",
   "metadata": {
    "tags": []
   },
   "outputs": [],
   "source": [
    "GOMF_terms_df = GOMF_terms[GOMF_terms['Term.1'].isin(different_terms) & GOMF_terms['Condition'].isin(conditions_to_check)]"
   ]
  },
  {
   "cell_type": "code",
   "execution_count": null,
   "id": "bf566014-f03e-4099-ae51-99e1199f5791",
   "metadata": {
    "tags": []
   },
   "outputs": [],
   "source": [
    "GOMF_terms_df['Condition'] =  GOMF_terms_df['Condition'].str.replace('_Results_msigdb_3', '', regex=False) "
   ]
  },
  {
   "cell_type": "code",
   "execution_count": null,
   "id": "6b9cfc27-8a8c-467a-a554-b021639ce3e6",
   "metadata": {
    "tags": []
   },
   "outputs": [],
   "source": [
    "GOMF_terms_df['Term.1'] =  GOMF_terms_df['Term.1'].str.replace('GOMF_', '', regex=False) "
   ]
  },
  {
   "cell_type": "code",
   "execution_count": null,
   "id": "58ac17e9-b00f-4279-9ec5-2c41a43fd339",
   "metadata": {
    "tags": []
   },
   "outputs": [],
   "source": [
    "def truncate_string(input_string, max_length):\n",
    "    if len(input_string) > max_length:\n",
    "        return input_string[:max_length] + \"...\"\n",
    "    else:\n",
    "        return input_string"
   ]
  },
  {
   "cell_type": "code",
   "execution_count": null,
   "id": "8bfa5584-1758-4cce-8e31-1590759f71fc",
   "metadata": {
    "tags": []
   },
   "outputs": [],
   "source": [
    "GOMF_terms_df['Term.1_truncated'] = GOMF_terms_df['Term.1'].apply(lambda x: truncate_string(x, 45))"
   ]
  },
  {
   "cell_type": "code",
   "execution_count": null,
   "id": "f5203bff-932e-4899-800b-ec0d404d7105",
   "metadata": {
    "tags": []
   },
   "outputs": [],
   "source": [
    "GOMF_terms_df.set_index('Term.1_truncated', inplace=True)\n",
    "\n",
    "GOMF_terms_df['Sex'] = GOMF_terms_df['Condition'].str.split('_', expand=True)[[0]]\n",
    "GOMF_terms_df['Treatment'] = GOMF_terms_df['Condition'].str.split('_', expand=True)[1]\n",
    "GOMF_terms_df['Region'] = GOMF_terms_df['Condition'].str.split('_', expand=True)[4]\n",
    "\n",
    "pivot_df_logFC = GOMF_terms_df.pivot(columns = 'Condition', values=\"NES\")\n",
    "pivot_df_pvalues = GOMF_terms_df.pivot(columns = 'Condition', values=\"FDR p-value\")\n",
    "pivot_df_pvalues = pivot_df_pvalues.applymap(lambda x: '*' if x < 0.05 else ' ')\n",
    "\n",
    "pivot_df_logFC.fillna(0, inplace=True)\n",
    "\n",
    "\n",
    "# Map the conditions to colors\n",
    "GOMF_terms_df_unique = GOMF_terms_df[['Condition', 'Sex', 'Treatment','Region']].drop_duplicates()\n",
    "GOMF_terms_df_unique.set_index(\"Condition\", inplace=True)\n",
    "\n",
    "sex_colors = ['#c66874','#67c1ca']\n",
    "treatment_colors = ['#687ac8','#c8b866']\n",
    "region_colors = ['#c98367',  '#6ac989','#9c69c8']\n",
    "\n",
    "sex_lut = dict(zip(GOMF_terms_df_unique['Sex'].unique(), sex_colors))\n",
    "treatment_lut = dict(zip(GOMF_terms_df_unique['Treatment'].unique(), treatment_colors))\n",
    "region_lut = dict(zip(GOMF_terms_df_unique['Region'].unique(), region_colors))\n",
    "\n",
    "# Convert the conditions to a DataFrame of colors\n",
    "col_colors  = pd.DataFrame(index=pivot_df_logFC.columns)\n",
    "col_colors['Sex'] = GOMF_terms_df_unique['Sex'].map(sex_lut)\n",
    "col_colors['Treatment'] = GOMF_terms_df_unique['Treatment'].map(treatment_lut)\n",
    "col_colors['Region'] = GOMF_terms_df_unique['Region'].map(region_lut)\n",
    "\n",
    "legend_elements = []\n",
    "for cond, cmap in zip(['Sex', 'Treatment', 'Region'], [sex_colors, treatment_colors, region_colors]):\n",
    "    legend_elements.append(Patch(facecolor='none', edgecolor='none', label=cond + ':'))\n",
    "    for label, color in zip(GOMF_terms_df_unique[cond].unique(), cmap):\n",
    "        legend_elements.append(Patch(facecolor=color, label=label))\n",
    "\n",
    "\n",
    "# Create the clustermap\n",
    "cg = sns.clustermap(pivot_df_logFC, cmap=\"vlag\", figsize=(10, 10), linewidths=0.75, linecolor= 'black',\n",
    "                    dendrogram_ratio=(.175, .025), center=0, annot=pivot_df_pvalues, fmt='',\n",
    "                    col_colors =col_colors, xticklabels=False, square=True, cbar_pos=(0.02, 0.55, 0.05, 0.18), col_cluster=False)\n",
    "cg.ax_row_dendrogram.set_visible(False) #suppress row dendrogram\n",
    "cg.ax_col_dendrogram.set_visible(False) #suppress row dendrogram\n",
    "cg.cax.set_title('NES', pad=10)\n",
    "cond_legend = cg.ax_heatmap.legend(labels=[f'p-value < 0.05'], frameon=False, handles=[plt.Line2D([], [], marker='*', color='black', linestyle='None', lw=2)], bbox_to_anchor=(0.01, 0.575))\n",
    "cg.ax_heatmap.add_artist(cond_legend)\n",
    "cg.ax_heatmap.legend(handles=legend_elements, bbox_to_anchor=(0, 1.15), ncol=1, frameon=False)\n",
    "\n",
    "# Manually set the x-axis title at the top\n",
    "cg.ax_heatmap.set_title('Condition', y=1.125)\n",
    "\n",
    "# Optionally, if you want to remove the default x-axis label\n",
    "cg.ax_heatmap.set_xlabel('')\n",
    "cg.ax_heatmap.set_ylabel('')\n",
    "\n",
    "cg.ax_heatmap.set_position([cg.ax_heatmap.get_position().x0, cg.ax_heatmap.get_position().y0,\n",
    "                           cg.ax_heatmap.get_position().width, cg.ax_heatmap.get_position().height])\n",
    "cg.ax_col_colors.set_position([cg.ax_col_colors.get_position().x0, cg.ax_col_colors.get_position().y0 + 0.010,\n",
    "                              cg.ax_col_colors.get_position().width, cg.ax_col_colors.get_position().height])"
   ]
  },
  {
   "cell_type": "markdown",
   "id": "39614f06-aaf5-4760-b62c-1f796277304a",
   "metadata": {},
   "source": [
    "### Pathways: Reactome"
   ]
  },
  {
   "cell_type": "code",
   "execution_count": null,
   "id": "66e7674d-0e6b-4a95-9e73-aac8c78cb6b0",
   "metadata": {
    "tags": []
   },
   "outputs": [],
   "source": [
    "reactome_terms = combined_gsea_df[combined_gsea_df['Term.1'].str.startswith('REACTOME_')]"
   ]
  },
  {
   "cell_type": "code",
   "execution_count": null,
   "id": "6daed054-8f36-4752-9a74-e0cc2218eaf0",
   "metadata": {
    "tags": []
   },
   "outputs": [],
   "source": [
    "reactome_terms"
   ]
  },
  {
   "cell_type": "code",
   "execution_count": null,
   "id": "29a9bd18-acf8-42fe-947d-bfb5addda402",
   "metadata": {
    "tags": []
   },
   "outputs": [],
   "source": [
    "reactome_terms['abs_NES'] = abs(reactome_terms['NES'])"
   ]
  },
  {
   "cell_type": "code",
   "execution_count": null,
   "id": "64a2e52c-4457-43ef-a1bc-a63caf40d0d0",
   "metadata": {
    "tags": []
   },
   "outputs": [],
   "source": [
    "top_reactome_terms = reactome_terms.sort_values(by = 'abs_NES', ascending=False).drop_duplicates('Term.1')['Term.1'].head(35).tolist()"
   ]
  },
  {
   "cell_type": "code",
   "execution_count": null,
   "id": "bca26830-0cf1-417a-8039-79fa83a7fa0f",
   "metadata": {
    "tags": []
   },
   "outputs": [],
   "source": [
    "top_reactome_terms"
   ]
  },
  {
   "cell_type": "code",
   "execution_count": null,
   "id": "8ec5f832-0e07-4aae-8e45-8638cbb422ce",
   "metadata": {
    "tags": []
   },
   "outputs": [],
   "source": [
    "reactome_terms_df = reactome_terms[reactome_terms['Term.1'].isin(top_reactome_terms)]"
   ]
  },
  {
   "cell_type": "code",
   "execution_count": null,
   "id": "68fb3fcf-adfa-4d55-93b9-2bb873b97ed5",
   "metadata": {
    "tags": []
   },
   "outputs": [],
   "source": [
    "reactome_terms_df['Condition'] =  reactome_terms_df['Condition'].str.replace('_Results_msigdb_4', '', regex=False) "
   ]
  },
  {
   "cell_type": "code",
   "execution_count": null,
   "id": "aa4cfe3a-34ab-4344-bc0d-ca63601cc4f1",
   "metadata": {
    "tags": []
   },
   "outputs": [],
   "source": [
    "reactome_terms_df['Term.1'] =  reactome_terms_df['Term.1'].str.replace('REACTOME_', '', regex=False) "
   ]
  },
  {
   "cell_type": "code",
   "execution_count": null,
   "id": "1c1a0e85-8d5e-480a-86d9-8e6d42b6f959",
   "metadata": {
    "tags": []
   },
   "outputs": [],
   "source": [
    "reactome_terms_df['Term.1_truncated'] = reactome_terms_df['Term.1'].apply(lambda x: truncate_string(x, 45))"
   ]
  },
  {
   "cell_type": "code",
   "execution_count": null,
   "id": "8f231ebd-1584-44fe-87bf-5262180f977d",
   "metadata": {
    "tags": []
   },
   "outputs": [],
   "source": [
    "reactome_terms_df.set_index('Term.1_truncated', inplace=True)\n",
    "\n",
    "reactome_terms_df['Sex'] = reactome_terms_df['Condition'].str.split('_', expand=True)[[0]]\n",
    "reactome_terms_df['Treatment'] = reactome_terms_df['Condition'].str.split('_', expand=True)[1]\n",
    "reactome_terms_df['Region'] = reactome_terms_df['Condition'].str.split('_', expand=True)[4]\n",
    "\n",
    "pivot_df_logFC = reactome_terms_df.pivot(columns = 'Condition', values=\"NES\")\n",
    "pivot_df_pvalues = reactome_terms_df.pivot(columns = 'Condition', values=\"FDR p-value\")\n",
    "pivot_df_pvalues = pivot_df_pvalues.applymap(lambda x: '*' if x < 0.05 else ' ')\n",
    "\n",
    "pivot_df_logFC.fillna(0, inplace=True)\n",
    "\n",
    "\n",
    "# Map the conditions to colors\n",
    "reactome_terms_df_unique = reactome_terms_df[['Condition', 'Sex', 'Treatment','Region']].drop_duplicates()\n",
    "reactome_terms_df_unique.set_index(\"Condition\", inplace=True)\n",
    "\n",
    "sex_colors = ['#c66874','#67c1ca']\n",
    "treatment_colors = ['#687ac8','#c8b866']\n",
    "region_colors = ['#c98367',  '#6ac989','#9c69c8']\n",
    "\n",
    "sex_lut = dict(zip(reactome_terms_df_unique['Sex'].unique(), sex_colors))\n",
    "treatment_lut = dict(zip(reactome_terms_df_unique['Treatment'].unique(), treatment_colors))\n",
    "region_lut = dict(zip(reactome_terms_df_unique['Region'].unique(), region_colors))\n",
    "\n",
    "# Convert the conditions to a DataFrame of colors\n",
    "col_colors  = pd.DataFrame(index=pivot_df_logFC.columns)\n",
    "col_colors['Sex'] = reactome_terms_df_unique['Sex'].map(sex_lut)\n",
    "col_colors['Treatment'] = reactome_terms_df_unique['Treatment'].map(treatment_lut)\n",
    "col_colors['Region'] = reactome_terms_df_unique['Region'].map(region_lut)\n",
    "\n",
    "legend_elements = []\n",
    "for cond, cmap in zip(['Sex', 'Treatment', 'Region'], [sex_colors, treatment_colors, region_colors]):\n",
    "    legend_elements.append(Patch(facecolor='none', edgecolor='none', label=cond + ':'))\n",
    "    for label, color in zip(reactome_terms_df_unique[cond].unique(), cmap):\n",
    "        legend_elements.append(Patch(facecolor=color, label=label))\n",
    "\n",
    "\n",
    "# Create the clustermap\n",
    "cg = sns.clustermap(pivot_df_logFC[predefined_order], cmap=\"vlag\", figsize=(10, 10), linewidths=0.75, linecolor= 'black',\n",
    "                    dendrogram_ratio=(.175, .025), center=0, annot=pivot_df_pvalues[predefined_order], fmt='',\n",
    "                    col_colors =col_colors, xticklabels=False, square=True, cbar_pos=(0.02, 0.55, 0.05, 0.18), col_cluster=False)\n",
    "cg.ax_row_dendrogram.set_visible(False) #suppress row dendrogram\n",
    "cg.ax_col_dendrogram.set_visible(False) #suppress row dendrogram\n",
    "cg.cax.set_title('NES', pad=10)\n",
    "cond_legend = cg.ax_heatmap.legend(labels=[f'p-value < 0.05'], frameon=False, handles=[plt.Line2D([], [], marker='*', color='black', linestyle='None', lw=2)], bbox_to_anchor=(0.01, 0.575))\n",
    "cg.ax_heatmap.add_artist(cond_legend)\n",
    "cg.ax_heatmap.legend(handles=legend_elements, bbox_to_anchor=(0, 1.15), ncol=1, frameon=False)\n",
    "\n",
    "# Manually set the x-axis title at the top\n",
    "cg.ax_heatmap.set_title('Condition', y=1.125)\n",
    "\n",
    "# Optionally, if you want to remove the default x-axis label\n",
    "cg.ax_heatmap.set_xlabel('')\n",
    "cg.ax_heatmap.set_ylabel('')\n",
    "\n",
    "cg.ax_heatmap.set_position([cg.ax_heatmap.get_position().x0, cg.ax_heatmap.get_position().y0,\n",
    "                           cg.ax_heatmap.get_position().width, cg.ax_heatmap.get_position().height])\n",
    "cg.ax_col_colors.set_position([cg.ax_col_colors.get_position().x0, cg.ax_col_colors.get_position().y0 + 0.010,\n",
    "                              cg.ax_col_colors.get_position().width, cg.ax_col_colors.get_position().height])"
   ]
  },
  {
   "cell_type": "markdown",
   "id": "5522f5a3-c225-4ecb-ab5c-cb463b072485",
   "metadata": {},
   "source": [
    "As many of the top results are coming from negative enrichment results (reduced activity in treated samples as compared to controls), we focus now on the top most active pathways after treatment. "
   ]
  },
  {
   "cell_type": "code",
   "execution_count": null,
   "id": "88be2656-508b-4c81-9122-d423dbf2b958",
   "metadata": {
    "tags": []
   },
   "outputs": [],
   "source": [
    "top_reactome_terms_up = reactome_terms.sort_values(by = 'NES', ascending=False).drop_duplicates('Term.1')['Term.1'].head(75).tolist()"
   ]
  },
  {
   "cell_type": "code",
   "execution_count": null,
   "id": "1c48a4eb-c359-4e6b-84e8-47f97a0f5a0b",
   "metadata": {
    "tags": []
   },
   "outputs": [],
   "source": [
    "top_reactome_terms_up"
   ]
  },
  {
   "cell_type": "code",
   "execution_count": null,
   "id": "e436abf5-520f-4271-89da-d78181fee031",
   "metadata": {
    "tags": []
   },
   "outputs": [],
   "source": [
    "reactome_terms_df = reactome_terms[reactome_terms['Term.1'].isin(top_reactome_terms_up)]"
   ]
  },
  {
   "cell_type": "code",
   "execution_count": null,
   "id": "6962d608-9c66-47bf-9a1a-a0bea8e5bda0",
   "metadata": {
    "tags": []
   },
   "outputs": [],
   "source": [
    "reactome_terms_df['Condition'] =  reactome_terms_df['Condition'].str.replace('_Results_msigdb_4', '', regex=False) "
   ]
  },
  {
   "cell_type": "code",
   "execution_count": null,
   "id": "44b0a168-f13d-4c61-abe6-4d5ef80d1588",
   "metadata": {
    "tags": []
   },
   "outputs": [],
   "source": [
    "reactome_terms_df['Term.1'] =  reactome_terms_df['Term.1'].str.replace('REACTOME_', '', regex=False) "
   ]
  },
  {
   "cell_type": "code",
   "execution_count": null,
   "id": "a0233f9d-6d1d-4cbd-96eb-c5668b66696b",
   "metadata": {
    "tags": []
   },
   "outputs": [],
   "source": [
    "reactome_terms_df['Term.1_truncated'] = reactome_terms_df['Term.1'].apply(lambda x: truncate_string(x, 45))"
   ]
  },
  {
   "cell_type": "code",
   "execution_count": null,
   "id": "1bf86fa5-4925-4aef-bdb8-be0901c56e14",
   "metadata": {
    "tags": []
   },
   "outputs": [],
   "source": [
    "reactome_terms_df.set_index('Term.1_truncated', inplace=True)\n",
    "\n",
    "reactome_terms_df['Sex'] = reactome_terms_df['Condition'].str.split('_', expand=True)[[0]]\n",
    "reactome_terms_df['Treatment'] = reactome_terms_df['Condition'].str.split('_', expand=True)[1]\n",
    "reactome_terms_df['Region'] = reactome_terms_df['Condition'].str.split('_', expand=True)[4]\n",
    "\n",
    "pivot_df_logFC = reactome_terms_df.pivot(columns = 'Condition', values=\"NES\")\n",
    "pivot_df_pvalues = reactome_terms_df.pivot(columns = 'Condition', values=\"FDR p-value\")\n",
    "pivot_df_pvalues = pivot_df_pvalues.applymap(lambda x: '*' if x < 0.05 else ' ')\n",
    "\n",
    "pivot_df_logFC.fillna(0, inplace=True)\n",
    "\n",
    "\n",
    "# Map the conditions to colors\n",
    "reactome_terms_df_unique = reactome_terms_df[['Condition', 'Sex', 'Treatment','Region']].drop_duplicates()\n",
    "reactome_terms_df_unique.set_index(\"Condition\", inplace=True)\n",
    "\n",
    "sex_colors = ['#c66874','#67c1ca']\n",
    "treatment_colors = ['#687ac8','#c8b866']\n",
    "region_colors = ['#c98367',  '#6ac989','#9c69c8']\n",
    "\n",
    "sex_lut = dict(zip(reactome_terms_df_unique['Sex'].unique(), sex_colors))\n",
    "treatment_lut = dict(zip(reactome_terms_df_unique['Treatment'].unique(), treatment_colors))\n",
    "region_lut = dict(zip(reactome_terms_df_unique['Region'].unique(), region_colors))\n",
    "\n",
    "# Convert the conditions to a DataFrame of colors\n",
    "col_colors  = pd.DataFrame(index=pivot_df_logFC.columns)\n",
    "col_colors['Sex'] = reactome_terms_df_unique['Sex'].map(sex_lut)\n",
    "col_colors['Treatment'] = reactome_terms_df_unique['Treatment'].map(treatment_lut)\n",
    "col_colors['Region'] = reactome_terms_df_unique['Region'].map(region_lut)\n",
    "\n",
    "legend_elements = []\n",
    "for cond, cmap in zip(['Sex', 'Treatment', 'Region'], [sex_colors, treatment_colors, region_colors]):\n",
    "    legend_elements.append(Patch(facecolor='none', edgecolor='none', label=cond + ':'))\n",
    "    for label, color in zip(reactome_terms_df_unique[cond].unique(), cmap):\n",
    "        legend_elements.append(Patch(facecolor=color, label=label))\n",
    "\n",
    "\n",
    "# Create the clustermap\n",
    "cg = sns.clustermap(pivot_df_logFC[predefined_order], cmap=\"vlag\", figsize=(10, 24), linewidths=0.75, linecolor= 'black',\n",
    "                    dendrogram_ratio=(.175, .025), center=0, annot=pivot_df_pvalues[predefined_order], fmt='',\n",
    "                    col_colors =col_colors, xticklabels=False, square=True, cbar_pos=(0.02, 0.55, 0.05, 0.18), col_cluster=False)\n",
    "cg.ax_row_dendrogram.set_visible(False) #suppress row dendrogram\n",
    "cg.ax_col_dendrogram.set_visible(False) #suppress row dendrogram\n",
    "cg.cax.set_title('NES', pad=10)\n",
    "cond_legend = cg.ax_heatmap.legend(labels=[f'p-value < 0.05'], frameon=False, handles=[plt.Line2D([], [], marker='*', color='black', linestyle='None', lw=2)], bbox_to_anchor=(0.01, 0.575))\n",
    "cg.ax_heatmap.add_artist(cond_legend)\n",
    "cg.ax_heatmap.legend(handles=legend_elements, bbox_to_anchor=(0, 1.15), ncol=1, frameon=False)\n",
    "\n",
    "# Manually set the x-axis title at the top\n",
    "cg.ax_heatmap.set_title('Condition', y=1.125)\n",
    "\n",
    "# Optionally, if you want to remove the default x-axis label\n",
    "cg.ax_heatmap.set_xlabel('')\n",
    "cg.ax_heatmap.set_ylabel('')\n",
    "\n",
    "cg.ax_heatmap.set_position([cg.ax_heatmap.get_position().x0, cg.ax_heatmap.get_position().y0,\n",
    "                           cg.ax_heatmap.get_position().width, cg.ax_heatmap.get_position().height])\n",
    "cg.ax_col_colors.set_position([cg.ax_col_colors.get_position().x0, cg.ax_col_colors.get_position().y0 + 0.010,\n",
    "                              cg.ax_col_colors.get_position().width, cg.ax_col_colors.get_position().height])"
   ]
  },
  {
   "cell_type": "code",
   "execution_count": null,
   "id": "9ea7e74a-8338-4f13-a1e7-e59173c41833",
   "metadata": {
    "tags": []
   },
   "outputs": [],
   "source": [
    "search_value_1 = 'TCR'\n",
    "filtered_df_1 = reactome_terms[reactome_terms['Term.1'].str.contains(search_value_1, case=False, na=False)]\n",
    "search_value_2 = 'PKA'\n",
    "filtered_df_2 = reactome_terms[reactome_terms['Term.1'].str.contains(search_value_2, case=False, na=False)]"
   ]
  },
  {
   "cell_type": "code",
   "execution_count": null,
   "id": "8e1dc5bb-d45b-4b5e-be21-090e64a09056",
   "metadata": {
    "tags": []
   },
   "outputs": [],
   "source": [
    "result = pd.concat([filtered_df_1, filtered_df_2], ignore_index=True).reset_index(drop=True)"
   ]
  },
  {
   "cell_type": "code",
   "execution_count": null,
   "id": "88e0f34a-93bb-488c-b2ea-4f8add9af06f",
   "metadata": {
    "tags": []
   },
   "outputs": [],
   "source": [
    "result"
   ]
  },
  {
   "cell_type": "code",
   "execution_count": null,
   "id": "9d16c77b-b5af-480d-a55b-f4a87427a49d",
   "metadata": {},
   "outputs": [],
   "source": [
    "result.set_index('Term.1', inplace=True)"
   ]
  },
  {
   "cell_type": "code",
   "execution_count": null,
   "id": "88b1ba64-93a9-4035-8099-eefeac8fecf8",
   "metadata": {
    "tags": []
   },
   "outputs": [],
   "source": [
    "predefined_order = ['female_AVV2_vs_Control_periportal_Results_msigdb_4', \n",
    "                    'female_AVV2_vs_Control_other_Results_msigdb_4', \n",
    "                    'female_AVV2_vs_Control_pericentral_Results_msigdb_4', \n",
    "                    'female_AVV9_vs_Control_periportal_Results_msigdb_4', \n",
    "                    'female_AVV9_vs_Control_other_Results_msigdb_4', \n",
    "                    'female_AVV9_vs_Control_pericentral_Results_msigdb_4', \n",
    "                    'male_AVV2_vs_Control_periportal_Results_msigdb_4', \n",
    "                    'male_AVV2_vs_Control_other_Results_msigdb_4', \n",
    "                    'male_AVV2_vs_Control_pericentral_Results_msigdb_4', \n",
    "                    'male_AVV9_vs_Control_periportal_Results_msigdb_4', \n",
    "                    'male_AVV9_vs_Control_other_Results_msigdb_4', \n",
    "                    'male_AVV9_vs_Control_pericentral_Results_msigdb_4' \n",
    "                    ] "
   ]
  },
  {
   "cell_type": "code",
   "execution_count": null,
   "id": "da3d3c2a-361c-418f-b905-1b1e1d2a57fb",
   "metadata": {
    "tags": []
   },
   "outputs": [],
   "source": [
    "result['Sex'] = result['Condition'].str.split('_', expand=True)[[0]]\n",
    "result['Treatment'] = result['Condition'].str.split('_', expand=True)[1]\n",
    "result['Region'] = result['Condition'].str.split('_', expand=True)[4]\n",
    "\n",
    "pivot_df_logFC = result.pivot(columns = 'Condition', values=\"NES\")\n",
    "pivot_df_pvalues = result.pivot(columns = 'Condition', values=\"FDR p-value\")\n",
    "pivot_df_pvalues = pivot_df_pvalues.applymap(lambda x: '*' if x < 0.05 else ' ')\n",
    "\n",
    "pivot_df_logFC.fillna(0, inplace=True)\n",
    "\n",
    "\n",
    "# Map the conditions to colors\n",
    "result_df_unique = result[['Condition', 'Sex', 'Treatment','Region']].drop_duplicates()\n",
    "result_df_unique.set_index(\"Condition\", inplace=True)\n",
    "\n",
    "sex_colors = ['#c66874','#67c1ca']\n",
    "treatment_colors = ['#687ac8','#c8b866']\n",
    "region_colors = ['#c98367',  '#6ac989','#9c69c8']\n",
    "\n",
    "sex_lut = dict(zip(result_df_unique['Sex'].unique(), sex_colors))\n",
    "treatment_lut = dict(zip(result_df_unique['Treatment'].unique(), treatment_colors))\n",
    "region_lut = dict(zip(result_df_unique['Region'].unique(), region_colors))\n",
    "\n",
    "# Convert the conditions to a DataFrame of colors\n",
    "col_colors  = pd.DataFrame(index=pivot_df_logFC.columns)\n",
    "col_colors['Sex'] = result_df_unique['Sex'].map(sex_lut)\n",
    "col_colors['Treatment'] = result_df_unique['Treatment'].map(treatment_lut)\n",
    "col_colors['Region'] = result_df_unique['Region'].map(region_lut)\n",
    "\n",
    "legend_elements = []\n",
    "for cond, cmap in zip(['Sex', 'Treatment', 'Region'], [sex_colors, treatment_colors, region_colors]):\n",
    "    legend_elements.append(Patch(facecolor='none', edgecolor='none', label=cond + ':'))\n",
    "    for label, color in zip(result_df_unique[cond].unique(), cmap):\n",
    "        legend_elements.append(Patch(facecolor=color, label=label))\n",
    "\n",
    "\n",
    "# Create the clustermap\n",
    "cg = sns.clustermap(pivot_df_logFC[predefined_order], cmap=\"vlag\", figsize=(10, 6), linewidths=0.75, linecolor= 'black',\n",
    "                    dendrogram_ratio=(.175, .025), center=0, annot=pivot_df_pvalues[predefined_order], fmt='',\n",
    "                    col_colors =col_colors, xticklabels=False, square=True, cbar_pos=(0.02, 0.15, 0.05, 0.18), col_cluster=False)\n",
    "cg.ax_row_dendrogram.set_visible(False) #suppress row dendrogram\n",
    "cg.ax_col_dendrogram.set_visible(False) #suppress row dendrogram\n",
    "cg.cax.set_title('NES', pad=10)\n",
    "cond_legend = cg.ax_heatmap.legend(labels=[f'p-value < 0.05'], frameon=False, handles=[plt.Line2D([], [], marker='*', color='black', linestyle='None', lw=2)], bbox_to_anchor=(0.01, 0.575))\n",
    "cg.ax_heatmap.add_artist(cond_legend)\n",
    "cg.ax_heatmap.legend(handles=legend_elements, bbox_to_anchor=(0, 1.15), ncol=1, frameon=False)\n",
    "\n",
    "# Manually set the x-axis title at the top\n",
    "cg.ax_heatmap.set_title('Condition', y=1.125)\n",
    "\n",
    "# Optionally, if you want to remove the default x-axis label\n",
    "cg.ax_heatmap.set_xlabel('')\n",
    "cg.ax_heatmap.set_ylabel('')\n",
    "\n",
    "cg.ax_heatmap.set_position([cg.ax_heatmap.get_position().x0, cg.ax_heatmap.get_position().y0,\n",
    "                           cg.ax_heatmap.get_position().width, cg.ax_heatmap.get_position().height])\n",
    "cg.ax_col_colors.set_position([cg.ax_col_colors.get_position().x0, cg.ax_col_colors.get_position().y0 + 0.010,\n",
    "                              cg.ax_col_colors.get_position().width, cg.ax_col_colors.get_position().height])"
   ]
  },
  {
   "cell_type": "markdown",
   "id": "67bcc189-7bcb-4fde-b3a4-cdbd57914bf7",
   "metadata": {},
   "source": [
    "Can we also check that they are responding differently between pericentral and periportal in the different conditions? "
   ]
  },
  {
   "cell_type": "code",
   "execution_count": null,
   "id": "8e08abd6-000a-432d-9746-164e172868fc",
   "metadata": {},
   "outputs": [],
   "source": [
    "reactome_terms"
   ]
  },
  {
   "cell_type": "markdown",
   "id": "7d1f433e-fd74-45bd-a40a-64da9d9339a2",
   "metadata": {},
   "source": [
    "### Male AAV9 "
   ]
  },
  {
   "cell_type": "code",
   "execution_count": null,
   "id": "5394f734-9d1a-4011-814c-bab76ca14d77",
   "metadata": {
    "tags": []
   },
   "outputs": [],
   "source": [
    "conditions_to_check=['male_AVV9_vs_Control_pericentral_Results_msigdb_4','male_AVV9_vs_Control_periportal_Results_msigdb_4']\n",
    "combined_df.fillna(1, inplace=True)"
   ]
  },
  {
   "cell_type": "code",
   "execution_count": null,
   "id": "92fe6600-0f44-4c91-921e-96a2f44e5fd0",
   "metadata": {
    "tags": []
   },
   "outputs": [],
   "source": [
    "filtered_df = reactome_terms[reactome_terms['Condition'].isin(conditions_to_check)]"
   ]
  },
  {
   "cell_type": "code",
   "execution_count": null,
   "id": "1d3cd862-1cd2-42e9-9d85-c6a76345c5a0",
   "metadata": {
    "tags": []
   },
   "outputs": [],
   "source": [
    "filtered_df"
   ]
  },
  {
   "cell_type": "code",
   "execution_count": null,
   "id": "0c5af1d2-5056-4f23-ac0e-bb7d4eb361a4",
   "metadata": {
    "tags": []
   },
   "outputs": [],
   "source": [
    "all_terms = filtered_df['Term.1'].unique().tolist()"
   ]
  },
  {
   "cell_type": "code",
   "execution_count": null,
   "id": "7163b223-7a7c-46b0-88cf-5c3e0c4fb067",
   "metadata": {
    "tags": []
   },
   "outputs": [],
   "source": [
    "different_terms = []\n",
    "\n",
    "for current_term in all_terms:\n",
    "    \n",
    "    filtered_df_term = filtered_df[filtered_df['Term.1'] == current_term]\n",
    "    \n",
    "    conditions = filtered_df_term['Condition'].unique()\n",
    "\n",
    "    if len(conditions) < 2: \n",
    "        continue\n",
    "        # if (filtered_df_gene['padj'] < 0.05).tolist()[0]:\n",
    "        #    different_genes.append(current_gene)\n",
    "    else:\n",
    "        # Define your specific criteria here (for demonstration, using arbitrary conditions)\n",
    "        \n",
    "        criteria_met = (any(filtered_df_term['NOM p-value'] < 0.05) ) and \\\n",
    "                    (filtered_df_term['NES'].tolist()[0] * filtered_df_term['NES'].tolist()[1] < 0)\n",
    "        \n",
    "        if criteria_met:\n",
    "            different_terms.append(current_term)"
   ]
  },
  {
   "cell_type": "code",
   "execution_count": null,
   "id": "dcd4cc3e-3d90-4990-a997-668d72143447",
   "metadata": {},
   "outputs": [],
   "source": [
    "different_terms"
   ]
  },
  {
   "cell_type": "code",
   "execution_count": null,
   "id": "12b0dc30-7191-436f-a0ad-ea621d10b40f",
   "metadata": {
    "tags": []
   },
   "outputs": [],
   "source": [
    "reactome_terms_df = reactome_terms[reactome_terms['Term.1'].isin(different_terms) & reactome_terms['Condition'].isin(conditions_to_check)]"
   ]
  },
  {
   "cell_type": "code",
   "execution_count": null,
   "id": "19dfecdf-e5b2-47d0-96ef-ba2f6cb9acd2",
   "metadata": {
    "tags": []
   },
   "outputs": [],
   "source": [
    "reactome_terms_df['Condition'] =  reactome_terms_df['Condition'].str.replace('_Results_msigdb_4', '', regex=False) "
   ]
  },
  {
   "cell_type": "code",
   "execution_count": null,
   "id": "e1f25ec4-72ec-4a0d-a894-b8b0b532eb53",
   "metadata": {
    "tags": []
   },
   "outputs": [],
   "source": [
    "reactome_terms_df['Term.1'] =  reactome_terms_df['Term.1'].str.replace('REACTOME_', '', regex=False) "
   ]
  },
  {
   "cell_type": "code",
   "execution_count": null,
   "id": "1e3c9421-3d67-4025-b609-729653fd965c",
   "metadata": {
    "tags": []
   },
   "outputs": [],
   "source": [
    "def truncate_string(input_string, max_length):\n",
    "    if len(input_string) > max_length:\n",
    "        return input_string[:max_length] + \"...\"\n",
    "    else:\n",
    "        return input_string"
   ]
  },
  {
   "cell_type": "code",
   "execution_count": null,
   "id": "60e95aae-2aeb-4cd0-ae54-a0f28dda3964",
   "metadata": {
    "tags": []
   },
   "outputs": [],
   "source": [
    "reactome_terms_df['Term.1_truncated'] = reactome_terms_df['Term.1'].apply(lambda x: truncate_string(x, 45))"
   ]
  },
  {
   "cell_type": "code",
   "execution_count": null,
   "id": "0daed235-321d-43c6-86d0-75d818ed26ef",
   "metadata": {},
   "outputs": [],
   "source": [
    "reactome_terms_df"
   ]
  },
  {
   "cell_type": "code",
   "execution_count": null,
   "id": "df097148-0a2d-4a10-8781-59cc05905f6f",
   "metadata": {
    "tags": []
   },
   "outputs": [],
   "source": [
    "reactome_terms_df.set_index('Term.1_truncated', inplace=True)\n",
    "\n",
    "reactome_terms_df['Sex'] = reactome_terms_df['Condition'].str.split('_', expand=True)[[0]]\n",
    "reactome_terms_df['Treatment'] = reactome_terms_df['Condition'].str.split('_', expand=True)[1]\n",
    "reactome_terms_df['Region'] = reactome_terms_df['Condition'].str.split('_', expand=True)[4]\n",
    "\n",
    "pivot_df_logFC = reactome_terms_df.pivot(columns = 'Condition', values=\"NES\")\n",
    "pivot_df_pvalues = reactome_terms_df.pivot(columns = 'Condition', values=\"FDR p-value\")\n",
    "pivot_df_pvalues = pivot_df_pvalues.applymap(lambda x: '*' if x < 0.05 else ' ')\n",
    "\n",
    "pivot_df_logFC.fillna(0, inplace=True)\n",
    "\n",
    "\n",
    "# Map the conditions to colors\n",
    "reactome_terms_df_unique = reactome_terms_df[['Condition', 'Sex', 'Treatment','Region']].drop_duplicates()\n",
    "reactome_terms_df_unique.set_index(\"Condition\", inplace=True)\n",
    "\n",
    "sex_colors = ['#c66874','#67c1ca']\n",
    "treatment_colors = ['#687ac8','#c8b866']\n",
    "region_colors = ['#c98367',  '#6ac989','#9c69c8']\n",
    "\n",
    "sex_lut = dict(zip(reactome_terms_df_unique['Sex'].unique(), sex_colors))\n",
    "treatment_lut = dict(zip(reactome_terms_df_unique['Treatment'].unique(), treatment_colors))\n",
    "region_lut = dict(zip(reactome_terms_df_unique['Region'].unique(), region_colors))\n",
    "\n",
    "# Convert the conditions to a DataFrame of colors\n",
    "col_colors  = pd.DataFrame(index=pivot_df_logFC.columns)\n",
    "col_colors['Sex'] = reactome_terms_df_unique['Sex'].map(sex_lut)\n",
    "col_colors['Treatment'] = reactome_terms_df_unique['Treatment'].map(treatment_lut)\n",
    "col_colors['Region'] = reactome_terms_df_unique['Region'].map(region_lut)\n",
    "\n",
    "legend_elements = []\n",
    "for cond, cmap in zip(['Sex', 'Treatment', 'Region'], [sex_colors, treatment_colors, region_colors]):\n",
    "    legend_elements.append(Patch(facecolor='none', edgecolor='none', label=cond + ':'))\n",
    "    for label, color in zip(reactome_terms_df_unique[cond].unique(), cmap):\n",
    "        legend_elements.append(Patch(facecolor=color, label=label))\n",
    "\n",
    "\n",
    "# Create the clustermap\n",
    "cg = sns.clustermap(pivot_df_logFC, cmap=\"vlag\", figsize=(10, 10), linewidths=0.75, linecolor= 'black',\n",
    "                    dendrogram_ratio=(.175, .025), center=0, annot=pivot_df_pvalues, fmt='',\n",
    "                    col_colors =col_colors, xticklabels=False, square=True, cbar_pos=(0.02, 0.55, 0.05, 0.18), col_cluster=False)\n",
    "cg.ax_row_dendrogram.set_visible(False) #suppress row dendrogram\n",
    "cg.ax_col_dendrogram.set_visible(False) #suppress row dendrogram\n",
    "cg.cax.set_title('NES', pad=10)\n",
    "cond_legend = cg.ax_heatmap.legend(labels=[f'p-value < 0.05'], frameon=False, handles=[plt.Line2D([], [], marker='*', color='black', linestyle='None', lw=2)], bbox_to_anchor=(0.01, 0.575))\n",
    "cg.ax_heatmap.add_artist(cond_legend)\n",
    "cg.ax_heatmap.legend(handles=legend_elements, bbox_to_anchor=(0, 1.15), ncol=1, frameon=False)\n",
    "\n",
    "# Manually set the x-axis title at the top\n",
    "cg.ax_heatmap.set_title('Condition', y=1.125)\n",
    "\n",
    "# Optionally, if you want to remove the default x-axis label\n",
    "cg.ax_heatmap.set_xlabel('')\n",
    "cg.ax_heatmap.set_ylabel('')\n",
    "\n",
    "cg.ax_heatmap.set_position([cg.ax_heatmap.get_position().x0, cg.ax_heatmap.get_position().y0,\n",
    "                           cg.ax_heatmap.get_position().width, cg.ax_heatmap.get_position().height])\n",
    "cg.ax_col_colors.set_position([cg.ax_col_colors.get_position().x0, cg.ax_col_colors.get_position().y0 + 0.010,\n",
    "                              cg.ax_col_colors.get_position().width, cg.ax_col_colors.get_position().height])"
   ]
  },
  {
   "cell_type": "markdown",
   "id": "c93335b8-9ba5-4214-928a-1b7dfbc0d77b",
   "metadata": {},
   "source": [
    "### Male AAV2 "
   ]
  },
  {
   "cell_type": "code",
   "execution_count": null,
   "id": "3978e318-ee29-4798-bc36-e4aa8f090e73",
   "metadata": {
    "tags": []
   },
   "outputs": [],
   "source": [
    "conditions_to_check=['male_AVV2_vs_Control_pericentral_Results_msigdb_4','male_AVV2_vs_Control_periportal_Results_msigdb_4']\n",
    "combined_df.fillna(1, inplace=True)"
   ]
  },
  {
   "cell_type": "code",
   "execution_count": null,
   "id": "cf7c6893-6549-4f0f-94e2-fbd95b1510fc",
   "metadata": {
    "tags": []
   },
   "outputs": [],
   "source": [
    "filtered_df = reactome_terms[reactome_terms['Condition'].isin(conditions_to_check)]"
   ]
  },
  {
   "cell_type": "code",
   "execution_count": null,
   "id": "54e0aa74-2b0f-4bc2-83d8-65c1ac3a0de5",
   "metadata": {
    "tags": []
   },
   "outputs": [],
   "source": [
    "filtered_df"
   ]
  },
  {
   "cell_type": "code",
   "execution_count": null,
   "id": "a679a84c-1939-46f4-8151-6338559de640",
   "metadata": {
    "tags": []
   },
   "outputs": [],
   "source": [
    "all_terms = filtered_df['Term.1'].unique().tolist()"
   ]
  },
  {
   "cell_type": "code",
   "execution_count": null,
   "id": "46f4de43-cd99-4a5e-afa4-3a617e0099e4",
   "metadata": {
    "tags": []
   },
   "outputs": [],
   "source": [
    "different_terms = []\n",
    "\n",
    "for current_term in all_terms:\n",
    "    \n",
    "    filtered_df_term = filtered_df[filtered_df['Term.1'] == current_term]\n",
    "    \n",
    "    conditions = filtered_df_term['Condition'].unique()\n",
    "\n",
    "    if len(conditions) < 2: \n",
    "        continue\n",
    "        # if (filtered_df_gene['padj'] < 0.05).tolist()[0]:\n",
    "        #    different_genes.append(current_gene)\n",
    "    else:\n",
    "        # Define your specific criteria here (for demonstration, using arbitrary conditions)\n",
    "        \n",
    "        criteria_met = (any(filtered_df_term['NOM p-value'] < 0.05) ) and \\\n",
    "                    (filtered_df_term['NES'].tolist()[0] * filtered_df_term['NES'].tolist()[1] < 0)\n",
    "        \n",
    "        if criteria_met:\n",
    "            different_terms.append(current_term)"
   ]
  },
  {
   "cell_type": "code",
   "execution_count": null,
   "id": "f843d2be-be27-4471-9ebc-ea4c3b17d2c8",
   "metadata": {},
   "outputs": [],
   "source": [
    "different_terms"
   ]
  },
  {
   "cell_type": "code",
   "execution_count": null,
   "id": "361dc90f-e040-46cd-84cc-6e80bb38030d",
   "metadata": {
    "tags": []
   },
   "outputs": [],
   "source": [
    "reactome_terms_df = reactome_terms[reactome_terms['Term.1'].isin(different_terms) & reactome_terms['Condition'].isin(conditions_to_check)]"
   ]
  },
  {
   "cell_type": "code",
   "execution_count": null,
   "id": "ca4257d9-c956-4f4e-8a3a-e822dbc0d351",
   "metadata": {
    "tags": []
   },
   "outputs": [],
   "source": [
    "reactome_terms_df['Condition'] =  reactome_terms_df['Condition'].str.replace('_Results_msigdb_4', '', regex=False) "
   ]
  },
  {
   "cell_type": "code",
   "execution_count": null,
   "id": "5187ae45-4684-42a0-8690-2468dd63e898",
   "metadata": {
    "tags": []
   },
   "outputs": [],
   "source": [
    "reactome_terms_df['Term.1'] =  reactome_terms_df['Term.1'].str.replace('REACTOME_', '', regex=False) "
   ]
  },
  {
   "cell_type": "code",
   "execution_count": null,
   "id": "1aa96439-d6fd-451d-be8a-07ac86b01a1e",
   "metadata": {
    "tags": []
   },
   "outputs": [],
   "source": [
    "def truncate_string(input_string, max_length):\n",
    "    if len(input_string) > max_length:\n",
    "        return input_string[:max_length] + \"...\"\n",
    "    else:\n",
    "        return input_string"
   ]
  },
  {
   "cell_type": "code",
   "execution_count": null,
   "id": "966017be-f643-4b1e-990a-c4873ee1ab50",
   "metadata": {
    "tags": []
   },
   "outputs": [],
   "source": [
    "reactome_terms_df['Term.1_truncated'] = reactome_terms_df['Term.1'].apply(lambda x: truncate_string(x, 45))"
   ]
  },
  {
   "cell_type": "code",
   "execution_count": null,
   "id": "86265a0e-8b5f-4e29-97b9-c7e2d8066933",
   "metadata": {
    "tags": []
   },
   "outputs": [],
   "source": [
    "reactome_terms_df.set_index('Term.1_truncated', inplace=True)\n",
    "\n",
    "reactome_terms_df['Sex'] = reactome_terms_df['Condition'].str.split('_', expand=True)[[0]]\n",
    "reactome_terms_df['Treatment'] = reactome_terms_df['Condition'].str.split('_', expand=True)[1]\n",
    "reactome_terms_df['Region'] = reactome_terms_df['Condition'].str.split('_', expand=True)[4]\n",
    "\n",
    "pivot_df_logFC = reactome_terms_df.pivot(columns = 'Condition', values=\"NES\")\n",
    "pivot_df_pvalues = reactome_terms_df.pivot(columns = 'Condition', values=\"FDR p-value\")\n",
    "pivot_df_pvalues = pivot_df_pvalues.applymap(lambda x: '*' if x < 0.05 else ' ')\n",
    "\n",
    "pivot_df_logFC.fillna(0, inplace=True)\n",
    "\n",
    "\n",
    "# Map the conditions to colors\n",
    "reactome_terms_df_unique = reactome_terms_df[['Condition', 'Sex', 'Treatment','Region']].drop_duplicates()\n",
    "reactome_terms_df_unique.set_index(\"Condition\", inplace=True)\n",
    "\n",
    "sex_colors = ['#c66874','#67c1ca']\n",
    "treatment_colors = ['#687ac8','#c8b866']\n",
    "region_colors = ['#c98367',  '#6ac989','#9c69c8']\n",
    "\n",
    "sex_lut = dict(zip(reactome_terms_df_unique['Sex'].unique(), sex_colors))\n",
    "treatment_lut = dict(zip(reactome_terms_df_unique['Treatment'].unique(), treatment_colors))\n",
    "region_lut = dict(zip(reactome_terms_df_unique['Region'].unique(), region_colors))\n",
    "\n",
    "# Convert the conditions to a DataFrame of colors\n",
    "col_colors  = pd.DataFrame(index=pivot_df_logFC.columns)\n",
    "col_colors['Sex'] = reactome_terms_df_unique['Sex'].map(sex_lut)\n",
    "col_colors['Treatment'] = reactome_terms_df_unique['Treatment'].map(treatment_lut)\n",
    "col_colors['Region'] = reactome_terms_df_unique['Region'].map(region_lut)\n",
    "\n",
    "legend_elements = []\n",
    "for cond, cmap in zip(['Sex', 'Treatment', 'Region'], [sex_colors, treatment_colors, region_colors]):\n",
    "    legend_elements.append(Patch(facecolor='none', edgecolor='none', label=cond + ':'))\n",
    "    for label, color in zip(reactome_terms_df_unique[cond].unique(), cmap):\n",
    "        legend_elements.append(Patch(facecolor=color, label=label))\n",
    "\n",
    "\n",
    "# Create the clustermap\n",
    "cg = sns.clustermap(pivot_df_logFC, cmap=\"vlag\", figsize=(10, 10), linewidths=0.75, linecolor= 'black',\n",
    "                    dendrogram_ratio=(.175, .025), center=0, annot=pivot_df_pvalues, fmt='',\n",
    "                    col_colors =col_colors, xticklabels=False, square=True, cbar_pos=(0.02, 0.55, 0.05, 0.18), col_cluster=False)\n",
    "cg.ax_row_dendrogram.set_visible(False) #suppress row dendrogram\n",
    "cg.ax_col_dendrogram.set_visible(False) #suppress row dendrogram\n",
    "cg.cax.set_title('NES', pad=10)\n",
    "cond_legend = cg.ax_heatmap.legend(labels=[f'p-value < 0.05'], frameon=False, handles=[plt.Line2D([], [], marker='*', color='black', linestyle='None', lw=2)], bbox_to_anchor=(0.01, 0.575))\n",
    "cg.ax_heatmap.add_artist(cond_legend)\n",
    "cg.ax_heatmap.legend(handles=legend_elements, bbox_to_anchor=(0, 1.15), ncol=1, frameon=False)\n",
    "\n",
    "# Manually set the x-axis title at the top\n",
    "cg.ax_heatmap.set_title('Condition', y=1.125)\n",
    "\n",
    "# Optionally, if you want to remove the default x-axis label\n",
    "cg.ax_heatmap.set_xlabel('')\n",
    "cg.ax_heatmap.set_ylabel('')\n",
    "\n",
    "cg.ax_heatmap.set_position([cg.ax_heatmap.get_position().x0, cg.ax_heatmap.get_position().y0,\n",
    "                           cg.ax_heatmap.get_position().width, cg.ax_heatmap.get_position().height])\n",
    "cg.ax_col_colors.set_position([cg.ax_col_colors.get_position().x0, cg.ax_col_colors.get_position().y0 + 0.010,\n",
    "                              cg.ax_col_colors.get_position().width, cg.ax_col_colors.get_position().height])"
   ]
  },
  {
   "cell_type": "markdown",
   "id": "d4c03b94-0b57-4646-802c-c79d7ab72f77",
   "metadata": {},
   "source": [
    "### Female AAV9 "
   ]
  },
  {
   "cell_type": "code",
   "execution_count": null,
   "id": "14ac0df7-7cfb-4764-8667-674a377b0311",
   "metadata": {
    "tags": []
   },
   "outputs": [],
   "source": [
    "conditions_to_check=['female_AVV9_vs_Control_pericentral_Results_msigdb_4','female_AVV9_vs_Control_periportal_Results_msigdb_4']\n",
    "combined_df.fillna(1, inplace=True)"
   ]
  },
  {
   "cell_type": "code",
   "execution_count": null,
   "id": "0467f02a-290f-4696-adc8-2ce83d046b0e",
   "metadata": {
    "tags": []
   },
   "outputs": [],
   "source": [
    "filtered_df = reactome_terms[reactome_terms['Condition'].isin(conditions_to_check)]"
   ]
  },
  {
   "cell_type": "code",
   "execution_count": null,
   "id": "af007ca2-7ed4-4a5f-9f73-cbc3b3726662",
   "metadata": {
    "tags": []
   },
   "outputs": [],
   "source": [
    "filtered_df"
   ]
  },
  {
   "cell_type": "code",
   "execution_count": null,
   "id": "0329e98d-d217-4ce6-b5d6-4339b47dbd8d",
   "metadata": {
    "tags": []
   },
   "outputs": [],
   "source": [
    "all_terms = filtered_df['Term.1'].unique().tolist()"
   ]
  },
  {
   "cell_type": "code",
   "execution_count": null,
   "id": "fc177f93-4442-4a71-86c4-bf2b4cf94fd0",
   "metadata": {
    "tags": []
   },
   "outputs": [],
   "source": [
    "different_terms = []\n",
    "\n",
    "for current_term in all_terms:\n",
    "    \n",
    "    filtered_df_term = filtered_df[filtered_df['Term.1'] == current_term]\n",
    "    \n",
    "    conditions = filtered_df_term['Condition'].unique()\n",
    "\n",
    "    if len(conditions) < 2: \n",
    "        continue\n",
    "        # if (filtered_df_gene['padj'] < 0.05).tolist()[0]:\n",
    "        #    different_genes.append(current_gene)\n",
    "    else:\n",
    "        # Define your specific criteria here (for demonstration, using arbitrary conditions)\n",
    "        \n",
    "        criteria_met = (any(filtered_df_term['NOM p-value'] < 0.05) ) and \\\n",
    "                    (filtered_df_term['NES'].tolist()[0] * filtered_df_term['NES'].tolist()[1] < 0)\n",
    "        \n",
    "        if criteria_met:\n",
    "            different_terms.append(current_term)"
   ]
  },
  {
   "cell_type": "code",
   "execution_count": null,
   "id": "900341a0-c607-448f-b1ee-598729c3ff0d",
   "metadata": {},
   "outputs": [],
   "source": [
    "different_terms"
   ]
  },
  {
   "cell_type": "code",
   "execution_count": null,
   "id": "a25765a1-02c7-4981-a662-98adb167d678",
   "metadata": {
    "tags": []
   },
   "outputs": [],
   "source": [
    "reactome_terms_df = reactome_terms[reactome_terms['Term.1'].isin(different_terms) & reactome_terms['Condition'].isin(conditions_to_check)]"
   ]
  },
  {
   "cell_type": "code",
   "execution_count": null,
   "id": "d6785acc-1e42-4618-84c7-6b08758ad514",
   "metadata": {
    "tags": []
   },
   "outputs": [],
   "source": [
    "reactome_terms_df['Condition'] =  reactome_terms_df['Condition'].str.replace('_Results_msigdb_4', '', regex=False) "
   ]
  },
  {
   "cell_type": "code",
   "execution_count": null,
   "id": "d5438662-b9f0-4c64-b0a9-df838d389c13",
   "metadata": {
    "tags": []
   },
   "outputs": [],
   "source": [
    "reactome_terms_df['Term.1'] =  reactome_terms_df['Term.1'].str.replace('REACTOME_', '', regex=False) "
   ]
  },
  {
   "cell_type": "code",
   "execution_count": null,
   "id": "0a8a9162-2064-4587-a14f-83f6bf08aed0",
   "metadata": {
    "tags": []
   },
   "outputs": [],
   "source": [
    "def truncate_string(input_string, max_length):\n",
    "    if len(input_string) > max_length:\n",
    "        return input_string[:max_length] + \"...\"\n",
    "    else:\n",
    "        return input_string"
   ]
  },
  {
   "cell_type": "code",
   "execution_count": null,
   "id": "d5ec6cda-3db5-4750-83da-86cc1236f6f5",
   "metadata": {
    "tags": []
   },
   "outputs": [],
   "source": [
    "reactome_terms_df['Term.1_truncated'] = reactome_terms_df['Term.1'].apply(lambda x: truncate_string(x, 45))"
   ]
  },
  {
   "cell_type": "code",
   "execution_count": null,
   "id": "47978ab5-25da-41d9-abe2-ec83d549a2a9",
   "metadata": {
    "tags": []
   },
   "outputs": [],
   "source": [
    "reactome_terms_df.set_index('Term.1_truncated', inplace=True)\n",
    "\n",
    "reactome_terms_df['Sex'] = reactome_terms_df['Condition'].str.split('_', expand=True)[[0]]\n",
    "reactome_terms_df['Treatment'] = reactome_terms_df['Condition'].str.split('_', expand=True)[1]\n",
    "reactome_terms_df['Region'] = reactome_terms_df['Condition'].str.split('_', expand=True)[4]\n",
    "\n",
    "pivot_df_logFC = reactome_terms_df.pivot(columns = 'Condition', values=\"NES\")\n",
    "pivot_df_pvalues = reactome_terms_df.pivot(columns = 'Condition', values=\"FDR p-value\")\n",
    "pivot_df_pvalues = pivot_df_pvalues.applymap(lambda x: '*' if x < 0.05 else ' ')\n",
    "\n",
    "pivot_df_logFC.fillna(0, inplace=True)\n",
    "\n",
    "\n",
    "# Map the conditions to colors\n",
    "reactome_terms_df_unique = reactome_terms_df[['Condition', 'Sex', 'Treatment','Region']].drop_duplicates()\n",
    "reactome_terms_df_unique.set_index(\"Condition\", inplace=True)\n",
    "\n",
    "sex_colors = ['#c66874','#67c1ca']\n",
    "treatment_colors = ['#687ac8','#c8b866']\n",
    "region_colors = ['#c98367',  '#6ac989','#9c69c8']\n",
    "\n",
    "sex_lut = dict(zip(reactome_terms_df_unique['Sex'].unique(), sex_colors))\n",
    "treatment_lut = dict(zip(reactome_terms_df_unique['Treatment'].unique(), treatment_colors))\n",
    "region_lut = dict(zip(reactome_terms_df_unique['Region'].unique(), region_colors))\n",
    "\n",
    "# Convert the conditions to a DataFrame of colors\n",
    "col_colors  = pd.DataFrame(index=pivot_df_logFC.columns)\n",
    "col_colors['Sex'] = reactome_terms_df_unique['Sex'].map(sex_lut)\n",
    "col_colors['Treatment'] = reactome_terms_df_unique['Treatment'].map(treatment_lut)\n",
    "col_colors['Region'] = reactome_terms_df_unique['Region'].map(region_lut)\n",
    "\n",
    "legend_elements = []\n",
    "for cond, cmap in zip(['Sex', 'Treatment', 'Region'], [sex_colors, treatment_colors, region_colors]):\n",
    "    legend_elements.append(Patch(facecolor='none', edgecolor='none', label=cond + ':'))\n",
    "    for label, color in zip(reactome_terms_df_unique[cond].unique(), cmap):\n",
    "        legend_elements.append(Patch(facecolor=color, label=label))\n",
    "\n",
    "\n",
    "# Create the clustermap\n",
    "cg = sns.clustermap(pivot_df_logFC, cmap=\"vlag\", figsize=(10, 10), linewidths=0.75, linecolor= 'black',\n",
    "                    dendrogram_ratio=(.175, .025), center=0, annot=pivot_df_pvalues, fmt='',\n",
    "                    col_colors =col_colors, xticklabels=False, square=True, cbar_pos=(0.02, 0.55, 0.05, 0.18), col_cluster=False)\n",
    "cg.ax_row_dendrogram.set_visible(False) #suppress row dendrogram\n",
    "cg.ax_col_dendrogram.set_visible(False) #suppress row dendrogram\n",
    "cg.cax.set_title('NES', pad=10)\n",
    "cond_legend = cg.ax_heatmap.legend(labels=[f'p-value < 0.05'], frameon=False, handles=[plt.Line2D([], [], marker='*', color='black', linestyle='None', lw=2)], bbox_to_anchor=(0.01, 0.575))\n",
    "cg.ax_heatmap.add_artist(cond_legend)\n",
    "cg.ax_heatmap.legend(handles=legend_elements, bbox_to_anchor=(0, 1.15), ncol=1, frameon=False)\n",
    "\n",
    "# Manually set the x-axis title at the top\n",
    "cg.ax_heatmap.set_title('Condition', y=1.125)\n",
    "\n",
    "# Optionally, if you want to remove the default x-axis label\n",
    "cg.ax_heatmap.set_xlabel('')\n",
    "cg.ax_heatmap.set_ylabel('')\n",
    "\n",
    "cg.ax_heatmap.set_position([cg.ax_heatmap.get_position().x0, cg.ax_heatmap.get_position().y0,\n",
    "                           cg.ax_heatmap.get_position().width, cg.ax_heatmap.get_position().height])\n",
    "cg.ax_col_colors.set_position([cg.ax_col_colors.get_position().x0, cg.ax_col_colors.get_position().y0 + 0.010,\n",
    "                              cg.ax_col_colors.get_position().width, cg.ax_col_colors.get_position().height])"
   ]
  },
  {
   "cell_type": "markdown",
   "id": "07872507-6f4f-4535-a912-961b768ddf43",
   "metadata": {},
   "source": [
    "### Female AAV2 "
   ]
  },
  {
   "cell_type": "code",
   "execution_count": null,
   "id": "8692cdb5-4272-46ba-b331-02dfb0a1398b",
   "metadata": {
    "tags": []
   },
   "outputs": [],
   "source": [
    "conditions_to_check=['female_AVV2_vs_Control_pericentral_Results_msigdb_4','female_AVV2_vs_Control_periportal_Results_msigdb_4']\n",
    "combined_df.fillna(1, inplace=True)"
   ]
  },
  {
   "cell_type": "code",
   "execution_count": null,
   "id": "ee6bc6a1-d96a-4495-adac-d631430d4e64",
   "metadata": {
    "tags": []
   },
   "outputs": [],
   "source": [
    "filtered_df = reactome_terms[reactome_terms['Condition'].isin(conditions_to_check)]"
   ]
  },
  {
   "cell_type": "code",
   "execution_count": null,
   "id": "c9991036-e964-41a3-ba63-4a24ef81f363",
   "metadata": {
    "tags": []
   },
   "outputs": [],
   "source": [
    "filtered_df"
   ]
  },
  {
   "cell_type": "code",
   "execution_count": null,
   "id": "eb38c79a-f540-49ab-b78d-d2c3d1c4ff65",
   "metadata": {
    "tags": []
   },
   "outputs": [],
   "source": [
    "all_terms = filtered_df['Term.1'].unique().tolist()"
   ]
  },
  {
   "cell_type": "code",
   "execution_count": null,
   "id": "10401432-e46d-4abb-82b3-844b839f1aa0",
   "metadata": {
    "tags": []
   },
   "outputs": [],
   "source": [
    "different_terms = []\n",
    "\n",
    "for current_term in all_terms:\n",
    "    \n",
    "    filtered_df_term = filtered_df[filtered_df['Term.1'] == current_term]\n",
    "    \n",
    "    conditions = filtered_df_term['Condition'].unique()\n",
    "\n",
    "    if len(conditions) < 2: \n",
    "        continue\n",
    "        # if (filtered_df_gene['padj'] < 0.05).tolist()[0]:\n",
    "        #    different_genes.append(current_gene)\n",
    "    else:\n",
    "        # Define your specific criteria here (for demonstration, using arbitrary conditions)\n",
    "        \n",
    "        criteria_met = (any(filtered_df_term['NOM p-value'] < 0.05) ) and \\\n",
    "                    (filtered_df_term['NES'].tolist()[0] * filtered_df_term['NES'].tolist()[1] < 0)\n",
    "        \n",
    "        if criteria_met:\n",
    "            different_terms.append(current_term)"
   ]
  },
  {
   "cell_type": "code",
   "execution_count": null,
   "id": "efc25197-06bc-40a9-ad72-35e502285312",
   "metadata": {},
   "outputs": [],
   "source": [
    "different_terms"
   ]
  },
  {
   "cell_type": "code",
   "execution_count": null,
   "id": "0f3c6110-3cde-433b-b163-c489b19dd906",
   "metadata": {
    "tags": []
   },
   "outputs": [],
   "source": [
    "reactome_terms_df = reactome_terms[reactome_terms['Term.1'].isin(different_terms) & reactome_terms['Condition'].isin(conditions_to_check)]"
   ]
  },
  {
   "cell_type": "code",
   "execution_count": null,
   "id": "8f6e1570-6a2b-4ac4-931c-b03a7d58cae6",
   "metadata": {
    "tags": []
   },
   "outputs": [],
   "source": [
    "reactome_terms_df['Condition'] =  reactome_terms_df['Condition'].str.replace('_Results_msigdb_4', '', regex=False) "
   ]
  },
  {
   "cell_type": "code",
   "execution_count": null,
   "id": "023989cc-1a54-4c96-88e0-0fd201db021f",
   "metadata": {
    "tags": []
   },
   "outputs": [],
   "source": [
    "reactome_terms_df['Term.1'] =  reactome_terms_df['Term.1'].str.replace('REACTOME_', '', regex=False) "
   ]
  },
  {
   "cell_type": "code",
   "execution_count": null,
   "id": "3a4e2088-ec77-4868-bf55-c641acb33764",
   "metadata": {
    "tags": []
   },
   "outputs": [],
   "source": [
    "def truncate_string(input_string, max_length):\n",
    "    if len(input_string) > max_length:\n",
    "        return input_string[:max_length] + \"...\"\n",
    "    else:\n",
    "        return input_string"
   ]
  },
  {
   "cell_type": "code",
   "execution_count": null,
   "id": "2d772ffe-6ff7-440c-8bdc-05c43d01606d",
   "metadata": {
    "tags": []
   },
   "outputs": [],
   "source": [
    "reactome_terms_df['Term.1_truncated'] = reactome_terms_df['Term.1'].apply(lambda x: truncate_string(x, 45))"
   ]
  },
  {
   "cell_type": "code",
   "execution_count": null,
   "id": "7d5b7c3a-f098-4ea6-ba73-f5b57676da01",
   "metadata": {
    "tags": []
   },
   "outputs": [],
   "source": [
    "reactome_terms_df.set_index('Term.1_truncated', inplace=True)\n",
    "\n",
    "reactome_terms_df['Sex'] = reactome_terms_df['Condition'].str.split('_', expand=True)[[0]]\n",
    "reactome_terms_df['Treatment'] = reactome_terms_df['Condition'].str.split('_', expand=True)[1]\n",
    "reactome_terms_df['Region'] = reactome_terms_df['Condition'].str.split('_', expand=True)[4]\n",
    "\n",
    "pivot_df_logFC = reactome_terms_df.pivot(columns = 'Condition', values=\"NES\")\n",
    "pivot_df_pvalues = reactome_terms_df.pivot(columns = 'Condition', values=\"FDR p-value\")\n",
    "pivot_df_pvalues = pivot_df_pvalues.applymap(lambda x: '*' if x < 0.05 else ' ')\n",
    "\n",
    "pivot_df_logFC.fillna(0, inplace=True)\n",
    "\n",
    "\n",
    "# Map the conditions to colors\n",
    "reactome_terms_df_unique = reactome_terms_df[['Condition', 'Sex', 'Treatment','Region']].drop_duplicates()\n",
    "reactome_terms_df_unique.set_index(\"Condition\", inplace=True)\n",
    "\n",
    "sex_colors = ['#c66874','#67c1ca']\n",
    "treatment_colors = ['#687ac8','#c8b866']\n",
    "region_colors = ['#c98367',  '#6ac989','#9c69c8']\n",
    "\n",
    "sex_lut = dict(zip(reactome_terms_df_unique['Sex'].unique(), sex_colors))\n",
    "treatment_lut = dict(zip(reactome_terms_df_unique['Treatment'].unique(), treatment_colors))\n",
    "region_lut = dict(zip(reactome_terms_df_unique['Region'].unique(), region_colors))\n",
    "\n",
    "# Convert the conditions to a DataFrame of colors\n",
    "col_colors  = pd.DataFrame(index=pivot_df_logFC.columns)\n",
    "col_colors['Sex'] = reactome_terms_df_unique['Sex'].map(sex_lut)\n",
    "col_colors['Treatment'] = reactome_terms_df_unique['Treatment'].map(treatment_lut)\n",
    "col_colors['Region'] = reactome_terms_df_unique['Region'].map(region_lut)\n",
    "\n",
    "legend_elements = []\n",
    "for cond, cmap in zip(['Sex', 'Treatment', 'Region'], [sex_colors, treatment_colors, region_colors]):\n",
    "    legend_elements.append(Patch(facecolor='none', edgecolor='none', label=cond + ':'))\n",
    "    for label, color in zip(reactome_terms_df_unique[cond].unique(), cmap):\n",
    "        legend_elements.append(Patch(facecolor=color, label=label))\n",
    "\n",
    "\n",
    "# Create the clustermap\n",
    "cg = sns.clustermap(pivot_df_logFC, cmap=\"vlag\", figsize=(10, 10), linewidths=0.75, linecolor= 'black',\n",
    "                    dendrogram_ratio=(.175, .025), center=0, annot=pivot_df_pvalues, fmt='',\n",
    "                    col_colors =col_colors, xticklabels=False, square=True, cbar_pos=(0.02, 0.55, 0.05, 0.18), col_cluster=False)\n",
    "cg.ax_row_dendrogram.set_visible(False) #suppress row dendrogram\n",
    "cg.ax_col_dendrogram.set_visible(False) #suppress row dendrogram\n",
    "cg.cax.set_title('NES', pad=10)\n",
    "cond_legend = cg.ax_heatmap.legend(labels=[f'p-value < 0.05'], frameon=False, handles=[plt.Line2D([], [], marker='*', color='black', linestyle='None', lw=2)], bbox_to_anchor=(0.01, 0.575))\n",
    "cg.ax_heatmap.add_artist(cond_legend)\n",
    "cg.ax_heatmap.legend(handles=legend_elements, bbox_to_anchor=(0, 1.15), ncol=1, frameon=False)\n",
    "\n",
    "# Manually set the x-axis title at the top\n",
    "cg.ax_heatmap.set_title('Condition', y=1.125)\n",
    "\n",
    "# Optionally, if you want to remove the default x-axis label\n",
    "cg.ax_heatmap.set_xlabel('')\n",
    "cg.ax_heatmap.set_ylabel('')\n",
    "\n",
    "cg.ax_heatmap.set_position([cg.ax_heatmap.get_position().x0, cg.ax_heatmap.get_position().y0,\n",
    "                           cg.ax_heatmap.get_position().width, cg.ax_heatmap.get_position().height])\n",
    "cg.ax_col_colors.set_position([cg.ax_col_colors.get_position().x0, cg.ax_col_colors.get_position().y0 + 0.010,\n",
    "                              cg.ax_col_colors.get_position().width, cg.ax_col_colors.get_position().height])"
   ]
  },
  {
   "cell_type": "markdown",
   "id": "d6f14417-5dcf-4f73-9195-3902f993edd3",
   "metadata": {},
   "source": [
    "## Pathways: KEGG"
   ]
  },
  {
   "cell_type": "code",
   "execution_count": null,
   "id": "cfe46748-821d-4c9f-bb9a-6edfa05253b1",
   "metadata": {
    "tags": []
   },
   "outputs": [],
   "source": [
    "KEGG_terms = combined_gsea_df[combined_gsea_df['Term.1'].str.startswith('KEGG_')]"
   ]
  },
  {
   "cell_type": "code",
   "execution_count": null,
   "id": "e8acaaa5-1167-40c2-90f5-3e9dcd5df553",
   "metadata": {
    "tags": []
   },
   "outputs": [],
   "source": [
    "KEGG_terms"
   ]
  },
  {
   "cell_type": "code",
   "execution_count": null,
   "id": "2b5aac6e-67e9-41d3-9409-39bdb38b7efb",
   "metadata": {
    "tags": []
   },
   "outputs": [],
   "source": [
    "KEGG_terms['abs_NES'] = abs(KEGG_terms['NES'])"
   ]
  },
  {
   "cell_type": "code",
   "execution_count": null,
   "id": "232b671d-7508-4cd4-9fb2-2ef7aced126a",
   "metadata": {
    "tags": []
   },
   "outputs": [],
   "source": [
    "top_KEGG_terms = KEGG_terms.sort_values(by = 'abs_NES', ascending=False).drop_duplicates('Term.1')['Term.1'].head(35).tolist()"
   ]
  },
  {
   "cell_type": "code",
   "execution_count": null,
   "id": "5acdb382-67e5-41b2-aa6c-59b1cf8bba6a",
   "metadata": {
    "tags": []
   },
   "outputs": [],
   "source": [
    "top_KEGG_terms"
   ]
  },
  {
   "cell_type": "code",
   "execution_count": null,
   "id": "bc8d4bb0-24ed-4ec2-90ff-8fa56feb7146",
   "metadata": {
    "tags": []
   },
   "outputs": [],
   "source": [
    "KEGG_terms_df = KEGG_terms[KEGG_terms['Term.1'].isin(top_KEGG_terms)]"
   ]
  },
  {
   "cell_type": "code",
   "execution_count": null,
   "id": "9a33b652-8cb4-4c65-b6ce-c08329128939",
   "metadata": {
    "tags": []
   },
   "outputs": [],
   "source": [
    "KEGG_terms_df['Condition'] =  KEGG_terms_df['Condition'].str.replace('_Results_msigdb_4', '', regex=False) "
   ]
  },
  {
   "cell_type": "code",
   "execution_count": null,
   "id": "b8e9d361-f51f-46cb-a75c-9db7f7f0cc0f",
   "metadata": {
    "tags": []
   },
   "outputs": [],
   "source": [
    "KEGG_terms_df['Term.1'] =  KEGG_terms_df['Term.1'].str.replace('KEGG_', '', regex=False) "
   ]
  },
  {
   "cell_type": "code",
   "execution_count": null,
   "id": "5e4b0805-05f5-473b-9bb0-964097ac0c84",
   "metadata": {
    "tags": []
   },
   "outputs": [],
   "source": [
    "KEGG_terms_df['Term.1_truncated'] = KEGG_terms_df['Term.1'].apply(lambda x: truncate_string(x, 45))"
   ]
  },
  {
   "cell_type": "code",
   "execution_count": null,
   "id": "a6e41174-9a7e-4321-940a-f8940cdee6fb",
   "metadata": {
    "tags": []
   },
   "outputs": [],
   "source": [
    "predefined_order = ['female_AVV2_vs_Control_periportal', \n",
    "                    'female_AVV2_vs_Control_other', \n",
    "                    'female_AVV2_vs_Control_pericentral', \n",
    "                    'female_AVV9_vs_Control_periportal', \n",
    "                    'female_AVV9_vs_Control_other', \n",
    "                    'female_AVV9_vs_Control_pericentral',\n",
    "                    'male_AVV2_vs_Control_periportal', \n",
    "                    'male_AVV2_vs_Control_other', \n",
    "                    'male_AVV2_vs_Control_pericentral', \n",
    "                    'male_AVV9_vs_Control_periportal', \n",
    "                    'male_AVV9_vs_Control_other', \n",
    "                    'male_AVV9_vs_Control_pericentral' \n",
    "                    ] "
   ]
  },
  {
   "cell_type": "code",
   "execution_count": null,
   "id": "d4c5fef8-1f5a-4e52-a221-87be2018ded5",
   "metadata": {
    "tags": []
   },
   "outputs": [],
   "source": [
    "KEGG_terms_df.set_index('Term.1_truncated', inplace=True)\n",
    "\n",
    "KEGG_terms_df['Sex'] = KEGG_terms_df['Condition'].str.split('_', expand=True)[[0]]\n",
    "KEGG_terms_df['Treatment'] = KEGG_terms_df['Condition'].str.split('_', expand=True)[1]\n",
    "KEGG_terms_df['Region'] = KEGG_terms_df['Condition'].str.split('_', expand=True)[4]\n",
    "\n",
    "pivot_df_logFC = KEGG_terms_df.pivot(columns = 'Condition', values=\"NES\")\n",
    "pivot_df_pvalues = KEGG_terms_df.pivot(columns = 'Condition', values=\"FDR p-value\")\n",
    "pivot_df_pvalues = pivot_df_pvalues.applymap(lambda x: '*' if x < 0.05 else ' ')\n",
    "\n",
    "pivot_df_logFC.fillna(0, inplace=True)\n",
    "\n",
    "\n",
    "# Map the conditions to colors\n",
    "KEGG_terms_df_unique = KEGG_terms_df[['Condition', 'Sex', 'Treatment','Region']].drop_duplicates()\n",
    "KEGG_terms_df_unique.set_index(\"Condition\", inplace=True)\n",
    "\n",
    "sex_colors = ['#c66874','#67c1ca']\n",
    "treatment_colors = ['#687ac8','#c8b866']\n",
    "region_colors = ['#c98367',  '#6ac989','#9c69c8']\n",
    "\n",
    "sex_lut = dict(zip(KEGG_terms_df_unique['Sex'].unique(), sex_colors))\n",
    "treatment_lut = dict(zip(KEGG_terms_df_unique['Treatment'].unique(), treatment_colors))\n",
    "region_lut = dict(zip(KEGG_terms_df_unique['Region'].unique(), region_colors))\n",
    "\n",
    "# Convert the conditions to a DataFrame of colors\n",
    "col_colors  = pd.DataFrame(index=pivot_df_logFC.columns)\n",
    "col_colors['Sex'] = KEGG_terms_df_unique['Sex'].map(sex_lut)\n",
    "col_colors['Treatment'] = KEGG_terms_df_unique['Treatment'].map(treatment_lut)\n",
    "col_colors['Region'] = KEGG_terms_df_unique['Region'].map(region_lut)\n",
    "\n",
    "legend_elements = []\n",
    "for cond, cmap in zip(['Sex', 'Treatment', 'Region'], [sex_colors, treatment_colors, region_colors]):\n",
    "    legend_elements.append(Patch(facecolor='none', edgecolor='none', label=cond + ':'))\n",
    "    for label, color in zip(KEGG_terms_df_unique[cond].unique(), cmap):\n",
    "        legend_elements.append(Patch(facecolor=color, label=label))\n",
    "\n",
    "\n",
    "# Create the clustermap\n",
    "cg = sns.clustermap(pivot_df_logFC[predefined_order], cmap=\"vlag\", figsize=(10, 10), linewidths=0.75, linecolor= 'black',\n",
    "                    dendrogram_ratio=(.175, .025), center=0, annot=pivot_df_pvalues[predefined_order], fmt='',\n",
    "                    col_colors =col_colors, xticklabels=False, square=True, cbar_pos=(0.02, 0.55, 0.05, 0.18), col_cluster=False)\n",
    "cg.ax_row_dendrogram.set_visible(False) #suppress row dendrogram\n",
    "cg.ax_col_dendrogram.set_visible(False) #suppress row dendrogram\n",
    "cg.cax.set_title('NES', pad=10)\n",
    "cond_legend = cg.ax_heatmap.legend(labels=[f'p-value < 0.05'], frameon=False, handles=[plt.Line2D([], [], marker='*', color='black', linestyle='None', lw=2)], bbox_to_anchor=(0.01, 0.575))\n",
    "cg.ax_heatmap.add_artist(cond_legend)\n",
    "cg.ax_heatmap.legend(handles=legend_elements, bbox_to_anchor=(0, 1.15), ncol=1, frameon=False)\n",
    "\n",
    "# Manually set the x-axis title at the top\n",
    "cg.ax_heatmap.set_title('Condition', y=1.125)\n",
    "\n",
    "# Optionally, if you want to remove the default x-axis label\n",
    "cg.ax_heatmap.set_xlabel('')\n",
    "cg.ax_heatmap.set_ylabel('')\n",
    "\n",
    "cg.ax_heatmap.set_position([cg.ax_heatmap.get_position().x0, cg.ax_heatmap.get_position().y0,\n",
    "                           cg.ax_heatmap.get_position().width, cg.ax_heatmap.get_position().height])\n",
    "cg.ax_col_colors.set_position([cg.ax_col_colors.get_position().x0, cg.ax_col_colors.get_position().y0 + 0.010,\n",
    "                              cg.ax_col_colors.get_position().width, cg.ax_col_colors.get_position().height])"
   ]
  },
  {
   "cell_type": "markdown",
   "id": "9d8a4ad9-c714-424c-9cc7-cb1c9f45eea7",
   "metadata": {},
   "source": [
    "Can we also check that they are responding differently between pericentral and periportal in the different conditions? "
   ]
  },
  {
   "cell_type": "code",
   "execution_count": null,
   "id": "d2c888a0-a500-43db-817d-7aade0c29eec",
   "metadata": {},
   "outputs": [],
   "source": [
    "KEGG_terms"
   ]
  },
  {
   "cell_type": "markdown",
   "id": "50f323dd-1626-40cd-be2d-d567ceede678",
   "metadata": {},
   "source": [
    "### Male AAV9 "
   ]
  },
  {
   "cell_type": "code",
   "execution_count": null,
   "id": "98966f3e-1407-45dc-bd9b-9a82fbb2cbed",
   "metadata": {
    "tags": []
   },
   "outputs": [],
   "source": [
    "conditions_to_check=['male_AVV9_vs_Control_pericentral_Results_msigdb_4','male_AVV9_vs_Control_periportal_Results_msigdb_4']\n",
    "combined_df.fillna(1, inplace=True)"
   ]
  },
  {
   "cell_type": "code",
   "execution_count": null,
   "id": "eaa1e15c-d242-4684-b01c-83a4802f732a",
   "metadata": {
    "tags": []
   },
   "outputs": [],
   "source": [
    "filtered_df = KEGG_terms[KEGG_terms['Condition'].isin(conditions_to_check)]"
   ]
  },
  {
   "cell_type": "code",
   "execution_count": null,
   "id": "1a35f02c-dadf-4963-8f67-ce06f89c28a1",
   "metadata": {
    "tags": []
   },
   "outputs": [],
   "source": [
    "filtered_df"
   ]
  },
  {
   "cell_type": "code",
   "execution_count": null,
   "id": "75c637b4-4110-4f5a-b7d0-eaed67596ed5",
   "metadata": {
    "tags": []
   },
   "outputs": [],
   "source": [
    "all_terms = filtered_df['Term.1'].unique().tolist()"
   ]
  },
  {
   "cell_type": "code",
   "execution_count": null,
   "id": "53b4dd02-4e1d-47e1-b83a-c5ac703fa08b",
   "metadata": {
    "tags": []
   },
   "outputs": [],
   "source": [
    "different_terms = []\n",
    "\n",
    "for current_term in all_terms:\n",
    "    \n",
    "    filtered_df_term = filtered_df[filtered_df['Term.1'] == current_term]\n",
    "    \n",
    "    conditions = filtered_df_term['Condition'].unique()\n",
    "\n",
    "    if len(conditions) < 2: \n",
    "        continue\n",
    "        # if (filtered_df_gene['padj'] < 0.05).tolist()[0]:\n",
    "        #    different_genes.append(current_gene)\n",
    "    else:\n",
    "        # Define your specific criteria here (for demonstration, using arbitrary conditions)\n",
    "        \n",
    "        criteria_met = (any(filtered_df_term['NOM p-value'] < 0.1) ) and \\\n",
    "                    (filtered_df_term['NES'].tolist()[0] * filtered_df_term['NES'].tolist()[1] < 0)\n",
    "        \n",
    "        if criteria_met:\n",
    "            different_terms.append(current_term)"
   ]
  },
  {
   "cell_type": "code",
   "execution_count": null,
   "id": "2b3f5126-7182-47c1-b0db-06398c3dd5f6",
   "metadata": {},
   "outputs": [],
   "source": [
    "different_terms"
   ]
  },
  {
   "cell_type": "code",
   "execution_count": null,
   "id": "1bb2fba9-0d55-4c05-b8f8-23f0ddecfe0b",
   "metadata": {
    "tags": []
   },
   "outputs": [],
   "source": [
    "KEGG_terms_df = KEGG_terms[KEGG_terms['Term.1'].isin(different_terms) & KEGG_terms['Condition'].isin(conditions_to_check)]"
   ]
  },
  {
   "cell_type": "code",
   "execution_count": null,
   "id": "229c0d89-cbc8-4c17-a6ff-761e6f7566c8",
   "metadata": {
    "tags": []
   },
   "outputs": [],
   "source": [
    "KEGG_terms_df['Condition'] =  KEGG_terms_df['Condition'].str.replace('_Results_msigdb_4', '', regex=False) "
   ]
  },
  {
   "cell_type": "code",
   "execution_count": null,
   "id": "edcee16f-6916-4aee-b584-0ae3bd7a0a22",
   "metadata": {
    "tags": []
   },
   "outputs": [],
   "source": [
    "KEGG_terms_df['Term.1'] =  KEGG_terms_df['Term.1'].str.replace('KEGG_', '', regex=False) "
   ]
  },
  {
   "cell_type": "code",
   "execution_count": null,
   "id": "48213eac-c515-475a-b608-a118dcb52203",
   "metadata": {
    "tags": []
   },
   "outputs": [],
   "source": [
    "def truncate_string(input_string, max_length):\n",
    "    if len(input_string) > max_length:\n",
    "        return input_string[:max_length] + \"...\"\n",
    "    else:\n",
    "        return input_string"
   ]
  },
  {
   "cell_type": "code",
   "execution_count": null,
   "id": "2c29463a-2a4b-4561-b420-574c60149d5c",
   "metadata": {
    "tags": []
   },
   "outputs": [],
   "source": [
    "KEGG_terms_df['Term.1_truncated'] = KEGG_terms_df['Term.1'].apply(lambda x: truncate_string(x, 45))"
   ]
  },
  {
   "cell_type": "code",
   "execution_count": null,
   "id": "49312ecf-1b43-4f58-94f0-b12a9d788593",
   "metadata": {},
   "outputs": [],
   "source": [
    "KEGG_terms_df"
   ]
  },
  {
   "cell_type": "code",
   "execution_count": null,
   "id": "d4f47787-68c9-4942-a5c6-107d3f019d27",
   "metadata": {
    "tags": []
   },
   "outputs": [],
   "source": [
    "KEGG_terms_df.set_index('Term.1_truncated', inplace=True)\n",
    "\n",
    "KEGG_terms_df['Sex'] = KEGG_terms_df['Condition'].str.split('_', expand=True)[[0]]\n",
    "KEGG_terms_df['Treatment'] = KEGG_terms_df['Condition'].str.split('_', expand=True)[1]\n",
    "KEGG_terms_df['Region'] = KEGG_terms_df['Condition'].str.split('_', expand=True)[4]\n",
    "\n",
    "pivot_df_logFC = KEGG_terms_df.pivot(columns = 'Condition', values=\"NES\")\n",
    "pivot_df_pvalues = KEGG_terms_df.pivot(columns = 'Condition', values=\"FDR p-value\")\n",
    "pivot_df_pvalues = pivot_df_pvalues.applymap(lambda x: '*' if x < 0.05 else ' ')\n",
    "\n",
    "pivot_df_logFC.fillna(0, inplace=True)\n",
    "\n",
    "\n",
    "# Map the conditions to colors\n",
    "KEGG_terms_df_unique = KEGG_terms_df[['Condition', 'Sex', 'Treatment','Region']].drop_duplicates()\n",
    "KEGG_terms_df_unique.set_index(\"Condition\", inplace=True)\n",
    "\n",
    "sex_colors = ['#c66874','#67c1ca']\n",
    "treatment_colors = ['#687ac8','#c8b866']\n",
    "region_colors = ['#c98367',  '#6ac989','#9c69c8']\n",
    "\n",
    "sex_lut = dict(zip(KEGG_terms_df_unique['Sex'].unique(), sex_colors))\n",
    "treatment_lut = dict(zip(KEGG_terms_df_unique['Treatment'].unique(), treatment_colors))\n",
    "region_lut = dict(zip(KEGG_terms_df_unique['Region'].unique(), region_colors))\n",
    "\n",
    "# Convert the conditions to a DataFrame of colors\n",
    "col_colors  = pd.DataFrame(index=pivot_df_logFC.columns)\n",
    "col_colors['Sex'] = KEGG_terms_df_unique['Sex'].map(sex_lut)\n",
    "col_colors['Treatment'] = KEGG_terms_df_unique['Treatment'].map(treatment_lut)\n",
    "col_colors['Region'] = KEGG_terms_df_unique['Region'].map(region_lut)\n",
    "\n",
    "legend_elements = []\n",
    "for cond, cmap in zip(['Sex', 'Treatment', 'Region'], [sex_colors, treatment_colors, region_colors]):\n",
    "    legend_elements.append(Patch(facecolor='none', edgecolor='none', label=cond + ':'))\n",
    "    for label, color in zip(KEGG_terms_df_unique[cond].unique(), cmap):\n",
    "        legend_elements.append(Patch(facecolor=color, label=label))\n",
    "\n",
    "\n",
    "# Create the clustermap\n",
    "cg = sns.clustermap(pivot_df_logFC, cmap=\"vlag\", figsize=(10, 10), linewidths=0.75, linecolor= 'black',\n",
    "                    dendrogram_ratio=(.175, .025), center=0, annot=pivot_df_pvalues, fmt='',\n",
    "                    col_colors =col_colors, xticklabels=False, square=True, cbar_pos=(0.02, 0.55, 0.05, 0.18), col_cluster=False)\n",
    "cg.ax_row_dendrogram.set_visible(False) #suppress row dendrogram\n",
    "cg.ax_col_dendrogram.set_visible(False) #suppress row dendrogram\n",
    "cg.cax.set_title('NES', pad=10)\n",
    "cond_legend = cg.ax_heatmap.legend(labels=[f'p-value < 0.05'], frameon=False, handles=[plt.Line2D([], [], marker='*', color='black', linestyle='None', lw=2)], bbox_to_anchor=(0.01, 0.575))\n",
    "cg.ax_heatmap.add_artist(cond_legend)\n",
    "cg.ax_heatmap.legend(handles=legend_elements, bbox_to_anchor=(0, 1.15), ncol=1, frameon=False)\n",
    "\n",
    "# Manually set the x-axis title at the top\n",
    "cg.ax_heatmap.set_title('Condition', y=1.125)\n",
    "\n",
    "# Optionally, if you want to remove the default x-axis label\n",
    "cg.ax_heatmap.set_xlabel('')\n",
    "cg.ax_heatmap.set_ylabel('')\n",
    "\n",
    "cg.ax_heatmap.set_position([cg.ax_heatmap.get_position().x0, cg.ax_heatmap.get_position().y0,\n",
    "                           cg.ax_heatmap.get_position().width, cg.ax_heatmap.get_position().height])\n",
    "cg.ax_col_colors.set_position([cg.ax_col_colors.get_position().x0, cg.ax_col_colors.get_position().y0 + 0.010,\n",
    "                              cg.ax_col_colors.get_position().width, cg.ax_col_colors.get_position().height])"
   ]
  },
  {
   "cell_type": "markdown",
   "id": "5ccc8698-c0dc-4beb-a456-90522b131627",
   "metadata": {},
   "source": [
    "### Male AAV2 "
   ]
  },
  {
   "cell_type": "code",
   "execution_count": null,
   "id": "12c4acb3-a96f-45cc-8e90-2f812ddbcdbb",
   "metadata": {
    "tags": []
   },
   "outputs": [],
   "source": [
    "conditions_to_check=['male_AVV2_vs_Control_pericentral_Results_msigdb_4','male_AVV2_vs_Control_periportal_Results_msigdb_4']\n",
    "combined_df.fillna(1, inplace=True)"
   ]
  },
  {
   "cell_type": "code",
   "execution_count": null,
   "id": "e6fe5c6a-6a5b-4e1a-aedf-a78a820511a2",
   "metadata": {
    "tags": []
   },
   "outputs": [],
   "source": [
    "filtered_df = KEGG_terms[KEGG_terms['Condition'].isin(conditions_to_check)]"
   ]
  },
  {
   "cell_type": "code",
   "execution_count": null,
   "id": "561c6251-1aaa-42cf-bff5-4a831f6294b1",
   "metadata": {
    "tags": []
   },
   "outputs": [],
   "source": [
    "filtered_df"
   ]
  },
  {
   "cell_type": "code",
   "execution_count": null,
   "id": "3e957f23-4ee9-4b56-a815-475c41c17b47",
   "metadata": {
    "tags": []
   },
   "outputs": [],
   "source": [
    "all_terms = filtered_df['Term.1'].unique().tolist()"
   ]
  },
  {
   "cell_type": "code",
   "execution_count": null,
   "id": "e22af06b-6307-435b-81d3-4ebe6cdd70f7",
   "metadata": {
    "tags": []
   },
   "outputs": [],
   "source": [
    "different_terms = []\n",
    "\n",
    "for current_term in all_terms:\n",
    "    \n",
    "    filtered_df_term = filtered_df[filtered_df['Term.1'] == current_term]\n",
    "    \n",
    "    conditions = filtered_df_term['Condition'].unique()\n",
    "\n",
    "    if len(conditions) < 2: \n",
    "        continue\n",
    "        # if (filtered_df_gene['padj'] < 0.05).tolist()[0]:\n",
    "        #    different_genes.append(current_gene)\n",
    "    else:\n",
    "        # Define your specific criteria here (for demonstration, using arbitrary conditions)\n",
    "        \n",
    "        criteria_met = (any(filtered_df_term['NOM p-value'] < 0.1) ) and \\\n",
    "                    (filtered_df_term['NES'].tolist()[0] * filtered_df_term['NES'].tolist()[1] < 0)\n",
    "        \n",
    "        if criteria_met:\n",
    "            different_terms.append(current_term)"
   ]
  },
  {
   "cell_type": "code",
   "execution_count": null,
   "id": "8030c276-fe21-413f-abef-65f371fc02d0",
   "metadata": {},
   "outputs": [],
   "source": [
    "different_terms"
   ]
  },
  {
   "cell_type": "code",
   "execution_count": null,
   "id": "34c92279-3d32-4bd3-895a-c2352309ab8b",
   "metadata": {
    "tags": []
   },
   "outputs": [],
   "source": [
    "KEGG_terms_df = KEGG_terms[KEGG_terms['Term.1'].isin(different_terms) & KEGG_terms['Condition'].isin(conditions_to_check)]"
   ]
  },
  {
   "cell_type": "code",
   "execution_count": null,
   "id": "6ce27a6b-c913-4e9d-9b8c-52bc426a8255",
   "metadata": {
    "tags": []
   },
   "outputs": [],
   "source": [
    "KEGG_terms_df['Condition'] =  KEGG_terms_df['Condition'].str.replace('_Results_msigdb_4', '', regex=False) "
   ]
  },
  {
   "cell_type": "code",
   "execution_count": null,
   "id": "cfe57e43-ffa4-4c1e-9026-8e6ff96e3f30",
   "metadata": {
    "tags": []
   },
   "outputs": [],
   "source": [
    "KEGG_terms_df['Term.1'] =  KEGG_terms_df['Term.1'].str.replace('KEGG_', '', regex=False) "
   ]
  },
  {
   "cell_type": "code",
   "execution_count": null,
   "id": "bbe005ad-1f84-48d8-84c0-3fa0ff1c7335",
   "metadata": {
    "tags": []
   },
   "outputs": [],
   "source": [
    "def truncate_string(input_string, max_length):\n",
    "    if len(input_string) > max_length:\n",
    "        return input_string[:max_length] + \"...\"\n",
    "    else:\n",
    "        return input_string"
   ]
  },
  {
   "cell_type": "code",
   "execution_count": null,
   "id": "86d4683a-c06c-4dd2-9596-e282f5e14d3c",
   "metadata": {
    "tags": []
   },
   "outputs": [],
   "source": [
    "KEGG_terms_df['Term.1_truncated'] = KEGG_terms_df['Term.1'].apply(lambda x: truncate_string(x, 45))"
   ]
  },
  {
   "cell_type": "code",
   "execution_count": null,
   "id": "c9feea94-6ccf-489d-8d3b-25add3b7d4a2",
   "metadata": {
    "tags": []
   },
   "outputs": [],
   "source": [
    "KEGG_terms_df.set_index('Term.1_truncated', inplace=True)\n",
    "\n",
    "KEGG_terms_df['Sex'] = KEGG_terms_df['Condition'].str.split('_', expand=True)[[0]]\n",
    "KEGG_terms_df['Treatment'] = KEGG_terms_df['Condition'].str.split('_', expand=True)[1]\n",
    "KEGG_terms_df['Region'] = KEGG_terms_df['Condition'].str.split('_', expand=True)[4]\n",
    "\n",
    "pivot_df_logFC = KEGG_terms_df.pivot(columns = 'Condition', values=\"NES\")\n",
    "pivot_df_pvalues = KEGG_terms_df.pivot(columns = 'Condition', values=\"FDR p-value\")\n",
    "pivot_df_pvalues = pivot_df_pvalues.applymap(lambda x: '*' if x < 0.05 else ' ')\n",
    "\n",
    "pivot_df_logFC.fillna(0, inplace=True)\n",
    "\n",
    "\n",
    "# Map the conditions to colors\n",
    "KEGG_terms_df_unique = KEGG_terms_df[['Condition', 'Sex', 'Treatment','Region']].drop_duplicates()\n",
    "KEGG_terms_df_unique.set_index(\"Condition\", inplace=True)\n",
    "\n",
    "sex_colors = ['#c66874','#67c1ca']\n",
    "treatment_colors = ['#687ac8','#c8b866']\n",
    "region_colors = ['#c98367',  '#6ac989','#9c69c8']\n",
    "\n",
    "sex_lut = dict(zip(KEGG_terms_df_unique['Sex'].unique(), sex_colors))\n",
    "treatment_lut = dict(zip(KEGG_terms_df_unique['Treatment'].unique(), treatment_colors))\n",
    "region_lut = dict(zip(KEGG_terms_df_unique['Region'].unique(), region_colors))\n",
    "\n",
    "# Convert the conditions to a DataFrame of colors\n",
    "col_colors  = pd.DataFrame(index=pivot_df_logFC.columns)\n",
    "col_colors['Sex'] = KEGG_terms_df_unique['Sex'].map(sex_lut)\n",
    "col_colors['Treatment'] = KEGG_terms_df_unique['Treatment'].map(treatment_lut)\n",
    "col_colors['Region'] = KEGG_terms_df_unique['Region'].map(region_lut)\n",
    "\n",
    "legend_elements = []\n",
    "for cond, cmap in zip(['Sex', 'Treatment', 'Region'], [sex_colors, treatment_colors, region_colors]):\n",
    "    legend_elements.append(Patch(facecolor='none', edgecolor='none', label=cond + ':'))\n",
    "    for label, color in zip(KEGG_terms_df_unique[cond].unique(), cmap):\n",
    "        legend_elements.append(Patch(facecolor=color, label=label))\n",
    "\n",
    "\n",
    "# Create the clustermap\n",
    "cg = sns.clustermap(pivot_df_logFC, cmap=\"vlag\", figsize=(10, 10), linewidths=0.75, linecolor= 'black',\n",
    "                    dendrogram_ratio=(.175, .025), center=0, annot=pivot_df_pvalues, fmt='',\n",
    "                    col_colors =col_colors, xticklabels=False, square=True, cbar_pos=(0.02, 0.55, 0.05, 0.18), col_cluster=False)\n",
    "cg.ax_row_dendrogram.set_visible(False) #suppress row dendrogram\n",
    "cg.ax_col_dendrogram.set_visible(False) #suppress row dendrogram\n",
    "cg.cax.set_title('NES', pad=10)\n",
    "cond_legend = cg.ax_heatmap.legend(labels=[f'p-value < 0.05'], frameon=False, handles=[plt.Line2D([], [], marker='*', color='black', linestyle='None', lw=2)], bbox_to_anchor=(0.01, 0.575))\n",
    "cg.ax_heatmap.add_artist(cond_legend)\n",
    "cg.ax_heatmap.legend(handles=legend_elements, bbox_to_anchor=(0, 1.15), ncol=1, frameon=False)\n",
    "\n",
    "# Manually set the x-axis title at the top\n",
    "cg.ax_heatmap.set_title('Condition', y=1.125)\n",
    "\n",
    "# Optionally, if you want to remove the default x-axis label\n",
    "cg.ax_heatmap.set_xlabel('')\n",
    "cg.ax_heatmap.set_ylabel('')\n",
    "\n",
    "cg.ax_heatmap.set_position([cg.ax_heatmap.get_position().x0, cg.ax_heatmap.get_position().y0,\n",
    "                           cg.ax_heatmap.get_position().width, cg.ax_heatmap.get_position().height])\n",
    "cg.ax_col_colors.set_position([cg.ax_col_colors.get_position().x0, cg.ax_col_colors.get_position().y0 + 0.010,\n",
    "                              cg.ax_col_colors.get_position().width, cg.ax_col_colors.get_position().height])"
   ]
  },
  {
   "cell_type": "markdown",
   "id": "5d5ac3b8-55bf-4c43-b9ca-f0daddf36639",
   "metadata": {},
   "source": [
    "### Female AAV9 "
   ]
  },
  {
   "cell_type": "code",
   "execution_count": null,
   "id": "1009f6b3-26a2-46f3-991d-7f0a113985dd",
   "metadata": {
    "tags": []
   },
   "outputs": [],
   "source": [
    "conditions_to_check=['female_AVV9_vs_Control_pericentral_Results_msigdb_4','female_AVV9_vs_Control_periportal_Results_msigdb_4']\n",
    "combined_df.fillna(1, inplace=True)"
   ]
  },
  {
   "cell_type": "code",
   "execution_count": null,
   "id": "fde4bd53-fdc6-4f38-a8f8-1a6067f91585",
   "metadata": {
    "tags": []
   },
   "outputs": [],
   "source": [
    "filtered_df = KEGG_terms[KEGG_terms['Condition'].isin(conditions_to_check)]"
   ]
  },
  {
   "cell_type": "code",
   "execution_count": null,
   "id": "ee97c538-41b7-4c98-9641-c7708a7a338e",
   "metadata": {
    "tags": []
   },
   "outputs": [],
   "source": [
    "filtered_df"
   ]
  },
  {
   "cell_type": "code",
   "execution_count": null,
   "id": "4b27691b-e3c6-4988-9d31-d7d390f19654",
   "metadata": {
    "tags": []
   },
   "outputs": [],
   "source": [
    "all_terms = filtered_df['Term.1'].unique().tolist()"
   ]
  },
  {
   "cell_type": "code",
   "execution_count": null,
   "id": "a7d552ad-010b-4d4e-8cf8-d9cf5f5101ac",
   "metadata": {
    "tags": []
   },
   "outputs": [],
   "source": [
    "different_terms = []\n",
    "\n",
    "for current_term in all_terms:\n",
    "    \n",
    "    filtered_df_term = filtered_df[filtered_df['Term.1'] == current_term]\n",
    "    \n",
    "    conditions = filtered_df_term['Condition'].unique()\n",
    "\n",
    "    if len(conditions) < 2: \n",
    "        continue\n",
    "        # if (filtered_df_gene['padj'] < 0.05).tolist()[0]:\n",
    "        #    different_genes.append(current_gene)\n",
    "    else:\n",
    "        # Define your specific criteria here (for demonstration, using arbitrary conditions)\n",
    "        \n",
    "        criteria_met = (any(filtered_df_term['NOM p-value'] < 0.2) ) and \\\n",
    "                    (filtered_df_term['NES'].tolist()[0] * filtered_df_term['NES'].tolist()[1] < 0)\n",
    "        \n",
    "        if criteria_met:\n",
    "            different_terms.append(current_term)"
   ]
  },
  {
   "cell_type": "code",
   "execution_count": null,
   "id": "fd55664a-32e2-4459-8076-cf4fd6ffad07",
   "metadata": {},
   "outputs": [],
   "source": [
    "different_terms"
   ]
  },
  {
   "cell_type": "code",
   "execution_count": null,
   "id": "68594ddb-c335-4e57-8448-67cd472a5d07",
   "metadata": {
    "tags": []
   },
   "outputs": [],
   "source": [
    "KEGG_terms_df = KEGG_terms[KEGG_terms['Term.1'].isin(different_terms) & KEGG_terms['Condition'].isin(conditions_to_check)]"
   ]
  },
  {
   "cell_type": "code",
   "execution_count": null,
   "id": "a06f3f1a-51a5-4eb5-9c32-1e58c5e9a083",
   "metadata": {
    "tags": []
   },
   "outputs": [],
   "source": [
    "KEGG_terms_df['Condition'] =  KEGG_terms_df['Condition'].str.replace('_Results_msigdb_4', '', regex=False) "
   ]
  },
  {
   "cell_type": "code",
   "execution_count": null,
   "id": "c07c2789-6b13-4ebe-b346-c1f299d1626a",
   "metadata": {
    "tags": []
   },
   "outputs": [],
   "source": [
    "KEGG_terms_df['Term.1'] =  KEGG_terms_df['Term.1'].str.replace('KEGG_', '', regex=False) "
   ]
  },
  {
   "cell_type": "code",
   "execution_count": null,
   "id": "762de6a5-6948-4462-9050-dfe00491cd69",
   "metadata": {
    "tags": []
   },
   "outputs": [],
   "source": [
    "def truncate_string(input_string, max_length):\n",
    "    if len(input_string) > max_length:\n",
    "        return input_string[:max_length] + \"...\"\n",
    "    else:\n",
    "        return input_string"
   ]
  },
  {
   "cell_type": "code",
   "execution_count": null,
   "id": "7feef604-d6f3-4403-9fb0-eadc1cc29e75",
   "metadata": {
    "tags": []
   },
   "outputs": [],
   "source": [
    "KEGG_terms_df['Term.1_truncated'] = KEGG_terms_df['Term.1'].apply(lambda x: truncate_string(x, 45))"
   ]
  },
  {
   "cell_type": "code",
   "execution_count": null,
   "id": "4063008d-a24c-431e-a962-e1abade6d98d",
   "metadata": {
    "tags": []
   },
   "outputs": [],
   "source": [
    "KEGG_terms_df.set_index('Term.1_truncated', inplace=True)\n",
    "\n",
    "KEGG_terms_df['Sex'] = KEGG_terms_df['Condition'].str.split('_', expand=True)[[0]]\n",
    "KEGG_terms_df['Treatment'] = KEGG_terms_df['Condition'].str.split('_', expand=True)[1]\n",
    "KEGG_terms_df['Region'] = KEGG_terms_df['Condition'].str.split('_', expand=True)[4]\n",
    "\n",
    "pivot_df_logFC = KEGG_terms_df.pivot(columns = 'Condition', values=\"NES\")\n",
    "pivot_df_pvalues = KEGG_terms_df.pivot(columns = 'Condition', values=\"FDR p-value\")\n",
    "pivot_df_pvalues = pivot_df_pvalues.applymap(lambda x: '*' if x < 0.05 else ' ')\n",
    "\n",
    "pivot_df_logFC.fillna(0, inplace=True)\n",
    "\n",
    "\n",
    "# Map the conditions to colors\n",
    "KEGG_terms_df_unique = KEGG_terms_df[['Condition', 'Sex', 'Treatment','Region']].drop_duplicates()\n",
    "KEGG_terms_df_unique.set_index(\"Condition\", inplace=True)\n",
    "\n",
    "sex_colors = ['#c66874','#67c1ca']\n",
    "treatment_colors = ['#687ac8','#c8b866']\n",
    "region_colors = ['#c98367',  '#6ac989','#9c69c8']\n",
    "\n",
    "sex_lut = dict(zip(KEGG_terms_df_unique['Sex'].unique(), sex_colors))\n",
    "treatment_lut = dict(zip(KEGG_terms_df_unique['Treatment'].unique(), treatment_colors))\n",
    "region_lut = dict(zip(KEGG_terms_df_unique['Region'].unique(), region_colors))\n",
    "\n",
    "# Convert the conditions to a DataFrame of colors\n",
    "col_colors  = pd.DataFrame(index=pivot_df_logFC.columns)\n",
    "col_colors['Sex'] = KEGG_terms_df_unique['Sex'].map(sex_lut)\n",
    "col_colors['Treatment'] = KEGG_terms_df_unique['Treatment'].map(treatment_lut)\n",
    "col_colors['Region'] = KEGG_terms_df_unique['Region'].map(region_lut)\n",
    "\n",
    "legend_elements = []\n",
    "for cond, cmap in zip(['Sex', 'Treatment', 'Region'], [sex_colors, treatment_colors, region_colors]):\n",
    "    legend_elements.append(Patch(facecolor='none', edgecolor='none', label=cond + ':'))\n",
    "    for label, color in zip(KEGG_terms_df_unique[cond].unique(), cmap):\n",
    "        legend_elements.append(Patch(facecolor=color, label=label))\n",
    "\n",
    "\n",
    "# Create the clustermap\n",
    "cg = sns.clustermap(pivot_df_logFC, cmap=\"vlag\", figsize=(10, 10), linewidths=0.75, linecolor= 'black',\n",
    "                    # dendrogram_ratio=(.175, .025), \n",
    "                    center=0, annot=pivot_df_pvalues, fmt='',\n",
    "                    col_colors =col_colors, xticklabels=False, square=True, cbar_pos=(0.02, 0.55, 0.05, 0.18), col_cluster=False)\n",
    "cg.ax_row_dendrogram.set_visible(False) #suppress row dendrogram\n",
    "cg.ax_col_dendrogram.set_visible(False) #suppress row dendrogram\n",
    "cg.cax.set_title('NES', pad=10)\n",
    "cond_legend = cg.ax_heatmap.legend(labels=[f'p-value < 0.05'], frameon=False, handles=[plt.Line2D([], [], marker='*', color='black', linestyle='None', lw=2)], bbox_to_anchor=(0.01, 0.575))\n",
    "cg.ax_heatmap.add_artist(cond_legend)\n",
    "cg.ax_heatmap.legend(handles=legend_elements, bbox_to_anchor=(0, 1.15), ncol=1, frameon=False)\n",
    "\n",
    "# Manually set the x-axis title at the top\n",
    "cg.ax_heatmap.set_title('Condition', y=1.125)\n",
    "\n",
    "# Optionally, if you want to remove the default x-axis label\n",
    "cg.ax_heatmap.set_xlabel('')\n",
    "cg.ax_heatmap.set_ylabel('')\n",
    "\n",
    "cg.ax_heatmap.set_position([cg.ax_heatmap.get_position().x0, cg.ax_heatmap.get_position().y0,\n",
    "                           cg.ax_heatmap.get_position().width, cg.ax_heatmap.get_position().height])\n",
    "cg.ax_col_colors.set_position([cg.ax_col_colors.get_position().x0, cg.ax_col_colors.get_position().y0 + 0.010,\n",
    "                              cg.ax_col_colors.get_position().width, cg.ax_col_colors.get_position().height])"
   ]
  },
  {
   "cell_type": "markdown",
   "id": "e9303d1e-7ca2-40c7-a1c9-54bcbf2a7929",
   "metadata": {},
   "source": [
    "### Female AAV2 "
   ]
  },
  {
   "cell_type": "code",
   "execution_count": null,
   "id": "f4d782b3-e3c0-4b2f-863b-1e9bf85322d3",
   "metadata": {
    "tags": []
   },
   "outputs": [],
   "source": [
    "conditions_to_check=['female_AVV2_vs_Control_pericentral_Results_msigdb_4','female_AVV2_vs_Control_periportal_Results_msigdb_4']\n",
    "combined_df.fillna(1, inplace=True)"
   ]
  },
  {
   "cell_type": "code",
   "execution_count": null,
   "id": "ae3a45f4-e0c6-4578-a404-94800b7a8e7d",
   "metadata": {
    "tags": []
   },
   "outputs": [],
   "source": [
    "filtered_df = KEGG_terms[KEGG_terms['Condition'].isin(conditions_to_check)]"
   ]
  },
  {
   "cell_type": "code",
   "execution_count": null,
   "id": "15f15667-3883-492a-b6bc-a5e20c8531ce",
   "metadata": {
    "tags": []
   },
   "outputs": [],
   "source": [
    "filtered_df"
   ]
  },
  {
   "cell_type": "code",
   "execution_count": null,
   "id": "086bbf05-768a-4c5b-9fd8-5ac9fed13e77",
   "metadata": {
    "tags": []
   },
   "outputs": [],
   "source": [
    "all_terms = filtered_df['Term.1'].unique().tolist()"
   ]
  },
  {
   "cell_type": "code",
   "execution_count": null,
   "id": "99bf6993-faa3-49e7-80f1-eeda42c54243",
   "metadata": {
    "tags": []
   },
   "outputs": [],
   "source": [
    "different_terms = []\n",
    "\n",
    "for current_term in all_terms:\n",
    "    \n",
    "    filtered_df_term = filtered_df[filtered_df['Term.1'] == current_term]\n",
    "    \n",
    "    conditions = filtered_df_term['Condition'].unique()\n",
    "\n",
    "    if len(conditions) < 2: \n",
    "        continue\n",
    "        # if (filtered_df_gene['padj'] < 0.05).tolist()[0]:\n",
    "        #    different_genes.append(current_gene)\n",
    "    else:\n",
    "        # Define your specific criteria here (for demonstration, using arbitrary conditions)\n",
    "        \n",
    "        criteria_met = (any(filtered_df_term['NOM p-value'] < 0.2) ) and \\\n",
    "                    (filtered_df_term['NES'].tolist()[0] * filtered_df_term['NES'].tolist()[1] < 0)\n",
    "        \n",
    "        if criteria_met:\n",
    "            different_terms.append(current_term)"
   ]
  },
  {
   "cell_type": "code",
   "execution_count": null,
   "id": "f435312f-09bc-45d3-b39b-ae81d164e7b7",
   "metadata": {},
   "outputs": [],
   "source": [
    "different_terms"
   ]
  },
  {
   "cell_type": "code",
   "execution_count": null,
   "id": "f3413ab1-ac4c-4a16-be99-f408d7a10c7a",
   "metadata": {
    "tags": []
   },
   "outputs": [],
   "source": [
    "KEGG_terms_df = KEGG_terms[KEGG_terms['Term.1'].isin(different_terms) & KEGG_terms['Condition'].isin(conditions_to_check)]"
   ]
  },
  {
   "cell_type": "code",
   "execution_count": null,
   "id": "89fd3e09-a37e-4e63-849a-c6d3a184bde1",
   "metadata": {
    "tags": []
   },
   "outputs": [],
   "source": [
    "KEGG_terms_df['Condition'] =  KEGG_terms_df['Condition'].str.replace('_Results_msigdb_4', '', regex=False) "
   ]
  },
  {
   "cell_type": "code",
   "execution_count": null,
   "id": "b33ef034-fc83-483b-b734-7fc0478f4cc0",
   "metadata": {
    "tags": []
   },
   "outputs": [],
   "source": [
    "KEGG_terms_df['Term.1'] =  KEGG_terms_df['Term.1'].str.replace('KEGG_', '', regex=False) "
   ]
  },
  {
   "cell_type": "code",
   "execution_count": null,
   "id": "360feb98-4e1f-4c12-8622-805173c8fe31",
   "metadata": {
    "tags": []
   },
   "outputs": [],
   "source": [
    "def truncate_string(input_string, max_length):\n",
    "    if len(input_string) > max_length:\n",
    "        return input_string[:max_length] + \"...\"\n",
    "    else:\n",
    "        return input_string"
   ]
  },
  {
   "cell_type": "code",
   "execution_count": null,
   "id": "da384867-95f1-4081-aa4e-590045b97dde",
   "metadata": {
    "tags": []
   },
   "outputs": [],
   "source": [
    "KEGG_terms_df['Term.1_truncated'] = KEGG_terms_df['Term.1'].apply(lambda x: truncate_string(x, 45))"
   ]
  },
  {
   "cell_type": "code",
   "execution_count": null,
   "id": "0aa719bb-fbe4-41b8-82ae-73af870ca9ea",
   "metadata": {
    "tags": []
   },
   "outputs": [],
   "source": [
    "KEGG_terms_df.set_index('Term.1_truncated', inplace=True)\n",
    "\n",
    "KEGG_terms_df['Sex'] = KEGG_terms_df['Condition'].str.split('_', expand=True)[[0]]\n",
    "KEGG_terms_df['Treatment'] = KEGG_terms_df['Condition'].str.split('_', expand=True)[1]\n",
    "KEGG_terms_df['Region'] = KEGG_terms_df['Condition'].str.split('_', expand=True)[4]\n",
    "\n",
    "pivot_df_logFC = KEGG_terms_df.pivot(columns = 'Condition', values=\"NES\")\n",
    "pivot_df_pvalues = KEGG_terms_df.pivot(columns = 'Condition', values=\"FDR p-value\")\n",
    "pivot_df_pvalues = pivot_df_pvalues.applymap(lambda x: '*' if x < 0.05 else ' ')\n",
    "\n",
    "pivot_df_logFC.fillna(0, inplace=True)\n",
    "\n",
    "\n",
    "# Map the conditions to colors\n",
    "KEGG_terms_df_unique = KEGG_terms_df[['Condition', 'Sex', 'Treatment','Region']].drop_duplicates()\n",
    "KEGG_terms_df_unique.set_index(\"Condition\", inplace=True)\n",
    "\n",
    "sex_colors = ['#c66874','#67c1ca']\n",
    "treatment_colors = ['#687ac8','#c8b866']\n",
    "region_colors = ['#c98367',  '#6ac989','#9c69c8']\n",
    "\n",
    "sex_lut = dict(zip(KEGG_terms_df_unique['Sex'].unique(), sex_colors))\n",
    "treatment_lut = dict(zip(KEGG_terms_df_unique['Treatment'].unique(), treatment_colors))\n",
    "region_lut = dict(zip(KEGG_terms_df_unique['Region'].unique(), region_colors))\n",
    "\n",
    "# Convert the conditions to a DataFrame of colors\n",
    "col_colors  = pd.DataFrame(index=pivot_df_logFC.columns)\n",
    "col_colors['Sex'] = KEGG_terms_df_unique['Sex'].map(sex_lut)\n",
    "col_colors['Treatment'] = KEGG_terms_df_unique['Treatment'].map(treatment_lut)\n",
    "col_colors['Region'] = KEGG_terms_df_unique['Region'].map(region_lut)\n",
    "\n",
    "legend_elements = []\n",
    "for cond, cmap in zip(['Sex', 'Treatment', 'Region'], [sex_colors, treatment_colors, region_colors]):\n",
    "    legend_elements.append(Patch(facecolor='none', edgecolor='none', label=cond + ':'))\n",
    "    for label, color in zip(KEGG_terms_df_unique[cond].unique(), cmap):\n",
    "        legend_elements.append(Patch(facecolor=color, label=label))\n",
    "\n",
    "\n",
    "# Create the clustermap\n",
    "cg = sns.clustermap(pivot_df_logFC, cmap=\"vlag\", figsize=(10, 10), linewidths=0.75, linecolor= 'black',\n",
    "                    dendrogram_ratio=(.175, .025), center=0, annot=pivot_df_pvalues, fmt='',\n",
    "                    col_colors =col_colors, xticklabels=False, square=True, cbar_pos=(0.02, 0.55, 0.05, 0.18), col_cluster=False)\n",
    "cg.ax_row_dendrogram.set_visible(False) #suppress row dendrogram\n",
    "cg.ax_col_dendrogram.set_visible(False) #suppress row dendrogram\n",
    "cg.cax.set_title('NES', pad=10)\n",
    "cond_legend = cg.ax_heatmap.legend(labels=[f'p-value < 0.05'], frameon=False, handles=[plt.Line2D([], [], marker='*', color='black', linestyle='None', lw=2)], bbox_to_anchor=(0.01, 0.575))\n",
    "cg.ax_heatmap.add_artist(cond_legend)\n",
    "cg.ax_heatmap.legend(handles=legend_elements, bbox_to_anchor=(0, 1.15), ncol=1, frameon=False)\n",
    "\n",
    "# Manually set the x-axis title at the top\n",
    "cg.ax_heatmap.set_title('Condition', y=1.125)\n",
    "\n",
    "# Optionally, if you want to remove the default x-axis label\n",
    "cg.ax_heatmap.set_xlabel('')\n",
    "cg.ax_heatmap.set_ylabel('')\n",
    "\n",
    "cg.ax_heatmap.set_position([cg.ax_heatmap.get_position().x0, cg.ax_heatmap.get_position().y0,\n",
    "                           cg.ax_heatmap.get_position().width, cg.ax_heatmap.get_position().height])\n",
    "cg.ax_col_colors.set_position([cg.ax_col_colors.get_position().x0, cg.ax_col_colors.get_position().y0 + 0.010,\n",
    "                              cg.ax_col_colors.get_position().width, cg.ax_col_colors.get_position().height])"
   ]
  },
  {
   "cell_type": "markdown",
   "id": "ff71cc93-9c2b-4b7b-8007-13a7eb6bbefc",
   "metadata": {},
   "source": [
    "## msigdb_2"
   ]
  },
  {
   "cell_type": "code",
   "execution_count": null,
   "id": "e4b5ebde-1330-4e58-81eb-4139d3bbea35",
   "metadata": {
    "tags": []
   },
   "outputs": [],
   "source": [
    "folder_path_gsea = os.path.join(inpath, results_folder, 'GSEA_results')  \n",
    "msigdb_2_dfs = []  # To store all your dataframes\n",
    "\n",
    "for filename in os.listdir(folder_path_gsea):\n",
    "    if filename.endswith('_msigdb_2.csv'):\n",
    "        file_path = os.path.join(folder_path_gsea, filename)\n",
    "        df = pd.read_csv(file_path)\n",
    "        # df.columns = ['TF', 'ActivityScore', 'Pvalue']\n",
    "        df['Condition'] = filename  \n",
    "        df['Condition'] = df['Condition'].str.replace('.csv', '', regex=False) \n",
    "        # df.set_index('TF', inplace=True)\n",
    "        msigdb_2_dfs.append(df)"
   ]
  },
  {
   "cell_type": "code",
   "execution_count": null,
   "id": "04aa1aa9-4a84-4c5f-a2c0-d711d1866a2f",
   "metadata": {},
   "outputs": [],
   "source": [
    "combined_gsea_2_df = pd.concat(msigdb_2_dfs, ignore_index=True)"
   ]
  },
  {
   "cell_type": "code",
   "execution_count": null,
   "id": "0f9b9265-6511-4958-aab9-3eaf540d7de3",
   "metadata": {
    "tags": []
   },
   "outputs": [],
   "source": [
    "combined_gsea_2_df"
   ]
  },
  {
   "cell_type": "code",
   "execution_count": null,
   "id": "4d78caac-2775-40b0-9480-52ffe6979db5",
   "metadata": {},
   "outputs": [],
   "source": [
    "combined_gsea_2 = combined_gsea_2_df.copy()"
   ]
  },
  {
   "cell_type": "code",
   "execution_count": null,
   "id": "36c28a73-84c1-4654-ba2d-9ef6f8fd6bcb",
   "metadata": {},
   "outputs": [],
   "source": [
    "combined_gsea_2_df['Term.1']"
   ]
  },
  {
   "cell_type": "code",
   "execution_count": null,
   "id": "10541416-9d18-4066-bf18-1781b79c42cc",
   "metadata": {
    "tags": []
   },
   "outputs": [],
   "source": [
    "combined_gsea_2_df['abs_NES'] = abs(combined_gsea_2_df['NES'])"
   ]
  },
  {
   "cell_type": "code",
   "execution_count": null,
   "id": "b8c79960-7ffe-4ef3-88e8-5b0240ac3cfe",
   "metadata": {
    "tags": []
   },
   "outputs": [],
   "source": [
    "top_gsea_2_terms = combined_gsea_2_df.sort_values(by = 'abs_NES', ascending=False).drop_duplicates('Term.1')['Term.1'].head(35).tolist()"
   ]
  },
  {
   "cell_type": "code",
   "execution_count": null,
   "id": "d3ce1506-2161-44a5-a029-972545a524df",
   "metadata": {
    "tags": []
   },
   "outputs": [],
   "source": [
    "top_gsea_2_terms"
   ]
  },
  {
   "cell_type": "code",
   "execution_count": null,
   "id": "e0b66997-3624-4cd4-b3b7-45ea23494ad3",
   "metadata": {
    "tags": []
   },
   "outputs": [],
   "source": [
    "combined_gsea_2_df = combined_gsea_2_df[combined_gsea_2_df['Term.1'].isin(top_gsea_2_terms)]"
   ]
  },
  {
   "cell_type": "code",
   "execution_count": null,
   "id": "bfc88405-5f1c-471d-8f6c-ed90fb10c2bb",
   "metadata": {
    "tags": []
   },
   "outputs": [],
   "source": [
    "combined_gsea_2_df"
   ]
  },
  {
   "cell_type": "code",
   "execution_count": null,
   "id": "1519d737-df8d-44f6-b886-cb6df3829ab7",
   "metadata": {},
   "outputs": [],
   "source": [
    "combined_gsea_2_df.set_index('Term.1', inplace=True)"
   ]
  },
  {
   "cell_type": "code",
   "execution_count": null,
   "id": "8a9ab80f-6634-4fd9-a8e4-0ee696e0b4c7",
   "metadata": {
    "tags": []
   },
   "outputs": [],
   "source": [
    "predefined_order = ['female_AVV2_vs_Control_periportal_Results_msigdb_2', \n",
    "                    'female_AVV2_vs_Control_other_Results_msigdb_2', \n",
    "                    'female_AVV2_vs_Control_pericentral_Results_msigdb_2', \n",
    "                    'female_AVV9_vs_Control_periportal_Results_msigdb_2', \n",
    "                    'female_AVV9_vs_Control_other_Results_msigdb_2', \n",
    "                    'female_AVV9_vs_Control_pericentral_Results_msigdb_2',\n",
    "                    'male_AVV2_vs_Control_periportal_Results_msigdb_2', \n",
    "                    'male_AVV2_vs_Control_other_Results_msigdb_2', \n",
    "                    'male_AVV2_vs_Control_pericentral_Results_msigdb_2', \n",
    "                    'male_AVV9_vs_Control_periportal_Results_msigdb_2', \n",
    "                    'male_AVV9_vs_Control_other_Results_msigdb_2', \n",
    "                    'male_AVV9_vs_Control_pericentral_Results_msigdb_2' \n",
    "                    ] "
   ]
  },
  {
   "cell_type": "code",
   "execution_count": null,
   "id": "e925c7e6-87c9-4a2e-ac63-899486a1e849",
   "metadata": {
    "tags": []
   },
   "outputs": [],
   "source": [
    "combined_gsea_2_df['Sex'] = combined_gsea_2_df['Condition'].str.split('_', expand=True)[[0]]\n",
    "combined_gsea_2_df['Treatment'] = combined_gsea_2_df['Condition'].str.split('_', expand=True)[1]\n",
    "combined_gsea_2_df['Region'] = combined_gsea_2_df['Condition'].str.split('_', expand=True)[4]\n",
    "\n",
    "pivot_df_logFC = combined_gsea_2_df.pivot(columns = 'Condition', values=\"NES\")\n",
    "pivot_df_pvalues = combined_gsea_2_df.pivot(columns = 'Condition', values=\"FDR p-value\")\n",
    "pivot_df_pvalues = pivot_df_pvalues.applymap(lambda x: '*' if x < 0.05 else ' ')\n",
    "\n",
    "pivot_df_logFC.fillna(0, inplace=True)\n",
    "\n",
    "\n",
    "# Map the conditions to colors\n",
    "combined_gsea_2_df_unique = combined_gsea_2_df[['Condition', 'Sex', 'Treatment','Region']].drop_duplicates()\n",
    "combined_gsea_2_df_unique.set_index(\"Condition\", inplace=True)\n",
    "\n",
    "sex_colors = ['#c66874','#67c1ca']\n",
    "treatment_colors = ['#687ac8','#c8b866']\n",
    "region_colors = ['#c98367',  '#6ac989','#9c69c8']\n",
    "\n",
    "sex_lut = dict(zip(combined_gsea_2_df_unique['Sex'].unique(), sex_colors))\n",
    "treatment_lut = dict(zip(combined_gsea_2_df_unique['Treatment'].unique(), treatment_colors))\n",
    "region_lut = dict(zip(combined_gsea_2_df_unique['Region'].unique(), region_colors))\n",
    "\n",
    "# Convert the conditions to a DataFrame of colors\n",
    "col_colors  = pd.DataFrame(index=pivot_df_logFC.columns)\n",
    "col_colors['Sex'] = combined_gsea_2_df_unique['Sex'].map(sex_lut)\n",
    "col_colors['Treatment'] = combined_gsea_2_df_unique['Treatment'].map(treatment_lut)\n",
    "col_colors['Region'] = combined_gsea_2_df_unique['Region'].map(region_lut)\n",
    "\n",
    "legend_elements = []\n",
    "for cond, cmap in zip(['Sex', 'Treatment', 'Region'], [sex_colors, treatment_colors, region_colors]):\n",
    "    legend_elements.append(Patch(facecolor='none', edgecolor='none', label=cond + ':'))\n",
    "    for label, color in zip(combined_gsea_2_df_unique[cond].unique(), cmap):\n",
    "        legend_elements.append(Patch(facecolor=color, label=label))\n",
    "\n",
    "\n",
    "# Create the clustermap\n",
    "cg = sns.clustermap(pivot_df_logFC[predefined_order], cmap=\"vlag\", figsize=(10, 10), linewidths=0.75, linecolor= 'black',\n",
    "                    dendrogram_ratio=(.175, .025), center=0, annot=pivot_df_pvalues[predefined_order], fmt='',\n",
    "                    col_colors =col_colors, xticklabels=False, square=True, cbar_pos=(-0.05, 0.55, 0.05, 0.18), col_cluster=False)\n",
    "cg.ax_row_dendrogram.set_visible(False) #suppress row dendrogram\n",
    "cg.ax_col_dendrogram.set_visible(False) #suppress row dendrogram\n",
    "cg.cax.set_title('NES', pad=5)\n",
    "cond_legend = cg.ax_heatmap.legend(labels=[f'p-value < 0.05'], frameon=False, handles=[plt.Line2D([], [], marker='*', color='black', linestyle='None', lw=2)], bbox_to_anchor=(0.01, 0.575))\n",
    "cg.ax_heatmap.add_artist(cond_legend)\n",
    "cg.ax_heatmap.legend(handles=legend_elements, bbox_to_anchor=(0, 1.15), ncol=1, frameon=False)\n",
    "\n",
    "# Manually set the x-axis title at the top\n",
    "cg.ax_heatmap.set_title('Condition', y=1.125)\n",
    "\n",
    "# Optionally, if you want to remove the default x-axis label\n",
    "cg.ax_heatmap.set_xlabel('')\n",
    "cg.ax_heatmap.set_ylabel('')\n",
    "\n",
    "cg.ax_heatmap.set_position([cg.ax_heatmap.get_position().x0, cg.ax_heatmap.get_position().y0,\n",
    "                           cg.ax_heatmap.get_position().width, cg.ax_heatmap.get_position().height])\n",
    "cg.ax_col_colors.set_position([cg.ax_col_colors.get_position().x0, cg.ax_col_colors.get_position().y0 + 0.010,\n",
    "                              cg.ax_col_colors.get_position().width, cg.ax_col_colors.get_position().height])"
   ]
  },
  {
   "cell_type": "markdown",
   "id": "7b9f047f-5595-4987-8ae0-9c5f57b4e0ff",
   "metadata": {},
   "source": [
    "Can we also check that they are responding differently between pericentral and periportal in the different conditions? "
   ]
  },
  {
   "cell_type": "code",
   "execution_count": null,
   "id": "2ef47ea3-d631-4abe-ba14-36db15809ddd",
   "metadata": {},
   "outputs": [],
   "source": [
    "combined_gsea_2"
   ]
  },
  {
   "cell_type": "markdown",
   "id": "6ae18607-836f-468e-8a2f-af52498b4396",
   "metadata": {},
   "source": [
    "### Male AAV9 "
   ]
  },
  {
   "cell_type": "code",
   "execution_count": null,
   "id": "9bfbe4c4-be07-4564-97ef-bd1457971aa1",
   "metadata": {
    "tags": []
   },
   "outputs": [],
   "source": [
    "conditions_to_check=['male_AVV9_vs_Control_pericentral_Results_msigdb_2','male_AVV9_vs_Control_periportal_Results_msigdb_2']\n",
    "combined_df.fillna(1, inplace=True)"
   ]
  },
  {
   "cell_type": "code",
   "execution_count": null,
   "id": "72704dec-fc58-41f3-b1ac-2a4a746e63c4",
   "metadata": {
    "tags": []
   },
   "outputs": [],
   "source": [
    "filtered_df = combined_gsea_2[combined_gsea_2['Condition'].isin(conditions_to_check)]"
   ]
  },
  {
   "cell_type": "code",
   "execution_count": null,
   "id": "af4af3e2-57c6-428f-a15d-fb3f59e8cd02",
   "metadata": {
    "tags": []
   },
   "outputs": [],
   "source": [
    "filtered_df"
   ]
  },
  {
   "cell_type": "code",
   "execution_count": null,
   "id": "7de71d44-c910-4af2-aef5-e598f21fe6d7",
   "metadata": {
    "tags": []
   },
   "outputs": [],
   "source": [
    "all_terms = filtered_df['Term.1'].unique().tolist()"
   ]
  },
  {
   "cell_type": "code",
   "execution_count": null,
   "id": "abb5a177-25b9-400b-87c5-6d19a0c3680e",
   "metadata": {
    "tags": []
   },
   "outputs": [],
   "source": [
    "different_terms = []\n",
    "\n",
    "for current_term in all_terms:\n",
    "    \n",
    "    filtered_df_term = filtered_df[filtered_df['Term.1'] == current_term]\n",
    "    \n",
    "    conditions = filtered_df_term['Condition'].unique()\n",
    "\n",
    "    if len(conditions) < 2: \n",
    "        continue\n",
    "        # if (filtered_df_gene['padj'] < 0.05).tolist()[0]:\n",
    "        #    different_genes.append(current_gene)\n",
    "    else:\n",
    "        # Define your specific criteria here (for demonstration, using arbitrary conditions)\n",
    "        \n",
    "        criteria_met = (any(filtered_df_term['NOM p-value'] < 0.01) ) and \\\n",
    "                    (filtered_df_term['NES'].tolist()[0] * filtered_df_term['NES'].tolist()[1] < 0)\n",
    "        \n",
    "        if criteria_met:\n",
    "            different_terms.append(current_term)"
   ]
  },
  {
   "cell_type": "code",
   "execution_count": null,
   "id": "5d69036b-e98e-4660-b9af-b5ecc8c9f51f",
   "metadata": {},
   "outputs": [],
   "source": [
    "different_terms"
   ]
  },
  {
   "cell_type": "code",
   "execution_count": null,
   "id": "964767dd-69e2-4a36-a266-9cecaad2833b",
   "metadata": {
    "tags": []
   },
   "outputs": [],
   "source": [
    "combined_gsea_2_df = combined_gsea_2[combined_gsea_2['Term.1'].isin(different_terms) & combined_gsea_2['Condition'].isin(conditions_to_check)]"
   ]
  },
  {
   "cell_type": "code",
   "execution_count": null,
   "id": "5f7d50c6-41e1-4e6b-91da-e8452c5a2674",
   "metadata": {
    "tags": []
   },
   "outputs": [],
   "source": [
    "combined_gsea_2_df['Condition'] =  combined_gsea_2_df['Condition'].str.replace('_Results_msigdb_2', '', regex=False) "
   ]
  },
  {
   "cell_type": "code",
   "execution_count": null,
   "id": "ad8c1cbe-7863-4bcf-afda-62fc5c3b9027",
   "metadata": {
    "tags": []
   },
   "outputs": [],
   "source": [
    "def truncate_string(input_string, max_length):\n",
    "    if len(input_string) > max_length:\n",
    "        return input_string[:max_length] + \"...\"\n",
    "    else:\n",
    "        return input_string"
   ]
  },
  {
   "cell_type": "code",
   "execution_count": null,
   "id": "e14cafd5-f265-4ee2-bb03-7c2498043e36",
   "metadata": {
    "tags": []
   },
   "outputs": [],
   "source": [
    "combined_gsea_2_df['Term.1_truncated'] = combined_gsea_2_df['Term.1'].apply(lambda x: truncate_string(x, 45))"
   ]
  },
  {
   "cell_type": "code",
   "execution_count": null,
   "id": "f446cd62-93fb-4d62-8369-e7bd9bcf3ab0",
   "metadata": {},
   "outputs": [],
   "source": [
    "combined_gsea_2_df"
   ]
  },
  {
   "cell_type": "code",
   "execution_count": null,
   "id": "66720b5a-2450-41a4-9d30-409eb7e9b442",
   "metadata": {
    "tags": []
   },
   "outputs": [],
   "source": [
    "combined_gsea_2_df.set_index('Term.1_truncated', inplace=True)\n",
    "\n",
    "combined_gsea_2_df['Sex'] = combined_gsea_2_df['Condition'].str.split('_', expand=True)[[0]]\n",
    "combined_gsea_2_df['Treatment'] = combined_gsea_2_df['Condition'].str.split('_', expand=True)[1]\n",
    "combined_gsea_2_df['Region'] = combined_gsea_2_df['Condition'].str.split('_', expand=True)[4]\n",
    "\n",
    "pivot_df_logFC = combined_gsea_2_df.pivot(columns = 'Condition', values=\"NES\")\n",
    "pivot_df_pvalues = combined_gsea_2_df.pivot(columns = 'Condition', values=\"FDR p-value\")\n",
    "pivot_df_pvalues = pivot_df_pvalues.applymap(lambda x: '*' if x < 0.05 else ' ')\n",
    "\n",
    "pivot_df_logFC.fillna(0, inplace=True)\n",
    "\n",
    "\n",
    "# Map the conditions to colors\n",
    "combined_gsea_2_df_unique = combined_gsea_2_df[['Condition', 'Sex', 'Treatment','Region']].drop_duplicates()\n",
    "combined_gsea_2_df_unique.set_index(\"Condition\", inplace=True)\n",
    "\n",
    "sex_colors = ['#c66874','#67c1ca']\n",
    "treatment_colors = ['#687ac8','#c8b866']\n",
    "region_colors = ['#c98367',  '#6ac989','#9c69c8']\n",
    "\n",
    "sex_lut = dict(zip(combined_gsea_2_df_unique['Sex'].unique(), sex_colors))\n",
    "treatment_lut = dict(zip(combined_gsea_2_df_unique['Treatment'].unique(), treatment_colors))\n",
    "region_lut = dict(zip(combined_gsea_2_df_unique['Region'].unique(), region_colors))\n",
    "\n",
    "# Convert the conditions to a DataFrame of colors\n",
    "col_colors  = pd.DataFrame(index=pivot_df_logFC.columns)\n",
    "col_colors['Sex'] = combined_gsea_2_df_unique['Sex'].map(sex_lut)\n",
    "col_colors['Treatment'] = combined_gsea_2_df_unique['Treatment'].map(treatment_lut)\n",
    "col_colors['Region'] = combined_gsea_2_df_unique['Region'].map(region_lut)\n",
    "\n",
    "legend_elements = []\n",
    "for cond, cmap in zip(['Sex', 'Treatment', 'Region'], [sex_colors, treatment_colors, region_colors]):\n",
    "    legend_elements.append(Patch(facecolor='none', edgecolor='none', label=cond + ':'))\n",
    "    for label, color in zip(combined_gsea_2_df_unique[cond].unique(), cmap):\n",
    "        legend_elements.append(Patch(facecolor=color, label=label))\n",
    "\n",
    "\n",
    "# Create the clustermap\n",
    "cg = sns.clustermap(pivot_df_logFC, cmap=\"vlag\", figsize=(10, 10), linewidths=0.75, linecolor= 'black',\n",
    "                    dendrogram_ratio=(.175, .025), center=0, annot=pivot_df_pvalues, fmt='',\n",
    "                    col_colors =col_colors, xticklabels=False, square=True, cbar_pos=(-0.05, 0.55, 0.05, 0.18), col_cluster=False)\n",
    "cg.ax_row_dendrogram.set_visible(False) #suppress row dendrogram\n",
    "cg.ax_col_dendrogram.set_visible(False) #suppress row dendrogram\n",
    "cg.cax.set_title('NES', pad=5)\n",
    "cond_legend = cg.ax_heatmap.legend(labels=[f'p-value < 0.05'], frameon=False, handles=[plt.Line2D([], [], marker='*', color='black', linestyle='None', lw=2)], bbox_to_anchor=(0.01, 0.575))\n",
    "cg.ax_heatmap.add_artist(cond_legend)\n",
    "cg.ax_heatmap.legend(handles=legend_elements, bbox_to_anchor=(0, 1.15), ncol=1, frameon=False)\n",
    "\n",
    "# Manually set the x-axis title at the top\n",
    "cg.ax_heatmap.set_title('Condition', y=1.125)\n",
    "\n",
    "# Optionally, if you want to remove the default x-axis label\n",
    "cg.ax_heatmap.set_xlabel('')\n",
    "cg.ax_heatmap.set_ylabel('')\n",
    "\n",
    "cg.ax_heatmap.set_position([cg.ax_heatmap.get_position().x0, cg.ax_heatmap.get_position().y0,\n",
    "                           cg.ax_heatmap.get_position().width, cg.ax_heatmap.get_position().height])\n",
    "cg.ax_col_colors.set_position([cg.ax_col_colors.get_position().x0, cg.ax_col_colors.get_position().y0 + 0.010,\n",
    "                              cg.ax_col_colors.get_position().width, cg.ax_col_colors.get_position().height])"
   ]
  },
  {
   "cell_type": "markdown",
   "id": "15f8201d-48bb-4408-a2b3-039c35c3dfc8",
   "metadata": {},
   "source": [
    "### Male AAV2 "
   ]
  },
  {
   "cell_type": "code",
   "execution_count": null,
   "id": "e2fcc197-5d82-42fc-887b-34260233177d",
   "metadata": {
    "tags": []
   },
   "outputs": [],
   "source": [
    "conditions_to_check=['male_AVV2_vs_Control_pericentral_Results_msigdb_2','male_AVV2_vs_Control_periportal_Results_msigdb_2']\n",
    "combined_df.fillna(1, inplace=True)"
   ]
  },
  {
   "cell_type": "code",
   "execution_count": null,
   "id": "8d58b1ac-8b42-4bf5-b541-60206e1b7d9f",
   "metadata": {
    "tags": []
   },
   "outputs": [],
   "source": [
    "filtered_df = combined_gsea_2[combined_gsea_2['Condition'].isin(conditions_to_check)]"
   ]
  },
  {
   "cell_type": "code",
   "execution_count": null,
   "id": "ae7b263e-1061-4508-9e18-535ac14ba8b6",
   "metadata": {
    "tags": []
   },
   "outputs": [],
   "source": [
    "filtered_df"
   ]
  },
  {
   "cell_type": "code",
   "execution_count": null,
   "id": "9a87ad03-d453-4daf-b6aa-d6f9ce7a0413",
   "metadata": {
    "tags": []
   },
   "outputs": [],
   "source": [
    "all_terms = filtered_df['Term.1'].unique().tolist()"
   ]
  },
  {
   "cell_type": "code",
   "execution_count": null,
   "id": "401daa06-2c29-42e4-80d6-b7344785fc3b",
   "metadata": {
    "tags": []
   },
   "outputs": [],
   "source": [
    "different_terms = []\n",
    "\n",
    "for current_term in all_terms:\n",
    "    \n",
    "    filtered_df_term = filtered_df[filtered_df['Term.1'] == current_term]\n",
    "    \n",
    "    conditions = filtered_df_term['Condition'].unique()\n",
    "\n",
    "    if len(conditions) < 2: \n",
    "        continue\n",
    "        # if (filtered_df_gene['padj'] < 0.05).tolist()[0]:\n",
    "        #    different_genes.append(current_gene)\n",
    "    else:\n",
    "        # Define your specific criteria here (for demonstration, using arbitrary conditions)\n",
    "        \n",
    "        criteria_met = (any(filtered_df_term['NOM p-value'] < 0.01) ) and \\\n",
    "                    (filtered_df_term['NES'].tolist()[0] * filtered_df_term['NES'].tolist()[1] < 0)\n",
    "        \n",
    "        if criteria_met:\n",
    "            different_terms.append(current_term)"
   ]
  },
  {
   "cell_type": "code",
   "execution_count": null,
   "id": "ccd76672-cfba-42ea-b409-ad289839c48e",
   "metadata": {},
   "outputs": [],
   "source": [
    "different_terms"
   ]
  },
  {
   "cell_type": "code",
   "execution_count": null,
   "id": "996691f5-cd18-48df-8726-9b83e2c5f504",
   "metadata": {
    "tags": []
   },
   "outputs": [],
   "source": [
    "combined_gsea_2_df = combined_gsea_2[combined_gsea_2['Term.1'].isin(different_terms) & combined_gsea_2['Condition'].isin(conditions_to_check)]"
   ]
  },
  {
   "cell_type": "code",
   "execution_count": null,
   "id": "14e4bfd1-b775-4a8c-b29a-50a421b89cd6",
   "metadata": {
    "tags": []
   },
   "outputs": [],
   "source": [
    "combined_gsea_2_df['Condition'] =  combined_gsea_2_df['Condition'].str.replace('_Results_msigdb_2', '', regex=False) "
   ]
  },
  {
   "cell_type": "code",
   "execution_count": null,
   "id": "dcc46031-f423-450d-9b4d-89a0b55644d6",
   "metadata": {
    "tags": []
   },
   "outputs": [],
   "source": [
    "combined_gsea_2_df['Term.1'] =  combined_gsea_2_df['Term.1'].str.replace('KEGG_', '', regex=False) "
   ]
  },
  {
   "cell_type": "code",
   "execution_count": null,
   "id": "ac16f21c-f2fd-48db-9f21-bf3ab782aa17",
   "metadata": {
    "tags": []
   },
   "outputs": [],
   "source": [
    "def truncate_string(input_string, max_length):\n",
    "    if len(input_string) > max_length:\n",
    "        return input_string[:max_length] + \"...\"\n",
    "    else:\n",
    "        return input_string"
   ]
  },
  {
   "cell_type": "code",
   "execution_count": null,
   "id": "307fefc0-6926-4dae-a08c-cb90759ab7ac",
   "metadata": {
    "tags": []
   },
   "outputs": [],
   "source": [
    "combined_gsea_2_df['Term.1_truncated'] = combined_gsea_2_df['Term.1'].apply(lambda x: truncate_string(x, 45))"
   ]
  },
  {
   "cell_type": "code",
   "execution_count": null,
   "id": "748c862f-6cf3-4e1f-9625-0b119637dd5f",
   "metadata": {
    "tags": []
   },
   "outputs": [],
   "source": [
    "combined_gsea_2_df.set_index('Term.1_truncated', inplace=True)\n",
    "\n",
    "combined_gsea_2_df['Sex'] = combined_gsea_2_df['Condition'].str.split('_', expand=True)[[0]]\n",
    "combined_gsea_2_df['Treatment'] = combined_gsea_2_df['Condition'].str.split('_', expand=True)[1]\n",
    "combined_gsea_2_df['Region'] = combined_gsea_2_df['Condition'].str.split('_', expand=True)[4]\n",
    "\n",
    "pivot_df_logFC = combined_gsea_2_df.pivot(columns = 'Condition', values=\"NES\")\n",
    "pivot_df_pvalues = combined_gsea_2_df.pivot(columns = 'Condition', values=\"FDR p-value\")\n",
    "pivot_df_pvalues = pivot_df_pvalues.applymap(lambda x: '*' if x < 0.05 else ' ')\n",
    "\n",
    "pivot_df_logFC.fillna(0, inplace=True)\n",
    "\n",
    "\n",
    "# Map the conditions to colors\n",
    "combined_gsea_2_df_unique = combined_gsea_2_df[['Condition', 'Sex', 'Treatment','Region']].drop_duplicates()\n",
    "combined_gsea_2_df_unique.set_index(\"Condition\", inplace=True)\n",
    "\n",
    "sex_colors = ['#c66874','#67c1ca']\n",
    "treatment_colors = ['#687ac8','#c8b866']\n",
    "region_colors = ['#c98367',  '#6ac989','#9c69c8']\n",
    "\n",
    "sex_lut = dict(zip(combined_gsea_2_df_unique['Sex'].unique(), sex_colors))\n",
    "treatment_lut = dict(zip(combined_gsea_2_df_unique['Treatment'].unique(), treatment_colors))\n",
    "region_lut = dict(zip(combined_gsea_2_df_unique['Region'].unique(), region_colors))\n",
    "\n",
    "# Convert the conditions to a DataFrame of colors\n",
    "col_colors  = pd.DataFrame(index=pivot_df_logFC.columns)\n",
    "col_colors['Sex'] = combined_gsea_2_df_unique['Sex'].map(sex_lut)\n",
    "col_colors['Treatment'] = combined_gsea_2_df_unique['Treatment'].map(treatment_lut)\n",
    "col_colors['Region'] = combined_gsea_2_df_unique['Region'].map(region_lut)\n",
    "\n",
    "legend_elements = []\n",
    "for cond, cmap in zip(['Sex', 'Treatment', 'Region'], [sex_colors, treatment_colors, region_colors]):\n",
    "    legend_elements.append(Patch(facecolor='none', edgecolor='none', label=cond + ':'))\n",
    "    for label, color in zip(combined_gsea_2_df_unique[cond].unique(), cmap):\n",
    "        legend_elements.append(Patch(facecolor=color, label=label))\n",
    "\n",
    "\n",
    "# Create the clustermap\n",
    "cg = sns.clustermap(pivot_df_logFC, cmap=\"vlag\", figsize=(10, 10), linewidths=0.75, linecolor= 'black',\n",
    "                    dendrogram_ratio=(.175, .025), center=0, annot=pivot_df_pvalues, fmt='',\n",
    "                    col_colors =col_colors, xticklabels=False, square=True, cbar_pos=(-0.05, 0.55, 0.05, 0.18), col_cluster=False)\n",
    "cg.ax_row_dendrogram.set_visible(False) #suppress row dendrogram\n",
    "cg.ax_col_dendrogram.set_visible(False) #suppress row dendrogram\n",
    "cg.cax.set_title('NES', pad=5)\n",
    "cond_legend = cg.ax_heatmap.legend(labels=[f'p-value < 0.05'], frameon=False, handles=[plt.Line2D([], [], marker='*', color='black', linestyle='None', lw=2)], bbox_to_anchor=(0.01, 0.575))\n",
    "cg.ax_heatmap.add_artist(cond_legend)\n",
    "cg.ax_heatmap.legend(handles=legend_elements, bbox_to_anchor=(0, 1.15), ncol=1, frameon=False)\n",
    "\n",
    "# Manually set the x-axis title at the top\n",
    "cg.ax_heatmap.set_title('Condition', y=1.125)\n",
    "\n",
    "# Optionally, if you want to remove the default x-axis label\n",
    "cg.ax_heatmap.set_xlabel('')\n",
    "cg.ax_heatmap.set_ylabel('')\n",
    "\n",
    "cg.ax_heatmap.set_position([cg.ax_heatmap.get_position().x0, cg.ax_heatmap.get_position().y0,\n",
    "                           cg.ax_heatmap.get_position().width, cg.ax_heatmap.get_position().height])\n",
    "cg.ax_col_colors.set_position([cg.ax_col_colors.get_position().x0, cg.ax_col_colors.get_position().y0 + 0.010,\n",
    "                              cg.ax_col_colors.get_position().width, cg.ax_col_colors.get_position().height])"
   ]
  },
  {
   "cell_type": "markdown",
   "id": "5d188ef5-6f9f-4762-8bdc-3db0499ff735",
   "metadata": {},
   "source": [
    "### Female AAV9 "
   ]
  },
  {
   "cell_type": "code",
   "execution_count": null,
   "id": "0efa337e-5c5a-4139-8446-16ad10ee3014",
   "metadata": {
    "tags": []
   },
   "outputs": [],
   "source": [
    "conditions_to_check=['female_AVV9_vs_Control_pericentral_Results_msigdb_2','female_AVV9_vs_Control_periportal_Results_msigdb_2']\n",
    "combined_df.fillna(1, inplace=True)"
   ]
  },
  {
   "cell_type": "code",
   "execution_count": null,
   "id": "5e4e8067-41bb-4715-90ab-0ecdb874a981",
   "metadata": {
    "tags": []
   },
   "outputs": [],
   "source": [
    "filtered_df = combined_gsea_2[combined_gsea_2['Condition'].isin(conditions_to_check)]"
   ]
  },
  {
   "cell_type": "code",
   "execution_count": null,
   "id": "f7172a7d-a454-4c25-bfa3-e1397ac8e777",
   "metadata": {
    "tags": []
   },
   "outputs": [],
   "source": [
    "filtered_df"
   ]
  },
  {
   "cell_type": "code",
   "execution_count": null,
   "id": "936bbf6b-44d3-4fa9-9064-1d5308b4eb68",
   "metadata": {
    "tags": []
   },
   "outputs": [],
   "source": [
    "all_terms = filtered_df['Term.1'].unique().tolist()"
   ]
  },
  {
   "cell_type": "code",
   "execution_count": null,
   "id": "719c3dbf-3a00-4f24-9c5a-db1c0e50db66",
   "metadata": {
    "tags": []
   },
   "outputs": [],
   "source": [
    "different_terms = []\n",
    "\n",
    "for current_term in all_terms:\n",
    "    \n",
    "    filtered_df_term = filtered_df[filtered_df['Term.1'] == current_term]\n",
    "    \n",
    "    conditions = filtered_df_term['Condition'].unique()\n",
    "\n",
    "    if len(conditions) < 2: \n",
    "        continue\n",
    "        # if (filtered_df_gene['padj'] < 0.05).tolist()[0]:\n",
    "        #    different_genes.append(current_gene)\n",
    "    else:\n",
    "        # Define your specific criteria here (for demonstration, using arbitrary conditions)\n",
    "        \n",
    "        criteria_met = (any(filtered_df_term['NOM p-value'] < 0.01) ) and \\\n",
    "                    (filtered_df_term['NES'].tolist()[0] * filtered_df_term['NES'].tolist()[1] < 0)\n",
    "        \n",
    "        if criteria_met:\n",
    "            different_terms.append(current_term)"
   ]
  },
  {
   "cell_type": "code",
   "execution_count": null,
   "id": "b784d099-1405-4e95-a4de-c94b59edea65",
   "metadata": {},
   "outputs": [],
   "source": [
    "different_terms"
   ]
  },
  {
   "cell_type": "code",
   "execution_count": null,
   "id": "68c95944-89d1-4649-a6e1-ddc74874d1e9",
   "metadata": {
    "tags": []
   },
   "outputs": [],
   "source": [
    "combined_gsea_2_df = combined_gsea_2[combined_gsea_2['Term.1'].isin(different_terms) & combined_gsea_2['Condition'].isin(conditions_to_check)]"
   ]
  },
  {
   "cell_type": "code",
   "execution_count": null,
   "id": "1832c5f1-605d-4551-9e34-97af6f695366",
   "metadata": {
    "tags": []
   },
   "outputs": [],
   "source": [
    "combined_gsea_2_df['Condition'] =  combined_gsea_2_df['Condition'].str.replace('_Results_msigdb_2', '', regex=False) "
   ]
  },
  {
   "cell_type": "code",
   "execution_count": null,
   "id": "5b23c640-0915-4b37-97a5-72e3af0a6e00",
   "metadata": {
    "tags": []
   },
   "outputs": [],
   "source": [
    "def truncate_string(input_string, max_length):\n",
    "    if len(input_string) > max_length:\n",
    "        return input_string[:max_length] + \"...\"\n",
    "    else:\n",
    "        return input_string"
   ]
  },
  {
   "cell_type": "code",
   "execution_count": null,
   "id": "a9980b0c-b650-4232-9a4d-81818a14b9a1",
   "metadata": {
    "tags": []
   },
   "outputs": [],
   "source": [
    "combined_gsea_2_df['Term.1_truncated'] = combined_gsea_2_df['Term.1'].apply(lambda x: truncate_string(x, 45))"
   ]
  },
  {
   "cell_type": "code",
   "execution_count": null,
   "id": "33dd0912-0de6-40dc-b515-828ceb4a49d9",
   "metadata": {},
   "outputs": [],
   "source": [
    "combined_gsea_2_df"
   ]
  },
  {
   "cell_type": "code",
   "execution_count": null,
   "id": "b53c114f-9476-46b2-b7d8-c8d2cc82583e",
   "metadata": {
    "tags": []
   },
   "outputs": [],
   "source": [
    "combined_gsea_2_df.set_index('Term.1_truncated', inplace=True)\n",
    "\n",
    "combined_gsea_2_df['Sex'] = combined_gsea_2_df['Condition'].str.split('_', expand=True)[[0]]\n",
    "combined_gsea_2_df['Treatment'] = combined_gsea_2_df['Condition'].str.split('_', expand=True)[1]\n",
    "combined_gsea_2_df['Region'] = combined_gsea_2_df['Condition'].str.split('_', expand=True)[4]\n",
    "\n",
    "pivot_df_logFC = combined_gsea_2_df.pivot(columns = 'Condition', values=\"NES\")\n",
    "pivot_df_pvalues = combined_gsea_2_df.pivot(columns = 'Condition', values=\"FDR p-value\")\n",
    "pivot_df_pvalues = pivot_df_pvalues.applymap(lambda x: '*' if x < 0.05 else ' ')\n",
    "\n",
    "pivot_df_logFC.fillna(0, inplace=True)\n",
    "\n",
    "\n",
    "# Map the conditions to colors\n",
    "combined_gsea_2_df_unique = combined_gsea_2_df[['Condition', 'Sex', 'Treatment','Region']].drop_duplicates()\n",
    "combined_gsea_2_df_unique.set_index(\"Condition\", inplace=True)\n",
    "\n",
    "sex_colors = ['#c66874','#67c1ca']\n",
    "treatment_colors = ['#687ac8','#c8b866']\n",
    "region_colors = ['#c98367',  '#6ac989','#9c69c8']\n",
    "\n",
    "sex_lut = dict(zip(combined_gsea_2_df_unique['Sex'].unique(), sex_colors))\n",
    "treatment_lut = dict(zip(combined_gsea_2_df_unique['Treatment'].unique(), treatment_colors))\n",
    "region_lut = dict(zip(combined_gsea_2_df_unique['Region'].unique(), region_colors))\n",
    "\n",
    "# Convert the conditions to a DataFrame of colors\n",
    "col_colors  = pd.DataFrame(index=pivot_df_logFC.columns)\n",
    "col_colors['Sex'] = combined_gsea_2_df_unique['Sex'].map(sex_lut)\n",
    "col_colors['Treatment'] = combined_gsea_2_df_unique['Treatment'].map(treatment_lut)\n",
    "col_colors['Region'] = combined_gsea_2_df_unique['Region'].map(region_lut)\n",
    "\n",
    "legend_elements = []\n",
    "for cond, cmap in zip(['Sex', 'Treatment', 'Region'], [sex_colors, treatment_colors, region_colors]):\n",
    "    legend_elements.append(Patch(facecolor='none', edgecolor='none', label=cond + ':'))\n",
    "    for label, color in zip(combined_gsea_2_df_unique[cond].unique(), cmap):\n",
    "        legend_elements.append(Patch(facecolor=color, label=label))\n",
    "\n",
    "\n",
    "# Create the clustermap\n",
    "cg = sns.clustermap(pivot_df_logFC, cmap=\"vlag\", figsize=(10, 10), linewidths=0.75, linecolor= 'black',\n",
    "                    dendrogram_ratio=(.175, .025), center=0, annot=pivot_df_pvalues, fmt='',\n",
    "                    col_colors =col_colors, xticklabels=False, square=True, cbar_pos=(-0.05, 0.55, 0.05, 0.18), col_cluster=False)\n",
    "cg.ax_row_dendrogram.set_visible(False) #suppress row dendrogram\n",
    "cg.ax_col_dendrogram.set_visible(False) #suppress row dendrogram\n",
    "cg.cax.set_title('NES', pad=5)\n",
    "cond_legend = cg.ax_heatmap.legend(labels=[f'p-value < 0.05'], frameon=False, handles=[plt.Line2D([], [], marker='*', color='black', linestyle='None', lw=2)], bbox_to_anchor=(0.01, 0.575))\n",
    "cg.ax_heatmap.add_artist(cond_legend)\n",
    "cg.ax_heatmap.legend(handles=legend_elements, bbox_to_anchor=(0, 1.15), ncol=1, frameon=False)\n",
    "\n",
    "# Manually set the x-axis title at the top\n",
    "cg.ax_heatmap.set_title('Condition', y=1.125)\n",
    "\n",
    "# Optionally, if you want to remove the default x-axis label\n",
    "cg.ax_heatmap.set_xlabel('')\n",
    "cg.ax_heatmap.set_ylabel('')\n",
    "\n",
    "cg.ax_heatmap.set_position([cg.ax_heatmap.get_position().x0, cg.ax_heatmap.get_position().y0,\n",
    "                           cg.ax_heatmap.get_position().width, cg.ax_heatmap.get_position().height])\n",
    "cg.ax_col_colors.set_position([cg.ax_col_colors.get_position().x0, cg.ax_col_colors.get_position().y0 + 0.010,\n",
    "                              cg.ax_col_colors.get_position().width, cg.ax_col_colors.get_position().height])"
   ]
  },
  {
   "cell_type": "markdown",
   "id": "3bb8796a-9426-48cd-944d-2c47ed994be4",
   "metadata": {},
   "source": [
    "### Female AAV2 "
   ]
  },
  {
   "cell_type": "code",
   "execution_count": null,
   "id": "7ee40225-9356-4690-bbcf-21e93eb3da0f",
   "metadata": {
    "tags": []
   },
   "outputs": [],
   "source": [
    "conditions_to_check=['female_AVV2_vs_Control_pericentral_Results_msigdb_2','female_AVV2_vs_Control_periportal_Results_msigdb_2']\n",
    "combined_df.fillna(1, inplace=True)"
   ]
  },
  {
   "cell_type": "code",
   "execution_count": null,
   "id": "4633494c-9624-4a79-ac7c-1e6be7497498",
   "metadata": {
    "tags": []
   },
   "outputs": [],
   "source": [
    "filtered_df = combined_gsea_2[combined_gsea_2['Condition'].isin(conditions_to_check)]"
   ]
  },
  {
   "cell_type": "code",
   "execution_count": null,
   "id": "09db5b97-a466-4306-91ac-cf77585ca86e",
   "metadata": {
    "tags": []
   },
   "outputs": [],
   "source": [
    "filtered_df"
   ]
  },
  {
   "cell_type": "code",
   "execution_count": null,
   "id": "af3ed4da-4880-4b3e-bcfc-0d07ce4583e3",
   "metadata": {
    "tags": []
   },
   "outputs": [],
   "source": [
    "all_terms = filtered_df['Term.1'].unique().tolist()"
   ]
  },
  {
   "cell_type": "code",
   "execution_count": null,
   "id": "3d2bc846-3d19-4759-9e10-355cc503861a",
   "metadata": {
    "tags": []
   },
   "outputs": [],
   "source": [
    "different_terms = []\n",
    "\n",
    "for current_term in all_terms:\n",
    "    \n",
    "    filtered_df_term = filtered_df[filtered_df['Term.1'] == current_term]\n",
    "    \n",
    "    conditions = filtered_df_term['Condition'].unique()\n",
    "\n",
    "    if len(conditions) < 2: \n",
    "        continue\n",
    "        # if (filtered_df_gene['padj'] < 0.05).tolist()[0]:\n",
    "        #    different_genes.append(current_gene)\n",
    "    else:\n",
    "        # Define your specific criteria here (for demonstration, using arbitrary conditions)\n",
    "        \n",
    "        criteria_met = (any(filtered_df_term['NOM p-value'] < 0.01) ) and \\\n",
    "                    (filtered_df_term['NES'].tolist()[0] * filtered_df_term['NES'].tolist()[1] < 0)\n",
    "        \n",
    "        if criteria_met:\n",
    "            different_terms.append(current_term)"
   ]
  },
  {
   "cell_type": "code",
   "execution_count": null,
   "id": "427173d6-4a4e-45d3-b7f9-f5eb815f9b05",
   "metadata": {},
   "outputs": [],
   "source": [
    "different_terms"
   ]
  },
  {
   "cell_type": "code",
   "execution_count": null,
   "id": "b13c21c2-f8b9-4d78-9530-a51bcaca8582",
   "metadata": {
    "tags": []
   },
   "outputs": [],
   "source": [
    "combined_gsea_2_df = combined_gsea_2[combined_gsea_2['Term.1'].isin(different_terms) & combined_gsea_2['Condition'].isin(conditions_to_check)]"
   ]
  },
  {
   "cell_type": "code",
   "execution_count": null,
   "id": "5bb84b8b-736f-4ea2-aa10-cc85797a5d44",
   "metadata": {
    "tags": []
   },
   "outputs": [],
   "source": [
    "combined_gsea_2_df['Condition'] =  combined_gsea_2_df['Condition'].str.replace('_Results_msigdb_2', '', regex=False) "
   ]
  },
  {
   "cell_type": "code",
   "execution_count": null,
   "id": "cb0645f4-1adf-4bdd-8c99-678d6d91fe71",
   "metadata": {
    "tags": []
   },
   "outputs": [],
   "source": [
    "combined_gsea_2_df['Term.1'] =  combined_gsea_2_df['Term.1'].str.replace('KEGG_', '', regex=False) "
   ]
  },
  {
   "cell_type": "code",
   "execution_count": null,
   "id": "d1bcabdc-72c0-4c9b-b1a9-592e3bdcc6e2",
   "metadata": {
    "tags": []
   },
   "outputs": [],
   "source": [
    "def truncate_string(input_string, max_length):\n",
    "    if len(input_string) > max_length:\n",
    "        return input_string[:max_length] + \"...\"\n",
    "    else:\n",
    "        return input_string"
   ]
  },
  {
   "cell_type": "code",
   "execution_count": null,
   "id": "0387818a-3d4a-4fba-a996-1fda579c6155",
   "metadata": {
    "tags": []
   },
   "outputs": [],
   "source": [
    "combined_gsea_2_df['Term.1_truncated'] = combined_gsea_2_df['Term.1'].apply(lambda x: truncate_string(x, 45))"
   ]
  },
  {
   "cell_type": "code",
   "execution_count": null,
   "id": "f68228f3-e09a-4ea7-9847-5ba7f853f88b",
   "metadata": {
    "tags": []
   },
   "outputs": [],
   "source": [
    "combined_gsea_2_df.set_index('Term.1_truncated', inplace=True)\n",
    "\n",
    "combined_gsea_2_df['Sex'] = combined_gsea_2_df['Condition'].str.split('_', expand=True)[[0]]\n",
    "combined_gsea_2_df['Treatment'] = combined_gsea_2_df['Condition'].str.split('_', expand=True)[1]\n",
    "combined_gsea_2_df['Region'] = combined_gsea_2_df['Condition'].str.split('_', expand=True)[4]\n",
    "\n",
    "pivot_df_logFC = combined_gsea_2_df.pivot(columns = 'Condition', values=\"NES\")\n",
    "pivot_df_pvalues = combined_gsea_2_df.pivot(columns = 'Condition', values=\"FDR p-value\")\n",
    "pivot_df_pvalues = pivot_df_pvalues.applymap(lambda x: '*' if x < 0.05 else ' ')\n",
    "\n",
    "pivot_df_logFC.fillna(0, inplace=True)\n",
    "\n",
    "\n",
    "# Map the conditions to colors\n",
    "combined_gsea_2_df_unique = combined_gsea_2_df[['Condition', 'Sex', 'Treatment','Region']].drop_duplicates()\n",
    "combined_gsea_2_df_unique.set_index(\"Condition\", inplace=True)\n",
    "\n",
    "sex_colors = ['#c66874','#67c1ca']\n",
    "treatment_colors = ['#687ac8','#c8b866']\n",
    "region_colors = ['#c98367',  '#6ac989','#9c69c8']\n",
    "\n",
    "sex_lut = dict(zip(combined_gsea_2_df_unique['Sex'].unique(), sex_colors))\n",
    "treatment_lut = dict(zip(combined_gsea_2_df_unique['Treatment'].unique(), treatment_colors))\n",
    "region_lut = dict(zip(combined_gsea_2_df_unique['Region'].unique(), region_colors))\n",
    "\n",
    "# Convert the conditions to a DataFrame of colors\n",
    "col_colors  = pd.DataFrame(index=pivot_df_logFC.columns)\n",
    "col_colors['Sex'] = combined_gsea_2_df_unique['Sex'].map(sex_lut)\n",
    "col_colors['Treatment'] = combined_gsea_2_df_unique['Treatment'].map(treatment_lut)\n",
    "col_colors['Region'] = combined_gsea_2_df_unique['Region'].map(region_lut)\n",
    "\n",
    "legend_elements = []\n",
    "for cond, cmap in zip(['Sex', 'Treatment', 'Region'], [sex_colors, treatment_colors, region_colors]):\n",
    "    legend_elements.append(Patch(facecolor='none', edgecolor='none', label=cond + ':'))\n",
    "    for label, color in zip(combined_gsea_2_df_unique[cond].unique(), cmap):\n",
    "        legend_elements.append(Patch(facecolor=color, label=label))\n",
    "\n",
    "\n",
    "# Create the clustermap\n",
    "cg = sns.clustermap(pivot_df_logFC, cmap=\"vlag\", figsize=(10, 10), linewidths=0.75, linecolor= 'black',\n",
    "                    dendrogram_ratio=(.175, .025), center=0, annot=pivot_df_pvalues, fmt='',\n",
    "                    col_colors =col_colors, xticklabels=False, square=True, cbar_pos=(-0.05, 0.55, 0.05, 0.18), col_cluster=False)\n",
    "cg.ax_row_dendrogram.set_visible(False) #suppress row dendrogram\n",
    "cg.ax_col_dendrogram.set_visible(False) #suppress row dendrogram\n",
    "cg.cax.set_title('NES', pad=5)\n",
    "cond_legend = cg.ax_heatmap.legend(labels=[f'p-value < 0.05'], frameon=False, handles=[plt.Line2D([], [], marker='*', color='black', linestyle='None', lw=2)], bbox_to_anchor=(0.01, 0.575))\n",
    "cg.ax_heatmap.add_artist(cond_legend)\n",
    "cg.ax_heatmap.legend(handles=legend_elements, bbox_to_anchor=(0, 1.15), ncol=1, frameon=False)\n",
    "\n",
    "# Manually set the x-axis title at the top\n",
    "cg.ax_heatmap.set_title('Condition', y=1.125)\n",
    "\n",
    "# Optionally, if you want to remove the default x-axis label\n",
    "cg.ax_heatmap.set_xlabel('')\n",
    "cg.ax_heatmap.set_ylabel('')\n",
    "\n",
    "cg.ax_heatmap.set_position([cg.ax_heatmap.get_position().x0, cg.ax_heatmap.get_position().y0,\n",
    "                           cg.ax_heatmap.get_position().width, cg.ax_heatmap.get_position().height])\n",
    "cg.ax_col_colors.set_position([cg.ax_col_colors.get_position().x0, cg.ax_col_colors.get_position().y0 + 0.010,\n",
    "                              cg.ax_col_colors.get_position().width, cg.ax_col_colors.get_position().height])"
   ]
  },
  {
   "cell_type": "code",
   "execution_count": null,
   "id": "dbce1a9e-e317-4822-bc0b-fbb6baa32787",
   "metadata": {
    "tags": []
   },
   "outputs": [],
   "source": [
    "! jupyter nbconvert --to html 14d_VisualizationDEG_Results.ipynb"
   ]
  },
  {
   "cell_type": "raw",
   "id": "f3d95d99-892a-429c-a77d-2f48b738ba97",
   "metadata": {},
   "source": []
  }
 ],
 "metadata": {
  "kernelspec": {
   "display_name": "BeSpace_basic_env",
   "language": "python",
   "name": "bespace_basic_env"
  },
  "language_info": {
   "codemirror_mode": {
    "name": "ipython",
    "version": 3
   },
   "file_extension": ".py",
   "mimetype": "text/x-python",
   "name": "python",
   "nbconvert_exporter": "python",
   "pygments_lexer": "ipython3",
   "version": "3.9.18"
  }
 },
 "nbformat": 4,
 "nbformat_minor": 5
}
