{
 "cells": [
  {
   "cell_type": "code",
   "execution_count": null,
   "id": "f2fc410d-6783-456f-8dd0-bba943e9fcd4",
   "metadata": {
    "tags": []
   },
   "outputs": [],
   "source": [
    "import sys\n",
    "import os\n",
    "import scanpy as sc\n",
    "import anndata\n",
    "import pandas as pd\n",
    "import numpy as np\n",
    "import matplotlib.pyplot as plt\n",
    "import matplotlib as mpl\n",
    "\n",
    "import cell2location\n",
    "import scvi\n",
    "\n",
    "from matplotlib import rcParams\n",
    "rcParams['pdf.fonttype'] = 42 # enables correct plotting of text for PDFs"
   ]
  },
  {
   "cell_type": "markdown",
   "id": "ee8c521a-f334-43d9-801c-e7b12b11b2b5",
   "metadata": {},
   "source": [
    "We load the results generated in the previous script"
   ]
  },
  {
   "cell_type": "code",
   "execution_count": null,
   "id": "2e13f507-9652-4a35-a9c4-448c6c7bd8f4",
   "metadata": {
    "tags": []
   },
   "outputs": [],
   "source": [
    "root_path = os.getcwd()"
   ]
  },
  {
   "cell_type": "code",
   "execution_count": null,
   "id": "2b386775-bff4-4db7-b537-1bd5e4a2f0e1",
   "metadata": {
    "tags": []
   },
   "outputs": [],
   "source": [
    "results_folder = os.path.join(root_path, 'deconvolution')\n",
    "ref_run_name =  os.path.join(results_folder, 'reference_signatures') \n",
    "run_name = os.path.join(results_folder, 'cell2location_map')  "
   ]
  },
  {
   "cell_type": "code",
   "execution_count": null,
   "id": "8b805ab7-94c9-4186-91d0-2256573f15d1",
   "metadata": {
    "tags": []
   },
   "outputs": [],
   "source": [
    "adata_file = f\"{run_name}/sp.h5ad\"\n",
    "adata_vis = sc.read_h5ad(adata_file)\n",
    "# mod = cell2location.models.Cell2location.load(f\"{run_name}\", adata_vis)"
   ]
  },
  {
   "cell_type": "markdown",
   "id": "73f4731f-7896-4615-8366-16b75ed33cdc",
   "metadata": {},
   "source": [
    "# Identifying discrete tissue regions by Leiden clustering"
   ]
  },
  {
   "cell_type": "code",
   "execution_count": null,
   "id": "53faf13c-841b-4d94-b8c5-7c41c412e403",
   "metadata": {
    "tags": []
   },
   "outputs": [],
   "source": [
    "# compute KNN using the cell2location output stored in adata.obsm\n",
    "sc.pp.neighbors(adata_vis, use_rep='q05_cell_abundance_w_sf',\n",
    "                n_neighbors = 15)\n",
    "\n",
    "# Cluster spots into regions using scanpy\n",
    "sc.tl.leiden(adata_vis, resolution=0.6)\n",
    "\n",
    "# add region as categorical variable\n",
    "adata_vis.obs[\"region_cluster\"] = adata_vis.obs[\"leiden\"].astype(\"category\")"
   ]
  },
  {
   "cell_type": "code",
   "execution_count": null,
   "id": "ab591101-1d6d-4cd4-a2f2-3ae4732fea88",
   "metadata": {
    "tags": []
   },
   "outputs": [],
   "source": [
    "adata_vis.obs"
   ]
  },
  {
   "cell_type": "code",
   "execution_count": null,
   "id": "a29ec224-bd9e-46a9-a54e-a09248767d73",
   "metadata": {
    "tags": []
   },
   "outputs": [],
   "source": [
    "# compute UMAP using KNN graph based on the cell2location output\n",
    "sc.tl.umap(adata_vis, min_dist = 0.5, spread = 1.5)\n",
    "\n",
    "# show regions in UMAP coordinates\n",
    "with mpl.rc_context({'axes.facecolor':  'white',\n",
    "                     'figure.figsize': [8, 8]}):\n",
    "    sc.pl.umap(adata_vis, color=['region_cluster'], size=30,\n",
    "               color_map = 'RdPu', ncols = 2, legend_loc='on data',\n",
    "               legend_fontsize=20)\n",
    "    sc.pl.umap(adata_vis, color=['Sample_ID'], size=30,\n",
    "               color_map = 'RdPu', ncols = 2,\n",
    "               legend_fontsize=20)\n",
    "    sc.pl.umap(adata_vis, color=['Gender'], size=30,\n",
    "               color_map = 'RdPu', ncols = 2,\n",
    "               legend_fontsize=20)\n",
    "    sc.pl.umap(adata_vis, color=['Condition'], size=30,\n",
    "               color_map = 'RdPu', ncols = 2,\n",
    "               legend_fontsize=20)\n",
    "# plot in spatial coordinates\n",
    "# with mpl.rc_context({'axes.facecolor':  'black',\n",
    "#                     'figure.figsize': [4.5, 5]}):\n",
    "#   sc.pl.spatial(adata_vis, color=['region_cluster'],\n",
    "#                 size=1.3, img_key='hires', alpha=0.5)"
   ]
  },
  {
   "cell_type": "code",
   "execution_count": null,
   "id": "fe49d4c2-d501-4c3a-86af-a9b1834ff999",
   "metadata": {
    "tags": []
   },
   "outputs": [],
   "source": [
    "clusters_colors = dict(\n",
    "    zip([str(i) for i in range(20)], adata_vis.uns[\"region_cluster_colors\"])\n",
    ")"
   ]
  },
  {
   "cell_type": "code",
   "execution_count": null,
   "id": "58a10361-80c8-42e6-94bd-6a02e1eb96b0",
   "metadata": {
    "tags": []
   },
   "outputs": [],
   "source": [
    "for i, library in enumerate(\n",
    "   adata_vis.obs[\"Sample_ID\"].unique().tolist()\n",
    "):\n",
    "    ad = adata_vis[adata_vis.obs.library_id == library, :].copy()\n",
    "    print(library)\n",
    "    print(ad.obs['Condition'].unique()[0])\n",
    "    sc.pl.spatial(\n",
    "        ad,\n",
    "        img_key=\"hires\",\n",
    "        library_id=library,\n",
    "        color=\"region_cluster\",\n",
    "        size=1.5,\n",
    "        palette=[\n",
    "            v\n",
    "            for k, v in clusters_colors.items()\n",
    "            if k in ad.obs.region_cluster.unique().tolist()\n",
    "        ])"
   ]
  },
  {
   "cell_type": "code",
   "execution_count": null,
   "id": "cc02cec0-8529-4795-83ee-11877c8b1f49",
   "metadata": {
    "tags": []
   },
   "outputs": [],
   "source": [
    "sample_cluster_counts_sample = adata_vis.obs.groupby(['Sample_ID', 'region_cluster']).size().unstack(fill_value=0)"
   ]
  },
  {
   "cell_type": "code",
   "execution_count": null,
   "id": "ad43390d-ec67-4dfe-b1f0-3727c4dcf436",
   "metadata": {
    "tags": []
   },
   "outputs": [],
   "source": [
    "sample_cluster_counts_sample"
   ]
  },
  {
   "cell_type": "code",
   "execution_count": null,
   "id": "f0d28768-1d10-4501-8291-886378ecd35c",
   "metadata": {
    "tags": []
   },
   "outputs": [],
   "source": [
    "with mpl.rc_context({'figure.figsize': [4.5, 5]}):\n",
    "    ax = sample_cluster_counts_sample.plot(kind='bar', stacked=True, figsize=(10, 6))\n",
    "    plt.show() "
   ]
  },
  {
   "cell_type": "code",
   "execution_count": null,
   "id": "f706cf08-5105-4c7c-a097-0ef48fca91f7",
   "metadata": {
    "tags": []
   },
   "outputs": [],
   "source": [
    "sample_cluster_counts_condition = adata_vis.obs.groupby(['Condition', 'region_cluster']).size().unstack(fill_value=0)"
   ]
  },
  {
   "cell_type": "code",
   "execution_count": null,
   "id": "f4283671-dbff-4422-b13e-5fa59ae112bf",
   "metadata": {
    "tags": []
   },
   "outputs": [],
   "source": [
    "sample_cluster_counts_condition"
   ]
  },
  {
   "cell_type": "code",
   "execution_count": null,
   "id": "a884260f-24d9-4b5c-b0b9-b3e49fbfbabf",
   "metadata": {
    "tags": []
   },
   "outputs": [],
   "source": [
    "with mpl.rc_context({'figure.figsize': [4.5, 5]}):\n",
    "    ax = sample_cluster_counts_condition.plot(kind='bar', stacked=True, figsize=(10, 6))\n",
    "    plt.show() "
   ]
  },
  {
   "cell_type": "code",
   "execution_count": null,
   "id": "fe9a4e01-97a3-4c5e-ab35-548120ba89c6",
   "metadata": {
    "tags": []
   },
   "outputs": [],
   "source": [
    "sample_cluster_counts_sex = adata_vis.obs.groupby(['Gender', 'region_cluster']).size().unstack(fill_value=0)"
   ]
  },
  {
   "cell_type": "code",
   "execution_count": null,
   "id": "520fd803-9bff-4085-86f9-5ffdfe044d1a",
   "metadata": {
    "tags": []
   },
   "outputs": [],
   "source": [
    "sample_cluster_counts_sex"
   ]
  },
  {
   "cell_type": "code",
   "execution_count": null,
   "id": "6db260a9-2045-41d5-8842-f7409bb15ed2",
   "metadata": {
    "tags": []
   },
   "outputs": [],
   "source": [
    "with mpl.rc_context({'figure.figsize': [4.5, 5]}):\n",
    "    ax = sample_cluster_counts_condition.plot(kind='bar', stacked=True, figsize=(10, 6))\n",
    "    plt.show() "
   ]
  },
  {
   "cell_type": "markdown",
   "id": "7291145e-eabe-427c-a1f0-0ce1fea24abc",
   "metadata": {},
   "source": [
    "The variablity is too large between samples. Use proportions rather than abundances? "
   ]
  },
  {
   "cell_type": "code",
   "execution_count": null,
   "id": "2cdda1dc-a75c-4759-b09b-3c661f8837b2",
   "metadata": {
    "tags": []
   },
   "outputs": [],
   "source": [
    "# sc.pp.normalize_total(adata_vis, inplace=True)\n",
    "# sc.pp.log1p(adata_vis)\n",
    "# sc.tl.rank_genes_groups(adata_vis, groupby='region_cluster', method='t-test')"
   ]
  },
  {
   "cell_type": "code",
   "execution_count": null,
   "id": "59f5ebe3-e89f-45f0-8bc0-8e23ab5822fb",
   "metadata": {
    "tags": []
   },
   "outputs": [],
   "source": [
    "# sc.pl.rank_genes_groups(adata_vis, n_genes = 10, groups = ['5','10'])"
   ]
  },
  {
   "cell_type": "markdown",
   "id": "b8707139-0014-4efa-a02e-df35e7974a49",
   "metadata": {},
   "source": [
    "# Identifying cellular compartments / tissue zones using matrix factorisation (NMF)"
   ]
  },
  {
   "cell_type": "code",
   "execution_count": null,
   "id": "074755c0-e8bd-4366-9428-bb785bda2b74",
   "metadata": {
    "tags": []
   },
   "outputs": [],
   "source": [
    "# adata_subset_treated = adata_vis[adata_vis.obs['CONDITION'] == 'FAP_LTBR'].copy()\n",
    "# adata_subset_untreated = adata_vis[adata_vis.obs['CONDITION'] == 'Untreated'].copy()"
   ]
  },
  {
   "cell_type": "code",
   "execution_count": null,
   "id": "b8cec65f-6ae2-4f4c-9301-503e12b4908b",
   "metadata": {
    "tags": []
   },
   "outputs": [],
   "source": [
    "# from cell2location import run_colocation\n",
    "# res_dict_treated, adata_subset_treated = run_colocation(\n",
    "#    adata_subset_treated,\n",
    "#    model_name='CoLocatedGroupsSklearnNMF',\n",
    "#    train_args={\n",
    "#      'n_fact': np.arange(5, 21), # IMPORTANT: use a wider range of the number of factors (5-30)\n",
    "#      'sample_name_col': 'readout_id', # columns in adata_vis.obs that identifies sample\n",
    "#      'n_restarts': 3 # number of training restarts\n",
    "#    },\n",
    "    # the hyperparameters of NMF can be also adjusted:\n",
    "#    model_kwargs={'alpha': 0.01, 'init': 'random', \"nmf_kwd_args\": {\"tol\": 0.000001}},\n",
    "#    export_args={'path': f'{run_name}/CoLocatedComb_treated/'}\n",
    "#)"
   ]
  },
  {
   "cell_type": "code",
   "execution_count": null,
   "id": "e4a93df3-43eb-4bf9-aa00-731ad636651a",
   "metadata": {
    "tags": []
   },
   "outputs": [],
   "source": [
    "# from cell2location import run_colocation\n",
    "# res_dict_untreated, adata_subset_untreated = run_colocation(\n",
    "#    adata_subset_untreated,\n",
    "#    model_name='CoLocatedGroupsSklearnNMF',\n",
    "#    train_args={\n",
    "#      'n_fact': np.arange(5, 21), # IMPORTANT: use a wider range of the number of factors (5-30)\n",
    "#      'sample_name_col': 'readout_id', # columns in adata_vis.obs that identifies sample\n",
    "#      'n_restarts': 3 # number of training restarts\n",
    "#    },\n",
    "#    # the hyperparameters of NMF can be also adjusted:\n",
    "#    model_kwargs={'alpha': 0.01, 'init': 'random', \"nmf_kwd_args\": {\"tol\": 0.000001}},\n",
    "#    export_args={'path': f'{run_name}/CoLocatedComb_untreated/'}\n",
    "#)"
   ]
  },
  {
   "cell_type": "code",
   "execution_count": null,
   "id": "71e89e43-1be4-48d2-9106-3568613d1247",
   "metadata": {
    "tags": []
   },
   "outputs": [],
   "source": [
    "# res_dict_treated['n_fact5']['mod'].plot_cell_type_loadings()\n",
    "# res_dict_untreated['n_fact5']['mod'].plot_cell_type_loadings()\n",
    "# plt.show() "
   ]
  },
  {
   "cell_type": "code",
   "execution_count": null,
   "id": "ce8bd207-b46c-4032-b628-3e3b9ce56575",
   "metadata": {
    "tags": []
   },
   "outputs": [],
   "source": [
    "# res_dict_treated['n_fact8']['mod'].plot_cell_type_loadings()\n",
    "# res_dict_untreated['n_fact8']['mod'].plot_cell_type_loadings()\n",
    "# plt.show() "
   ]
  },
  {
   "cell_type": "code",
   "execution_count": null,
   "id": "4c33423c-6ba8-41f1-ac0f-1b16a42597b2",
   "metadata": {
    "tags": []
   },
   "outputs": [],
   "source": [
    "# res_dict_treated['n_fact12']['mod'].plot_cell_type_loadings()\n",
    "# res_dict_untreated['n_fact12']['mod'].plot_cell_type_loadings()\n",
    "# plt.show() "
   ]
  },
  {
   "cell_type": "code",
   "execution_count": null,
   "id": "f4e2f005-5759-4d1a-abff-48daf99ba4f4",
   "metadata": {
    "tags": []
   },
   "outputs": [],
   "source": [
    "# res_dict_treated['n_fact16']['mod'].plot_cell_type_loadings()\n",
    "# res_dict_untreated['n_fact16']['mod'].plot_cell_type_loadings()\n",
    "# plt.show() "
   ]
  },
  {
   "cell_type": "code",
   "execution_count": null,
   "id": "ad3fe3bd-800c-4c6a-a67f-9ca05eb6aa9f",
   "metadata": {
    "tags": []
   },
   "outputs": [],
   "source": [
    "# res_dict_treated['n_fact20']['mod'].plot_cell_type_loadings()\n",
    "# res_dict_untreated['n_fact20']['mod'].plot_cell_type_loadings()\n",
    "# plt.show() "
   ]
  },
  {
   "cell_type": "code",
   "execution_count": null,
   "id": "23490ac3-a706-4043-8e3d-3f6cb69f5656",
   "metadata": {
    "tags": []
   },
   "outputs": [],
   "source": [
    "! jupyter nbconvert --to html 21_01_Deconvolution_C2L_Downstream.ipynb"
   ]
  },
  {
   "cell_type": "code",
   "execution_count": null,
   "id": "c396939f-00dd-4646-9eb5-e990cab58e85",
   "metadata": {},
   "outputs": [],
   "source": []
  }
 ],
 "metadata": {
  "kernelspec": {
   "display_name": "cell2loc_test",
   "language": "python",
   "name": "cell2loc_test"
  },
  "language_info": {
   "codemirror_mode": {
    "name": "ipython",
    "version": 3
   },
   "file_extension": ".py",
   "mimetype": "text/x-python",
   "name": "python",
   "nbconvert_exporter": "python",
   "pygments_lexer": "ipython3",
   "version": "3.9.18"
  }
 },
 "nbformat": 4,
 "nbformat_minor": 5
}
