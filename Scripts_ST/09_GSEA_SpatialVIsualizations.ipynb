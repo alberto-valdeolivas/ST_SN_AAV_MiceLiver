{
 "cells": [
  {
   "cell_type": "code",
   "execution_count": null,
   "id": "32e841c7-1c2d-4396-be38-5f687bedb42d",
   "metadata": {},
   "outputs": [],
   "source": [
    "import scanpy as sc\n",
    "import pandas as pd\n",
    "import os\n",
    "import anndata as ad\n",
    "import matplotlib.pyplot as plt\n",
    "import seaborn as sns\n",
    "import numpy as np\n",
    "import squidpy as sq\n",
    "from wrapper_functions import *\n",
    "sns.set()"
   ]
  },
  {
   "cell_type": "code",
   "execution_count": null,
   "id": "77a57f82-c2e0-44c2-b487-4ed75c5172e0",
   "metadata": {},
   "outputs": [],
   "source": [
    "# Automatically re-load wrapper functions after an update\n",
    "# Find details here: https://ipython.readthedocs.io/en/stable/config/extensions/autoreload.html\n",
    "%load_ext autoreload\n",
    "%autoreload 2"
   ]
  },
  {
   "cell_type": "code",
   "execution_count": null,
   "id": "e0de40ff-e452-474a-ab64-d51eefa3b8ca",
   "metadata": {},
   "outputs": [],
   "source": [
    "sc.logging.print_versions()\n",
    "sc.set_figure_params(facecolor=\"white\", figsize=(6, 6))\n",
    "sc.settings.verbosity = 3"
   ]
  },
  {
   "cell_type": "code",
   "execution_count": null,
   "id": "d02439bd-549d-4f83-b5a3-de24a91593a5",
   "metadata": {},
   "outputs": [],
   "source": [
    "organism = Organism.mouse\n",
    "analyze_params = Analyze(protocol=Protocol.FF, organism=organism)"
   ]
  },
  {
   "cell_type": "code",
   "execution_count": null,
   "id": "95709f32-05b1-45cf-9f8f-5885bef43b24",
   "metadata": {},
   "outputs": [],
   "source": [
    "root_path = os.getcwd()\n",
    "inpath='your_inpath_folder' # Replace with the location of your samples\n",
    "results_folder = os.path.join(root_path, 'analyzed')"
   ]
  },
  {
   "cell_type": "code",
   "execution_count": null,
   "id": "f831805f-4aee-402a-881a-6371770ea07e",
   "metadata": {},
   "outputs": [],
   "source": [
    "msigdb_mouse = pd.read_csv(\"msigdb_complete.csv\")"
   ]
  },
  {
   "cell_type": "code",
   "execution_count": null,
   "id": "e8762f9b-aaab-4364-be1a-e0b3f17f5c66",
   "metadata": {},
   "outputs": [],
   "source": [
    "msigdb_mouse[msigdb_mouse['collection'] == 'go_biological_process']"
   ]
  },
  {
   "cell_type": "code",
   "execution_count": null,
   "id": "6d8b3c64-d154-46f3-a927-4a448a3ac4c6",
   "metadata": {},
   "outputs": [],
   "source": [
    "msigdb_mouse[msigdb_mouse['geneset'] == 'GOBP_FATTY_ACID_CATABOLIC_PROCESS']"
   ]
  },
  {
   "cell_type": "code",
   "execution_count": null,
   "id": "09599dfd-21e6-4a2a-a23b-470e40c61593",
   "metadata": {},
   "outputs": [],
   "source": [
    "msigdb_mouse[msigdb_mouse['geneset'] == 'GOBP_FATTY_ACID_BETA_OXIDATION']"
   ]
  },
  {
   "cell_type": "code",
   "execution_count": null,
   "id": "a2c7cbde-2a18-4401-8b2c-6d5582e59054",
   "metadata": {},
   "outputs": [],
   "source": [
    "msigdb_mouse[msigdb_mouse['geneset'] == 'GOBP_RHYTHMIC_BEHAVIOR']"
   ]
  },
  {
   "cell_type": "code",
   "execution_count": null,
   "id": "d7c7f2ec-6402-4538-9f55-af489cba9119",
   "metadata": {},
   "outputs": [],
   "source": [
    "genes_fatty_accid_catabolic_process = msigdb_mouse[msigdb_mouse['geneset'] == 'GOBP_FATTY_ACID_CATABOLIC_PROCESS']['genesymbol'].unique().tolist()\n",
    "genes_fatty_accid_beta_oxidation = msigdb_mouse[msigdb_mouse['geneset'] == 'GOBP_FATTY_ACID_BETA_OXIDATION']['genesymbol'].unique().tolist()\n",
    "genes_rhytmic_behavior = msigdb_mouse[msigdb_mouse['geneset'] == 'GOBP_RHYTHMIC_BEHAVIOR']['genesymbol'].unique().tolist()"
   ]
  },
  {
   "cell_type": "code",
   "execution_count": null,
   "id": "ba3299cb-cc2f-4136-ba97-9031c83472c9",
   "metadata": {},
   "outputs": [],
   "source": [
    "file_names = [f for f in os.listdir(results_folder) if os.path.isfile(os.path.join(results_folder, f))]\n",
    "\n",
    "adata_list = [ad.read(os.path.join(results_folder, file)) for file in file_names if file.endswith('.h5ad')]"
   ]
  },
  {
   "cell_type": "code",
   "execution_count": null,
   "id": "97a33d00-9fc8-4603-be7b-a3c23fb3a447",
   "metadata": {},
   "outputs": [],
   "source": [
    "for adata in adata_list:\n",
    "    \n",
    "    # We store the raw counts into the layers attribute for further usage. \n",
    "    adata.X = np.round(adata.X)\n",
    "    adata.layers['counts'] = adata.X.copy()\n",
    "\n",
    "    sc.pp.normalize_total(adata, inplace=True)\n",
    "    sc.pp.log1p(adata)\n",
    "    sc.pp.highly_variable_genes(adata, flavor=\"seurat\", n_top_genes=2000, inplace=True)\n",
    "    \n",
    "    adata.layers['normalized'] = adata.X\n",
    "    \n",
    "    # sc.tl.score_genes(adata, gene_list=genes_fatty_accid_catabolic_process, score_name='fatty_accid_catabolic_process')\n",
    "    # sc.tl.score_genes(adata, gene_list=genes_fatty_accid_beta_oxidation, score_name='fatty_accid_beta_oxidation')\n",
    "    # sc.tl.score_genes(adata, gene_list=genes_rhytmic_behavior, score_name='rhytmic_behavior')\n",
    "    \n",
    "    # print(adata.obs['Sample_ID'].unique()[0])\n",
    "    # print(adata.obs['Condition'].unique()[0])\n",
    "    # print(adata.obs['Gender'].unique()[0])\n",
    "    \n",
    "    # sc.pl.spatial(adata, color='fatty_accid_catabolic_process', size=1.25, cmap='coolwarm')\n",
    "    # sc.pl.spatial(adata, color='fatty_accid_beta_oxidation', size=1.25, cmap='coolwarm')\n",
    "    # sc.pl.spatial(adata, color='rhytmic_behavior', size=1.25, cmap='coolwarm')"
   ]
  },
  {
   "cell_type": "code",
   "execution_count": null,
   "id": "d7142b0e-ebd5-4c11-8a99-501547c00371",
   "metadata": {},
   "outputs": [],
   "source": [
    "# concatenate all samples\n",
    "adata_concat = sc.concat(\n",
    "    adata_list,\n",
    "    label=\"readout_id\",\n",
    "    uns_merge=\"unique\",\n",
    "    keys=[\n",
    "        k\n",
    "        for d in [adata.uns[\"spatial\"] for adata in adata_list]\n",
    "        for k, v in d.items()\n",
    "    ],\n",
    "    index_unique=\"-\",\n",
    "    join='outer',\n",
    ")"
   ]
  },
  {
   "cell_type": "code",
   "execution_count": null,
   "id": "9dbfa224-fb83-438e-97c6-63d1bd18a100",
   "metadata": {},
   "outputs": [],
   "source": [
    "adata_concat"
   ]
  },
  {
   "cell_type": "code",
   "execution_count": null,
   "id": "59a04826-db9e-4e9b-8065-afcf5b2a62b9",
   "metadata": {},
   "outputs": [],
   "source": [
    "sc.tl.score_genes(adata_concat, gene_list=genes_fatty_accid_catabolic_process, score_name='fatty_accid_catabolic_process', ctrl_size=100, n_bins=50)\n",
    "sc.tl.score_genes(adata_concat, gene_list=genes_fatty_accid_beta_oxidation, score_name='fatty_accid_beta_oxidation', ctrl_size=100, n_bins=50)\n",
    "sc.tl.score_genes(adata_concat, gene_list=genes_rhytmic_behavior, score_name='rhytmic_behavior', ctrl_size=100, n_bins=50)"
   ]
  },
  {
   "cell_type": "code",
   "execution_count": null,
   "id": "69d9becc-4469-416f-ab62-616b19b75236",
   "metadata": {},
   "outputs": [],
   "source": [
    "for i, library in enumerate(\n",
    "   adata_concat.obs[\"readout_id\"].unique().tolist()\n",
    "):\n",
    "    current_adata = adata_concat[adata_concat.obs.readout_id == library, :].copy()\n",
    "    print(library)\n",
    "    print(current_adata.obs['Condition'].unique()[0])\n",
    "    print(current_adata.obs['Gender'].unique()[0])\n",
    "    sc.pl.spatial(\n",
    "        current_adata,\n",
    "        img_key=\"hires\",\n",
    "        library_id=library,\n",
    "        color='fatty_accid_catabolic_process',\n",
    "        size=1.25,\n",
    "        cmap='coolwarm')\n",
    "\n",
    "    sc.pl.spatial(\n",
    "        current_adata,\n",
    "        img_key=\"hires\",\n",
    "        library_id=library,\n",
    "        color='fatty_accid_beta_oxidation',\n",
    "        size=1.25,\n",
    "        cmap='coolwarm')\n",
    "\n",
    "    sc.pl.spatial(\n",
    "        current_adata,\n",
    "        img_key=\"hires\",\n",
    "        library_id=library,\n",
    "        color='rhytmic_behavior',\n",
    "        size=1.25,\n",
    "        cmap='coolwarm')\n",
    "\n"
   ]
  },
  {
   "cell_type": "markdown",
   "id": "de8765df-7ead-419f-9b16-65d99f1989ad",
   "metadata": {},
   "source": [
    "And focusing on the leading edge genes? "
   ]
  },
  {
   "cell_type": "code",
   "execution_count": null,
   "id": "4a1021d2-28c4-43fb-b04e-04005233e680",
   "metadata": {},
   "outputs": [],
   "source": [
    "inpath='your_inpath_folder' # Replace with the location of your samples\n",
    "results_folder = os.path.join(root_path, 'analyzed', 'DE', 'DE_Results_14c')\n",
    "folder_path_gsea = os.path.join(inpath, results_folder, 'GSEA_results')  \n",
    "all_gsea_dfs = []  # To store all your dataframes\n",
    "\n",
    "for filename in os.listdir(folder_path_gsea):\n",
    "    if filename.endswith('.csv'):\n",
    "        file_path = os.path.join(folder_path_gsea, filename)\n",
    "        df = pd.read_csv(file_path)\n",
    "        # df.columns = ['TF', 'ActivityScore', 'Pvalue']\n",
    "        df['Condition'] = filename  \n",
    "        df['Condition'] = df['Condition'].str.replace('.csv', '', regex=False) \n",
    "        # df.set_index('TF', inplace=True)\n",
    "        all_gsea_dfs.append(df)"
   ]
  },
  {
   "cell_type": "code",
   "execution_count": null,
   "id": "a0c5732b-779b-484b-a778-103b9afded16",
   "metadata": {},
   "outputs": [],
   "source": [
    "combined_gsea_df = pd.concat(all_gsea_dfs, ignore_index=True)"
   ]
  },
  {
   "cell_type": "code",
   "execution_count": null,
   "id": "a63e0f5c-2341-4dc0-8d95-be1b5d7d620c",
   "metadata": {},
   "outputs": [],
   "source": [
    "GOBP_results_terms = combined_gsea_df[combined_gsea_df['Term.1'].str.startswith('GOBP_')]"
   ]
  },
  {
   "cell_type": "code",
   "execution_count": null,
   "id": "633c1da0-a102-4ac6-8bf4-284b75cff933",
   "metadata": {},
   "outputs": [],
   "source": [
    "GOBP_results_terms['Sex'] = GOBP_results_terms['Condition'].str.split('_', expand=True)[[0]]\n",
    "GOBP_results_terms['Treatment'] = GOBP_results_terms['Condition'].str.split('_', expand=True)[1]\n",
    "GOBP_results_terms['Region'] = GOBP_results_terms['Condition'].str.split('_', expand=True)[4]"
   ]
  },
  {
   "cell_type": "code",
   "execution_count": null,
   "id": "86d386d6-dfd2-42b7-8672-6c14f780b066",
   "metadata": {},
   "outputs": [],
   "source": [
    "GOBP_results_terms"
   ]
  },
  {
   "cell_type": "code",
   "execution_count": null,
   "id": "f6e3f550-2b1a-4524-87db-c93e71d3be84",
   "metadata": {},
   "outputs": [],
   "source": [
    "GOBP_results_terms[GOBP_results_terms['Term.1'] == 'GOBP_FATTY_ACID_CATABOLIC_PROCESS']"
   ]
  },
  {
   "cell_type": "code",
   "execution_count": null,
   "id": "235682aa-f801-44e4-819b-6c609deccad2",
   "metadata": {},
   "outputs": [],
   "source": [
    "GOBP_results_terms_male = GOBP_results_terms[GOBP_results_terms['Sex'] == 'Male']"
   ]
  },
  {
   "cell_type": "code",
   "execution_count": null,
   "id": "eedf60e0-3a32-4fef-9b4e-305af01b0a13",
   "metadata": {},
   "outputs": [],
   "source": [
    "all_conditions = GOBP_results_terms['Condition'].unique().tolist()\n",
    "all_terms = ['GOBP_FATTY_ACID_CATABOLIC_PROCESS', 'GOBP_FATTY_ACID_BETA_OXIDATION', 'GOBP_RHYTHMIC_BEHAVIOR']\n",
    "\n",
    "for current_condition in all_conditions:\n",
    "\n",
    "    print(\" \")\n",
    "    print(\"********************\")\n",
    "    print(current_condition)\n",
    "    GOBP_results_terms_condition = GOBP_results_terms[GOBP_results_terms['Condition'] == current_condition]\n",
    "\n",
    "    for current_term in all_terms: \n",
    "        print(current_term)\n",
    "        current_leading_genes_df = GOBP_results_terms_condition[GOBP_results_terms_condition['Term.1'] == current_term]\n",
    "\n",
    "        current_leading_genes = current_leading_genes_df['Leading edge'].str.cat(sep=',').split(';')\n",
    "        \n",
    "        print(current_leading_genes)\n",
    "        print(\"********************\")"
   ]
  },
  {
   "cell_type": "code",
   "execution_count": null,
   "id": "6afd414c-6881-400c-a2b2-200bbe355335",
   "metadata": {},
   "outputs": [],
   "source": [
    "# Initialize a dictionary to store common genes for each term\n",
    "common_genes_per_term = {}\n",
    "GOBP_results_myterms = GOBP_results_terms[GOBP_results_terms['Term.1'].isin(all_terms)]\n",
    "\n",
    "# Group by 'term' and find common genes\n",
    "for term, group in GOBP_results_myterms.groupby('Term.1'):\n",
    "    # Initialize common genes as the set of genes in the first row of the group\n",
    "    common_genes = set(group['Leading edge'].iloc[0].split(';'))\n",
    "    \n",
    "    # Iterate through the rows within the group\n",
    "    for genes in group['Leading edge']:\n",
    "        common_genes &= set(genes.split(';'))  # Intersection to find common genes\n",
    "    \n",
    "    # Store the result\n",
    "    common_genes_per_term[term] = list(common_genes)\n",
    "\n",
    "# Show the results\n",
    "for term, genes in common_genes_per_term.items():\n",
    "    print(f\"Common genes for term {term}: {genes}\")"
   ]
  },
  {
   "cell_type": "code",
   "execution_count": null,
   "id": "b02e36e3-7dd3-4935-ac35-d7a70afeaac5",
   "metadata": {},
   "outputs": [],
   "source": [
    "sc.tl.score_genes(adata_concat, gene_list= ['Eci2', 'Ech1'], score_name='Eci2_Ech1')\n",
    "sc.tl.score_genes(adata_concat, gene_list= ['Nr1d1', 'Nr1d2'], score_name='Nr1d1_Nr1d2')"
   ]
  },
  {
   "cell_type": "code",
   "execution_count": null,
   "id": "d9325474-4915-4624-a7dc-43fbe4a67fb0",
   "metadata": {},
   "outputs": [],
   "source": [
    "for i, library in enumerate(\n",
    "   adata_concat.obs[\"readout_id\"].unique().tolist()\n",
    "):\n",
    "    current_adata = adata_concat[adata_concat.obs.readout_id == library, :].copy()\n",
    "    print(library)\n",
    "    print(current_adata.obs['Condition'].unique()[0])\n",
    "    print(current_adata.obs['Gender'].unique()[0])\n",
    "    sc.pl.spatial(\n",
    "        current_adata,\n",
    "        img_key=\"hires\",\n",
    "        library_id=library,\n",
    "        color='Eci2_Ech1',\n",
    "        size=1.25,\n",
    "        cmap='coolwarm')\n",
    "\n",
    "    sc.pl.spatial(\n",
    "        current_adata,\n",
    "        img_key=\"hires\",\n",
    "        library_id=library,\n",
    "        color='Nr1d1_Nr1d2',\n",
    "        size=1.25,\n",
    "        cmap='coolwarm')"
   ]
  },
  {
   "cell_type": "code",
   "execution_count": null,
   "id": "ea6802fa-54b6-43fa-a36a-b2b45f1f66cb",
   "metadata": {},
   "outputs": [],
   "source": [
    "! jupyter nbconvert --to html 26_GSEA_SpatialVIsualizations.ipynb"
   ]
  },
  {
   "cell_type": "code",
   "execution_count": null,
   "id": "3098ea95-51d2-4557-af80-8e96a366e97e",
   "metadata": {},
   "outputs": [],
   "source": []
  }
 ],
 "metadata": {
  "kernelspec": {
   "display_name": "BeSpace_basic_env",
   "language": "python",
   "name": "bespace_basic_env"
  },
  "language_info": {
   "codemirror_mode": {
    "name": "ipython",
    "version": 3
   },
   "file_extension": ".py",
   "mimetype": "text/x-python",
   "name": "python",
   "nbconvert_exporter": "python",
   "pygments_lexer": "ipython3",
   "version": "3.9.18"
  }
 },
 "nbformat": 4,
 "nbformat_minor": 5
}
