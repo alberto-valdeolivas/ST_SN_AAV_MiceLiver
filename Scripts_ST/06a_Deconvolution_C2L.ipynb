{
 "cells": [
  {
   "cell_type": "code",
   "execution_count": null,
   "id": "c86a6458-e0f1-4a41-8d23-7ee580586b20",
   "metadata": {},
   "outputs": [],
   "source": [
    "import sys\n",
    "import os\n",
    "import scanpy as sc\n",
    "import anndata\n",
    "import pandas as pd\n",
    "import numpy as np\n",
    "import matplotlib.pyplot as plt\n",
    "import matplotlib as mpl\n",
    "\n",
    "import cell2location\n",
    "import scvi\n",
    "\n",
    "from matplotlib import rcParams\n",
    "rcParams['pdf.fonttype'] = 42 # enables correct plotting of text for PDFs"
   ]
  },
  {
   "cell_type": "code",
   "execution_count": null,
   "id": "4efd9d31-c243-428d-97e1-7604a5482fe5",
   "metadata": {
    "tags": []
   },
   "outputs": [],
   "source": [
    "root_path = os.getcwd()"
   ]
  },
  {
   "cell_type": "code",
   "execution_count": null,
   "id": "190f9df5-5949-47e0-957a-67c92c22efe9",
   "metadata": {},
   "outputs": [],
   "source": [
    "results_folder = os.path.join(root_path, 'deconvolution')\n",
    "ref_run_name =  os.path.join(results_folder, 'reference_signatures') \n",
    "run_name = os.path.join(results_folder, 'cell2location_map')  "
   ]
  },
  {
   "cell_type": "code",
   "execution_count": null,
   "id": "6d00cfc1-266f-45a7-b68f-4a68f76ed847",
   "metadata": {},
   "outputs": [],
   "source": [
    "## check if folder exists and create it otherwise\n",
    "if not os.path.exists(ref_run_name):\n",
    "    os.makedirs(ref_run_name)\n",
    "    print(f\"Folder '{ref_run_name}' created.\")\n",
    "else:\n",
    "    print(f\"Folder '{ref_run_name}' already exists.\")"
   ]
  },
  {
   "cell_type": "code",
   "execution_count": null,
   "id": "2c999e32-a325-4d37-917a-bf9dadc1ab07",
   "metadata": {},
   "outputs": [],
   "source": [
    "## check if folder exists and create it otherwise\n",
    "if not os.path.exists(run_name):\n",
    "    os.makedirs(run_name)\n",
    "    print(f\"Folder '{run_name}' created.\")\n",
    "else:\n",
    "    print(f\"Folder '{run_name}' already exists.\")"
   ]
  },
  {
   "cell_type": "markdown",
   "id": "1b9daef5-2512-424b-a084-7d8ced855e77",
   "metadata": {},
   "source": [
    "## Loading Single Cell Reference"
   ]
  },
  {
   "cell_type": "code",
   "execution_count": null,
   "id": "4947af1e-ea00-421b-bcd1-ad9474191d79",
   "metadata": {
    "tags": []
   },
   "outputs": [],
   "source": [
    "adata_ref_obs = sc.read_h5ad('/sw_besca2_cellbender.annotated.h5ad')"
   ]
  },
  {
   "cell_type": "code",
   "execution_count": null,
   "id": "142c46aa-b623-4f4a-bfd7-6968bb139771",
   "metadata": {},
   "outputs": [],
   "source": [
    "adata_ref_obs.obs['celltype_merged'].unique().tolist()"
   ]
  },
  {
   "cell_type": "code",
   "execution_count": null,
   "id": "5b005654-be08-4311-a77e-ea309459b07b",
   "metadata": {},
   "outputs": [],
   "source": [
    "print(adata_ref_obs.raw.X)"
   ]
  },
  {
   "cell_type": "markdown",
   "id": "95f9fbec-5848-4817-8a2b-f022cd7b8e5f",
   "metadata": {},
   "source": [
    "For the deconvolution purposes, we are going to exclude B T cell doublets and mixed cells. "
   ]
  },
  {
   "cell_type": "code",
   "execution_count": null,
   "id": "c4d154ce-435e-43c6-ab4f-87067b36f32c",
   "metadata": {
    "tags": []
   },
   "outputs": [],
   "source": [
    "exclude_celltypes = ['B T cell doublet', 'mixed']\n",
    "mask = ~adata_ref_obs.obs['celltype_merged'].isin(exclude_celltypes)\n",
    "filtered_adata_ref_obs =  adata_ref_obs[mask]"
   ]
  },
  {
   "cell_type": "code",
   "execution_count": null,
   "id": "bc483e96-ca27-42d0-b3d1-fc3d4679a479",
   "metadata": {
    "tags": []
   },
   "outputs": [],
   "source": [
    "filtered_adata_ref_obs.obs['celltype_merged'].unique().tolist()"
   ]
  },
  {
   "cell_type": "markdown",
   "id": "d2fea88c-4896-4758-b46f-ca51a355006b",
   "metadata": {},
   "source": [
    "We do not have the raw counts here, so we need to read the .mtx matrix and then match with the information provided in this object about Dblabel4"
   ]
  },
  {
   "cell_type": "code",
   "execution_count": null,
   "id": "da379841-761e-4e1e-8de3-a6223ca8c395",
   "metadata": {},
   "outputs": [],
   "source": [
    "# Paths to the files\n",
    "path_raw = '/raw/' #replace with path to raw snRNA-seq data\n",
    "adata_raw = sc.read_mtx(path_raw + 'matrix.mtx').T\n",
    "adata_raw.obs_names = pd.read_csv(path_raw + 'barcodes.tsv', header=None, sep='\\t')[0]\n",
    "adata_raw.var_names = pd.read_csv(path_raw + 'genes.tsv', header=None, sep='\\t')[1]"
   ]
  },
  {
   "cell_type": "code",
   "execution_count": null,
   "id": "ebdf4f6b-d4e7-4b79-b7ba-2d0e1a21e7ae",
   "metadata": {},
   "outputs": [],
   "source": [
    "adata_raw.obs_names_make_unique()\n",
    "adata_raw.var_names_make_unique()"
   ]
  },
  {
   "cell_type": "code",
   "execution_count": null,
   "id": "6a3b98ed-86c1-4843-a1f4-ca17df8c20a9",
   "metadata": {},
   "outputs": [],
   "source": [
    "combined_obs = adata_raw.obs.join(filtered_adata_ref_obs.obs, how='inner')\n",
    "indices_to_keep = combined_obs.index"
   ]
  },
  {
   "cell_type": "code",
   "execution_count": null,
   "id": "fd82ac62-9821-44a0-84a9-3d55c5c611ad",
   "metadata": {},
   "outputs": [],
   "source": [
    "adata_ref = adata_raw[indices_to_keep]"
   ]
  },
  {
   "cell_type": "code",
   "execution_count": null,
   "id": "e76c2071-be3b-492f-bcc7-50442eb23147",
   "metadata": {},
   "outputs": [],
   "source": [
    "adata_ref.obs = combined_obs"
   ]
  },
  {
   "cell_type": "code",
   "execution_count": null,
   "id": "f6b3a6db-457c-4418-8bb8-d0265e419f6f",
   "metadata": {
    "tags": []
   },
   "outputs": [],
   "source": [
    "adata_ref.obs['celltype_merged'].unique().tolist()"
   ]
  },
  {
   "cell_type": "code",
   "execution_count": null,
   "id": "66a20560-121a-484b-9115-8d228773b4fd",
   "metadata": {},
   "outputs": [],
   "source": [
    "# We clean the variables that we are not longer using \n",
    "del adata_raw\n",
    "del combined_obs\n",
    "del filtered_adata_ref_obs\n",
    "# del adata_ref_obs"
   ]
  },
  {
   "cell_type": "code",
   "execution_count": null,
   "id": "8a34ee03-4405-40bd-af29-8e8c878924f9",
   "metadata": {},
   "outputs": [],
   "source": [
    "from cell2location.utils.filtering import filter_genes\n",
    "selected = filter_genes(adata_ref, cell_count_cutoff=25, cell_percentage_cutoff2=0.1, nonz_mean_cutoff=1.25)\n",
    "\n",
    "# filter the object\n",
    "adata_ref = adata_ref[:, selected].copy()"
   ]
  },
  {
   "cell_type": "code",
   "execution_count": null,
   "id": "85aa3e7a-2644-40a3-a768-ae1f5f33db1e",
   "metadata": {},
   "outputs": [],
   "source": [
    "# prepare anndata for the regression model\n",
    "cell2location.models.RegressionModel.setup_anndata(adata=adata_ref,\n",
    "                        # 10X reaction / sample / batch\n",
    "                        # batch_key='cell_processing_protocol',\n",
    "                        # cell type, covariate used for constructing signatures\n",
    "                        labels_key='celltype_merged',\n",
    "                        # multiplicative technical effects (platform, 3' vs 5', donor effect)\n",
    "                        categorical_covariate_keys=['sex']\n",
    "                       )"
   ]
  },
  {
   "cell_type": "code",
   "execution_count": null,
   "id": "4a3dfbec-c95a-40a7-befa-f726337e86f3",
   "metadata": {},
   "outputs": [],
   "source": [
    "# create the regression model\n",
    "from cell2location.models import RegressionModel\n",
    "mod = RegressionModel(adata_ref)\n",
    "\n",
    "# view anndata_setup as a sanity check\n",
    "mod.view_anndata_setup()"
   ]
  },
  {
   "cell_type": "code",
   "execution_count": null,
   "id": "907359f9-1ecc-4bb6-ba33-01ee81bfa362",
   "metadata": {},
   "outputs": [],
   "source": [
    "mod.train(max_epochs=400, accelerator='cuda')"
   ]
  },
  {
   "cell_type": "code",
   "execution_count": null,
   "id": "62cf4949-6f52-4174-921a-0902ac8ac631",
   "metadata": {},
   "outputs": [],
   "source": [
    "mod.plot_history(20)"
   ]
  },
  {
   "cell_type": "code",
   "execution_count": null,
   "id": "b9629350-6b2f-433a-be48-6fe93204379d",
   "metadata": {
    "tags": []
   },
   "outputs": [],
   "source": [
    "# In this section, we export the estimated cell abundance (summary of the posterior distribution).\n",
    "adata_ref = mod.export_posterior(\n",
    "    adata_ref, sample_kwargs={'num_samples': 1000, 'batch_size': 2500, 'use_gpu': True}\n",
    ")\n",
    "\n",
    "# Save model\n",
    "mod.save(f\"{ref_run_name}\", overwrite=True)\n",
    "\n",
    "# Save anndata object with results\n",
    "adata_file = f\"{ref_run_name}/sc.h5ad\"\n",
    "adata_ref.write(adata_file)\n",
    "adata_file"
   ]
  },
  {
   "cell_type": "code",
   "execution_count": null,
   "id": "c449a0ba-1599-46ab-9a4b-6a2945afcb54",
   "metadata": {
    "tags": []
   },
   "outputs": [],
   "source": [
    "adata_ref = mod.export_posterior(\n",
    "    adata_ref, use_quantiles=False,\n",
    "    sample_kwargs={'batch_size': 2500, 'use_gpu': True}\n",
    ")"
   ]
  },
  {
   "cell_type": "code",
   "execution_count": null,
   "id": "d77753d7-e016-462b-a488-1359958a114d",
   "metadata": {
    "tags": []
   },
   "outputs": [],
   "source": [
    "mod.plot_QC()"
   ]
  },
  {
   "cell_type": "code",
   "execution_count": null,
   "id": "b04a849c-c1a0-445f-a4e9-fb9bc1631daf",
   "metadata": {},
   "outputs": [],
   "source": [
    "# adata_file = f\"{ref_run_name}/sc.h5ad\"\n",
    "# adata_ref = sc.read_h5ad(adata_file)\n",
    "# d = cell2location.models.RegressionModel.load(f\"{ref_run_name}\", adata_ref)"
   ]
  },
  {
   "cell_type": "code",
   "execution_count": null,
   "id": "d921b28b-f90e-43d2-b662-6b46d5c03bb4",
   "metadata": {
    "tags": []
   },
   "outputs": [],
   "source": [
    "# export estimated expression in each cluster\n",
    "if 'means_per_cluster_mu_fg' in adata_ref.varm.keys():\n",
    "    inf_aver = adata_ref.varm['means_per_cluster_mu_fg'][[f'means_per_cluster_mu_fg_{i}'\n",
    "                                    for i in adata_ref.uns['mod']['factor_names']]].copy()\n",
    "else:\n",
    "    inf_aver = adata_ref.var[[f'means_per_cluster_mu_fg_{i}'\n",
    "                                    for i in adata_ref.uns['mod']['factor_names']]].copy()\n",
    "inf_aver.columns = adata_ref.uns['mod']['factor_names']\n",
    "inf_aver.iloc[0:5, 0:5]"
   ]
  },
  {
   "cell_type": "markdown",
   "id": "a55be384-2cef-425d-8550-c9234ad14841",
   "metadata": {},
   "source": [
    "## Loading 10x VISIUM data"
   ]
  },
  {
   "cell_type": "code",
   "execution_count": null,
   "id": "996ee646-d540-459c-973e-e58a7c505e86",
   "metadata": {
    "tags": []
   },
   "outputs": [],
   "source": [
    "root_path = os.getcwd()\n",
    "adata_folder = os.path.join(root_path)"
   ]
  },
  {
   "cell_type": "code",
   "execution_count": null,
   "id": "c62cb2b6-616a-4458-b266-1da062e72fe3",
   "metadata": {
    "tags": []
   },
   "outputs": [],
   "source": [
    "file_names = [f for f in os.listdir(os.path.join(adata_folder, 'analyzed')) if os.path.isfile(os.path.join(adata_folder,'analyzed',f))]\n",
    "\n",
    "adata_list = [anndata.read_h5ad(os.path.join(adata_folder, 'analyzed', file)) for file in file_names if file.endswith('.h5ad')]"
   ]
  },
  {
   "cell_type": "code",
   "execution_count": null,
   "id": "374e2cd7-6789-4774-9008-05e79dc28550",
   "metadata": {
    "tags": []
   },
   "outputs": [],
   "source": [
    "# Combine anndata objects together\n",
    "adata_concat = sc.concat(\n",
    "    adata_list,\n",
    "    label=\"library_id\",\n",
    "    uns_merge=\"unique\",\n",
    "    keys=[\n",
    "        k\n",
    "        for d in [adata.uns[\"spatial\"] for adata in adata_list]\n",
    "        for k, v in d.items()\n",
    "    ],\n",
    "    index_unique=\"-\",\n",
    "    join='outer',\n",
    ")"
   ]
  },
  {
   "cell_type": "markdown",
   "id": "3f8c35d6-9450-4d8f-bde5-f80eb593b9e9",
   "metadata": {},
   "source": [
    "We remove mito genes"
   ]
  },
  {
   "cell_type": "code",
   "execution_count": null,
   "id": "02701ee0-e956-45be-8568-a02051bed034",
   "metadata": {
    "tags": []
   },
   "outputs": [],
   "source": [
    "adata_concat.var['SYMBOL'] = adata_concat.var.index"
   ]
  },
  {
   "cell_type": "code",
   "execution_count": null,
   "id": "a5bb12ed-95d8-4b3a-9e4d-05ac95c2a473",
   "metadata": {
    "tags": []
   },
   "outputs": [],
   "source": [
    "adata_concat.var"
   ]
  },
  {
   "cell_type": "code",
   "execution_count": null,
   "id": "11af1b1a-95c4-4f5a-a16e-be47b4bc773c",
   "metadata": {
    "tags": []
   },
   "outputs": [],
   "source": [
    "# find mitochondria-encoded (MT) genes\n",
    "adata_concat.var['MT_gene'] = [gene.startswith('mt-') for gene in adata_concat.var['SYMBOL']]\n",
    "\n",
    "# remove MT genes for spatial mapping (keeping their counts in the object)\n",
    "adata_concat.obsm['MT'] = adata_concat[:, adata_concat.var['MT_gene'].values].X.toarray()\n",
    "adata_concat = adata_concat[:, ~adata_concat.var['MT_gene'].values]"
   ]
  },
  {
   "cell_type": "markdown",
   "id": "23cda09a-104c-4749-8745-ec7ed61e2d42",
   "metadata": {},
   "source": [
    "## Cell2location: spatial mapping"
   ]
  },
  {
   "cell_type": "code",
   "execution_count": null,
   "id": "cc57bdc0-a5e6-46d8-b544-2d41da710557",
   "metadata": {
    "tags": []
   },
   "outputs": [],
   "source": [
    "# find shared genes and subset both anndata and reference signatures\n",
    "intersect = np.intersect1d(adata_concat.var_names, inf_aver.index)\n",
    "adata_concat = adata_concat[:, intersect].copy()\n",
    "inf_aver = inf_aver.loc[intersect, :].copy()\n",
    "\n",
    "# prepare anndata for cell2location model\n",
    "cell2location.models.Cell2location.setup_anndata(adata=adata_concat, batch_key=\"Batch_ID\", labels_key  = 'Gender')"
   ]
  },
  {
   "cell_type": "code",
   "execution_count": null,
   "id": "24ba810a-3f25-4da7-9adf-5ffd6ac90e02",
   "metadata": {
    "tags": []
   },
   "outputs": [],
   "source": [
    "# create and train the model\n",
    "mod = cell2location.models.Cell2location(\n",
    "    adata_concat, cell_state_df=inf_aver,\n",
    "    # the expected average cell abundance: tissue-dependent\n",
    "    # hyper-prior which can be estimated from paired histology:\n",
    "    N_cells_per_location=10,\n",
    "    # hyperparameter controlling normalisation of\n",
    "    # within-experiment variation in RNA detection:\n",
    "    detection_alpha=100)\n",
    "\n",
    "mod.view_anndata_setup()"
   ]
  },
  {
   "cell_type": "code",
   "execution_count": null,
   "id": "20a3f51b-0ebc-4aa1-b9c3-70ee750d8af9",
   "metadata": {
    "tags": []
   },
   "outputs": [],
   "source": [
    "mod.train(max_epochs=50000,\n",
    "          # train using full data (batch_size=None)\n",
    "          batch_size=None,\n",
    "          # use all data points in training because\n",
    "          # we need to estimate cell abundance at all locations\n",
    "          train_size=1,\n",
    "          use_gpu=True,\n",
    "         )\n",
    "\n",
    "# plot ELBO loss history during training, removing first 100 epochs from the plot\n",
    "mod.plot_history(1000)\n",
    "plt.legend(labels=['full data training']);"
   ]
  },
  {
   "cell_type": "code",
   "execution_count": null,
   "id": "98c8bd1e-a96b-4c50-a299-1009b14149b7",
   "metadata": {
    "tags": []
   },
   "outputs": [],
   "source": [
    "# In this section, we export the estimated cell abundance (summary of the posterior distribution).\n",
    "adata_concat = mod.export_posterior(\n",
    "    adata_concat, sample_kwargs={'num_samples': 1000, 'batch_size': mod.adata.n_obs, 'use_gpu': True}\n",
    ")\n",
    "\n",
    "# Save model\n",
    "mod.save(f\"{run_name}\", overwrite=True)\n",
    "\n",
    "# mod = cell2location.models.Cell2location.load(f\"{run_name}\", adata_vis)\n",
    "\n",
    "# Save anndata object with results\n",
    "adata_file = f\"{run_name}/sp.h5ad\"\n",
    "adata_concat.write(adata_file)\n",
    "adata_file"
   ]
  },
  {
   "cell_type": "code",
   "execution_count": null,
   "id": "11f029f8-35ee-403e-93e3-bc69c5c42028",
   "metadata": {
    "tags": []
   },
   "outputs": [],
   "source": [
    "# adata_file = f\"{run_name}/sp.h5ad\"\n",
    "# adata_vis = sc.read_h5ad(adata_file)\n",
    "# mod = cell2location.models.Cell2location.load(f\"{run_name}\", adata_vis)"
   ]
  },
  {
   "cell_type": "code",
   "execution_count": null,
   "id": "6fd32079-d0eb-450f-befe-7f133a8280d0",
   "metadata": {
    "tags": []
   },
   "outputs": [],
   "source": [
    "mod.plot_QC()"
   ]
  },
  {
   "cell_type": "code",
   "execution_count": null,
   "id": "e44e352a-1e41-4dd6-88ef-41ed78b7b1c2",
   "metadata": {
    "tags": []
   },
   "outputs": [],
   "source": [
    "# fig = mod.plot_spatial_QC_across_batches()"
   ]
  },
  {
   "cell_type": "code",
   "execution_count": null,
   "id": "8b617d4d-e04a-4581-950a-f13f95413c1d",
   "metadata": {
    "tags": []
   },
   "outputs": [],
   "source": [
    "adata_concat.obs"
   ]
  },
  {
   "cell_type": "code",
   "execution_count": null,
   "id": "6e52ad91-5aef-44a7-8fc3-54d09cd0cf04",
   "metadata": {
    "tags": []
   },
   "outputs": [],
   "source": [
    "# add 5% quantile, representing confident cell abundance, 'at least this amount is present',\n",
    "# to adata.obs with nice names for plotting\n",
    "adata_concat.obs[adata_concat.uns['mod']['factor_names']] = adata_concat.obsm['q05_cell_abundance_w_sf']\n",
    "\n",
    "# plot in spatial coordinates\n",
    "for i, library in enumerate(\n",
    "   adata_concat.obs[\"Sample_ID\"].unique().tolist()\n",
    "):\n",
    "    with mpl.rc_context({'axes.facecolor':  'black',\n",
    "                     'figure.figsize': [4.5, 5]}):\n",
    "    \n",
    "        ad = adata_concat[adata_concat.obs.library_id == library, :].copy()\n",
    "        print(library)\n",
    "        sc.pl.spatial(ad, cmap='magma',\n",
    "                  # show first 8 cell types\n",
    "                  color=adata_concat.uns['mod']['factor_names'],\n",
    "                  ncols=4, size=1.3,\n",
    "                  img_key='hires',\n",
    "                  # limit color scale at 99.2% quantile of cell abundance\n",
    "                  vmin=0, vmax='p99.2',\n",
    "                  library_id=library\n",
    "                 )"
   ]
  },
  {
   "cell_type": "code",
   "execution_count": null,
   "id": "c5ec4464-ab0a-4883-9557-1857f6755b06",
   "metadata": {
    "tags": []
   },
   "outputs": [],
   "source": [
    "# Now we use cell2location plotter that allows showing multiple cell types in one panel\n",
    "from cell2location.plt import plot_spatial\n",
    "from cell2location.utils import select_slide\n",
    "\n",
    "# select up to 6 clusters\n",
    "clust_labels = ['periportal hepatocyte', 'pericentral hepatocyte']\n",
    "clust_col = ['' + str(i) for i in clust_labels] # in case column names differ from labels\n",
    "\n",
    "# plot in spatial coordinates\n",
    "for i, library in enumerate(\n",
    "   adata_concat.obs[\"Sample_ID\"].unique().tolist()\n",
    "):\n",
    "\n",
    "    slide = select_slide(adata_concat, library, batch_key='Sample_ID')\n",
    "\n",
    "    with mpl.rc_context({'figure.figsize': (15, 15)}):\n",
    "        fig = plot_spatial(\n",
    "            adata=slide,\n",
    "            # labels to show on a plot\n",
    "            color=clust_col, labels = clust_labels,\n",
    "            show_img=True,\n",
    "            # 'fast' (white background) or 'dark_background'\n",
    "            style='fast',\n",
    "            # size of locations (adjust depending on figure size)\n",
    "            circle_diameter=6,\n",
    "            colorbar_position='bottom', max_color_quantile=0.97)"
   ]
  },
  {
   "cell_type": "code",
   "execution_count": null,
   "id": "2e217a48-9d26-4eb1-b60e-cc8bde19416b",
   "metadata": {
    "tags": []
   },
   "outputs": [],
   "source": [
    "# select up to 6 clusters\n",
    "clust_labels = ['periportal LSEC', 'pericentral LSEC', 'midzonal LSEC']\n",
    "clust_col = ['' + str(i) for i in clust_labels] # in case column names differ from labels\n",
    "\n",
    "# plot in spatial coordinates\n",
    "for i, library in enumerate(\n",
    "   adata_concat.obs[\"Sample_ID\"].unique().tolist()\n",
    "):\n",
    "\n",
    "    slide = select_slide(adata_concat, library, batch_key='Sample_ID')\n",
    "\n",
    "    with mpl.rc_context({'figure.figsize': (15, 15)}):\n",
    "        fig = plot_spatial(\n",
    "            adata=slide,\n",
    "            # labels to show on a plot\n",
    "            color=clust_col, labels = clust_labels,\n",
    "            show_img=True,\n",
    "            # 'fast' (white background) or 'dark_background'\n",
    "            style='fast',\n",
    "            # size of locations (adjust depending on figure size)\n",
    "            circle_diameter=6,\n",
    "            colorbar_position='right', max_color_quantile=0.97)"
   ]
  },
  {
   "cell_type": "code",
   "execution_count": null,
   "id": "460e92a7-65f2-4e30-8f9d-38d98550d264",
   "metadata": {
    "tags": []
   },
   "outputs": [],
   "source": [
    "! jupyter nbconvert --to html 21_Deconvolution_C2L.ipynb"
   ]
  },
  {
   "cell_type": "code",
   "execution_count": null,
   "id": "43081919-c3c9-4d1b-bb20-2dcdb20961be",
   "metadata": {},
   "outputs": [],
   "source": []
  }
 ],
 "metadata": {
  "kernelspec": {
   "display_name": "cell2loc_test",
   "language": "python",
   "name": "cell2loc_test"
  },
  "language_info": {
   "codemirror_mode": {
    "name": "ipython",
    "version": 3
   },
   "file_extension": ".py",
   "mimetype": "text/x-python",
   "name": "python",
   "nbconvert_exporter": "python",
   "pygments_lexer": "ipython3",
   "version": "3.9.18"
  }
 },
 "nbformat": 4,
 "nbformat_minor": 5
}
