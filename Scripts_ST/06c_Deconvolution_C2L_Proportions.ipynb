{
 "cells": [
  {
   "cell_type": "code",
   "execution_count": null,
   "id": "541afb77-a194-4e58-8a24-7f60007aab19",
   "metadata": {},
   "outputs": [],
   "source": [
    "import sys\n",
    "import os\n",
    "import scanpy as sc\n",
    "import anndata as ad\n",
    "import pandas as pd\n",
    "import numpy as np\n",
    "import matplotlib.pyplot as plt\n",
    "import matplotlib as mpl\n",
    "\n",
    "# import cell2location\n",
    "# import scvi\n",
    "\n",
    "from matplotlib import rcParams\n",
    "rcParams['pdf.fonttype'] = 42 # enables correct plotting of text for PDFs"
   ]
  },
  {
   "cell_type": "code",
   "execution_count": null,
   "id": "f023af3e-dc88-472a-ab23-3d9d3d0e62e1",
   "metadata": {
    "tags": []
   },
   "outputs": [],
   "source": [
    "root_path = os.getcwd()"
   ]
  },
  {
   "cell_type": "code",
   "execution_count": null,
   "id": "54f38548-e0e6-403b-9b0a-3efc190f9de7",
   "metadata": {
    "tags": []
   },
   "outputs": [],
   "source": [
    "results_folder = os.path.join(root_path, 'deconvolution')\n",
    "ref_run_name =  os.path.join(results_folder, 'reference_signatures') \n",
    "run_name = os.path.join(results_folder, 'cell2location_map')  "
   ]
  },
  {
   "cell_type": "code",
   "execution_count": null,
   "id": "87683131-6847-4881-b76d-bc2e8770b01d",
   "metadata": {
    "tags": []
   },
   "outputs": [],
   "source": [
    "adata_file = f\"{run_name}/sp.h5ad\"\n",
    "adata_vis = sc.read_h5ad(adata_file)\n",
    "# mod = cell2location.models.Cell2location.load(f\"{run_name}\", adata_vis)"
   ]
  },
  {
   "cell_type": "code",
   "execution_count": null,
   "id": "2383f57e-08f0-4c79-8a3a-f4f737abc7a3",
   "metadata": {
    "tags": []
   },
   "outputs": [],
   "source": [
    "df_cellabundance = adata_vis.obsm['q05_cell_abundance_w_sf'].copy()"
   ]
  },
  {
   "cell_type": "code",
   "execution_count": null,
   "id": "87afcded-dce1-4e39-9291-2a830cff6e82",
   "metadata": {
    "tags": []
   },
   "outputs": [],
   "source": [
    "adata_vis.uns['mod']['factor_names']"
   ]
  },
  {
   "cell_type": "code",
   "execution_count": null,
   "id": "904d05ad-4c4c-4aa4-9065-002541a11688",
   "metadata": {
    "tags": []
   },
   "outputs": [],
   "source": [
    "df_cellabundance.columns =  adata_vis.uns['mod']['factor_names']"
   ]
  },
  {
   "cell_type": "code",
   "execution_count": null,
   "id": "d7a7e5bc-64f9-4bfd-bed0-32992ae29428",
   "metadata": {
    "tags": []
   },
   "outputs": [],
   "source": [
    "df_cellabundance['Total_abundance_spot'] = df_cellabundance.sum(axis=1)"
   ]
  },
  {
   "cell_type": "code",
   "execution_count": null,
   "id": "bb78666f-fdae-45a6-b85d-74071744e3a8",
   "metadata": {
    "tags": []
   },
   "outputs": [],
   "source": [
    "df_merged  = pd.merge(adata_vis.obs, df_cellabundance,  left_index=True, right_index=True)"
   ]
  },
  {
   "cell_type": "code",
   "execution_count": null,
   "id": "04bf3257-c2b7-4201-957f-900e52250c1e",
   "metadata": {
    "tags": []
   },
   "outputs": [],
   "source": [
    "df_merged"
   ]
  },
  {
   "cell_type": "markdown",
   "id": "7328b111-252b-4ef6-9030-335650edfa0d",
   "metadata": {},
   "source": [
    "I need to add the zonation information "
   ]
  },
  {
   "cell_type": "code",
   "execution_count": null,
   "id": "6599d63d-611c-4677-919a-b618177e6d28",
   "metadata": {
    "tags": []
   },
   "outputs": [],
   "source": [
    "results_zonation_folder = os.path.join(root_path, 'analyzed', 'zonation')\n",
    "file_names = [f for f in os.listdir(results_zonation_folder) if os.path.isfile(os.path.join(results_zonation_folder, f))]\n",
    "\n",
    "adata_list = [ad.read(os.path.join(results_zonation_folder, file)) for file in file_names if file.endswith('.h5ad')]"
   ]
  },
  {
   "cell_type": "code",
   "execution_count": null,
   "id": "a4d35237-39e7-4b09-82cf-d2b21a78aa3d",
   "metadata": {
    "tags": []
   },
   "outputs": [],
   "source": [
    "# Combine anndata objects together\n",
    "adata_concat = sc.concat(\n",
    "    adata_list,\n",
    "    label=\"library_id\",\n",
    "    uns_merge=\"unique\",\n",
    "    keys=[\n",
    "        k\n",
    "        for d in [adata.uns[\"spatial\"] for adata in adata_list]\n",
    "        for k, v in d.items()\n",
    "    ],\n",
    "    index_unique=\"-\",\n",
    "    join='outer',\n",
    ")"
   ]
  },
  {
   "cell_type": "code",
   "execution_count": null,
   "id": "7cc214c1-0267-452c-97bc-b61b68341cf3",
   "metadata": {
    "tags": []
   },
   "outputs": [],
   "source": [
    "df_merged_zonation = pd.merge(df_merged, pd.DataFrame(adata_concat.obs['zonation']),  left_index=True, right_index=True)"
   ]
  },
  {
   "cell_type": "code",
   "execution_count": null,
   "id": "a36b05d5-9227-40b3-a1fa-9b921103471f",
   "metadata": {
    "tags": []
   },
   "outputs": [],
   "source": [
    "df_merged_zonation"
   ]
  },
  {
   "cell_type": "code",
   "execution_count": null,
   "id": "069741cd-72f8-4fc8-9625-0fcd4f9253ee",
   "metadata": {
    "tags": []
   },
   "outputs": [],
   "source": [
    "df_merged_zonation['all_conditions'] = df_merged_zonation['Gender'].astype(str) + '-' + df_merged_zonation['zonation'].astype(str) + '-' + df_merged_zonation['Condition'].astype(str)\n",
    "df_merged_zonation['sex_treatment'] = df_merged_zonation['Gender'].astype(str) + '-'  + df_merged_zonation['Condition'].astype(str)\n",
    "df_merged_zonation['sex_zonation'] = df_merged_zonation['Gender'].astype(str) + '-'  + df_merged_zonation['zonation'].astype(str)\n",
    "df_merged_zonation['zonation_treatment'] = df_merged_zonation['zonation'].astype(str) + '-'  + df_merged_zonation['Condition'].astype(str)"
   ]
  },
  {
   "cell_type": "markdown",
   "id": "80bd6f44-817e-4710-8836-5447b6c3ff12",
   "metadata": {},
   "source": [
    "# A very first look to all the cell type abundances per condition (absolute values)"
   ]
  },
  {
   "cell_type": "code",
   "execution_count": null,
   "id": "83075445-324c-40de-bddb-62c7a56fc526",
   "metadata": {
    "tags": []
   },
   "outputs": [],
   "source": [
    "# EDA: Plotting the distribution of a cell type across conditions\n",
    "import seaborn as sns\n",
    "\n",
    "for current_celltype in adata_vis.uns['mod']['factor_names']: \n",
    "    sns.boxplot(x='all_conditions', y=current_celltype, data=df_merged_zonation, showfliers=False)\n",
    "    plt.xticks(rotation=90)\n",
    "    plt.show()"
   ]
  },
  {
   "cell_type": "code",
   "execution_count": null,
   "id": "e40a4780-fb6d-49db-97cf-acd972513db6",
   "metadata": {
    "tags": []
   },
   "outputs": [],
   "source": [
    "for current_celltype in adata_vis.uns['mod']['factor_names']: \n",
    "    sns.boxplot(x='Gender', y=current_celltype, data=df_merged_zonation, showfliers=False)\n",
    "    plt.xticks(rotation=90)\n",
    "    plt.show()"
   ]
  },
  {
   "cell_type": "markdown",
   "id": "11c38db6-a1eb-4500-87ef-d7ad0e319d4d",
   "metadata": {},
   "source": [
    "There is a clear unbalance showing much more predicted cells per spot for females than for males. May this be coming from the original number of UMIs/genes per sex?"
   ]
  },
  {
   "cell_type": "code",
   "execution_count": null,
   "id": "57ee161a-330a-4bc9-82fd-c831bf3dd11c",
   "metadata": {
    "tags": []
   },
   "outputs": [],
   "source": [
    "sns.boxplot(x='Gender', y='Total_abundance_spot' , data=df_merged_zonation, showfliers=False)\n",
    "plt.xticks(rotation=90)\n",
    "plt.show()"
   ]
  },
  {
   "cell_type": "code",
   "execution_count": null,
   "id": "413cdc51-52f5-4aec-a38c-6b29e2bb97b4",
   "metadata": {
    "tags": []
   },
   "outputs": [],
   "source": [
    "sns.boxplot(x='Gender', y='total_counts', data=df_merged_zonation, showfliers=False)\n",
    "plt.xticks(rotation=90)\n",
    "plt.show()"
   ]
  },
  {
   "cell_type": "code",
   "execution_count": null,
   "id": "da44f92f-7473-40e8-82b3-874b13576ace",
   "metadata": {
    "tags": []
   },
   "outputs": [],
   "source": [
    "sns.boxplot(x='Gender', y='n_genes_by_counts', data=df_merged_zonation, showfliers=False)\n",
    "plt.xticks(rotation=90)\n",
    "plt.show()"
   ]
  },
  {
   "cell_type": "markdown",
   "id": "8ffab0aa-e747-4c8e-a3ec-f5cd719a0d1b",
   "metadata": {
    "tags": []
   },
   "source": [
    "The number of genes and counts per sex is quite similar. Therefore, this does not seem to be the cause. Unbalance numbers in the sc reference used for deconvolution? We need to work clearly with proportions. "
   ]
  },
  {
   "cell_type": "markdown",
   "id": "c4cc2b24-6fe9-46ca-9ad3-b0e54146fda1",
   "metadata": {},
   "source": [
    "## Working with proportions per spot"
   ]
  },
  {
   "cell_type": "code",
   "execution_count": null,
   "id": "9892f2d0-e4e0-413b-8dc7-03d2d713c40f",
   "metadata": {
    "tags": []
   },
   "outputs": [],
   "source": [
    "adata_vis.obsm['q05_cell_abundance_w_sf']"
   ]
  },
  {
   "cell_type": "code",
   "execution_count": null,
   "id": "dd47a96c-fb81-4c46-bf59-b443cce8503b",
   "metadata": {
    "tags": []
   },
   "outputs": [],
   "source": [
    "row_sums = adata_vis.obsm['q05_cell_abundance_w_sf'].sum(axis=1)"
   ]
  },
  {
   "cell_type": "code",
   "execution_count": null,
   "id": "cdb1aed1-61dd-40a9-a84d-3584508a362e",
   "metadata": {
    "tags": []
   },
   "outputs": [],
   "source": [
    "row_sums"
   ]
  },
  {
   "cell_type": "code",
   "execution_count": null,
   "id": "b22e2806-2a0b-4eb8-bcb9-f881371de84e",
   "metadata": {
    "tags": []
   },
   "outputs": [],
   "source": [
    "proportions_df = adata_vis.obsm['q05_cell_abundance_w_sf'].div(row_sums, axis=0)"
   ]
  },
  {
   "cell_type": "code",
   "execution_count": null,
   "id": "0c61386a-99b2-489d-808d-b6e3cbe44422",
   "metadata": {
    "tags": []
   },
   "outputs": [],
   "source": [
    "proportions_df.columns =  adata_vis.uns['mod']['factor_names']"
   ]
  },
  {
   "cell_type": "code",
   "execution_count": null,
   "id": "8351f12f-c45b-4da3-b544-bde0e5b469f5",
   "metadata": {
    "tags": []
   },
   "outputs": [],
   "source": [
    "proportions_df"
   ]
  },
  {
   "cell_type": "code",
   "execution_count": null,
   "id": "f67a6eae-862f-4244-b25f-89e36cad5d4b",
   "metadata": {
    "tags": []
   },
   "outputs": [],
   "source": [
    "df_merged_prop = pd.merge(adata_concat.obs, proportions_df,  left_index=True, right_index=True)"
   ]
  },
  {
   "cell_type": "code",
   "execution_count": null,
   "id": "8e245e78-2ef0-4933-82cb-15ddce2a2297",
   "metadata": {
    "tags": []
   },
   "outputs": [],
   "source": [
    "df_merged_prop['all_conditions'] = df_merged_prop['Gender'].astype(str) + '-' + df_merged_prop['zonation'].astype(str) + '-' + df_merged_prop['Condition'].astype(str)\n",
    "df_merged_prop['sex_treatment'] = df_merged_prop['Gender'].astype(str) + '-'  + df_merged_prop['Condition'].astype(str)\n",
    "df_merged_prop['sex_zonation'] = df_merged_prop['Gender'].astype(str) + '-'  + df_merged_prop['zonation'].astype(str)\n",
    "df_merged_prop['zonation_treatment'] = df_merged_prop['zonation'].astype(str) + '-'  + df_merged_prop['Condition'].astype(str)"
   ]
  },
  {
   "cell_type": "code",
   "execution_count": null,
   "id": "c6cf051d-44ae-4650-a92b-8ce90e7bf6e7",
   "metadata": {
    "tags": []
   },
   "outputs": [],
   "source": [
    "# EDA: Plotting the distribution of a cell type across conditions\n",
    "\n",
    "for current_celltype in adata_vis.uns['mod']['factor_names']: \n",
    "    sns.boxplot(x='all_conditions', y=current_celltype, data=df_merged_prop, showfliers=False)\n",
    "    plt.xticks(rotation=90)\n",
    "    plt.show()"
   ]
  },
  {
   "cell_type": "code",
   "execution_count": null,
   "id": "2b98a82f-e7e5-43e6-986a-033789b08fbd",
   "metadata": {
    "tags": []
   },
   "outputs": [],
   "source": [
    "for current_celltype in adata_vis.uns['mod']['factor_names']: \n",
    "    sns.boxplot(x='Gender', y=current_celltype, data=df_merged_prop, showfliers=False)\n",
    "    plt.xticks(rotation=90)\n",
    "    plt.show()"
   ]
  },
  {
   "cell_type": "code",
   "execution_count": null,
   "id": "1a1af949-9285-4467-bdce-b3e6523ff343",
   "metadata": {
    "tags": []
   },
   "outputs": [],
   "source": [
    "for current_celltype in adata_vis.uns['mod']['factor_names']: \n",
    "    sns.boxplot(x='zonation', y=current_celltype, data=df_merged_prop, showfliers=False)\n",
    "    plt.xticks(rotation=90)\n",
    "    plt.show()"
   ]
  },
  {
   "cell_type": "code",
   "execution_count": null,
   "id": "ed27fa25-3785-41fb-a78a-fd19d1ef22bb",
   "metadata": {
    "tags": []
   },
   "outputs": [],
   "source": [
    "for current_celltype in adata_vis.uns['mod']['factor_names']: \n",
    "    sns.boxplot(x='Condition', y=current_celltype, data=df_merged_prop, showfliers=False)\n",
    "    plt.xticks(rotation=90)\n",
    "    plt.show()"
   ]
  },
  {
   "cell_type": "code",
   "execution_count": null,
   "id": "387cebba-cf3b-4943-805a-2d3aa43256f4",
   "metadata": {},
   "outputs": [],
   "source": [
    "for current_celltype in adata_vis.uns['mod']['factor_names']: \n",
    "    sns.boxplot(x='sex_treatment', y=current_celltype, data=df_merged_prop, showfliers=False)\n",
    "    plt.xticks(rotation=90)\n",
    "    plt.show()"
   ]
  },
  {
   "cell_type": "code",
   "execution_count": null,
   "id": "9e6ad459-b439-4107-82ea-4d2bd8148eb5",
   "metadata": {},
   "outputs": [],
   "source": [
    "for current_celltype in adata_vis.uns['mod']['factor_names']: \n",
    "    sns.boxplot(x='sex_zonation', y=current_celltype, data=df_merged_prop, showfliers=False)\n",
    "    plt.xticks(rotation=90)\n",
    "    plt.show()"
   ]
  },
  {
   "cell_type": "code",
   "execution_count": null,
   "id": "040b9ca5-a404-4bd9-b5c3-aee040602178",
   "metadata": {},
   "outputs": [],
   "source": [
    "for current_celltype in adata_vis.uns['mod']['factor_names']: \n",
    "    sns.boxplot(x='zonation_treatment', y=current_celltype, data=df_merged_prop, showfliers=False)\n",
    "    plt.xticks(rotation=90)\n",
    "    plt.show()"
   ]
  },
  {
   "cell_type": "markdown",
   "id": "e5c296cb-703f-48aa-936f-37b92f0981c1",
   "metadata": {},
   "source": [
    "## Since we have a lot of values close to zero for some cell types, I would apply Log Transformation to help manage the data skweness and a permutation test to help assess the differences between conditions. I will also separate the analysis between males and females given what we show before. "
   ]
  },
  {
   "cell_type": "code",
   "execution_count": null,
   "id": "ac8e6033-1beb-4dd3-9d7d-a8bc46d3dc61",
   "metadata": {
    "tags": []
   },
   "outputs": [],
   "source": [
    "# from scipy.stats import mannwhitneyu"
   ]
  },
  {
   "cell_type": "code",
   "execution_count": null,
   "id": "abe5f7ad-08ad-4b09-b1d0-e718ed29819d",
   "metadata": {
    "tags": []
   },
   "outputs": [],
   "source": [
    "# df_cellabundance = adata_vis.obsm['q05_cell_abundance_w_sf'].copy()"
   ]
  },
  {
   "cell_type": "code",
   "execution_count": null,
   "id": "2eca7f88-e829-471a-a203-10e3da905215",
   "metadata": {
    "tags": []
   },
   "outputs": [],
   "source": [
    "# df_cellabundance_logTrans = np.log1p(df_cellabundance) "
   ]
  },
  {
   "cell_type": "code",
   "execution_count": null,
   "id": "66d4845a-5166-4311-b7e1-5acdbe9a4683",
   "metadata": {
    "tags": []
   },
   "outputs": [],
   "source": [
    "# df_cellabundance_logTrans.columns =  adata_vis.uns['mod']['factor_names']"
   ]
  },
  {
   "cell_type": "code",
   "execution_count": null,
   "id": "f6a79cdf-711b-4514-8b09-4de3cfee186d",
   "metadata": {
    "tags": []
   },
   "outputs": [],
   "source": [
    "# df_cellabundance_logTrans"
   ]
  },
  {
   "cell_type": "code",
   "execution_count": null,
   "id": "886bf976-f096-4a80-bdd0-cf73be5964dc",
   "metadata": {
    "tags": []
   },
   "outputs": [],
   "source": [
    "# df_merged_LogTrans = pd.merge(adata_vis.obs, df_cellabundance_logTrans,  left_index=True, right_index=True)"
   ]
  },
  {
   "cell_type": "code",
   "execution_count": null,
   "id": "2ae19c01-5c88-4e1e-a3ff-5abe0bed80c5",
   "metadata": {
    "tags": []
   },
   "outputs": [],
   "source": [
    "# df_merged_LogTrans"
   ]
  },
  {
   "cell_type": "code",
   "execution_count": null,
   "id": "32498e25-3c45-4d1b-9a74-9696ea177a3d",
   "metadata": {
    "tags": []
   },
   "outputs": [],
   "source": [
    "# df_merged_LogTrans_zonation = pd.merge(df_merged_LogTrans, pd.DataFrame(adata_concat.obs['zonation']),  left_index=True, right_index=True)"
   ]
  },
  {
   "cell_type": "code",
   "execution_count": null,
   "id": "eff5565f-2068-45b5-9c00-e7d7ff859aaf",
   "metadata": {
    "tags": []
   },
   "outputs": [],
   "source": [
    "# df_merged_LogTrans_zonation['conditions_region'] =  df_merged_LogTrans_zonation['zonation'].astype(str) + '_' + df_merged_LogTrans_zonation['Condition'].astype(str)"
   ]
  },
  {
   "cell_type": "code",
   "execution_count": null,
   "id": "d2da2376-1fec-41c8-8f15-6fd61de79014",
   "metadata": {
    "tags": []
   },
   "outputs": [],
   "source": [
    "# df_merged_LogTrans_zonation_males = df_merged_LogTrans_zonation[df_merged_LogTrans_zonation['Gender']=='Male']\n",
    "# df_merged_LogTrans_zonation_females = df_merged_LogTrans_zonation[df_merged_LogTrans_zonation['Gender']=='Female']"
   ]
  },
  {
   "cell_type": "code",
   "execution_count": null,
   "id": "ca348f54-d028-42fe-b102-93756e9a5152",
   "metadata": {},
   "outputs": [],
   "source": [
    "# Function to normalize data within each group\n",
    "# def normalize_data(group_values):\n",
    "#    mean = np.mean(group_values)\n",
    "#    std = np.std(group_values, ddof=1)  # Using sample standard deviation\n",
    "#    normalized_values = (group_values - mean) / std if std != 0 else group_values - mean\n",
    "#    return normalized_values\n",
    "\n",
    "# Adapted permutation test function for normalized data\n",
    "#def permutation_test_normalized(x, y, n_permutations=10000):\n",
    "    # Normalize both groups\n",
    "#    x_normalized = normalize_data(x)\n",
    "#    y_normalized = normalize_data(y)\n",
    "    \n",
    "    # Calculate the difference in normalized means\n",
    "#    diff_obs = np.abs(np.mean(x_normalized) - np.mean(y_normalized))\n",
    "#    count = 0\n",
    "#    for _ in range(n_permutations):\n",
    "#        combined = np.random.permutation(np.hstack((x_normalized, y_normalized)))\n",
    "#        new_x = combined[:len(x)]\n",
    "#        new_y = combined[len(x):]\n",
    "#        diff_perm = np.abs(np.mean(new_x) - np.mean(new_y))\n",
    "#        if diff_perm >= diff_obs:\n",
    "#            count += 1\n",
    "#    p_value = count / n_permutations\n",
    "#    return diff_obs, p_value"
   ]
  },
  {
   "cell_type": "code",
   "execution_count": null,
   "id": "96d155fc-3bd2-4f0b-a3d8-afbf4451516f",
   "metadata": {
    "tags": []
   },
   "outputs": [],
   "source": [
    "## For males\n",
    "\n",
    "# Compute the original test statistics (e.g., mean cell abundance for simplicity)\n",
    "# all_pvalues = []\n",
    "# all_statistic = []\n",
    "# all_celltypes = []\n",
    "# all_condition_regions = []\n",
    "\n",
    "# condition_regions = df_merged_LogTrans_zonation_males['conditions_region'].unique()\n",
    "# i=0\n",
    "# for cell_type in adata_vis.uns['mod']['factor_names']:\n",
    "#    for current_region in df_merged_LogTrans_zonation_males['zonation'].unique():\n",
    "#        subset_a = df_merged_LogTrans_zonation_males[(df_merged_LogTrans_zonation_males['Condition'] == current_condition) & (df_merged_LogTrans_zonation_males['zonation'] == current_region)][cell_type]\n",
    "#        for current_condition in df_merged_LogTrans_zonation_males['Condition'].unique():"
   ]
  },
  {
   "cell_type": "code",
   "execution_count": null,
   "id": "188f60a5-5f97-46d5-890c-587009f7ab35",
   "metadata": {
    "tags": []
   },
   "outputs": [],
   "source": [
    "# df_merged_LogTrans_zonation_males"
   ]
  },
  {
   "cell_type": "code",
   "execution_count": null,
   "id": "86c11c4b-21df-480d-a14a-f4e58b03505d",
   "metadata": {
    "tags": []
   },
   "outputs": [],
   "source": [
    "# condition_regions = df_merged_LogTrans_zonation_males['conditions_region'].unique()"
   ]
  },
  {
   "cell_type": "code",
   "execution_count": null,
   "id": "7584c037-c44c-4c1a-bd36-39f8286c96d9",
   "metadata": {
    "tags": []
   },
   "outputs": [],
   "source": [
    "# condition_regions.split('_')"
   ]
  },
  {
   "cell_type": "code",
   "execution_count": null,
   "id": "e4383a69-08a8-4e54-aa2c-d91efad9c24c",
   "metadata": {
    "tags": []
   },
   "outputs": [],
   "source": [
    "# condition_regions[0].split('_')"
   ]
  },
  {
   "cell_type": "code",
   "execution_count": null,
   "id": "eea11b58-78ff-45ee-a090-30c5d5156ca2",
   "metadata": {
    "tags": []
   },
   "outputs": [],
   "source": [
    "# vector1 = df_merged_LogTrans_zonation['Gender'].unique()\n",
    "# vector2 = df_merged_LogTrans_zonation['zonation'].unique()\n",
    "# vector3 = df_merged_LogTrans_zonation['Condition'].unique()\n",
    "# i=0\n",
    "\n",
    "# for cell_type in adata_vis.uns['mod']['factor_names']:\n",
    "# for current_sex in vector1: \n",
    "#    for current_condition, current_region in itertools.product(vector2, vector3):\n",
    "#        print(i)\n",
    "#        print(current_sex)\n",
    "#        print(current_condition)\n",
    "#        print(current_region)\n",
    "#        i +=1"
   ]
  },
  {
   "cell_type": "code",
   "execution_count": null,
   "id": "0bb3b551-0157-4f4e-9d8f-f3aea0efdc7e",
   "metadata": {
    "tags": []
   },
   "outputs": [],
   "source": [
    "! jupyter nbconvert --to html 21_02_Deconvolution_C2L_Proportions.ipynb"
   ]
  },
  {
   "cell_type": "code",
   "execution_count": null,
   "id": "1a7bc016-6eb3-40eb-9942-a5ba9d0121bd",
   "metadata": {},
   "outputs": [],
   "source": []
  }
 ],
 "metadata": {
  "kernelspec": {
   "display_name": "BeSpace_basic_env",
   "language": "python",
   "name": "bespace_basic_env"
  },
  "language_info": {
   "codemirror_mode": {
    "name": "ipython",
    "version": 3
   },
   "file_extension": ".py",
   "mimetype": "text/x-python",
   "name": "python",
   "nbconvert_exporter": "python",
   "pygments_lexer": "ipython3",
   "version": "3.9.18"
  }
 },
 "nbformat": 4,
 "nbformat_minor": 5
}
