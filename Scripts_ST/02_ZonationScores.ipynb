{
 "cells": [
  {
   "cell_type": "markdown",
   "id": "fa5ecfc1-8666-4f1e-a1ba-40d4e0a6b0c6",
   "metadata": {},
   "source": [
    "# Computing scores for a list of selected zonation markers in order to define PP and PC spots\n",
    "\n",
    "Based on the results presentedo on previous scripts, we selected a list of periportal (PP) and pericentral (PC) markers. We will use these genes to compute a per spot score that will help us to assign the spots to different regions. "
   ]
  },
  {
   "cell_type": "code",
   "execution_count": null,
   "id": "f7d6b741-bad3-40d6-afbe-e5783442a6fd",
   "metadata": {},
   "outputs": [],
   "source": [
    "import os\n",
    "import anndata as ad\n",
    "import numpy as np\n",
    "import scanpy as sc\n",
    "import pandas as pd\n",
    "import seaborn as sns\n",
    "import matplotlib.pyplot as plt\n",
    "from scipy.spatial import distance\n",
    "\n",
    "from wrapper_functions import *"
   ]
  },
  {
   "cell_type": "code",
   "execution_count": null,
   "id": "17bbf88e-47fc-4add-8dbe-30405c6955a9",
   "metadata": {},
   "outputs": [],
   "source": [
    "# Automatically re-load wrapper functions after an update\n",
    "# Find details here: https://ipython.readthedocs.io/en/stable/config/extensions/autoreload.html\n",
    "%load_ext autoreload\n",
    "%autoreload 2"
   ]
  },
  {
   "cell_type": "code",
   "execution_count": null,
   "id": "4f8040d5-5cba-446f-a256-daffe8520204",
   "metadata": {},
   "outputs": [],
   "source": [
    "organism = Organism.mouse\n",
    "analyze_params = Analyze(protocol=Protocol.FF, organism=organism)"
   ]
  },
  {
   "cell_type": "code",
   "execution_count": null,
   "id": "2efb94f3-9bf4-4ecf-9a68-58f68c96fe9c",
   "metadata": {},
   "outputs": [],
   "source": [
    "root_path = os.getcwd()\n",
    "inpath='your_inpath_folder' # Replace with the location of your samples\n",
    "results_folder = os.path.join(root_path, 'analyzed')"
   ]
  },
  {
   "cell_type": "code",
   "execution_count": null,
   "id": "39cedc76-e14d-4aca-a8aa-9bb2f40bb4cf",
   "metadata": {},
   "outputs": [],
   "source": [
    "file_names = [f for f in os.listdir(results_folder) if os.path.isfile(os.path.join(results_folder, f))]\n",
    "\n",
    "adata_list = [ad.read(os.path.join(results_folder, file)) for file in file_names if file.endswith('.h5ad')]"
   ]
  },
  {
   "cell_type": "code",
   "execution_count": null,
   "id": "4d4f314a-bc34-4452-abf5-49d98f948002",
   "metadata": {},
   "outputs": [],
   "source": [
    "Pericentral_markers = ['Glul','Cyp2e1','Oat','Slc1a2','Cyp1a2']\n",
    "Periportal_markers = ['Sds', 'Cyp2f2', 'Hal', 'Hsd17b13', 'Alb', 'Arg1', 'Pck1']"
   ]
  },
  {
   "cell_type": "code",
   "execution_count": null,
   "id": "a348682f-f46b-432d-8299-b94f4bfc291e",
   "metadata": {},
   "outputs": [],
   "source": [
    "for adata in adata_list:\n",
    "    \n",
    "    # We store the raw counts into the layers attribute for further usage. \n",
    "    adata.X = np.round(adata.X)\n",
    "    adata.layers['counts'] = adata.X.copy()\n",
    "\n",
    "    sc.pp.normalize_total(adata, inplace=True)\n",
    "    sc.pp.log1p(adata)\n",
    "    sc.pp.highly_variable_genes(adata, flavor=\"seurat\", n_top_genes=2000, inplace=True)\n",
    "    \n",
    "    adata.layers['normalized'] = adata.X\n",
    "    \n",
    "    sc.tl.score_genes(adata, gene_list=Pericentral_markers, score_name='Pericentral_Score')\n",
    "    sc.tl.score_genes(adata, gene_list=Periportal_markers, score_name='Periportal_Score')\n",
    "    \n",
    "    print(adata.obs['Sample_ID'].unique()[0])\n",
    "    print(adata.obs['Condition'].unique()[0])\n",
    "    print(adata.obs['Gender'].unique()[0])\n",
    "    \n",
    "    sc.pl.spatial(adata, color='Pericentral_Score')\n",
    "    sc.pl.spatial(adata, color='Periportal_Score')\n",
    "    \n",
    "    threshold_pericentral = np.percentile(adata.obs['Pericentral_Score'], 80)  # 90th percentile as threshold\n",
    "    threshold_periportal = np.percentile(adata.obs['Periportal_Score'], 80)  # 90th percentile as threshold\n",
    "    adata.obs['zonation'] = \"Other\"\n",
    "    \n",
    "    print(f\"# threshold_pericentral: {threshold_pericentral}\")\n",
    "    print(f\"#threshold_periportal : {threshold_periportal}\")\n",
    "    \n",
    "    adata.obs.loc[adata.obs['Pericentral_Score'] > threshold_pericentral, 'zonation'] = 'Pericentral'\n",
    "    adata.obs.loc[adata.obs['Periportal_Score'] > threshold_periportal, 'zonation'] = 'Periportal'\n",
    "    \n",
    "    \n",
    "    sc.pl.spatial(adata, color=[\"zonation\"], color_map=\"Set2\", size=1.5)"
   ]
  },
  {
   "cell_type": "code",
   "execution_count": null,
   "id": "224f3ed3-dcd8-4972-920d-18a1b6dc5ff1",
   "metadata": {},
   "outputs": [],
   "source": [
    "# transgene_id = 'cisAAV-CMV-GFP-WPRE'\n",
    "# df_results = pd.DataFrame(columns=['Sample_ID',  'condition', 'Gender', 'zonation', 'avg_expression'])\n",
    "\n",
    "\n",
    "# for adata in adata_list:\n",
    "    \n",
    "#    if transgene_id in adata.var.index:\n",
    "        \n",
    "        # Step 1: Get coordinates of spots labeled as your category\n",
    "#        coords = adata.obsm['spatial']\n",
    "#        pericentral_coords = coords[adata.obs['zonation'] == 'Pericentral']\n",
    "    \n",
    "        # Step 2: Compute distance of each spot to the nearest labeled spot\n",
    "#        distances = np.min(distance.cdist(coords, pericentral_coords, 'euclidean'), axis=1)\n",
    "    \n",
    "        # Step 3: Bin the distances (e.g., in 10-unit ranges)\n",
    "        # bins = np.arange(0, distances.max(), 200)\n",
    "        # adata.obs['distance_bin'] = pd.cut(distances, bins=bins)\n",
    "    \n",
    "#        current_sample = adata.obs['Sample_ID'].unique()[0]\n",
    "#        current_condition = adata.obs['Condition'].unique()[0]\n",
    "#        current_gender = adata.obs['Gender'].unique()[0]\n",
    "        \n",
    "#        print(current_sample)\n",
    "#        print(current_condition)\n",
    "#        print(current_gender)\n",
    "        \n",
    "#        sc.pl.violin(adata, keys=transgene_id, groupby='zonation', rotation=90)\n",
    "        \n",
    "        \n",
    "        # Step 4: Compute average gene expression for each distance bin\n",
    "#        gene_idx = adata.var_names.get_loc(transgene_id)\n",
    "#        adata.obs[transgene_id] = adata.X[:, gene_idx].toarray().squeeze()\n",
    "#        adata.obs['distance'] = distances\n",
    "        \n",
    "        # sns.scatterplot(data=adata.obs, x='distance', y=transgene_id)\n",
    "        # plt.show()\n",
    "#        sns.regplot(data=adata.obs, x='distance', y=transgene_id)\n",
    "#        plt.show()\n",
    "        # sns.violinplot(x=\"distance\", y=transgene_id, data=adata.obs)\n",
    "        # plt.show()\n",
    "           \n",
    "        \n",
    "        # We store in a data frame some information for further visualization\n",
    "        \n",
    " #       avg_expr_per_zonation = adata.obs.groupby('zonation')[transgene_id].mean()\n",
    "        \n",
    "#       for zonation, avg_expr in avg_expr_per_zonation.items():\n",
    "#            df_results = df_results.append({\n",
    "#                'Sample_ID': current_sample,\n",
    "#                'condition': current_condition,\n",
    "#                'Gender': current_gender,\n",
    "#                'zonation': zonation,\n",
    "#                'avg_expression': avg_expr\n",
    "#            }, ignore_index=True)"
   ]
  },
  {
   "cell_type": "code",
   "execution_count": null,
   "id": "3f01fc6c-989e-4796-8e97-ae5de6b7cb7c",
   "metadata": {
    "tags": []
   },
   "outputs": [],
   "source": [
    "transgene_id = 'cisAAV-CMV-GFP-WPRE'\n",
    "df_results = pd.DataFrame(columns=['Sample_ID', 'condition', 'Gender', 'zonation', 'avg_expression'])\n",
    "\n",
    "rows_to_add = []  # List to collect rows\n",
    "\n",
    "for adata in adata_list:\n",
    "    \n",
    "    if transgene_id in adata.var.index:\n",
    "        \n",
    "        # Get coordinates of spots labeled as your category\n",
    "        coords = adata.obsm['spatial']\n",
    "        pericentral_coords = coords[adata.obs['zonation'] == 'Pericentral']\n",
    "    \n",
    "        # Compute distance of each spot to the nearest labeled spot\n",
    "        distances = np.min(distance.cdist(coords, pericentral_coords, 'euclidean'), axis=1)\n",
    "    \n",
    "        current_sample = adata.obs['Sample_ID'].unique()[0]\n",
    "        current_condition = adata.obs['Condition'].unique()[0]\n",
    "        current_gender = adata.obs['Gender'].unique()[0]\n",
    "        \n",
    "        print(current_sample)\n",
    "        print(current_condition)\n",
    "        print(current_gender)\n",
    "        \n",
    "        sc.pl.violin(adata, keys=transgene_id, groupby='zonation', rotation=90)\n",
    "        \n",
    "        # Compute average gene expression for each distance bin\n",
    "        gene_idx = adata.var_names.get_loc(transgene_id)\n",
    "        adata.obs[transgene_id] = adata.X[:, gene_idx].toarray().squeeze()\n",
    "        adata.obs['distance'] = distances\n",
    "        \n",
    "        sns.regplot(data=adata.obs, x='distance', y=transgene_id)\n",
    "        plt.show()\n",
    "        \n",
    "        # Store in a data frame some information for further visualization\n",
    "        avg_expr_per_zonation = adata.obs.groupby('zonation')[transgene_id].mean()\n",
    "        \n",
    "        for zonation, avg_expr in avg_expr_per_zonation.items():\n",
    "            # Instead of appending directly, we add to the list\n",
    "            rows_to_add.append({\n",
    "                'Sample_ID': current_sample,\n",
    "                'condition': current_condition,\n",
    "                'Gender': current_gender,\n",
    "                'zonation': zonation,\n",
    "                'avg_expression': avg_expr\n",
    "            })\n",
    "\n",
    "# After the loop, concatenate all collected rows\n",
    "df_results = pd.concat([df_results, pd.DataFrame(rows_to_add)], ignore_index=True)"
   ]
  },
  {
   "cell_type": "code",
   "execution_count": null,
   "id": "de9181b0-0a2e-4f03-b8d7-9fbfe8692674",
   "metadata": {},
   "outputs": [],
   "source": [
    "df_results"
   ]
  },
  {
   "cell_type": "code",
   "execution_count": null,
   "id": "bc30641b-5bd5-4a91-9dc0-6ab2f95d03d8",
   "metadata": {},
   "outputs": [],
   "source": [
    "g = sns.FacetGrid(df_results, row=\"condition\", col=\"Gender\", height=4, aspect=1.5)\n",
    "g.map(sns.violinplot, \"zonation\", \"avg_expression\", order=[\"Pericentral\", \"Periportal\", \"Other\"])"
   ]
  },
  {
   "cell_type": "code",
   "execution_count": null,
   "id": "eaf09e4b-d47c-4964-a5ef-4b8cab76b208",
   "metadata": {},
   "outputs": [],
   "source": [
    "df_results"
   ]
  },
  {
   "cell_type": "code",
   "execution_count": null,
   "id": "a020a295-6810-4712-a56f-92369125ee5c",
   "metadata": {},
   "outputs": [],
   "source": [
    "from scipy.stats import ttest_ind, mannwhitneyu\n",
    "\n",
    "g = sns.catplot(data=df_results, x=\"zonation\", y=\"avg_expression\", hue=\"Gender\", col=\"condition\", kind=\"bar\", height=4, aspect=1, errorbar='sd')\n",
    "g.set_axis_labels(\"Zone\", \"Average Expression\").set_titles(\"Condition {col_name}\")\n",
    "\n",
    "# Ensure correct order of conditions\n",
    "condition_order = g.col_names  \n",
    "grouped_df = df_results.groupby(\"condition\")\n",
    "\n",
    "# Perform statistical tests and annotate p-values at fixed y=3 in correct order\n",
    "for ax, condition in zip(g.axes.flat, condition_order):  # Now matches plot order\n",
    "    sub_df = grouped_df.get_group(condition)  # Get data for the correct condition\n",
    "\n",
    "    for i, zonation in enumerate(sub_df[\"zonation\"].unique()):\n",
    "        subset = sub_df[sub_df[\"zonation\"] == zonation]\n",
    "        male_values = subset[subset[\"Gender\"] == \"Male\"][\"avg_expression\"]\n",
    "        female_values = subset[subset[\"Gender\"] == \"Female\"][\"avg_expression\"]\n",
    "\n",
    "        # Perform statistical test\n",
    "        if len(male_values) > 1 and len(female_values) > 1:\n",
    "            stat, p_value = ttest_ind(male_values, female_values, equal_var=False)  # Welch’s t-test\n",
    "            # stat, p_value = mannwhitneyu(male_values, female_values, alternative=\"two-sided\")  # Optional\n",
    "        else:\n",
    "            p_value = None\n",
    "\n",
    "        # Annotate with p-value at fixed y=3\n",
    "        if p_value is not None:\n",
    "            text = f\"p = {p_value:.3f}\" if p_value >= 0.001 else \"p < 0.001\"\n",
    "            ax.text(x=i,  # Changing along x-axis (zonation)\n",
    "                    y=3,  # Fixed position at y=3\n",
    "                    s=text, \n",
    "                    ha=\"center\", fontsize=10, color=\"black\", weight=\"bold\")\n",
    "\n",
    "plt.show()"
   ]
  },
  {
   "cell_type": "code",
   "execution_count": null,
   "id": "5619afce-bc03-4a38-95fc-de039f995853",
   "metadata": {},
   "outputs": [],
   "source": [
    "g = sns.relplot(data=df_results, x=\"zonation\", y=\"avg_expression\", hue=\"Gender\", col=\"condition\", kind=\"line\", height=4, aspect=1, errorbar='sd')\n",
    "g.set_axis_labels(\"Zone\", \"Average Expression\").set_titles(\"Condition {col_name}\")\n",
    "\n",
    "plt.show()"
   ]
  },
  {
   "cell_type": "code",
   "execution_count": null,
   "id": "be2e7c1b-0b4d-4ddf-910f-47f28e6921a3",
   "metadata": {
    "tags": []
   },
   "outputs": [],
   "source": [
    "df_results_v2 = df_results\n",
    "df_results_v2['zonation']=df_results_v2['zonation'].replace('Other', 'Intermediate')"
   ]
  },
  {
   "cell_type": "code",
   "execution_count": null,
   "id": "16d79b07-65a0-4972-89db-a5f77cc21b9a",
   "metadata": {
    "tags": []
   },
   "outputs": [],
   "source": [
    "df_results_v2"
   ]
  },
  {
   "cell_type": "code",
   "execution_count": null,
   "id": "556e11be-6762-4318-80c5-689a67818b35",
   "metadata": {
    "tags": []
   },
   "outputs": [],
   "source": [
    "zonation_order  = ['Pericentral','Intermediate','Periportal']\n",
    "df_results_v2[\"zonation\"] = pd.Categorical(df_results_v2[\"zonation\"], categories=zonation_order, ordered=True)"
   ]
  },
  {
   "cell_type": "code",
   "execution_count": null,
   "id": "c645a915-f581-4116-82ce-d86070498a13",
   "metadata": {
    "tags": []
   },
   "outputs": [],
   "source": [
    "g = sns.catplot(data=df_results_v2, x=\"zonation\", y=\"avg_expression\", hue=\"Gender\", col=\"condition\", kind=\"bar\", height=4, aspect=1, errorbar='sd', order=zonation_order)\n",
    "g.set_axis_labels(\"Zone\", \"Average Expression\").set_titles(\"Condition {col_name}\")\n",
    "\n",
    "# Ensure correct order of conditions\n",
    "condition_order = g.col_names  \n",
    "grouped_df = df_results_v2.groupby(\"condition\")\n",
    "\n",
    "# Perform statistical tests and annotate p-values at fixed y=3 in correct order\n",
    "for ax, condition in zip(g.axes.flat, condition_order):  # Now matches plot order\n",
    "    sub_df = grouped_df.get_group(condition)  # Get data for the correct condition\n",
    "    \n",
    "    for i, zonation in enumerate(zonation_order):  # Use the correct zonation order\n",
    "        subset = sub_df[sub_df[\"zonation\"] == zonation]\n",
    "        male_values = subset[subset[\"Gender\"] == \"Male\"][\"avg_expression\"]\n",
    "        female_values = subset[subset[\"Gender\"] == \"Female\"][\"avg_expression\"]\n",
    "\n",
    "        # Perform statistical test\n",
    "        if len(male_values) > 1 and len(female_values) > 1:\n",
    "            stat, p_value = ttest_ind(male_values, female_values, equal_var=False)  # Welch’s t-test\n",
    "            # stat, p_value = mannwhitneyu(male_values, female_values, alternative=\"two-sided\")  # Optional\n",
    "        else:\n",
    "            p_value = None\n",
    "\n",
    "        # Annotate with p-value at fixed y=3\n",
    "        if p_value is not None:\n",
    "            text = f\"p = {p_value:.3f}\" if p_value >= 0.001 else \"p < 0.001\"\n",
    "            ax.text(x=i,  # Changing along x-axis (zonation) in correct order\n",
    "                    y=3.25,  # Fixed position at y=3\n",
    "                    s=text, \n",
    "                    ha=\"center\", fontsize=10, color=\"black\", weight=\"bold\")\n",
    "\n",
    "plt.show()"
   ]
  },
  {
   "cell_type": "code",
   "execution_count": null,
   "id": "c9a1c035-f7af-4069-939c-f1b1a3394adf",
   "metadata": {},
   "outputs": [],
   "source": [
    "# for current_adata in adata_list:\n",
    "#    current_sample = np.asarray(current_adata.obs[\"Sample_ID\"].unique())\n",
    "#    filename = 'adata_zonation_' + current_sample[0] + '.h5ad'\n",
    "#    current_adata.write(os.path.join(results_folder, 'zonation' , filename))"
   ]
  },
  {
   "cell_type": "code",
   "execution_count": null,
   "id": "1401a918-2c61-4dbb-a25f-1affe0b4b719",
   "metadata": {},
   "outputs": [],
   "source": [
    "! jupyter nbconvert --to html 12_ZonationScores.ipynb"
   ]
  },
  {
   "cell_type": "code",
   "execution_count": null,
   "id": "bcd828fb-005f-48f9-acba-0a4bd96d1331",
   "metadata": {},
   "outputs": [],
   "source": []
  }
 ],
 "metadata": {
  "kernelspec": {
   "display_name": "BeSpace_basic_env",
   "language": "python",
   "name": "bespace_basic_env"
  },
  "language_info": {
   "codemirror_mode": {
    "name": "ipython",
    "version": 3
   },
   "file_extension": ".py",
   "mimetype": "text/x-python",
   "name": "python",
   "nbconvert_exporter": "python",
   "pygments_lexer": "ipython3",
   "version": "3.9.18"
  }
 },
 "nbformat": 4,
 "nbformat_minor": 5
}
